{
 "cells": [
  {
   "cell_type": "code",
   "execution_count": 17,
   "metadata": {},
   "outputs": [],
   "source": [
    "import os\n",
    "import numpy as np\n",
    "from sklearn.model_selection import train_test_split\n",
    "from sklearn.preprocessing import LabelBinarizer\n",
    "from tensorflow.keras.models import Sequential\n",
    "from tensorflow.keras.layers import LSTM, Dropout, Dense\n"
   ]
  },
  {
   "cell_type": "code",
   "execution_count": 19,
   "metadata": {},
   "outputs": [],
   "source": [
    "# 설정\n",
    "os.environ['CUDA_VISIBLE_DEVICES'] = '1'\n",
    "os.environ['TF_FORCE_GPU_ALLOW_GROWTH'] = 'true'"
   ]
  },
  {
   "cell_type": "code",
   "execution_count": 20,
   "metadata": {},
   "outputs": [
    {
     "name": "stdout",
     "output_type": "stream",
     "text": [
      "/Users/mi-yeonlim/Documents/Github/translate-handsign\n"
     ]
    }
   ],
   "source": [
    "%pwd\n",
    "%cd .."
   ]
  },
  {
   "cell_type": "code",
   "execution_count": 21,
   "metadata": {},
   "outputs": [],
   "source": [
    "\n",
    "#  데이터 로드\n",
    "actions = [\n",
    "    \"답답하다\", \"땀난다\", \"베였다\", \"부었다\", \"불편하다\",\n",
    "    \"아프다\", \"어지럽다\", \"열난다\", \"지속된다\", \"피곤하다\"\n",
    "]\n",
    "time_nums = ['1744797254', '1744797393', '1744797530']\n",
    "base_path = 'dataset'\n",
    "all_data = []\n",
    "\n"
   ]
  },
  {
   "cell_type": "code",
   "execution_count": 22,
   "metadata": {},
   "outputs": [],
   "source": [
    "for time_num in time_nums:\n",
    "    for action in actions:\n",
    "        file_path = f'{base_path}/seq_{action}_{time_num}.npy'\n",
    "        if os.path.exists(file_path):\n",
    "            data = np.load(file_path)\n",
    "            all_data.append(data)\n",
    "        else:\n",
    "            print(f\"❌ 존재하지 않음: {file_path}\")\n",
    "\n",
    "if not all_data:\n",
    "    raise ValueError(\"❌ 유효한 데이터가 없습니다. npy 파일을 먼저 생성하세요.\")\n"
   ]
  },
  {
   "cell_type": "code",
   "execution_count": 23,
   "metadata": {},
   "outputs": [
    {
     "name": "stdout",
     "output_type": "stream",
     "text": [
      "✅ 전체 데이터 shape: (1353, 10, 56)\n"
     ]
    }
   ],
   "source": [
    "# 데이터 결합\n",
    "if not all_data:\n",
    "    raise ValueError(\"❌ 유효한 데이터가 없습니다. npy 파일을 먼저 생성하세요.\")\n",
    "data = np.concatenate(all_data, axis=0)\n",
    "print(\"✅ 전체 데이터 shape:\", data.shape)"
   ]
  },
  {
   "cell_type": "code",
   "execution_count": 24,
   "metadata": {},
   "outputs": [],
   "source": [
    "#  Feature(X), Label(y) 분리\n",
    "x_data = data[:, :, :-1]     # 시퀀스의 피처 (마지막 컬럼 제외)\n",
    "labels = data[:, 0, -1]      # 라벨은 첫 프레임의 마지막 값"
   ]
  },
  {
   "cell_type": "code",
   "execution_count": 25,
   "metadata": {},
   "outputs": [],
   "source": [
    "# 라벨 인코딩\n",
    "lb = LabelBinarizer()\n",
    "labels_encoded = lb.fit_transform(labels)"
   ]
  },
  {
   "cell_type": "code",
   "execution_count": 26,
   "metadata": {},
   "outputs": [
    {
     "name": "stdout",
     "output_type": "stream",
     "text": [
      "훈련 샘플 수: 1082\n",
      "테스트 샘플 수: 271\n",
      "훈련 입력 shape: (1082, 10, 55)\n"
     ]
    }
   ],
   "source": [
    "\n",
    "# 학습/테스트 분할\n",
    "X_train, X_test, y_train, y_test = train_test_split(\n",
    "    x_data,\n",
    "    labels_encoded,\n",
    "    test_size=0.2,\n",
    "    random_state=42,\n",
    "    stratify=labels\n",
    ")\n",
    "print('훈련 샘플 수:', len(X_train))\n",
    "print('테스트 샘플 수:', len(X_test))\n",
    "print(\"훈련 입력 shape:\", X_train.shape)"
   ]
  },
  {
   "cell_type": "code",
   "execution_count": 27,
   "metadata": {},
   "outputs": [
    {
     "name": "stderr",
     "output_type": "stream",
     "text": [
      "/opt/anaconda3/envs/hi/lib/python3.10/site-packages/keras/src/layers/rnn/rnn.py:200: UserWarning: Do not pass an `input_shape`/`input_dim` argument to a layer. When using Sequential models, prefer using an `Input(shape)` object as the first layer in the model instead.\n",
      "  super().__init__(**kwargs)\n"
     ]
    }
   ],
   "source": [
    "# 모델 구성 (입력 피처 수 = 55)\n",
    "model = Sequential([\n",
    "    LSTM(64, return_sequences=True, activation='relu', input_shape=(10, 55)),\n",
    "    Dropout(0.3),\n",
    "    LSTM(64, return_sequences=False, activation='relu'),\n",
    "    Dropout(0.3),\n",
    "    Dense(64, activation='relu'),\n",
    "    Dense(len(actions), activation='softmax')\n",
    "])\n",
    "model.compile(optimizer='adam', loss='categorical_crossentropy', metrics=['accuracy'])"
   ]
  },
  {
   "cell_type": "code",
   "execution_count": 28,
   "metadata": {},
   "outputs": [
    {
     "name": "stdout",
     "output_type": "stream",
     "text": [
      "Epoch 1/30\n",
      "\u001b[1m34/34\u001b[0m \u001b[32m━━━━━━━━━━━━━━━━━━━━\u001b[0m\u001b[37m\u001b[0m \u001b[1m10s\u001b[0m 204ms/step - accuracy: 0.2150 - loss: 21.7165 - val_accuracy: 0.7122 - val_loss: 4.5131\n",
      "Epoch 2/30\n",
      "\u001b[1m34/34\u001b[0m \u001b[32m━━━━━━━━━━━━━━━━━━━━\u001b[0m\u001b[37m\u001b[0m \u001b[1m6s\u001b[0m 179ms/step - accuracy: 0.5902 - loss: 3.9184 - val_accuracy: 0.8487 - val_loss: 1.4747\n",
      "Epoch 3/30\n",
      "\u001b[1m34/34\u001b[0m \u001b[32m━━━━━━━━━━━━━━━━━━━━\u001b[0m\u001b[37m\u001b[0m \u001b[1m6s\u001b[0m 180ms/step - accuracy: 0.7227 - loss: 2.1337 - val_accuracy: 0.9299 - val_loss: 0.2922\n",
      "Epoch 4/30\n",
      "\u001b[1m34/34\u001b[0m \u001b[32m━━━━━━━━━━━━━━━━━━━━\u001b[0m\u001b[37m\u001b[0m \u001b[1m6s\u001b[0m 178ms/step - accuracy: 0.8307 - loss: 2.2125 - val_accuracy: 0.8967 - val_loss: 3.1607\n",
      "Epoch 5/30\n",
      "\u001b[1m34/34\u001b[0m \u001b[32m━━━━━━━━━━━━━━━━━━━━\u001b[0m\u001b[37m\u001b[0m \u001b[1m6s\u001b[0m 180ms/step - accuracy: 0.7402 - loss: 3.4332 - val_accuracy: 0.8487 - val_loss: 1.8288\n",
      "Epoch 6/30\n",
      "\u001b[1m34/34\u001b[0m \u001b[32m━━━━━━━━━━━━━━━━━━━━\u001b[0m\u001b[37m\u001b[0m \u001b[1m6s\u001b[0m 179ms/step - accuracy: 0.6414 - loss: 6.7106 - val_accuracy: 0.8229 - val_loss: 1.2774\n",
      "Epoch 7/30\n",
      "\u001b[1m34/34\u001b[0m \u001b[32m━━━━━━━━━━━━━━━━━━━━\u001b[0m\u001b[37m\u001b[0m \u001b[1m6s\u001b[0m 179ms/step - accuracy: 0.6851 - loss: 4.1331 - val_accuracy: 0.8303 - val_loss: 1.4870\n",
      "Epoch 8/30\n",
      "\u001b[1m34/34\u001b[0m \u001b[32m━━━━━━━━━━━━━━━━━━━━\u001b[0m\u001b[37m\u001b[0m \u001b[1m6s\u001b[0m 179ms/step - accuracy: 0.8073 - loss: 1.1591 - val_accuracy: 0.8856 - val_loss: 0.5188\n",
      "Epoch 9/30\n",
      "\u001b[1m34/34\u001b[0m \u001b[32m━━━━━━━━━━━━━━━━━━━━\u001b[0m\u001b[37m\u001b[0m \u001b[1m6s\u001b[0m 179ms/step - accuracy: 0.8531 - loss: 0.7982 - val_accuracy: 0.9631 - val_loss: 0.2096\n",
      "Epoch 10/30\n",
      "\u001b[1m34/34\u001b[0m \u001b[32m━━━━━━━━━━━━━━━━━━━━\u001b[0m\u001b[37m\u001b[0m \u001b[1m6s\u001b[0m 179ms/step - accuracy: 0.8817 - loss: 0.6275 - val_accuracy: 0.9705 - val_loss: 0.1069\n",
      "Epoch 11/30\n",
      "\u001b[1m34/34\u001b[0m \u001b[32m━━━━━━━━━━━━━━━━━━━━\u001b[0m\u001b[37m\u001b[0m \u001b[1m6s\u001b[0m 178ms/step - accuracy: 0.8806 - loss: 0.5314 - val_accuracy: 0.9889 - val_loss: 0.0619\n",
      "Epoch 12/30\n",
      "\u001b[1m34/34\u001b[0m \u001b[32m━━━━━━━━━━━━━━━━━━━━\u001b[0m\u001b[37m\u001b[0m \u001b[1m6s\u001b[0m 179ms/step - accuracy: 0.9253 - loss: 0.3723 - val_accuracy: 0.9779 - val_loss: 0.0434\n",
      "Epoch 13/30\n",
      "\u001b[1m34/34\u001b[0m \u001b[32m━━━━━━━━━━━━━━━━━━━━\u001b[0m\u001b[37m\u001b[0m \u001b[1m6s\u001b[0m 180ms/step - accuracy: 0.9407 - loss: 0.2604 - val_accuracy: 0.9815 - val_loss: 0.0421\n",
      "Epoch 14/30\n",
      "\u001b[1m34/34\u001b[0m \u001b[32m━━━━━━━━━━━━━━━━━━━━\u001b[0m\u001b[37m\u001b[0m \u001b[1m6s\u001b[0m 182ms/step - accuracy: 0.9209 - loss: 0.3642 - val_accuracy: 0.9742 - val_loss: 0.0620\n",
      "Epoch 15/30\n",
      "\u001b[1m34/34\u001b[0m \u001b[32m━━━━━━━━━━━━━━━━━━━━\u001b[0m\u001b[37m\u001b[0m \u001b[1m6s\u001b[0m 182ms/step - accuracy: 0.9372 - loss: 0.4304 - val_accuracy: 1.0000 - val_loss: 0.0110\n",
      "Epoch 16/30\n",
      "\u001b[1m34/34\u001b[0m \u001b[32m━━━━━━━━━━━━━━━━━━━━\u001b[0m\u001b[37m\u001b[0m \u001b[1m6s\u001b[0m 181ms/step - accuracy: 0.9365 - loss: 0.3859 - val_accuracy: 0.9926 - val_loss: 0.0205\n",
      "Epoch 17/30\n",
      "\u001b[1m34/34\u001b[0m \u001b[32m━━━━━━━━━━━━━━━━━━━━\u001b[0m\u001b[37m\u001b[0m \u001b[1m6s\u001b[0m 179ms/step - accuracy: 0.9491 - loss: 0.2065 - val_accuracy: 0.9926 - val_loss: 0.0812\n",
      "Epoch 18/30\n",
      "\u001b[1m34/34\u001b[0m \u001b[32m━━━━━━━━━━━━━━━━━━━━\u001b[0m\u001b[37m\u001b[0m \u001b[1m6s\u001b[0m 178ms/step - accuracy: 0.9549 - loss: 0.1803 - val_accuracy: 0.9963 - val_loss: 0.0087\n",
      "Epoch 19/30\n",
      "\u001b[1m34/34\u001b[0m \u001b[32m━━━━━━━━━━━━━━━━━━━━\u001b[0m\u001b[37m\u001b[0m \u001b[1m6s\u001b[0m 179ms/step - accuracy: 0.9457 - loss: 0.3433 - val_accuracy: 0.9889 - val_loss: 0.0166\n",
      "Epoch 20/30\n",
      "\u001b[1m34/34\u001b[0m \u001b[32m━━━━━━━━━━━━━━━━━━━━\u001b[0m\u001b[37m\u001b[0m \u001b[1m6s\u001b[0m 182ms/step - accuracy: 0.9596 - loss: 0.1725 - val_accuracy: 0.9963 - val_loss: 0.0127\n",
      "Epoch 21/30\n",
      "\u001b[1m34/34\u001b[0m \u001b[32m━━━━━━━━━━━━━━━━━━━━\u001b[0m\u001b[37m\u001b[0m \u001b[1m6s\u001b[0m 185ms/step - accuracy: 0.9718 - loss: 0.1422 - val_accuracy: 0.9926 - val_loss: 0.0241\n",
      "Epoch 22/30\n",
      "\u001b[1m34/34\u001b[0m \u001b[32m━━━━━━━━━━━━━━━━━━━━\u001b[0m\u001b[37m\u001b[0m \u001b[1m6s\u001b[0m 185ms/step - accuracy: 0.9709 - loss: 0.1615 - val_accuracy: 0.9963 - val_loss: 0.0060\n",
      "Epoch 23/30\n",
      "\u001b[1m34/34\u001b[0m \u001b[32m━━━━━━━━━━━━━━━━━━━━\u001b[0m\u001b[37m\u001b[0m \u001b[1m6s\u001b[0m 182ms/step - accuracy: 0.9893 - loss: 0.1659 - val_accuracy: 0.9963 - val_loss: 0.0067\n",
      "Epoch 24/30\n",
      "\u001b[1m34/34\u001b[0m \u001b[32m━━━━━━━━━━━━━━━━━━━━\u001b[0m\u001b[37m\u001b[0m \u001b[1m6s\u001b[0m 181ms/step - accuracy: 0.9852 - loss: 0.0536 - val_accuracy: 0.9963 - val_loss: 0.0068\n",
      "Epoch 25/30\n",
      "\u001b[1m34/34\u001b[0m \u001b[32m━━━━━━━━━━━━━━━━━━━━\u001b[0m\u001b[37m\u001b[0m \u001b[1m6s\u001b[0m 187ms/step - accuracy: 0.9776 - loss: 0.0935 - val_accuracy: 1.0000 - val_loss: 0.0037\n",
      "Epoch 26/30\n",
      "\u001b[1m34/34\u001b[0m \u001b[32m━━━━━━━━━━━━━━━━━━━━\u001b[0m\u001b[37m\u001b[0m \u001b[1m7s\u001b[0m 199ms/step - accuracy: 0.9885 - loss: 0.0418 - val_accuracy: 1.0000 - val_loss: 0.0028\n",
      "Epoch 27/30\n",
      "\u001b[1m34/34\u001b[0m \u001b[32m━━━━━━━━━━━━━━━━━━━━\u001b[0m\u001b[37m\u001b[0m \u001b[1m6s\u001b[0m 185ms/step - accuracy: 0.9865 - loss: 0.0455 - val_accuracy: 1.0000 - val_loss: 0.0032\n",
      "Epoch 28/30\n",
      "\u001b[1m34/34\u001b[0m \u001b[32m━━━━━━━━━━━━━━━━━━━━\u001b[0m\u001b[37m\u001b[0m \u001b[1m6s\u001b[0m 180ms/step - accuracy: 0.9894 - loss: 0.0412 - val_accuracy: 1.0000 - val_loss: 0.0020\n",
      "Epoch 29/30\n",
      "\u001b[1m34/34\u001b[0m \u001b[32m━━━━━━━━━━━━━━━━━━━━\u001b[0m\u001b[37m\u001b[0m \u001b[1m6s\u001b[0m 179ms/step - accuracy: 0.9801 - loss: 0.0710 - val_accuracy: 1.0000 - val_loss: 0.0017\n",
      "Epoch 30/30\n",
      "\u001b[1m34/34\u001b[0m \u001b[32m━━━━━━━━━━━━━━━━━━━━\u001b[0m\u001b[37m\u001b[0m \u001b[1m6s\u001b[0m 178ms/step - accuracy: 0.9847 - loss: 0.0421 - val_accuracy: 0.9963 - val_loss: 0.0305\n"
     ]
    },
    {
     "data": {
      "text/plain": [
       "<keras.src.callbacks.history.History at 0x3641f3520>"
      ]
     },
     "execution_count": 28,
     "metadata": {},
     "output_type": "execute_result"
    }
   ],
   "source": [
    "# 모델 학습\n",
    "model.fit(X_train, y_train, epochs=30, validation_data=(X_test, y_test))"
   ]
  },
  {
   "cell_type": "code",
   "execution_count": 29,
   "metadata": {},
   "outputs": [
    {
     "name": "stdout",
     "output_type": "stream",
     "text": [
      "\u001b[1m9/9\u001b[0m \u001b[32m━━━━━━━━━━━━━━━━━━━━\u001b[0m\u001b[37m\u001b[0m \u001b[1m1s\u001b[0m 45ms/step\n"
     ]
    }
   ],
   "source": [
    "# 예측 결과 확인\n",
    "\n",
    "y_pred = model.predict(X_test)\n",
    "y_pred_labels = np.argmax(y_pred, axis=1)\n",
    "y_true_labels = np.argmax(y_test, axis=1)\n"
   ]
  },
  {
   "cell_type": "code",
   "execution_count": 30,
   "metadata": {},
   "outputs": [
    {
     "name": "stdout",
     "output_type": "stream",
     "text": [
      "\u001b[1m9/9\u001b[0m \u001b[32m━━━━━━━━━━━━━━━━━━━━\u001b[0m\u001b[37m\u001b[0m \u001b[1m0s\u001b[0m 34ms/step - accuracy: 0.9973 - loss: 0.0242\n",
      " 테스트 손실(Loss): 0.0305\n",
      "테스트 정확도(Accuracy): 0.9963\n"
     ]
    }
   ],
   "source": [
    "# 모델 평가 \n",
    "loss, accuracy = model.evaluate(X_test, y_test)\n",
    "print(f\" 테스트 손실(Loss): {loss:.4f}\")\n",
    "print(f\"테스트 정확도(Accuracy): {accuracy:.4f}\")"
   ]
  },
  {
   "cell_type": "markdown",
   "metadata": {},
   "source": [
    "\t•\tprecision: 얼마나 정확히 예측했는가 (false positive 줄이기)\n",
    "\t•\trecall: 얼마나 놓치지 않고 잘 잡았는가 (false negative 줄이기)\n",
    "\t•\tf1-score: precision과 recall의 조화 평균"
   ]
  },
  {
   "cell_type": "code",
   "execution_count": 31,
   "metadata": {},
   "outputs": [
    {
     "name": "stdout",
     "output_type": "stream",
     "text": [
      "              precision    recall  f1-score   support\n",
      "\n",
      "        답답하다       1.00      1.00      1.00        22\n",
      "         땀난다       1.00      1.00      1.00        16\n",
      "         베였다       1.00      1.00      1.00        23\n",
      "         부었다       1.00      0.95      0.98        21\n",
      "        불편하다       1.00      1.00      1.00        25\n",
      "         아프다       1.00      1.00      1.00        23\n",
      "        어지럽다       1.00      1.00      1.00        56\n",
      "         열난다       1.00      1.00      1.00        34\n",
      "        지속된다       1.00      1.00      1.00        22\n",
      "        피곤하다       0.97      1.00      0.98        29\n",
      "\n",
      "    accuracy                           1.00       271\n",
      "   macro avg       1.00      1.00      1.00       271\n",
      "weighted avg       1.00      1.00      1.00       271\n",
      "\n"
     ]
    }
   ],
   "source": [
    "from sklearn.metrics import classification_report\n",
    "\n",
    "print(classification_report(y_true_labels, y_pred_labels, target_names=actions))"
   ]
  },
  {
   "cell_type": "code",
   "execution_count": 32,
   "metadata": {},
   "outputs": [
    {
     "name": "stdout",
     "output_type": "stream",
     "text": [
      "\u001b[1m9/9\u001b[0m \u001b[32m━━━━━━━━━━━━━━━━━━━━\u001b[0m\u001b[37m\u001b[0m \u001b[1m0s\u001b[0m 27ms/step\n"
     ]
    }
   ],
   "source": [
    "# 혼돌 행렬 \n",
    "from sklearn.metrics import confusion_matrix, ConfusionMatrixDisplay\n",
    "import matplotlib.pyplot as plt\n",
    "import numpy as np\n",
    "\n",
    "# 예측 결과 생성\n",
    "y_pred = model.predict(X_test)\n",
    "y_pred_labels = np.argmax(y_pred, axis=1)\n",
    "y_true_labels = np.argmax(y_test, axis=1)\n",
    "\n",
    "\n"
   ]
  },
  {
   "cell_type": "code",
   "execution_count": 33,
   "metadata": {},
   "outputs": [],
   "source": [
    "import numpy as np\n",
    "import pandas as pd\n",
    "import matplotlib.pyplot as plt\n",
    "import seaborn as sb\n",
    "\n",
    "%matplotlib inline\n",
    "\n",
    "import platform\n",
    "\n",
    "from matplotlib import font_manager, rc\n",
    "plt.rcParams['axes.unicode_minus'] = False\n",
    "\n",
    "if platform.system() == 'Darwin':\n",
    "    rc('font', family='AppleGothic')\n",
    "elif platform.system() == 'Windows':\n",
    "    path = \"c:/Windows/Fonts/malgun.ttf\"\n",
    "    font_name = font_manager.FontProperties(fname=path).get_name()\n",
    "    rc('font', family=font_name)\n",
    "else:\n",
    "    print('Unknown system... sorry~~~~')\n"
   ]
  },
  {
   "cell_type": "code",
   "execution_count": 34,
   "metadata": {},
   "outputs": [
    {
     "data": {
      "text/plain": [
       "<Figure size 1000x800 with 0 Axes>"
      ]
     },
     "metadata": {},
     "output_type": "display_data"
    },
    {
     "data": {
      "image/png": "[encoded data removed]",
      "text/plain": [
       "<Figure size 640x480 with 2 Axes>"
      ]
     },
     "metadata": {},
     "output_type": "display_data"
    }
   ],
   "source": [
    "# 혼동 행렬 계산\n",
    "cm = confusion_matrix(y_true_labels, y_pred_labels)\n",
    "\n",
    "# 시각화\n",
    "disp = ConfusionMatrixDisplay(confusion_matrix=cm, display_labels=actions)\n",
    "plt.figure(figsize=(10, 8))\n",
    "disp.plot(cmap='Blues', xticks_rotation=45, values_format='d')\n",
    "plt.title(\" 혼동 행렬 (Confusion Matrix)\")\n",
    "plt.show()"
   ]
  },
  {
   "cell_type": "markdown",
   "metadata": {},
   "source": [
    "🔵 파란색은 맞춘 비율이 높은 부분이고, 색이 연할수록 틀린 경우입니다."
   ]
  },
  {
   "cell_type": "code",
   "execution_count": 35,
   "metadata": {},
   "outputs": [
    {
     "data": {
      "image/png": "[encoded data removed]",
      "text/plain": [
       "<Figure size 1200x600 with 1 Axes>"
      ]
     },
     "metadata": {},
     "output_type": "display_data"
    }
   ],
   "source": [
    "from sklearn.metrics import classification_report\n",
    "import matplotlib.pyplot as plt\n",
    "import numpy as np\n",
    "\n",
    "report = classification_report(y_true_labels, y_pred_labels, target_names=actions, output_dict=True)\n",
    "accuracy_per_class = [report[label]['f1-score'] for label in actions]\n",
    "\n",
    "plt.figure(figsize=(12, 6))\n",
    "plt.bar(actions, accuracy_per_class, color='skyblue')\n",
    "plt.ylabel(\"F1-score\")\n",
    "plt.title(\" 증상별 F1 점수\")\n",
    "plt.xticks(rotation=45)\n",
    "plt.ylim(0, 1.0)\n",
    "plt.grid(True, axis='y', linestyle='--', alpha=0.5)\n",
    "plt.tight_layout()\n",
    "plt.show()"
   ]
  },
  {
   "cell_type": "code",
   "execution_count": 36,
   "metadata": {},
   "outputs": [
    {
     "name": "stderr",
     "output_type": "stream",
     "text": [
      "WARNING:absl:You are saving your model as an HDF5 file via `model.save()` or `keras.saving.save_model(model)`. This file format is considered legacy. We recommend using instead the native Keras format, e.g. `model.save('my_model.keras')` or `keras.saving.save_model(model, 'my_model.keras')`. \n"
     ]
    },
    {
     "name": "stdout",
     "output_type": "stream",
     "text": [
      " 얼굴 표정 기반 증상 분류 모델 저장 완료\n"
     ]
    }
   ],
   "source": [
    "#  모델 저장\n",
    "os.makedirs(\"models\", exist_ok=True)\n",
    "model.save(\"models/multi_face_expression_classifier.h5\")\n",
    "print(\" 얼굴 표정 기반 증상 분류 모델 저장 완료\")"
   ]
  },
  {
   "cell_type": "code",
   "execution_count": 6,
   "metadata": {},
   "outputs": [
    {
     "name": "stdout",
     "output_type": "stream",
     "text": [
      "/Users/mi-yeonlim/Documents/Github/translate-handsign\n"
     ]
    }
   ],
   "source": [
    "%pwd\n",
    "%cd .."
   ]
  },
  {
   "cell_type": "code",
   "execution_count": 7,
   "metadata": {},
   "outputs": [],
   "source": [
    "import tensorflow as tf\n",
    "\n",
    "# 변환 대상 모델 경로 (.h5)\n",
    "keras_model_path = \"models/multi_face_expression_classifier.h5\""
   ]
  },
  {
   "cell_type": "code",
   "execution_count": 9,
   "metadata": {},
   "outputs": [
    {
     "name": "stdout",
     "output_type": "stream",
     "text": [
      "✅ 모델이 정상적으로 존재합니다.\n"
     ]
    }
   ],
   "source": [
    "import os\n",
    "\n",
    "if not os.path.exists(keras_model_path):\n",
    "    raise FileNotFoundError(f\"❌ Keras 모델이 존재하지 않습니다: {keras_model_path}\")\n",
    "else:\n",
    "    print(\"✅ 모델이 정상적으로 존재합니다.\")"
   ]
  },
  {
   "cell_type": "code",
   "execution_count": 10,
   "metadata": {},
   "outputs": [
    {
     "name": "stderr",
     "output_type": "stream",
     "text": [
      "WARNING:absl:Compiled the loaded model, but the compiled metrics have yet to be built. `model.compile_metrics` will be empty until you train or evaluate the model.\n"
     ]
    },
    {
     "name": "stdout",
     "output_type": "stream",
     "text": [
      "✅ Keras 모델 로드 완료\n"
     ]
    }
   ],
   "source": [
    "# 모델 로드\n",
    "model = tf.keras.models.load_model(keras_model_path)\n",
    "print(\"✅ Keras 모델 로드 완료\")"
   ]
  },
  {
   "cell_type": "code",
   "execution_count": 11,
   "metadata": {},
   "outputs": [],
   "source": [
    "# TFLite 변환기 생성\n",
    "converter = tf.lite.TFLiteConverter.from_keras_model(model)\n",
    "converter.optimizations = [tf.lite.Optimize.DEFAULT]  # 선택: 양자화 가능"
   ]
  },
  {
   "cell_type": "code",
   "execution_count": null,
   "metadata": {},
   "outputs": [],
   "source": [
    "# 고급 연산 및 버전 호환 옵션\n",
    "converter.target_spec.supported_ops = [\n",
    "    tf.lite.OpsSet.TFLITE_BUILTINS,\n",
    "    tf.lite.OpsSet.SELECT_TF_OPS  # 고급 연산 포함\n",
    "]\n",
    "converter.experimental_enable_resource_variables = True\n",
    "converter._experimental_lower_tensor_list_ops = False"
   ]
  },
  {
   "cell_type": "code",
   "execution_count": null,
   "metadata": {},
   "outputs": [],
   "source": [
    "# 변환 수행\n",
    "tflite_model = converter.convert()\n",
    "print(\"✅ TFLite 모델 변환 완료\")"
   ]
  },
  {
   "cell_type": "code",
   "execution_count": null,
   "metadata": {},
   "outputs": [],
   "source": [
    "# 저장할 TFLite 모델 경로\n",
    "tflite_model_path = \"content/multi_face_expression_classifier.tflite\"\n",
    "print(\"✅ .tflite 모델 저장 완료\")"
   ]
  },
  {
   "cell_type": "code",
   "execution_count": null,
   "metadata": {},
   "outputs": [],
   "source": []
  }
 ],
 "metadata": {
  "kernelspec": {
   "display_name": "hi",
   "language": "python",
   "name": "python3"
  },
  "language_info": {
   "codemirror_mode": {
    "name": "ipython",
    "version": 3
   },
   "file_extension": ".py",
   "mimetype": "text/x-python",
   "name": "python",
   "nbconvert_exporter": "python",
   "pygments_lexer": "ipython3",
   "version": "3.10.17"
  }
 },
 "nbformat": 4,
 "nbformat_minor": 2
}
