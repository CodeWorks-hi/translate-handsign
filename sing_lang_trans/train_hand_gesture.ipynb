{
 "cells": [
  {
   "cell_type": "code",
   "execution_count": 1,
   "metadata": {},
   "outputs": [],
   "source": [
    "import numpy as np\n",
    "import os\n",
    "\n",
    "os.environ['CUDA_VISIBLE_DEVICES'] = '1'\n",
    "os.environ['TF_FORCE_GPU_ALLOW_GROWTH'] = 'true'"
   ]
  },
  {
   "cell_type": "code",
   "execution_count": 2,
   "metadata": {},
   "outputs": [
    {
     "name": "stdout",
     "output_type": "stream",
     "text": [
      "/Users/ENZO/KOOKIZ/GITHUB/translate-handsign\n"
     ]
    },
    {
     "name": "stderr",
     "output_type": "stream",
     "text": [
      "/opt/anaconda3/envs/hi/lib/python3.10/site-packages/IPython/core/magics/osm.py:417: UserWarning: This is now an optional IPython functionality, setting dhist requires you to install the `pickleshare` library.\n",
      "  self.shell.db['dhist'] = compress_dhist(dhist)[-100:]\n"
     ]
    }
   ],
   "source": [
    "%pwd\n",
    "%cd .."
   ]
  },
  {
   "cell_type": "code",
   "execution_count": 3,
   "metadata": {},
   "outputs": [
    {
     "data": {
      "text/plain": [
       "(600, 10, 56)"
      ]
     },
     "execution_count": 3,
     "metadata": {},
     "output_type": "execute_result"
    }
   ],
   "source": [
    "actions = [\"가렵다\", \"답답하다\", \"땀난다\", \"떨린다\", \"베였다\", \"부었다\", \"불편하다\", \"숨가쁘다\", \"아프다\",\n",
    "        \"어지럽다\", \"열\", \"지속된다\", \"찔렸다\", \"피\", \"피곤하다\", \"힘들다\"]\n",
    "time_num, time_num1, time_num2 = '1744785793', '1744785976', '1744786162'\n",
    "\n",
    "for time_num in [time_num, time_num1, time_num2]:\n",
    "    data = np.concatenate([\n",
    "        np.load(f'dataset/seq_아프다_{time_num}.npy'),\n",
    "        np.load(f'dataset/seq_열_{time_num}.npy'),\n",
    "        np.load(f'dataset/seq_가렵다_{time_num}.npy'),\n",
    "        np.load(f'dataset/seq_답답하다_{time_num}.npy'),\n",
    "        np.load(f'dataset/seq_땀난다_{time_num}.npy'),\n",
    "        np.load(f'dataset/seq_떨린다_{time_num}.npy'),\n",
    "        np.load(f'dataset/seq_베였다_{time_num}.npy'),\n",
    "        np.load(f'dataset/seq_부었다_{time_num}.npy'),\n",
    "        np.load(f'dataset/seq_불편하다_{time_num}.npy'),\n",
    "        np.load(f'dataset/seq_숨가쁘다_{time_num}.npy'),\n",
    "        np.load(f'dataset/seq_어지럽다_{time_num}.npy'),\n",
    "        np.load(f'dataset/seq_지속된다_{time_num}.npy'),\n",
    "        np.load(f'dataset/seq_찔렸다_{time_num}.npy'),\n",
    "        np.load(f'dataset/seq_피_{time_num}.npy'),\n",
    "        np.load(f'dataset/seq_피곤하다_{time_num}.npy'),\n",
    "        np.load(f'dataset/seq_힘들다_{time_num}.npy')\n",
    "    ], axis=0)\n",
    "\n",
    "data.shape"
   ]
  },
  {
   "cell_type": "code",
   "execution_count": 4,
   "metadata": {},
   "outputs": [
    {
     "name": "stdout",
     "output_type": "stream",
     "text": [
      "(40, 10, 56)\n",
      "(57, 10, 56)\n",
      "(23, 10, 56)\n",
      "(25, 10, 56)\n",
      "(32, 10, 56)\n",
      "(19, 10, 56)\n",
      "(23, 10, 56)\n",
      "(44, 10, 56)\n",
      "(26, 10, 56)\n",
      "(14, 10, 56)\n"
     ]
    }
   ],
   "source": [
    "print(np.load(f'dataset/seq_아프다_1744773358.npy').shape)\n",
    "print(np.load(f'dataset/seq_열_1744773358.npy').shape)\n",
    "print(np.load(f'dataset/seq_기침_1744773358.npy').shape)\n",
    "print(np.load(f'dataset/seq_콧물_1744773358.npy').shape)\n",
    "print(np.load(f'dataset/seq_코막힘_1744773358.npy').shape)\n",
    "print(np.load(f'dataset/seq_머리_1744773358.npy').shape)\n",
    "print(np.load(f'dataset/seq_배_1744773358.npy').shape)\n",
    "print(np.load(f'dataset/seq_설사_1744773358.npy').shape)\n",
    "print(np.load(f'dataset/seq_변비_1744773358.npy').shape)\n",
    "print(np.load(f'dataset/seq_구토_1744773358.npy').shape)"
   ]
  },
  {
   "cell_type": "code",
   "execution_count": 4,
   "metadata": {},
   "outputs": [
    {
     "name": "stdout",
     "output_type": "stream",
     "text": [
      "(600, 10, 55)\n",
      "(600,)\n"
     ]
    }
   ],
   "source": [
    "x_data = data[:, :, :-1]\n",
    "labels = data[:, 0, -1]\n",
    "\n",
    "print(x_data.shape)\n",
    "print(labels.shape)"
   ]
  },
  {
   "cell_type": "code",
   "execution_count": 5,
   "metadata": {},
   "outputs": [
    {
     "data": {
      "text/plain": [
       "array([ 8.,  8.,  8.,  8.,  8.,  8.,  8.,  8.,  8.,  8.,  8.,  8.,  8.,\n",
       "        8.,  8.,  8.,  8.,  8.,  8.,  8.,  8.,  8.,  8.,  8.,  8.,  8.,\n",
       "        8.,  8.,  8.,  8.,  8.,  8.,  8.,  8.,  8.,  8.,  8.,  8.,  8.,\n",
       "       10., 10., 10., 10., 10., 10., 10., 10., 10., 10., 10., 10., 10.,\n",
       "       10., 10., 10., 10., 10., 10., 10., 10., 10., 10., 10., 10., 10.,\n",
       "       10., 10., 10., 10., 10., 10., 10., 10., 10., 10., 10., 10., 10.,\n",
       "       10., 10., 10., 10., 10., 10., 10., 10., 10., 10., 10., 10., 10.,\n",
       "       10., 10., 10., 10., 10.,  0.,  0.,  0.,  0.,  0.,  0.,  0.,  0.,\n",
       "        0.,  0.,  0.,  0.,  0.,  0.,  0.,  0.,  0.,  0.,  0.,  0.,  0.,\n",
       "        0.,  0.,  0.,  0.,  0.,  0.,  0.,  0.,  0.,  0.,  0.,  0.,  0.,\n",
       "        0.,  0.,  0.,  0.,  1.,  1.,  1.,  1.,  1.,  1.,  1.,  1.,  1.,\n",
       "        1.,  1.,  1.,  1.,  1.,  1.,  1.,  1.,  1.,  1.,  1.,  1.,  1.,\n",
       "        1.,  1.,  1.,  1.,  1.,  1.,  1.,  1.,  1.,  1.,  1.,  1.,  1.,\n",
       "        1.,  2.,  2.,  2.,  2.,  2.,  2.,  2.,  2.,  2.,  2.,  2.,  2.,\n",
       "        2.,  2.,  2.,  2.,  2.,  2.,  2.,  2.,  2.,  2.,  2.,  2.,  2.,\n",
       "        2.,  3.,  3.,  3.,  3.,  3.,  3.,  3.,  3.,  3.,  3.,  3.,  3.,\n",
       "        3.,  3.,  3.,  3.,  3.,  3.,  3.,  3.,  3.,  3.,  3.,  3.,  3.,\n",
       "        3.,  3.,  4.,  4.,  4.,  4.,  4.,  4.,  4.,  4.,  4.,  4.,  4.,\n",
       "        4.,  4.,  4.,  4.,  4.,  4.,  4.,  4.,  4.,  4.,  4.,  4.,  4.,\n",
       "        4.,  4.,  4.,  4.,  4.,  4.,  4.,  4.,  4.,  4.,  4.,  4.,  4.,\n",
       "        4.,  5.,  5.,  5.,  5.,  5.,  5.,  5.,  5.,  5.,  5.,  5.,  5.,\n",
       "        5.,  5.,  5.,  5.,  5.,  5.,  5.,  5.,  5.,  5.,  5.,  5.,  5.,\n",
       "        5.,  5.,  5.,  5.,  5.,  5.,  5.,  5.,  5.,  5.,  6.,  6.,  6.,\n",
       "        6.,  6.,  6.,  6.,  6.,  6.,  6.,  6.,  6.,  6.,  6.,  6.,  6.,\n",
       "        6.,  6.,  6.,  6.,  6.,  6.,  6.,  6.,  6.,  6.,  6.,  6.,  6.,\n",
       "        6.,  6.,  6.,  6.,  6.,  6.,  6.,  6.,  6.,  6.,  6.,  6.,  7.,\n",
       "        7.,  7.,  7.,  7.,  7.,  7.,  7.,  7.,  7.,  7.,  7.,  7.,  7.,\n",
       "        7.,  7.,  7.,  7.,  7.,  7.,  9.,  9.,  9.,  9.,  9.,  9.,  9.,\n",
       "        9.,  9.,  9.,  9.,  9.,  9.,  9.,  9.,  9.,  9.,  9.,  9.,  9.,\n",
       "        9.,  9.,  9.,  9.,  9.,  9.,  9.,  9.,  9.,  9.,  9.,  9.,  9.,\n",
       "        9.,  9.,  9.,  9.,  9.,  9.,  9.,  9.,  9.,  9.,  9.,  9.,  9.,\n",
       "        9.,  9.,  9.,  9.,  9.,  9.,  9.,  9.,  9.,  9.,  9.,  9.,  9.,\n",
       "        9.,  9.,  9.,  9.,  9.,  9.,  9.,  9.,  9.,  9.,  9.,  9.,  9.,\n",
       "        9.,  9.,  9.,  9.,  9.,  9.,  9.,  9.,  9.,  9.,  9.,  9.,  9.,\n",
       "        9.,  9.,  9.,  9.,  9.,  9.,  9.,  9.,  9., 11., 11., 11., 11.,\n",
       "       11., 11., 11., 11., 11., 11., 11., 11., 11., 11., 11., 11., 11.,\n",
       "       11., 11., 11., 11., 11., 11., 11., 11., 11., 11., 11., 11., 11.,\n",
       "       11., 11., 11., 11., 11., 11., 12., 12., 12., 12., 12., 12., 12.,\n",
       "       12., 12., 12., 12., 12., 12., 12., 12., 12., 12., 12., 12., 12.,\n",
       "       13., 13., 13., 13., 13., 13., 13., 13., 13., 13., 13., 13., 13.,\n",
       "       13., 13., 13., 13., 13., 13., 13., 13., 14., 14., 14., 14., 14.,\n",
       "       14., 14., 14., 14., 14., 14., 14., 14., 14., 14., 14., 14., 14.,\n",
       "       14., 14., 14., 14., 14., 14., 14., 14., 14., 14., 14., 14., 14.,\n",
       "       14., 14., 14., 14., 14., 14., 14., 14., 14., 14., 14., 14., 14.,\n",
       "       14., 14., 14., 14., 15., 15., 15., 15., 15., 15., 15., 15., 15.,\n",
       "       15., 15., 15., 15., 15., 15., 15., 15., 15., 15., 15., 15., 15.,\n",
       "       15., 15.])"
      ]
     },
     "execution_count": 5,
     "metadata": {},
     "output_type": "execute_result"
    }
   ],
   "source": [
    "labels"
   ]
  },
  {
   "cell_type": "code",
   "execution_count": 6,
   "metadata": {},
   "outputs": [
    {
     "data": {
      "text/plain": [
       "600"
      ]
     },
     "execution_count": 6,
     "metadata": {},
     "output_type": "execute_result"
    }
   ],
   "source": [
    "len(labels)"
   ]
  },
  {
   "cell_type": "code",
   "execution_count": 7,
   "metadata": {},
   "outputs": [
    {
     "data": {
      "text/plain": [
       "array([ 0.,  1.,  2.,  3.,  4.,  5.,  6.,  7.,  8.,  9., 10., 11., 12.,\n",
       "       13., 14., 15.])"
      ]
     },
     "execution_count": 7,
     "metadata": {},
     "output_type": "execute_result"
    }
   ],
   "source": [
    "np.unique(labels)"
   ]
  },
  {
   "cell_type": "code",
   "execution_count": 8,
   "metadata": {},
   "outputs": [
    {
     "data": {
      "text/plain": [
       "(600, 16)"
      ]
     },
     "execution_count": 8,
     "metadata": {},
     "output_type": "execute_result"
    }
   ],
   "source": [
    "from tensorflow.keras.utils import to_categorical\n",
    "\n",
    "y_data = to_categorical(labels, num_classes=len(actions))\n",
    "y_data.shape"
   ]
  },
  {
   "cell_type": "code",
   "execution_count": 9,
   "metadata": {},
   "outputs": [
    {
     "data": {
      "text/plain": [
       "array([[0., 0., 0., ..., 0., 0., 0.],\n",
       "       [0., 0., 0., ..., 0., 0., 0.],\n",
       "       [0., 0., 0., ..., 0., 0., 0.],\n",
       "       ...,\n",
       "       [0., 0., 0., ..., 0., 0., 1.],\n",
       "       [0., 0., 0., ..., 0., 0., 1.],\n",
       "       [0., 0., 0., ..., 0., 0., 1.]])"
      ]
     },
     "execution_count": 9,
     "metadata": {},
     "output_type": "execute_result"
    }
   ],
   "source": [
    "y_data"
   ]
  },
  {
   "cell_type": "code",
   "execution_count": 10,
   "metadata": {},
   "outputs": [
    {
     "name": "stdout",
     "output_type": "stream",
     "text": [
      "(480, 10, 55) (480, 16)\n",
      "(120, 10, 55) (120, 16)\n"
     ]
    }
   ],
   "source": [
    "from sklearn.model_selection import train_test_split\n",
    "\n",
    "x_data = x_data.astype(np.float32)\n",
    "y_data = y_data.astype(np.float32)\n",
    "\n",
    "x_train, x_val, y_train, y_val = train_test_split(x_data, y_data, test_size=0.2, random_state=2020)\n",
    "\n",
    "print(x_train.shape, y_train.shape)\n",
    "print(x_val.shape, y_val.shape)"
   ]
  },
  {
   "cell_type": "code",
   "execution_count": 11,
   "metadata": {},
   "outputs": [
    {
     "data": {
      "text/plain": [
       "(10, 55)"
      ]
     },
     "execution_count": 11,
     "metadata": {},
     "output_type": "execute_result"
    }
   ],
   "source": [
    "x_train.shape[1:3]"
   ]
  },
  {
   "cell_type": "code",
   "execution_count": 12,
   "metadata": {},
   "outputs": [],
   "source": [
    "np.random.seed(42)\n",
    "import tensorflow as tf\n",
    "tf.random.set_seed(42)"
   ]
  },
  {
   "cell_type": "code",
   "execution_count": 13,
   "metadata": {},
   "outputs": [],
   "source": [
    "# custom f1 score\n",
    "def metric_F1score(y_true,y_pred): \n",
    "    TP=tf.reduce_sum(y_true*tf.round(y_pred))\n",
    "    TN=tf.reduce_sum((1-y_true)*(1-tf.round(y_pred)))\n",
    "    FP=tf.reduce_sum((1-y_true)*tf.round(y_pred))\n",
    "    FN=tf.reduce_sum(y_true*(1-tf.round(y_pred)))\n",
    "    precision=TP/(TP+FP)\n",
    "    recall=TP/(TP+FN)\n",
    "    F1score=2*precision*recall/(precision+recall)\n",
    "    return F1score"
   ]
  },
  {
   "cell_type": "code",
   "execution_count": 14,
   "metadata": {},
   "outputs": [
    {
     "name": "stderr",
     "output_type": "stream",
     "text": [
      "/opt/anaconda3/envs/hi/lib/python3.10/site-packages/keras/src/layers/rnn/rnn.py:200: UserWarning: Do not pass an `input_shape`/`input_dim` argument to a layer. When using Sequential models, prefer using an `Input(shape)` object as the first layer in the model instead.\n",
      "  super().__init__(**kwargs)\n"
     ]
    },
    {
     "data": {
      "text/html": [
       "<pre style=\"white-space:pre;overflow-x:auto;line-height:normal;font-family:Menlo,'DejaVu Sans Mono',consolas,'Courier New',monospace\"><span style=\"font-weight: bold\">Model: \"sequential\"</span>\n",
       "</pre>\n"
      ],
      "text/plain": [
       "\u001b[1mModel: \"sequential\"\u001b[0m\n"
      ]
     },
     "metadata": {},
     "output_type": "display_data"
    },
    {
     "data": {
      "text/html": [
       "<pre style=\"white-space:pre;overflow-x:auto;line-height:normal;font-family:Menlo,'DejaVu Sans Mono',consolas,'Courier New',monospace\">┏━━━━━━━━━━━━━━━━━━━━━━━━━━━━━━━━━┳━━━━━━━━━━━━━━━━━━━━━━━━┳━━━━━━━━━━━━━━━┓\n",
       "┃<span style=\"font-weight: bold\"> Layer (type)                    </span>┃<span style=\"font-weight: bold\"> Output Shape           </span>┃<span style=\"font-weight: bold\">       Param # </span>┃\n",
       "┡━━━━━━━━━━━━━━━━━━━━━━━━━━━━━━━━━╇━━━━━━━━━━━━━━━━━━━━━━━━╇━━━━━━━━━━━━━━━┩\n",
       "│ lstm (<span style=\"color: #0087ff; text-decoration-color: #0087ff\">LSTM</span>)                     │ (<span style=\"color: #00d7ff; text-decoration-color: #00d7ff\">None</span>, <span style=\"color: #00af00; text-decoration-color: #00af00\">64</span>)             │        <span style=\"color: #00af00; text-decoration-color: #00af00\">30,720</span> │\n",
       "├─────────────────────────────────┼────────────────────────┼───────────────┤\n",
       "│ dropout (<span style=\"color: #0087ff; text-decoration-color: #0087ff\">Dropout</span>)               │ (<span style=\"color: #00d7ff; text-decoration-color: #00d7ff\">None</span>, <span style=\"color: #00af00; text-decoration-color: #00af00\">64</span>)             │             <span style=\"color: #00af00; text-decoration-color: #00af00\">0</span> │\n",
       "├─────────────────────────────────┼────────────────────────┼───────────────┤\n",
       "│ dense (<span style=\"color: #0087ff; text-decoration-color: #0087ff\">Dense</span>)                   │ (<span style=\"color: #00d7ff; text-decoration-color: #00d7ff\">None</span>, <span style=\"color: #00af00; text-decoration-color: #00af00\">32</span>)             │         <span style=\"color: #00af00; text-decoration-color: #00af00\">2,080</span> │\n",
       "├─────────────────────────────────┼────────────────────────┼───────────────┤\n",
       "│ dropout_1 (<span style=\"color: #0087ff; text-decoration-color: #0087ff\">Dropout</span>)             │ (<span style=\"color: #00d7ff; text-decoration-color: #00d7ff\">None</span>, <span style=\"color: #00af00; text-decoration-color: #00af00\">32</span>)             │             <span style=\"color: #00af00; text-decoration-color: #00af00\">0</span> │\n",
       "├─────────────────────────────────┼────────────────────────┼───────────────┤\n",
       "│ dense_1 (<span style=\"color: #0087ff; text-decoration-color: #0087ff\">Dense</span>)                 │ (<span style=\"color: #00d7ff; text-decoration-color: #00d7ff\">None</span>, <span style=\"color: #00af00; text-decoration-color: #00af00\">16</span>)             │           <span style=\"color: #00af00; text-decoration-color: #00af00\">528</span> │\n",
       "└─────────────────────────────────┴────────────────────────┴───────────────┘\n",
       "</pre>\n"
      ],
      "text/plain": [
       "┏━━━━━━━━━━━━━━━━━━━━━━━━━━━━━━━━━┳━━━━━━━━━━━━━━━━━━━━━━━━┳━━━━━━━━━━━━━━━┓\n",
       "┃\u001b[1m \u001b[0m\u001b[1mLayer (type)                   \u001b[0m\u001b[1m \u001b[0m┃\u001b[1m \u001b[0m\u001b[1mOutput Shape          \u001b[0m\u001b[1m \u001b[0m┃\u001b[1m \u001b[0m\u001b[1m      Param #\u001b[0m\u001b[1m \u001b[0m┃\n",
       "┡━━━━━━━━━━━━━━━━━━━━━━━━━━━━━━━━━╇━━━━━━━━━━━━━━━━━━━━━━━━╇━━━━━━━━━━━━━━━┩\n",
       "│ lstm (\u001b[38;5;33mLSTM\u001b[0m)                     │ (\u001b[38;5;45mNone\u001b[0m, \u001b[38;5;34m64\u001b[0m)             │        \u001b[38;5;34m30,720\u001b[0m │\n",
       "├─────────────────────────────────┼────────────────────────┼───────────────┤\n",
       "│ dropout (\u001b[38;5;33mDropout\u001b[0m)               │ (\u001b[38;5;45mNone\u001b[0m, \u001b[38;5;34m64\u001b[0m)             │             \u001b[38;5;34m0\u001b[0m │\n",
       "├─────────────────────────────────┼────────────────────────┼───────────────┤\n",
       "│ dense (\u001b[38;5;33mDense\u001b[0m)                   │ (\u001b[38;5;45mNone\u001b[0m, \u001b[38;5;34m32\u001b[0m)             │         \u001b[38;5;34m2,080\u001b[0m │\n",
       "├─────────────────────────────────┼────────────────────────┼───────────────┤\n",
       "│ dropout_1 (\u001b[38;5;33mDropout\u001b[0m)             │ (\u001b[38;5;45mNone\u001b[0m, \u001b[38;5;34m32\u001b[0m)             │             \u001b[38;5;34m0\u001b[0m │\n",
       "├─────────────────────────────────┼────────────────────────┼───────────────┤\n",
       "│ dense_1 (\u001b[38;5;33mDense\u001b[0m)                 │ (\u001b[38;5;45mNone\u001b[0m, \u001b[38;5;34m16\u001b[0m)             │           \u001b[38;5;34m528\u001b[0m │\n",
       "└─────────────────────────────────┴────────────────────────┴───────────────┘\n"
      ]
     },
     "metadata": {},
     "output_type": "display_data"
    },
    {
     "data": {
      "text/html": [
       "<pre style=\"white-space:pre;overflow-x:auto;line-height:normal;font-family:Menlo,'DejaVu Sans Mono',consolas,'Courier New',monospace\"><span style=\"font-weight: bold\"> Total params: </span><span style=\"color: #00af00; text-decoration-color: #00af00\">33,328</span> (130.19 KB)\n",
       "</pre>\n"
      ],
      "text/plain": [
       "\u001b[1m Total params: \u001b[0m\u001b[38;5;34m33,328\u001b[0m (130.19 KB)\n"
      ]
     },
     "metadata": {},
     "output_type": "display_data"
    },
    {
     "data": {
      "text/html": [
       "<pre style=\"white-space:pre;overflow-x:auto;line-height:normal;font-family:Menlo,'DejaVu Sans Mono',consolas,'Courier New',monospace\"><span style=\"font-weight: bold\"> Trainable params: </span><span style=\"color: #00af00; text-decoration-color: #00af00\">33,328</span> (130.19 KB)\n",
       "</pre>\n"
      ],
      "text/plain": [
       "\u001b[1m Trainable params: \u001b[0m\u001b[38;5;34m33,328\u001b[0m (130.19 KB)\n"
      ]
     },
     "metadata": {},
     "output_type": "display_data"
    },
    {
     "data": {
      "text/html": [
       "<pre style=\"white-space:pre;overflow-x:auto;line-height:normal;font-family:Menlo,'DejaVu Sans Mono',consolas,'Courier New',monospace\"><span style=\"font-weight: bold\"> Non-trainable params: </span><span style=\"color: #00af00; text-decoration-color: #00af00\">0</span> (0.00 B)\n",
       "</pre>\n"
      ],
      "text/plain": [
       "\u001b[1m Non-trainable params: \u001b[0m\u001b[38;5;34m0\u001b[0m (0.00 B)\n"
      ]
     },
     "metadata": {},
     "output_type": "display_data"
    }
   ],
   "source": [
    "from tensorflow.keras.models import Sequential\n",
    "from tensorflow.keras.layers import LSTM, Dense, Dropout\n",
    "import tensorflow.keras as keras\n",
    "\n",
    "model = Sequential([\n",
    "    LSTM(64, activation='relu', input_shape=x_train.shape[1:3], kernel_regularizer=keras.regularizers.l2(0.01)),\n",
    "    Dropout(0.3),\n",
    "    Dense(32, activation='relu', kernel_regularizer=keras.regularizers.l2(0.01)),\n",
    "    Dropout(0.3),\n",
    "    Dense(len(actions), activation='softmax', kernel_regularizer=keras.regularizers.l2(0.01))\n",
    "])\n",
    "\n",
    "model.compile(optimizer='adam', loss='categorical_crossentropy', metrics=['acc',metric_F1score])\n",
    "model.summary()"
   ]
  },
  {
   "cell_type": "code",
   "execution_count": 15,
   "metadata": {
    "scrolled": true
   },
   "outputs": [
    {
     "name": "stdout",
     "output_type": "stream",
     "text": [
      "Epoch 1/200\n",
      "\u001b[1m 1/15\u001b[0m \u001b[32m━\u001b[0m\u001b[37m━━━━━━━━━━━━━━━━━━━\u001b[0m \u001b[1m15s\u001b[0m 1s/step - acc: 0.0625 - loss: 21.3768 - metric_f1score: 0.0678\n",
      "Epoch 1: val_acc improved from -inf to 0.19167, saving model to models/multi_hand_gesture_classifier.h5\n"
     ]
    },
    {
     "name": "stderr",
     "output_type": "stream",
     "text": [
      "WARNING:absl:You are saving your model as an HDF5 file via `model.save()` or `keras.saving.save_model(model)`. This file format is considered legacy. We recommend using instead the native Keras format, e.g. `model.save('my_model.keras')` or `keras.saving.save_model(model, 'my_model.keras')`. \n"
     ]
    },
    {
     "name": "stdout",
     "output_type": "stream",
     "text": [
      "\u001b[1m15/15\u001b[0m \u001b[32m━━━━━━━━━━━━━━━━━━━━\u001b[0m\u001b[37m\u001b[0m \u001b[1m1s\u001b[0m 25ms/step - acc: 0.0800 - loss: 21.3542 - metric_f1score: nan - val_acc: 0.1917 - val_loss: 7.3905 - val_metric_f1score: 0.1323 - learning_rate: 0.0010\n",
      "Epoch 2/200\n",
      "\u001b[1m 1/15\u001b[0m \u001b[32m━\u001b[0m\u001b[37m━━━━━━━━━━━━━━━━━━━\u001b[0m \u001b[1m0s\u001b[0m 13ms/step - acc: 0.1250 - loss: 16.0255 - metric_f1score: 0.0816\n",
      "Epoch 2: val_acc improved from 0.19167 to 0.31667, saving model to models/multi_hand_gesture_classifier.h5\n"
     ]
    },
    {
     "name": "stderr",
     "output_type": "stream",
     "text": [
      "/opt/anaconda3/envs/hi/lib/python3.10/site-packages/keras/src/callbacks/callback_list.py:145: UserWarning: Learning rate reduction is conditioned on metric `val_metric_F1score` which is not available. Available metrics are: acc,loss,metric_f1score,val_acc,val_loss,val_metric_f1score,learning_rate.\n",
      "  callback.on_epoch_end(epoch, logs)\n",
      "/opt/anaconda3/envs/hi/lib/python3.10/site-packages/keras/src/callbacks/early_stopping.py:153: UserWarning: Early stopping conditioned on metric `val_metric_F1score` which is not available. Available metrics are: acc,loss,metric_f1score,val_acc,val_loss,val_metric_f1score,learning_rate\n",
      "  current = self.get_monitor_value(logs)\n",
      "WARNING:absl:You are saving your model as an HDF5 file via `model.save()` or `keras.saving.save_model(model)`. This file format is considered legacy. We recommend using instead the native Keras format, e.g. `model.save('my_model.keras')` or `keras.saving.save_model(model, 'my_model.keras')`. \n"
     ]
    },
    {
     "name": "stdout",
     "output_type": "stream",
     "text": [
      "\u001b[1m15/15\u001b[0m \u001b[32m━━━━━━━━━━━━━━━━━━━━\u001b[0m\u001b[37m\u001b[0m \u001b[1m0s\u001b[0m 6ms/step - acc: 0.1177 - loss: 11.0866 - metric_f1score: nan - val_acc: 0.3167 - val_loss: 4.8479 - val_metric_f1score: 0.1998 - learning_rate: 0.0010\n",
      "Epoch 3/200\n",
      "\u001b[1m 1/15\u001b[0m \u001b[32m━\u001b[0m\u001b[37m━━━━━━━━━━━━━━━━━━━\u001b[0m \u001b[1m0s\u001b[0m 19ms/step - acc: 0.0938 - loss: 8.8347 - metric_f1score: 0.0889\n",
      "Epoch 3: val_acc improved from 0.31667 to 0.45833, saving model to models/multi_hand_gesture_classifier.h5\n"
     ]
    },
    {
     "name": "stderr",
     "output_type": "stream",
     "text": [
      "WARNING:absl:You are saving your model as an HDF5 file via `model.save()` or `keras.saving.save_model(model)`. This file format is considered legacy. We recommend using instead the native Keras format, e.g. `model.save('my_model.keras')` or `keras.saving.save_model(model, 'my_model.keras')`. \n"
     ]
    },
    {
     "name": "stdout",
     "output_type": "stream",
     "text": [
      "\u001b[1m15/15\u001b[0m \u001b[32m━━━━━━━━━━━━━━━━━━━━\u001b[0m\u001b[37m\u001b[0m \u001b[1m0s\u001b[0m 6ms/step - acc: 0.1577 - loss: 7.2013 - metric_f1score: 0.1200 - val_acc: 0.4583 - val_loss: 4.1797 - val_metric_f1score: 0.3725 - learning_rate: 0.0010\n",
      "Epoch 4/200\n",
      "\u001b[1m 1/15\u001b[0m \u001b[32m━\u001b[0m\u001b[37m━━━━━━━━━━━━━━━━━━━\u001b[0m \u001b[1m0s\u001b[0m 18ms/step - acc: 0.2500 - loss: 4.5443 - metric_f1score: 0.2791\n",
      "Epoch 4: val_acc improved from 0.45833 to 0.54167, saving model to models/multi_hand_gesture_classifier.h5\n"
     ]
    },
    {
     "name": "stderr",
     "output_type": "stream",
     "text": [
      "WARNING:absl:You are saving your model as an HDF5 file via `model.save()` or `keras.saving.save_model(model)`. This file format is considered legacy. We recommend using instead the native Keras format, e.g. `model.save('my_model.keras')` or `keras.saving.save_model(model, 'my_model.keras')`. \n"
     ]
    },
    {
     "name": "stdout",
     "output_type": "stream",
     "text": [
      "\u001b[1m15/15\u001b[0m \u001b[32m━━━━━━━━━━━━━━━━━━━━\u001b[0m\u001b[37m\u001b[0m \u001b[1m0s\u001b[0m 6ms/step - acc: 0.2688 - loss: 5.4761 - metric_f1score: 0.2563 - val_acc: 0.5417 - val_loss: 3.6830 - val_metric_f1score: 0.4158 - learning_rate: 0.0010\n",
      "Epoch 5/200\n",
      "\u001b[1m 1/15\u001b[0m \u001b[32m━\u001b[0m\u001b[37m━━━━━━━━━━━━━━━━━━━\u001b[0m \u001b[1m0s\u001b[0m 18ms/step - acc: 0.1875 - loss: 5.1988 - metric_f1score: 0.1429\n",
      "Epoch 5: val_acc improved from 0.54167 to 0.57500, saving model to models/multi_hand_gesture_classifier.h5\n"
     ]
    },
    {
     "name": "stderr",
     "output_type": "stream",
     "text": [
      "WARNING:absl:You are saving your model as an HDF5 file via `model.save()` or `keras.saving.save_model(model)`. This file format is considered legacy. We recommend using instead the native Keras format, e.g. `model.save('my_model.keras')` or `keras.saving.save_model(model, 'my_model.keras')`. \n"
     ]
    },
    {
     "name": "stdout",
     "output_type": "stream",
     "text": [
      "\u001b[1m15/15\u001b[0m \u001b[32m━━━━━━━━━━━━━━━━━━━━\u001b[0m\u001b[37m\u001b[0m \u001b[1m0s\u001b[0m 6ms/step - acc: 0.2870 - loss: 4.5082 - metric_f1score: 0.2326 - val_acc: 0.5750 - val_loss: 3.3024 - val_metric_f1score: 0.4595 - learning_rate: 0.0010\n",
      "Epoch 6/200\n",
      "\u001b[1m 1/15\u001b[0m \u001b[32m━\u001b[0m\u001b[37m━━━━━━━━━━━━━━━━━━━\u001b[0m \u001b[1m0s\u001b[0m 15ms/step - acc: 0.1875 - loss: 4.6708 - metric_f1score: 0.0976\n",
      "Epoch 6: val_acc improved from 0.57500 to 0.61667, saving model to models/multi_hand_gesture_classifier.h5\n"
     ]
    },
    {
     "name": "stderr",
     "output_type": "stream",
     "text": [
      "WARNING:absl:You are saving your model as an HDF5 file via `model.save()` or `keras.saving.save_model(model)`. This file format is considered legacy. We recommend using instead the native Keras format, e.g. `model.save('my_model.keras')` or `keras.saving.save_model(model, 'my_model.keras')`. \n"
     ]
    },
    {
     "name": "stdout",
     "output_type": "stream",
     "text": [
      "\u001b[1m15/15\u001b[0m \u001b[32m━━━━━━━━━━━━━━━━━━━━\u001b[0m\u001b[37m\u001b[0m \u001b[1m0s\u001b[0m 6ms/step - acc: 0.2969 - loss: 4.1905 - metric_f1score: 0.2330 - val_acc: 0.6167 - val_loss: 2.9228 - val_metric_f1score: 0.6156 - learning_rate: 0.0010\n",
      "Epoch 7/200\n",
      "\u001b[1m 1/15\u001b[0m \u001b[32m━\u001b[0m\u001b[37m━━━━━━━━━━━━━━━━━━━\u001b[0m \u001b[1m0s\u001b[0m 17ms/step - acc: 0.1875 - loss: 4.2716 - metric_f1score: 0.2791\n",
      "Epoch 7: val_acc improved from 0.61667 to 0.66667, saving model to models/multi_hand_gesture_classifier.h5\n"
     ]
    },
    {
     "name": "stderr",
     "output_type": "stream",
     "text": [
      "WARNING:absl:You are saving your model as an HDF5 file via `model.save()` or `keras.saving.save_model(model)`. This file format is considered legacy. We recommend using instead the native Keras format, e.g. `model.save('my_model.keras')` or `keras.saving.save_model(model, 'my_model.keras')`. \n"
     ]
    },
    {
     "name": "stdout",
     "output_type": "stream",
     "text": [
      "\u001b[1m15/15\u001b[0m \u001b[32m━━━━━━━━━━━━━━━━━━━━\u001b[0m\u001b[37m\u001b[0m \u001b[1m0s\u001b[0m 6ms/step - acc: 0.3425 - loss: 3.7332 - metric_f1score: 0.3708 - val_acc: 0.6667 - val_loss: 2.5575 - val_metric_f1score: 0.6373 - learning_rate: 0.0010\n",
      "Epoch 8/200\n",
      "\u001b[1m 1/15\u001b[0m \u001b[32m━\u001b[0m\u001b[37m━━━━━━━━━━━━━━━━━━━\u001b[0m \u001b[1m0s\u001b[0m 17ms/step - acc: 0.2812 - loss: 3.8856 - metric_f1score: 0.2381\n",
      "Epoch 8: val_acc improved from 0.66667 to 0.70833, saving model to models/multi_hand_gesture_classifier.h5\n"
     ]
    },
    {
     "name": "stderr",
     "output_type": "stream",
     "text": [
      "WARNING:absl:You are saving your model as an HDF5 file via `model.save()` or `keras.saving.save_model(model)`. This file format is considered legacy. We recommend using instead the native Keras format, e.g. `model.save('my_model.keras')` or `keras.saving.save_model(model, 'my_model.keras')`. \n"
     ]
    },
    {
     "name": "stdout",
     "output_type": "stream",
     "text": [
      "\u001b[1m15/15\u001b[0m \u001b[32m━━━━━━━━━━━━━━━━━━━━\u001b[0m\u001b[37m\u001b[0m \u001b[1m0s\u001b[0m 6ms/step - acc: 0.4391 - loss: 3.2965 - metric_f1score: 0.4190 - val_acc: 0.7083 - val_loss: 2.3481 - val_metric_f1score: 0.7142 - learning_rate: 0.0010\n",
      "Epoch 9/200\n",
      "\u001b[1m 1/15\u001b[0m \u001b[32m━\u001b[0m\u001b[37m━━━━━━━━━━━━━━━━━━━\u001b[0m \u001b[1m0s\u001b[0m 49ms/step - acc: 0.2500 - loss: 3.2505 - metric_f1score: 0.2381\n",
      "Epoch 9: val_acc improved from 0.70833 to 0.72500, saving model to models/multi_hand_gesture_classifier.h5\n"
     ]
    },
    {
     "name": "stderr",
     "output_type": "stream",
     "text": [
      "WARNING:absl:You are saving your model as an HDF5 file via `model.save()` or `keras.saving.save_model(model)`. This file format is considered legacy. We recommend using instead the native Keras format, e.g. `model.save('my_model.keras')` or `keras.saving.save_model(model, 'my_model.keras')`. \n"
     ]
    },
    {
     "name": "stdout",
     "output_type": "stream",
     "text": [
      "\u001b[1m15/15\u001b[0m \u001b[32m━━━━━━━━━━━━━━━━━━━━\u001b[0m\u001b[37m\u001b[0m \u001b[1m0s\u001b[0m 6ms/step - acc: 0.4681 - loss: 3.0248 - metric_f1score: 0.4843 - val_acc: 0.7250 - val_loss: 2.1818 - val_metric_f1score: 0.7497 - learning_rate: 0.0010\n",
      "Epoch 10/200\n",
      "\u001b[1m 1/15\u001b[0m \u001b[32m━\u001b[0m\u001b[37m━━━━━━━━━━━━━━━━━━━\u001b[0m \u001b[1m0s\u001b[0m 16ms/step - acc: 0.3750 - loss: 2.9808 - metric_f1score: 0.4444\n",
      "Epoch 10: val_acc improved from 0.72500 to 0.74167, saving model to models/multi_hand_gesture_classifier.h5\n"
     ]
    },
    {
     "name": "stderr",
     "output_type": "stream",
     "text": [
      "WARNING:absl:You are saving your model as an HDF5 file via `model.save()` or `keras.saving.save_model(model)`. This file format is considered legacy. We recommend using instead the native Keras format, e.g. `model.save('my_model.keras')` or `keras.saving.save_model(model, 'my_model.keras')`. \n"
     ]
    },
    {
     "name": "stdout",
     "output_type": "stream",
     "text": [
      "\u001b[1m15/15\u001b[0m \u001b[32m━━━━━━━━━━━━━━━━━━━━\u001b[0m\u001b[37m\u001b[0m \u001b[1m0s\u001b[0m 6ms/step - acc: 0.5117 - loss: 2.6859 - metric_f1score: 0.5429 - val_acc: 0.7417 - val_loss: 2.0602 - val_metric_f1score: 0.7755 - learning_rate: 0.0010\n",
      "Epoch 11/200\n",
      "\u001b[1m 1/15\u001b[0m \u001b[32m━\u001b[0m\u001b[37m━━━━━━━━━━━━━━━━━━━\u001b[0m \u001b[1m0s\u001b[0m 15ms/step - acc: 0.4062 - loss: 2.8460 - metric_f1score: 0.4082\n",
      "Epoch 11: val_acc improved from 0.74167 to 0.78333, saving model to models/multi_hand_gesture_classifier.h5\n"
     ]
    },
    {
     "name": "stderr",
     "output_type": "stream",
     "text": [
      "WARNING:absl:You are saving your model as an HDF5 file via `model.save()` or `keras.saving.save_model(model)`. This file format is considered legacy. We recommend using instead the native Keras format, e.g. `model.save('my_model.keras')` or `keras.saving.save_model(model, 'my_model.keras')`. \n"
     ]
    },
    {
     "name": "stdout",
     "output_type": "stream",
     "text": [
      "\u001b[1m15/15\u001b[0m \u001b[32m━━━━━━━━━━━━━━━━━━━━\u001b[0m\u001b[37m\u001b[0m \u001b[1m0s\u001b[0m 6ms/step - acc: 0.5115 - loss: 2.7273 - metric_f1score: 0.5068 - val_acc: 0.7833 - val_loss: 1.9366 - val_metric_f1score: 0.7811 - learning_rate: 0.0010\n",
      "Epoch 12/200\n",
      "\u001b[1m 1/15\u001b[0m \u001b[32m━\u001b[0m\u001b[37m━━━━━━━━━━━━━━━━━━━\u001b[0m \u001b[1m0s\u001b[0m 16ms/step - acc: 0.5000 - loss: 2.7073 - metric_f1score: 0.5000\n",
      "Epoch 12: val_acc did not improve from 0.78333\n",
      "\u001b[1m15/15\u001b[0m \u001b[32m━━━━━━━━━━━━━━━━━━━━\u001b[0m\u001b[37m\u001b[0m \u001b[1m0s\u001b[0m 5ms/step - acc: 0.5595 - loss: 2.5123 - metric_f1score: 0.5654 - val_acc: 0.7833 - val_loss: 1.8675 - val_metric_f1score: 0.7859 - learning_rate: 0.0010\n",
      "Epoch 13/200\n",
      "\u001b[1m 1/15\u001b[0m \u001b[32m━\u001b[0m\u001b[37m━━━━━━━━━━━━━━━━━━━\u001b[0m \u001b[1m0s\u001b[0m 13ms/step - acc: 0.5312 - loss: 2.7352 - metric_f1score: 0.5417\n",
      "Epoch 13: val_acc improved from 0.78333 to 0.82500, saving model to models/multi_hand_gesture_classifier.h5\n"
     ]
    },
    {
     "name": "stderr",
     "output_type": "stream",
     "text": [
      "WARNING:absl:You are saving your model as an HDF5 file via `model.save()` or `keras.saving.save_model(model)`. This file format is considered legacy. We recommend using instead the native Keras format, e.g. `model.save('my_model.keras')` or `keras.saving.save_model(model, 'my_model.keras')`. \n"
     ]
    },
    {
     "name": "stdout",
     "output_type": "stream",
     "text": [
      "\u001b[1m15/15\u001b[0m \u001b[32m━━━━━━━━━━━━━━━━━━━━\u001b[0m\u001b[37m\u001b[0m \u001b[1m0s\u001b[0m 6ms/step - acc: 0.5967 - loss: 2.4223 - metric_f1score: 0.6222 - val_acc: 0.8250 - val_loss: 1.7334 - val_metric_f1score: 0.8324 - learning_rate: 0.0010\n",
      "Epoch 14/200\n",
      "\u001b[1m 1/15\u001b[0m \u001b[32m━\u001b[0m\u001b[37m━━━━━━━━━━━━━━━━━━━\u001b[0m \u001b[1m0s\u001b[0m 13ms/step - acc: 0.5000 - loss: 2.4398 - metric_f1score: 0.5000\n",
      "Epoch 14: val_acc did not improve from 0.82500\n",
      "\u001b[1m15/15\u001b[0m \u001b[32m━━━━━━━━━━━━━━━━━━━━\u001b[0m\u001b[37m\u001b[0m \u001b[1m0s\u001b[0m 5ms/step - acc: 0.6106 - loss: 2.2894 - metric_f1score: 0.6237 - val_acc: 0.8083 - val_loss: 1.6589 - val_metric_f1score: 0.8417 - learning_rate: 0.0010\n",
      "Epoch 15/200\n",
      "\u001b[1m 1/15\u001b[0m \u001b[32m━\u001b[0m\u001b[37m━━━━━━━━━━━━━━━━━━━\u001b[0m \u001b[1m0s\u001b[0m 13ms/step - acc: 0.5000 - loss: 2.1197 - metric_f1score: 0.5714\n",
      "Epoch 15: val_acc did not improve from 0.82500\n",
      "\u001b[1m15/15\u001b[0m \u001b[32m━━━━━━━━━━━━━━━━━━━━\u001b[0m\u001b[37m\u001b[0m \u001b[1m0s\u001b[0m 5ms/step - acc: 0.6347 - loss: 2.0903 - metric_f1score: 0.6550 - val_acc: 0.8167 - val_loss: 1.5919 - val_metric_f1score: 0.8511 - learning_rate: 0.0010\n",
      "Epoch 16/200\n",
      "\u001b[1m 1/15\u001b[0m \u001b[32m━\u001b[0m\u001b[37m━━━━━━━━━━━━━━━━━━━\u001b[0m \u001b[1m0s\u001b[0m 13ms/step - acc: 0.6562 - loss: 2.2633 - metric_f1score: 0.6538\n",
      "Epoch 16: val_acc improved from 0.82500 to 0.85000, saving model to models/multi_hand_gesture_classifier.h5\n"
     ]
    },
    {
     "name": "stderr",
     "output_type": "stream",
     "text": [
      "WARNING:absl:You are saving your model as an HDF5 file via `model.save()` or `keras.saving.save_model(model)`. This file format is considered legacy. We recommend using instead the native Keras format, e.g. `model.save('my_model.keras')` or `keras.saving.save_model(model, 'my_model.keras')`. \n"
     ]
    },
    {
     "name": "stdout",
     "output_type": "stream",
     "text": [
      "\u001b[1m15/15\u001b[0m \u001b[32m━━━━━━━━━━━━━━━━━━━━\u001b[0m\u001b[37m\u001b[0m \u001b[1m0s\u001b[0m 6ms/step - acc: 0.6914 - loss: 1.9651 - metric_f1score: 0.7124 - val_acc: 0.8500 - val_loss: 1.4941 - val_metric_f1score: 0.8760 - learning_rate: 0.0010\n",
      "Epoch 17/200\n",
      "\u001b[1m 1/15\u001b[0m \u001b[32m━\u001b[0m\u001b[37m━━━━━━━━━━━━━━━━━━━\u001b[0m \u001b[1m0s\u001b[0m 15ms/step - acc: 0.5625 - loss: 2.2052 - metric_f1score: 0.6296\n",
      "Epoch 17: val_acc improved from 0.85000 to 0.85833, saving model to models/multi_hand_gesture_classifier.h5\n"
     ]
    },
    {
     "name": "stderr",
     "output_type": "stream",
     "text": [
      "WARNING:absl:You are saving your model as an HDF5 file via `model.save()` or `keras.saving.save_model(model)`. This file format is considered legacy. We recommend using instead the native Keras format, e.g. `model.save('my_model.keras')` or `keras.saving.save_model(model, 'my_model.keras')`. \n"
     ]
    },
    {
     "name": "stdout",
     "output_type": "stream",
     "text": [
      "\u001b[1m15/15\u001b[0m \u001b[32m━━━━━━━━━━━━━━━━━━━━\u001b[0m\u001b[37m\u001b[0m \u001b[1m0s\u001b[0m 6ms/step - acc: 0.7019 - loss: 1.9985 - metric_f1score: 0.7223 - val_acc: 0.8583 - val_loss: 1.4793 - val_metric_f1score: 0.8574 - learning_rate: 0.0010\n",
      "Epoch 18/200\n",
      "\u001b[1m 1/15\u001b[0m \u001b[32m━\u001b[0m\u001b[37m━━━━━━━━━━━━━━━━━━━\u001b[0m \u001b[1m0s\u001b[0m 21ms/step - acc: 0.6250 - loss: 2.2254 - metric_f1score: 0.6000\n",
      "Epoch 18: val_acc did not improve from 0.85833\n",
      "\u001b[1m15/15\u001b[0m \u001b[32m━━━━━━━━━━━━━━━━━━━━\u001b[0m\u001b[37m\u001b[0m \u001b[1m0s\u001b[0m 5ms/step - acc: 0.7121 - loss: 1.8857 - metric_f1score: 0.7250 - val_acc: 0.8583 - val_loss: 1.4091 - val_metric_f1score: 0.8914 - learning_rate: 0.0010\n",
      "Epoch 19/200\n",
      "\u001b[1m 1/15\u001b[0m \u001b[32m━\u001b[0m\u001b[37m━━━━━━━━━━━━━━━━━━━\u001b[0m \u001b[1m0s\u001b[0m 13ms/step - acc: 0.6562 - loss: 2.0657 - metric_f1score: 0.6909\n",
      "Epoch 19: val_acc did not improve from 0.85833\n",
      "\u001b[1m15/15\u001b[0m \u001b[32m━━━━━━━━━━━━━━━━━━━━\u001b[0m\u001b[37m\u001b[0m \u001b[1m0s\u001b[0m 5ms/step - acc: 0.7070 - loss: 1.8327 - metric_f1score: 0.7407 - val_acc: 0.8333 - val_loss: 1.4308 - val_metric_f1score: 0.8760 - learning_rate: 0.0010\n",
      "Epoch 20/200\n",
      "\u001b[1m 1/15\u001b[0m \u001b[32m━\u001b[0m\u001b[37m━━━━━━━━━━━━━━━━━━━\u001b[0m \u001b[1m0s\u001b[0m 13ms/step - acc: 0.7188 - loss: 1.7699 - metric_f1score: 0.7586\n",
      "Epoch 20: val_acc improved from 0.85833 to 0.89167, saving model to models/multi_hand_gesture_classifier.h5\n"
     ]
    },
    {
     "name": "stderr",
     "output_type": "stream",
     "text": [
      "WARNING:absl:You are saving your model as an HDF5 file via `model.save()` or `keras.saving.save_model(model)`. This file format is considered legacy. We recommend using instead the native Keras format, e.g. `model.save('my_model.keras')` or `keras.saving.save_model(model, 'my_model.keras')`. \n"
     ]
    },
    {
     "name": "stdout",
     "output_type": "stream",
     "text": [
      "\u001b[1m15/15\u001b[0m \u001b[32m━━━━━━━━━━━━━━━━━━━━\u001b[0m\u001b[37m\u001b[0m \u001b[1m0s\u001b[0m 6ms/step - acc: 0.7955 - loss: 1.6538 - metric_f1score: 0.7940 - val_acc: 0.8917 - val_loss: 1.3159 - val_metric_f1score: 0.8929 - learning_rate: 0.0010\n",
      "Epoch 21/200\n",
      "\u001b[1m 1/15\u001b[0m \u001b[32m━\u001b[0m\u001b[37m━━━━━━━━━━━━━━━━━━━\u001b[0m \u001b[1m0s\u001b[0m 18ms/step - acc: 0.6250 - loss: 1.8638 - metric_f1score: 0.6780\n",
      "Epoch 21: val_acc improved from 0.89167 to 0.90833, saving model to models/multi_hand_gesture_classifier.h5\n"
     ]
    },
    {
     "name": "stderr",
     "output_type": "stream",
     "text": [
      "WARNING:absl:You are saving your model as an HDF5 file via `model.save()` or `keras.saving.save_model(model)`. This file format is considered legacy. We recommend using instead the native Keras format, e.g. `model.save('my_model.keras')` or `keras.saving.save_model(model, 'my_model.keras')`. \n"
     ]
    },
    {
     "name": "stdout",
     "output_type": "stream",
     "text": [
      "\u001b[1m15/15\u001b[0m \u001b[32m━━━━━━━━━━━━━━━━━━━━\u001b[0m\u001b[37m\u001b[0m \u001b[1m0s\u001b[0m 6ms/step - acc: 0.7544 - loss: 1.6620 - metric_f1score: 0.7728 - val_acc: 0.9083 - val_loss: 1.2565 - val_metric_f1score: 0.9093 - learning_rate: 0.0010\n",
      "Epoch 22/200\n",
      "\u001b[1m 1/15\u001b[0m \u001b[32m━\u001b[0m\u001b[37m━━━━━━━━━━━━━━━━━━━\u001b[0m \u001b[1m0s\u001b[0m 50ms/step - acc: 0.6562 - loss: 1.9757 - metric_f1score: 0.7170\n",
      "Epoch 22: val_acc did not improve from 0.90833\n",
      "\u001b[1m15/15\u001b[0m \u001b[32m━━━━━━━━━━━━━━━━━━━━\u001b[0m\u001b[37m\u001b[0m \u001b[1m0s\u001b[0m 6ms/step - acc: 0.7527 - loss: 1.7138 - metric_f1score: 0.7892 - val_acc: 0.9083 - val_loss: 1.2311 - val_metric_f1score: 0.9055 - learning_rate: 0.0010\n",
      "Epoch 23/200\n",
      "\u001b[1m 1/15\u001b[0m \u001b[32m━\u001b[0m\u001b[37m━━━━━━━━━━━━━━━━━━━\u001b[0m \u001b[1m0s\u001b[0m 14ms/step - acc: 0.5938 - loss: 2.0180 - metric_f1score: 0.6538\n",
      "Epoch 23: val_acc did not improve from 0.90833\n",
      "\u001b[1m15/15\u001b[0m \u001b[32m━━━━━━━━━━━━━━━━━━━━\u001b[0m\u001b[37m\u001b[0m \u001b[1m0s\u001b[0m 5ms/step - acc: 0.7344 - loss: 1.6286 - metric_f1score: 0.7741 - val_acc: 0.8833 - val_loss: 1.2068 - val_metric_f1score: 0.8974 - learning_rate: 0.0010\n",
      "Epoch 24/200\n",
      "\u001b[1m 1/15\u001b[0m \u001b[32m━\u001b[0m\u001b[37m━━━━━━━━━━━━━━━━━━━\u001b[0m \u001b[1m0s\u001b[0m 13ms/step - acc: 0.7188 - loss: 1.7265 - metric_f1score: 0.7586\n",
      "Epoch 24: val_acc did not improve from 0.90833\n",
      "\u001b[1m15/15\u001b[0m \u001b[32m━━━━━━━━━━━━━━━━━━━━\u001b[0m\u001b[37m\u001b[0m \u001b[1m0s\u001b[0m 5ms/step - acc: 0.7744 - loss: 1.5797 - metric_f1score: 0.8042 - val_acc: 0.9083 - val_loss: 1.1940 - val_metric_f1score: 0.9071 - learning_rate: 0.0010\n",
      "Epoch 25/200\n",
      "\u001b[1m 1/15\u001b[0m \u001b[32m━\u001b[0m\u001b[37m━━━━━━━━━━━━━━━━━━━\u001b[0m \u001b[1m0s\u001b[0m 13ms/step - acc: 0.7500 - loss: 1.7506 - metric_f1score: 0.7170\n",
      "Epoch 25: val_acc did not improve from 0.90833\n",
      "\u001b[1m15/15\u001b[0m \u001b[32m━━━━━━━━━━━━━━━━━━━━\u001b[0m\u001b[37m\u001b[0m \u001b[1m0s\u001b[0m 5ms/step - acc: 0.7895 - loss: 1.4832 - metric_f1score: 0.8070 - val_acc: 0.9000 - val_loss: 1.1648 - val_metric_f1score: 0.9150 - learning_rate: 0.0010\n",
      "Epoch 26/200\n",
      "\u001b[1m 1/15\u001b[0m \u001b[32m━\u001b[0m\u001b[37m━━━━━━━━━━━━━━━━━━━\u001b[0m \u001b[1m0s\u001b[0m 14ms/step - acc: 0.8125 - loss: 1.5789 - metric_f1score: 0.8276\n",
      "Epoch 26: val_acc improved from 0.90833 to 0.91667, saving model to models/multi_hand_gesture_classifier.h5\n"
     ]
    },
    {
     "name": "stderr",
     "output_type": "stream",
     "text": [
      "WARNING:absl:You are saving your model as an HDF5 file via `model.save()` or `keras.saving.save_model(model)`. This file format is considered legacy. We recommend using instead the native Keras format, e.g. `model.save('my_model.keras')` or `keras.saving.save_model(model, 'my_model.keras')`. \n"
     ]
    },
    {
     "name": "stdout",
     "output_type": "stream",
     "text": [
      "\u001b[1m15/15\u001b[0m \u001b[32m━━━━━━━━━━━━━━━━━━━━\u001b[0m\u001b[37m\u001b[0m \u001b[1m0s\u001b[0m 6ms/step - acc: 0.8153 - loss: 1.4668 - metric_f1score: 0.8353 - val_acc: 0.9167 - val_loss: 1.1418 - val_metric_f1score: 0.9225 - learning_rate: 0.0010\n",
      "Epoch 27/200\n",
      "\u001b[1m 1/15\u001b[0m \u001b[32m━\u001b[0m\u001b[37m━━━━━━━━━━━━━━━━━━━\u001b[0m \u001b[1m0s\u001b[0m 16ms/step - acc: 0.6562 - loss: 1.7543 - metric_f1score: 0.6667\n",
      "Epoch 27: val_acc improved from 0.91667 to 0.92500, saving model to models/multi_hand_gesture_classifier.h5\n"
     ]
    },
    {
     "name": "stderr",
     "output_type": "stream",
     "text": [
      "WARNING:absl:You are saving your model as an HDF5 file via `model.save()` or `keras.saving.save_model(model)`. This file format is considered legacy. We recommend using instead the native Keras format, e.g. `model.save('my_model.keras')` or `keras.saving.save_model(model, 'my_model.keras')`. \n"
     ]
    },
    {
     "name": "stdout",
     "output_type": "stream",
     "text": [
      "\u001b[1m15/15\u001b[0m \u001b[32m━━━━━━━━━━━━━━━━━━━━\u001b[0m\u001b[37m\u001b[0m \u001b[1m0s\u001b[0m 7ms/step - acc: 0.7996 - loss: 1.4885 - metric_f1score: 0.8105 - val_acc: 0.9250 - val_loss: 1.0859 - val_metric_f1score: 0.9270 - learning_rate: 0.0010\n",
      "Epoch 28/200\n",
      "\u001b[1m 9/15\u001b[0m \u001b[32m━━━━━━━━━━━━\u001b[0m\u001b[37m━━━━━━━━\u001b[0m \u001b[1m0s\u001b[0m 7ms/step - acc: 0.8046 - loss: 1.3851 - metric_f1score: 0.8231 \n",
      "Epoch 28: val_acc did not improve from 0.92500\n",
      "\u001b[1m15/15\u001b[0m \u001b[32m━━━━━━━━━━━━━━━━━━━━\u001b[0m\u001b[37m\u001b[0m \u001b[1m0s\u001b[0m 8ms/step - acc: 0.8153 - loss: 1.3559 - metric_f1score: 0.8324 - val_acc: 0.9083 - val_loss: 1.0893 - val_metric_f1score: 0.9116 - learning_rate: 0.0010\n",
      "Epoch 29/200\n",
      "\u001b[1m 1/15\u001b[0m \u001b[32m━\u001b[0m\u001b[37m━━━━━━━━━━━━━━━━━━━\u001b[0m \u001b[1m0s\u001b[0m 14ms/step - acc: 0.7500 - loss: 1.6133 - metric_f1score: 0.7857\n",
      "Epoch 29: val_acc did not improve from 0.92500\n",
      "\u001b[1m15/15\u001b[0m \u001b[32m━━━━━━━━━━━━━━━━━━━━\u001b[0m\u001b[37m\u001b[0m \u001b[1m0s\u001b[0m 5ms/step - acc: 0.8375 - loss: 1.3478 - metric_f1score: 0.8458 - val_acc: 0.9167 - val_loss: 1.0875 - val_metric_f1score: 0.9308 - learning_rate: 0.0010\n",
      "Epoch 30/200\n",
      "\u001b[1m 1/15\u001b[0m \u001b[32m━\u001b[0m\u001b[37m━━━━━━━━━━━━━━━━━━━\u001b[0m \u001b[1m0s\u001b[0m 13ms/step - acc: 0.6875 - loss: 1.5653 - metric_f1score: 0.7636\n",
      "Epoch 30: val_acc improved from 0.92500 to 0.93333, saving model to models/multi_hand_gesture_classifier.h5\n"
     ]
    },
    {
     "name": "stderr",
     "output_type": "stream",
     "text": [
      "WARNING:absl:You are saving your model as an HDF5 file via `model.save()` or `keras.saving.save_model(model)`. This file format is considered legacy. We recommend using instead the native Keras format, e.g. `model.save('my_model.keras')` or `keras.saving.save_model(model, 'my_model.keras')`. \n"
     ]
    },
    {
     "name": "stdout",
     "output_type": "stream",
     "text": [
      "\u001b[1m15/15\u001b[0m \u001b[32m━━━━━━━━━━━━━━━━━━━━\u001b[0m\u001b[37m\u001b[0m \u001b[1m0s\u001b[0m 6ms/step - acc: 0.7955 - loss: 1.3664 - metric_f1score: 0.8264 - val_acc: 0.9333 - val_loss: 1.0141 - val_metric_f1score: 0.9359 - learning_rate: 0.0010\n",
      "Epoch 31/200\n",
      "\u001b[1m 1/15\u001b[0m \u001b[32m━\u001b[0m\u001b[37m━━━━━━━━━━━━━━━━━━━\u001b[0m \u001b[1m0s\u001b[0m 14ms/step - acc: 0.9062 - loss: 1.2270 - metric_f1score: 0.8966\n",
      "Epoch 31: val_acc did not improve from 0.93333\n",
      "\u001b[1m15/15\u001b[0m \u001b[32m━━━━━━━━━━━━━━━━━━━━\u001b[0m\u001b[37m\u001b[0m \u001b[1m0s\u001b[0m 5ms/step - acc: 0.8727 - loss: 1.2408 - metric_f1score: 0.8752 - val_acc: 0.9333 - val_loss: 0.9861 - val_metric_f1score: 0.9500 - learning_rate: 0.0010\n",
      "Epoch 32/200\n",
      "\u001b[1m 1/15\u001b[0m \u001b[32m━\u001b[0m\u001b[37m━━━━━━━━━━━━━━━━━━━\u001b[0m \u001b[1m0s\u001b[0m 13ms/step - acc: 0.7812 - loss: 1.4061 - metric_f1score: 0.7931\n",
      "Epoch 32: val_acc did not improve from 0.93333\n",
      "\u001b[1m15/15\u001b[0m \u001b[32m━━━━━━━━━━━━━━━━━━━━\u001b[0m\u001b[37m\u001b[0m \u001b[1m0s\u001b[0m 5ms/step - acc: 0.8600 - loss: 1.2485 - metric_f1score: 0.8812 - val_acc: 0.9333 - val_loss: 0.9655 - val_metric_f1score: 0.9541 - learning_rate: 0.0010\n",
      "Epoch 33/200\n",
      "\u001b[1m 1/15\u001b[0m \u001b[32m━\u001b[0m\u001b[37m━━━━━━━━━━━━━━━━━━━\u001b[0m \u001b[1m0s\u001b[0m 13ms/step - acc: 0.9062 - loss: 1.1548 - metric_f1score: 0.9333\n",
      "Epoch 33: val_acc improved from 0.93333 to 0.96667, saving model to models/multi_hand_gesture_classifier.h5\n"
     ]
    },
    {
     "name": "stderr",
     "output_type": "stream",
     "text": [
      "WARNING:absl:You are saving your model as an HDF5 file via `model.save()` or `keras.saving.save_model(model)`. This file format is considered legacy. We recommend using instead the native Keras format, e.g. `model.save('my_model.keras')` or `keras.saving.save_model(model, 'my_model.keras')`. \n"
     ]
    },
    {
     "name": "stdout",
     "output_type": "stream",
     "text": [
      "\u001b[1m15/15\u001b[0m \u001b[32m━━━━━━━━━━━━━━━━━━━━\u001b[0m\u001b[37m\u001b[0m \u001b[1m0s\u001b[0m 6ms/step - acc: 0.8515 - loss: 1.2427 - metric_f1score: 0.8698 - val_acc: 0.9667 - val_loss: 0.9581 - val_metric_f1score: 0.9544 - learning_rate: 0.0010\n",
      "Epoch 34/200\n",
      "\u001b[1m 1/15\u001b[0m \u001b[32m━\u001b[0m\u001b[37m━━━━━━━━━━━━━━━━━━━\u001b[0m \u001b[1m0s\u001b[0m 15ms/step - acc: 0.8438 - loss: 1.2952 - metric_f1score: 0.8475\n",
      "Epoch 34: val_acc improved from 0.96667 to 0.97500, saving model to models/multi_hand_gesture_classifier.h5\n"
     ]
    },
    {
     "name": "stderr",
     "output_type": "stream",
     "text": [
      "WARNING:absl:You are saving your model as an HDF5 file via `model.save()` or `keras.saving.save_model(model)`. This file format is considered legacy. We recommend using instead the native Keras format, e.g. `model.save('my_model.keras')` or `keras.saving.save_model(model, 'my_model.keras')`. \n"
     ]
    },
    {
     "name": "stdout",
     "output_type": "stream",
     "text": [
      "\u001b[1m15/15\u001b[0m \u001b[32m━━━━━━━━━━━━━━━━━━━━\u001b[0m\u001b[37m\u001b[0m \u001b[1m0s\u001b[0m 6ms/step - acc: 0.8791 - loss: 1.1697 - metric_f1score: 0.8893 - val_acc: 0.9750 - val_loss: 0.9518 - val_metric_f1score: 0.9500 - learning_rate: 0.0010\n",
      "Epoch 35/200\n",
      "\u001b[1m 1/15\u001b[0m \u001b[32m━\u001b[0m\u001b[37m━━━━━━━━━━━━━━━━━━━\u001b[0m \u001b[1m0s\u001b[0m 16ms/step - acc: 0.7500 - loss: 1.4552 - metric_f1score: 0.8136\n",
      "Epoch 35: val_acc did not improve from 0.97500\n",
      "\u001b[1m15/15\u001b[0m \u001b[32m━━━━━━━━━━━━━━━━━━━━\u001b[0m\u001b[37m\u001b[0m \u001b[1m0s\u001b[0m 5ms/step - acc: 0.8654 - loss: 1.1905 - metric_f1score: 0.8900 - val_acc: 0.9417 - val_loss: 0.9491 - val_metric_f1score: 0.9541 - learning_rate: 0.0010\n",
      "Epoch 36/200\n",
      "\u001b[1m 1/15\u001b[0m \u001b[32m━\u001b[0m\u001b[37m━━━━━━━━━━━━━━━━━━━\u001b[0m \u001b[1m0s\u001b[0m 14ms/step - acc: 0.8750 - loss: 1.1289 - metric_f1score: 0.9333\n",
      "Epoch 36: val_acc did not improve from 0.97500\n",
      "\u001b[1m15/15\u001b[0m \u001b[32m━━━━━━━━━━━━━━━━━━━━\u001b[0m\u001b[37m\u001b[0m \u001b[1m0s\u001b[0m 5ms/step - acc: 0.8778 - loss: 1.1547 - metric_f1score: 0.9016 - val_acc: 0.9667 - val_loss: 0.9252 - val_metric_f1score: 0.9544 - learning_rate: 0.0010\n",
      "Epoch 37/200\n",
      "\u001b[1m 6/15\u001b[0m \u001b[32m━━━━━━━━\u001b[0m\u001b[37m━━━━━━━━━━━━\u001b[0m \u001b[1m0s\u001b[0m 10ms/step - acc: 0.8206 - loss: 1.3417 - metric_f1score: 0.8367\n",
      "Epoch 37: val_acc did not improve from 0.97500\n",
      "\u001b[1m15/15\u001b[0m \u001b[32m━━━━━━━━━━━━━━━━━━━━\u001b[0m\u001b[37m\u001b[0m \u001b[1m0s\u001b[0m 8ms/step - acc: 0.8476 - loss: 1.2325 - metric_f1score: 0.8635 - val_acc: 0.9667 - val_loss: 0.9008 - val_metric_f1score: 0.9544 - learning_rate: 0.0010\n",
      "Epoch 38/200\n",
      "\u001b[1m 1/15\u001b[0m \u001b[32m━\u001b[0m\u001b[37m━━━━━━━━━━━━━━━━━━━\u001b[0m \u001b[1m0s\u001b[0m 13ms/step - acc: 0.8438 - loss: 1.3012 - metric_f1score: 0.8000\n",
      "Epoch 38: val_acc did not improve from 0.97500\n",
      "\u001b[1m15/15\u001b[0m \u001b[32m━━━━━━━━━━━━━━━━━━━━\u001b[0m\u001b[37m\u001b[0m \u001b[1m0s\u001b[0m 5ms/step - acc: 0.8911 - loss: 1.0986 - metric_f1score: 0.8808 - val_acc: 0.9667 - val_loss: 0.8849 - val_metric_f1score: 0.9585 - learning_rate: 0.0010\n",
      "Epoch 39/200\n",
      "\u001b[1m 1/15\u001b[0m \u001b[32m━\u001b[0m\u001b[37m━━━━━━━━━━━━━━━━━━━\u001b[0m \u001b[1m0s\u001b[0m 12ms/step - acc: 0.9062 - loss: 1.2181 - metric_f1score: 0.8525\n",
      "Epoch 39: val_acc did not improve from 0.97500\n",
      "\u001b[1m15/15\u001b[0m \u001b[32m━━━━━━━━━━━━━━━━━━━━\u001b[0m\u001b[37m\u001b[0m \u001b[1m0s\u001b[0m 5ms/step - acc: 0.8941 - loss: 1.1107 - metric_f1score: 0.8964 - val_acc: 0.9667 - val_loss: 0.8555 - val_metric_f1score: 0.9623 - learning_rate: 0.0010\n",
      "Epoch 40/200\n",
      "\u001b[1m 1/15\u001b[0m \u001b[32m━\u001b[0m\u001b[37m━━━━━━━━━━━━━━━━━━━\u001b[0m \u001b[1m0s\u001b[0m 12ms/step - acc: 0.8750 - loss: 1.1647 - metric_f1score: 0.8621\n",
      "Epoch 40: val_acc did not improve from 0.97500\n",
      "\u001b[1m15/15\u001b[0m \u001b[32m━━━━━━━━━━━━━━━━━━━━\u001b[0m\u001b[37m\u001b[0m \u001b[1m0s\u001b[0m 5ms/step - acc: 0.8984 - loss: 1.0611 - metric_f1score: 0.9038 - val_acc: 0.9667 - val_loss: 0.8388 - val_metric_f1score: 0.9585 - learning_rate: 0.0010\n",
      "Epoch 41/200\n",
      "\u001b[1m 1/15\u001b[0m \u001b[32m━\u001b[0m\u001b[37m━━━━━━━━━━━━━━━━━━━\u001b[0m \u001b[1m0s\u001b[0m 13ms/step - acc: 0.8438 - loss: 1.2109 - metric_f1score: 0.8197\n",
      "Epoch 41: val_acc improved from 0.97500 to 0.99167, saving model to models/multi_hand_gesture_classifier.h5\n"
     ]
    },
    {
     "name": "stderr",
     "output_type": "stream",
     "text": [
      "WARNING:absl:You are saving your model as an HDF5 file via `model.save()` or `keras.saving.save_model(model)`. This file format is considered legacy. We recommend using instead the native Keras format, e.g. `model.save('my_model.keras')` or `keras.saving.save_model(model, 'my_model.keras')`. \n"
     ]
    },
    {
     "name": "stdout",
     "output_type": "stream",
     "text": [
      "\u001b[1m15/15\u001b[0m \u001b[32m━━━━━━━━━━━━━━━━━━━━\u001b[0m\u001b[37m\u001b[0m \u001b[1m0s\u001b[0m 6ms/step - acc: 0.9053 - loss: 1.0156 - metric_f1score: 0.9042 - val_acc: 0.9917 - val_loss: 0.8155 - val_metric_f1score: 0.9746 - learning_rate: 0.0010\n",
      "Epoch 42/200\n",
      "\u001b[1m 1/15\u001b[0m \u001b[32m━\u001b[0m\u001b[37m━━━━━━━━━━━━━━━━━━━\u001b[0m \u001b[1m0s\u001b[0m 15ms/step - acc: 0.8438 - loss: 1.1996 - metric_f1score: 0.8667\n",
      "Epoch 42: val_acc did not improve from 0.99167\n",
      "\u001b[1m15/15\u001b[0m \u001b[32m━━━━━━━━━━━━━━━━━━━━\u001b[0m\u001b[37m\u001b[0m \u001b[1m0s\u001b[0m 5ms/step - acc: 0.8734 - loss: 1.1442 - metric_f1score: 0.8816 - val_acc: 0.9917 - val_loss: 0.8110 - val_metric_f1score: 0.9666 - learning_rate: 0.0010\n",
      "Epoch 43/200\n",
      "\u001b[1m 1/15\u001b[0m \u001b[32m━\u001b[0m\u001b[37m━━━━━━━━━━━━━━━━━━━\u001b[0m \u001b[1m0s\u001b[0m 13ms/step - acc: 0.8125 - loss: 1.2693 - metric_f1score: 0.8621\n",
      "Epoch 43: val_acc did not improve from 0.99167\n",
      "\u001b[1m15/15\u001b[0m \u001b[32m━━━━━━━━━━━━━━━━━━━━\u001b[0m\u001b[37m\u001b[0m \u001b[1m0s\u001b[0m 5ms/step - acc: 0.8694 - loss: 1.0952 - metric_f1score: 0.8960 - val_acc: 0.9917 - val_loss: 0.8081 - val_metric_f1score: 0.9666 - learning_rate: 0.0010\n",
      "Epoch 44/200\n",
      "\u001b[1m 1/15\u001b[0m \u001b[32m━\u001b[0m\u001b[37m━━━━━━━━━━━━━━━━━━━\u001b[0m \u001b[1m0s\u001b[0m 13ms/step - acc: 0.9062 - loss: 0.9844 - metric_f1score: 0.8852\n",
      "Epoch 44: val_acc improved from 0.99167 to 1.00000, saving model to models/multi_hand_gesture_classifier.h5\n"
     ]
    },
    {
     "name": "stderr",
     "output_type": "stream",
     "text": [
      "WARNING:absl:You are saving your model as an HDF5 file via `model.save()` or `keras.saving.save_model(model)`. This file format is considered legacy. We recommend using instead the native Keras format, e.g. `model.save('my_model.keras')` or `keras.saving.save_model(model, 'my_model.keras')`. \n"
     ]
    },
    {
     "name": "stdout",
     "output_type": "stream",
     "text": [
      "\u001b[1m15/15\u001b[0m \u001b[32m━━━━━━━━━━━━━━━━━━━━\u001b[0m\u001b[37m\u001b[0m \u001b[1m0s\u001b[0m 5ms/step - acc: 0.9165 - loss: 0.9683 - metric_f1score: 0.9140 - val_acc: 1.0000 - val_loss: 0.7855 - val_metric_f1score: 0.9746 - learning_rate: 0.0010\n",
      "Epoch 45/200\n",
      "\u001b[1m 1/15\u001b[0m \u001b[32m━\u001b[0m\u001b[37m━━━━━━━━━━━━━━━━━━━\u001b[0m \u001b[1m0s\u001b[0m 16ms/step - acc: 0.8438 - loss: 1.2358 - metric_f1score: 0.8621\n",
      "Epoch 45: val_acc did not improve from 1.00000\n",
      "\u001b[1m15/15\u001b[0m \u001b[32m━━━━━━━━━━━━━━━━━━━━\u001b[0m\u001b[37m\u001b[0m \u001b[1m0s\u001b[0m 5ms/step - acc: 0.9277 - loss: 0.9523 - metric_f1score: 0.9314 - val_acc: 0.9917 - val_loss: 0.8147 - val_metric_f1score: 0.9639 - learning_rate: 0.0010\n",
      "Epoch 46/200\n",
      "\u001b[1m 1/15\u001b[0m \u001b[32m━\u001b[0m\u001b[37m━━━━━━━━━━━━━━━━━━━\u001b[0m \u001b[1m0s\u001b[0m 13ms/step - acc: 0.8438 - loss: 1.3308 - metric_f1score: 0.8475\n",
      "Epoch 46: val_acc did not improve from 1.00000\n",
      "\u001b[1m15/15\u001b[0m \u001b[32m━━━━━━━━━━━━━━━━━━━━\u001b[0m\u001b[37m\u001b[0m \u001b[1m0s\u001b[0m 5ms/step - acc: 0.9042 - loss: 1.0234 - metric_f1score: 0.9046 - val_acc: 0.9833 - val_loss: 0.7895 - val_metric_f1score: 0.9639 - learning_rate: 0.0010\n",
      "Epoch 47/200\n",
      "\u001b[1m 1/15\u001b[0m \u001b[32m━\u001b[0m\u001b[37m━━━━━━━━━━━━━━━━━━━\u001b[0m \u001b[1m0s\u001b[0m 13ms/step - acc: 0.8750 - loss: 1.0158 - metric_f1score: 0.8667\n",
      "Epoch 47: val_acc did not improve from 1.00000\n",
      "\u001b[1m15/15\u001b[0m \u001b[32m━━━━━━━━━━━━━━━━━━━━\u001b[0m\u001b[37m\u001b[0m \u001b[1m0s\u001b[0m 5ms/step - acc: 0.9172 - loss: 0.9361 - metric_f1score: 0.9152 - val_acc: 0.9833 - val_loss: 0.7461 - val_metric_f1score: 0.9746 - learning_rate: 0.0010\n",
      "Epoch 48/200\n",
      "\u001b[1m 1/15\u001b[0m \u001b[32m━\u001b[0m\u001b[37m━━━━━━━━━━━━━━━━━━━\u001b[0m \u001b[1m0s\u001b[0m 12ms/step - acc: 0.8750 - loss: 1.0096 - metric_f1score: 0.8667\n",
      "Epoch 48: val_acc did not improve from 1.00000\n",
      "\u001b[1m15/15\u001b[0m \u001b[32m━━━━━━━━━━━━━━━━━━━━\u001b[0m\u001b[37m\u001b[0m \u001b[1m0s\u001b[0m 5ms/step - acc: 0.9020 - loss: 0.9846 - metric_f1score: 0.9057 - val_acc: 0.9917 - val_loss: 0.7747 - val_metric_f1score: 0.9639 - learning_rate: 0.0010\n",
      "Epoch 49/200\n",
      "\u001b[1m 6/15\u001b[0m \u001b[32m━━━━━━━━\u001b[0m\u001b[37m━━━━━━━━━━━━\u001b[0m \u001b[1m0s\u001b[0m 10ms/step - acc: 0.9003 - loss: 0.9878 - metric_f1score: 0.9227\n",
      "Epoch 49: val_acc did not improve from 1.00000\n",
      "\u001b[1m15/15\u001b[0m \u001b[32m━━━━━━━━━━━━━━━━━━━━\u001b[0m\u001b[37m\u001b[0m \u001b[1m0s\u001b[0m 8ms/step - acc: 0.9124 - loss: 0.9536 - metric_f1score: 0.9262 - val_acc: 0.9917 - val_loss: 0.7392 - val_metric_f1score: 0.9598 - learning_rate: 0.0010\n",
      "Epoch 50/200\n",
      "\u001b[1m 1/15\u001b[0m \u001b[32m━\u001b[0m\u001b[37m━━━━━━━━━━━━━━━━━━━\u001b[0m \u001b[1m0s\u001b[0m 12ms/step - acc: 0.9062 - loss: 0.9805 - metric_f1score: 0.9000\n",
      "Epoch 50: val_acc did not improve from 1.00000\n",
      "\u001b[1m15/15\u001b[0m \u001b[32m━━━━━━━━━━━━━━━━━━━━\u001b[0m\u001b[37m\u001b[0m \u001b[1m0s\u001b[0m 5ms/step - acc: 0.9388 - loss: 0.8748 - metric_f1score: 0.9373 - val_acc: 0.9917 - val_loss: 0.7263 - val_metric_f1score: 0.9639 - learning_rate: 0.0010\n",
      "Epoch 51/200\n",
      "\u001b[1m 1/15\u001b[0m \u001b[32m━\u001b[0m\u001b[37m━━━━━━━━━━━━━━━━━━━\u001b[0m \u001b[1m0s\u001b[0m 13ms/step - acc: 0.8125 - loss: 1.0937 - metric_f1score: 0.8667\n",
      "Epoch 51: val_acc did not improve from 1.00000\n",
      "\u001b[1m15/15\u001b[0m \u001b[32m━━━━━━━━━━━━━━━━━━━━\u001b[0m\u001b[37m\u001b[0m \u001b[1m0s\u001b[0m 5ms/step - acc: 0.9168 - loss: 0.9008 - metric_f1score: 0.9299 - val_acc: 0.9917 - val_loss: 0.7194 - val_metric_f1score: 0.9639 - learning_rate: 0.0010\n",
      "Epoch 52/200\n",
      "\u001b[1m 1/15\u001b[0m \u001b[32m━\u001b[0m\u001b[37m━━━━━━━━━━━━━━━━━━━\u001b[0m \u001b[1m0s\u001b[0m 12ms/step - acc: 0.8438 - loss: 1.1839 - metric_f1score: 0.8710\n",
      "Epoch 52: val_acc did not improve from 1.00000\n",
      "\u001b[1m15/15\u001b[0m \u001b[32m━━━━━━━━━━━━━━━━━━━━\u001b[0m\u001b[37m\u001b[0m \u001b[1m0s\u001b[0m 5ms/step - acc: 0.9128 - loss: 0.9381 - metric_f1score: 0.9230 - val_acc: 1.0000 - val_loss: 0.7020 - val_metric_f1score: 0.9746 - learning_rate: 0.0010\n",
      "Epoch 53/200\n",
      "\u001b[1m 1/15\u001b[0m \u001b[32m━\u001b[0m\u001b[37m━━━━━━━━━━━━━━━━━━━\u001b[0m \u001b[1m0s\u001b[0m 13ms/step - acc: 0.9688 - loss: 0.8231 - metric_f1score: 0.9677\n",
      "Epoch 53: val_acc did not improve from 1.00000\n",
      "\u001b[1m15/15\u001b[0m \u001b[32m━━━━━━━━━━━━━━━━━━━━\u001b[0m\u001b[37m\u001b[0m \u001b[1m0s\u001b[0m 5ms/step - acc: 0.9463 - loss: 0.8093 - metric_f1score: 0.9536 - val_acc: 0.9917 - val_loss: 0.7110 - val_metric_f1score: 0.9665 - learning_rate: 0.0010\n",
      "Epoch 54/200\n",
      "\u001b[1m 1/15\u001b[0m \u001b[32m━\u001b[0m\u001b[37m━━━━━━━━━━━━━━━━━━━\u001b[0m \u001b[1m0s\u001b[0m 13ms/step - acc: 0.7812 - loss: 1.0703 - metric_f1score: 0.8065\n",
      "Epoch 54: val_acc did not improve from 1.00000\n",
      "\u001b[1m15/15\u001b[0m \u001b[32m━━━━━━━━━━━━━━━━━━━━\u001b[0m\u001b[37m\u001b[0m \u001b[1m0s\u001b[0m 5ms/step - acc: 0.9092 - loss: 0.9111 - metric_f1score: 0.9081 - val_acc: 0.9917 - val_loss: 0.6961 - val_metric_f1score: 0.9665 - learning_rate: 0.0010\n",
      "Epoch 55/200\n",
      "\u001b[1m 1/15\u001b[0m \u001b[32m━\u001b[0m\u001b[37m━━━━━━━━━━━━━━━━━━━\u001b[0m \u001b[1m0s\u001b[0m 12ms/step - acc: 0.9375 - loss: 0.7985 - metric_f1score: 0.9524\n",
      "Epoch 55: val_acc did not improve from 1.00000\n",
      "\u001b[1m15/15\u001b[0m \u001b[32m━━━━━━━━━━━━━━━━━━━━\u001b[0m\u001b[37m\u001b[0m \u001b[1m0s\u001b[0m 5ms/step - acc: 0.9367 - loss: 0.8121 - metric_f1score: 0.9463 - val_acc: 1.0000 - val_loss: 0.6648 - val_metric_f1score: 0.9746 - learning_rate: 0.0010\n",
      "Epoch 56/200\n",
      "\u001b[1m 1/15\u001b[0m \u001b[32m━\u001b[0m\u001b[37m━━━━━━━━━━━━━━━━━━━\u001b[0m \u001b[1m0s\u001b[0m 14ms/step - acc: 0.9375 - loss: 0.7756 - metric_f1score: 0.9508\n",
      "Epoch 56: val_acc did not improve from 1.00000\n",
      "\u001b[1m15/15\u001b[0m \u001b[32m━━━━━━━━━━━━━━━━━━━━\u001b[0m\u001b[37m\u001b[0m \u001b[1m0s\u001b[0m 6ms/step - acc: 0.9331 - loss: 0.8397 - metric_f1score: 0.9279 - val_acc: 1.0000 - val_loss: 0.6622 - val_metric_f1score: 0.9907 - learning_rate: 0.0010\n",
      "Epoch 57/200\n",
      "\u001b[1m 1/15\u001b[0m \u001b[32m━\u001b[0m\u001b[37m━━━━━━━━━━━━━━━━━━━\u001b[0m \u001b[1m0s\u001b[0m 14ms/step - acc: 0.9062 - loss: 0.8353 - metric_f1score: 0.9355\n",
      "Epoch 57: val_acc did not improve from 1.00000\n",
      "\u001b[1m15/15\u001b[0m \u001b[32m━━━━━━━━━━━━━━━━━━━━\u001b[0m\u001b[37m\u001b[0m \u001b[1m0s\u001b[0m 6ms/step - acc: 0.9445 - loss: 0.7792 - metric_f1score: 0.9515 - val_acc: 0.9917 - val_loss: 0.6541 - val_metric_f1score: 0.9867 - learning_rate: 0.0010\n",
      "Epoch 58/200\n",
      "\u001b[1m 1/15\u001b[0m \u001b[32m━\u001b[0m\u001b[37m━━━━━━━━━━━━━━━━━━━\u001b[0m \u001b[1m0s\u001b[0m 15ms/step - acc: 0.9688 - loss: 0.7207 - metric_f1score: 0.9677\n",
      "Epoch 58: val_acc did not improve from 1.00000\n",
      "\u001b[1m15/15\u001b[0m \u001b[32m━━━━━━━━━━━━━━━━━━━━\u001b[0m\u001b[37m\u001b[0m \u001b[1m0s\u001b[0m 6ms/step - acc: 0.9391 - loss: 0.8285 - metric_f1score: 0.9476 - val_acc: 1.0000 - val_loss: 0.6427 - val_metric_f1score: 0.9907 - learning_rate: 0.0010\n",
      "Epoch 59/200\n",
      "\u001b[1m 1/15\u001b[0m \u001b[32m━\u001b[0m\u001b[37m━━━━━━━━━━━━━━━━━━━\u001b[0m \u001b[1m0s\u001b[0m 14ms/step - acc: 0.9062 - loss: 0.8668 - metric_f1score: 0.9333\n",
      "Epoch 59: val_acc did not improve from 1.00000\n",
      "\u001b[1m15/15\u001b[0m \u001b[32m━━━━━━━━━━━━━━━━━━━━\u001b[0m\u001b[37m\u001b[0m \u001b[1m0s\u001b[0m 5ms/step - acc: 0.9311 - loss: 0.7998 - metric_f1score: 0.9470 - val_acc: 1.0000 - val_loss: 0.6367 - val_metric_f1score: 0.9907 - learning_rate: 0.0010\n",
      "Epoch 60/200\n",
      "\u001b[1m 1/15\u001b[0m \u001b[32m━\u001b[0m\u001b[37m━━━━━━━━━━━━━━━━━━━\u001b[0m \u001b[1m0s\u001b[0m 12ms/step - acc: 0.7812 - loss: 1.3998 - metric_f1score: 0.7667\n",
      "Epoch 60: val_acc did not improve from 1.00000\n",
      "\u001b[1m15/15\u001b[0m \u001b[32m━━━━━━━━━━━━━━━━━━━━\u001b[0m\u001b[37m\u001b[0m \u001b[1m0s\u001b[0m 5ms/step - acc: 0.9106 - loss: 0.8946 - metric_f1score: 0.9142 - val_acc: 1.0000 - val_loss: 0.6299 - val_metric_f1score: 0.9907 - learning_rate: 0.0010\n",
      "Epoch 61/200\n",
      "\u001b[1m 1/15\u001b[0m \u001b[32m━\u001b[0m\u001b[37m━━━━━━━━━━━━━━━━━━━\u001b[0m \u001b[1m0s\u001b[0m 42ms/step - acc: 0.9375 - loss: 0.7780 - metric_f1score: 0.9355\n",
      "Epoch 61: val_acc did not improve from 1.00000\n",
      "\u001b[1m15/15\u001b[0m \u001b[32m━━━━━━━━━━━━━━━━━━━━\u001b[0m\u001b[37m\u001b[0m \u001b[1m0s\u001b[0m 5ms/step - acc: 0.9491 - loss: 0.7756 - metric_f1score: 0.9514 - val_acc: 1.0000 - val_loss: 0.6227 - val_metric_f1score: 0.9907 - learning_rate: 0.0010\n",
      "Epoch 62/200\n",
      "\u001b[1m 1/15\u001b[0m \u001b[32m━\u001b[0m\u001b[37m━━━━━━━━━━━━━━━━━━━\u001b[0m \u001b[1m0s\u001b[0m 13ms/step - acc: 0.9688 - loss: 0.7108 - metric_f1score: 0.9677\n",
      "Epoch 62: val_acc did not improve from 1.00000\n",
      "\u001b[1m15/15\u001b[0m \u001b[32m━━━━━━━━━━━━━━━━━━━━\u001b[0m\u001b[37m\u001b[0m \u001b[1m0s\u001b[0m 5ms/step - acc: 0.9589 - loss: 0.7279 - metric_f1score: 0.9542 - val_acc: 0.9917 - val_loss: 0.6165 - val_metric_f1score: 0.9947 - learning_rate: 0.0010\n",
      "Epoch 63/200\n",
      "\u001b[1m 1/15\u001b[0m \u001b[32m━\u001b[0m\u001b[37m━━━━━━━━━━━━━━━━━━━\u001b[0m \u001b[1m0s\u001b[0m 11ms/step - acc: 0.9375 - loss: 0.7602 - metric_f1score: 0.9355\n",
      "Epoch 63: val_acc did not improve from 1.00000\n",
      "\u001b[1m15/15\u001b[0m \u001b[32m━━━━━━━━━━━━━━━━━━━━\u001b[0m\u001b[37m\u001b[0m \u001b[1m0s\u001b[0m 5ms/step - acc: 0.9359 - loss: 0.7618 - metric_f1score: 0.9447 - val_acc: 0.9917 - val_loss: 0.6092 - val_metric_f1score: 0.9947 - learning_rate: 0.0010\n",
      "Epoch 64/200\n",
      "\u001b[1m 1/15\u001b[0m \u001b[32m━\u001b[0m\u001b[37m━━━━━━━━━━━━━━━━━━━\u001b[0m \u001b[1m0s\u001b[0m 13ms/step - acc: 0.8750 - loss: 1.0309 - metric_f1score: 0.8852\n",
      "Epoch 64: val_acc did not improve from 1.00000\n",
      "\u001b[1m15/15\u001b[0m \u001b[32m━━━━━━━━━━━━━━━━━━━━\u001b[0m\u001b[37m\u001b[0m \u001b[1m0s\u001b[0m 5ms/step - acc: 0.9348 - loss: 0.8176 - metric_f1score: 0.9375 - val_acc: 1.0000 - val_loss: 0.6014 - val_metric_f1score: 0.9947 - learning_rate: 0.0010\n",
      "Epoch 65/200\n",
      "\u001b[1m 1/15\u001b[0m \u001b[32m━\u001b[0m\u001b[37m━━━━━━━━━━━━━━━━━━━\u001b[0m \u001b[1m0s\u001b[0m 13ms/step - acc: 0.8750 - loss: 0.8775 - metric_f1score: 0.9032\n",
      "Epoch 65: val_acc did not improve from 1.00000\n",
      "\u001b[1m15/15\u001b[0m \u001b[32m━━━━━━━━━━━━━━━━━━━━\u001b[0m\u001b[37m\u001b[0m \u001b[1m0s\u001b[0m 5ms/step - acc: 0.9388 - loss: 0.7583 - metric_f1score: 0.9457 - val_acc: 1.0000 - val_loss: 0.6097 - val_metric_f1score: 0.9907 - learning_rate: 0.0010\n",
      "Epoch 66/200\n",
      "\u001b[1m 1/15\u001b[0m \u001b[32m━\u001b[0m\u001b[37m━━━━━━━━━━━━━━━━━━━\u001b[0m \u001b[1m0s\u001b[0m 11ms/step - acc: 0.9688 - loss: 0.7925 - metric_f1score: 0.9677\n",
      "Epoch 66: val_acc did not improve from 1.00000\n",
      "\u001b[1m15/15\u001b[0m \u001b[32m━━━━━━━━━━━━━━━━━━━━\u001b[0m\u001b[37m\u001b[0m \u001b[1m0s\u001b[0m 5ms/step - acc: 0.9395 - loss: 0.7462 - metric_f1score: 0.9446 - val_acc: 1.0000 - val_loss: 0.5982 - val_metric_f1score: 0.9947 - learning_rate: 0.0010\n",
      "Epoch 67/200\n",
      "\u001b[1m 1/15\u001b[0m \u001b[32m━\u001b[0m\u001b[37m━━━━━━━━━━━━━━━━━━━\u001b[0m \u001b[1m0s\u001b[0m 12ms/step - acc: 1.0000 - loss: 0.6697 - metric_f1score: 0.9841\n",
      "Epoch 67: val_acc did not improve from 1.00000\n",
      "\u001b[1m15/15\u001b[0m \u001b[32m━━━━━━━━━━━━━━━━━━━━\u001b[0m\u001b[37m\u001b[0m \u001b[1m0s\u001b[0m 5ms/step - acc: 0.9674 - loss: 0.7163 - metric_f1score: 0.9592 - val_acc: 1.0000 - val_loss: 0.5909 - val_metric_f1score: 0.9907 - learning_rate: 0.0010\n",
      "Epoch 68/200\n",
      "\u001b[1m 1/15\u001b[0m \u001b[32m━\u001b[0m\u001b[37m━━━━━━━━━━━━━━━━━━━\u001b[0m \u001b[1m0s\u001b[0m 12ms/step - acc: 0.8438 - loss: 1.0526 - metric_f1score: 0.8333\n",
      "Epoch 68: val_acc did not improve from 1.00000\n",
      "\u001b[1m15/15\u001b[0m \u001b[32m━━━━━━━━━━━━━━━━━━━━\u001b[0m\u001b[37m\u001b[0m \u001b[1m0s\u001b[0m 5ms/step - acc: 0.9359 - loss: 0.7771 - metric_f1score: 0.9308 - val_acc: 1.0000 - val_loss: 0.5892 - val_metric_f1score: 0.9867 - learning_rate: 0.0010\n",
      "Epoch 69/200\n",
      "\u001b[1m 1/15\u001b[0m \u001b[32m━\u001b[0m\u001b[37m━━━━━━━━━━━━━━━━━━━\u001b[0m \u001b[1m0s\u001b[0m 11ms/step - acc: 1.0000 - loss: 0.7158 - metric_f1score: 0.9677\n",
      "Epoch 69: val_acc did not improve from 1.00000\n",
      "\u001b[1m15/15\u001b[0m \u001b[32m━━━━━━━━━━━━━━━━━━━━\u001b[0m\u001b[37m\u001b[0m \u001b[1m0s\u001b[0m 5ms/step - acc: 0.9724 - loss: 0.6991 - metric_f1score: 0.9609 - val_acc: 1.0000 - val_loss: 0.5817 - val_metric_f1score: 0.9907 - learning_rate: 0.0010\n",
      "Epoch 70/200\n",
      "\u001b[1m 1/15\u001b[0m \u001b[32m━\u001b[0m\u001b[37m━━━━━━━━━━━━━━━━━━━\u001b[0m \u001b[1m0s\u001b[0m 11ms/step - acc: 0.9375 - loss: 0.7948 - metric_f1score: 0.9355\n",
      "Epoch 70: val_acc did not improve from 1.00000\n",
      "\u001b[1m15/15\u001b[0m \u001b[32m━━━━━━━━━━━━━━━━━━━━\u001b[0m\u001b[37m\u001b[0m \u001b[1m0s\u001b[0m 5ms/step - acc: 0.9395 - loss: 0.8825 - metric_f1score: 0.9363 - val_acc: 1.0000 - val_loss: 0.5724 - val_metric_f1score: 0.9960 - learning_rate: 0.0010\n",
      "Epoch 71/200\n",
      "\u001b[1m 1/15\u001b[0m \u001b[32m━\u001b[0m\u001b[37m━━━━━━━━━━━━━━━━━━━\u001b[0m \u001b[1m0s\u001b[0m 12ms/step - acc: 0.8125 - loss: 1.1168 - metric_f1score: 0.7869\n",
      "Epoch 71: val_acc did not improve from 1.00000\n",
      "\u001b[1m15/15\u001b[0m \u001b[32m━━━━━━━━━━━━━━━━━━━━\u001b[0m\u001b[37m\u001b[0m \u001b[1m0s\u001b[0m 5ms/step - acc: 0.8917 - loss: 0.8979 - metric_f1score: 0.8969 - val_acc: 1.0000 - val_loss: 0.5728 - val_metric_f1score: 0.9907 - learning_rate: 0.0010\n",
      "Epoch 72/200\n",
      "\u001b[1m 1/15\u001b[0m \u001b[32m━\u001b[0m\u001b[37m━━━━━━━━━━━━━━━━━━━\u001b[0m \u001b[1m0s\u001b[0m 12ms/step - acc: 0.9375 - loss: 0.7879 - metric_f1score: 0.9032\n",
      "Epoch 72: val_acc did not improve from 1.00000\n",
      "\u001b[1m15/15\u001b[0m \u001b[32m━━━━━━━━━━━━━━━━━━━━\u001b[0m\u001b[37m\u001b[0m \u001b[1m0s\u001b[0m 5ms/step - acc: 0.9551 - loss: 0.6816 - metric_f1score: 0.9472 - val_acc: 0.9917 - val_loss: 0.5689 - val_metric_f1score: 0.9947 - learning_rate: 0.0010\n",
      "Epoch 73/200\n",
      "\u001b[1m 1/15\u001b[0m \u001b[32m━\u001b[0m\u001b[37m━━━━━━━━━━━━━━━━━━━\u001b[0m \u001b[1m0s\u001b[0m 11ms/step - acc: 0.9375 - loss: 0.7263 - metric_f1score: 0.9508\n",
      "Epoch 73: val_acc did not improve from 1.00000\n",
      "\u001b[1m15/15\u001b[0m \u001b[32m━━━━━━━━━━━━━━━━━━━━\u001b[0m\u001b[37m\u001b[0m \u001b[1m0s\u001b[0m 5ms/step - acc: 0.9665 - loss: 0.6884 - metric_f1score: 0.9671 - val_acc: 1.0000 - val_loss: 0.5634 - val_metric_f1score: 0.9947 - learning_rate: 0.0010\n",
      "Epoch 74/200\n",
      "\u001b[1m 1/15\u001b[0m \u001b[32m━\u001b[0m\u001b[37m━━━━━━━━━━━━━━━━━━━\u001b[0m \u001b[1m0s\u001b[0m 11ms/step - acc: 0.9688 - loss: 0.7495 - metric_f1score: 0.9355\n",
      "Epoch 74: val_acc did not improve from 1.00000\n",
      "\u001b[1m15/15\u001b[0m \u001b[32m━━━━━━━━━━━━━━━━━━━━\u001b[0m\u001b[37m\u001b[0m \u001b[1m0s\u001b[0m 5ms/step - acc: 0.9517 - loss: 0.7005 - metric_f1score: 0.9404 - val_acc: 1.0000 - val_loss: 0.5586 - val_metric_f1score: 0.9947 - learning_rate: 0.0010\n",
      "Epoch 75/200\n",
      "\u001b[1m 1/15\u001b[0m \u001b[32m━\u001b[0m\u001b[37m━━━━━━━━━━━━━━━━━━━\u001b[0m \u001b[1m0s\u001b[0m 12ms/step - acc: 0.8750 - loss: 0.8389 - metric_f1score: 0.9032\n",
      "Epoch 75: val_acc did not improve from 1.00000\n",
      "\u001b[1m15/15\u001b[0m \u001b[32m━━━━━━━━━━━━━━━━━━━━\u001b[0m\u001b[37m\u001b[0m \u001b[1m0s\u001b[0m 5ms/step - acc: 0.9486 - loss: 0.6569 - metric_f1score: 0.9595 - val_acc: 1.0000 - val_loss: 0.5492 - val_metric_f1score: 0.9947 - learning_rate: 0.0010\n",
      "Epoch 76/200\n",
      "\u001b[1m 1/15\u001b[0m \u001b[32m━\u001b[0m\u001b[37m━━━━━━━━━━━━━━━━━━━\u001b[0m \u001b[1m0s\u001b[0m 11ms/step - acc: 0.9688 - loss: 0.6832 - metric_f1score: 0.9508\n",
      "Epoch 76: val_acc did not improve from 1.00000\n",
      "\u001b[1m15/15\u001b[0m \u001b[32m━━━━━━━━━━━━━━━━━━━━\u001b[0m\u001b[37m\u001b[0m \u001b[1m0s\u001b[0m 5ms/step - acc: 0.9612 - loss: 0.6600 - metric_f1score: 0.9543 - val_acc: 1.0000 - val_loss: 0.5403 - val_metric_f1score: 0.9947 - learning_rate: 0.0010\n",
      "Epoch 77/200\n",
      "\u001b[1m11/15\u001b[0m \u001b[32m━━━━━━━━━━━━━━\u001b[0m\u001b[37m━━━━━━\u001b[0m \u001b[1m0s\u001b[0m 5ms/step - acc: 0.9460 - loss: 0.7157 - metric_f1score: 0.9443 \n",
      "Epoch 77: val_acc did not improve from 1.00000\n",
      "\u001b[1m15/15\u001b[0m \u001b[32m━━━━━━━━━━━━━━━━━━━━\u001b[0m\u001b[37m\u001b[0m \u001b[1m0s\u001b[0m 7ms/step - acc: 0.9489 - loss: 0.7054 - metric_f1score: 0.9465 - val_acc: 1.0000 - val_loss: 0.5359 - val_metric_f1score: 0.9947 - learning_rate: 0.0010\n",
      "Epoch 78/200\n",
      "\u001b[1m 1/15\u001b[0m \u001b[32m━\u001b[0m\u001b[37m━━━━━━━━━━━━━━━━━━━\u001b[0m \u001b[1m0s\u001b[0m 11ms/step - acc: 0.8750 - loss: 0.7622 - metric_f1score: 0.8750\n",
      "Epoch 78: val_acc did not improve from 1.00000\n",
      "\u001b[1m15/15\u001b[0m \u001b[32m━━━━━━━━━━━━━━━━━━━━\u001b[0m\u001b[37m\u001b[0m \u001b[1m0s\u001b[0m 5ms/step - acc: 0.9435 - loss: 0.6593 - metric_f1score: 0.9401 - val_acc: 1.0000 - val_loss: 0.5301 - val_metric_f1score: 1.0000 - learning_rate: 0.0010\n",
      "Epoch 79/200\n",
      "\u001b[1m 1/15\u001b[0m \u001b[32m━\u001b[0m\u001b[37m━━━━━━━━━━━━━━━━━━━\u001b[0m \u001b[1m0s\u001b[0m 11ms/step - acc: 0.9688 - loss: 0.7095 - metric_f1score: 0.9355\n",
      "Epoch 79: val_acc did not improve from 1.00000\n",
      "\u001b[1m15/15\u001b[0m \u001b[32m━━━━━━━━━━━━━━━━━━━━\u001b[0m\u001b[37m\u001b[0m \u001b[1m0s\u001b[0m 4ms/step - acc: 0.9658 - loss: 0.6471 - metric_f1score: 0.9557 - val_acc: 1.0000 - val_loss: 0.5265 - val_metric_f1score: 1.0000 - learning_rate: 0.0010\n",
      "Epoch 80/200\n",
      "\u001b[1m 1/15\u001b[0m \u001b[32m━\u001b[0m\u001b[37m━━━━━━━━━━━━━━━━━━━\u001b[0m \u001b[1m0s\u001b[0m 12ms/step - acc: 0.9688 - loss: 0.6983 - metric_f1score: 0.9677\n",
      "Epoch 80: val_acc did not improve from 1.00000\n",
      "\u001b[1m15/15\u001b[0m \u001b[32m━━━━━━━━━━━━━━━━━━━━\u001b[0m\u001b[37m\u001b[0m \u001b[1m0s\u001b[0m 4ms/step - acc: 0.9596 - loss: 0.6642 - metric_f1score: 0.9605 - val_acc: 1.0000 - val_loss: 0.5179 - val_metric_f1score: 0.9947 - learning_rate: 0.0010\n",
      "Epoch 81/200\n",
      "\u001b[1m 1/15\u001b[0m \u001b[32m━\u001b[0m\u001b[37m━━━━━━━━━━━━━━━━━━━\u001b[0m \u001b[1m0s\u001b[0m 11ms/step - acc: 0.9062 - loss: 0.6820 - metric_f1score: 0.9062\n",
      "Epoch 81: val_acc did not improve from 1.00000\n",
      "\u001b[1m15/15\u001b[0m \u001b[32m━━━━━━━━━━━━━━━━━━━━\u001b[0m\u001b[37m\u001b[0m \u001b[1m0s\u001b[0m 5ms/step - acc: 0.9511 - loss: 0.6595 - metric_f1score: 0.9475 - val_acc: 1.0000 - val_loss: 0.5111 - val_metric_f1score: 1.0000 - learning_rate: 0.0010\n",
      "Epoch 82/200\n",
      "\u001b[1m 1/15\u001b[0m \u001b[32m━\u001b[0m\u001b[37m━━━━━━━━━━━━━━━━━━━\u001b[0m \u001b[1m0s\u001b[0m 14ms/step - acc: 0.8750 - loss: 0.7596 - metric_f1score: 0.8889\n",
      "Epoch 82: val_acc did not improve from 1.00000\n",
      "\u001b[1m15/15\u001b[0m \u001b[32m━━━━━━━━━━━━━━━━━━━━\u001b[0m\u001b[37m\u001b[0m \u001b[1m0s\u001b[0m 6ms/step - acc: 0.9467 - loss: 0.6436 - metric_f1score: 0.9477 - val_acc: 1.0000 - val_loss: 0.5135 - val_metric_f1score: 0.9960 - learning_rate: 0.0010\n",
      "Epoch 83/200\n",
      "\u001b[1m 1/15\u001b[0m \u001b[32m━\u001b[0m\u001b[37m━━━━━━━━━━━━━━━━━━━\u001b[0m \u001b[1m0s\u001b[0m 13ms/step - acc: 1.0000 - loss: 0.4985 - metric_f1score: 1.0000\n",
      "Epoch 83: val_acc did not improve from 1.00000\n",
      "\u001b[1m15/15\u001b[0m \u001b[32m━━━━━━━━━━━━━━━━━━━━\u001b[0m\u001b[37m\u001b[0m \u001b[1m0s\u001b[0m 5ms/step - acc: 0.9719 - loss: 0.5747 - metric_f1score: 0.9708 - val_acc: 1.0000 - val_loss: 0.5080 - val_metric_f1score: 1.0000 - learning_rate: 0.0010\n",
      "Epoch 84/200\n",
      "\u001b[1m 1/15\u001b[0m \u001b[32m━\u001b[0m\u001b[37m━━━━━━━━━━━━━━━━━━━\u001b[0m \u001b[1m0s\u001b[0m 14ms/step - acc: 0.9375 - loss: 0.6868 - metric_f1score: 0.9677\n",
      "Epoch 84: val_acc did not improve from 1.00000\n",
      "\u001b[1m15/15\u001b[0m \u001b[32m━━━━━━━━━━━━━━━━━━━━\u001b[0m\u001b[37m\u001b[0m \u001b[1m0s\u001b[0m 5ms/step - acc: 0.9620 - loss: 0.6123 - metric_f1score: 0.9713 - val_acc: 1.0000 - val_loss: 0.5089 - val_metric_f1score: 0.9907 - learning_rate: 0.0010\n",
      "Epoch 85/200\n",
      "\u001b[1m 1/15\u001b[0m \u001b[32m━\u001b[0m\u001b[37m━━━━━━━━━━━━━━━━━━━\u001b[0m \u001b[1m0s\u001b[0m 13ms/step - acc: 0.9062 - loss: 0.6773 - metric_f1score: 0.9206\n",
      "Epoch 85: val_acc did not improve from 1.00000\n",
      "\u001b[1m15/15\u001b[0m \u001b[32m━━━━━━━━━━━━━━━━━━━━\u001b[0m\u001b[37m\u001b[0m \u001b[1m0s\u001b[0m 5ms/step - acc: 0.9536 - loss: 0.6681 - metric_f1score: 0.9539 - val_acc: 0.9917 - val_loss: 0.5084 - val_metric_f1score: 0.9960 - learning_rate: 0.0010\n",
      "Epoch 86/200\n",
      "\u001b[1m 1/15\u001b[0m \u001b[32m━\u001b[0m\u001b[37m━━━━━━━━━━━━━━━━━━━\u001b[0m \u001b[1m0s\u001b[0m 12ms/step - acc: 0.9688 - loss: 0.6382 - metric_f1score: 0.9524\n",
      "Epoch 86: val_acc did not improve from 1.00000\n",
      "\u001b[1m15/15\u001b[0m \u001b[32m━━━━━━━━━━━━━━━━━━━━\u001b[0m\u001b[37m\u001b[0m \u001b[1m0s\u001b[0m 5ms/step - acc: 0.9680 - loss: 0.6294 - metric_f1score: 0.9591 - val_acc: 0.9833 - val_loss: 0.5673 - val_metric_f1score: 0.9882 - learning_rate: 0.0010\n",
      "Epoch 87/200\n",
      "\u001b[1m15/15\u001b[0m \u001b[32m━━━━━━━━━━━━━━━━━━━━\u001b[0m\u001b[37m\u001b[0m \u001b[1m0s\u001b[0m 4ms/step - acc: 0.9743 - loss: 0.5968 - metric_f1score: 0.9688 \n",
      "Epoch 87: val_acc did not improve from 1.00000\n",
      "\u001b[1m15/15\u001b[0m \u001b[32m━━━━━━━━━━━━━━━━━━━━\u001b[0m\u001b[37m\u001b[0m \u001b[1m0s\u001b[0m 6ms/step - acc: 0.9739 - loss: 0.5968 - metric_f1score: 0.9686 - val_acc: 0.9917 - val_loss: 0.5113 - val_metric_f1score: 0.9866 - learning_rate: 0.0010\n",
      "Epoch 88/200\n",
      "\u001b[1m12/15\u001b[0m \u001b[32m━━━━━━━━━━━━━━━━\u001b[0m\u001b[37m━━━━\u001b[0m \u001b[1m0s\u001b[0m 5ms/step - acc: 0.9425 - loss: 0.6574 - metric_f1score: 0.9480 \n",
      "Epoch 88: val_acc did not improve from 1.00000\n",
      "\u001b[1m15/15\u001b[0m \u001b[32m━━━━━━━━━━━━━━━━━━━━\u001b[0m\u001b[37m\u001b[0m \u001b[1m0s\u001b[0m 7ms/step - acc: 0.9455 - loss: 0.6473 - metric_f1score: 0.9489 - val_acc: 1.0000 - val_loss: 0.4985 - val_metric_f1score: 0.9960 - learning_rate: 0.0010\n",
      "Epoch 89/200\n",
      "\u001b[1m 1/15\u001b[0m \u001b[32m━\u001b[0m\u001b[37m━━━━━━━━━━━━━━━━━━━\u001b[0m \u001b[1m0s\u001b[0m 14ms/step - acc: 0.9688 - loss: 0.6049 - metric_f1score: 0.9688\n",
      "Epoch 89: val_acc did not improve from 1.00000\n",
      "\u001b[1m15/15\u001b[0m \u001b[32m━━━━━━━━━━━━━━━━━━━━\u001b[0m\u001b[37m\u001b[0m \u001b[1m0s\u001b[0m 5ms/step - acc: 0.9797 - loss: 0.5541 - metric_f1score: 0.9783 - val_acc: 1.0000 - val_loss: 0.4951 - val_metric_f1score: 0.9960 - learning_rate: 0.0010\n",
      "Epoch 90/200\n",
      "\u001b[1m 1/15\u001b[0m \u001b[32m━\u001b[0m\u001b[37m━━━━━━━━━━━━━━━━━━━\u001b[0m \u001b[1m0s\u001b[0m 13ms/step - acc: 0.9688 - loss: 0.7237 - metric_f1score: 0.9688\n",
      "Epoch 90: val_acc did not improve from 1.00000\n",
      "\u001b[1m15/15\u001b[0m \u001b[32m━━━━━━━━━━━━━━━━━━━━\u001b[0m\u001b[37m\u001b[0m \u001b[1m0s\u001b[0m 5ms/step - acc: 0.9691 - loss: 0.6007 - metric_f1score: 0.9692 - val_acc: 1.0000 - val_loss: 0.4876 - val_metric_f1score: 0.9960 - learning_rate: 0.0010\n",
      "Epoch 91/200\n",
      "\u001b[1m 1/15\u001b[0m \u001b[32m━\u001b[0m\u001b[37m━━━━━━━━━━━━━━━━━━━\u001b[0m \u001b[1m0s\u001b[0m 15ms/step - acc: 0.9688 - loss: 0.6702 - metric_f1score: 0.9355\n",
      "Epoch 91: val_acc did not improve from 1.00000\n",
      "\u001b[1m15/15\u001b[0m \u001b[32m━━━━━━━━━━━━━━━━━━━━\u001b[0m\u001b[37m\u001b[0m \u001b[1m0s\u001b[0m 5ms/step - acc: 0.9776 - loss: 0.5640 - metric_f1score: 0.9679 - val_acc: 1.0000 - val_loss: 0.4790 - val_metric_f1score: 0.9960 - learning_rate: 0.0010\n",
      "Epoch 92/200\n",
      "\u001b[1m 1/15\u001b[0m \u001b[32m━\u001b[0m\u001b[37m━━━━━━━━━━━━━━━━━━━\u001b[0m \u001b[1m0s\u001b[0m 13ms/step - acc: 0.9688 - loss: 0.5473 - metric_f1score: 0.9841\n",
      "Epoch 92: val_acc did not improve from 1.00000\n",
      "\u001b[1m15/15\u001b[0m \u001b[32m━━━━━━━━━━━━━━━━━━━━\u001b[0m\u001b[37m\u001b[0m \u001b[1m0s\u001b[0m 5ms/step - acc: 0.9708 - loss: 0.5365 - metric_f1score: 0.9728 - val_acc: 1.0000 - val_loss: 0.4738 - val_metric_f1score: 1.0000 - learning_rate: 0.0010\n",
      "Epoch 93/200\n",
      "\u001b[1m 1/15\u001b[0m \u001b[32m━\u001b[0m\u001b[37m━━━━━━━━━━━━━━━━━━━\u001b[0m \u001b[1m0s\u001b[0m 12ms/step - acc: 1.0000 - loss: 0.4767 - metric_f1score: 1.0000\n",
      "Epoch 93: val_acc did not improve from 1.00000\n",
      "\u001b[1m15/15\u001b[0m \u001b[32m━━━━━━━━━━━━━━━━━━━━\u001b[0m\u001b[37m\u001b[0m \u001b[1m0s\u001b[0m 5ms/step - acc: 0.9727 - loss: 0.5568 - metric_f1score: 0.9725 - val_acc: 1.0000 - val_loss: 0.4677 - val_metric_f1score: 1.0000 - learning_rate: 0.0010\n",
      "Epoch 94/200\n",
      "\u001b[1m 1/15\u001b[0m \u001b[32m━\u001b[0m\u001b[37m━━━━━━━━━━━━━━━━━━━\u001b[0m \u001b[1m0s\u001b[0m 11ms/step - acc: 1.0000 - loss: 0.5297 - metric_f1score: 0.9841\n",
      "Epoch 94: val_acc did not improve from 1.00000\n",
      "\u001b[1m15/15\u001b[0m \u001b[32m━━━━━━━━━━━━━━━━━━━━\u001b[0m\u001b[37m\u001b[0m \u001b[1m0s\u001b[0m 5ms/step - acc: 0.9743 - loss: 0.5465 - metric_f1score: 0.9721 - val_acc: 1.0000 - val_loss: 0.4659 - val_metric_f1score: 0.9947 - learning_rate: 0.0010\n",
      "Epoch 95/200\n",
      "\u001b[1m 1/15\u001b[0m \u001b[32m━\u001b[0m\u001b[37m━━━━━━━━━━━━━━━━━━━\u001b[0m \u001b[1m0s\u001b[0m 11ms/step - acc: 0.9375 - loss: 0.5909 - metric_f1score: 0.9206\n",
      "Epoch 95: val_acc did not improve from 1.00000\n",
      "\u001b[1m15/15\u001b[0m \u001b[32m━━━━━━━━━━━━━━━━━━━━\u001b[0m\u001b[37m\u001b[0m \u001b[1m0s\u001b[0m 5ms/step - acc: 0.9663 - loss: 0.5398 - metric_f1score: 0.9642 - val_acc: 1.0000 - val_loss: 0.4604 - val_metric_f1score: 1.0000 - learning_rate: 0.0010\n",
      "Epoch 96/200\n",
      "\u001b[1m 1/15\u001b[0m \u001b[32m━\u001b[0m\u001b[37m━━━━━━━━━━━━━━━━━━━\u001b[0m \u001b[1m0s\u001b[0m 12ms/step - acc: 0.9375 - loss: 0.5820 - metric_f1score: 0.9524\n",
      "Epoch 96: val_acc did not improve from 1.00000\n",
      "\u001b[1m15/15\u001b[0m \u001b[32m━━━━━━━━━━━━━━━━━━━━\u001b[0m\u001b[37m\u001b[0m \u001b[1m0s\u001b[0m 5ms/step - acc: 0.9546 - loss: 0.5746 - metric_f1score: 0.9581 - val_acc: 1.0000 - val_loss: 0.4643 - val_metric_f1score: 1.0000 - learning_rate: 0.0010\n",
      "Epoch 97/200\n",
      "\u001b[1m 1/15\u001b[0m \u001b[32m━\u001b[0m\u001b[37m━━━━━━━━━━━━━━━━━━━\u001b[0m \u001b[1m0s\u001b[0m 12ms/step - acc: 0.9062 - loss: 0.6299 - metric_f1score: 0.9032\n",
      "Epoch 97: val_acc did not improve from 1.00000\n",
      "\u001b[1m15/15\u001b[0m \u001b[32m━━━━━━━━━━━━━━━━━━━━\u001b[0m\u001b[37m\u001b[0m \u001b[1m0s\u001b[0m 5ms/step - acc: 0.9423 - loss: 0.6364 - metric_f1score: 0.9303 - val_acc: 1.0000 - val_loss: 0.4533 - val_metric_f1score: 1.0000 - learning_rate: 0.0010\n",
      "Epoch 98/200\n",
      "\u001b[1m 1/15\u001b[0m \u001b[32m━\u001b[0m\u001b[37m━━━━━━━━━━━━━━━━━━━\u001b[0m \u001b[1m0s\u001b[0m 11ms/step - acc: 0.9062 - loss: 0.6436 - metric_f1score: 0.9206\n",
      "Epoch 98: val_acc did not improve from 1.00000\n",
      "\u001b[1m15/15\u001b[0m \u001b[32m━━━━━━━━━━━━━━━━━━━━\u001b[0m\u001b[37m\u001b[0m \u001b[1m0s\u001b[0m 5ms/step - acc: 0.9558 - loss: 0.5604 - metric_f1score: 0.9614 - val_acc: 1.0000 - val_loss: 0.4505 - val_metric_f1score: 1.0000 - learning_rate: 0.0010\n",
      "Epoch 99/200\n",
      "\u001b[1m 1/15\u001b[0m \u001b[32m━\u001b[0m\u001b[37m━━━━━━━━━━━━━━━━━━━\u001b[0m \u001b[1m0s\u001b[0m 11ms/step - acc: 0.9062 - loss: 0.6331 - metric_f1score: 0.9508\n",
      "Epoch 99: val_acc did not improve from 1.00000\n",
      "\u001b[1m15/15\u001b[0m \u001b[32m━━━━━━━━━━━━━━━━━━━━\u001b[0m\u001b[37m\u001b[0m \u001b[1m0s\u001b[0m 5ms/step - acc: 0.9478 - loss: 0.5670 - metric_f1score: 0.9603 - val_acc: 1.0000 - val_loss: 0.4446 - val_metric_f1score: 1.0000 - learning_rate: 0.0010\n",
      "Epoch 100/200\n",
      "\u001b[1m10/15\u001b[0m \u001b[32m━━━━━━━━━━━━━\u001b[0m\u001b[37m━━━━━━━\u001b[0m \u001b[1m0s\u001b[0m 6ms/step - acc: 0.9610 - loss: 0.5718 - metric_f1score: 0.9553 \n",
      "Epoch 100: val_acc did not improve from 1.00000\n",
      "\u001b[1m15/15\u001b[0m \u001b[32m━━━━━━━━━━━━━━━━━━━━\u001b[0m\u001b[37m\u001b[0m \u001b[1m0s\u001b[0m 7ms/step - acc: 0.9656 - loss: 0.5598 - metric_f1score: 0.9586 - val_acc: 0.9917 - val_loss: 0.5439 - val_metric_f1score: 0.9882 - learning_rate: 0.0010\n",
      "Epoch 101/200\n",
      "\u001b[1m 1/15\u001b[0m \u001b[32m━\u001b[0m\u001b[37m━━━━━━━━━━━━━━━━━━━\u001b[0m \u001b[1m0s\u001b[0m 12ms/step - acc: 1.0000 - loss: 0.4719 - metric_f1score: 1.0000\n",
      "Epoch 101: val_acc did not improve from 1.00000\n",
      "\u001b[1m15/15\u001b[0m \u001b[32m━━━━━━━━━━━━━━━━━━━━\u001b[0m\u001b[37m\u001b[0m \u001b[1m0s\u001b[0m 5ms/step - acc: 0.9846 - loss: 0.4873 - metric_f1score: 0.9821 - val_acc: 0.9917 - val_loss: 0.4993 - val_metric_f1score: 0.9882 - learning_rate: 0.0010\n",
      "Epoch 102/200\n",
      "\u001b[1m 1/15\u001b[0m \u001b[32m━\u001b[0m\u001b[37m━━━━━━━━━━━━━━━━━━━\u001b[0m \u001b[1m0s\u001b[0m 11ms/step - acc: 0.9688 - loss: 0.5858 - metric_f1score: 0.9355\n",
      "Epoch 102: val_acc did not improve from 1.00000\n",
      "\u001b[1m15/15\u001b[0m \u001b[32m━━━━━━━━━━━━━━━━━━━━\u001b[0m\u001b[37m\u001b[0m \u001b[1m0s\u001b[0m 5ms/step - acc: 0.9811 - loss: 0.5014 - metric_f1score: 0.9741 - val_acc: 0.9917 - val_loss: 0.4385 - val_metric_f1score: 0.9960 - learning_rate: 0.0010\n",
      "Epoch 103/200\n",
      "\u001b[1m 1/15\u001b[0m \u001b[32m━\u001b[0m\u001b[37m━━━━━━━━━━━━━━━━━━━\u001b[0m \u001b[1m0s\u001b[0m 11ms/step - acc: 0.9688 - loss: 0.5598 - metric_f1score: 0.9677\n",
      "Epoch 103: val_acc did not improve from 1.00000\n",
      "\u001b[1m15/15\u001b[0m \u001b[32m━━━━━━━━━━━━━━━━━━━━\u001b[0m\u001b[37m\u001b[0m \u001b[1m0s\u001b[0m 5ms/step - acc: 0.9804 - loss: 0.5060 - metric_f1score: 0.9769 - val_acc: 0.9833 - val_loss: 0.5066 - val_metric_f1score: 0.9844 - learning_rate: 0.0010\n",
      "Epoch 104/200\n",
      "\u001b[1m 1/15\u001b[0m \u001b[32m━\u001b[0m\u001b[37m━━━━━━━━━━━━━━━━━━━\u001b[0m \u001b[1m0s\u001b[0m 11ms/step - acc: 0.9688 - loss: 0.5103 - metric_f1score: 0.9841\n",
      "Epoch 104: val_acc did not improve from 1.00000\n",
      "\u001b[1m15/15\u001b[0m \u001b[32m━━━━━━━━━━━━━━━━━━━━\u001b[0m\u001b[37m\u001b[0m \u001b[1m0s\u001b[0m 5ms/step - acc: 0.9709 - loss: 0.4853 - metric_f1score: 0.9744 - val_acc: 0.9833 - val_loss: 0.5717 - val_metric_f1score: 0.9843 - learning_rate: 0.0010\n",
      "Epoch 105/200\n",
      "\u001b[1m 1/15\u001b[0m \u001b[32m━\u001b[0m\u001b[37m━━━━━━━━━━━━━━━━━━━\u001b[0m \u001b[1m0s\u001b[0m 12ms/step - acc: 1.0000 - loss: 0.4396 - metric_f1score: 0.9841\n",
      "Epoch 105: val_acc did not improve from 1.00000\n",
      "\u001b[1m15/15\u001b[0m \u001b[32m━━━━━━━━━━━━━━━━━━━━\u001b[0m\u001b[37m\u001b[0m \u001b[1m0s\u001b[0m 5ms/step - acc: 0.9715 - loss: 0.4930 - metric_f1score: 0.9747 - val_acc: 0.9833 - val_loss: 0.5350 - val_metric_f1score: 0.9844 - learning_rate: 0.0010\n",
      "Epoch 106/200\n",
      "\u001b[1m 1/15\u001b[0m \u001b[32m━\u001b[0m\u001b[37m━━━━━━━━━━━━━━━━━━━\u001b[0m \u001b[1m0s\u001b[0m 11ms/step - acc: 0.9062 - loss: 0.8230 - metric_f1score: 0.9206\n",
      "Epoch 106: val_acc did not improve from 1.00000\n",
      "\u001b[1m15/15\u001b[0m \u001b[32m━━━━━━━━━━━━━━━━━━━━\u001b[0m\u001b[37m\u001b[0m \u001b[1m0s\u001b[0m 5ms/step - acc: 0.9646 - loss: 0.5487 - metric_f1score: 0.9656 - val_acc: 0.9917 - val_loss: 0.4421 - val_metric_f1score: 0.9922 - learning_rate: 0.0010\n",
      "Epoch 107/200\n",
      "\u001b[1m 1/15\u001b[0m \u001b[32m━\u001b[0m\u001b[37m━━━━━━━━━━━━━━━━━━━\u001b[0m \u001b[1m0s\u001b[0m 12ms/step - acc: 0.9062 - loss: 0.6402 - metric_f1score: 0.9508\n",
      "Epoch 107: val_acc did not improve from 1.00000\n",
      "\u001b[1m15/15\u001b[0m \u001b[32m━━━━━━━━━━━━━━━━━━━━\u001b[0m\u001b[37m\u001b[0m \u001b[1m0s\u001b[0m 5ms/step - acc: 0.9655 - loss: 0.5027 - metric_f1score: 0.9727 - val_acc: 0.9917 - val_loss: 0.4353 - val_metric_f1score: 0.9922 - learning_rate: 0.0010\n",
      "Epoch 108/200\n",
      "\u001b[1m 1/15\u001b[0m \u001b[32m━\u001b[0m\u001b[37m━━━━━━━━━━━━━━━━━━━\u001b[0m \u001b[1m0s\u001b[0m 12ms/step - acc: 0.9688 - loss: 0.5874 - metric_f1score: 0.9677\n",
      "Epoch 108: val_acc did not improve from 1.00000\n",
      "\u001b[1m15/15\u001b[0m \u001b[32m━━━━━━━━━━━━━━━━━━━━\u001b[0m\u001b[37m\u001b[0m \u001b[1m0s\u001b[0m 5ms/step - acc: 0.9845 - loss: 0.4890 - metric_f1score: 0.9840 - val_acc: 0.9917 - val_loss: 0.4337 - val_metric_f1score: 0.9922 - learning_rate: 0.0010\n",
      "Epoch 109/200\n",
      "\u001b[1m 1/15\u001b[0m \u001b[32m━\u001b[0m\u001b[37m━━━━━━━━━━━━━━━━━━━\u001b[0m \u001b[1m0s\u001b[0m 11ms/step - acc: 1.0000 - loss: 0.4473 - metric_f1score: 0.9841\n",
      "Epoch 109: val_acc did not improve from 1.00000\n",
      "\u001b[1m15/15\u001b[0m \u001b[32m━━━━━━━━━━━━━━━━━━━━\u001b[0m\u001b[37m\u001b[0m \u001b[1m0s\u001b[0m 5ms/step - acc: 0.9768 - loss: 0.5071 - metric_f1score: 0.9727 - val_acc: 0.9917 - val_loss: 0.4202 - val_metric_f1score: 0.9960 - learning_rate: 0.0010\n",
      "Epoch 110/200\n",
      "\u001b[1m 1/15\u001b[0m \u001b[32m━\u001b[0m\u001b[37m━━━━━━━━━━━━━━━━━━━\u001b[0m \u001b[1m0s\u001b[0m 11ms/step - acc: 0.9375 - loss: 0.6100 - metric_f1score: 0.9206\n",
      "Epoch 110: val_acc did not improve from 1.00000\n",
      "\u001b[1m15/15\u001b[0m \u001b[32m━━━━━━━━━━━━━━━━━━━━\u001b[0m\u001b[37m\u001b[0m \u001b[1m0s\u001b[0m 5ms/step - acc: 0.9734 - loss: 0.4961 - metric_f1score: 0.9633 - val_acc: 0.9917 - val_loss: 0.4075 - val_metric_f1score: 0.9960 - learning_rate: 0.0010\n",
      "Epoch 111/200\n",
      "\u001b[1m 9/15\u001b[0m \u001b[32m━━━━━━━━━━━━\u001b[0m\u001b[37m━━━━━━━━\u001b[0m \u001b[1m0s\u001b[0m 6ms/step - acc: 0.9856 - loss: 0.4575 - metric_f1score: 0.9826 \n",
      "Epoch 111: val_acc did not improve from 1.00000\n",
      "\u001b[1m15/15\u001b[0m \u001b[32m━━━━━━━━━━━━━━━━━━━━\u001b[0m\u001b[37m\u001b[0m \u001b[1m0s\u001b[0m 7ms/step - acc: 0.9827 - loss: 0.4569 - metric_f1score: 0.9809 - val_acc: 1.0000 - val_loss: 0.3997 - val_metric_f1score: 1.0000 - learning_rate: 0.0010\n",
      "Epoch 112/200\n",
      "\u001b[1m 1/15\u001b[0m \u001b[32m━\u001b[0m\u001b[37m━━━━━━━━━━━━━━━━━━━\u001b[0m \u001b[1m0s\u001b[0m 11ms/step - acc: 0.9375 - loss: 0.5869 - metric_f1score: 0.9524\n",
      "Epoch 112: val_acc did not improve from 1.00000\n",
      "\u001b[1m15/15\u001b[0m \u001b[32m━━━━━━━━━━━━━━━━━━━━\u001b[0m\u001b[37m\u001b[0m \u001b[1m0s\u001b[0m 5ms/step - acc: 0.9596 - loss: 0.5041 - metric_f1score: 0.9661 - val_acc: 1.0000 - val_loss: 0.3985 - val_metric_f1score: 0.9960 - learning_rate: 0.0010\n",
      "Epoch 113/200\n",
      "\u001b[1m 1/15\u001b[0m \u001b[32m━\u001b[0m\u001b[37m━━━━━━━━━━━━━━━━━━━\u001b[0m \u001b[1m0s\u001b[0m 12ms/step - acc: 1.0000 - loss: 0.4457 - metric_f1score: 0.9841\n",
      "Epoch 113: val_acc did not improve from 1.00000\n",
      "\u001b[1m15/15\u001b[0m \u001b[32m━━━━━━━━━━━━━━━━━━━━\u001b[0m\u001b[37m\u001b[0m \u001b[1m0s\u001b[0m 5ms/step - acc: 0.9854 - loss: 0.4408 - metric_f1score: 0.9861 - val_acc: 1.0000 - val_loss: 0.3914 - val_metric_f1score: 1.0000 - learning_rate: 0.0010\n",
      "Epoch 114/200\n",
      "\u001b[1m 1/15\u001b[0m \u001b[32m━\u001b[0m\u001b[37m━━━━━━━━━━━━━━━━━━━\u001b[0m \u001b[1m0s\u001b[0m 12ms/step - acc: 0.9688 - loss: 0.5070 - metric_f1score: 0.9355\n",
      "Epoch 114: val_acc did not improve from 1.00000\n",
      "\u001b[1m15/15\u001b[0m \u001b[32m━━━━━━━━━━━━━━━━━━━━\u001b[0m\u001b[37m\u001b[0m \u001b[1m0s\u001b[0m 5ms/step - acc: 0.9765 - loss: 0.4678 - metric_f1score: 0.9719 - val_acc: 0.9917 - val_loss: 0.4065 - val_metric_f1score: 0.9922 - learning_rate: 0.0010\n",
      "Epoch 115/200\n",
      "\u001b[1m 1/15\u001b[0m \u001b[32m━\u001b[0m\u001b[37m━━━━━━━━━━━━━━━━━━━\u001b[0m \u001b[1m0s\u001b[0m 11ms/step - acc: 0.9062 - loss: 0.8133 - metric_f1score: 0.9062\n",
      "Epoch 115: val_acc did not improve from 1.00000\n",
      "\u001b[1m15/15\u001b[0m \u001b[32m━━━━━━━━━━━━━━━━━━━━\u001b[0m\u001b[37m\u001b[0m \u001b[1m0s\u001b[0m 5ms/step - acc: 0.9383 - loss: 0.6206 - metric_f1score: 0.9426 - val_acc: 0.9917 - val_loss: 0.4185 - val_metric_f1score: 0.9921 - learning_rate: 0.0010\n",
      "Epoch 116/200\n",
      "\u001b[1m 1/15\u001b[0m \u001b[32m━\u001b[0m\u001b[37m━━━━━━━━━━━━━━━━━━━\u001b[0m \u001b[1m0s\u001b[0m 11ms/step - acc: 0.9062 - loss: 0.6608 - metric_f1score: 0.9355\n",
      "Epoch 116: val_acc did not improve from 1.00000\n",
      "\u001b[1m15/15\u001b[0m \u001b[32m━━━━━━━━━━━━━━━━━━━━\u001b[0m\u001b[37m\u001b[0m \u001b[1m0s\u001b[0m 5ms/step - acc: 0.9682 - loss: 0.5070 - metric_f1score: 0.9695 - val_acc: 1.0000 - val_loss: 0.3926 - val_metric_f1score: 1.0000 - learning_rate: 0.0010\n",
      "Epoch 117/200\n",
      "\u001b[1m 1/15\u001b[0m \u001b[32m━\u001b[0m\u001b[37m━━━━━━━━━━━━━━━━━━━\u001b[0m \u001b[1m0s\u001b[0m 11ms/step - acc: 0.9688 - loss: 0.5232 - metric_f1score: 0.9677\n",
      "Epoch 117: val_acc did not improve from 1.00000\n",
      "\u001b[1m15/15\u001b[0m \u001b[32m━━━━━━━━━━━━━━━━━━━━\u001b[0m\u001b[37m\u001b[0m \u001b[1m0s\u001b[0m 5ms/step - acc: 0.9646 - loss: 0.5099 - metric_f1score: 0.9596 - val_acc: 1.0000 - val_loss: 0.3921 - val_metric_f1score: 1.0000 - learning_rate: 0.0010\n",
      "Epoch 118/200\n",
      "\u001b[1m 1/15\u001b[0m \u001b[32m━\u001b[0m\u001b[37m━━━━━━━━━━━━━━━━━━━\u001b[0m \u001b[1m0s\u001b[0m 12ms/step - acc: 0.9062 - loss: 0.5899 - metric_f1score: 0.9206\n",
      "Epoch 118: val_acc did not improve from 1.00000\n",
      "\u001b[1m15/15\u001b[0m \u001b[32m━━━━━━━━━━━━━━━━━━━━\u001b[0m\u001b[37m\u001b[0m \u001b[1m0s\u001b[0m 5ms/step - acc: 0.9570 - loss: 0.4989 - metric_f1score: 0.9585 - val_acc: 1.0000 - val_loss: 0.3844 - val_metric_f1score: 1.0000 - learning_rate: 0.0010\n",
      "Epoch 119/200\n",
      "\u001b[1m 1/15\u001b[0m \u001b[32m━\u001b[0m\u001b[37m━━━━━━━━━━━━━━━━━━━\u001b[0m \u001b[1m0s\u001b[0m 12ms/step - acc: 1.0000 - loss: 0.4459 - metric_f1score: 1.0000\n",
      "Epoch 119: val_acc did not improve from 1.00000\n",
      "\u001b[1m15/15\u001b[0m \u001b[32m━━━━━━━━━━━━━━━━━━━━\u001b[0m\u001b[37m\u001b[0m \u001b[1m0s\u001b[0m 5ms/step - acc: 0.9758 - loss: 0.4851 - metric_f1score: 0.9765 - val_acc: 1.0000 - val_loss: 0.3782 - val_metric_f1score: 1.0000 - learning_rate: 0.0010\n",
      "Epoch 120/200\n",
      "\u001b[1m 1/15\u001b[0m \u001b[32m━\u001b[0m\u001b[37m━━━━━━━━━━━━━━━━━━━\u001b[0m \u001b[1m0s\u001b[0m 11ms/step - acc: 1.0000 - loss: 0.3854 - metric_f1score: 1.0000\n",
      "Epoch 120: val_acc did not improve from 1.00000\n",
      "\u001b[1m15/15\u001b[0m \u001b[32m━━━━━━━━━━━━━━━━━━━━\u001b[0m\u001b[37m\u001b[0m \u001b[1m0s\u001b[0m 5ms/step - acc: 0.9897 - loss: 0.4238 - metric_f1score: 0.9880 - val_acc: 1.0000 - val_loss: 0.3738 - val_metric_f1score: 1.0000 - learning_rate: 0.0010\n",
      "Epoch 121/200\n",
      "\u001b[1m12/15\u001b[0m \u001b[32m━━━━━━━━━━━━━━━━\u001b[0m\u001b[37m━━━━\u001b[0m \u001b[1m0s\u001b[0m 5ms/step - acc: 0.9732 - loss: 0.4489 - metric_f1score: 0.9746 \n",
      "Epoch 121: val_acc did not improve from 1.00000\n",
      "\u001b[1m15/15\u001b[0m \u001b[32m━━━━━━━━━━━━━━━━━━━━\u001b[0m\u001b[37m\u001b[0m \u001b[1m0s\u001b[0m 7ms/step - acc: 0.9734 - loss: 0.4502 - metric_f1score: 0.9752 - val_acc: 1.0000 - val_loss: 0.3708 - val_metric_f1score: 1.0000 - learning_rate: 0.0010\n",
      "Epoch 122/200\n",
      "\u001b[1m 1/15\u001b[0m \u001b[32m━\u001b[0m\u001b[37m━━━━━━━━━━━━━━━━━━━\u001b[0m \u001b[1m0s\u001b[0m 11ms/step - acc: 0.9375 - loss: 0.4749 - metric_f1score: 0.9375\n",
      "Epoch 122: val_acc did not improve from 1.00000\n",
      "\u001b[1m15/15\u001b[0m \u001b[32m━━━━━━━━━━━━━━━━━━━━\u001b[0m\u001b[37m\u001b[0m \u001b[1m0s\u001b[0m 5ms/step - acc: 0.9734 - loss: 0.4482 - metric_f1score: 0.9685 - val_acc: 1.0000 - val_loss: 0.3679 - val_metric_f1score: 1.0000 - learning_rate: 0.0010\n",
      "Epoch 123/200\n",
      "\u001b[1m 1/15\u001b[0m \u001b[32m━\u001b[0m\u001b[37m━━━━━━━━━━━━━━━━━━━\u001b[0m \u001b[1m0s\u001b[0m 11ms/step - acc: 0.9375 - loss: 0.4786 - metric_f1score: 0.9677\n",
      "Epoch 123: val_acc did not improve from 1.00000\n",
      "\u001b[1m15/15\u001b[0m \u001b[32m━━━━━━━━━━━━━━━━━━━━\u001b[0m\u001b[37m\u001b[0m \u001b[1m0s\u001b[0m 5ms/step - acc: 0.9748 - loss: 0.4366 - metric_f1score: 0.9824 - val_acc: 1.0000 - val_loss: 0.3645 - val_metric_f1score: 1.0000 - learning_rate: 0.0010\n",
      "Epoch 124/200\n",
      "\u001b[1m 1/15\u001b[0m \u001b[32m━\u001b[0m\u001b[37m━━━━━━━━━━━━━━━━━━━\u001b[0m \u001b[1m0s\u001b[0m 11ms/step - acc: 0.9062 - loss: 0.5264 - metric_f1score: 0.9355\n",
      "Epoch 124: val_acc did not improve from 1.00000\n",
      "\u001b[1m15/15\u001b[0m \u001b[32m━━━━━━━━━━━━━━━━━━━━\u001b[0m\u001b[37m\u001b[0m \u001b[1m0s\u001b[0m 5ms/step - acc: 0.9671 - loss: 0.4400 - metric_f1score: 0.9736 - val_acc: 1.0000 - val_loss: 0.3617 - val_metric_f1score: 1.0000 - learning_rate: 0.0010\n",
      "Epoch 125/200\n",
      "\u001b[1m 1/15\u001b[0m \u001b[32m━\u001b[0m\u001b[37m━━━━━━━━━━━━━━━━━━━\u001b[0m \u001b[1m0s\u001b[0m 11ms/step - acc: 0.9062 - loss: 0.6508 - metric_f1score: 0.9355\n",
      "Epoch 125: val_acc did not improve from 1.00000\n",
      "\u001b[1m15/15\u001b[0m \u001b[32m━━━━━━━━━━━━━━━━━━━━\u001b[0m\u001b[37m\u001b[0m \u001b[1m0s\u001b[0m 5ms/step - acc: 0.9701 - loss: 0.4496 - metric_f1score: 0.9753 - val_acc: 1.0000 - val_loss: 0.3587 - val_metric_f1score: 1.0000 - learning_rate: 0.0010\n",
      "Epoch 126/200\n",
      "\u001b[1m 1/15\u001b[0m \u001b[32m━\u001b[0m\u001b[37m━━━━━━━━━━━━━━━━━━━\u001b[0m \u001b[1m0s\u001b[0m 11ms/step - acc: 0.9062 - loss: 0.5063 - metric_f1score: 0.9508\n",
      "Epoch 126: val_acc did not improve from 1.00000\n",
      "\u001b[1m15/15\u001b[0m \u001b[32m━━━━━━━━━━━━━━━━━━━━\u001b[0m\u001b[37m\u001b[0m \u001b[1m0s\u001b[0m 5ms/step - acc: 0.9606 - loss: 0.4510 - metric_f1score: 0.9664 - val_acc: 1.0000 - val_loss: 0.3550 - val_metric_f1score: 1.0000 - learning_rate: 0.0010\n",
      "Epoch 127/200\n",
      "\u001b[1m 1/15\u001b[0m \u001b[32m━\u001b[0m\u001b[37m━━━━━━━━━━━━━━━━━━━\u001b[0m \u001b[1m0s\u001b[0m 12ms/step - acc: 0.9688 - loss: 0.4088 - metric_f1score: 0.9688\n",
      "Epoch 127: val_acc did not improve from 1.00000\n",
      "\u001b[1m15/15\u001b[0m \u001b[32m━━━━━━━━━━━━━━━━━━━━\u001b[0m\u001b[37m\u001b[0m \u001b[1m0s\u001b[0m 5ms/step - acc: 0.9841 - loss: 0.3953 - metric_f1score: 0.9804 - val_acc: 1.0000 - val_loss: 0.3523 - val_metric_f1score: 1.0000 - learning_rate: 0.0010\n",
      "Epoch 128/200\n",
      "\u001b[1m 1/15\u001b[0m \u001b[32m━\u001b[0m\u001b[37m━━━━━━━━━━━━━━━━━━━\u001b[0m \u001b[1m0s\u001b[0m 12ms/step - acc: 0.9688 - loss: 0.4644 - metric_f1score: 0.9677\n",
      "Epoch 128: val_acc did not improve from 1.00000\n",
      "\u001b[1m15/15\u001b[0m \u001b[32m━━━━━━━━━━━━━━━━━━━━\u001b[0m\u001b[37m\u001b[0m \u001b[1m0s\u001b[0m 5ms/step - acc: 0.9750 - loss: 0.4134 - metric_f1score: 0.9771 - val_acc: 1.0000 - val_loss: 0.3503 - val_metric_f1score: 1.0000 - learning_rate: 0.0010\n",
      "Epoch 129/200\n",
      "\u001b[1m 1/15\u001b[0m \u001b[32m━\u001b[0m\u001b[37m━━━━━━━━━━━━━━━━━━━\u001b[0m \u001b[1m0s\u001b[0m 11ms/step - acc: 0.9688 - loss: 0.4096 - metric_f1score: 0.9841\n",
      "Epoch 129: val_acc did not improve from 1.00000\n",
      "\u001b[1m15/15\u001b[0m \u001b[32m━━━━━━━━━━━━━━━━━━━━\u001b[0m\u001b[37m\u001b[0m \u001b[1m0s\u001b[0m 5ms/step - acc: 0.9765 - loss: 0.3962 - metric_f1score: 0.9757 - val_acc: 1.0000 - val_loss: 0.3478 - val_metric_f1score: 1.0000 - learning_rate: 0.0010\n",
      "Epoch 130/200\n",
      "\u001b[1m 1/15\u001b[0m \u001b[32m━\u001b[0m\u001b[37m━━━━━━━━━━━━━━━━━━━\u001b[0m \u001b[1m0s\u001b[0m 11ms/step - acc: 1.0000 - loss: 0.3477 - metric_f1score: 1.0000\n",
      "Epoch 130: val_acc did not improve from 1.00000\n",
      "\u001b[1m15/15\u001b[0m \u001b[32m━━━━━━━━━━━━━━━━━━━━\u001b[0m\u001b[37m\u001b[0m \u001b[1m0s\u001b[0m 5ms/step - acc: 0.9857 - loss: 0.3839 - metric_f1score: 0.9887 - val_acc: 1.0000 - val_loss: 0.3453 - val_metric_f1score: 1.0000 - learning_rate: 0.0010\n",
      "Epoch 131/200\n",
      "\u001b[1m12/15\u001b[0m \u001b[32m━━━━━━━━━━━━━━━━\u001b[0m\u001b[37m━━━━\u001b[0m \u001b[1m0s\u001b[0m 5ms/step - acc: 0.9951 - loss: 0.3630 - metric_f1score: 0.9968 \n",
      "Epoch 131: val_acc did not improve from 1.00000\n",
      "\u001b[1m15/15\u001b[0m \u001b[32m━━━━━━━━━━━━━━━━━━━━\u001b[0m\u001b[37m\u001b[0m \u001b[1m0s\u001b[0m 7ms/step - acc: 0.9939 - loss: 0.3650 - metric_f1score: 0.9958 - val_acc: 1.0000 - val_loss: 0.3417 - val_metric_f1score: 1.0000 - learning_rate: 0.0010\n",
      "Epoch 132/200\n",
      "\u001b[1m 1/15\u001b[0m \u001b[32m━\u001b[0m\u001b[37m━━━━━━━━━━━━━━━━━━━\u001b[0m \u001b[1m0s\u001b[0m 12ms/step - acc: 1.0000 - loss: 0.3643 - metric_f1score: 1.0000\n",
      "Epoch 132: val_acc did not improve from 1.00000\n",
      "\u001b[1m15/15\u001b[0m \u001b[32m━━━━━━━━━━━━━━━━━━━━\u001b[0m\u001b[37m\u001b[0m \u001b[1m0s\u001b[0m 5ms/step - acc: 0.9902 - loss: 0.3852 - metric_f1score: 0.9912 - val_acc: 1.0000 - val_loss: 0.3385 - val_metric_f1score: 1.0000 - learning_rate: 0.0010\n",
      "Epoch 133/200\n",
      "\u001b[1m 1/15\u001b[0m \u001b[32m━\u001b[0m\u001b[37m━━━━━━━━━━━━━━━━━━━\u001b[0m \u001b[1m0s\u001b[0m 12ms/step - acc: 0.9688 - loss: 0.4279 - metric_f1score: 0.9688\n",
      "Epoch 133: val_acc did not improve from 1.00000\n",
      "\u001b[1m15/15\u001b[0m \u001b[32m━━━━━━━━━━━━━━━━━━━━\u001b[0m\u001b[37m\u001b[0m \u001b[1m0s\u001b[0m 5ms/step - acc: 0.9797 - loss: 0.3912 - metric_f1score: 0.9809 - val_acc: 0.9917 - val_loss: 0.3944 - val_metric_f1score: 0.9922 - learning_rate: 0.0010\n",
      "Epoch 134/200\n",
      "\u001b[1m 1/15\u001b[0m \u001b[32m━\u001b[0m\u001b[37m━━━━━━━━━━━━━━━━━━━\u001b[0m \u001b[1m0s\u001b[0m 11ms/step - acc: 1.0000 - loss: 0.3361 - metric_f1score: 1.0000\n",
      "Epoch 134: val_acc did not improve from 1.00000\n",
      "\u001b[1m15/15\u001b[0m \u001b[32m━━━━━━━━━━━━━━━━━━━━\u001b[0m\u001b[37m\u001b[0m \u001b[1m0s\u001b[0m 5ms/step - acc: 0.9797 - loss: 0.3985 - metric_f1score: 0.9796 - val_acc: 1.0000 - val_loss: 0.3354 - val_metric_f1score: 1.0000 - learning_rate: 0.0010\n",
      "Epoch 135/200\n",
      "\u001b[1m 1/15\u001b[0m \u001b[32m━\u001b[0m\u001b[37m━━━━━━━━━━━━━━━━━━━\u001b[0m \u001b[1m0s\u001b[0m 11ms/step - acc: 0.9688 - loss: 0.5104 - metric_f1score: 0.9524\n",
      "Epoch 135: val_acc did not improve from 1.00000\n",
      "\u001b[1m15/15\u001b[0m \u001b[32m━━━━━━━━━━━━━━━━━━━━\u001b[0m\u001b[37m\u001b[0m \u001b[1m0s\u001b[0m 5ms/step - acc: 0.9844 - loss: 0.3921 - metric_f1score: 0.9823 - val_acc: 1.0000 - val_loss: 0.3329 - val_metric_f1score: 1.0000 - learning_rate: 0.0010\n",
      "Epoch 136/200\n",
      "\u001b[1m 1/15\u001b[0m \u001b[32m━\u001b[0m\u001b[37m━━━━━━━━━━━━━━━━━━━\u001b[0m \u001b[1m0s\u001b[0m 11ms/step - acc: 1.0000 - loss: 0.3420 - metric_f1score: 1.0000\n",
      "Epoch 136: val_acc did not improve from 1.00000\n",
      "\u001b[1m15/15\u001b[0m \u001b[32m━━━━━━━━━━━━━━━━━━━━\u001b[0m\u001b[37m\u001b[0m \u001b[1m0s\u001b[0m 5ms/step - acc: 0.9955 - loss: 0.3549 - metric_f1score: 0.9918 - val_acc: 1.0000 - val_loss: 0.3302 - val_metric_f1score: 1.0000 - learning_rate: 0.0010\n",
      "Epoch 137/200\n",
      "\u001b[1m 1/15\u001b[0m \u001b[32m━\u001b[0m\u001b[37m━━━━━━━━━━━━━━━━━━━\u001b[0m \u001b[1m0s\u001b[0m 11ms/step - acc: 0.9688 - loss: 0.4356 - metric_f1score: 0.9677\n",
      "Epoch 137: val_acc did not improve from 1.00000\n",
      "\u001b[1m15/15\u001b[0m \u001b[32m━━━━━━━━━━━━━━━━━━━━\u001b[0m\u001b[37m\u001b[0m \u001b[1m0s\u001b[0m 5ms/step - acc: 0.9754 - loss: 0.3918 - metric_f1score: 0.9745 - val_acc: 1.0000 - val_loss: 0.3273 - val_metric_f1score: 1.0000 - learning_rate: 0.0010\n",
      "Epoch 138/200\n",
      "\u001b[1m 1/15\u001b[0m \u001b[32m━\u001b[0m\u001b[37m━━━━━━━━━━━━━━━━━━━\u001b[0m \u001b[1m0s\u001b[0m 11ms/step - acc: 0.9688 - loss: 0.4001 - metric_f1score: 0.9688\n",
      "Epoch 138: val_acc did not improve from 1.00000\n",
      "\u001b[1m15/15\u001b[0m \u001b[32m━━━━━━━━━━━━━━━━━━━━\u001b[0m\u001b[37m\u001b[0m \u001b[1m0s\u001b[0m 5ms/step - acc: 0.9862 - loss: 0.3809 - metric_f1score: 0.9848 - val_acc: 1.0000 - val_loss: 0.3251 - val_metric_f1score: 1.0000 - learning_rate: 0.0010\n",
      "Epoch 139/200\n",
      "\u001b[1m 1/15\u001b[0m \u001b[32m━\u001b[0m\u001b[37m━━━━━━━━━━━━━━━━━━━\u001b[0m \u001b[1m0s\u001b[0m 11ms/step - acc: 0.9688 - loss: 0.4168 - metric_f1score: 0.9677\n",
      "Epoch 139: val_acc did not improve from 1.00000\n",
      "\u001b[1m15/15\u001b[0m \u001b[32m━━━━━━━━━━━━━━━━━━━━\u001b[0m\u001b[37m\u001b[0m \u001b[1m0s\u001b[0m 5ms/step - acc: 0.9769 - loss: 0.4105 - metric_f1score: 0.9788 - val_acc: 1.0000 - val_loss: 0.3357 - val_metric_f1score: 0.9960 - learning_rate: 0.0010\n",
      "Epoch 140/200\n",
      "\u001b[1m10/15\u001b[0m \u001b[32m━━━━━━━━━━━━━\u001b[0m\u001b[37m━━━━━━━\u001b[0m \u001b[1m0s\u001b[0m 6ms/step - acc: 0.9893 - loss: 0.3813 - metric_f1score: 0.9931 \n",
      "Epoch 140: val_acc did not improve from 1.00000\n",
      "\u001b[1m15/15\u001b[0m \u001b[32m━━━━━━━━━━━━━━━━━━━━\u001b[0m\u001b[37m\u001b[0m \u001b[1m0s\u001b[0m 7ms/step - acc: 0.9874 - loss: 0.3833 - metric_f1score: 0.9911 - val_acc: 1.0000 - val_loss: 0.3263 - val_metric_f1score: 1.0000 - learning_rate: 0.0010\n",
      "Epoch 141/200\n",
      "\u001b[1m 1/15\u001b[0m \u001b[32m━\u001b[0m\u001b[37m━━━━━━━━━━━━━━━━━━━\u001b[0m \u001b[1m0s\u001b[0m 11ms/step - acc: 0.9688 - loss: 0.4053 - metric_f1score: 0.9524\n",
      "Epoch 141: val_acc did not improve from 1.00000\n",
      "\u001b[1m15/15\u001b[0m \u001b[32m━━━━━━━━━━━━━━━━━━━━\u001b[0m\u001b[37m\u001b[0m \u001b[1m0s\u001b[0m 5ms/step - acc: 0.9832 - loss: 0.3925 - metric_f1score: 0.9780 - val_acc: 1.0000 - val_loss: 0.3241 - val_metric_f1score: 1.0000 - learning_rate: 0.0010\n",
      "Epoch 142/200\n",
      "\u001b[1m 1/15\u001b[0m \u001b[32m━\u001b[0m\u001b[37m━━━━━━━━━━━━━━━━━━━\u001b[0m \u001b[1m0s\u001b[0m 11ms/step - acc: 1.0000 - loss: 0.3249 - metric_f1score: 1.0000\n",
      "Epoch 142: val_acc did not improve from 1.00000\n",
      "\u001b[1m15/15\u001b[0m \u001b[32m━━━━━━━━━━━━━━━━━━━━\u001b[0m\u001b[37m\u001b[0m \u001b[1m0s\u001b[0m 5ms/step - acc: 0.9890 - loss: 0.3751 - metric_f1score: 0.9860 - val_acc: 0.9750 - val_loss: 0.3777 - val_metric_f1score: 0.9843 - learning_rate: 0.0010\n",
      "Epoch 143/200\n",
      "\u001b[1m 1/15\u001b[0m \u001b[32m━\u001b[0m\u001b[37m━━━━━━━━━━━━━━━━━━━\u001b[0m \u001b[1m0s\u001b[0m 11ms/step - acc: 1.0000 - loss: 0.3976 - metric_f1score: 0.9841\n",
      "Epoch 143: val_acc did not improve from 1.00000\n",
      "\u001b[1m15/15\u001b[0m \u001b[32m━━━━━━━━━━━━━━━━━━━━\u001b[0m\u001b[37m\u001b[0m \u001b[1m0s\u001b[0m 5ms/step - acc: 0.9819 - loss: 0.4703 - metric_f1score: 0.9753 - val_acc: 0.9833 - val_loss: 0.8399 - val_metric_f1score: 0.9844 - learning_rate: 0.0010\n",
      "Epoch 144/200\n",
      "\u001b[1m 1/15\u001b[0m \u001b[32m━\u001b[0m\u001b[37m━━━━━━━━━━━━━━━━━━━\u001b[0m \u001b[1m0s\u001b[0m 11ms/step - acc: 0.9062 - loss: 2.3324 - metric_f1score: 0.9000\n",
      "Epoch 144: val_acc did not improve from 1.00000\n",
      "\u001b[1m15/15\u001b[0m \u001b[32m━━━━━━━━━━━━━━━━━━━━\u001b[0m\u001b[37m\u001b[0m \u001b[1m0s\u001b[0m 5ms/step - acc: 0.9511 - loss: 0.8175 - metric_f1score: 0.9533 - val_acc: 1.0000 - val_loss: 0.3294 - val_metric_f1score: 1.0000 - learning_rate: 0.0010\n",
      "Epoch 145/200\n",
      "\u001b[1m 1/15\u001b[0m \u001b[32m━\u001b[0m\u001b[37m━━━━━━━━━━━━━━━━━━━\u001b[0m \u001b[1m0s\u001b[0m 12ms/step - acc: 0.8750 - loss: 0.6799 - metric_f1score: 0.9032\n",
      "Epoch 145: val_acc did not improve from 1.00000\n",
      "\u001b[1m15/15\u001b[0m \u001b[32m━━━━━━━━━━━━━━━━━━━━\u001b[0m\u001b[37m\u001b[0m \u001b[1m0s\u001b[0m 5ms/step - acc: 0.9578 - loss: 0.4541 - metric_f1score: 0.9651 - val_acc: 0.9917 - val_loss: 0.3271 - val_metric_f1score: 0.9947 - learning_rate: 0.0010\n",
      "Epoch 146/200\n",
      "\u001b[1m 1/15\u001b[0m \u001b[32m━\u001b[0m\u001b[37m━━━━━━━━━━━━━━━━━━━\u001b[0m \u001b[1m0s\u001b[0m 11ms/step - acc: 0.9688 - loss: 0.3955 - metric_f1score: 0.9688\n",
      "Epoch 146: val_acc did not improve from 1.00000\n",
      "\u001b[1m15/15\u001b[0m \u001b[32m━━━━━━━━━━━━━━━━━━━━\u001b[0m\u001b[37m\u001b[0m \u001b[1m0s\u001b[0m 5ms/step - acc: 0.9902 - loss: 0.3519 - metric_f1score: 0.9899 - val_acc: 1.0000 - val_loss: 0.3215 - val_metric_f1score: 1.0000 - learning_rate: 0.0010\n",
      "Epoch 147/200\n",
      "\u001b[1m 1/15\u001b[0m \u001b[32m━\u001b[0m\u001b[37m━━━━━━━━━━━━━━━━━━━\u001b[0m \u001b[1m0s\u001b[0m 11ms/step - acc: 0.9688 - loss: 0.3871 - metric_f1score: 0.9524\n",
      "Epoch 147: val_acc did not improve from 1.00000\n",
      "\u001b[1m15/15\u001b[0m \u001b[32m━━━━━━━━━━━━━━━━━━━━\u001b[0m\u001b[37m\u001b[0m \u001b[1m0s\u001b[0m 5ms/step - acc: 0.9896 - loss: 0.3641 - metric_f1score: 0.9794 - val_acc: 1.0000 - val_loss: 0.3176 - val_metric_f1score: 1.0000 - learning_rate: 0.0010\n",
      "Epoch 148/200\n",
      "\u001b[1m 1/15\u001b[0m \u001b[32m━\u001b[0m\u001b[37m━━━━━━━━━━━━━━━━━━━\u001b[0m \u001b[1m0s\u001b[0m 12ms/step - acc: 1.0000 - loss: 0.3587 - metric_f1score: 0.9841\n",
      "Epoch 148: val_acc did not improve from 1.00000\n",
      "\u001b[1m15/15\u001b[0m \u001b[32m━━━━━━━━━━━━━━━━━━━━\u001b[0m\u001b[37m\u001b[0m \u001b[1m0s\u001b[0m 5ms/step - acc: 0.9932 - loss: 0.3490 - metric_f1score: 0.9895 - val_acc: 0.9917 - val_loss: 0.3247 - val_metric_f1score: 0.9896 - learning_rate: 0.0010\n",
      "Epoch 149/200\n",
      "\u001b[1m11/15\u001b[0m \u001b[32m━━━━━━━━━━━━━━\u001b[0m\u001b[37m━━━━━━\u001b[0m \u001b[1m0s\u001b[0m 5ms/step - acc: 0.9914 - loss: 0.3323 - metric_f1score: 0.9884 \n",
      "Epoch 149: val_acc did not improve from 1.00000\n",
      "\u001b[1m15/15\u001b[0m \u001b[32m━━━━━━━━━━━━━━━━━━━━\u001b[0m\u001b[37m\u001b[0m \u001b[1m0s\u001b[0m 7ms/step - acc: 0.9918 - loss: 0.3339 - metric_f1score: 0.9894 - val_acc: 1.0000 - val_loss: 0.3111 - val_metric_f1score: 1.0000 - learning_rate: 0.0010\n",
      "Epoch 150/200\n",
      "\u001b[1m 1/15\u001b[0m \u001b[32m━\u001b[0m\u001b[37m━━━━━━━━━━━━━━━━━━━\u001b[0m \u001b[1m0s\u001b[0m 12ms/step - acc: 0.9688 - loss: 0.4351 - metric_f1score: 0.9524\n",
      "Epoch 150: val_acc did not improve from 1.00000\n",
      "\u001b[1m15/15\u001b[0m \u001b[32m━━━━━━━━━━━━━━━━━━━━\u001b[0m\u001b[37m\u001b[0m \u001b[1m0s\u001b[0m 5ms/step - acc: 0.9756 - loss: 0.4083 - metric_f1score: 0.9727 - val_acc: 0.9917 - val_loss: 0.3221 - val_metric_f1score: 0.9922 - learning_rate: 0.0010\n",
      "Epoch 151/200\n",
      "\u001b[1m 1/15\u001b[0m \u001b[32m━\u001b[0m\u001b[37m━━━━━━━━━━━━━━━━━━━\u001b[0m \u001b[1m0s\u001b[0m 12ms/step - acc: 0.9688 - loss: 0.4549 - metric_f1score: 0.9688\n",
      "Epoch 151: val_acc did not improve from 1.00000\n",
      "\u001b[1m15/15\u001b[0m \u001b[32m━━━━━━━━━━━━━━━━━━━━\u001b[0m\u001b[37m\u001b[0m \u001b[1m0s\u001b[0m 5ms/step - acc: 0.9836 - loss: 0.3716 - metric_f1score: 0.9850 - val_acc: 0.9917 - val_loss: 0.3144 - val_metric_f1score: 0.9960 - learning_rate: 0.0010\n",
      "Epoch 152/200\n",
      "\u001b[1m 1/15\u001b[0m \u001b[32m━\u001b[0m\u001b[37m━━━━━━━━━━━━━━━━━━━\u001b[0m \u001b[1m0s\u001b[0m 11ms/step - acc: 1.0000 - loss: 0.3370 - metric_f1score: 0.9841\n",
      "Epoch 152: val_acc did not improve from 1.00000\n",
      "\u001b[1m15/15\u001b[0m \u001b[32m━━━━━━━━━━━━━━━━━━━━\u001b[0m\u001b[37m\u001b[0m \u001b[1m0s\u001b[0m 5ms/step - acc: 0.9845 - loss: 0.3477 - metric_f1score: 0.9825 - val_acc: 1.0000 - val_loss: 0.3086 - val_metric_f1score: 0.9960 - learning_rate: 0.0010\n",
      "Epoch 153/200\n",
      "\u001b[1m 1/15\u001b[0m \u001b[32m━\u001b[0m\u001b[37m━━━━━━━━━━━━━━━━━━━\u001b[0m \u001b[1m0s\u001b[0m 11ms/step - acc: 1.0000 - loss: 0.3544 - metric_f1score: 0.9841\n",
      "Epoch 153: val_acc did not improve from 1.00000\n",
      "\u001b[1m15/15\u001b[0m \u001b[32m━━━━━━━━━━━━━━━━━━━━\u001b[0m\u001b[37m\u001b[0m \u001b[1m0s\u001b[0m 5ms/step - acc: 0.9939 - loss: 0.3321 - metric_f1score: 0.9887 - val_acc: 1.0000 - val_loss: 0.3040 - val_metric_f1score: 1.0000 - learning_rate: 0.0010\n",
      "Epoch 154/200\n",
      "\u001b[1m 1/15\u001b[0m \u001b[32m━\u001b[0m\u001b[37m━━━━━━━━━━━━━━━━━━━\u001b[0m \u001b[1m0s\u001b[0m 11ms/step - acc: 0.9688 - loss: 0.3859 - metric_f1score: 0.9524\n",
      "Epoch 154: val_acc did not improve from 1.00000\n",
      "\u001b[1m15/15\u001b[0m \u001b[32m━━━━━━━━━━━━━━━━━━━━\u001b[0m\u001b[37m\u001b[0m \u001b[1m0s\u001b[0m 5ms/step - acc: 0.9897 - loss: 0.3348 - metric_f1score: 0.9857 - val_acc: 1.0000 - val_loss: 0.3010 - val_metric_f1score: 1.0000 - learning_rate: 0.0010\n",
      "Epoch 155/200\n",
      "\u001b[1m 1/15\u001b[0m \u001b[32m━\u001b[0m\u001b[37m━━━━━━━━━━━━━━━━━━━\u001b[0m \u001b[1m0s\u001b[0m 11ms/step - acc: 0.9688 - loss: 0.3723 - metric_f1score: 0.9677\n",
      "Epoch 155: val_acc did not improve from 1.00000\n",
      "\u001b[1m15/15\u001b[0m \u001b[32m━━━━━━━━━━━━━━━━━━━━\u001b[0m\u001b[37m\u001b[0m \u001b[1m0s\u001b[0m 5ms/step - acc: 0.9881 - loss: 0.3290 - metric_f1score: 0.9897 - val_acc: 1.0000 - val_loss: 0.3020 - val_metric_f1score: 0.9960 - learning_rate: 0.0010\n",
      "Epoch 156/200\n",
      "\u001b[1m 1/15\u001b[0m \u001b[32m━\u001b[0m\u001b[37m━━━━━━━━━━━━━━━━━━━\u001b[0m \u001b[1m0s\u001b[0m 11ms/step - acc: 1.0000 - loss: 0.3042 - metric_f1score: 1.0000\n",
      "Epoch 156: val_acc did not improve from 1.00000\n",
      "\u001b[1m15/15\u001b[0m \u001b[32m━━━━━━━━━━━━━━━━━━━━\u001b[0m\u001b[37m\u001b[0m \u001b[1m0s\u001b[0m 5ms/step - acc: 0.9866 - loss: 0.3302 - metric_f1score: 0.9880 - val_acc: 1.0000 - val_loss: 0.3000 - val_metric_f1score: 0.9960 - learning_rate: 0.0010\n",
      "Epoch 157/200\n",
      "\u001b[1m 1/15\u001b[0m \u001b[32m━\u001b[0m\u001b[37m━━━━━━━━━━━━━━━━━━━\u001b[0m \u001b[1m0s\u001b[0m 12ms/step - acc: 0.9375 - loss: 0.5101 - metric_f1score: 0.9524\n",
      "Epoch 157: val_acc did not improve from 1.00000\n",
      "\u001b[1m15/15\u001b[0m \u001b[32m━━━━━━━━━━━━━━━━━━━━\u001b[0m\u001b[37m\u001b[0m \u001b[1m0s\u001b[0m 5ms/step - acc: 0.9850 - loss: 0.3455 - metric_f1score: 0.9882 - val_acc: 1.0000 - val_loss: 0.2969 - val_metric_f1score: 0.9960 - learning_rate: 0.0010\n",
      "Epoch 158/200\n",
      "\u001b[1m 9/15\u001b[0m \u001b[32m━━━━━━━━━━━━\u001b[0m\u001b[37m━━━━━━━━\u001b[0m \u001b[1m0s\u001b[0m 6ms/step - acc: 0.9772 - loss: 0.3720 - metric_f1score: 0.9741 \n",
      "Epoch 158: val_acc did not improve from 1.00000\n",
      "\u001b[1m15/15\u001b[0m \u001b[32m━━━━━━━━━━━━━━━━━━━━\u001b[0m\u001b[37m\u001b[0m \u001b[1m0s\u001b[0m 7ms/step - acc: 0.9803 - loss: 0.3651 - metric_f1score: 0.9767 - val_acc: 1.0000 - val_loss: 0.2944 - val_metric_f1score: 0.9960 - learning_rate: 0.0010\n",
      "Epoch 159/200\n",
      "\u001b[1m 1/15\u001b[0m \u001b[32m━\u001b[0m\u001b[37m━━━━━━━━━━━━━━━━━━━\u001b[0m \u001b[1m0s\u001b[0m 12ms/step - acc: 1.0000 - loss: 0.3281 - metric_f1score: 0.9841\n",
      "Epoch 159: val_acc did not improve from 1.00000\n",
      "\u001b[1m15/15\u001b[0m \u001b[32m━━━━━━━━━━━━━━━━━━━━\u001b[0m\u001b[37m\u001b[0m \u001b[1m0s\u001b[0m 5ms/step - acc: 0.9928 - loss: 0.3197 - metric_f1score: 0.9902 - val_acc: 1.0000 - val_loss: 0.2921 - val_metric_f1score: 0.9960 - learning_rate: 0.0010\n",
      "Epoch 160/200\n",
      "\u001b[1m 1/15\u001b[0m \u001b[32m━\u001b[0m\u001b[37m━━━━━━━━━━━━━━━━━━━\u001b[0m \u001b[1m0s\u001b[0m 11ms/step - acc: 1.0000 - loss: 0.2890 - metric_f1score: 1.0000\n",
      "Epoch 160: val_acc did not improve from 1.00000\n",
      "\u001b[1m15/15\u001b[0m \u001b[32m━━━━━━━━━━━━━━━━━━━━\u001b[0m\u001b[37m\u001b[0m \u001b[1m0s\u001b[0m 5ms/step - acc: 0.9928 - loss: 0.3023 - metric_f1score: 0.9924 - val_acc: 1.0000 - val_loss: 0.2865 - val_metric_f1score: 1.0000 - learning_rate: 0.0010\n",
      "Epoch 161/200\n",
      "\u001b[1m 1/15\u001b[0m \u001b[32m━\u001b[0m\u001b[37m━━━━━━━━━━━━━━━━━━━\u001b[0m \u001b[1m0s\u001b[0m 11ms/step - acc: 1.0000 - loss: 0.3491 - metric_f1score: 0.9841\n",
      "Epoch 161: val_acc did not improve from 1.00000\n",
      "\u001b[1m15/15\u001b[0m \u001b[32m━━━━━━━━━━━━━━━━━━━━\u001b[0m\u001b[37m\u001b[0m \u001b[1m0s\u001b[0m 5ms/step - acc: 0.9930 - loss: 0.3243 - metric_f1score: 0.9871 - val_acc: 1.0000 - val_loss: 0.2836 - val_metric_f1score: 1.0000 - learning_rate: 0.0010\n",
      "Epoch 162/200\n",
      "\u001b[1m 1/15\u001b[0m \u001b[32m━\u001b[0m\u001b[37m━━━━━━━━━━━━━━━━━━━\u001b[0m \u001b[1m0s\u001b[0m 12ms/step - acc: 0.9375 - loss: 0.4322 - metric_f1score: 0.9375\n",
      "Epoch 162: val_acc did not improve from 1.00000\n",
      "\u001b[1m15/15\u001b[0m \u001b[32m━━━━━━━━━━━━━━━━━━━━\u001b[0m\u001b[37m\u001b[0m \u001b[1m0s\u001b[0m 5ms/step - acc: 0.9812 - loss: 0.3340 - metric_f1score: 0.9818 - val_acc: 1.0000 - val_loss: 0.2812 - val_metric_f1score: 1.0000 - learning_rate: 0.0010\n",
      "Epoch 163/200\n",
      "\u001b[1m 1/15\u001b[0m \u001b[32m━\u001b[0m\u001b[37m━━━━━━━━━━━━━━━━━━━\u001b[0m \u001b[1m0s\u001b[0m 11ms/step - acc: 0.9688 - loss: 0.3191 - metric_f1score: 0.9688\n",
      "Epoch 163: val_acc did not improve from 1.00000\n",
      "\u001b[1m15/15\u001b[0m \u001b[32m━━━━━━━━━━━━━━━━━━━━\u001b[0m\u001b[37m\u001b[0m \u001b[1m0s\u001b[0m 5ms/step - acc: 0.9839 - loss: 0.3257 - metric_f1score: 0.9815 - val_acc: 1.0000 - val_loss: 0.2769 - val_metric_f1score: 1.0000 - learning_rate: 0.0010\n",
      "Epoch 164/200\n",
      "\u001b[1m 1/15\u001b[0m \u001b[32m━\u001b[0m\u001b[37m━━━━━━━━━━━━━━━━━━━\u001b[0m \u001b[1m0s\u001b[0m 11ms/step - acc: 1.0000 - loss: 0.3402 - metric_f1score: 0.9841\n",
      "Epoch 164: val_acc did not improve from 1.00000\n",
      "\u001b[1m15/15\u001b[0m \u001b[32m━━━━━━━━━━━━━━━━━━━━\u001b[0m\u001b[37m\u001b[0m \u001b[1m0s\u001b[0m 5ms/step - acc: 0.9910 - loss: 0.3149 - metric_f1score: 0.9866 - val_acc: 1.0000 - val_loss: 0.2744 - val_metric_f1score: 1.0000 - learning_rate: 0.0010\n",
      "Epoch 165/200\n",
      "\u001b[1m 1/15\u001b[0m \u001b[32m━\u001b[0m\u001b[37m━━━━━━━━━━━━━━━━━━━\u001b[0m \u001b[1m0s\u001b[0m 11ms/step - acc: 1.0000 - loss: 0.2740 - metric_f1score: 1.0000\n",
      "Epoch 165: val_acc did not improve from 1.00000\n",
      "\u001b[1m15/15\u001b[0m \u001b[32m━━━━━━━━━━━━━━━━━━━━\u001b[0m\u001b[37m\u001b[0m \u001b[1m0s\u001b[0m 5ms/step - acc: 0.9898 - loss: 0.3117 - metric_f1score: 0.9876 - val_acc: 1.0000 - val_loss: 0.2727 - val_metric_f1score: 1.0000 - learning_rate: 0.0010\n",
      "Epoch 166/200\n",
      "\u001b[1m 1/15\u001b[0m \u001b[32m━\u001b[0m\u001b[37m━━━━━━━━━━━━━━━━━━━\u001b[0m \u001b[1m0s\u001b[0m 11ms/step - acc: 1.0000 - loss: 0.2782 - metric_f1score: 1.0000\n",
      "Epoch 166: val_acc did not improve from 1.00000\n",
      "\u001b[1m15/15\u001b[0m \u001b[32m━━━━━━━━━━━━━━━━━━━━\u001b[0m\u001b[37m\u001b[0m \u001b[1m0s\u001b[0m 5ms/step - acc: 0.9849 - loss: 0.3454 - metric_f1score: 0.9852 - val_acc: 0.9917 - val_loss: 0.3211 - val_metric_f1score: 0.9869 - learning_rate: 0.0010\n",
      "Epoch 167/200\n",
      "\u001b[1m 1/15\u001b[0m \u001b[32m━\u001b[0m\u001b[37m━━━━━━━━━━━━━━━━━━━\u001b[0m \u001b[1m0s\u001b[0m 36ms/step - acc: 1.0000 - loss: 0.2842 - metric_f1score: 1.0000\n",
      "Epoch 167: val_acc did not improve from 1.00000\n",
      "\u001b[1m15/15\u001b[0m \u001b[32m━━━━━━━━━━━━━━━━━━━━\u001b[0m\u001b[37m\u001b[0m \u001b[1m0s\u001b[0m 5ms/step - acc: 0.9908 - loss: 0.3153 - metric_f1score: 0.9904 - val_acc: 0.9917 - val_loss: 0.4353 - val_metric_f1score: 0.9882 - learning_rate: 0.0010\n",
      "Epoch 168/200\n",
      "\u001b[1m 1/15\u001b[0m \u001b[32m━\u001b[0m\u001b[37m━━━━━━━━━━━━━━━━━━━\u001b[0m \u001b[1m0s\u001b[0m 11ms/step - acc: 1.0000 - loss: 0.2921 - metric_f1score: 1.0000\n",
      "Epoch 168: val_acc did not improve from 1.00000\n",
      "\u001b[1m15/15\u001b[0m \u001b[32m━━━━━━━━━━━━━━━━━━━━\u001b[0m\u001b[37m\u001b[0m \u001b[1m0s\u001b[0m 5ms/step - acc: 0.9882 - loss: 0.3038 - metric_f1score: 0.9896 - val_acc: 0.9833 - val_loss: 0.4781 - val_metric_f1score: 0.9882 - learning_rate: 0.0010\n",
      "Epoch 169/200\n",
      "\u001b[1m 1/15\u001b[0m \u001b[32m━\u001b[0m\u001b[37m━━━━━━━━━━━━━━━━━━━\u001b[0m \u001b[1m0s\u001b[0m 12ms/step - acc: 0.9688 - loss: 0.3881 - metric_f1score: 0.9688\n",
      "Epoch 169: val_acc did not improve from 1.00000\n",
      "\u001b[1m15/15\u001b[0m \u001b[32m━━━━━━━━━━━━━━━━━━━━\u001b[0m\u001b[37m\u001b[0m \u001b[1m0s\u001b[0m 5ms/step - acc: 0.9861 - loss: 0.3203 - metric_f1score: 0.9850 - val_acc: 0.9833 - val_loss: 0.4469 - val_metric_f1score: 0.9882 - learning_rate: 0.0010\n",
      "Epoch 170/200\n",
      "\u001b[1m 1/15\u001b[0m \u001b[32m━\u001b[0m\u001b[37m━━━━━━━━━━━━━━━━━━━\u001b[0m \u001b[1m0s\u001b[0m 11ms/step - acc: 1.0000 - loss: 0.2959 - metric_f1score: 1.0000\n",
      "Epoch 170: val_acc did not improve from 1.00000\n",
      "\u001b[1m15/15\u001b[0m \u001b[32m━━━━━━━━━━━━━━━━━━━━\u001b[0m\u001b[37m\u001b[0m \u001b[1m0s\u001b[0m 5ms/step - acc: 0.9912 - loss: 0.2897 - metric_f1score: 0.9928 - val_acc: 0.9917 - val_loss: 0.4426 - val_metric_f1score: 0.9922 - learning_rate: 0.0010\n",
      "Epoch 171/200\n",
      "\u001b[1m 1/15\u001b[0m \u001b[32m━\u001b[0m\u001b[37m━━━━━━━━━━━━━━━━━━━\u001b[0m \u001b[1m0s\u001b[0m 11ms/step - acc: 1.0000 - loss: 0.2683 - metric_f1score: 1.0000\n",
      "Epoch 171: val_acc did not improve from 1.00000\n",
      "\u001b[1m15/15\u001b[0m \u001b[32m━━━━━━━━━━━━━━━━━━━━\u001b[0m\u001b[37m\u001b[0m \u001b[1m0s\u001b[0m 5ms/step - acc: 0.9882 - loss: 0.2963 - metric_f1score: 0.9924 - val_acc: 0.9917 - val_loss: 0.5091 - val_metric_f1score: 0.9922 - learning_rate: 0.0010\n",
      "Epoch 172/200\n",
      "\u001b[1m 1/15\u001b[0m \u001b[32m━\u001b[0m\u001b[37m━━━━━━━━━━━━━━━━━━━\u001b[0m \u001b[1m0s\u001b[0m 11ms/step - acc: 1.0000 - loss: 0.2689 - metric_f1score: 1.0000\n",
      "Epoch 172: val_acc did not improve from 1.00000\n",
      "\u001b[1m15/15\u001b[0m \u001b[32m━━━━━━━━━━━━━━━━━━━━\u001b[0m\u001b[37m\u001b[0m \u001b[1m0s\u001b[0m 5ms/step - acc: 0.9956 - loss: 0.3524 - metric_f1score: 0.9923 - val_acc: 0.9917 - val_loss: 0.2787 - val_metric_f1score: 0.9947 - learning_rate: 0.0010\n",
      "Epoch 173/200\n",
      "\u001b[1m 1/15\u001b[0m \u001b[32m━\u001b[0m\u001b[37m━━━━━━━━━━━━━━━━━━━\u001b[0m \u001b[1m0s\u001b[0m 11ms/step - acc: 0.9688 - loss: 0.3830 - metric_f1score: 0.9688\n",
      "Epoch 173: val_acc did not improve from 1.00000\n",
      "\u001b[1m15/15\u001b[0m \u001b[32m━━━━━━━━━━━━━━━━━━━━\u001b[0m\u001b[37m\u001b[0m \u001b[1m0s\u001b[0m 5ms/step - acc: 0.9696 - loss: 0.3670 - metric_f1score: 0.9736 - val_acc: 1.0000 - val_loss: 0.2593 - val_metric_f1score: 1.0000 - learning_rate: 0.0010\n",
      "Epoch 174/200\n",
      "\u001b[1m 1/15\u001b[0m \u001b[32m━\u001b[0m\u001b[37m━━━━━━━━━━━━━━━━━━━\u001b[0m \u001b[1m0s\u001b[0m 12ms/step - acc: 0.9688 - loss: 0.3883 - metric_f1score: 0.9841\n",
      "Epoch 174: val_acc did not improve from 1.00000\n",
      "\u001b[1m15/15\u001b[0m \u001b[32m━━━━━━━━━━━━━━━━━━━━\u001b[0m\u001b[37m\u001b[0m \u001b[1m0s\u001b[0m 5ms/step - acc: 0.9800 - loss: 0.3480 - metric_f1score: 0.9848 - val_acc: 0.9917 - val_loss: 0.2762 - val_metric_f1score: 0.9922 - learning_rate: 0.0010\n",
      "Epoch 175/200\n",
      "\u001b[1m11/15\u001b[0m \u001b[32m━━━━━━━━━━━━━━\u001b[0m\u001b[37m━━━━━━\u001b[0m \u001b[1m0s\u001b[0m 5ms/step - acc: 0.9881 - loss: 0.3323 - metric_f1score: 0.9810 \n",
      "Epoch 175: val_acc did not improve from 1.00000\n",
      "\u001b[1m15/15\u001b[0m \u001b[32m━━━━━━━━━━━━━━━━━━━━\u001b[0m\u001b[37m\u001b[0m \u001b[1m0s\u001b[0m 7ms/step - acc: 0.9856 - loss: 0.3368 - metric_f1score: 0.9799 - val_acc: 1.0000 - val_loss: 0.2558 - val_metric_f1score: 1.0000 - learning_rate: 0.0010\n",
      "Epoch 176/200\n",
      "\u001b[1m 1/15\u001b[0m \u001b[32m━\u001b[0m\u001b[37m━━━━━━━━━━━━━━━━━━━\u001b[0m \u001b[1m0s\u001b[0m 11ms/step - acc: 0.9688 - loss: 0.3467 - metric_f1score: 0.9524\n",
      "Epoch 176: val_acc did not improve from 1.00000\n",
      "\u001b[1m15/15\u001b[0m \u001b[32m━━━━━━━━━━━━━━━━━━━━\u001b[0m\u001b[37m\u001b[0m \u001b[1m0s\u001b[0m 5ms/step - acc: 0.9831 - loss: 0.3188 - metric_f1score: 0.9745 - val_acc: 1.0000 - val_loss: 0.2545 - val_metric_f1score: 1.0000 - learning_rate: 0.0010\n",
      "Epoch 177/200\n",
      "\u001b[1m 1/15\u001b[0m \u001b[32m━\u001b[0m\u001b[37m━━━━━━━━━━━━━━━━━━━\u001b[0m \u001b[1m0s\u001b[0m 11ms/step - acc: 0.9688 - loss: 0.3373 - metric_f1score: 0.9688\n",
      "Epoch 177: val_acc did not improve from 1.00000\n",
      "\u001b[1m15/15\u001b[0m \u001b[32m━━━━━━━━━━━━━━━━━━━━\u001b[0m\u001b[37m\u001b[0m \u001b[1m0s\u001b[0m 5ms/step - acc: 0.9785 - loss: 0.3123 - metric_f1score: 0.9787 - val_acc: 1.0000 - val_loss: 0.2530 - val_metric_f1score: 1.0000 - learning_rate: 0.0010\n",
      "Epoch 178/200\n",
      "\u001b[1m 1/15\u001b[0m \u001b[32m━\u001b[0m\u001b[37m━━━━━━━━━━━━━━━━━━━\u001b[0m \u001b[1m0s\u001b[0m 12ms/step - acc: 1.0000 - loss: 0.2550 - metric_f1score: 1.0000\n",
      "Epoch 178: val_acc did not improve from 1.00000\n",
      "\u001b[1m15/15\u001b[0m \u001b[32m━━━━━━━━━━━━━━━━━━━━\u001b[0m\u001b[37m\u001b[0m \u001b[1m0s\u001b[0m 5ms/step - acc: 0.9827 - loss: 0.3095 - metric_f1score: 0.9800 - val_acc: 1.0000 - val_loss: 0.2516 - val_metric_f1score: 1.0000 - learning_rate: 0.0010\n",
      "Epoch 179/200\n",
      "\u001b[1m 1/15\u001b[0m \u001b[32m━\u001b[0m\u001b[37m━━━━━━━━━━━━━━━━━━━\u001b[0m \u001b[1m0s\u001b[0m 12ms/step - acc: 1.0000 - loss: 0.2559 - metric_f1score: 1.0000\n",
      "Epoch 179: val_acc did not improve from 1.00000\n",
      "\u001b[1m15/15\u001b[0m \u001b[32m━━━━━━━━━━━━━━━━━━━━\u001b[0m\u001b[37m\u001b[0m \u001b[1m0s\u001b[0m 5ms/step - acc: 0.9925 - loss: 0.2827 - metric_f1score: 0.9919 - val_acc: 1.0000 - val_loss: 0.2558 - val_metric_f1score: 1.0000 - learning_rate: 0.0010\n",
      "Epoch 180/200\n",
      "\u001b[1m 1/15\u001b[0m \u001b[32m━\u001b[0m\u001b[37m━━━━━━━━━━━━━━━━━━━\u001b[0m \u001b[1m0s\u001b[0m 11ms/step - acc: 1.0000 - loss: 0.2581 - metric_f1score: 1.0000\n",
      "Epoch 180: val_acc did not improve from 1.00000\n",
      "\u001b[1m15/15\u001b[0m \u001b[32m━━━━━━━━━━━━━━━━━━━━\u001b[0m\u001b[37m\u001b[0m \u001b[1m0s\u001b[0m 5ms/step - acc: 0.9908 - loss: 0.2904 - metric_f1score: 0.9883 - val_acc: 1.0000 - val_loss: 0.2512 - val_metric_f1score: 1.0000 - learning_rate: 0.0010\n",
      "Epoch 181/200\n",
      "\u001b[1m 1/15\u001b[0m \u001b[32m━\u001b[0m\u001b[37m━━━━━━━━━━━━━━━━━━━\u001b[0m \u001b[1m0s\u001b[0m 12ms/step - acc: 0.9688 - loss: 0.2982 - metric_f1score: 0.9841\n",
      "Epoch 181: val_acc did not improve from 1.00000\n",
      "\u001b[1m15/15\u001b[0m \u001b[32m━━━━━━━━━━━━━━━━━━━━\u001b[0m\u001b[37m\u001b[0m \u001b[1m0s\u001b[0m 5ms/step - acc: 0.9831 - loss: 0.3172 - metric_f1score: 0.9846 - val_acc: 1.0000 - val_loss: 0.2470 - val_metric_f1score: 1.0000 - learning_rate: 0.0010\n",
      "Epoch 182/200\n",
      "\u001b[1m 1/15\u001b[0m \u001b[32m━\u001b[0m\u001b[37m━━━━━━━━━━━━━━━━━━━\u001b[0m \u001b[1m0s\u001b[0m 11ms/step - acc: 1.0000 - loss: 0.2655 - metric_f1score: 1.0000\n",
      "Epoch 182: val_acc did not improve from 1.00000\n",
      "\u001b[1m15/15\u001b[0m \u001b[32m━━━━━━━━━━━━━━━━━━━━\u001b[0m\u001b[37m\u001b[0m \u001b[1m0s\u001b[0m 5ms/step - acc: 0.9900 - loss: 0.2790 - metric_f1score: 0.9922 - val_acc: 1.0000 - val_loss: 0.2452 - val_metric_f1score: 1.0000 - learning_rate: 0.0010\n",
      "Epoch 183/200\n",
      "\u001b[1m10/15\u001b[0m \u001b[32m━━━━━━━━━━━━━\u001b[0m\u001b[37m━━━━━━━\u001b[0m \u001b[1m0s\u001b[0m 6ms/step - acc: 0.9955 - loss: 0.2656 - metric_f1score: 0.9942 \n",
      "Epoch 183: val_acc did not improve from 1.00000\n",
      "\u001b[1m15/15\u001b[0m \u001b[32m━━━━━━━━━━━━━━━━━━━━\u001b[0m\u001b[37m\u001b[0m \u001b[1m0s\u001b[0m 7ms/step - acc: 0.9954 - loss: 0.2671 - metric_f1score: 0.9937 - val_acc: 1.0000 - val_loss: 0.2437 - val_metric_f1score: 1.0000 - learning_rate: 0.0010\n",
      "Epoch 184/200\n",
      "\u001b[1m 1/15\u001b[0m \u001b[32m━\u001b[0m\u001b[37m━━━━━━━━━━━━━━━━━━━\u001b[0m \u001b[1m0s\u001b[0m 12ms/step - acc: 1.0000 - loss: 0.2509 - metric_f1score: 1.0000\n",
      "Epoch 184: val_acc did not improve from 1.00000\n",
      "\u001b[1m15/15\u001b[0m \u001b[32m━━━━━━━━━━━━━━━━━━━━\u001b[0m\u001b[37m\u001b[0m \u001b[1m0s\u001b[0m 5ms/step - acc: 0.9915 - loss: 0.2668 - metric_f1score: 0.9915 - val_acc: 1.0000 - val_loss: 0.2418 - val_metric_f1score: 1.0000 - learning_rate: 0.0010\n",
      "Epoch 185/200\n",
      "\u001b[1m 1/15\u001b[0m \u001b[32m━\u001b[0m\u001b[37m━━━━━━━━━━━━━━━━━━━\u001b[0m \u001b[1m0s\u001b[0m 11ms/step - acc: 0.9688 - loss: 0.4001 - metric_f1score: 0.9524\n",
      "Epoch 185: val_acc did not improve from 1.00000\n",
      "\u001b[1m15/15\u001b[0m \u001b[32m━━━━━━━━━━━━━━━━━━━━\u001b[0m\u001b[37m\u001b[0m \u001b[1m0s\u001b[0m 5ms/step - acc: 0.9885 - loss: 0.2929 - metric_f1score: 0.9847 - val_acc: 1.0000 - val_loss: 0.2400 - val_metric_f1score: 1.0000 - learning_rate: 0.0010\n",
      "Epoch 186/200\n",
      "\u001b[1m 1/15\u001b[0m \u001b[32m━\u001b[0m\u001b[37m━━━━━━━━━━━━━━━━━━━\u001b[0m \u001b[1m0s\u001b[0m 12ms/step - acc: 1.0000 - loss: 0.2442 - metric_f1score: 1.0000\n",
      "Epoch 186: val_acc did not improve from 1.00000\n",
      "\u001b[1m15/15\u001b[0m \u001b[32m━━━━━━━━━━━━━━━━━━━━\u001b[0m\u001b[37m\u001b[0m \u001b[1m0s\u001b[0m 5ms/step - acc: 0.9900 - loss: 0.2742 - metric_f1score: 0.9935 - val_acc: 1.0000 - val_loss: 0.2385 - val_metric_f1score: 1.0000 - learning_rate: 0.0010\n",
      "Epoch 187/200\n",
      "\u001b[1m 1/15\u001b[0m \u001b[32m━\u001b[0m\u001b[37m━━━━━━━━━━━━━━━━━━━\u001b[0m \u001b[1m0s\u001b[0m 11ms/step - acc: 1.0000 - loss: 0.2437 - metric_f1score: 1.0000\n",
      "Epoch 187: val_acc did not improve from 1.00000\n",
      "\u001b[1m15/15\u001b[0m \u001b[32m━━━━━━━━━━━━━━━━━━━━\u001b[0m\u001b[37m\u001b[0m \u001b[1m0s\u001b[0m 5ms/step - acc: 0.9926 - loss: 0.2537 - metric_f1score: 0.9948 - val_acc: 0.9917 - val_loss: 0.5371 - val_metric_f1score: 0.9922 - learning_rate: 0.0010\n",
      "Epoch 188/200\n",
      "\u001b[1m 1/15\u001b[0m \u001b[32m━\u001b[0m\u001b[37m━━━━━━━━━━━━━━━━━━━\u001b[0m \u001b[1m0s\u001b[0m 12ms/step - acc: 0.9688 - loss: 0.2715 - metric_f1score: 0.9688\n",
      "Epoch 188: val_acc did not improve from 1.00000\n",
      "\u001b[1m15/15\u001b[0m \u001b[32m━━━━━━━━━━━━━━━━━━━━\u001b[0m\u001b[37m\u001b[0m \u001b[1m0s\u001b[0m 5ms/step - acc: 0.9902 - loss: 0.2698 - metric_f1score: 0.9883 - val_acc: 1.0000 - val_loss: 0.2364 - val_metric_f1score: 1.0000 - learning_rate: 0.0010\n",
      "Epoch 189/200\n",
      "\u001b[1m 1/15\u001b[0m \u001b[32m━\u001b[0m\u001b[37m━━━━━━━━━━━━━━━━━━━\u001b[0m \u001b[1m0s\u001b[0m 12ms/step - acc: 0.9688 - loss: 0.2726 - metric_f1score: 0.9688\n",
      "Epoch 189: val_acc did not improve from 1.00000\n",
      "\u001b[1m15/15\u001b[0m \u001b[32m━━━━━━━━━━━━━━━━━━━━\u001b[0m\u001b[37m\u001b[0m \u001b[1m0s\u001b[0m 5ms/step - acc: 0.9744 - loss: 0.3424 - metric_f1score: 0.9702 - val_acc: 1.0000 - val_loss: 0.2367 - val_metric_f1score: 1.0000 - learning_rate: 0.0010\n",
      "Epoch 190/200\n",
      "\u001b[1m 1/15\u001b[0m \u001b[32m━\u001b[0m\u001b[37m━━━━━━━━━━━━━━━━━━━\u001b[0m \u001b[1m0s\u001b[0m 11ms/step - acc: 1.0000 - loss: 0.2418 - metric_f1score: 1.0000\n",
      "Epoch 190: val_acc did not improve from 1.00000\n",
      "\u001b[1m15/15\u001b[0m \u001b[32m━━━━━━━━━━━━━━━━━━━━\u001b[0m\u001b[37m\u001b[0m \u001b[1m0s\u001b[0m 5ms/step - acc: 0.9862 - loss: 0.2951 - metric_f1score: 0.9827 - val_acc: 0.9917 - val_loss: 0.3396 - val_metric_f1score: 0.9896 - learning_rate: 0.0010\n",
      "Epoch 191/200\n",
      "\u001b[1m12/15\u001b[0m \u001b[32m━━━━━━━━━━━━━━━━\u001b[0m\u001b[37m━━━━\u001b[0m \u001b[1m0s\u001b[0m 5ms/step - acc: 0.9707 - loss: 0.3344 - metric_f1score: 0.9715 \n",
      "Epoch 191: val_acc did not improve from 1.00000\n",
      "\u001b[1m15/15\u001b[0m \u001b[32m━━━━━━━━━━━━━━━━━━━━\u001b[0m\u001b[37m\u001b[0m \u001b[1m0s\u001b[0m 7ms/step - acc: 0.9713 - loss: 0.3366 - metric_f1score: 0.9718 - val_acc: 0.9833 - val_loss: 0.4060 - val_metric_f1score: 0.9804 - learning_rate: 0.0010\n",
      "Epoch 192/200\n",
      "\u001b[1m 1/15\u001b[0m \u001b[32m━\u001b[0m\u001b[37m━━━━━━━━━━━━━━━━━━━\u001b[0m \u001b[1m0s\u001b[0m 11ms/step - acc: 1.0000 - loss: 0.2571 - metric_f1score: 1.0000\n",
      "Epoch 192: val_acc did not improve from 1.00000\n",
      "\u001b[1m15/15\u001b[0m \u001b[32m━━━━━━━━━━━━━━━━━━━━\u001b[0m\u001b[37m\u001b[0m \u001b[1m0s\u001b[0m 5ms/step - acc: 0.9267 - loss: 0.7994 - metric_f1score: 0.9339 - val_acc: 0.9083 - val_loss: 0.4689 - val_metric_f1score: 0.9250 - learning_rate: 0.0010\n",
      "Epoch 193/200\n",
      "\u001b[1m 1/15\u001b[0m \u001b[32m━\u001b[0m\u001b[37m━━━━━━━━━━━━━━━━━━━\u001b[0m \u001b[1m0s\u001b[0m 11ms/step - acc: 0.8750 - loss: 0.6341 - metric_f1score: 0.8966\n",
      "Epoch 193: val_acc did not improve from 1.00000\n",
      "\u001b[1m15/15\u001b[0m \u001b[32m━━━━━━━━━━━━━━━━━━━━\u001b[0m\u001b[37m\u001b[0m \u001b[1m0s\u001b[0m 5ms/step - acc: 0.9359 - loss: 0.5418 - metric_f1score: 0.9223 - val_acc: 0.9750 - val_loss: 0.3623 - val_metric_f1score: 0.9665 - learning_rate: 0.0010\n",
      "Epoch 194/200\n",
      "\u001b[1m 1/15\u001b[0m \u001b[32m━\u001b[0m\u001b[37m━━━━━━━━━━━━━━━━━━━\u001b[0m \u001b[1m0s\u001b[0m 11ms/step - acc: 0.8438 - loss: 0.5618 - metric_f1score: 0.8852\n",
      "Epoch 194: val_acc did not improve from 1.00000\n",
      "\u001b[1m15/15\u001b[0m \u001b[32m━━━━━━━━━━━━━━━━━━━━\u001b[0m\u001b[37m\u001b[0m \u001b[1m0s\u001b[0m 5ms/step - acc: 0.9311 - loss: 0.4224 - metric_f1score: 0.9383 - val_acc: 1.0000 - val_loss: 0.2686 - val_metric_f1score: 0.9960 - learning_rate: 0.0010\n",
      "Epoch 195/200\n",
      "\u001b[1m 1/15\u001b[0m \u001b[32m━\u001b[0m\u001b[37m━━━━━━━━━━━━━━━━━━━\u001b[0m \u001b[1m0s\u001b[0m 12ms/step - acc: 0.9688 - loss: 0.3883 - metric_f1score: 0.9688\n",
      "Epoch 195: val_acc did not improve from 1.00000\n",
      "\u001b[1m15/15\u001b[0m \u001b[32m━━━━━━━━━━━━━━━━━━━━\u001b[0m\u001b[37m\u001b[0m \u001b[1m0s\u001b[0m 5ms/step - acc: 0.9593 - loss: 0.3891 - metric_f1score: 0.9667 - val_acc: 0.9917 - val_loss: 0.2746 - val_metric_f1score: 0.9922 - learning_rate: 0.0010\n",
      "Epoch 196/200\n",
      "\u001b[1m 1/15\u001b[0m \u001b[32m━\u001b[0m\u001b[37m━━━━━━━━━━━━━━━━━━━\u001b[0m \u001b[1m0s\u001b[0m 11ms/step - acc: 0.9375 - loss: 0.3957 - metric_f1score: 0.9508\n",
      "Epoch 196: val_acc did not improve from 1.00000\n",
      "\u001b[1m15/15\u001b[0m \u001b[32m━━━━━━━━━━━━━━━━━━━━\u001b[0m\u001b[37m\u001b[0m \u001b[1m0s\u001b[0m 5ms/step - acc: 0.9692 - loss: 0.3450 - metric_f1score: 0.9713 - val_acc: 0.9917 - val_loss: 0.2917 - val_metric_f1score: 0.9922 - learning_rate: 0.0010\n",
      "Epoch 197/200\n",
      "\u001b[1m 1/15\u001b[0m \u001b[32m━\u001b[0m\u001b[37m━━━━━━━━━━━━━━━━━━━\u001b[0m \u001b[1m0s\u001b[0m 12ms/step - acc: 0.9688 - loss: 0.3044 - metric_f1score: 0.9688\n",
      "Epoch 197: val_acc did not improve from 1.00000\n",
      "\u001b[1m15/15\u001b[0m \u001b[32m━━━━━━━━━━━━━━━━━━━━\u001b[0m\u001b[37m\u001b[0m \u001b[1m0s\u001b[0m 5ms/step - acc: 0.9828 - loss: 0.2975 - metric_f1score: 0.9794 - val_acc: 0.9833 - val_loss: 0.5826 - val_metric_f1score: 0.9844 - learning_rate: 0.0010\n",
      "Epoch 198/200\n",
      "\u001b[1m 1/15\u001b[0m \u001b[32m━\u001b[0m\u001b[37m━━━━━━━━━━━━━━━━━━━\u001b[0m \u001b[1m0s\u001b[0m 12ms/step - acc: 0.9375 - loss: 0.3579 - metric_f1score: 0.9524\n",
      "Epoch 198: val_acc did not improve from 1.00000\n",
      "\u001b[1m15/15\u001b[0m \u001b[32m━━━━━━━━━━━━━━━━━━━━\u001b[0m\u001b[37m\u001b[0m \u001b[1m0s\u001b[0m 5ms/step - acc: 0.9614 - loss: 0.3627 - metric_f1score: 0.9631 - val_acc: 0.9667 - val_loss: 0.4041 - val_metric_f1score: 0.9700 - learning_rate: 0.0010\n",
      "Epoch 199/200\n",
      "\u001b[1m 9/15\u001b[0m \u001b[32m━━━━━━━━━━━━\u001b[0m\u001b[37m━━━━━━━━\u001b[0m \u001b[1m0s\u001b[0m 6ms/step - acc: 0.9717 - loss: 0.3984 - metric_f1score: 0.9630 \n",
      "Epoch 199: val_acc did not improve from 1.00000\n",
      "\u001b[1m15/15\u001b[0m \u001b[32m━━━━━━━━━━━━━━━━━━━━\u001b[0m\u001b[37m\u001b[0m \u001b[1m0s\u001b[0m 7ms/step - acc: 0.9703 - loss: 0.3894 - metric_f1score: 0.9658 - val_acc: 0.9750 - val_loss: 0.3129 - val_metric_f1score: 0.9829 - learning_rate: 0.0010\n",
      "Epoch 200/200\n",
      "\u001b[1m 1/15\u001b[0m \u001b[32m━\u001b[0m\u001b[37m━━━━━━━━━━━━━━━━━━━\u001b[0m \u001b[1m0s\u001b[0m 11ms/step - acc: 1.0000 - loss: 0.2830 - metric_f1score: 1.0000\n",
      "Epoch 200: val_acc did not improve from 1.00000\n",
      "\u001b[1m15/15\u001b[0m \u001b[32m━━━━━━━━━━━━━━━━━━━━\u001b[0m\u001b[37m\u001b[0m \u001b[1m0s\u001b[0m 5ms/step - acc: 0.9818 - loss: 0.3269 - metric_f1score: 0.9832 - val_acc: 0.9917 - val_loss: 0.2971 - val_metric_f1score: 0.9882 - learning_rate: 0.0010\n"
     ]
    }
   ],
   "source": [
    "from tensorflow.keras.callbacks import ModelCheckpoint, ReduceLROnPlateau, EarlyStopping\n",
    "\n",
    "early_stopping = EarlyStopping(monitor = 'val_metric_F1score', min_delta = 0, patience = 20, mode = 'max')\n",
    "\n",
    "\n",
    "history = model.fit(\n",
    "    x_train,\n",
    "    y_train,\n",
    "    validation_data=(x_val, y_val),\n",
    "    epochs=200,\n",
    "    callbacks=[\n",
    "        ModelCheckpoint('models/multi_hand_gesture_classifier.h5', monitor='val_acc', verbose=1, save_best_only=True, mode='auto'),\n",
    "        ReduceLROnPlateau(monitor='val_metric_F1score', factor=0.5, patience=50, verbose=1, mode='auto'),\n",
    "        early_stopping\n",
    "    ]\n",
    ")"
   ]
  },
  {
   "cell_type": "code",
   "execution_count": 16,
   "metadata": {},
   "outputs": [
    {
     "data": {
      "image/png": "[encoded data removed]",
      "text/plain": [
       "<Figure size 1600x1000 with 2 Axes>"
      ]
     },
     "metadata": {},
     "output_type": "display_data"
    }
   ],
   "source": [
    "import matplotlib.pyplot as plt\n",
    "\n",
    "fig, loss_ax = plt.subplots(figsize=(16, 10))\n",
    "acc_ax = loss_ax.twinx()\n",
    "\n",
    "loss_ax.plot(history.history['loss'], 'y', label='train loss')\n",
    "loss_ax.plot(history.history['val_loss'], 'r', label='val loss')\n",
    "loss_ax.set_xlabel('epoch')\n",
    "loss_ax.set_ylabel('loss')\n",
    "loss_ax.legend(loc='upper left')\n",
    "\n",
    "acc_ax.plot(history.history['acc'], 'b', label='train acc')\n",
    "acc_ax.plot(history.history['val_acc'], 'g', label='val acc')\n",
    "acc_ax.set_ylabel('accuracy')\n",
    "acc_ax.legend(loc='upper left')\n",
    "\n",
    "plt.show()"
   ]
  },
  {
   "cell_type": "code",
   "execution_count": 17,
   "metadata": {},
   "outputs": [
    {
     "data": {
      "image/png": "[encoded data removed]",
      "text/plain": [
       "<Figure size 1600x1000 with 2 Axes>"
      ]
     },
     "metadata": {},
     "output_type": "display_data"
    }
   ],
   "source": [
    "fig, loss_ax = plt.subplots(figsize=(16, 10))\n",
    "acc_ax = loss_ax.twinx()\n",
    "\n",
    "loss_ax.set_xlabel('epoch')\n",
    "loss_ax.set_ylabel('loss')\n",
    "\n",
    "acc_ax.plot(history.history['metric_f1score'], 'b', label='train f1')\n",
    "acc_ax.plot(history.history['val_metric_f1score'], 'g', label='val f1')\n",
    "acc_ax.set_ylabel('f1-score')\n",
    "acc_ax.legend(loc='upper left')\n",
    "\n",
    "plt.show()"
   ]
  },
  {
   "cell_type": "code",
   "execution_count": 18,
   "metadata": {},
   "outputs": [
    {
     "name": "stderr",
     "output_type": "stream",
     "text": [
      "WARNING:absl:Compiled the loaded model, but the compiled metrics have yet to be built. `model.compile_metrics` will be empty until you train or evaluate the model.\n"
     ]
    },
    {
     "name": "stdout",
     "output_type": "stream",
     "text": [
      "\u001b[1m4/4\u001b[0m \u001b[32m━━━━━━━━━━━━━━━━━━━━\u001b[0m\u001b[37m\u001b[0m \u001b[1m0s\u001b[0m 30ms/step\n"
     ]
    },
    {
     "data": {
      "text/plain": [
       "array([[[113,   0],\n",
       "        [  0,   7]],\n",
       "\n",
       "       [[115,   0],\n",
       "        [  0,   5]],\n",
       "\n",
       "       [[113,   0],\n",
       "        [  0,   7]],\n",
       "\n",
       "       [[114,   0],\n",
       "        [  0,   6]],\n",
       "\n",
       "       [[114,   0],\n",
       "        [  0,   6]],\n",
       "\n",
       "       [[112,   0],\n",
       "        [  0,   8]],\n",
       "\n",
       "       [[117,   0],\n",
       "        [  0,   3]],\n",
       "\n",
       "       [[118,   0],\n",
       "        [  0,   2]],\n",
       "\n",
       "       [[113,   0],\n",
       "        [  0,   7]],\n",
       "\n",
       "       [[ 97,   0],\n",
       "        [  0,  23]],\n",
       "\n",
       "       [[108,   0],\n",
       "        [  0,  12]],\n",
       "\n",
       "       [[115,   0],\n",
       "        [  0,   5]],\n",
       "\n",
       "       [[115,   0],\n",
       "        [  0,   5]],\n",
       "\n",
       "       [[114,   0],\n",
       "        [  0,   6]],\n",
       "\n",
       "       [[107,   0],\n",
       "        [  0,  13]],\n",
       "\n",
       "       [[115,   0],\n",
       "        [  0,   5]]])"
      ]
     },
     "execution_count": 18,
     "metadata": {},
     "output_type": "execute_result"
    }
   ],
   "source": [
    "from sklearn.metrics import multilabel_confusion_matrix\n",
    "from tensorflow.keras.models import load_model\n",
    "\n",
    "model = load_model('models/multi_hand_gesture_classifier.h5', custom_objects = {'metric_F1score':metric_F1score})\n",
    "\n",
    "y_pred = model.predict(x_val)\n",
    "multilabel_confusion_matrix(np.argmax(y_val, axis=1), np.argmax(y_pred, axis=1))"
   ]
  },
  {
   "cell_type": "code",
   "execution_count": 19,
   "metadata": {},
   "outputs": [
    {
     "data": {
      "text/plain": [
       "array([[[113,   0],\n",
       "        [  0,   7]],\n",
       "\n",
       "       [[115,   0],\n",
       "        [  0,   5]],\n",
       "\n",
       "       [[113,   0],\n",
       "        [  0,   7]],\n",
       "\n",
       "       [[114,   0],\n",
       "        [  0,   6]],\n",
       "\n",
       "       [[114,   0],\n",
       "        [  0,   6]],\n",
       "\n",
       "       [[112,   0],\n",
       "        [  0,   8]],\n",
       "\n",
       "       [[117,   0],\n",
       "        [  0,   3]],\n",
       "\n",
       "       [[118,   0],\n",
       "        [  0,   2]],\n",
       "\n",
       "       [[113,   0],\n",
       "        [  0,   7]],\n",
       "\n",
       "       [[ 97,   0],\n",
       "        [  0,  23]],\n",
       "\n",
       "       [[108,   0],\n",
       "        [  0,  12]],\n",
       "\n",
       "       [[115,   0],\n",
       "        [  0,   5]],\n",
       "\n",
       "       [[115,   0],\n",
       "        [  0,   5]],\n",
       "\n",
       "       [[114,   0],\n",
       "        [  0,   6]],\n",
       "\n",
       "       [[107,   0],\n",
       "        [  0,  13]],\n",
       "\n",
       "       [[115,   0],\n",
       "        [  0,   5]]])"
      ]
     },
     "execution_count": 19,
     "metadata": {},
     "output_type": "execute_result"
    }
   ],
   "source": [
    "multilabel_confusion_matrix(np.argmax(y_val, axis=1), np.argmax(y_pred, axis=1))"
   ]
  },
  {
   "cell_type": "code",
   "execution_count": 20,
   "metadata": {},
   "outputs": [
    {
     "name": "stderr",
     "output_type": "stream",
     "text": [
      "WARNING:absl:Compiled the loaded model, but the compiled metrics have yet to be built. `model.compile_metrics` will be empty until you train or evaluate the model.\n"
     ]
    },
    {
     "name": "stdout",
     "output_type": "stream",
     "text": [
      "\u001b[1m4/4\u001b[0m \u001b[32m━━━━━━━━━━━━━━━━━━━━\u001b[0m\u001b[37m\u001b[0m \u001b[1m0s\u001b[0m 30ms/step\n"
     ]
    },
    {
     "data": {
      "text/plain": [
       "array([[[113,   0],\n",
       "        [  0,   7]],\n",
       "\n",
       "       [[115,   0],\n",
       "        [  0,   5]],\n",
       "\n",
       "       [[113,   0],\n",
       "        [  0,   7]],\n",
       "\n",
       "       [[114,   0],\n",
       "        [  0,   6]],\n",
       "\n",
       "       [[114,   0],\n",
       "        [  0,   6]],\n",
       "\n",
       "       [[112,   0],\n",
       "        [  0,   8]],\n",
       "\n",
       "       [[117,   0],\n",
       "        [  0,   3]],\n",
       "\n",
       "       [[118,   0],\n",
       "        [  0,   2]],\n",
       "\n",
       "       [[113,   0],\n",
       "        [  0,   7]],\n",
       "\n",
       "       [[ 97,   0],\n",
       "        [  0,  23]],\n",
       "\n",
       "       [[108,   0],\n",
       "        [  0,  12]],\n",
       "\n",
       "       [[115,   0],\n",
       "        [  0,   5]],\n",
       "\n",
       "       [[115,   0],\n",
       "        [  0,   5]],\n",
       "\n",
       "       [[114,   0],\n",
       "        [  0,   6]],\n",
       "\n",
       "       [[107,   0],\n",
       "        [  0,  13]],\n",
       "\n",
       "       [[115,   0],\n",
       "        [  0,   5]]])"
      ]
     },
     "execution_count": 20,
     "metadata": {},
     "output_type": "execute_result"
    }
   ],
   "source": [
    "from sklearn.metrics import multilabel_confusion_matrix\n",
    "from tensorflow.keras.models import load_model\n",
    "\n",
    "model = load_model('models/multi_hand_gesture_classifier.h5')\n",
    "\n",
    "y_pred = model.predict(x_val)\n",
    "\n",
    "multilabel_confusion_matrix(np.argmax(y_val, axis=1), np.argmax(y_pred, axis=1))"
   ]
  },
  {
   "cell_type": "code",
   "execution_count": 21,
   "metadata": {},
   "outputs": [
    {
     "name": "stdout",
     "output_type": "stream",
     "text": [
      "INFO:tensorflow:Assets written to: /var/folders/_k/9pcm610n0sb_j9n64tc8zgcw0000gn/T/tmpfxcv0nw_/assets\n"
     ]
    },
    {
     "name": "stderr",
     "output_type": "stream",
     "text": [
      "INFO:tensorflow:Assets written to: /var/folders/_k/9pcm610n0sb_j9n64tc8zgcw0000gn/T/tmpfxcv0nw_/assets\n"
     ]
    },
    {
     "name": "stdout",
     "output_type": "stream",
     "text": [
      "Saved artifact at '/var/folders/_k/9pcm610n0sb_j9n64tc8zgcw0000gn/T/tmpfxcv0nw_'. The following endpoints are available:\n",
      "\n",
      "* Endpoint 'serve'\n",
      "  args_0 (POSITIONAL_ONLY): TensorSpec(shape=(None, 10, 55), dtype=tf.float32, name='input_layer')\n",
      "Output Type:\n",
      "  TensorSpec(shape=(None, 16), dtype=tf.float32, name=None)\n",
      "Captures:\n",
      "  13180566368: TensorSpec(shape=(), dtype=tf.resource, name=None)\n",
      "  13180590688: TensorSpec(shape=(), dtype=tf.resource, name=None)\n",
      "  13180595792: TensorSpec(shape=(), dtype=tf.resource, name=None)\n",
      "  13172334912: TensorSpec(shape=(), dtype=tf.resource, name=None)\n",
      "  13172332448: TensorSpec(shape=(), dtype=tf.resource, name=None)\n",
      "  13172339488: TensorSpec(shape=(), dtype=tf.resource, name=None)\n",
      "  13172442912: TensorSpec(shape=(), dtype=tf.resource, name=None)\n"
     ]
    },
    {
     "name": "stderr",
     "output_type": "stream",
     "text": [
      "WARNING: All log messages before absl::InitializeLog() is called are written to STDERR\n",
      "W0000 00:00:1744786240.138971  116609 tf_tfl_flatbuffer_helpers.cc:365] Ignored output_format.\n",
      "W0000 00:00:1744786240.139201  116609 tf_tfl_flatbuffer_helpers.cc:368] Ignored drop_control_dependency.\n",
      "2025-04-16 15:50:40.139446: I tensorflow/cc/saved_model/reader.cc:83] Reading SavedModel from: /var/folders/_k/9pcm610n0sb_j9n64tc8zgcw0000gn/T/tmpfxcv0nw_\n",
      "2025-04-16 15:50:40.139935: I tensorflow/cc/saved_model/reader.cc:52] Reading meta graph with tags { serve }\n",
      "2025-04-16 15:50:40.139940: I tensorflow/cc/saved_model/reader.cc:147] Reading SavedModel debug info (if present) from: /var/folders/_k/9pcm610n0sb_j9n64tc8zgcw0000gn/T/tmpfxcv0nw_\n",
      "I0000 00:00:1744786240.144858  116609 mlir_graph_optimization_pass.cc:425] MLIR V1 optimization pass is not enabled\n",
      "2025-04-16 15:50:40.145538: I tensorflow/cc/saved_model/loader.cc:236] Restoring SavedModel bundle.\n",
      "2025-04-16 15:50:40.176801: I tensorflow/cc/saved_model/loader.cc:220] Running initialization op on SavedModel bundle at path: /var/folders/_k/9pcm610n0sb_j9n64tc8zgcw0000gn/T/tmpfxcv0nw_\n",
      "2025-04-16 15:50:40.186349: I tensorflow/cc/saved_model/loader.cc:471] SavedModel load for tags { serve }; Status: success: OK. Took 46904 microseconds.\n",
      "2025-04-16 15:50:40.219666: I tensorflow/compiler/mlir/tensorflow/utils/dump_mlir_util.cc:269] disabling MLIR crash reproducer, set env var `MLIR_CRASH_REPRODUCER_DIRECTORY` to enable.\n",
      "2025-04-16 15:50:40.306163: W tensorflow/compiler/mlir/lite/flatbuffer_export.cc:3993] TFLite interpreter needs to link Flex delegate in order to run the model since it contains the following Select TFop(s):\n",
      "Flex ops: FlexTensorListReserve, FlexTensorListSetItem, FlexTensorListStack\n",
      "Details:\n",
      "\ttf.TensorListReserve(tensor<2xi32>, tensor<i32>) -> (tensor<!tf_type.variant<tensor<?x64xf32>>>) : {device = \"\"}\n",
      "\ttf.TensorListSetItem(tensor<!tf_type.variant<tensor<?x64xf32>>>, tensor<i32>, tensor<?x64xf32>) -> (tensor<!tf_type.variant<tensor<?x64xf32>>>) : {device = \"\", resize_if_index_out_of_bounds = false}\n",
      "\ttf.TensorListStack(tensor<!tf_type.variant<tensor<?x64xf32>>>, tensor<2xi32>) -> (tensor<1x?x64xf32>) : {device = \"\", num_elements = 1 : i64}\n",
      "See instructions: https://www.tensorflow.org/lite/guide/ops_select\n"
     ]
    }
   ],
   "source": [
    "import tensorflow as tf\n",
    "# Convert the model.\n",
    "converter = tf.lite.TFLiteConverter.from_keras_model(model)\n",
    "\n",
    "# 1. TF Lite 기본 연산 + Select TF ops 사용\n",
    "converter.target_spec.supported_ops = [\n",
    "    tf.lite.OpsSet.TFLITE_BUILTINS,\n",
    "    tf.lite.OpsSet.SELECT_TF_OPS\n",
    "]\n",
    "\n",
    "# 2. TensorList lowering 비활성화\n",
    "converter._experimental_lower_tensor_list_ops = False\n",
    "\n",
    "# 변환 실행\n",
    "tflite_model = converter.convert()\n",
    "\n",
    "# 모델 저장\n",
    "with open('models/multi_hand_gesture_classifier.tflite', 'wb') as f:\n",
    "    f.write(tflite_model)"
   ]
  },
  {
   "cell_type": "code",
   "execution_count": null,
   "metadata": {},
   "outputs": [],
   "source": []
  }
 ],
 "metadata": {
  "kernelspec": {
   "display_name": "hi",
   "language": "python",
   "name": "python3"
  },
  "language_info": {
   "codemirror_mode": {
    "name": "ipython",
    "version": 3
   },
   "file_extension": ".py",
   "mimetype": "text/x-python",
   "name": "python",
   "nbconvert_exporter": "python",
   "pygments_lexer": "ipython3",
   "version": "3.10.16"
  }
 },
 "nbformat": 4,
 "nbformat_minor": 4
}
