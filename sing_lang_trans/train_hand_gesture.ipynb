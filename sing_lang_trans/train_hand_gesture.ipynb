{
 "cells": [
  {
   "cell_type": "code",
   "execution_count": 1,
   "metadata": {},
   "outputs": [],
   "source": [
    "import numpy as np\n",
    "import os\n",
    "\n",
    "os.environ['CUDA_VISIBLE_DEVICES'] = '1'\n",
    "os.environ['TF_FORCE_GPU_ALLOW_GROWTH'] = 'true'"
   ]
  },
  {
   "cell_type": "code",
   "execution_count": 2,
   "metadata": {},
   "outputs": [
    {
     "name": "stdout",
     "output_type": "stream",
     "text": [
      "/Users/ENZO/KOOKIZ/GITHUB/translate-handsign\n"
     ]
    },
    {
     "name": "stderr",
     "output_type": "stream",
     "text": [
      "/opt/anaconda3/envs/hi/lib/python3.10/site-packages/IPython/core/magics/osm.py:417: UserWarning: This is now an optional IPython functionality, setting dhist requires you to install the `pickleshare` library.\n",
      "  self.shell.db['dhist'] = compress_dhist(dhist)[-100:]\n"
     ]
    }
   ],
   "source": [
    "%pwd\n",
    "%cd .."
   ]
  },
  {
   "cell_type": "code",
   "execution_count": 3,
   "metadata": {},
   "outputs": [
    {
     "data": {
      "text/plain": [
       "(303, 10, 56)"
      ]
     },
     "execution_count": 3,
     "metadata": {},
     "output_type": "execute_result"
    }
   ],
   "source": [
    "actions = ['아프다', '열', \"기침\", \"콧물\", \"코막힘\", \"머리\", \"배\", \"설사\", \"변비\", \"구토\"]\n",
    "time_num, time_num1, time_num2 = '1744773358','1744773453', '1744773560'\n",
    "\n",
    "for time_num in [time_num, time_num1, time_num2]:\n",
    "    data = np.concatenate([\n",
    "        np.load(f'dataset/seq_아프다_{time_num}.npy'),\n",
    "        np.load(f'dataset/seq_열_{time_num}.npy'),\n",
    "        np.load(f'dataset/seq_기침_{time_num}.npy'),\n",
    "        np.load(f'dataset/seq_콧물_{time_num}.npy'),\n",
    "        np.load(f'dataset/seq_코막힘_{time_num}.npy'),\n",
    "        np.load(f'dataset/seq_머리_{time_num}.npy'),\n",
    "        np.load(f'dataset/seq_배_{time_num}.npy'),\n",
    "        np.load(f'dataset/seq_설사_{time_num}.npy'),\n",
    "        np.load(f'dataset/seq_변비_{time_num}.npy'),\n",
    "        np.load(f'dataset/seq_구토_{time_num}.npy')\n",
    "    ], axis=0)\n",
    "\n",
    "data.shape"
   ]
  },
  {
   "cell_type": "code",
   "execution_count": 4,
   "metadata": {},
   "outputs": [
    {
     "name": "stdout",
     "output_type": "stream",
     "text": [
      "(40, 10, 56)\n",
      "(57, 10, 56)\n",
      "(23, 10, 56)\n",
      "(25, 10, 56)\n",
      "(32, 10, 56)\n",
      "(19, 10, 56)\n",
      "(23, 10, 56)\n",
      "(44, 10, 56)\n",
      "(26, 10, 56)\n",
      "(14, 10, 56)\n"
     ]
    }
   ],
   "source": [
    "print(np.load(f'dataset/seq_아프다_1744773358.npy').shape)\n",
    "print(np.load(f'dataset/seq_열_1744773358.npy').shape)\n",
    "print(np.load(f'dataset/seq_기침_1744773358.npy').shape)\n",
    "print(np.load(f'dataset/seq_콧물_1744773358.npy').shape)\n",
    "print(np.load(f'dataset/seq_코막힘_1744773358.npy').shape)\n",
    "print(np.load(f'dataset/seq_머리_1744773358.npy').shape)\n",
    "print(np.load(f'dataset/seq_배_1744773358.npy').shape)\n",
    "print(np.load(f'dataset/seq_설사_1744773358.npy').shape)\n",
    "print(np.load(f'dataset/seq_변비_1744773358.npy').shape)\n",
    "print(np.load(f'dataset/seq_구토_1744773358.npy').shape)"
   ]
  },
  {
   "cell_type": "code",
   "execution_count": 5,
   "metadata": {},
   "outputs": [
    {
     "name": "stdout",
     "output_type": "stream",
     "text": [
      "(303, 10, 55)\n",
      "(303,)\n"
     ]
    }
   ],
   "source": [
    "x_data = data[:, :, :-1]\n",
    "labels = data[:, 0, -1]\n",
    "\n",
    "print(x_data.shape)\n",
    "print(labels.shape)"
   ]
  },
  {
   "cell_type": "code",
   "execution_count": 6,
   "metadata": {},
   "outputs": [
    {
     "data": {
      "text/plain": [
       "array([0., 0., 0., 0., 0., 0., 0., 0., 0., 0., 0., 0., 0., 0., 0., 0., 0.,\n",
       "       0., 0., 0., 0., 0., 0., 0., 0., 0., 0., 0., 0., 0., 0., 0., 0., 0.,\n",
       "       0., 0., 0., 0., 0., 0., 1., 1., 1., 1., 1., 1., 1., 1., 1., 1., 1.,\n",
       "       1., 1., 1., 1., 1., 1., 1., 1., 1., 1., 1., 1., 1., 1., 1., 1., 1.,\n",
       "       1., 1., 1., 1., 1., 1., 1., 1., 1., 1., 1., 1., 1., 1., 1., 1., 1.,\n",
       "       1., 1., 1., 1., 1., 1., 1., 1., 1., 1., 1., 1., 2., 2., 2., 2., 2.,\n",
       "       2., 2., 2., 2., 2., 2., 2., 2., 2., 2., 2., 2., 2., 2., 2., 2., 2.,\n",
       "       2., 3., 3., 3., 3., 3., 3., 3., 3., 3., 3., 3., 3., 3., 3., 3., 3.,\n",
       "       3., 3., 3., 3., 3., 3., 3., 3., 3., 4., 4., 4., 4., 4., 4., 4., 4.,\n",
       "       4., 4., 4., 4., 4., 4., 4., 4., 4., 4., 4., 4., 4., 4., 4., 4., 4.,\n",
       "       4., 4., 4., 4., 4., 4., 4., 5., 5., 5., 5., 5., 5., 5., 5., 5., 5.,\n",
       "       5., 5., 5., 5., 5., 5., 5., 5., 5., 6., 6., 6., 6., 6., 6., 6., 6.,\n",
       "       6., 6., 6., 6., 6., 6., 6., 6., 6., 6., 6., 6., 6., 6., 6., 7., 7.,\n",
       "       7., 7., 7., 7., 7., 7., 7., 7., 7., 7., 7., 7., 7., 7., 7., 7., 7.,\n",
       "       7., 7., 7., 7., 7., 7., 7., 7., 7., 7., 7., 7., 7., 7., 7., 7., 7.,\n",
       "       7., 7., 7., 7., 7., 7., 7., 7., 8., 8., 8., 8., 8., 8., 8., 8., 8.,\n",
       "       8., 8., 8., 8., 8., 8., 8., 8., 8., 8., 8., 8., 8., 8., 8., 8., 8.,\n",
       "       9., 9., 9., 9., 9., 9., 9., 9., 9., 9., 9., 9., 9., 9.])"
      ]
     },
     "execution_count": 6,
     "metadata": {},
     "output_type": "execute_result"
    }
   ],
   "source": [
    "labels"
   ]
  },
  {
   "cell_type": "code",
   "execution_count": 7,
   "metadata": {},
   "outputs": [
    {
     "data": {
      "text/plain": [
       "303"
      ]
     },
     "execution_count": 7,
     "metadata": {},
     "output_type": "execute_result"
    }
   ],
   "source": [
    "len(labels)"
   ]
  },
  {
   "cell_type": "code",
   "execution_count": 8,
   "metadata": {},
   "outputs": [
    {
     "data": {
      "text/plain": [
       "array([0., 1., 2., 3., 4., 5., 6., 7., 8., 9.])"
      ]
     },
     "execution_count": 8,
     "metadata": {},
     "output_type": "execute_result"
    }
   ],
   "source": [
    "np.unique(labels)"
   ]
  },
  {
   "cell_type": "code",
   "execution_count": 9,
   "metadata": {},
   "outputs": [
    {
     "data": {
      "text/plain": [
       "(303, 10)"
      ]
     },
     "execution_count": 9,
     "metadata": {},
     "output_type": "execute_result"
    }
   ],
   "source": [
    "from tensorflow.keras.utils import to_categorical\n",
    "\n",
    "y_data = to_categorical(labels, num_classes=len(actions))\n",
    "y_data.shape"
   ]
  },
  {
   "cell_type": "code",
   "execution_count": 10,
   "metadata": {},
   "outputs": [
    {
     "data": {
      "text/plain": [
       "array([[1., 0., 0., ..., 0., 0., 0.],\n",
       "       [1., 0., 0., ..., 0., 0., 0.],\n",
       "       [1., 0., 0., ..., 0., 0., 0.],\n",
       "       ...,\n",
       "       [0., 0., 0., ..., 0., 0., 1.],\n",
       "       [0., 0., 0., ..., 0., 0., 1.],\n",
       "       [0., 0., 0., ..., 0., 0., 1.]])"
      ]
     },
     "execution_count": 10,
     "metadata": {},
     "output_type": "execute_result"
    }
   ],
   "source": [
    "y_data"
   ]
  },
  {
   "cell_type": "code",
   "execution_count": 11,
   "metadata": {},
   "outputs": [
    {
     "name": "stdout",
     "output_type": "stream",
     "text": [
      "(242, 10, 55) (242, 10)\n",
      "(61, 10, 55) (61, 10)\n"
     ]
    }
   ],
   "source": [
    "from sklearn.model_selection import train_test_split\n",
    "\n",
    "x_data = x_data.astype(np.float32)\n",
    "y_data = y_data.astype(np.float32)\n",
    "\n",
    "x_train, x_val, y_train, y_val = train_test_split(x_data, y_data, test_size=0.2, random_state=2020)\n",
    "\n",
    "print(x_train.shape, y_train.shape)\n",
    "print(x_val.shape, y_val.shape)"
   ]
  },
  {
   "cell_type": "code",
   "execution_count": 12,
   "metadata": {},
   "outputs": [
    {
     "data": {
      "text/plain": [
       "(10, 55)"
      ]
     },
     "execution_count": 12,
     "metadata": {},
     "output_type": "execute_result"
    }
   ],
   "source": [
    "x_train.shape[1:3]"
   ]
  },
  {
   "cell_type": "code",
   "execution_count": 13,
   "metadata": {},
   "outputs": [],
   "source": [
    "np.random.seed(42)\n",
    "import tensorflow as tf\n",
    "tf.random.set_seed(42)"
   ]
  },
  {
   "cell_type": "code",
   "execution_count": 14,
   "metadata": {},
   "outputs": [],
   "source": [
    "# custom f1 score\n",
    "def metric_F1score(y_true,y_pred): \n",
    "    TP=tf.reduce_sum(y_true*tf.round(y_pred))\n",
    "    TN=tf.reduce_sum((1-y_true)*(1-tf.round(y_pred)))\n",
    "    FP=tf.reduce_sum((1-y_true)*tf.round(y_pred))\n",
    "    FN=tf.reduce_sum(y_true*(1-tf.round(y_pred)))\n",
    "    precision=TP/(TP+FP)\n",
    "    recall=TP/(TP+FN)\n",
    "    F1score=2*precision*recall/(precision+recall)\n",
    "    return F1score"
   ]
  },
  {
   "cell_type": "code",
   "execution_count": 15,
   "metadata": {},
   "outputs": [
    {
     "name": "stderr",
     "output_type": "stream",
     "text": [
      "/opt/anaconda3/envs/hi/lib/python3.10/site-packages/keras/src/layers/rnn/rnn.py:200: UserWarning: Do not pass an `input_shape`/`input_dim` argument to a layer. When using Sequential models, prefer using an `Input(shape)` object as the first layer in the model instead.\n",
      "  super().__init__(**kwargs)\n"
     ]
    },
    {
     "data": {
      "text/html": [
       "<pre style=\"white-space:pre;overflow-x:auto;line-height:normal;font-family:Menlo,'DejaVu Sans Mono',consolas,'Courier New',monospace\"><span style=\"font-weight: bold\">Model: \"sequential\"</span>\n",
       "</pre>\n"
      ],
      "text/plain": [
       "\u001b[1mModel: \"sequential\"\u001b[0m\n"
      ]
     },
     "metadata": {},
     "output_type": "display_data"
    },
    {
     "data": {
      "text/html": [
       "<pre style=\"white-space:pre;overflow-x:auto;line-height:normal;font-family:Menlo,'DejaVu Sans Mono',consolas,'Courier New',monospace\">┏━━━━━━━━━━━━━━━━━━━━━━━━━━━━━━━━━┳━━━━━━━━━━━━━━━━━━━━━━━━┳━━━━━━━━━━━━━━━┓\n",
       "┃<span style=\"font-weight: bold\"> Layer (type)                    </span>┃<span style=\"font-weight: bold\"> Output Shape           </span>┃<span style=\"font-weight: bold\">       Param # </span>┃\n",
       "┡━━━━━━━━━━━━━━━━━━━━━━━━━━━━━━━━━╇━━━━━━━━━━━━━━━━━━━━━━━━╇━━━━━━━━━━━━━━━┩\n",
       "│ lstm (<span style=\"color: #0087ff; text-decoration-color: #0087ff\">LSTM</span>)                     │ (<span style=\"color: #00d7ff; text-decoration-color: #00d7ff\">None</span>, <span style=\"color: #00af00; text-decoration-color: #00af00\">64</span>)             │        <span style=\"color: #00af00; text-decoration-color: #00af00\">30,720</span> │\n",
       "├─────────────────────────────────┼────────────────────────┼───────────────┤\n",
       "│ dropout (<span style=\"color: #0087ff; text-decoration-color: #0087ff\">Dropout</span>)               │ (<span style=\"color: #00d7ff; text-decoration-color: #00d7ff\">None</span>, <span style=\"color: #00af00; text-decoration-color: #00af00\">64</span>)             │             <span style=\"color: #00af00; text-decoration-color: #00af00\">0</span> │\n",
       "├─────────────────────────────────┼────────────────────────┼───────────────┤\n",
       "│ dense (<span style=\"color: #0087ff; text-decoration-color: #0087ff\">Dense</span>)                   │ (<span style=\"color: #00d7ff; text-decoration-color: #00d7ff\">None</span>, <span style=\"color: #00af00; text-decoration-color: #00af00\">32</span>)             │         <span style=\"color: #00af00; text-decoration-color: #00af00\">2,080</span> │\n",
       "├─────────────────────────────────┼────────────────────────┼───────────────┤\n",
       "│ dropout_1 (<span style=\"color: #0087ff; text-decoration-color: #0087ff\">Dropout</span>)             │ (<span style=\"color: #00d7ff; text-decoration-color: #00d7ff\">None</span>, <span style=\"color: #00af00; text-decoration-color: #00af00\">32</span>)             │             <span style=\"color: #00af00; text-decoration-color: #00af00\">0</span> │\n",
       "├─────────────────────────────────┼────────────────────────┼───────────────┤\n",
       "│ dense_1 (<span style=\"color: #0087ff; text-decoration-color: #0087ff\">Dense</span>)                 │ (<span style=\"color: #00d7ff; text-decoration-color: #00d7ff\">None</span>, <span style=\"color: #00af00; text-decoration-color: #00af00\">10</span>)             │           <span style=\"color: #00af00; text-decoration-color: #00af00\">330</span> │\n",
       "└─────────────────────────────────┴────────────────────────┴───────────────┘\n",
       "</pre>\n"
      ],
      "text/plain": [
       "┏━━━━━━━━━━━━━━━━━━━━━━━━━━━━━━━━━┳━━━━━━━━━━━━━━━━━━━━━━━━┳━━━━━━━━━━━━━━━┓\n",
       "┃\u001b[1m \u001b[0m\u001b[1mLayer (type)                   \u001b[0m\u001b[1m \u001b[0m┃\u001b[1m \u001b[0m\u001b[1mOutput Shape          \u001b[0m\u001b[1m \u001b[0m┃\u001b[1m \u001b[0m\u001b[1m      Param #\u001b[0m\u001b[1m \u001b[0m┃\n",
       "┡━━━━━━━━━━━━━━━━━━━━━━━━━━━━━━━━━╇━━━━━━━━━━━━━━━━━━━━━━━━╇━━━━━━━━━━━━━━━┩\n",
       "│ lstm (\u001b[38;5;33mLSTM\u001b[0m)                     │ (\u001b[38;5;45mNone\u001b[0m, \u001b[38;5;34m64\u001b[0m)             │        \u001b[38;5;34m30,720\u001b[0m │\n",
       "├─────────────────────────────────┼────────────────────────┼───────────────┤\n",
       "│ dropout (\u001b[38;5;33mDropout\u001b[0m)               │ (\u001b[38;5;45mNone\u001b[0m, \u001b[38;5;34m64\u001b[0m)             │             \u001b[38;5;34m0\u001b[0m │\n",
       "├─────────────────────────────────┼────────────────────────┼───────────────┤\n",
       "│ dense (\u001b[38;5;33mDense\u001b[0m)                   │ (\u001b[38;5;45mNone\u001b[0m, \u001b[38;5;34m32\u001b[0m)             │         \u001b[38;5;34m2,080\u001b[0m │\n",
       "├─────────────────────────────────┼────────────────────────┼───────────────┤\n",
       "│ dropout_1 (\u001b[38;5;33mDropout\u001b[0m)             │ (\u001b[38;5;45mNone\u001b[0m, \u001b[38;5;34m32\u001b[0m)             │             \u001b[38;5;34m0\u001b[0m │\n",
       "├─────────────────────────────────┼────────────────────────┼───────────────┤\n",
       "│ dense_1 (\u001b[38;5;33mDense\u001b[0m)                 │ (\u001b[38;5;45mNone\u001b[0m, \u001b[38;5;34m10\u001b[0m)             │           \u001b[38;5;34m330\u001b[0m │\n",
       "└─────────────────────────────────┴────────────────────────┴───────────────┘\n"
      ]
     },
     "metadata": {},
     "output_type": "display_data"
    },
    {
     "data": {
      "text/html": [
       "<pre style=\"white-space:pre;overflow-x:auto;line-height:normal;font-family:Menlo,'DejaVu Sans Mono',consolas,'Courier New',monospace\"><span style=\"font-weight: bold\"> Total params: </span><span style=\"color: #00af00; text-decoration-color: #00af00\">33,130</span> (129.41 KB)\n",
       "</pre>\n"
      ],
      "text/plain": [
       "\u001b[1m Total params: \u001b[0m\u001b[38;5;34m33,130\u001b[0m (129.41 KB)\n"
      ]
     },
     "metadata": {},
     "output_type": "display_data"
    },
    {
     "data": {
      "text/html": [
       "<pre style=\"white-space:pre;overflow-x:auto;line-height:normal;font-family:Menlo,'DejaVu Sans Mono',consolas,'Courier New',monospace\"><span style=\"font-weight: bold\"> Trainable params: </span><span style=\"color: #00af00; text-decoration-color: #00af00\">33,130</span> (129.41 KB)\n",
       "</pre>\n"
      ],
      "text/plain": [
       "\u001b[1m Trainable params: \u001b[0m\u001b[38;5;34m33,130\u001b[0m (129.41 KB)\n"
      ]
     },
     "metadata": {},
     "output_type": "display_data"
    },
    {
     "data": {
      "text/html": [
       "<pre style=\"white-space:pre;overflow-x:auto;line-height:normal;font-family:Menlo,'DejaVu Sans Mono',consolas,'Courier New',monospace\"><span style=\"font-weight: bold\"> Non-trainable params: </span><span style=\"color: #00af00; text-decoration-color: #00af00\">0</span> (0.00 B)\n",
       "</pre>\n"
      ],
      "text/plain": [
       "\u001b[1m Non-trainable params: \u001b[0m\u001b[38;5;34m0\u001b[0m (0.00 B)\n"
      ]
     },
     "metadata": {},
     "output_type": "display_data"
    }
   ],
   "source": [
    "from tensorflow.keras.models import Sequential\n",
    "from tensorflow.keras.layers import LSTM, Dense, Dropout\n",
    "import tensorflow.keras as keras\n",
    "\n",
    "model = Sequential([\n",
    "    LSTM(64, activation='relu', input_shape=x_train.shape[1:3], kernel_regularizer=keras.regularizers.l2(0.01)),\n",
    "    Dropout(0.3),\n",
    "    Dense(32, activation='relu', kernel_regularizer=keras.regularizers.l2(0.01)),\n",
    "    Dropout(0.3),\n",
    "    Dense(len(actions), activation='softmax', kernel_regularizer=keras.regularizers.l2(0.01))\n",
    "])\n",
    "\n",
    "model.compile(optimizer='adam', loss='categorical_crossentropy', metrics=['acc',metric_F1score])\n",
    "model.summary()"
   ]
  },
  {
   "cell_type": "code",
   "execution_count": 16,
   "metadata": {
    "scrolled": true
   },
   "outputs": [
    {
     "name": "stdout",
     "output_type": "stream",
     "text": [
      "Epoch 1/200\n",
      "\u001b[1m1/8\u001b[0m \u001b[32m━━\u001b[0m\u001b[37m━━━━━━━━━━━━━━━━━━\u001b[0m \u001b[1m8s\u001b[0m 1s/step - acc: 0.0938 - loss: 46.0971 - metric_f1score: 0.0938\n",
      "Epoch 1: val_acc improved from -inf to 0.08197, saving model to models/multi_hand_gesture_classifier.h5\n"
     ]
    },
    {
     "name": "stderr",
     "output_type": "stream",
     "text": [
      "WARNING:absl:You are saving your model as an HDF5 file via `model.save()` or `keras.saving.save_model(model)`. This file format is considered legacy. We recommend using instead the native Keras format, e.g. `model.save('my_model.keras')` or `keras.saving.save_model(model, 'my_model.keras')`. \n"
     ]
    },
    {
     "name": "stdout",
     "output_type": "stream",
     "text": [
      "\u001b[1m8/8\u001b[0m \u001b[32m━━━━━━━━━━━━━━━━━━━━\u001b[0m\u001b[37m\u001b[0m \u001b[1m2s\u001b[0m 41ms/step - acc: 0.1451 - loss: 53.5500 - metric_f1score: 0.1414 - val_acc: 0.0820 - val_loss: 18.7773 - val_metric_f1score: nan - learning_rate: 0.0010\n",
      "Epoch 2/200\n",
      "\u001b[1m1/8\u001b[0m \u001b[32m━━\u001b[0m\u001b[37m━━━━━━━━━━━━━━━━━━\u001b[0m \u001b[1m0s\u001b[0m 13ms/step - acc: 0.2188 - loss: 17.8263 - metric_f1score: 0.2034\n",
      "Epoch 2: val_acc improved from 0.08197 to 0.16393, saving model to models/multi_hand_gesture_classifier.h5\n"
     ]
    },
    {
     "name": "stderr",
     "output_type": "stream",
     "text": [
      "/opt/anaconda3/envs/hi/lib/python3.10/site-packages/keras/src/callbacks/callback_list.py:145: UserWarning: Learning rate reduction is conditioned on metric `val_metric_F1score` which is not available. Available metrics are: acc,loss,metric_f1score,val_acc,val_loss,val_metric_f1score,learning_rate.\n",
      "  callback.on_epoch_end(epoch, logs)\n",
      "/opt/anaconda3/envs/hi/lib/python3.10/site-packages/keras/src/callbacks/early_stopping.py:153: UserWarning: Early stopping conditioned on metric `val_metric_F1score` which is not available. Available metrics are: acc,loss,metric_f1score,val_acc,val_loss,val_metric_f1score,learning_rate\n",
      "  current = self.get_monitor_value(logs)\n",
      "WARNING:absl:You are saving your model as an HDF5 file via `model.save()` or `keras.saving.save_model(model)`. This file format is considered legacy. We recommend using instead the native Keras format, e.g. `model.save('my_model.keras')` or `keras.saving.save_model(model, 'my_model.keras')`. \n"
     ]
    },
    {
     "name": "stdout",
     "output_type": "stream",
     "text": [
      "\u001b[1m8/8\u001b[0m \u001b[32m━━━━━━━━━━━━━━━━━━━━\u001b[0m\u001b[37m\u001b[0m \u001b[1m0s\u001b[0m 9ms/step - acc: 0.1465 - loss: 28.3010 - metric_f1score: 0.1390 - val_acc: 0.1639 - val_loss: 12.1446 - val_metric_f1score: 0.1343 - learning_rate: 0.0010\n",
      "Epoch 3/200\n",
      "\u001b[1m1/8\u001b[0m \u001b[32m━━\u001b[0m\u001b[37m━━━━━━━━━━━━━━━━━━\u001b[0m \u001b[1m0s\u001b[0m 14ms/step - acc: 0.2500 - loss: 14.5319 - metric_f1score: 0.2667\n",
      "Epoch 3: val_acc improved from 0.16393 to 0.36066, saving model to models/multi_hand_gesture_classifier.h5\n"
     ]
    },
    {
     "name": "stderr",
     "output_type": "stream",
     "text": [
      "WARNING:absl:You are saving your model as an HDF5 file via `model.save()` or `keras.saving.save_model(model)`. This file format is considered legacy. We recommend using instead the native Keras format, e.g. `model.save('my_model.keras')` or `keras.saving.save_model(model, 'my_model.keras')`. \n"
     ]
    },
    {
     "name": "stdout",
     "output_type": "stream",
     "text": [
      "\u001b[1m8/8\u001b[0m \u001b[32m━━━━━━━━━━━━━━━━━━━━\u001b[0m\u001b[37m\u001b[0m \u001b[1m0s\u001b[0m 9ms/step - acc: 0.2077 - loss: 21.0279 - metric_f1score: 0.2101 - val_acc: 0.3607 - val_loss: 9.2090 - val_metric_f1score: 0.3125 - learning_rate: 0.0010\n",
      "Epoch 4/200\n",
      "\u001b[1m1/8\u001b[0m \u001b[32m━━\u001b[0m\u001b[37m━━━━━━━━━━━━━━━━━━\u001b[0m \u001b[1m0s\u001b[0m 15ms/step - acc: 0.1562 - loss: 14.0974 - metric_f1score: 0.1053\n",
      "Epoch 4: val_acc improved from 0.36066 to 0.45902, saving model to models/multi_hand_gesture_classifier.h5\n"
     ]
    },
    {
     "name": "stderr",
     "output_type": "stream",
     "text": [
      "WARNING:absl:You are saving your model as an HDF5 file via `model.save()` or `keras.saving.save_model(model)`. This file format is considered legacy. We recommend using instead the native Keras format, e.g. `model.save('my_model.keras')` or `keras.saving.save_model(model, 'my_model.keras')`. \n"
     ]
    },
    {
     "name": "stdout",
     "output_type": "stream",
     "text": [
      "\u001b[1m8/8\u001b[0m \u001b[32m━━━━━━━━━━━━━━━━━━━━\u001b[0m\u001b[37m\u001b[0m \u001b[1m0s\u001b[0m 8ms/step - acc: 0.2102 - loss: 16.5912 - metric_f1score: 0.1903 - val_acc: 0.4590 - val_loss: 7.6445 - val_metric_f1score: 0.4510 - learning_rate: 0.0010\n",
      "Epoch 5/200\n",
      "\u001b[1m1/8\u001b[0m \u001b[32m━━\u001b[0m\u001b[37m━━━━━━━━━━━━━━━━━━\u001b[0m \u001b[1m0s\u001b[0m 13ms/step - acc: 0.2188 - loss: 8.0808 - metric_f1score: 0.2456\n",
      "Epoch 5: val_acc improved from 0.45902 to 0.52459, saving model to models/multi_hand_gesture_classifier.h5\n"
     ]
    },
    {
     "name": "stderr",
     "output_type": "stream",
     "text": [
      "WARNING:absl:You are saving your model as an HDF5 file via `model.save()` or `keras.saving.save_model(model)`. This file format is considered legacy. We recommend using instead the native Keras format, e.g. `model.save('my_model.keras')` or `keras.saving.save_model(model, 'my_model.keras')`. \n"
     ]
    },
    {
     "name": "stdout",
     "output_type": "stream",
     "text": [
      "\u001b[1m8/8\u001b[0m \u001b[32m━━━━━━━━━━━━━━━━━━━━\u001b[0m\u001b[37m\u001b[0m \u001b[1m0s\u001b[0m 8ms/step - acc: 0.2646 - loss: 12.8171 - metric_f1score: 0.2644 - val_acc: 0.5246 - val_loss: 6.8591 - val_metric_f1score: 0.5313 - learning_rate: 0.0010\n",
      "Epoch 6/200\n",
      "\u001b[1m1/8\u001b[0m \u001b[32m━━\u001b[0m\u001b[37m━━━━━━━━━━━━━━━━━━\u001b[0m \u001b[1m0s\u001b[0m 13ms/step - acc: 0.3125 - loss: 8.2016 - metric_f1score: 0.3448\n",
      "Epoch 6: val_acc improved from 0.52459 to 0.54098, saving model to models/multi_hand_gesture_classifier.h5\n"
     ]
    },
    {
     "name": "stderr",
     "output_type": "stream",
     "text": [
      "WARNING:absl:You are saving your model as an HDF5 file via `model.save()` or `keras.saving.save_model(model)`. This file format is considered legacy. We recommend using instead the native Keras format, e.g. `model.save('my_model.keras')` or `keras.saving.save_model(model, 'my_model.keras')`. \n"
     ]
    },
    {
     "name": "stdout",
     "output_type": "stream",
     "text": [
      "\u001b[1m8/8\u001b[0m \u001b[32m━━━━━━━━━━━━━━━━━━━━\u001b[0m\u001b[37m\u001b[0m \u001b[1m0s\u001b[0m 8ms/step - acc: 0.3237 - loss: 13.0757 - metric_f1score: 0.3312 - val_acc: 0.5410 - val_loss: 6.1790 - val_metric_f1score: 0.5327 - learning_rate: 0.0010\n",
      "Epoch 7/200\n",
      "\u001b[1m1/8\u001b[0m \u001b[32m━━\u001b[0m\u001b[37m━━━━━━━━━━━━━━━━━━\u001b[0m \u001b[1m0s\u001b[0m 13ms/step - acc: 0.2812 - loss: 17.2535 - metric_f1score: 0.2712\n",
      "Epoch 7: val_acc improved from 0.54098 to 0.55738, saving model to models/multi_hand_gesture_classifier.h5\n"
     ]
    },
    {
     "name": "stderr",
     "output_type": "stream",
     "text": [
      "WARNING:absl:You are saving your model as an HDF5 file via `model.save()` or `keras.saving.save_model(model)`. This file format is considered legacy. We recommend using instead the native Keras format, e.g. `model.save('my_model.keras')` or `keras.saving.save_model(model, 'my_model.keras')`. \n"
     ]
    },
    {
     "name": "stdout",
     "output_type": "stream",
     "text": [
      "\u001b[1m8/8\u001b[0m \u001b[32m━━━━━━━━━━━━━━━━━━━━\u001b[0m\u001b[37m\u001b[0m \u001b[1m0s\u001b[0m 8ms/step - acc: 0.3006 - loss: 15.6854 - metric_f1score: 0.2960 - val_acc: 0.5574 - val_loss: 5.6127 - val_metric_f1score: 0.5820 - learning_rate: 0.0010\n",
      "Epoch 8/200\n",
      "\u001b[1m1/8\u001b[0m \u001b[32m━━\u001b[0m\u001b[37m━━━━━━━━━━━━━━━━━━\u001b[0m \u001b[1m0s\u001b[0m 13ms/step - acc: 0.3125 - loss: 8.3306 - metric_f1score: 0.2593\n",
      "Epoch 8: val_acc improved from 0.55738 to 0.62295, saving model to models/multi_hand_gesture_classifier.h5\n"
     ]
    },
    {
     "name": "stderr",
     "output_type": "stream",
     "text": [
      "WARNING:absl:You are saving your model as an HDF5 file via `model.save()` or `keras.saving.save_model(model)`. This file format is considered legacy. We recommend using instead the native Keras format, e.g. `model.save('my_model.keras')` or `keras.saving.save_model(model, 'my_model.keras')`. \n"
     ]
    },
    {
     "name": "stdout",
     "output_type": "stream",
     "text": [
      "\u001b[1m8/8\u001b[0m \u001b[32m━━━━━━━━━━━━━━━━━━━━\u001b[0m\u001b[37m\u001b[0m \u001b[1m0s\u001b[0m 8ms/step - acc: 0.3356 - loss: 11.6774 - metric_f1score: 0.3083 - val_acc: 0.6230 - val_loss: 5.1428 - val_metric_f1score: 0.6606 - learning_rate: 0.0010\n",
      "Epoch 9/200\n",
      "\u001b[1m1/8\u001b[0m \u001b[32m━━\u001b[0m\u001b[37m━━━━━━━━━━━━━━━━━━\u001b[0m \u001b[1m0s\u001b[0m 14ms/step - acc: 0.2500 - loss: 10.1169 - metric_f1score: 0.2759\n",
      "Epoch 9: val_acc improved from 0.62295 to 0.63934, saving model to models/multi_hand_gesture_classifier.h5\n"
     ]
    },
    {
     "name": "stderr",
     "output_type": "stream",
     "text": [
      "WARNING:absl:You are saving your model as an HDF5 file via `model.save()` or `keras.saving.save_model(model)`. This file format is considered legacy. We recommend using instead the native Keras format, e.g. `model.save('my_model.keras')` or `keras.saving.save_model(model, 'my_model.keras')`. \n"
     ]
    },
    {
     "name": "stdout",
     "output_type": "stream",
     "text": [
      "\u001b[1m8/8\u001b[0m \u001b[32m━━━━━━━━━━━━━━━━━━━━\u001b[0m\u001b[37m\u001b[0m \u001b[1m0s\u001b[0m 9ms/step - acc: 0.2896 - loss: 12.5452 - metric_f1score: 0.3030 - val_acc: 0.6393 - val_loss: 4.6407 - val_metric_f1score: 0.6544 - learning_rate: 0.0010\n",
      "Epoch 10/200\n",
      "\u001b[1m1/8\u001b[0m \u001b[32m━━\u001b[0m\u001b[37m━━━━━━━━━━━━━━━━━━\u001b[0m \u001b[1m0s\u001b[0m 15ms/step - acc: 0.1875 - loss: 8.0200 - metric_f1score: 0.1852\n",
      "Epoch 10: val_acc improved from 0.63934 to 0.65574, saving model to models/multi_hand_gesture_classifier.h5\n"
     ]
    },
    {
     "name": "stderr",
     "output_type": "stream",
     "text": [
      "WARNING:absl:You are saving your model as an HDF5 file via `model.save()` or `keras.saving.save_model(model)`. This file format is considered legacy. We recommend using instead the native Keras format, e.g. `model.save('my_model.keras')` or `keras.saving.save_model(model, 'my_model.keras')`. \n"
     ]
    },
    {
     "name": "stdout",
     "output_type": "stream",
     "text": [
      "\u001b[1m8/8\u001b[0m \u001b[32m━━━━━━━━━━━━━━━━━━━━\u001b[0m\u001b[37m\u001b[0m \u001b[1m0s\u001b[0m 9ms/step - acc: 0.3503 - loss: 7.7192 - metric_f1score: 0.3511 - val_acc: 0.6557 - val_loss: 4.3685 - val_metric_f1score: 0.6976 - learning_rate: 0.0010\n",
      "Epoch 11/200\n",
      "\u001b[1m1/8\u001b[0m \u001b[32m━━\u001b[0m\u001b[37m━━━━━━━━━━━━━━━━━━\u001b[0m \u001b[1m0s\u001b[0m 15ms/step - acc: 0.3125 - loss: 4.9231 - metric_f1score: 0.3273\n",
      "Epoch 11: val_acc improved from 0.65574 to 0.68852, saving model to models/multi_hand_gesture_classifier.h5\n"
     ]
    },
    {
     "name": "stderr",
     "output_type": "stream",
     "text": [
      "WARNING:absl:You are saving your model as an HDF5 file via `model.save()` or `keras.saving.save_model(model)`. This file format is considered legacy. We recommend using instead the native Keras format, e.g. `model.save('my_model.keras')` or `keras.saving.save_model(model, 'my_model.keras')`. \n"
     ]
    },
    {
     "name": "stdout",
     "output_type": "stream",
     "text": [
      "\u001b[1m8/8\u001b[0m \u001b[32m━━━━━━━━━━━━━━━━━━━━\u001b[0m\u001b[37m\u001b[0m \u001b[1m0s\u001b[0m 9ms/step - acc: 0.4456 - loss: 6.6503 - metric_f1score: 0.4636 - val_acc: 0.6885 - val_loss: 4.2833 - val_metric_f1score: 0.7139 - learning_rate: 0.0010\n",
      "Epoch 12/200\n",
      "\u001b[1m1/8\u001b[0m \u001b[32m━━\u001b[0m\u001b[37m━━━━━━━━━━━━━━━━━━\u001b[0m \u001b[1m0s\u001b[0m 14ms/step - acc: 0.3750 - loss: 7.0012 - metric_f1score: 0.4138\n",
      "Epoch 12: val_acc did not improve from 0.68852\n",
      "\u001b[1m8/8\u001b[0m \u001b[32m━━━━━━━━━━━━━━━━━━━━\u001b[0m\u001b[37m\u001b[0m \u001b[1m0s\u001b[0m 7ms/step - acc: 0.4079 - loss: 8.5272 - metric_f1score: 0.4096 - val_acc: 0.6721 - val_loss: 3.6097 - val_metric_f1score: 0.7203 - learning_rate: 0.0010\n",
      "Epoch 13/200\n",
      "\u001b[1m1/8\u001b[0m \u001b[32m━━\u001b[0m\u001b[37m━━━━━━━━━━━━━━━━━━\u001b[0m \u001b[1m0s\u001b[0m 12ms/step - acc: 0.4062 - loss: 5.5779 - metric_f1score: 0.4643\n",
      "Epoch 13: val_acc improved from 0.68852 to 0.75410, saving model to models/multi_hand_gesture_classifier.h5\n"
     ]
    },
    {
     "name": "stderr",
     "output_type": "stream",
     "text": [
      "WARNING:absl:You are saving your model as an HDF5 file via `model.save()` or `keras.saving.save_model(model)`. This file format is considered legacy. We recommend using instead the native Keras format, e.g. `model.save('my_model.keras')` or `keras.saving.save_model(model, 'my_model.keras')`. \n"
     ]
    },
    {
     "name": "stdout",
     "output_type": "stream",
     "text": [
      "\u001b[1m8/8\u001b[0m \u001b[32m━━━━━━━━━━━━━━━━━━━━\u001b[0m\u001b[37m\u001b[0m \u001b[1m0s\u001b[0m 25ms/step - acc: 0.4501 - loss: 7.5740 - metric_f1score: 0.4650 - val_acc: 0.7541 - val_loss: 3.0744 - val_metric_f1score: 0.8027 - learning_rate: 0.0010\n",
      "Epoch 14/200\n",
      "\u001b[1m1/8\u001b[0m \u001b[32m━━\u001b[0m\u001b[37m━━━━━━━━━━━━━━━━━━\u001b[0m \u001b[1m0s\u001b[0m 16ms/step - acc: 0.4062 - loss: 5.2786 - metric_f1score: 0.3704\n",
      "Epoch 14: val_acc did not improve from 0.75410\n",
      "\u001b[1m8/8\u001b[0m \u001b[32m━━━━━━━━━━━━━━━━━━━━\u001b[0m\u001b[37m\u001b[0m \u001b[1m0s\u001b[0m 14ms/step - acc: 0.4560 - loss: 8.0025 - metric_f1score: 0.4653 - val_acc: 0.7377 - val_loss: 3.4038 - val_metric_f1score: 0.7749 - learning_rate: 0.0010\n",
      "Epoch 15/200\n",
      "\u001b[1m1/8\u001b[0m \u001b[32m━━\u001b[0m\u001b[37m━━━━━━━━━━━━━━━━━━\u001b[0m \u001b[1m0s\u001b[0m 21ms/step - acc: 0.5625 - loss: 4.8732 - metric_f1score: 0.5263\n",
      "Epoch 15: val_acc did not improve from 0.75410\n",
      "\u001b[1m8/8\u001b[0m \u001b[32m━━━━━━━━━━━━━━━━━━━━\u001b[0m\u001b[37m\u001b[0m \u001b[1m0s\u001b[0m 11ms/step - acc: 0.5249 - loss: 6.3809 - metric_f1score: 0.5222 - val_acc: 0.7541 - val_loss: 3.1511 - val_metric_f1score: 0.7997 - learning_rate: 0.0010\n",
      "Epoch 16/200\n",
      "\u001b[1m1/8\u001b[0m \u001b[32m━━\u001b[0m\u001b[37m━━━━━━━━━━━━━━━━━━\u001b[0m \u001b[1m0s\u001b[0m 17ms/step - acc: 0.4062 - loss: 4.0207 - metric_f1score: 0.3860\n",
      "Epoch 16: val_acc did not improve from 0.75410\n",
      "\u001b[1m8/8\u001b[0m \u001b[32m━━━━━━━━━━━━━━━━━━━━\u001b[0m\u001b[37m\u001b[0m \u001b[1m0s\u001b[0m 10ms/step - acc: 0.4472 - loss: 4.3411 - metric_f1score: 0.4549 - val_acc: 0.6557 - val_loss: 3.1166 - val_metric_f1score: 0.7335 - learning_rate: 0.0010\n",
      "Epoch 17/200\n",
      "\u001b[1m1/8\u001b[0m \u001b[32m━━\u001b[0m\u001b[37m━━━━━━━━━━━━━━━━━━\u001b[0m \u001b[1m0s\u001b[0m 17ms/step - acc: 0.5625 - loss: 3.2265 - metric_f1score: 0.5455\n",
      "Epoch 17: val_acc did not improve from 0.75410\n",
      "\u001b[1m8/8\u001b[0m \u001b[32m━━━━━━━━━━━━━━━━━━━━\u001b[0m\u001b[37m\u001b[0m \u001b[1m0s\u001b[0m 8ms/step - acc: 0.5067 - loss: 4.9995 - metric_f1score: 0.5091 - val_acc: 0.6066 - val_loss: 3.1260 - val_metric_f1score: 0.6682 - learning_rate: 0.0010\n",
      "Epoch 18/200\n",
      "\u001b[1m1/8\u001b[0m \u001b[32m━━\u001b[0m\u001b[37m━━━━━━━━━━━━━━━━━━\u001b[0m \u001b[1m0s\u001b[0m 17ms/step - acc: 0.5938 - loss: 3.1608 - metric_f1score: 0.6102\n",
      "Epoch 18: val_acc did not improve from 0.75410\n",
      "\u001b[1m8/8\u001b[0m \u001b[32m━━━━━━━━━━━━━━━━━━━━\u001b[0m\u001b[37m\u001b[0m \u001b[1m0s\u001b[0m 8ms/step - acc: 0.5377 - loss: 4.4005 - metric_f1score: 0.5479 - val_acc: 0.6557 - val_loss: 3.2855 - val_metric_f1score: 0.6967 - learning_rate: 0.0010\n",
      "Epoch 19/200\n",
      "\u001b[1m1/8\u001b[0m \u001b[32m━━\u001b[0m\u001b[37m━━━━━━━━━━━━━━━━━━\u001b[0m \u001b[1m0s\u001b[0m 15ms/step - acc: 0.4688 - loss: 3.8320 - metric_f1score: 0.5000\n",
      "Epoch 19: val_acc did not improve from 0.75410\n",
      "\u001b[1m8/8\u001b[0m \u001b[32m━━━━━━━━━━━━━━━━━━━━\u001b[0m\u001b[37m\u001b[0m \u001b[1m0s\u001b[0m 8ms/step - acc: 0.4783 - loss: 6.9591 - metric_f1score: 0.4752 - val_acc: 0.6885 - val_loss: 3.0957 - val_metric_f1score: 0.7075 - learning_rate: 0.0010\n",
      "Epoch 20/200\n",
      "\u001b[1m1/8\u001b[0m \u001b[32m━━\u001b[0m\u001b[37m━━━━━━━━━━━━━━━━━━\u001b[0m \u001b[1m0s\u001b[0m 15ms/step - acc: 0.4375 - loss: 4.9806 - metric_f1score: 0.4727\n",
      "Epoch 20: val_acc did not improve from 0.75410\n",
      "\u001b[1m8/8\u001b[0m \u001b[32m━━━━━━━━━━━━━━━━━━━━\u001b[0m\u001b[37m\u001b[0m \u001b[1m0s\u001b[0m 8ms/step - acc: 0.5048 - loss: 4.9719 - metric_f1score: 0.5108 - val_acc: 0.7213 - val_loss: 2.7789 - val_metric_f1score: 0.7247 - learning_rate: 0.0010\n",
      "Epoch 21/200\n",
      "\u001b[1m1/8\u001b[0m \u001b[32m━━\u001b[0m\u001b[37m━━━━━━━━━━━━━━━━━━\u001b[0m \u001b[1m0s\u001b[0m 14ms/step - acc: 0.4688 - loss: 3.6706 - metric_f1score: 0.4815\n",
      "Epoch 21: val_acc did not improve from 0.75410\n",
      "\u001b[1m8/8\u001b[0m \u001b[32m━━━━━━━━━━━━━━━━━━━━\u001b[0m\u001b[37m\u001b[0m \u001b[1m0s\u001b[0m 7ms/step - acc: 0.5015 - loss: 4.2741 - metric_f1score: 0.5060 - val_acc: 0.7541 - val_loss: 2.6702 - val_metric_f1score: 0.6918 - learning_rate: 0.0010\n",
      "Epoch 22/200\n",
      "\u001b[1m1/8\u001b[0m \u001b[32m━━\u001b[0m\u001b[37m━━━━━━━━━━━━━━━━━━\u001b[0m \u001b[1m0s\u001b[0m 13ms/step - acc: 0.5000 - loss: 7.0466 - metric_f1score: 0.4364\n",
      "Epoch 22: val_acc did not improve from 0.75410\n",
      "\u001b[1m8/8\u001b[0m \u001b[32m━━━━━━━━━━━━━━━━━━━━\u001b[0m\u001b[37m\u001b[0m \u001b[1m0s\u001b[0m 7ms/step - acc: 0.5393 - loss: 5.1762 - metric_f1score: 0.4935 - val_acc: 0.7541 - val_loss: 2.5355 - val_metric_f1score: 0.7108 - learning_rate: 0.0010\n",
      "Epoch 23/200\n",
      "\u001b[1m1/8\u001b[0m \u001b[32m━━\u001b[0m\u001b[37m━━━━━━━━━━━━━━━━━━\u001b[0m \u001b[1m0s\u001b[0m 13ms/step - acc: 0.4688 - loss: 3.5918 - metric_f1score: 0.5000\n",
      "Epoch 23: val_acc did not improve from 0.75410\n",
      "\u001b[1m8/8\u001b[0m \u001b[32m━━━━━━━━━━━━━━━━━━━━\u001b[0m\u001b[37m\u001b[0m \u001b[1m0s\u001b[0m 7ms/step - acc: 0.5746 - loss: 3.7531 - metric_f1score: 0.6025 - val_acc: 0.7049 - val_loss: 2.5574 - val_metric_f1score: 0.7019 - learning_rate: 0.0010\n",
      "Epoch 24/200\n",
      "\u001b[1m1/8\u001b[0m \u001b[32m━━\u001b[0m\u001b[37m━━━━━━━━━━━━━━━━━━\u001b[0m \u001b[1m0s\u001b[0m 13ms/step - acc: 0.5625 - loss: 3.5587 - metric_f1score: 0.5965\n",
      "Epoch 24: val_acc improved from 0.75410 to 0.77049, saving model to models/multi_hand_gesture_classifier.h5\n"
     ]
    },
    {
     "name": "stderr",
     "output_type": "stream",
     "text": [
      "WARNING:absl:You are saving your model as an HDF5 file via `model.save()` or `keras.saving.save_model(model)`. This file format is considered legacy. We recommend using instead the native Keras format, e.g. `model.save('my_model.keras')` or `keras.saving.save_model(model, 'my_model.keras')`. \n"
     ]
    },
    {
     "name": "stdout",
     "output_type": "stream",
     "text": [
      "\u001b[1m8/8\u001b[0m \u001b[32m━━━━━━━━━━━━━━━━━━━━\u001b[0m\u001b[37m\u001b[0m \u001b[1m0s\u001b[0m 8ms/step - acc: 0.6416 - loss: 3.6051 - metric_f1score: 0.6442 - val_acc: 0.7705 - val_loss: 2.5162 - val_metric_f1score: 0.7355 - learning_rate: 0.0010\n",
      "Epoch 25/200\n",
      "\u001b[1m1/8\u001b[0m \u001b[32m━━\u001b[0m\u001b[37m━━━━━━━━━━━━━━━━━━\u001b[0m \u001b[1m0s\u001b[0m 12ms/step - acc: 0.6562 - loss: 2.3158 - metric_f1score: 0.5818\n",
      "Epoch 25: val_acc improved from 0.77049 to 0.78689, saving model to models/multi_hand_gesture_classifier.h5\n"
     ]
    },
    {
     "name": "stderr",
     "output_type": "stream",
     "text": [
      "WARNING:absl:You are saving your model as an HDF5 file via `model.save()` or `keras.saving.save_model(model)`. This file format is considered legacy. We recommend using instead the native Keras format, e.g. `model.save('my_model.keras')` or `keras.saving.save_model(model, 'my_model.keras')`. \n"
     ]
    },
    {
     "name": "stdout",
     "output_type": "stream",
     "text": [
      "\u001b[1m8/8\u001b[0m \u001b[32m━━━━━━━━━━━━━━━━━━━━\u001b[0m\u001b[37m\u001b[0m \u001b[1m0s\u001b[0m 8ms/step - acc: 0.6146 - loss: 3.3978 - metric_f1score: 0.5929 - val_acc: 0.7869 - val_loss: 2.3214 - val_metric_f1score: 0.7733 - learning_rate: 0.0010\n",
      "Epoch 26/200\n",
      "\u001b[1m1/8\u001b[0m \u001b[32m━━\u001b[0m\u001b[37m━━━━━━━━━━━━━━━━━━\u001b[0m \u001b[1m0s\u001b[0m 12ms/step - acc: 0.5312 - loss: 2.7070 - metric_f1score: 0.5000\n",
      "Epoch 26: val_acc did not improve from 0.78689\n",
      "\u001b[1m8/8\u001b[0m \u001b[32m━━━━━━━━━━━━━━━━━━━━\u001b[0m\u001b[37m\u001b[0m \u001b[1m0s\u001b[0m 8ms/step - acc: 0.5778 - loss: 3.9466 - metric_f1score: 0.5605 - val_acc: 0.7869 - val_loss: 2.4280 - val_metric_f1score: 0.8009 - learning_rate: 0.0010\n",
      "Epoch 27/200\n",
      "\u001b[1m1/8\u001b[0m \u001b[32m━━\u001b[0m\u001b[37m━━━━━━━━━━━━━━━━━━\u001b[0m \u001b[1m0s\u001b[0m 16ms/step - acc: 0.7188 - loss: 2.0740 - metric_f1score: 0.7119\n",
      "Epoch 27: val_acc did not improve from 0.78689\n",
      "\u001b[1m8/8\u001b[0m \u001b[32m━━━━━━━━━━━━━━━━━━━━\u001b[0m\u001b[37m\u001b[0m \u001b[1m0s\u001b[0m 9ms/step - acc: 0.6656 - loss: 3.2831 - metric_f1score: 0.6655 - val_acc: 0.7869 - val_loss: 2.3302 - val_metric_f1score: 0.7995 - learning_rate: 0.0010\n",
      "Epoch 28/200\n",
      "\u001b[1m1/8\u001b[0m \u001b[32m━━\u001b[0m\u001b[37m━━━━━━━━━━━━━━━━━━\u001b[0m \u001b[1m0s\u001b[0m 16ms/step - acc: 0.6250 - loss: 2.9029 - metric_f1score: 0.5965\n",
      "Epoch 28: val_acc did not improve from 0.78689\n",
      "\u001b[1m8/8\u001b[0m \u001b[32m━━━━━━━━━━━━━━━━━━━━\u001b[0m\u001b[37m\u001b[0m \u001b[1m0s\u001b[0m 8ms/step - acc: 0.6633 - loss: 3.7124 - metric_f1score: 0.6601 - val_acc: 0.7705 - val_loss: 2.1872 - val_metric_f1score: 0.7835 - learning_rate: 0.0010\n",
      "Epoch 29/200\n",
      "\u001b[1m1/8\u001b[0m \u001b[32m━━\u001b[0m\u001b[37m━━━━━━━━━━━━━━━━━━\u001b[0m \u001b[1m0s\u001b[0m 15ms/step - acc: 0.7188 - loss: 2.0758 - metric_f1score: 0.7458\n",
      "Epoch 29: val_acc improved from 0.78689 to 0.81967, saving model to models/multi_hand_gesture_classifier.h5\n"
     ]
    },
    {
     "name": "stderr",
     "output_type": "stream",
     "text": [
      "WARNING:absl:You are saving your model as an HDF5 file via `model.save()` or `keras.saving.save_model(model)`. This file format is considered legacy. We recommend using instead the native Keras format, e.g. `model.save('my_model.keras')` or `keras.saving.save_model(model, 'my_model.keras')`. \n"
     ]
    },
    {
     "name": "stdout",
     "output_type": "stream",
     "text": [
      "\u001b[1m8/8\u001b[0m \u001b[32m━━━━━━━━━━━━━━━━━━━━\u001b[0m\u001b[37m\u001b[0m \u001b[1m0s\u001b[0m 13ms/step - acc: 0.6798 - loss: 3.3476 - metric_f1score: 0.6949 - val_acc: 0.8197 - val_loss: 2.3480 - val_metric_f1score: 0.8244 - learning_rate: 0.0010\n",
      "Epoch 30/200\n",
      "\u001b[1m1/8\u001b[0m \u001b[32m━━\u001b[0m\u001b[37m━━━━━━━━━━━━━━━━━━\u001b[0m \u001b[1m0s\u001b[0m 17ms/step - acc: 0.6875 - loss: 2.8434 - metric_f1score: 0.6780\n",
      "Epoch 30: val_acc improved from 0.81967 to 0.83607, saving model to models/multi_hand_gesture_classifier.h5\n"
     ]
    },
    {
     "name": "stderr",
     "output_type": "stream",
     "text": [
      "WARNING:absl:You are saving your model as an HDF5 file via `model.save()` or `keras.saving.save_model(model)`. This file format is considered legacy. We recommend using instead the native Keras format, e.g. `model.save('my_model.keras')` or `keras.saving.save_model(model, 'my_model.keras')`. \n"
     ]
    },
    {
     "name": "stdout",
     "output_type": "stream",
     "text": [
      "\u001b[1m8/8\u001b[0m \u001b[32m━━━━━━━━━━━━━━━━━━━━\u001b[0m\u001b[37m\u001b[0m \u001b[1m0s\u001b[0m 23ms/step - acc: 0.6886 - loss: 3.3299 - metric_f1score: 0.6894 - val_acc: 0.8361 - val_loss: 2.4567 - val_metric_f1score: 0.8332 - learning_rate: 0.0010\n",
      "Epoch 31/200\n",
      "\u001b[1m1/8\u001b[0m \u001b[32m━━\u001b[0m\u001b[37m━━━━━━━━━━━━━━━━━━\u001b[0m \u001b[1m0s\u001b[0m 16ms/step - acc: 0.5000 - loss: 2.9097 - metric_f1score: 0.5246\n",
      "Epoch 31: val_acc improved from 0.83607 to 0.85246, saving model to models/multi_hand_gesture_classifier.h5\n"
     ]
    },
    {
     "name": "stderr",
     "output_type": "stream",
     "text": [
      "WARNING:absl:You are saving your model as an HDF5 file via `model.save()` or `keras.saving.save_model(model)`. This file format is considered legacy. We recommend using instead the native Keras format, e.g. `model.save('my_model.keras')` or `keras.saving.save_model(model, 'my_model.keras')`. \n"
     ]
    },
    {
     "name": "stdout",
     "output_type": "stream",
     "text": [
      "\u001b[1m8/8\u001b[0m \u001b[32m━━━━━━━━━━━━━━━━━━━━\u001b[0m\u001b[37m\u001b[0m \u001b[1m0s\u001b[0m 9ms/step - acc: 0.5533 - loss: 3.7259 - metric_f1score: 0.5734 - val_acc: 0.8525 - val_loss: 2.6158 - val_metric_f1score: 0.8468 - learning_rate: 0.0010\n",
      "Epoch 32/200\n",
      "\u001b[1m1/8\u001b[0m \u001b[32m━━\u001b[0m\u001b[37m━━━━━━━━━━━━━━━━━━\u001b[0m \u001b[1m0s\u001b[0m 19ms/step - acc: 0.6562 - loss: 3.0425 - metric_f1score: 0.6207\n",
      "Epoch 32: val_acc did not improve from 0.85246\n",
      "\u001b[1m8/8\u001b[0m \u001b[32m━━━━━━━━━━━━━━━━━━━━\u001b[0m\u001b[37m\u001b[0m \u001b[1m0s\u001b[0m 9ms/step - acc: 0.6407 - loss: 4.1144 - metric_f1score: 0.6409 - val_acc: 0.8197 - val_loss: 2.3676 - val_metric_f1score: 0.8081 - learning_rate: 0.0010\n",
      "Epoch 33/200\n",
      "\u001b[1m1/8\u001b[0m \u001b[32m━━\u001b[0m\u001b[37m━━━━━━━━━━━━━━━━━━\u001b[0m \u001b[1m0s\u001b[0m 15ms/step - acc: 0.7500 - loss: 2.1744 - metric_f1score: 0.6780\n",
      "Epoch 33: val_acc did not improve from 0.85246\n",
      "\u001b[1m8/8\u001b[0m \u001b[32m━━━━━━━━━━━━━━━━━━━━\u001b[0m\u001b[37m\u001b[0m \u001b[1m0s\u001b[0m 8ms/step - acc: 0.6798 - loss: 3.1830 - metric_f1score: 0.6667 - val_acc: 0.8525 - val_loss: 2.0251 - val_metric_f1score: 0.8504 - learning_rate: 0.0010\n",
      "Epoch 34/200\n",
      "\u001b[1m1/8\u001b[0m \u001b[32m━━\u001b[0m\u001b[37m━━━━━━━━━━━━━━━━━━\u001b[0m \u001b[1m0s\u001b[0m 16ms/step - acc: 0.6562 - loss: 2.3558 - metric_f1score: 0.6000\n",
      "Epoch 34: val_acc did not improve from 0.85246\n",
      "\u001b[1m8/8\u001b[0m \u001b[32m━━━━━━━━━━━━━━━━━━━━\u001b[0m\u001b[37m\u001b[0m \u001b[1m0s\u001b[0m 8ms/step - acc: 0.6460 - loss: 2.8935 - metric_f1score: 0.6383 - val_acc: 0.8033 - val_loss: 2.1037 - val_metric_f1score: 0.8098 - learning_rate: 0.0010\n",
      "Epoch 35/200\n",
      "\u001b[1m1/8\u001b[0m \u001b[32m━━\u001b[0m\u001b[37m━━━━━━━━━━━━━━━━━━\u001b[0m \u001b[1m0s\u001b[0m 14ms/step - acc: 0.5938 - loss: 2.4502 - metric_f1score: 0.6333\n",
      "Epoch 35: val_acc did not improve from 0.85246\n",
      "\u001b[1m8/8\u001b[0m \u001b[32m━━━━━━━━━━━━━━━━━━━━\u001b[0m\u001b[37m\u001b[0m \u001b[1m0s\u001b[0m 7ms/step - acc: 0.6438 - loss: 2.9471 - metric_f1score: 0.6515 - val_acc: 0.8033 - val_loss: 1.9996 - val_metric_f1score: 0.8042 - learning_rate: 0.0010\n",
      "Epoch 36/200\n",
      "\u001b[1m1/8\u001b[0m \u001b[32m━━\u001b[0m\u001b[37m━━━━━━━━━━━━━━━━━━\u001b[0m \u001b[1m0s\u001b[0m 12ms/step - acc: 0.5625 - loss: 2.4797 - metric_f1score: 0.4912\n",
      "Epoch 36: val_acc did not improve from 0.85246\n",
      "\u001b[1m8/8\u001b[0m \u001b[32m━━━━━━━━━━━━━━━━━━━━\u001b[0m\u001b[37m\u001b[0m \u001b[1m0s\u001b[0m 7ms/step - acc: 0.6126 - loss: 3.0871 - metric_f1score: 0.6140 - val_acc: 0.8197 - val_loss: 1.7390 - val_metric_f1score: 0.8702 - learning_rate: 0.0010\n",
      "Epoch 37/200\n",
      "\u001b[1m1/8\u001b[0m \u001b[32m━━\u001b[0m\u001b[37m━━━━━━━━━━━━━━━━━━\u001b[0m \u001b[1m0s\u001b[0m 13ms/step - acc: 0.6875 - loss: 4.2664 - metric_f1score: 0.6897\n",
      "Epoch 37: val_acc did not improve from 0.85246\n",
      "\u001b[1m8/8\u001b[0m \u001b[32m━━━━━━━━━━━━━━━━━━━━\u001b[0m\u001b[37m\u001b[0m \u001b[1m0s\u001b[0m 7ms/step - acc: 0.7271 - loss: 3.1269 - metric_f1score: 0.7276 - val_acc: 0.8361 - val_loss: 1.7313 - val_metric_f1score: 0.8473 - learning_rate: 0.0010\n",
      "Epoch 38/200\n",
      "\u001b[1m1/8\u001b[0m \u001b[32m━━\u001b[0m\u001b[37m━━━━━━━━━━━━━━━━━━\u001b[0m \u001b[1m0s\u001b[0m 13ms/step - acc: 0.6875 - loss: 3.5540 - metric_f1score: 0.6885\n",
      "Epoch 38: val_acc did not improve from 0.85246\n",
      "\u001b[1m8/8\u001b[0m \u001b[32m━━━━━━━━━━━━━━━━━━━━\u001b[0m\u001b[37m\u001b[0m \u001b[1m0s\u001b[0m 7ms/step - acc: 0.7132 - loss: 2.9535 - metric_f1score: 0.7232 - val_acc: 0.8525 - val_loss: 1.6700 - val_metric_f1score: 0.8658 - learning_rate: 0.0010\n",
      "Epoch 39/200\n",
      "\u001b[1m1/8\u001b[0m \u001b[32m━━\u001b[0m\u001b[37m━━━━━━━━━━━━━━━━━━\u001b[0m \u001b[1m0s\u001b[0m 13ms/step - acc: 0.6562 - loss: 2.2429 - metric_f1score: 0.6780\n",
      "Epoch 39: val_acc improved from 0.85246 to 0.88525, saving model to models/multi_hand_gesture_classifier.h5\n"
     ]
    },
    {
     "name": "stderr",
     "output_type": "stream",
     "text": [
      "WARNING:absl:You are saving your model as an HDF5 file via `model.save()` or `keras.saving.save_model(model)`. This file format is considered legacy. We recommend using instead the native Keras format, e.g. `model.save('my_model.keras')` or `keras.saving.save_model(model, 'my_model.keras')`. \n"
     ]
    },
    {
     "name": "stdout",
     "output_type": "stream",
     "text": [
      "\u001b[1m8/8\u001b[0m \u001b[32m━━━━━━━━━━━━━━━━━━━━\u001b[0m\u001b[37m\u001b[0m \u001b[1m0s\u001b[0m 9ms/step - acc: 0.6847 - loss: 2.9851 - metric_f1score: 0.6943 - val_acc: 0.8852 - val_loss: 1.5879 - val_metric_f1score: 0.8998 - learning_rate: 0.0010\n",
      "Epoch 40/200\n",
      "\u001b[1m1/8\u001b[0m \u001b[32m━━\u001b[0m\u001b[37m━━━━━━━━━━━━━━━━━━\u001b[0m \u001b[1m0s\u001b[0m 17ms/step - acc: 0.6562 - loss: 2.1143 - metric_f1score: 0.6441\n",
      "Epoch 40: val_acc did not improve from 0.88525\n",
      "\u001b[1m8/8\u001b[0m \u001b[32m━━━━━━━━━━━━━━━━━━━━\u001b[0m\u001b[37m\u001b[0m \u001b[1m0s\u001b[0m 8ms/step - acc: 0.7207 - loss: 2.3003 - metric_f1score: 0.7134 - val_acc: 0.8525 - val_loss: 1.6669 - val_metric_f1score: 0.8672 - learning_rate: 0.0010\n",
      "Epoch 41/200\n",
      "\u001b[1m1/8\u001b[0m \u001b[32m━━\u001b[0m\u001b[37m━━━━━━━━━━━━━━━━━━\u001b[0m \u001b[1m0s\u001b[0m 23ms/step - acc: 0.5938 - loss: 2.8185 - metric_f1score: 0.5862\n",
      "Epoch 41: val_acc did not improve from 0.88525\n",
      "\u001b[1m8/8\u001b[0m \u001b[32m━━━━━━━━━━━━━━━━━━━━\u001b[0m\u001b[37m\u001b[0m \u001b[1m0s\u001b[0m 8ms/step - acc: 0.6590 - loss: 3.0288 - metric_f1score: 0.6568 - val_acc: 0.8689 - val_loss: 1.6183 - val_metric_f1score: 0.8808 - learning_rate: 0.0010\n",
      "Epoch 42/200\n",
      "\u001b[1m1/8\u001b[0m \u001b[32m━━\u001b[0m\u001b[37m━━━━━━━━━━━━━━━━━━\u001b[0m \u001b[1m0s\u001b[0m 14ms/step - acc: 0.7500 - loss: 2.2426 - metric_f1score: 0.7419\n",
      "Epoch 42: val_acc improved from 0.88525 to 0.90164, saving model to models/multi_hand_gesture_classifier.h5\n"
     ]
    },
    {
     "name": "stderr",
     "output_type": "stream",
     "text": [
      "WARNING:absl:You are saving your model as an HDF5 file via `model.save()` or `keras.saving.save_model(model)`. This file format is considered legacy. We recommend using instead the native Keras format, e.g. `model.save('my_model.keras')` or `keras.saving.save_model(model, 'my_model.keras')`. \n"
     ]
    },
    {
     "name": "stdout",
     "output_type": "stream",
     "text": [
      "\u001b[1m8/8\u001b[0m \u001b[32m━━━━━━━━━━━━━━━━━━━━\u001b[0m\u001b[37m\u001b[0m \u001b[1m0s\u001b[0m 9ms/step - acc: 0.7235 - loss: 2.8955 - metric_f1score: 0.6997 - val_acc: 0.9016 - val_loss: 1.5174 - val_metric_f1score: 0.9174 - learning_rate: 0.0010\n",
      "Epoch 43/200\n",
      "\u001b[1m1/8\u001b[0m \u001b[32m━━\u001b[0m\u001b[37m━━━━━━━━━━━━━━━━━━\u001b[0m \u001b[1m0s\u001b[0m 14ms/step - acc: 0.7812 - loss: 1.8245 - metric_f1score: 0.7586\n",
      "Epoch 43: val_acc did not improve from 0.90164\n",
      "\u001b[1m8/8\u001b[0m \u001b[32m━━━━━━━━━━━━━━━━━━━━\u001b[0m\u001b[37m\u001b[0m \u001b[1m0s\u001b[0m 8ms/step - acc: 0.7131 - loss: 2.6858 - metric_f1score: 0.7235 - val_acc: 0.8852 - val_loss: 1.4598 - val_metric_f1score: 0.9078 - learning_rate: 0.0010\n",
      "Epoch 44/200\n",
      "\u001b[1m1/8\u001b[0m \u001b[32m━━\u001b[0m\u001b[37m━━━━━━━━━━━━━━━━━━\u001b[0m \u001b[1m0s\u001b[0m 15ms/step - acc: 0.6250 - loss: 2.1265 - metric_f1score: 0.7018\n",
      "Epoch 44: val_acc did not improve from 0.90164\n",
      "\u001b[1m8/8\u001b[0m \u001b[32m━━━━━━━━━━━━━━━━━━━━\u001b[0m\u001b[37m\u001b[0m \u001b[1m0s\u001b[0m 8ms/step - acc: 0.7000 - loss: 2.5320 - metric_f1score: 0.7309 - val_acc: 0.8852 - val_loss: 1.4612 - val_metric_f1score: 0.9159 - learning_rate: 0.0010\n",
      "Epoch 45/200\n",
      "\u001b[1m1/8\u001b[0m \u001b[32m━━\u001b[0m\u001b[37m━━━━━━━━━━━━━━━━━━\u001b[0m \u001b[1m0s\u001b[0m 15ms/step - acc: 0.7188 - loss: 1.9919 - metric_f1score: 0.7119\n",
      "Epoch 45: val_acc did not improve from 0.90164\n",
      "\u001b[1m8/8\u001b[0m \u001b[32m━━━━━━━━━━━━━━━━━━━━\u001b[0m\u001b[37m\u001b[0m \u001b[1m0s\u001b[0m 8ms/step - acc: 0.7234 - loss: 2.5030 - metric_f1score: 0.7021 - val_acc: 0.8852 - val_loss: 1.4470 - val_metric_f1score: 0.9172 - learning_rate: 0.0010\n",
      "Epoch 46/200\n",
      "\u001b[1m1/8\u001b[0m \u001b[32m━━\u001b[0m\u001b[37m━━━━━━━━━━━━━━━━━━\u001b[0m \u001b[1m0s\u001b[0m 15ms/step - acc: 0.7188 - loss: 2.4829 - metric_f1score: 0.7333\n",
      "Epoch 46: val_acc did not improve from 0.90164\n",
      "\u001b[1m8/8\u001b[0m \u001b[32m━━━━━━━━━━━━━━━━━━━━\u001b[0m\u001b[37m\u001b[0m \u001b[1m0s\u001b[0m 8ms/step - acc: 0.7483 - loss: 2.3084 - metric_f1score: 0.7496 - val_acc: 0.8852 - val_loss: 1.4507 - val_metric_f1score: 0.9078 - learning_rate: 0.0010\n",
      "Epoch 47/200\n",
      "\u001b[1m1/8\u001b[0m \u001b[32m━━\u001b[0m\u001b[37m━━━━━━━━━━━━━━━━━━\u001b[0m \u001b[1m0s\u001b[0m 14ms/step - acc: 0.8125 - loss: 1.7487 - metric_f1score: 0.8475\n",
      "Epoch 47: val_acc did not improve from 0.90164\n",
      "\u001b[1m8/8\u001b[0m \u001b[32m━━━━━━━━━━━━━━━━━━━━\u001b[0m\u001b[37m\u001b[0m \u001b[1m0s\u001b[0m 8ms/step - acc: 0.7846 - loss: 1.9208 - metric_f1score: 0.8026 - val_acc: 0.9016 - val_loss: 1.4121 - val_metric_f1score: 0.9320 - learning_rate: 0.0010\n",
      "Epoch 48/200\n",
      "\u001b[1m1/8\u001b[0m \u001b[32m━━\u001b[0m\u001b[37m━━━━━━━━━━━━━━━━━━\u001b[0m \u001b[1m0s\u001b[0m 14ms/step - acc: 0.7812 - loss: 1.6397 - metric_f1score: 0.8000\n",
      "Epoch 48: val_acc did not improve from 0.90164\n",
      "\u001b[1m8/8\u001b[0m \u001b[32m━━━━━━━━━━━━━━━━━━━━\u001b[0m\u001b[37m\u001b[0m \u001b[1m0s\u001b[0m 7ms/step - acc: 0.7897 - loss: 2.1434 - metric_f1score: 0.7991 - val_acc: 0.8852 - val_loss: 1.3978 - val_metric_f1score: 0.9159 - learning_rate: 0.0010\n",
      "Epoch 49/200\n",
      "\u001b[1m1/8\u001b[0m \u001b[32m━━\u001b[0m\u001b[37m━━━━━━━━━━━━━━━━━━\u001b[0m \u001b[1m0s\u001b[0m 13ms/step - acc: 0.7500 - loss: 1.8497 - metric_f1score: 0.7869\n",
      "Epoch 49: val_acc did not improve from 0.90164\n",
      "\u001b[1m8/8\u001b[0m \u001b[32m━━━━━━━━━━━━━━━━━━━━\u001b[0m\u001b[37m\u001b[0m \u001b[1m0s\u001b[0m 8ms/step - acc: 0.7764 - loss: 1.9615 - metric_f1score: 0.7937 - val_acc: 0.8852 - val_loss: 1.3264 - val_metric_f1score: 0.9243 - learning_rate: 0.0010\n",
      "Epoch 50/200\n",
      "\u001b[1m1/8\u001b[0m \u001b[32m━━\u001b[0m\u001b[37m━━━━━━━━━━━━━━━━━━\u001b[0m \u001b[1m0s\u001b[0m 16ms/step - acc: 0.8750 - loss: 2.0856 - metric_f1score: 0.8387\n",
      "Epoch 50: val_acc did not improve from 0.90164\n",
      "\u001b[1m8/8\u001b[0m \u001b[32m━━━━━━━━━━━━━━━━━━━━\u001b[0m\u001b[37m\u001b[0m \u001b[1m0s\u001b[0m 8ms/step - acc: 0.8462 - loss: 1.9617 - metric_f1score: 0.8171 - val_acc: 0.8852 - val_loss: 1.3473 - val_metric_f1score: 0.9087 - learning_rate: 0.0010\n",
      "Epoch 51/200\n",
      "\u001b[1m1/8\u001b[0m \u001b[32m━━\u001b[0m\u001b[37m━━━━━━━━━━━━━━━━━━\u001b[0m \u001b[1m0s\u001b[0m 14ms/step - acc: 0.8125 - loss: 1.9993 - metric_f1score: 0.7869\n",
      "Epoch 51: val_acc did not improve from 0.90164\n",
      "\u001b[1m8/8\u001b[0m \u001b[32m━━━━━━━━━━━━━━━━━━━━\u001b[0m\u001b[37m\u001b[0m \u001b[1m0s\u001b[0m 8ms/step - acc: 0.8184 - loss: 2.0402 - metric_f1score: 0.8166 - val_acc: 0.8852 - val_loss: 1.3360 - val_metric_f1score: 0.9006 - learning_rate: 0.0010\n",
      "Epoch 52/200\n",
      "\u001b[1m1/8\u001b[0m \u001b[32m━━\u001b[0m\u001b[37m━━━━━━━━━━━━━━━━━━\u001b[0m \u001b[1m0s\u001b[0m 15ms/step - acc: 0.7188 - loss: 1.8073 - metric_f1score: 0.7797\n",
      "Epoch 52: val_acc did not improve from 0.90164\n",
      "\u001b[1m8/8\u001b[0m \u001b[32m━━━━━━━━━━━━━━━━━━━━\u001b[0m\u001b[37m\u001b[0m \u001b[1m0s\u001b[0m 8ms/step - acc: 0.7812 - loss: 1.8849 - metric_f1score: 0.8018 - val_acc: 0.8852 - val_loss: 1.3339 - val_metric_f1score: 0.9006 - learning_rate: 0.0010\n",
      "Epoch 53/200\n",
      "\u001b[1m1/8\u001b[0m \u001b[32m━━\u001b[0m\u001b[37m━━━━━━━━━━━━━━━━━━\u001b[0m \u001b[1m0s\u001b[0m 15ms/step - acc: 0.8438 - loss: 1.7604 - metric_f1score: 0.7869\n",
      "Epoch 53: val_acc did not improve from 0.90164\n",
      "\u001b[1m8/8\u001b[0m \u001b[32m━━━━━━━━━━━━━━━━━━━━\u001b[0m\u001b[37m\u001b[0m \u001b[1m0s\u001b[0m 9ms/step - acc: 0.8659 - loss: 1.8379 - metric_f1score: 0.8499 - val_acc: 0.8852 - val_loss: 1.3243 - val_metric_f1score: 0.9078 - learning_rate: 0.0010\n",
      "Epoch 54/200\n",
      "\u001b[1m1/8\u001b[0m \u001b[32m━━\u001b[0m\u001b[37m━━━━━━━━━━━━━━━━━━\u001b[0m \u001b[1m0s\u001b[0m 13ms/step - acc: 0.8438 - loss: 1.4996 - metric_f1score: 0.8814\n",
      "Epoch 54: val_acc improved from 0.90164 to 0.91803, saving model to models/multi_hand_gesture_classifier.h5\n"
     ]
    },
    {
     "name": "stderr",
     "output_type": "stream",
     "text": [
      "WARNING:absl:You are saving your model as an HDF5 file via `model.save()` or `keras.saving.save_model(model)`. This file format is considered legacy. We recommend using instead the native Keras format, e.g. `model.save('my_model.keras')` or `keras.saving.save_model(model, 'my_model.keras')`. \n"
     ]
    },
    {
     "name": "stdout",
     "output_type": "stream",
     "text": [
      "\u001b[1m8/8\u001b[0m \u001b[32m━━━━━━━━━━━━━━━━━━━━\u001b[0m\u001b[37m\u001b[0m \u001b[1m0s\u001b[0m 8ms/step - acc: 0.8419 - loss: 1.6651 - metric_f1score: 0.8503 - val_acc: 0.9180 - val_loss: 1.3151 - val_metric_f1score: 0.9152 - learning_rate: 0.0010\n",
      "Epoch 55/200\n",
      "\u001b[1m1/8\u001b[0m \u001b[32m━━\u001b[0m\u001b[37m━━━━━━━━━━━━━━━━━━\u001b[0m \u001b[1m0s\u001b[0m 14ms/step - acc: 0.7500 - loss: 1.9264 - metric_f1score: 0.7541\n",
      "Epoch 55: val_acc did not improve from 0.91803\n",
      "\u001b[1m8/8\u001b[0m \u001b[32m━━━━━━━━━━━━━━━━━━━━\u001b[0m\u001b[37m\u001b[0m \u001b[1m0s\u001b[0m 7ms/step - acc: 0.8196 - loss: 1.7115 - metric_f1score: 0.8224 - val_acc: 0.9016 - val_loss: 1.2750 - val_metric_f1score: 0.9152 - learning_rate: 0.0010\n",
      "Epoch 56/200\n",
      "\u001b[1m1/8\u001b[0m \u001b[32m━━\u001b[0m\u001b[37m━━━━━━━━━━━━━━━━━━\u001b[0m \u001b[1m0s\u001b[0m 12ms/step - acc: 0.8438 - loss: 1.2887 - metric_f1score: 0.8571\n",
      "Epoch 56: val_acc did not improve from 0.91803\n",
      "\u001b[1m8/8\u001b[0m \u001b[32m━━━━━━━━━━━━━━━━━━━━\u001b[0m\u001b[37m\u001b[0m \u001b[1m0s\u001b[0m 8ms/step - acc: 0.8221 - loss: 1.6151 - metric_f1score: 0.8287 - val_acc: 0.9016 - val_loss: 1.2647 - val_metric_f1score: 0.9243 - learning_rate: 0.0010\n",
      "Epoch 57/200\n",
      "\u001b[1m1/8\u001b[0m \u001b[32m━━\u001b[0m\u001b[37m━━━━━━━━━━━━━━━━━━\u001b[0m \u001b[1m0s\u001b[0m 13ms/step - acc: 0.8125 - loss: 1.5601 - metric_f1score: 0.8621\n",
      "Epoch 57: val_acc did not improve from 0.91803\n",
      "\u001b[1m8/8\u001b[0m \u001b[32m━━━━━━━━━━━━━━━━━━━━\u001b[0m\u001b[37m\u001b[0m \u001b[1m0s\u001b[0m 7ms/step - acc: 0.7989 - loss: 1.9514 - metric_f1score: 0.8113 - val_acc: 0.9016 - val_loss: 1.2377 - val_metric_f1score: 0.9159 - learning_rate: 0.0010\n",
      "Epoch 58/200\n",
      "\u001b[1m8/8\u001b[0m \u001b[32m━━━━━━━━━━━━━━━━━━━━\u001b[0m\u001b[37m\u001b[0m \u001b[1m0s\u001b[0m 15ms/step - acc: 0.8146 - loss: 1.8551 - metric_f1score: 0.8238\n",
      "Epoch 58: val_acc improved from 0.91803 to 0.93443, saving model to models/multi_hand_gesture_classifier.h5\n"
     ]
    },
    {
     "name": "stderr",
     "output_type": "stream",
     "text": [
      "WARNING:absl:You are saving your model as an HDF5 file via `model.save()` or `keras.saving.save_model(model)`. This file format is considered legacy. We recommend using instead the native Keras format, e.g. `model.save('my_model.keras')` or `keras.saving.save_model(model, 'my_model.keras')`. \n"
     ]
    },
    {
     "name": "stdout",
     "output_type": "stream",
     "text": [
      "\u001b[1m8/8\u001b[0m \u001b[32m━━━━━━━━━━━━━━━━━━━━\u001b[0m\u001b[37m\u001b[0m \u001b[1m0s\u001b[0m 21ms/step - acc: 0.8136 - loss: 1.8752 - metric_f1score: 0.8233 - val_acc: 0.9344 - val_loss: 1.2354 - val_metric_f1score: 0.9245 - learning_rate: 0.0010\n",
      "Epoch 59/200\n",
      "\u001b[1m1/8\u001b[0m \u001b[32m━━\u001b[0m\u001b[37m━━━━━━━━━━━━━━━━━━\u001b[0m \u001b[1m0s\u001b[0m 16ms/step - acc: 0.8438 - loss: 1.5067 - metric_f1score: 0.8276\n",
      "Epoch 59: val_acc did not improve from 0.93443\n",
      "\u001b[1m8/8\u001b[0m \u001b[32m━━━━━━━━━━━━━━━━━━━━\u001b[0m\u001b[37m\u001b[0m \u001b[1m0s\u001b[0m 8ms/step - acc: 0.8498 - loss: 1.6180 - metric_f1score: 0.8533 - val_acc: 0.9180 - val_loss: 1.2204 - val_metric_f1score: 0.9171 - learning_rate: 0.0010\n",
      "Epoch 60/200\n",
      "\u001b[1m1/8\u001b[0m \u001b[32m━━\u001b[0m\u001b[37m━━━━━━━━━━━━━━━━━━\u001b[0m \u001b[1m0s\u001b[0m 14ms/step - acc: 0.8750 - loss: 1.4768 - metric_f1score: 0.8525\n",
      "Epoch 60: val_acc did not improve from 0.93443\n",
      "\u001b[1m8/8\u001b[0m \u001b[32m━━━━━━━━━━━━━━━━━━━━\u001b[0m\u001b[37m\u001b[0m \u001b[1m0s\u001b[0m 8ms/step - acc: 0.8231 - loss: 1.7258 - metric_f1score: 0.8269 - val_acc: 0.9016 - val_loss: 1.1948 - val_metric_f1score: 0.9412 - learning_rate: 0.0010\n",
      "Epoch 61/200\n",
      "\u001b[1m1/8\u001b[0m \u001b[32m━━\u001b[0m\u001b[37m━━━━━━━━━━━━━━━━━━\u001b[0m \u001b[1m0s\u001b[0m 14ms/step - acc: 0.7500 - loss: 1.4041 - metric_f1score: 0.8070\n",
      "Epoch 61: val_acc did not improve from 0.93443\n",
      "\u001b[1m8/8\u001b[0m \u001b[32m━━━━━━━━━━━━━━━━━━━━\u001b[0m\u001b[37m\u001b[0m \u001b[1m0s\u001b[0m 8ms/step - acc: 0.7839 - loss: 1.6052 - metric_f1score: 0.8084 - val_acc: 0.9344 - val_loss: 1.1852 - val_metric_f1score: 0.9583 - learning_rate: 0.0010\n",
      "Epoch 62/200\n",
      "\u001b[1m1/8\u001b[0m \u001b[32m━━\u001b[0m\u001b[37m━━━━━━━━━━━━━━━━━━\u001b[0m \u001b[1m0s\u001b[0m 13ms/step - acc: 0.7500 - loss: 1.6658 - metric_f1score: 0.7869\n",
      "Epoch 62: val_acc did not improve from 0.93443\n",
      "\u001b[1m8/8\u001b[0m \u001b[32m━━━━━━━━━━━━━━━━━━━━\u001b[0m\u001b[37m\u001b[0m \u001b[1m0s\u001b[0m 7ms/step - acc: 0.7832 - loss: 1.7895 - metric_f1score: 0.8166 - val_acc: 0.9344 - val_loss: 1.1845 - val_metric_f1score: 0.9583 - learning_rate: 0.0010\n",
      "Epoch 63/200\n",
      "\u001b[1m1/8\u001b[0m \u001b[32m━━\u001b[0m\u001b[37m━━━━━━━━━━━━━━━━━━\u001b[0m \u001b[1m0s\u001b[0m 13ms/step - acc: 0.7812 - loss: 1.5847 - metric_f1score: 0.8276\n",
      "Epoch 63: val_acc improved from 0.93443 to 0.95082, saving model to models/multi_hand_gesture_classifier.h5\n"
     ]
    },
    {
     "name": "stderr",
     "output_type": "stream",
     "text": [
      "WARNING:absl:You are saving your model as an HDF5 file via `model.save()` or `keras.saving.save_model(model)`. This file format is considered legacy. We recommend using instead the native Keras format, e.g. `model.save('my_model.keras')` or `keras.saving.save_model(model, 'my_model.keras')`. \n"
     ]
    },
    {
     "name": "stdout",
     "output_type": "stream",
     "text": [
      "\u001b[1m8/8\u001b[0m \u001b[32m━━━━━━━━━━━━━━━━━━━━\u001b[0m\u001b[37m\u001b[0m \u001b[1m0s\u001b[0m 9ms/step - acc: 0.8400 - loss: 1.4617 - metric_f1score: 0.8650 - val_acc: 0.9508 - val_loss: 1.1801 - val_metric_f1score: 0.9499 - learning_rate: 0.0010\n",
      "Epoch 64/200\n",
      "\u001b[1m1/8\u001b[0m \u001b[32m━━\u001b[0m\u001b[37m━━━━━━━━━━━━━━━━━━\u001b[0m \u001b[1m0s\u001b[0m 24ms/step - acc: 0.8750 - loss: 1.4515 - metric_f1score: 0.8889\n",
      "Epoch 64: val_acc did not improve from 0.95082\n",
      "\u001b[1m8/8\u001b[0m \u001b[32m━━━━━━━━━━━━━━━━━━━━\u001b[0m\u001b[37m\u001b[0m \u001b[1m0s\u001b[0m 8ms/step - acc: 0.8437 - loss: 1.5995 - metric_f1score: 0.8570 - val_acc: 0.9508 - val_loss: 1.1756 - val_metric_f1score: 0.9499 - learning_rate: 0.0010\n",
      "Epoch 65/200\n",
      "\u001b[1m1/8\u001b[0m \u001b[32m━━\u001b[0m\u001b[37m━━━━━━━━━━━━━━━━━━\u001b[0m \u001b[1m0s\u001b[0m 17ms/step - acc: 0.9062 - loss: 1.4192 - metric_f1score: 0.8889\n",
      "Epoch 65: val_acc did not improve from 0.95082\n",
      "\u001b[1m8/8\u001b[0m \u001b[32m━━━━━━━━━━━━━━━━━━━━\u001b[0m\u001b[37m\u001b[0m \u001b[1m0s\u001b[0m 8ms/step - acc: 0.9074 - loss: 1.5378 - metric_f1score: 0.9044 - val_acc: 0.9344 - val_loss: 1.2053 - val_metric_f1score: 0.9583 - learning_rate: 0.0010\n",
      "Epoch 66/200\n",
      "\u001b[1m1/8\u001b[0m \u001b[32m━━\u001b[0m\u001b[37m━━━━━━━━━━━━━━━━━━\u001b[0m \u001b[1m0s\u001b[0m 13ms/step - acc: 0.9375 - loss: 1.2799 - metric_f1score: 0.9180\n",
      "Epoch 66: val_acc did not improve from 0.95082\n",
      "\u001b[1m8/8\u001b[0m \u001b[32m━━━━━━━━━━━━━━━━━━━━\u001b[0m\u001b[37m\u001b[0m \u001b[1m0s\u001b[0m 7ms/step - acc: 0.9106 - loss: 1.4875 - metric_f1score: 0.8975 - val_acc: 0.9344 - val_loss: 1.2243 - val_metric_f1score: 0.9576 - learning_rate: 0.0010\n",
      "Epoch 67/200\n",
      "\u001b[1m1/8\u001b[0m \u001b[32m━━\u001b[0m\u001b[37m━━━━━━━━━━━━━━━━━━\u001b[0m \u001b[1m0s\u001b[0m 13ms/step - acc: 0.8438 - loss: 1.4527 - metric_f1score: 0.8475\n",
      "Epoch 67: val_acc did not improve from 0.95082\n",
      "\u001b[1m8/8\u001b[0m \u001b[32m━━━━━━━━━━━━━━━━━━━━\u001b[0m\u001b[37m\u001b[0m \u001b[1m0s\u001b[0m 7ms/step - acc: 0.8836 - loss: 1.4058 - metric_f1score: 0.8897 - val_acc: 0.9344 - val_loss: 1.2260 - val_metric_f1score: 0.9576 - learning_rate: 0.0010\n",
      "Epoch 68/200\n",
      "\u001b[1m1/8\u001b[0m \u001b[32m━━\u001b[0m\u001b[37m━━━━━━━━━━━━━━━━━━\u001b[0m \u001b[1m0s\u001b[0m 13ms/step - acc: 0.9062 - loss: 1.3056 - metric_f1score: 0.9206\n",
      "Epoch 68: val_acc did not improve from 0.95082\n",
      "\u001b[1m8/8\u001b[0m \u001b[32m━━━━━━━━━━━━━━━━━━━━\u001b[0m\u001b[37m\u001b[0m \u001b[1m0s\u001b[0m 8ms/step - acc: 0.8735 - loss: 1.4687 - metric_f1score: 0.8869 - val_acc: 0.9344 - val_loss: 1.2199 - val_metric_f1score: 0.9499 - learning_rate: 0.0010\n",
      "Epoch 69/200\n",
      "\u001b[1m1/8\u001b[0m \u001b[32m━━\u001b[0m\u001b[37m━━━━━━━━━━━━━━━━━━\u001b[0m \u001b[1m0s\u001b[0m 14ms/step - acc: 0.8438 - loss: 1.5275 - metric_f1score: 0.8667\n",
      "Epoch 69: val_acc did not improve from 0.95082\n",
      "\u001b[1m8/8\u001b[0m \u001b[32m━━━━━━━━━━━━━━━━━━━━\u001b[0m\u001b[37m\u001b[0m \u001b[1m0s\u001b[0m 8ms/step - acc: 0.8452 - loss: 1.4725 - metric_f1score: 0.8625 - val_acc: 0.9344 - val_loss: 1.1853 - val_metric_f1score: 0.9576 - learning_rate: 0.0010\n",
      "Epoch 70/200\n",
      "\u001b[1m1/8\u001b[0m \u001b[32m━━\u001b[0m\u001b[37m━━━━━━━━━━━━━━━━━━\u001b[0m \u001b[1m0s\u001b[0m 18ms/step - acc: 0.8750 - loss: 1.3096 - metric_f1score: 0.9000\n",
      "Epoch 70: val_acc did not improve from 0.95082\n",
      "\u001b[1m8/8\u001b[0m \u001b[32m━━━━━━━━━━━━━━━━━━━━\u001b[0m\u001b[37m\u001b[0m \u001b[1m0s\u001b[0m 8ms/step - acc: 0.8917 - loss: 1.3750 - metric_f1score: 0.9093 - val_acc: 0.9344 - val_loss: 1.1791 - val_metric_f1score: 0.9576 - learning_rate: 0.0010\n",
      "Epoch 71/200\n",
      "\u001b[1m1/8\u001b[0m \u001b[32m━━\u001b[0m\u001b[37m━━━━━━━━━━━━━━━━━━\u001b[0m \u001b[1m0s\u001b[0m 13ms/step - acc: 0.8750 - loss: 1.3696 - metric_f1score: 0.8852\n",
      "Epoch 71: val_acc did not improve from 0.95082\n",
      "\u001b[1m8/8\u001b[0m \u001b[32m━━━━━━━━━━━━━━━━━━━━\u001b[0m\u001b[37m\u001b[0m \u001b[1m0s\u001b[0m 8ms/step - acc: 0.8930 - loss: 1.3997 - metric_f1score: 0.8873 - val_acc: 0.9344 - val_loss: 1.1619 - val_metric_f1score: 0.9576 - learning_rate: 0.0010\n",
      "Epoch 72/200\n",
      "\u001b[1m1/8\u001b[0m \u001b[32m━━\u001b[0m\u001b[37m━━━━━━━━━━━━━━━━━━\u001b[0m \u001b[1m0s\u001b[0m 14ms/step - acc: 0.8125 - loss: 1.5550 - metric_f1score: 0.8276\n",
      "Epoch 72: val_acc did not improve from 0.95082\n",
      "\u001b[1m8/8\u001b[0m \u001b[32m━━━━━━━━━━━━━━━━━━━━\u001b[0m\u001b[37m\u001b[0m \u001b[1m0s\u001b[0m 8ms/step - acc: 0.8641 - loss: 1.5434 - metric_f1score: 0.8646 - val_acc: 0.9344 - val_loss: 1.1451 - val_metric_f1score: 0.9583 - learning_rate: 0.0010\n",
      "Epoch 73/200\n",
      "\u001b[1m1/8\u001b[0m \u001b[32m━━\u001b[0m\u001b[37m━━━━━━━━━━━━━━━━━━\u001b[0m \u001b[1m0s\u001b[0m 13ms/step - acc: 0.8750 - loss: 1.5267 - metric_f1score: 0.8852\n",
      "Epoch 73: val_acc did not improve from 0.95082\n",
      "\u001b[1m8/8\u001b[0m \u001b[32m━━━━━━━━━━━━━━━━━━━━\u001b[0m\u001b[37m\u001b[0m \u001b[1m0s\u001b[0m 7ms/step - acc: 0.8709 - loss: 1.4749 - metric_f1score: 0.8701 - val_acc: 0.9344 - val_loss: 1.1323 - val_metric_f1score: 0.9499 - learning_rate: 0.0010\n",
      "Epoch 74/200\n",
      "\u001b[1m1/8\u001b[0m \u001b[32m━━\u001b[0m\u001b[37m━━━━━━━━━━━━━━━━━━\u001b[0m \u001b[1m0s\u001b[0m 13ms/step - acc: 0.8438 - loss: 1.3277 - metric_f1score: 0.9000\n",
      "Epoch 74: val_acc did not improve from 0.95082\n",
      "\u001b[1m8/8\u001b[0m \u001b[32m━━━━━━━━━━━━━━━━━━━━\u001b[0m\u001b[37m\u001b[0m \u001b[1m0s\u001b[0m 7ms/step - acc: 0.8905 - loss: 1.4125 - metric_f1score: 0.8983 - val_acc: 0.9344 - val_loss: 1.1234 - val_metric_f1score: 0.9576 - learning_rate: 0.0010\n",
      "Epoch 75/200\n",
      "\u001b[1m1/8\u001b[0m \u001b[32m━━\u001b[0m\u001b[37m━━━━━━━━━━━━━━━━━━\u001b[0m \u001b[1m0s\u001b[0m 13ms/step - acc: 0.7500 - loss: 2.0948 - metric_f1score: 0.7500\n",
      "Epoch 75: val_acc did not improve from 0.95082\n",
      "\u001b[1m8/8\u001b[0m \u001b[32m━━━━━━━━━━━━━━━━━━━━\u001b[0m\u001b[37m\u001b[0m \u001b[1m0s\u001b[0m 7ms/step - acc: 0.8420 - loss: 1.6700 - metric_f1score: 0.8423 - val_acc: 0.9508 - val_loss: 1.0790 - val_metric_f1score: 0.9660 - learning_rate: 0.0010\n",
      "Epoch 76/200\n",
      "\u001b[1m1/8\u001b[0m \u001b[32m━━\u001b[0m\u001b[37m━━━━━━━━━━━━━━━━━━\u001b[0m \u001b[1m0s\u001b[0m 12ms/step - acc: 0.8750 - loss: 1.5112 - metric_f1score: 0.8333\n",
      "Epoch 76: val_acc did not improve from 0.95082\n",
      "\u001b[1m8/8\u001b[0m \u001b[32m━━━━━━━━━━━━━━━━━━━━\u001b[0m\u001b[37m\u001b[0m \u001b[1m0s\u001b[0m 8ms/step - acc: 0.8829 - loss: 1.5174 - metric_f1score: 0.8702 - val_acc: 0.9344 - val_loss: 1.1239 - val_metric_f1score: 0.9499 - learning_rate: 0.0010\n",
      "Epoch 77/200\n",
      "\u001b[1m1/8\u001b[0m \u001b[32m━━\u001b[0m\u001b[37m━━━━━━━━━━━━━━━━━━\u001b[0m \u001b[1m0s\u001b[0m 12ms/step - acc: 0.7812 - loss: 1.4097 - metric_f1score: 0.8475\n",
      "Epoch 77: val_acc did not improve from 0.95082\n",
      "\u001b[1m8/8\u001b[0m \u001b[32m━━━━━━━━━━━━━━━━━━━━\u001b[0m\u001b[37m\u001b[0m \u001b[1m0s\u001b[0m 7ms/step - acc: 0.8257 - loss: 1.5194 - metric_f1score: 0.8510 - val_acc: 0.9180 - val_loss: 1.1476 - val_metric_f1score: 0.9405 - learning_rate: 0.0010\n",
      "Epoch 78/200\n",
      "\u001b[1m1/8\u001b[0m \u001b[32m━━\u001b[0m\u001b[37m━━━━━━━━━━━━━━━━━━\u001b[0m \u001b[1m0s\u001b[0m 13ms/step - acc: 0.9375 - loss: 1.1740 - metric_f1score: 0.9206\n",
      "Epoch 78: val_acc did not improve from 0.95082\n",
      "\u001b[1m8/8\u001b[0m \u001b[32m━━━━━━━━━━━━━━━━━━━━\u001b[0m\u001b[37m\u001b[0m \u001b[1m0s\u001b[0m 7ms/step - acc: 0.8867 - loss: 1.4365 - metric_f1score: 0.8830 - val_acc: 0.9016 - val_loss: 1.1611 - val_metric_f1score: 0.9405 - learning_rate: 0.0010\n",
      "Epoch 79/200\n",
      "\u001b[1m1/8\u001b[0m \u001b[32m━━\u001b[0m\u001b[37m━━━━━━━━━━━━━━━━━━\u001b[0m \u001b[1m0s\u001b[0m 12ms/step - acc: 0.7188 - loss: 1.6961 - metric_f1score: 0.7667\n",
      "Epoch 79: val_acc did not improve from 0.95082\n",
      "\u001b[1m8/8\u001b[0m \u001b[32m━━━━━━━━━━━━━━━━━━━━\u001b[0m\u001b[37m\u001b[0m \u001b[1m0s\u001b[0m 7ms/step - acc: 0.8427 - loss: 1.5603 - metric_f1score: 0.8542 - val_acc: 0.9180 - val_loss: 1.1829 - val_metric_f1score: 0.9320 - learning_rate: 0.0010\n",
      "Epoch 80/200\n",
      "\u001b[1m1/8\u001b[0m \u001b[32m━━\u001b[0m\u001b[37m━━━━━━━━━━━━━━━━━━\u001b[0m \u001b[1m0s\u001b[0m 13ms/step - acc: 0.8125 - loss: 1.4687 - metric_f1score: 0.8333\n",
      "Epoch 80: val_acc did not improve from 0.95082\n",
      "\u001b[1m8/8\u001b[0m \u001b[32m━━━━━━━━━━━━━━━━━━━━\u001b[0m\u001b[37m\u001b[0m \u001b[1m0s\u001b[0m 8ms/step - acc: 0.8520 - loss: 1.4255 - metric_f1score: 0.8742 - val_acc: 0.9344 - val_loss: 1.1617 - val_metric_f1score: 0.9481 - learning_rate: 0.0010\n",
      "Epoch 81/200\n",
      "\u001b[1m1/8\u001b[0m \u001b[32m━━\u001b[0m\u001b[37m━━━━━━━━━━━━━━━━━━\u001b[0m \u001b[1m0s\u001b[0m 14ms/step - acc: 0.9688 - loss: 1.1242 - metric_f1score: 0.9677\n",
      "Epoch 81: val_acc did not improve from 0.95082\n",
      "\u001b[1m8/8\u001b[0m \u001b[32m━━━━━━━━━━━━━━━━━━━━\u001b[0m\u001b[37m\u001b[0m \u001b[1m0s\u001b[0m 8ms/step - acc: 0.9038 - loss: 1.3040 - metric_f1score: 0.9028 - val_acc: 0.9344 - val_loss: 1.1516 - val_metric_f1score: 0.9481 - learning_rate: 0.0010\n",
      "Epoch 82/200\n",
      "\u001b[1m1/8\u001b[0m \u001b[32m━━\u001b[0m\u001b[37m━━━━━━━━━━━━━━━━━━\u001b[0m \u001b[1m0s\u001b[0m 14ms/step - acc: 0.9062 - loss: 1.3645 - metric_f1score: 0.8852\n",
      "Epoch 82: val_acc did not improve from 0.95082\n",
      "\u001b[1m8/8\u001b[0m \u001b[32m━━━━━━━━━━━━━━━━━━━━\u001b[0m\u001b[37m\u001b[0m \u001b[1m0s\u001b[0m 9ms/step - acc: 0.8966 - loss: 1.4394 - metric_f1score: 0.8925 - val_acc: 0.9344 - val_loss: 1.1358 - val_metric_f1score: 0.9576 - learning_rate: 0.0010\n",
      "Epoch 83/200\n",
      "\u001b[1m1/8\u001b[0m \u001b[32m━━\u001b[0m\u001b[37m━━━━━━━━━━━━━━━━━━\u001b[0m \u001b[1m0s\u001b[0m 15ms/step - acc: 0.8750 - loss: 1.3989 - metric_f1score: 0.8525\n",
      "Epoch 83: val_acc did not improve from 0.95082\n",
      "\u001b[1m8/8\u001b[0m \u001b[32m━━━━━━━━━━━━━━━━━━━━\u001b[0m\u001b[37m\u001b[0m \u001b[1m0s\u001b[0m 8ms/step - acc: 0.8900 - loss: 1.3433 - metric_f1score: 0.8937 - val_acc: 0.9344 - val_loss: 1.1171 - val_metric_f1score: 0.9499 - learning_rate: 0.0010\n",
      "Epoch 84/200\n",
      "\u001b[1m1/8\u001b[0m \u001b[32m━━\u001b[0m\u001b[37m━━━━━━━━━━━━━━━━━━\u001b[0m \u001b[1m0s\u001b[0m 15ms/step - acc: 0.8438 - loss: 1.2725 - metric_f1score: 0.8571\n",
      "Epoch 84: val_acc did not improve from 0.95082\n",
      "\u001b[1m8/8\u001b[0m \u001b[32m━━━━━━━━━━━━━━━━━━━━\u001b[0m\u001b[37m\u001b[0m \u001b[1m0s\u001b[0m 8ms/step - acc: 0.8691 - loss: 1.2658 - metric_f1score: 0.8848 - val_acc: 0.9344 - val_loss: 1.1003 - val_metric_f1score: 0.9590 - learning_rate: 0.0010\n",
      "Epoch 85/200\n",
      "\u001b[1m1/8\u001b[0m \u001b[32m━━\u001b[0m\u001b[37m━━━━━━━━━━━━━━━━━━\u001b[0m \u001b[1m0s\u001b[0m 14ms/step - acc: 0.8750 - loss: 1.2576 - metric_f1score: 0.8667\n",
      "Epoch 85: val_acc did not improve from 0.95082\n",
      "\u001b[1m8/8\u001b[0m \u001b[32m━━━━━━━━━━━━━━━━━━━━\u001b[0m\u001b[37m\u001b[0m \u001b[1m0s\u001b[0m 8ms/step - acc: 0.9007 - loss: 1.2687 - metric_f1score: 0.9002 - val_acc: 0.9344 - val_loss: 1.0905 - val_metric_f1score: 0.9590 - learning_rate: 0.0010\n",
      "Epoch 86/200\n",
      "\u001b[1m1/8\u001b[0m \u001b[32m━━\u001b[0m\u001b[37m━━━━━━━━━━━━━━━━━━\u001b[0m \u001b[1m0s\u001b[0m 13ms/step - acc: 0.8750 - loss: 1.2675 - metric_f1score: 0.9032\n",
      "Epoch 86: val_acc did not improve from 0.95082\n",
      "\u001b[1m8/8\u001b[0m \u001b[32m━━━━━━━━━━━━━━━━━━━━\u001b[0m\u001b[37m\u001b[0m \u001b[1m0s\u001b[0m 7ms/step - acc: 0.8994 - loss: 1.2648 - metric_f1score: 0.9049 - val_acc: 0.9344 - val_loss: 1.0665 - val_metric_f1score: 0.9590 - learning_rate: 0.0010\n",
      "Epoch 87/200\n",
      "\u001b[1m1/8\u001b[0m \u001b[32m━━\u001b[0m\u001b[37m━━━━━━━━━━━━━━━━━━\u001b[0m \u001b[1m0s\u001b[0m 15ms/step - acc: 0.9062 - loss: 1.2199 - metric_f1score: 0.8667\n",
      "Epoch 87: val_acc did not improve from 0.95082\n",
      "\u001b[1m8/8\u001b[0m \u001b[32m━━━━━━━━━━━━━━━━━━━━\u001b[0m\u001b[37m\u001b[0m \u001b[1m0s\u001b[0m 7ms/step - acc: 0.9207 - loss: 1.2186 - metric_f1score: 0.9054 - val_acc: 0.9344 - val_loss: 1.0578 - val_metric_f1score: 0.9590 - learning_rate: 0.0010\n",
      "Epoch 88/200\n",
      "\u001b[1m1/8\u001b[0m \u001b[32m━━\u001b[0m\u001b[37m━━━━━━━━━━━━━━━━━━\u001b[0m \u001b[1m0s\u001b[0m 13ms/step - acc: 0.9688 - loss: 1.0865 - metric_f1score: 0.9677\n",
      "Epoch 88: val_acc did not improve from 0.95082\n",
      "\u001b[1m8/8\u001b[0m \u001b[32m━━━━━━━━━━━━━━━━━━━━\u001b[0m\u001b[37m\u001b[0m \u001b[1m0s\u001b[0m 7ms/step - acc: 0.9194 - loss: 1.2285 - metric_f1score: 0.9275 - val_acc: 0.9508 - val_loss: 1.0465 - val_metric_f1score: 0.9590 - learning_rate: 0.0010\n",
      "Epoch 89/200\n",
      "\u001b[1m1/8\u001b[0m \u001b[32m━━\u001b[0m\u001b[37m━━━━━━━━━━━━━━━━━━\u001b[0m \u001b[1m0s\u001b[0m 13ms/step - acc: 0.9375 - loss: 1.0759 - metric_f1score: 0.9677\n",
      "Epoch 89: val_acc did not improve from 0.95082\n",
      "\u001b[1m8/8\u001b[0m \u001b[32m━━━━━━━━━━━━━━━━━━━━\u001b[0m\u001b[37m\u001b[0m \u001b[1m0s\u001b[0m 8ms/step - acc: 0.9226 - loss: 1.2531 - metric_f1score: 0.9362 - val_acc: 0.9508 - val_loss: 1.0273 - val_metric_f1score: 0.9674 - learning_rate: 0.0010\n",
      "Epoch 90/200\n",
      "\u001b[1m1/8\u001b[0m \u001b[32m━━\u001b[0m\u001b[37m━━━━━━━━━━━━━━━━━━\u001b[0m \u001b[1m0s\u001b[0m 14ms/step - acc: 0.8438 - loss: 1.1767 - metric_f1score: 0.8852\n",
      "Epoch 90: val_acc improved from 0.95082 to 0.96721, saving model to models/multi_hand_gesture_classifier.h5\n"
     ]
    },
    {
     "name": "stderr",
     "output_type": "stream",
     "text": [
      "WARNING:absl:You are saving your model as an HDF5 file via `model.save()` or `keras.saving.save_model(model)`. This file format is considered legacy. We recommend using instead the native Keras format, e.g. `model.save('my_model.keras')` or `keras.saving.save_model(model, 'my_model.keras')`. \n"
     ]
    },
    {
     "name": "stdout",
     "output_type": "stream",
     "text": [
      "\u001b[1m8/8\u001b[0m \u001b[32m━━━━━━━━━━━━━━━━━━━━\u001b[0m\u001b[37m\u001b[0m \u001b[1m0s\u001b[0m 9ms/step - acc: 0.8623 - loss: 1.3572 - metric_f1score: 0.8836 - val_acc: 0.9672 - val_loss: 1.0211 - val_metric_f1score: 0.9674 - learning_rate: 0.0010\n",
      "Epoch 91/200\n",
      "\u001b[1m1/8\u001b[0m \u001b[32m━━\u001b[0m\u001b[37m━━━━━━━━━━━━━━━━━━\u001b[0m \u001b[1m0s\u001b[0m 100ms/step - acc: 0.9375 - loss: 1.0565 - metric_f1score: 0.9677\n",
      "Epoch 91: val_acc did not improve from 0.96721\n",
      "\u001b[1m8/8\u001b[0m \u001b[32m━━━━━━━━━━━━━━━━━━━━\u001b[0m\u001b[37m\u001b[0m \u001b[1m0s\u001b[0m 9ms/step - acc: 0.9012 - loss: 1.2448 - metric_f1score: 0.9179 - val_acc: 0.9672 - val_loss: 1.0219 - val_metric_f1score: 0.9600 - learning_rate: 0.0010\n",
      "Epoch 92/200\n",
      "\u001b[1m1/8\u001b[0m \u001b[32m━━\u001b[0m\u001b[37m━━━━━━━━━━━━━━━━━━\u001b[0m \u001b[1m0s\u001b[0m 15ms/step - acc: 0.9688 - loss: 1.2144 - metric_f1score: 0.9180\n",
      "Epoch 92: val_acc did not improve from 0.96721\n",
      "\u001b[1m8/8\u001b[0m \u001b[32m━━━━━━━━━━━━━━━━━━━━\u001b[0m\u001b[37m\u001b[0m \u001b[1m0s\u001b[0m 7ms/step - acc: 0.9193 - loss: 1.3095 - metric_f1score: 0.9126 - val_acc: 0.9672 - val_loss: 1.0204 - val_metric_f1score: 0.9600 - learning_rate: 0.0010\n",
      "Epoch 93/200\n",
      "\u001b[1m1/8\u001b[0m \u001b[32m━━\u001b[0m\u001b[37m━━━━━━━━━━━━━━━━━━\u001b[0m \u001b[1m0s\u001b[0m 15ms/step - acc: 0.8438 - loss: 1.2162 - metric_f1score: 0.8852\n",
      "Epoch 93: val_acc did not improve from 0.96721\n",
      "\u001b[1m8/8\u001b[0m \u001b[32m━━━━━━━━━━━━━━━━━━━━\u001b[0m\u001b[37m\u001b[0m \u001b[1m0s\u001b[0m 8ms/step - acc: 0.8949 - loss: 1.2499 - metric_f1score: 0.9074 - val_acc: 0.9508 - val_loss: 1.0262 - val_metric_f1score: 0.9674 - learning_rate: 0.0010\n",
      "Epoch 94/200\n",
      "\u001b[1m1/8\u001b[0m \u001b[32m━━\u001b[0m\u001b[37m━━━━━━━━━━━━━━━━━━\u001b[0m \u001b[1m0s\u001b[0m 15ms/step - acc: 0.9688 - loss: 1.0614 - metric_f1score: 0.9677\n",
      "Epoch 94: val_acc did not improve from 0.96721\n",
      "\u001b[1m8/8\u001b[0m \u001b[32m━━━━━━━━━━━━━━━━━━━━\u001b[0m\u001b[37m\u001b[0m \u001b[1m0s\u001b[0m 9ms/step - acc: 0.9397 - loss: 1.1218 - metric_f1score: 0.9479 - val_acc: 0.9508 - val_loss: 1.0229 - val_metric_f1score: 0.9589 - learning_rate: 0.0010\n",
      "Epoch 95/200\n",
      "\u001b[1m1/8\u001b[0m \u001b[32m━━\u001b[0m\u001b[37m━━━━━━━━━━━━━━━━━━\u001b[0m \u001b[1m0s\u001b[0m 13ms/step - acc: 0.9062 - loss: 1.2291 - metric_f1score: 0.8814\n",
      "Epoch 95: val_acc did not improve from 0.96721\n",
      "\u001b[1m8/8\u001b[0m \u001b[32m━━━━━━━━━━━━━━━━━━━━\u001b[0m\u001b[37m\u001b[0m \u001b[1m0s\u001b[0m 8ms/step - acc: 0.9266 - loss: 1.2436 - metric_f1score: 0.9152 - val_acc: 0.9508 - val_loss: 1.0234 - val_metric_f1score: 0.9515 - learning_rate: 0.0010\n",
      "Epoch 96/200\n",
      "\u001b[1m1/8\u001b[0m \u001b[32m━━\u001b[0m\u001b[37m━━━━━━━━━━━━━━━━━━\u001b[0m \u001b[1m0s\u001b[0m 14ms/step - acc: 0.9062 - loss: 1.0911 - metric_f1score: 0.9062\n",
      "Epoch 96: val_acc did not improve from 0.96721\n",
      "\u001b[1m8/8\u001b[0m \u001b[32m━━━━━━━━━━━━━━━━━━━━\u001b[0m\u001b[37m\u001b[0m \u001b[1m0s\u001b[0m 8ms/step - acc: 0.9160 - loss: 1.1703 - metric_f1score: 0.9148 - val_acc: 0.9508 - val_loss: 1.0205 - val_metric_f1score: 0.9515 - learning_rate: 0.0010\n",
      "Epoch 97/200\n",
      "\u001b[1m1/8\u001b[0m \u001b[32m━━\u001b[0m\u001b[37m━━━━━━━━━━━━━━━━━━\u001b[0m \u001b[1m0s\u001b[0m 13ms/step - acc: 1.0000 - loss: 0.9593 - metric_f1score: 1.0000\n",
      "Epoch 97: val_acc did not improve from 0.96721\n",
      "\u001b[1m8/8\u001b[0m \u001b[32m━━━━━━━━━━━━━━━━━━━━\u001b[0m\u001b[37m\u001b[0m \u001b[1m0s\u001b[0m 9ms/step - acc: 0.9495 - loss: 1.1312 - metric_f1score: 0.9635 - val_acc: 0.9508 - val_loss: 1.0152 - val_metric_f1score: 0.9515 - learning_rate: 0.0010\n",
      "Epoch 98/200\n",
      "\u001b[1m1/8\u001b[0m \u001b[32m━━\u001b[0m\u001b[37m━━━━━━━━━━━━━━━━━━\u001b[0m \u001b[1m0s\u001b[0m 14ms/step - acc: 0.9062 - loss: 1.1283 - metric_f1score: 0.8852\n",
      "Epoch 98: val_acc did not improve from 0.96721\n",
      "\u001b[1m8/8\u001b[0m \u001b[32m━━━━━━━━━━━━━━━━━━━━\u001b[0m\u001b[37m\u001b[0m \u001b[1m0s\u001b[0m 7ms/step - acc: 0.9160 - loss: 1.1401 - metric_f1score: 0.9060 - val_acc: 0.9508 - val_loss: 1.0064 - val_metric_f1score: 0.9515 - learning_rate: 0.0010\n",
      "Epoch 99/200\n",
      "\u001b[1m1/8\u001b[0m \u001b[32m━━\u001b[0m\u001b[37m━━━━━━━━━━━━━━━━━━\u001b[0m \u001b[1m0s\u001b[0m 13ms/step - acc: 0.9688 - loss: 1.0702 - metric_f1score: 0.9355\n",
      "Epoch 99: val_acc did not improve from 0.96721\n",
      "\u001b[1m8/8\u001b[0m \u001b[32m━━━━━━━━━━━━━━━━━━━━\u001b[0m\u001b[37m\u001b[0m \u001b[1m0s\u001b[0m 8ms/step - acc: 0.9367 - loss: 1.1007 - metric_f1score: 0.9299 - val_acc: 0.9508 - val_loss: 1.0007 - val_metric_f1score: 0.9515 - learning_rate: 0.0010\n",
      "Epoch 100/200\n",
      "\u001b[1m1/8\u001b[0m \u001b[32m━━\u001b[0m\u001b[37m━━━━━━━━━━━━━━━━━━\u001b[0m \u001b[1m0s\u001b[0m 15ms/step - acc: 1.0000 - loss: 0.9719 - metric_f1score: 0.9677\n",
      "Epoch 100: val_acc did not improve from 0.96721\n",
      "\u001b[1m8/8\u001b[0m \u001b[32m━━━━━━━━━━━━━━━━━━━━\u001b[0m\u001b[37m\u001b[0m \u001b[1m0s\u001b[0m 8ms/step - acc: 0.9459 - loss: 1.0523 - metric_f1score: 0.9389 - val_acc: 0.9672 - val_loss: 0.9889 - val_metric_f1score: 0.9688 - learning_rate: 0.0010\n",
      "Epoch 101/200\n",
      "\u001b[1m1/8\u001b[0m \u001b[32m━━\u001b[0m\u001b[37m━━━━━━━━━━━━━━━━━━\u001b[0m \u001b[1m0s\u001b[0m 14ms/step - acc: 0.9688 - loss: 1.0075 - metric_f1score: 0.9841\n",
      "Epoch 101: val_acc did not improve from 0.96721\n",
      "\u001b[1m8/8\u001b[0m \u001b[32m━━━━━━━━━━━━━━━━━━━━\u001b[0m\u001b[37m\u001b[0m \u001b[1m0s\u001b[0m 8ms/step - acc: 0.9447 - loss: 1.1259 - metric_f1score: 0.9523 - val_acc: 0.9672 - val_loss: 0.9885 - val_metric_f1score: 0.9688 - learning_rate: 0.0010\n",
      "Epoch 102/200\n",
      "\u001b[1m1/8\u001b[0m \u001b[32m━━\u001b[0m\u001b[37m━━━━━━━━━━━━━━━━━━\u001b[0m \u001b[1m0s\u001b[0m 14ms/step - acc: 0.9688 - loss: 1.0253 - metric_f1score: 0.9524\n",
      "Epoch 102: val_acc did not improve from 0.96721\n",
      "\u001b[1m8/8\u001b[0m \u001b[32m━━━━━━━━━━━━━━━━━━━━\u001b[0m\u001b[37m\u001b[0m \u001b[1m0s\u001b[0m 8ms/step - acc: 0.9399 - loss: 1.2309 - metric_f1score: 0.9383 - val_acc: 0.9672 - val_loss: 0.9843 - val_metric_f1score: 0.9688 - learning_rate: 0.0010\n",
      "Epoch 103/200\n",
      "\u001b[1m1/8\u001b[0m \u001b[32m━━\u001b[0m\u001b[37m━━━━━━━━━━━━━━━━━━\u001b[0m \u001b[1m0s\u001b[0m 14ms/step - acc: 0.8750 - loss: 1.4559 - metric_f1score: 0.8710\n",
      "Epoch 103: val_acc did not improve from 0.96721\n",
      "\u001b[1m8/8\u001b[0m \u001b[32m━━━━━━━━━━━━━━━━━━━━\u001b[0m\u001b[37m\u001b[0m \u001b[1m0s\u001b[0m 8ms/step - acc: 0.9050 - loss: 1.2248 - metric_f1score: 0.9075 - val_acc: 0.9672 - val_loss: 0.9814 - val_metric_f1score: 0.9688 - learning_rate: 0.0010\n",
      "Epoch 104/200\n",
      "\u001b[1m1/8\u001b[0m \u001b[32m━━\u001b[0m\u001b[37m━━━━━━━━━━━━━━━━━━\u001b[0m \u001b[1m0s\u001b[0m 14ms/step - acc: 0.9688 - loss: 0.9933 - metric_f1score: 0.9524\n",
      "Epoch 104: val_acc did not improve from 0.96721\n",
      "\u001b[1m8/8\u001b[0m \u001b[32m━━━━━━━━━━━━━━━━━━━━\u001b[0m\u001b[37m\u001b[0m \u001b[1m0s\u001b[0m 8ms/step - acc: 0.9469 - loss: 1.1303 - metric_f1score: 0.9357 - val_acc: 0.9672 - val_loss: 0.9811 - val_metric_f1score: 0.9762 - learning_rate: 0.0010\n",
      "Epoch 105/200\n",
      "\u001b[1m1/8\u001b[0m \u001b[32m━━\u001b[0m\u001b[37m━━━━━━━━━━━━━━━━━━\u001b[0m \u001b[1m0s\u001b[0m 13ms/step - acc: 1.0000 - loss: 0.9335 - metric_f1score: 1.0000\n",
      "Epoch 105: val_acc did not improve from 0.96721\n",
      "\u001b[1m8/8\u001b[0m \u001b[32m━━━━━━━━━━━━━━━━━━━━\u001b[0m\u001b[37m\u001b[0m \u001b[1m0s\u001b[0m 7ms/step - acc: 0.9224 - loss: 1.1660 - metric_f1score: 0.9233 - val_acc: 0.9672 - val_loss: 0.9466 - val_metric_f1score: 0.9762 - learning_rate: 0.0010\n",
      "Epoch 106/200\n",
      "\u001b[1m1/8\u001b[0m \u001b[32m━━\u001b[0m\u001b[37m━━━━━━━━━━━━━━━━━━\u001b[0m \u001b[1m0s\u001b[0m 15ms/step - acc: 0.8750 - loss: 1.1275 - metric_f1score: 0.9000\n",
      "Epoch 106: val_acc improved from 0.96721 to 0.98361, saving model to models/multi_hand_gesture_classifier.h5\n"
     ]
    },
    {
     "name": "stderr",
     "output_type": "stream",
     "text": [
      "WARNING:absl:You are saving your model as an HDF5 file via `model.save()` or `keras.saving.save_model(model)`. This file format is considered legacy. We recommend using instead the native Keras format, e.g. `model.save('my_model.keras')` or `keras.saving.save_model(model, 'my_model.keras')`. \n"
     ]
    },
    {
     "name": "stdout",
     "output_type": "stream",
     "text": [
      "\u001b[1m8/8\u001b[0m \u001b[32m━━━━━━━━━━━━━━━━━━━━\u001b[0m\u001b[37m\u001b[0m \u001b[1m0s\u001b[0m 10ms/step - acc: 0.9343 - loss: 1.0953 - metric_f1score: 0.9357 - val_acc: 0.9836 - val_loss: 0.9306 - val_metric_f1score: 0.9844 - learning_rate: 0.0010\n",
      "Epoch 107/200\n",
      "\u001b[1m1/8\u001b[0m \u001b[32m━━\u001b[0m\u001b[37m━━━━━━━━━━━━━━━━━━\u001b[0m \u001b[1m0s\u001b[0m 17ms/step - acc: 1.0000 - loss: 0.9782 - metric_f1score: 0.9841\n",
      "Epoch 107: val_acc did not improve from 0.98361\n",
      "\u001b[1m8/8\u001b[0m \u001b[32m━━━━━━━━━━━━━━━━━━━━\u001b[0m\u001b[37m\u001b[0m \u001b[1m0s\u001b[0m 8ms/step - acc: 0.9355 - loss: 1.2307 - metric_f1score: 0.9322 - val_acc: 0.9672 - val_loss: 0.9478 - val_metric_f1score: 0.9762 - learning_rate: 0.0010\n",
      "Epoch 108/200\n",
      "\u001b[1m1/8\u001b[0m \u001b[32m━━\u001b[0m\u001b[37m━━━━━━━━━━━━━━━━━━\u001b[0m \u001b[1m0s\u001b[0m 15ms/step - acc: 0.8438 - loss: 1.2569 - metric_f1score: 0.8254\n",
      "Epoch 108: val_acc did not improve from 0.98361\n",
      "\u001b[1m8/8\u001b[0m \u001b[32m━━━━━━━━━━━━━━━━━━━━\u001b[0m\u001b[37m\u001b[0m \u001b[1m0s\u001b[0m 8ms/step - acc: 0.9038 - loss: 1.1984 - metric_f1score: 0.9032 - val_acc: 0.9672 - val_loss: 0.9678 - val_metric_f1score: 0.9762 - learning_rate: 0.0010\n",
      "Epoch 109/200\n",
      "\u001b[1m1/8\u001b[0m \u001b[32m━━\u001b[0m\u001b[37m━━━━━━━━━━━━━━━━━━\u001b[0m \u001b[1m0s\u001b[0m 13ms/step - acc: 0.8750 - loss: 1.0764 - metric_f1score: 0.9000\n",
      "Epoch 109: val_acc did not improve from 0.98361\n",
      "\u001b[1m8/8\u001b[0m \u001b[32m━━━━━━━━━━━━━━━━━━━━\u001b[0m\u001b[37m\u001b[0m \u001b[1m0s\u001b[0m 7ms/step - acc: 0.9078 - loss: 1.0803 - metric_f1score: 0.9168 - val_acc: 0.9672 - val_loss: 0.9684 - val_metric_f1score: 0.9762 - learning_rate: 0.0010\n",
      "Epoch 110/200\n",
      "\u001b[1m1/8\u001b[0m \u001b[32m━━\u001b[0m\u001b[37m━━━━━━━━━━━━━━━━━━\u001b[0m \u001b[1m0s\u001b[0m 14ms/step - acc: 0.9062 - loss: 1.2741 - metric_f1score: 0.9062\n",
      "Epoch 110: val_acc did not improve from 0.98361\n",
      "\u001b[1m8/8\u001b[0m \u001b[32m━━━━━━━━━━━━━━━━━━━━\u001b[0m\u001b[37m\u001b[0m \u001b[1m0s\u001b[0m 8ms/step - acc: 0.9273 - loss: 1.1138 - metric_f1score: 0.9353 - val_acc: 0.9672 - val_loss: 0.9803 - val_metric_f1score: 0.9762 - learning_rate: 0.0010\n",
      "Epoch 111/200\n",
      "\u001b[1m1/8\u001b[0m \u001b[32m━━\u001b[0m\u001b[37m━━━━━━━━━━━━━━━━━━\u001b[0m \u001b[1m0s\u001b[0m 15ms/step - acc: 1.0000 - loss: 0.9347 - metric_f1score: 0.9841\n",
      "Epoch 111: val_acc did not improve from 0.98361\n",
      "\u001b[1m8/8\u001b[0m \u001b[32m━━━━━━━━━━━━━━━━━━━━\u001b[0m\u001b[37m\u001b[0m \u001b[1m0s\u001b[0m 7ms/step - acc: 0.9432 - loss: 1.1464 - metric_f1score: 0.9383 - val_acc: 0.9672 - val_loss: 0.9807 - val_metric_f1score: 0.9688 - learning_rate: 0.0010\n",
      "Epoch 112/200\n",
      "\u001b[1m1/8\u001b[0m \u001b[32m━━\u001b[0m\u001b[37m━━━━━━━━━━━━━━━━━━\u001b[0m \u001b[1m0s\u001b[0m 14ms/step - acc: 0.9375 - loss: 0.9615 - metric_f1score: 0.9524\n",
      "Epoch 112: val_acc did not improve from 0.98361\n",
      "\u001b[1m8/8\u001b[0m \u001b[32m━━━━━━━━━━━━━━━━━━━━\u001b[0m\u001b[37m\u001b[0m \u001b[1m0s\u001b[0m 8ms/step - acc: 0.9218 - loss: 1.1506 - metric_f1score: 0.9306 - val_acc: 0.9672 - val_loss: 0.9785 - val_metric_f1score: 0.9762 - learning_rate: 0.0010\n",
      "Epoch 113/200\n",
      "\u001b[1m1/8\u001b[0m \u001b[32m━━\u001b[0m\u001b[37m━━━━━━━━━━━━━━━━━━\u001b[0m \u001b[1m0s\u001b[0m 14ms/step - acc: 0.8750 - loss: 1.3774 - metric_f1score: 0.8525\n",
      "Epoch 113: val_acc did not improve from 0.98361\n",
      "\u001b[1m8/8\u001b[0m \u001b[32m━━━━━━━━━━━━━━━━━━━━\u001b[0m\u001b[37m\u001b[0m \u001b[1m0s\u001b[0m 8ms/step - acc: 0.9151 - loss: 1.1492 - metric_f1score: 0.9190 - val_acc: 0.9672 - val_loss: 0.9636 - val_metric_f1score: 0.9762 - learning_rate: 0.0010\n",
      "Epoch 114/200\n",
      "\u001b[1m1/8\u001b[0m \u001b[32m━━\u001b[0m\u001b[37m━━━━━━━━━━━━━━━━━━\u001b[0m \u001b[1m0s\u001b[0m 13ms/step - acc: 0.9062 - loss: 1.0465 - metric_f1score: 0.9508\n",
      "Epoch 114: val_acc did not improve from 0.98361\n",
      "\u001b[1m8/8\u001b[0m \u001b[32m━━━━━━━━━━━━━━━━━━━━\u001b[0m\u001b[37m\u001b[0m \u001b[1m0s\u001b[0m 8ms/step - acc: 0.9252 - loss: 1.0536 - metric_f1score: 0.9361 - val_acc: 0.9672 - val_loss: 0.9506 - val_metric_f1score: 0.9762 - learning_rate: 0.0010\n",
      "Epoch 115/200\n",
      "\u001b[1m1/8\u001b[0m \u001b[32m━━\u001b[0m\u001b[37m━━━━━━━━━━━━━━━━━━\u001b[0m \u001b[1m0s\u001b[0m 13ms/step - acc: 0.9688 - loss: 1.1521 - metric_f1score: 0.9688\n",
      "Epoch 115: val_acc did not improve from 0.98361\n",
      "\u001b[1m8/8\u001b[0m \u001b[32m━━━━━━━━━━━━━━━━━━━━\u001b[0m\u001b[37m\u001b[0m \u001b[1m0s\u001b[0m 7ms/step - acc: 0.9518 - loss: 1.0966 - metric_f1score: 0.9508 - val_acc: 0.9672 - val_loss: 0.9486 - val_metric_f1score: 0.9762 - learning_rate: 0.0010\n",
      "Epoch 116/200\n",
      "\u001b[1m1/8\u001b[0m \u001b[32m━━\u001b[0m\u001b[37m━━━━━━━━━━━━━━━━━━\u001b[0m \u001b[1m0s\u001b[0m 13ms/step - acc: 0.8750 - loss: 1.2883 - metric_f1score: 0.9000\n",
      "Epoch 116: val_acc did not improve from 0.98361\n",
      "\u001b[1m8/8\u001b[0m \u001b[32m━━━━━━━━━━━━━━━━━━━━\u001b[0m\u001b[37m\u001b[0m \u001b[1m0s\u001b[0m 8ms/step - acc: 0.8891 - loss: 1.2647 - metric_f1score: 0.9100 - val_acc: 0.9672 - val_loss: 0.9303 - val_metric_f1score: 0.9762 - learning_rate: 0.0010\n",
      "Epoch 117/200\n",
      "\u001b[1m1/8\u001b[0m \u001b[32m━━\u001b[0m\u001b[37m━━━━━━━━━━━━━━━━━━\u001b[0m \u001b[1m0s\u001b[0m 14ms/step - acc: 0.9062 - loss: 1.1176 - metric_f1score: 0.9508\n",
      "Epoch 117: val_acc did not improve from 0.98361\n",
      "\u001b[1m8/8\u001b[0m \u001b[32m━━━━━━━━━━━━━━━━━━━━\u001b[0m\u001b[37m\u001b[0m \u001b[1m0s\u001b[0m 9ms/step - acc: 0.9315 - loss: 1.0831 - metric_f1score: 0.9518 - val_acc: 0.9672 - val_loss: 0.9308 - val_metric_f1score: 0.9762 - learning_rate: 0.0010\n",
      "Epoch 118/200\n",
      "\u001b[1m1/8\u001b[0m \u001b[32m━━\u001b[0m\u001b[37m━━━━━━━━━━━━━━━━━━\u001b[0m \u001b[1m0s\u001b[0m 13ms/step - acc: 1.0000 - loss: 0.9166 - metric_f1score: 0.9841\n",
      "Epoch 118: val_acc did not improve from 0.98361\n",
      "\u001b[1m8/8\u001b[0m \u001b[32m━━━━━━━━━━━━━━━━━━━━\u001b[0m\u001b[37m\u001b[0m \u001b[1m0s\u001b[0m 8ms/step - acc: 0.9421 - loss: 1.0414 - metric_f1score: 0.9490 - val_acc: 0.9672 - val_loss: 0.9242 - val_metric_f1score: 0.9762 - learning_rate: 0.0010\n",
      "Epoch 119/200\n",
      "\u001b[1m1/8\u001b[0m \u001b[32m━━\u001b[0m\u001b[37m━━━━━━━━━━━━━━━━━━\u001b[0m \u001b[1m0s\u001b[0m 14ms/step - acc: 0.9688 - loss: 0.9232 - metric_f1score: 0.9841\n",
      "Epoch 119: val_acc did not improve from 0.98361\n",
      "\u001b[1m8/8\u001b[0m \u001b[32m━━━━━━━━━━━━━━━━━━━━\u001b[0m\u001b[37m\u001b[0m \u001b[1m0s\u001b[0m 8ms/step - acc: 0.9385 - loss: 1.0093 - metric_f1score: 0.9479 - val_acc: 0.9672 - val_loss: 0.9078 - val_metric_f1score: 0.9762 - learning_rate: 0.0010\n",
      "Epoch 120/200\n",
      "\u001b[1m1/8\u001b[0m \u001b[32m━━\u001b[0m\u001b[37m━━━━━━━━━━━━━━━━━━\u001b[0m \u001b[1m0s\u001b[0m 15ms/step - acc: 0.9688 - loss: 1.0350 - metric_f1score: 0.9180\n",
      "Epoch 120: val_acc did not improve from 0.98361\n",
      "\u001b[1m8/8\u001b[0m \u001b[32m━━━━━━━━━━━━━━━━━━━━\u001b[0m\u001b[37m\u001b[0m \u001b[1m0s\u001b[0m 8ms/step - acc: 0.9641 - loss: 1.0317 - metric_f1score: 0.9490 - val_acc: 0.9672 - val_loss: 0.9101 - val_metric_f1score: 0.9762 - learning_rate: 0.0010\n",
      "Epoch 121/200\n",
      "\u001b[1m1/8\u001b[0m \u001b[32m━━\u001b[0m\u001b[37m━━━━━━━━━━━━━━━━━━\u001b[0m \u001b[1m0s\u001b[0m 14ms/step - acc: 0.9688 - loss: 0.9827 - metric_f1score: 0.9524\n",
      "Epoch 121: val_acc did not improve from 0.98361\n",
      "\u001b[1m8/8\u001b[0m \u001b[32m━━━━━━━━━━━━━━━━━━━━\u001b[0m\u001b[37m\u001b[0m \u001b[1m0s\u001b[0m 8ms/step - acc: 0.9478 - loss: 1.1248 - metric_f1score: 0.9405 - val_acc: 0.9672 - val_loss: 0.9113 - val_metric_f1score: 0.9762 - learning_rate: 0.0010\n",
      "Epoch 122/200\n",
      "\u001b[1m1/8\u001b[0m \u001b[32m━━\u001b[0m\u001b[37m━━━━━━━━━━━━━━━━━━\u001b[0m \u001b[1m0s\u001b[0m 13ms/step - acc: 0.9062 - loss: 1.0537 - metric_f1score: 0.9355\n",
      "Epoch 122: val_acc did not improve from 0.98361\n",
      "\u001b[1m8/8\u001b[0m \u001b[32m━━━━━━━━━━━━━━━━━━━━\u001b[0m\u001b[37m\u001b[0m \u001b[1m0s\u001b[0m 8ms/step - acc: 0.9263 - loss: 1.0328 - metric_f1score: 0.9402 - val_acc: 0.9672 - val_loss: 0.9035 - val_metric_f1score: 0.9839 - learning_rate: 0.0010\n",
      "Epoch 123/200\n",
      "\u001b[1m1/8\u001b[0m \u001b[32m━━\u001b[0m\u001b[37m━━━━━━━━━━━━━━━━━━\u001b[0m \u001b[1m0s\u001b[0m 14ms/step - acc: 0.9375 - loss: 1.0435 - metric_f1score: 0.9355\n",
      "Epoch 123: val_acc did not improve from 0.98361\n",
      "\u001b[1m8/8\u001b[0m \u001b[32m━━━━━━━━━━━━━━━━━━━━\u001b[0m\u001b[37m\u001b[0m \u001b[1m0s\u001b[0m 8ms/step - acc: 0.9439 - loss: 1.0353 - metric_f1score: 0.9394 - val_acc: 0.9672 - val_loss: 0.8999 - val_metric_f1score: 0.9839 - learning_rate: 0.0010\n",
      "Epoch 124/200\n",
      "\u001b[1m1/8\u001b[0m \u001b[32m━━\u001b[0m\u001b[37m━━━━━━━━━━━━━━━━━━\u001b[0m \u001b[1m0s\u001b[0m 14ms/step - acc: 0.9375 - loss: 0.9314 - metric_f1score: 0.9524\n",
      "Epoch 124: val_acc did not improve from 0.98361\n",
      "\u001b[1m8/8\u001b[0m \u001b[32m━━━━━━━━━━━━━━━━━━━━\u001b[0m\u001b[37m\u001b[0m \u001b[1m0s\u001b[0m 8ms/step - acc: 0.9350 - loss: 0.9950 - metric_f1score: 0.9374 - val_acc: 0.9836 - val_loss: 0.9137 - val_metric_f1score: 0.9921 - learning_rate: 0.0010\n",
      "Epoch 125/200\n",
      "\u001b[1m1/8\u001b[0m \u001b[32m━━\u001b[0m\u001b[37m━━━━━━━━━━━━━━━━━━\u001b[0m \u001b[1m0s\u001b[0m 14ms/step - acc: 0.9688 - loss: 0.8985 - metric_f1score: 0.9688\n",
      "Epoch 125: val_acc did not improve from 0.98361\n",
      "\u001b[1m8/8\u001b[0m \u001b[32m━━━━━━━━━━━━━━━━━━━━\u001b[0m\u001b[37m\u001b[0m \u001b[1m0s\u001b[0m 7ms/step - acc: 0.9577 - loss: 0.9631 - metric_f1score: 0.9565 - val_acc: 0.9508 - val_loss: 0.9359 - val_metric_f1score: 0.9589 - learning_rate: 0.0010\n",
      "Epoch 126/200\n",
      "\u001b[1m1/8\u001b[0m \u001b[32m━━\u001b[0m\u001b[37m━━━━━━━━━━━━━━━━━━\u001b[0m \u001b[1m0s\u001b[0m 15ms/step - acc: 0.9688 - loss: 1.0182 - metric_f1score: 0.9153\n",
      "Epoch 126: val_acc did not improve from 0.98361\n",
      "\u001b[1m8/8\u001b[0m \u001b[32m━━━━━━━━━━━━━━━━━━━━\u001b[0m\u001b[37m\u001b[0m \u001b[1m0s\u001b[0m 9ms/step - acc: 0.9534 - loss: 0.9889 - metric_f1score: 0.9454 - val_acc: 0.9508 - val_loss: 0.9362 - val_metric_f1score: 0.9589 - learning_rate: 0.0010\n",
      "Epoch 127/200\n",
      "\u001b[1m1/8\u001b[0m \u001b[32m━━\u001b[0m\u001b[37m━━━━━━━━━━━━━━━━━━\u001b[0m \u001b[1m0s\u001b[0m 14ms/step - acc: 0.9062 - loss: 1.0873 - metric_f1score: 0.8889\n",
      "Epoch 127: val_acc did not improve from 0.98361\n",
      "\u001b[1m8/8\u001b[0m \u001b[32m━━━━━━━━━━━━━━━━━━━━\u001b[0m\u001b[37m\u001b[0m \u001b[1m0s\u001b[0m 8ms/step - acc: 0.9359 - loss: 1.1214 - metric_f1score: 0.9274 - val_acc: 0.9508 - val_loss: 0.9829 - val_metric_f1score: 0.9589 - learning_rate: 0.0010\n",
      "Epoch 128/200\n",
      "\u001b[1m5/8\u001b[0m \u001b[32m━━━━━━━━━━━━\u001b[0m\u001b[37m━━━━━━━━\u001b[0m \u001b[1m0s\u001b[0m 19ms/step - acc: 0.9683 - loss: 0.9036 - metric_f1score: 0.9736\n",
      "Epoch 128: val_acc did not improve from 0.98361\n",
      "\u001b[1m8/8\u001b[0m \u001b[32m━━━━━━━━━━━━━━━━━━━━\u001b[0m\u001b[37m\u001b[0m \u001b[1m0s\u001b[0m 21ms/step - acc: 0.9551 - loss: 0.9368 - metric_f1score: 0.9621 - val_acc: 0.9508 - val_loss: 1.0247 - val_metric_f1score: 0.9589 - learning_rate: 0.0010\n",
      "Epoch 129/200\n",
      "\u001b[1m1/8\u001b[0m \u001b[32m━━\u001b[0m\u001b[37m━━━━━━━━━━━━━━━━━━\u001b[0m \u001b[1m0s\u001b[0m 14ms/step - acc: 0.9688 - loss: 0.8772 - metric_f1score: 0.9688\n",
      "Epoch 129: val_acc did not improve from 0.98361\n",
      "\u001b[1m8/8\u001b[0m \u001b[32m━━━━━━━━━━━━━━━━━━━━\u001b[0m\u001b[37m\u001b[0m \u001b[1m0s\u001b[0m 8ms/step - acc: 0.9527 - loss: 0.9321 - metric_f1score: 0.9483 - val_acc: 0.9508 - val_loss: 0.9584 - val_metric_f1score: 0.9589 - learning_rate: 0.0010\n",
      "Epoch 130/200\n",
      "\u001b[1m1/8\u001b[0m \u001b[32m━━\u001b[0m\u001b[37m━━━━━━━━━━━━━━━━━━\u001b[0m \u001b[1m0s\u001b[0m 15ms/step - acc: 0.9688 - loss: 0.8766 - metric_f1score: 0.9841\n",
      "Epoch 130: val_acc did not improve from 0.98361\n",
      "\u001b[1m8/8\u001b[0m \u001b[32m━━━━━━━━━━━━━━━━━━━━\u001b[0m\u001b[37m\u001b[0m \u001b[1m0s\u001b[0m 8ms/step - acc: 0.9597 - loss: 0.9378 - metric_f1score: 0.9603 - val_acc: 0.9836 - val_loss: 0.8976 - val_metric_f1score: 0.9839 - learning_rate: 0.0010\n",
      "Epoch 131/200\n",
      "\u001b[1m1/8\u001b[0m \u001b[32m━━\u001b[0m\u001b[37m━━━━━━━━━━━━━━━━━━\u001b[0m \u001b[1m0s\u001b[0m 14ms/step - acc: 0.9688 - loss: 0.9056 - metric_f1score: 0.9688\n",
      "Epoch 131: val_acc did not improve from 0.98361\n",
      "\u001b[1m8/8\u001b[0m \u001b[32m━━━━━━━━━━━━━━━━━━━━\u001b[0m\u001b[37m\u001b[0m \u001b[1m0s\u001b[0m 8ms/step - acc: 0.9472 - loss: 0.9502 - metric_f1score: 0.9574 - val_acc: 0.9672 - val_loss: 0.8824 - val_metric_f1score: 0.9839 - learning_rate: 0.0010\n",
      "Epoch 132/200\n",
      "\u001b[1m1/8\u001b[0m \u001b[32m━━\u001b[0m\u001b[37m━━━━━━━━━━━━━━━━━━\u001b[0m \u001b[1m0s\u001b[0m 14ms/step - acc: 0.9688 - loss: 0.8971 - metric_f1score: 0.9688\n",
      "Epoch 132: val_acc did not improve from 0.98361\n",
      "\u001b[1m8/8\u001b[0m \u001b[32m━━━━━━━━━━━━━━━━━━━━\u001b[0m\u001b[37m\u001b[0m \u001b[1m0s\u001b[0m 8ms/step - acc: 0.9432 - loss: 0.9957 - metric_f1score: 0.9548 - val_acc: 0.9672 - val_loss: 0.8786 - val_metric_f1score: 0.9762 - learning_rate: 0.0010\n",
      "Epoch 133/200\n",
      "\u001b[1m1/8\u001b[0m \u001b[32m━━\u001b[0m\u001b[37m━━━━━━━━━━━━━━━━━━\u001b[0m \u001b[1m0s\u001b[0m 14ms/step - acc: 0.9688 - loss: 0.9010 - metric_f1score: 0.9677\n",
      "Epoch 133: val_acc did not improve from 0.98361\n",
      "\u001b[1m8/8\u001b[0m \u001b[32m━━━━━━━━━━━━━━━━━━━━\u001b[0m\u001b[37m\u001b[0m \u001b[1m0s\u001b[0m 8ms/step - acc: 0.9657 - loss: 0.9421 - metric_f1score: 0.9630 - val_acc: 0.9672 - val_loss: 0.8762 - val_metric_f1score: 0.9762 - learning_rate: 0.0010\n",
      "Epoch 134/200\n",
      "\u001b[1m1/8\u001b[0m \u001b[32m━━\u001b[0m\u001b[37m━━━━━━━━━━━━━━━━━━\u001b[0m \u001b[1m0s\u001b[0m 14ms/step - acc: 0.9688 - loss: 0.9145 - metric_f1score: 0.9524\n",
      "Epoch 134: val_acc did not improve from 0.98361\n",
      "\u001b[1m8/8\u001b[0m \u001b[32m━━━━━━━━━━━━━━━━━━━━\u001b[0m\u001b[37m\u001b[0m \u001b[1m0s\u001b[0m 8ms/step - acc: 0.9416 - loss: 0.9516 - metric_f1score: 0.9396 - val_acc: 0.9672 - val_loss: 0.8766 - val_metric_f1score: 0.9762 - learning_rate: 0.0010\n",
      "Epoch 135/200\n",
      "\u001b[1m1/8\u001b[0m \u001b[32m━━\u001b[0m\u001b[37m━━━━━━━━━━━━━━━━━━\u001b[0m \u001b[1m0s\u001b[0m 14ms/step - acc: 0.9062 - loss: 1.1640 - metric_f1score: 0.8889\n",
      "Epoch 135: val_acc did not improve from 0.98361\n",
      "\u001b[1m8/8\u001b[0m \u001b[32m━━━━━━━━━━━━━━━━━━━━\u001b[0m\u001b[37m\u001b[0m \u001b[1m0s\u001b[0m 8ms/step - acc: 0.9426 - loss: 1.1427 - metric_f1score: 0.9291 - val_acc: 0.9672 - val_loss: 0.8724 - val_metric_f1score: 0.9762 - learning_rate: 0.0010\n",
      "Epoch 136/200\n",
      "\u001b[1m1/8\u001b[0m \u001b[32m━━\u001b[0m\u001b[37m━━━━━━━━━━━━━━━━━━\u001b[0m \u001b[1m0s\u001b[0m 13ms/step - acc: 0.9688 - loss: 0.8795 - metric_f1score: 0.9524\n",
      "Epoch 136: val_acc did not improve from 0.98361\n",
      "\u001b[1m8/8\u001b[0m \u001b[32m━━━━━━━━━━━━━━━━━━━━\u001b[0m\u001b[37m\u001b[0m \u001b[1m0s\u001b[0m 8ms/step - acc: 0.9477 - loss: 1.0381 - metric_f1score: 0.9321 - val_acc: 0.9672 - val_loss: 0.8688 - val_metric_f1score: 0.9762 - learning_rate: 0.0010\n",
      "Epoch 137/200\n",
      "\u001b[1m1/8\u001b[0m \u001b[32m━━\u001b[0m\u001b[37m━━━━━━━━━━━━━━━━━━\u001b[0m \u001b[1m0s\u001b[0m 15ms/step - acc: 0.9375 - loss: 1.0491 - metric_f1score: 0.9206\n",
      "Epoch 137: val_acc did not improve from 0.98361\n",
      "\u001b[1m8/8\u001b[0m \u001b[32m━━━━━━━━━━━━━━━━━━━━\u001b[0m\u001b[37m\u001b[0m \u001b[1m0s\u001b[0m 8ms/step - acc: 0.9459 - loss: 0.9868 - metric_f1score: 0.9424 - val_acc: 0.9672 - val_loss: 0.8629 - val_metric_f1score: 0.9688 - learning_rate: 0.0010\n",
      "Epoch 138/200\n",
      "\u001b[1m1/8\u001b[0m \u001b[32m━━\u001b[0m\u001b[37m━━━━━━━━━━━━━━━━━━\u001b[0m \u001b[1m0s\u001b[0m 13ms/step - acc: 0.8750 - loss: 1.0098 - metric_f1score: 0.8852\n",
      "Epoch 138: val_acc did not improve from 0.98361\n",
      "\u001b[1m8/8\u001b[0m \u001b[32m━━━━━━━━━━━━━━━━━━━━\u001b[0m\u001b[37m\u001b[0m \u001b[1m0s\u001b[0m 8ms/step - acc: 0.9385 - loss: 0.9405 - metric_f1score: 0.9398 - val_acc: 0.9672 - val_loss: 0.8560 - val_metric_f1score: 0.9677 - learning_rate: 0.0010\n",
      "Epoch 139/200\n",
      "\u001b[1m1/8\u001b[0m \u001b[32m━━\u001b[0m\u001b[37m━━━━━━━━━━━━━━━━━━\u001b[0m \u001b[1m0s\u001b[0m 14ms/step - acc: 0.9375 - loss: 0.9768 - metric_f1score: 0.9032\n",
      "Epoch 139: val_acc did not improve from 0.98361\n",
      "\u001b[1m8/8\u001b[0m \u001b[32m━━━━━━━━━━━━━━━━━━━━\u001b[0m\u001b[37m\u001b[0m \u001b[1m0s\u001b[0m 8ms/step - acc: 0.9549 - loss: 0.9339 - metric_f1score: 0.9409 - val_acc: 0.9672 - val_loss: 0.8598 - val_metric_f1score: 0.9603 - learning_rate: 0.0010\n",
      "Epoch 140/200\n",
      "\u001b[1m1/8\u001b[0m \u001b[32m━━\u001b[0m\u001b[37m━━━━━━━━━━━━━━━━━━\u001b[0m \u001b[1m0s\u001b[0m 16ms/step - acc: 1.0000 - loss: 0.8454 - metric_f1score: 0.9841\n",
      "Epoch 140: val_acc did not improve from 0.98361\n",
      "\u001b[1m8/8\u001b[0m \u001b[32m━━━━━━━━━━━━━━━━━━━━\u001b[0m\u001b[37m\u001b[0m \u001b[1m0s\u001b[0m 8ms/step - acc: 0.9546 - loss: 0.9288 - metric_f1score: 0.9504 - val_acc: 0.9672 - val_loss: 0.8667 - val_metric_f1score: 0.9603 - learning_rate: 0.0010\n",
      "Epoch 141/200\n",
      "\u001b[1m1/8\u001b[0m \u001b[32m━━\u001b[0m\u001b[37m━━━━━━━━━━━━━━━━━━\u001b[0m \u001b[1m0s\u001b[0m 15ms/step - acc: 0.9688 - loss: 0.8959 - metric_f1score: 0.9841\n",
      "Epoch 141: val_acc did not improve from 0.98361\n",
      "\u001b[1m8/8\u001b[0m \u001b[32m━━━━━━━━━━━━━━━━━━━━\u001b[0m\u001b[37m\u001b[0m \u001b[1m0s\u001b[0m 8ms/step - acc: 0.9525 - loss: 0.9371 - metric_f1score: 0.9572 - val_acc: 0.9672 - val_loss: 0.8902 - val_metric_f1score: 0.9603 - learning_rate: 0.0010\n",
      "Epoch 142/200\n",
      "\u001b[1m1/8\u001b[0m \u001b[32m━━\u001b[0m\u001b[37m━━━━━━━━━━━━━━━━━━\u001b[0m \u001b[1m0s\u001b[0m 14ms/step - acc: 1.0000 - loss: 0.8064 - metric_f1score: 1.0000\n",
      "Epoch 142: val_acc did not improve from 0.98361\n",
      "\u001b[1m8/8\u001b[0m \u001b[32m━━━━━━━━━━━━━━━━━━━━\u001b[0m\u001b[37m\u001b[0m \u001b[1m0s\u001b[0m 8ms/step - acc: 0.9628 - loss: 0.8954 - metric_f1score: 0.9670 - val_acc: 0.9672 - val_loss: 0.8880 - val_metric_f1score: 0.9603 - learning_rate: 0.0010\n",
      "Epoch 143/200\n",
      "\u001b[1m1/8\u001b[0m \u001b[32m━━\u001b[0m\u001b[37m━━━━━━━━━━━━━━━━━━\u001b[0m \u001b[1m0s\u001b[0m 13ms/step - acc: 0.9062 - loss: 0.9876 - metric_f1score: 0.9032\n",
      "Epoch 143: val_acc did not improve from 0.98361\n",
      "\u001b[1m8/8\u001b[0m \u001b[32m━━━━━━━━━━━━━━━━━━━━\u001b[0m\u001b[37m\u001b[0m \u001b[1m0s\u001b[0m 8ms/step - acc: 0.9521 - loss: 0.9150 - metric_f1score: 0.9532 - val_acc: 0.9672 - val_loss: 0.8878 - val_metric_f1score: 0.9603 - learning_rate: 0.0010\n",
      "Epoch 144/200\n",
      "\u001b[1m1/8\u001b[0m \u001b[32m━━\u001b[0m\u001b[37m━━━━━━━━━━━━━━━━━━\u001b[0m \u001b[1m0s\u001b[0m 14ms/step - acc: 0.9688 - loss: 0.9726 - metric_f1score: 0.9524\n",
      "Epoch 144: val_acc did not improve from 0.98361\n",
      "\u001b[1m8/8\u001b[0m \u001b[32m━━━━━━━━━━━━━━━━━━━━\u001b[0m\u001b[37m\u001b[0m \u001b[1m0s\u001b[0m 8ms/step - acc: 0.9645 - loss: 0.9219 - metric_f1score: 0.9641 - val_acc: 0.9672 - val_loss: 0.8578 - val_metric_f1score: 0.9762 - learning_rate: 0.0010\n",
      "Epoch 145/200\n",
      "\u001b[1m1/8\u001b[0m \u001b[32m━━\u001b[0m\u001b[37m━━━━━━━━━━━━━━━━━━\u001b[0m \u001b[1m0s\u001b[0m 15ms/step - acc: 0.9688 - loss: 0.9110 - metric_f1score: 0.9355\n",
      "Epoch 145: val_acc did not improve from 0.98361\n",
      "\u001b[1m8/8\u001b[0m \u001b[32m━━━━━━━━━━━━━━━━━━━━\u001b[0m\u001b[37m\u001b[0m \u001b[1m0s\u001b[0m 8ms/step - acc: 0.9661 - loss: 0.8753 - metric_f1score: 0.9527 - val_acc: 0.9672 - val_loss: 0.8322 - val_metric_f1score: 0.9762 - learning_rate: 0.0010\n",
      "Epoch 146/200\n",
      "\u001b[1m1/8\u001b[0m \u001b[32m━━\u001b[0m\u001b[37m━━━━━━━━━━━━━━━━━━\u001b[0m \u001b[1m0s\u001b[0m 15ms/step - acc: 0.9688 - loss: 0.8803 - metric_f1score: 0.9524\n",
      "Epoch 146: val_acc did not improve from 0.98361\n",
      "\u001b[1m8/8\u001b[0m \u001b[32m━━━━━━━━━━━━━━━━━━━━\u001b[0m\u001b[37m\u001b[0m \u001b[1m0s\u001b[0m 8ms/step - acc: 0.9664 - loss: 0.9158 - metric_f1score: 0.9585 - val_acc: 0.9836 - val_loss: 0.8074 - val_metric_f1score: 0.9844 - learning_rate: 0.0010\n",
      "Epoch 147/200\n",
      "\u001b[1m1/8\u001b[0m \u001b[32m━━\u001b[0m\u001b[37m━━━━━━━━━━━━━━━━━━\u001b[0m \u001b[1m0s\u001b[0m 15ms/step - acc: 0.9375 - loss: 0.8531 - metric_f1score: 0.9375\n",
      "Epoch 147: val_acc did not improve from 0.98361\n",
      "\u001b[1m8/8\u001b[0m \u001b[32m━━━━━━━━━━━━━━━━━━━━\u001b[0m\u001b[37m\u001b[0m \u001b[1m0s\u001b[0m 8ms/step - acc: 0.9397 - loss: 0.9303 - metric_f1score: 0.9401 - val_acc: 0.9836 - val_loss: 0.8015 - val_metric_f1score: 0.9844 - learning_rate: 0.0010\n",
      "Epoch 148/200\n",
      "\u001b[1m1/8\u001b[0m \u001b[32m━━\u001b[0m\u001b[37m━━━━━━━━━━━━━━━━━━\u001b[0m \u001b[1m0s\u001b[0m 15ms/step - acc: 0.9688 - loss: 0.8507 - metric_f1score: 0.9841\n",
      "Epoch 148: val_acc did not improve from 0.98361\n",
      "\u001b[1m8/8\u001b[0m \u001b[32m━━━━━━━━━━━━━━━━━━━━\u001b[0m\u001b[37m\u001b[0m \u001b[1m0s\u001b[0m 8ms/step - acc: 0.9691 - loss: 0.8773 - metric_f1score: 0.9736 - val_acc: 0.9836 - val_loss: 0.7968 - val_metric_f1score: 0.9844 - learning_rate: 0.0010\n",
      "Epoch 149/200\n",
      "\u001b[1m1/8\u001b[0m \u001b[32m━━\u001b[0m\u001b[37m━━━━━━━━━━━━━━━━━━\u001b[0m \u001b[1m0s\u001b[0m 15ms/step - acc: 0.9062 - loss: 0.9386 - metric_f1score: 0.9180\n",
      "Epoch 149: val_acc did not improve from 0.98361\n",
      "\u001b[1m8/8\u001b[0m \u001b[32m━━━━━━━━━━━━━━━━━━━━\u001b[0m\u001b[37m\u001b[0m \u001b[1m0s\u001b[0m 8ms/step - acc: 0.9350 - loss: 1.0044 - metric_f1score: 0.9394 - val_acc: 0.9836 - val_loss: 0.7935 - val_metric_f1score: 0.9921 - learning_rate: 0.0010\n",
      "Epoch 150/200\n",
      "\u001b[1m1/8\u001b[0m \u001b[32m━━\u001b[0m\u001b[37m━━━━━━━━━━━━━━━━━━\u001b[0m \u001b[1m0s\u001b[0m 13ms/step - acc: 0.9688 - loss: 0.8680 - metric_f1score: 0.9524\n",
      "Epoch 150: val_acc improved from 0.98361 to 1.00000, saving model to models/multi_hand_gesture_classifier.h5\n"
     ]
    },
    {
     "name": "stderr",
     "output_type": "stream",
     "text": [
      "WARNING:absl:You are saving your model as an HDF5 file via `model.save()` or `keras.saving.save_model(model)`. This file format is considered legacy. We recommend using instead the native Keras format, e.g. `model.save('my_model.keras')` or `keras.saving.save_model(model, 'my_model.keras')`. \n"
     ]
    },
    {
     "name": "stdout",
     "output_type": "stream",
     "text": [
      "\u001b[1m8/8\u001b[0m \u001b[32m━━━━━━━━━━━━━━━━━━━━\u001b[0m\u001b[37m\u001b[0m \u001b[1m0s\u001b[0m 9ms/step - acc: 0.9566 - loss: 0.8827 - metric_f1score: 0.9590 - val_acc: 1.0000 - val_loss: 0.7870 - val_metric_f1score: 1.0000 - learning_rate: 0.0010\n",
      "Epoch 151/200\n",
      "\u001b[1m1/8\u001b[0m \u001b[32m━━\u001b[0m\u001b[37m━━━━━━━━━━━━━━━━━━\u001b[0m \u001b[1m0s\u001b[0m 14ms/step - acc: 0.9688 - loss: 0.8272 - metric_f1score: 0.9688\n",
      "Epoch 151: val_acc did not improve from 1.00000\n",
      "\u001b[1m8/8\u001b[0m \u001b[32m━━━━━━━━━━━━━━━━━━━━\u001b[0m\u001b[37m\u001b[0m \u001b[1m0s\u001b[0m 7ms/step - acc: 0.9605 - loss: 0.8715 - metric_f1score: 0.9603 - val_acc: 1.0000 - val_loss: 0.7834 - val_metric_f1score: 1.0000 - learning_rate: 0.0010\n",
      "Epoch 152/200\n",
      "\u001b[1m1/8\u001b[0m \u001b[32m━━\u001b[0m\u001b[37m━━━━━━━━━━━━━━━━━━\u001b[0m \u001b[1m0s\u001b[0m 14ms/step - acc: 0.9688 - loss: 0.8380 - metric_f1score: 0.9677\n",
      "Epoch 152: val_acc did not improve from 1.00000\n",
      "\u001b[1m8/8\u001b[0m \u001b[32m━━━━━━━━━━━━━━━━━━━━\u001b[0m\u001b[37m\u001b[0m \u001b[1m0s\u001b[0m 8ms/step - acc: 0.9380 - loss: 0.9309 - metric_f1score: 0.9383 - val_acc: 0.9836 - val_loss: 0.7834 - val_metric_f1score: 0.9921 - learning_rate: 0.0010\n",
      "Epoch 153/200\n",
      "\u001b[1m1/8\u001b[0m \u001b[32m━━\u001b[0m\u001b[37m━━━━━━━━━━━━━━━━━━\u001b[0m \u001b[1m0s\u001b[0m 14ms/step - acc: 1.0000 - loss: 0.7740 - metric_f1score: 1.0000\n",
      "Epoch 153: val_acc did not improve from 1.00000\n",
      "\u001b[1m8/8\u001b[0m \u001b[32m━━━━━━━━━━━━━━━━━━━━\u001b[0m\u001b[37m\u001b[0m \u001b[1m0s\u001b[0m 8ms/step - acc: 0.9809 - loss: 0.8781 - metric_f1score: 0.9810 - val_acc: 0.9836 - val_loss: 0.7855 - val_metric_f1score: 0.9844 - learning_rate: 0.0010\n",
      "Epoch 154/200\n",
      "\u001b[1m1/8\u001b[0m \u001b[32m━━\u001b[0m\u001b[37m━━━━━━━━━━━━━━━━━━\u001b[0m \u001b[1m0s\u001b[0m 14ms/step - acc: 1.0000 - loss: 0.7820 - metric_f1score: 1.0000\n",
      "Epoch 154: val_acc did not improve from 1.00000\n",
      "\u001b[1m8/8\u001b[0m \u001b[32m━━━━━━━━━━━━━━━━━━━━\u001b[0m\u001b[37m\u001b[0m \u001b[1m0s\u001b[0m 9ms/step - acc: 0.9604 - loss: 0.8787 - metric_f1score: 0.9684 - val_acc: 0.9836 - val_loss: 0.7872 - val_metric_f1score: 0.9844 - learning_rate: 0.0010\n",
      "Epoch 155/200\n",
      "\u001b[1m6/8\u001b[0m \u001b[32m━━━━━━━━━━━━━━━\u001b[0m\u001b[37m━━━━━\u001b[0m \u001b[1m0s\u001b[0m 21ms/step - acc: 0.9689 - loss: 0.9313 - metric_f1score: 0.9545\n",
      "Epoch 155: val_acc did not improve from 1.00000\n",
      "\u001b[1m8/8\u001b[0m \u001b[32m━━━━━━━━━━━━━━━━━━━━\u001b[0m\u001b[37m\u001b[0m \u001b[1m0s\u001b[0m 23ms/step - acc: 0.9680 - loss: 0.9244 - metric_f1score: 0.9564 - val_acc: 0.9836 - val_loss: 0.7861 - val_metric_f1score: 0.9844 - learning_rate: 0.0010\n",
      "Epoch 156/200\n",
      "\u001b[1m1/8\u001b[0m \u001b[32m━━\u001b[0m\u001b[37m━━━━━━━━━━━━━━━━━━\u001b[0m \u001b[1m0s\u001b[0m 14ms/step - acc: 1.0000 - loss: 0.7908 - metric_f1score: 1.0000\n",
      "Epoch 156: val_acc did not improve from 1.00000\n",
      "\u001b[1m8/8\u001b[0m \u001b[32m━━━━━━━━━━━━━━━━━━━━\u001b[0m\u001b[37m\u001b[0m \u001b[1m0s\u001b[0m 8ms/step - acc: 0.9763 - loss: 0.8714 - metric_f1score: 0.9665 - val_acc: 0.9836 - val_loss: 0.7759 - val_metric_f1score: 0.9844 - learning_rate: 0.0010\n",
      "Epoch 157/200\n",
      "\u001b[1m1/8\u001b[0m \u001b[32m━━\u001b[0m\u001b[37m━━━━━━━━━━━━━━━━━━\u001b[0m \u001b[1m0s\u001b[0m 13ms/step - acc: 0.9688 - loss: 0.8419 - metric_f1score: 0.9524\n",
      "Epoch 157: val_acc did not improve from 1.00000\n",
      "\u001b[1m8/8\u001b[0m \u001b[32m━━━━━━━━━━━━━━━━━━━━\u001b[0m\u001b[37m\u001b[0m \u001b[1m0s\u001b[0m 9ms/step - acc: 0.9699 - loss: 0.8611 - metric_f1score: 0.9659 - val_acc: 1.0000 - val_loss: 0.7696 - val_metric_f1score: 0.9921 - learning_rate: 0.0010\n",
      "Epoch 158/200\n",
      "\u001b[1m1/8\u001b[0m \u001b[32m━━\u001b[0m\u001b[37m━━━━━━━━━━━━━━━━━━\u001b[0m \u001b[1m0s\u001b[0m 15ms/step - acc: 0.9688 - loss: 0.9158 - metric_f1score: 0.9524\n",
      "Epoch 158: val_acc did not improve from 1.00000\n",
      "\u001b[1m8/8\u001b[0m \u001b[32m━━━━━━━━━━━━━━━━━━━━\u001b[0m\u001b[37m\u001b[0m \u001b[1m0s\u001b[0m 8ms/step - acc: 0.9685 - loss: 0.8715 - metric_f1score: 0.9629 - val_acc: 1.0000 - val_loss: 0.7669 - val_metric_f1score: 1.0000 - learning_rate: 0.0010\n",
      "Epoch 159/200\n",
      "\u001b[1m1/8\u001b[0m \u001b[32m━━\u001b[0m\u001b[37m━━━━━━━━━━━━━━━━━━\u001b[0m \u001b[1m0s\u001b[0m 15ms/step - acc: 1.0000 - loss: 0.7671 - metric_f1score: 1.0000\n",
      "Epoch 159: val_acc did not improve from 1.00000\n",
      "\u001b[1m8/8\u001b[0m \u001b[32m━━━━━━━━━━━━━━━━━━━━\u001b[0m\u001b[37m\u001b[0m \u001b[1m0s\u001b[0m 8ms/step - acc: 0.9728 - loss: 0.8323 - metric_f1score: 0.9730 - val_acc: 1.0000 - val_loss: 0.7638 - val_metric_f1score: 1.0000 - learning_rate: 0.0010\n",
      "Epoch 160/200\n",
      "\u001b[1m1/8\u001b[0m \u001b[32m━━\u001b[0m\u001b[37m━━━━━━━━━━━━━━━━━━\u001b[0m \u001b[1m0s\u001b[0m 14ms/step - acc: 1.0000 - loss: 0.7531 - metric_f1score: 1.0000\n",
      "Epoch 160: val_acc did not improve from 1.00000\n",
      "\u001b[1m8/8\u001b[0m \u001b[32m━━━━━━━━━━━━━━━━━━━━\u001b[0m\u001b[37m\u001b[0m \u001b[1m0s\u001b[0m 8ms/step - acc: 0.9712 - loss: 0.8739 - metric_f1score: 0.9681 - val_acc: 1.0000 - val_loss: 0.7603 - val_metric_f1score: 1.0000 - learning_rate: 0.0010\n",
      "Epoch 161/200\n",
      "\u001b[1m1/8\u001b[0m \u001b[32m━━\u001b[0m\u001b[37m━━━━━━━━━━━━━━━━━━\u001b[0m \u001b[1m0s\u001b[0m 13ms/step - acc: 1.0000 - loss: 0.7850 - metric_f1score: 1.0000\n",
      "Epoch 161: val_acc did not improve from 1.00000\n",
      "\u001b[1m8/8\u001b[0m \u001b[32m━━━━━━━━━━━━━━━━━━━━\u001b[0m\u001b[37m\u001b[0m \u001b[1m0s\u001b[0m 8ms/step - acc: 0.9799 - loss: 0.8178 - metric_f1score: 0.9811 - val_acc: 1.0000 - val_loss: 0.7674 - val_metric_f1score: 1.0000 - learning_rate: 0.0010\n",
      "Epoch 162/200\n",
      "\u001b[1m1/8\u001b[0m \u001b[32m━━\u001b[0m\u001b[37m━━━━━━━━━━━━━━━━━━\u001b[0m \u001b[1m0s\u001b[0m 14ms/step - acc: 0.9688 - loss: 0.9620 - metric_f1score: 0.9688\n",
      "Epoch 162: val_acc did not improve from 1.00000\n",
      "\u001b[1m8/8\u001b[0m \u001b[32m━━━━━━━━━━━━━━━━━━━━\u001b[0m\u001b[37m\u001b[0m \u001b[1m0s\u001b[0m 8ms/step - acc: 0.9706 - loss: 0.9225 - metric_f1score: 0.9656 - val_acc: 0.9672 - val_loss: 0.8973 - val_metric_f1score: 0.9671 - learning_rate: 0.0010\n",
      "Epoch 163/200\n",
      "\u001b[1m1/8\u001b[0m \u001b[32m━━\u001b[0m\u001b[37m━━━━━━━━━━━━━━━━━━\u001b[0m \u001b[1m0s\u001b[0m 14ms/step - acc: 0.9375 - loss: 0.8776 - metric_f1score: 0.9375\n",
      "Epoch 163: val_acc did not improve from 1.00000\n",
      "\u001b[1m8/8\u001b[0m \u001b[32m━━━━━━━━━━━━━━━━━━━━\u001b[0m\u001b[37m\u001b[0m \u001b[1m0s\u001b[0m 8ms/step - acc: 0.9480 - loss: 0.8927 - metric_f1score: 0.9524 - val_acc: 0.9672 - val_loss: 0.8688 - val_metric_f1score: 0.9671 - learning_rate: 0.0010\n",
      "Epoch 164/200\n",
      "\u001b[1m1/8\u001b[0m \u001b[32m━━\u001b[0m\u001b[37m━━━━━━━━━━━━━━━━━━\u001b[0m \u001b[1m0s\u001b[0m 15ms/step - acc: 0.9062 - loss: 0.9210 - metric_f1score: 0.9355\n",
      "Epoch 164: val_acc did not improve from 1.00000\n",
      "\u001b[1m8/8\u001b[0m \u001b[32m━━━━━━━━━━━━━━━━━━━━\u001b[0m\u001b[37m\u001b[0m \u001b[1m0s\u001b[0m 8ms/step - acc: 0.9666 - loss: 0.8300 - metric_f1score: 0.9718 - val_acc: 1.0000 - val_loss: 0.7443 - val_metric_f1score: 1.0000 - learning_rate: 0.0010\n",
      "Epoch 165/200\n",
      "\u001b[1m1/8\u001b[0m \u001b[32m━━\u001b[0m\u001b[37m━━━━━━━━━━━━━━━━━━\u001b[0m \u001b[1m0s\u001b[0m 14ms/step - acc: 0.9688 - loss: 0.8011 - metric_f1score: 0.9688\n",
      "Epoch 165: val_acc did not improve from 1.00000\n",
      "\u001b[1m8/8\u001b[0m \u001b[32m━━━━━━━━━━━━━━━━━━━━\u001b[0m\u001b[37m\u001b[0m \u001b[1m0s\u001b[0m 8ms/step - acc: 0.9535 - loss: 0.8609 - metric_f1score: 0.9598 - val_acc: 1.0000 - val_loss: 0.7441 - val_metric_f1score: 1.0000 - learning_rate: 0.0010\n",
      "Epoch 166/200\n",
      "\u001b[1m1/8\u001b[0m \u001b[32m━━\u001b[0m\u001b[37m━━━━━━━━━━━━━━━━━━\u001b[0m \u001b[1m0s\u001b[0m 17ms/step - acc: 1.0000 - loss: 0.7637 - metric_f1score: 1.0000\n",
      "Epoch 166: val_acc did not improve from 1.00000\n",
      "\u001b[1m8/8\u001b[0m \u001b[32m━━━━━━━━━━━━━━━━━━━━\u001b[0m\u001b[37m\u001b[0m \u001b[1m0s\u001b[0m 9ms/step - acc: 0.9795 - loss: 0.8096 - metric_f1score: 0.9806 - val_acc: 1.0000 - val_loss: 0.7470 - val_metric_f1score: 0.9921 - learning_rate: 0.0010\n",
      "Epoch 167/200\n",
      "\u001b[1m1/8\u001b[0m \u001b[32m━━\u001b[0m\u001b[37m━━━━━━━━━━━━━━━━━━\u001b[0m \u001b[1m0s\u001b[0m 14ms/step - acc: 0.9375 - loss: 0.8044 - metric_f1score: 0.9375\n",
      "Epoch 167: val_acc did not improve from 1.00000\n",
      "\u001b[1m8/8\u001b[0m \u001b[32m━━━━━━━━━━━━━━━━━━━━\u001b[0m\u001b[37m\u001b[0m \u001b[1m0s\u001b[0m 8ms/step - acc: 0.9647 - loss: 0.8151 - metric_f1score: 0.9672 - val_acc: 1.0000 - val_loss: 0.7450 - val_metric_f1score: 0.9921 - learning_rate: 0.0010\n",
      "Epoch 168/200\n",
      "\u001b[1m1/8\u001b[0m \u001b[32m━━\u001b[0m\u001b[37m━━━━━━━━━━━━━━━━━━\u001b[0m \u001b[1m0s\u001b[0m 16ms/step - acc: 1.0000 - loss: 0.7641 - metric_f1score: 1.0000\n",
      "Epoch 168: val_acc did not improve from 1.00000\n",
      "\u001b[1m8/8\u001b[0m \u001b[32m━━━━━━━━━━━━━━━━━━━━\u001b[0m\u001b[37m\u001b[0m \u001b[1m0s\u001b[0m 8ms/step - acc: 0.9804 - loss: 0.8507 - metric_f1score: 0.9752 - val_acc: 1.0000 - val_loss: 0.7367 - val_metric_f1score: 1.0000 - learning_rate: 0.0010\n",
      "Epoch 169/200\n",
      "\u001b[1m1/8\u001b[0m \u001b[32m━━\u001b[0m\u001b[37m━━━━━━━━━━━━━━━━━━\u001b[0m \u001b[1m0s\u001b[0m 15ms/step - acc: 0.9688 - loss: 0.7867 - metric_f1score: 0.9688\n",
      "Epoch 169: val_acc did not improve from 1.00000\n",
      "\u001b[1m8/8\u001b[0m \u001b[32m━━━━━━━━━━━━━━━━━━━━\u001b[0m\u001b[37m\u001b[0m \u001b[1m0s\u001b[0m 8ms/step - acc: 0.9765 - loss: 0.8043 - metric_f1score: 0.9772 - val_acc: 1.0000 - val_loss: 0.7372 - val_metric_f1score: 1.0000 - learning_rate: 0.0010\n",
      "Epoch 170/200\n",
      "\u001b[1m1/8\u001b[0m \u001b[32m━━\u001b[0m\u001b[37m━━━━━━━━━━━━━━━━━━\u001b[0m \u001b[1m0s\u001b[0m 14ms/step - acc: 1.0000 - loss: 0.7664 - metric_f1score: 1.0000\n",
      "Epoch 170: val_acc did not improve from 1.00000\n",
      "\u001b[1m8/8\u001b[0m \u001b[32m━━━━━━━━━━━━━━━━━━━━\u001b[0m\u001b[37m\u001b[0m \u001b[1m0s\u001b[0m 9ms/step - acc: 0.9846 - loss: 0.7801 - metric_f1score: 0.9878 - val_acc: 1.0000 - val_loss: 0.7358 - val_metric_f1score: 1.0000 - learning_rate: 0.0010\n",
      "Epoch 171/200\n",
      "\u001b[1m1/8\u001b[0m \u001b[32m━━\u001b[0m\u001b[37m━━━━━━━━━━━━━━━━━━\u001b[0m \u001b[1m0s\u001b[0m 17ms/step - acc: 0.9688 - loss: 0.9985 - metric_f1score: 0.9688\n",
      "Epoch 171: val_acc did not improve from 1.00000\n",
      "\u001b[1m8/8\u001b[0m \u001b[32m━━━━━━━━━━━━━━━━━━━━\u001b[0m\u001b[37m\u001b[0m \u001b[1m0s\u001b[0m 8ms/step - acc: 0.9463 - loss: 0.9784 - metric_f1score: 0.9510 - val_acc: 1.0000 - val_loss: 0.7329 - val_metric_f1score: 1.0000 - learning_rate: 0.0010\n",
      "Epoch 172/200\n",
      "\u001b[1m1/8\u001b[0m \u001b[32m━━\u001b[0m\u001b[37m━━━━━━━━━━━━━━━━━━\u001b[0m \u001b[1m0s\u001b[0m 13ms/step - acc: 1.0000 - loss: 0.7582 - metric_f1score: 0.9841\n",
      "Epoch 172: val_acc did not improve from 1.00000\n",
      "\u001b[1m8/8\u001b[0m \u001b[32m━━━━━━━━━━━━━━━━━━━━\u001b[0m\u001b[37m\u001b[0m \u001b[1m0s\u001b[0m 8ms/step - acc: 0.9801 - loss: 0.7822 - metric_f1score: 0.9721 - val_acc: 1.0000 - val_loss: 0.7335 - val_metric_f1score: 1.0000 - learning_rate: 0.0010\n",
      "Epoch 173/200\n",
      "\u001b[1m1/8\u001b[0m \u001b[32m━━\u001b[0m\u001b[37m━━━━━━━━━━━━━━━━━━\u001b[0m \u001b[1m0s\u001b[0m 14ms/step - acc: 1.0000 - loss: 0.7271 - metric_f1score: 1.0000\n",
      "Epoch 173: val_acc did not improve from 1.00000\n",
      "\u001b[1m8/8\u001b[0m \u001b[32m━━━━━━━━━━━━━━━━━━━━\u001b[0m\u001b[37m\u001b[0m \u001b[1m0s\u001b[0m 8ms/step - acc: 0.9779 - loss: 0.7802 - metric_f1score: 0.9769 - val_acc: 0.9836 - val_loss: 0.7362 - val_metric_f1score: 0.9844 - learning_rate: 0.0010\n",
      "Epoch 174/200\n",
      "\u001b[1m1/8\u001b[0m \u001b[32m━━\u001b[0m\u001b[37m━━━━━━━━━━━━━━━━━━\u001b[0m \u001b[1m0s\u001b[0m 14ms/step - acc: 1.0000 - loss: 0.7874 - metric_f1score: 0.9677\n",
      "Epoch 174: val_acc did not improve from 1.00000\n",
      "\u001b[1m8/8\u001b[0m \u001b[32m━━━━━━━━━━━━━━━━━━━━\u001b[0m\u001b[37m\u001b[0m \u001b[1m0s\u001b[0m 8ms/step - acc: 0.9695 - loss: 0.8823 - metric_f1score: 0.9667 - val_acc: 0.9836 - val_loss: 0.7434 - val_metric_f1score: 0.9844 - learning_rate: 0.0010\n",
      "Epoch 175/200\n",
      "\u001b[1m1/8\u001b[0m \u001b[32m━━\u001b[0m\u001b[37m━━━━━━━━━━━━━━━━━━\u001b[0m \u001b[1m0s\u001b[0m 13ms/step - acc: 1.0000 - loss: 0.7466 - metric_f1score: 1.0000\n",
      "Epoch 175: val_acc did not improve from 1.00000\n",
      "\u001b[1m8/8\u001b[0m \u001b[32m━━━━━━━━━━━━━━━━━━━━\u001b[0m\u001b[37m\u001b[0m \u001b[1m0s\u001b[0m 8ms/step - acc: 0.9530 - loss: 0.8623 - metric_f1score: 0.9607 - val_acc: 0.9672 - val_loss: 0.7391 - val_metric_f1score: 0.9762 - learning_rate: 0.0010\n",
      "Epoch 176/200\n",
      "\u001b[1m1/8\u001b[0m \u001b[32m━━\u001b[0m\u001b[37m━━━━━━━━━━━━━━━━━━\u001b[0m \u001b[1m0s\u001b[0m 16ms/step - acc: 1.0000 - loss: 0.7500 - metric_f1score: 0.9841\n",
      "Epoch 176: val_acc did not improve from 1.00000\n",
      "\u001b[1m8/8\u001b[0m \u001b[32m━━━━━━━━━━━━━━━━━━━━\u001b[0m\u001b[37m\u001b[0m \u001b[1m0s\u001b[0m 8ms/step - acc: 0.9603 - loss: 0.8535 - metric_f1score: 0.9603 - val_acc: 1.0000 - val_loss: 0.7363 - val_metric_f1score: 0.9921 - learning_rate: 0.0010\n",
      "Epoch 177/200\n",
      "\u001b[1m1/8\u001b[0m \u001b[32m━━\u001b[0m\u001b[37m━━━━━━━━━━━━━━━━━━\u001b[0m \u001b[1m0s\u001b[0m 14ms/step - acc: 0.9688 - loss: 0.7940 - metric_f1score: 0.9841\n",
      "Epoch 177: val_acc did not improve from 1.00000\n",
      "\u001b[1m8/8\u001b[0m \u001b[32m━━━━━━━━━━━━━━━━━━━━\u001b[0m\u001b[37m\u001b[0m \u001b[1m0s\u001b[0m 8ms/step - acc: 0.9644 - loss: 0.7930 - metric_f1score: 0.9745 - val_acc: 0.9836 - val_loss: 0.7383 - val_metric_f1score: 0.9921 - learning_rate: 0.0010\n",
      "Epoch 178/200\n",
      "\u001b[1m1/8\u001b[0m \u001b[32m━━\u001b[0m\u001b[37m━━━━━━━━━━━━━━━━━━\u001b[0m \u001b[1m0s\u001b[0m 14ms/step - acc: 0.9375 - loss: 0.8669 - metric_f1score: 0.9375\n",
      "Epoch 178: val_acc did not improve from 1.00000\n",
      "\u001b[1m8/8\u001b[0m \u001b[32m━━━━━━━━━━━━━━━━━━━━\u001b[0m\u001b[37m\u001b[0m \u001b[1m0s\u001b[0m 8ms/step - acc: 0.9517 - loss: 0.8472 - metric_f1score: 0.9471 - val_acc: 0.9836 - val_loss: 0.7280 - val_metric_f1score: 0.9921 - learning_rate: 0.0010\n",
      "Epoch 179/200\n",
      "\u001b[1m1/8\u001b[0m \u001b[32m━━\u001b[0m\u001b[37m━━━━━━━━━━━━━━━━━━\u001b[0m \u001b[1m0s\u001b[0m 14ms/step - acc: 1.0000 - loss: 0.7088 - metric_f1score: 1.0000\n",
      "Epoch 179: val_acc did not improve from 1.00000\n",
      "\u001b[1m8/8\u001b[0m \u001b[32m━━━━━━━━━━━━━━━━━━━━\u001b[0m\u001b[37m\u001b[0m \u001b[1m0s\u001b[0m 8ms/step - acc: 0.9937 - loss: 0.7466 - metric_f1score: 0.9880 - val_acc: 1.0000 - val_loss: 0.7157 - val_metric_f1score: 1.0000 - learning_rate: 0.0010\n",
      "Epoch 180/200\n",
      "\u001b[1m1/8\u001b[0m \u001b[32m━━\u001b[0m\u001b[37m━━━━━━━━━━━━━━━━━━\u001b[0m \u001b[1m0s\u001b[0m 14ms/step - acc: 0.8750 - loss: 1.2427 - metric_f1score: 0.9032\n",
      "Epoch 180: val_acc did not improve from 1.00000\n",
      "\u001b[1m8/8\u001b[0m \u001b[32m━━━━━━━━━━━━━━━━━━━━\u001b[0m\u001b[37m\u001b[0m \u001b[1m0s\u001b[0m 8ms/step - acc: 0.9438 - loss: 0.9432 - metric_f1score: 0.9535 - val_acc: 0.9836 - val_loss: 0.7260 - val_metric_f1score: 0.9762 - learning_rate: 0.0010\n",
      "Epoch 181/200\n",
      "\u001b[1m1/8\u001b[0m \u001b[32m━━\u001b[0m\u001b[37m━━━━━━━━━━━━━━━━━━\u001b[0m \u001b[1m0s\u001b[0m 13ms/step - acc: 1.0000 - loss: 0.7066 - metric_f1score: 1.0000\n",
      "Epoch 181: val_acc did not improve from 1.00000\n",
      "\u001b[1m8/8\u001b[0m \u001b[32m━━━━━━━━━━━━━━━━━━━━\u001b[0m\u001b[37m\u001b[0m \u001b[1m0s\u001b[0m 8ms/step - acc: 0.9911 - loss: 0.7547 - metric_f1score: 0.9907 - val_acc: 0.9672 - val_loss: 0.7340 - val_metric_f1score: 0.9762 - learning_rate: 0.0010\n",
      "Epoch 182/200\n",
      "\u001b[1m1/8\u001b[0m \u001b[32m━━\u001b[0m\u001b[37m━━━━━━━━━━━━━━━━━━\u001b[0m \u001b[1m0s\u001b[0m 12ms/step - acc: 0.9062 - loss: 1.0470 - metric_f1score: 0.9206\n",
      "Epoch 182: val_acc did not improve from 1.00000\n",
      "\u001b[1m8/8\u001b[0m \u001b[32m━━━━━━━━━━━━━━━━━━━━\u001b[0m\u001b[37m\u001b[0m \u001b[1m0s\u001b[0m 8ms/step - acc: 0.9502 - loss: 0.9072 - metric_f1score: 0.9579 - val_acc: 1.0000 - val_loss: 0.7044 - val_metric_f1score: 1.0000 - learning_rate: 0.0010\n",
      "Epoch 183/200\n",
      "\u001b[1m1/8\u001b[0m \u001b[32m━━\u001b[0m\u001b[37m━━━━━━━━━━━━━━━━━━\u001b[0m \u001b[1m0s\u001b[0m 13ms/step - acc: 0.9688 - loss: 0.7591 - metric_f1score: 0.9688\n",
      "Epoch 183: val_acc did not improve from 1.00000\n",
      "\u001b[1m8/8\u001b[0m \u001b[32m━━━━━━━━━━━━━━━━━━━━\u001b[0m\u001b[37m\u001b[0m \u001b[1m0s\u001b[0m 8ms/step - acc: 0.9734 - loss: 0.7688 - metric_f1score: 0.9729 - val_acc: 1.0000 - val_loss: 0.7048 - val_metric_f1score: 1.0000 - learning_rate: 0.0010\n",
      "Epoch 184/200\n",
      "\u001b[1m1/8\u001b[0m \u001b[32m━━\u001b[0m\u001b[37m━━━━━━━━━━━━━━━━━━\u001b[0m \u001b[1m0s\u001b[0m 13ms/step - acc: 0.9688 - loss: 0.7638 - metric_f1score: 0.9841\n",
      "Epoch 184: val_acc did not improve from 1.00000\n",
      "\u001b[1m8/8\u001b[0m \u001b[32m━━━━━━━━━━━━━━━━━━━━\u001b[0m\u001b[37m\u001b[0m \u001b[1m0s\u001b[0m 8ms/step - acc: 0.9709 - loss: 0.7475 - metric_f1score: 0.9818 - val_acc: 0.9836 - val_loss: 0.8194 - val_metric_f1score: 0.9844 - learning_rate: 0.0010\n",
      "Epoch 185/200\n",
      "\u001b[1m1/8\u001b[0m \u001b[32m━━\u001b[0m\u001b[37m━━━━━━━━━━━━━━━━━━\u001b[0m \u001b[1m0s\u001b[0m 14ms/step - acc: 1.0000 - loss: 0.7411 - metric_f1score: 0.9841\n",
      "Epoch 185: val_acc did not improve from 1.00000\n",
      "\u001b[1m8/8\u001b[0m \u001b[32m━━━━━━━━━━━━━━━━━━━━\u001b[0m\u001b[37m\u001b[0m \u001b[1m0s\u001b[0m 8ms/step - acc: 0.9776 - loss: 0.7661 - metric_f1score: 0.9760 - val_acc: 1.0000 - val_loss: 0.7116 - val_metric_f1score: 1.0000 - learning_rate: 0.0010\n",
      "Epoch 186/200\n",
      "\u001b[1m1/8\u001b[0m \u001b[32m━━\u001b[0m\u001b[37m━━━━━━━━━━━━━━━━━━\u001b[0m \u001b[1m0s\u001b[0m 14ms/step - acc: 0.9688 - loss: 0.7626 - metric_f1score: 0.9841\n",
      "Epoch 186: val_acc did not improve from 1.00000\n",
      "\u001b[1m8/8\u001b[0m \u001b[32m━━━━━━━━━━━━━━━━━━━━\u001b[0m\u001b[37m\u001b[0m \u001b[1m0s\u001b[0m 8ms/step - acc: 0.9726 - loss: 0.7731 - metric_f1score: 0.9795 - val_acc: 1.0000 - val_loss: 0.6973 - val_metric_f1score: 1.0000 - learning_rate: 0.0010\n",
      "Epoch 187/200\n",
      "\u001b[1m1/8\u001b[0m \u001b[32m━━\u001b[0m\u001b[37m━━━━━━━━━━━━━━━━━━\u001b[0m \u001b[1m0s\u001b[0m 12ms/step - acc: 0.9688 - loss: 0.7812 - metric_f1score: 0.9688\n",
      "Epoch 187: val_acc did not improve from 1.00000\n",
      "\u001b[1m8/8\u001b[0m \u001b[32m━━━━━━━━━━━━━━━━━━━━\u001b[0m\u001b[37m\u001b[0m \u001b[1m0s\u001b[0m 8ms/step - acc: 0.9818 - loss: 0.7515 - metric_f1score: 0.9808 - val_acc: 1.0000 - val_loss: 0.6995 - val_metric_f1score: 1.0000 - learning_rate: 0.0010\n",
      "Epoch 188/200\n",
      "\u001b[1m1/8\u001b[0m \u001b[32m━━\u001b[0m\u001b[37m━━━━━━━━━━━━━━━━━━\u001b[0m \u001b[1m0s\u001b[0m 14ms/step - acc: 1.0000 - loss: 0.7189 - metric_f1score: 1.0000\n",
      "Epoch 188: val_acc did not improve from 1.00000\n",
      "\u001b[1m8/8\u001b[0m \u001b[32m━━━━━━━━━━━━━━━━━━━━\u001b[0m\u001b[37m\u001b[0m \u001b[1m0s\u001b[0m 8ms/step - acc: 0.9732 - loss: 0.7646 - metric_f1score: 0.9803 - val_acc: 1.0000 - val_loss: 0.6995 - val_metric_f1score: 0.9921 - learning_rate: 0.0010\n",
      "Epoch 189/200\n",
      "\u001b[1m1/8\u001b[0m \u001b[32m━━\u001b[0m\u001b[37m━━━━━━━━━━━━━━━━━━\u001b[0m \u001b[1m0s\u001b[0m 14ms/step - acc: 1.0000 - loss: 0.7256 - metric_f1score: 0.9841\n",
      "Epoch 189: val_acc did not improve from 1.00000\n",
      "\u001b[1m8/8\u001b[0m \u001b[32m━━━━━━━━━━━━━━━━━━━━\u001b[0m\u001b[37m\u001b[0m \u001b[1m0s\u001b[0m 8ms/step - acc: 0.9935 - loss: 0.7216 - metric_f1score: 0.9871 - val_acc: 1.0000 - val_loss: 0.6959 - val_metric_f1score: 1.0000 - learning_rate: 0.0010\n",
      "Epoch 190/200\n",
      "\u001b[1m1/8\u001b[0m \u001b[32m━━\u001b[0m\u001b[37m━━━━━━━━━━━━━━━━━━\u001b[0m \u001b[1m0s\u001b[0m 15ms/step - acc: 1.0000 - loss: 0.7046 - metric_f1score: 1.0000\n",
      "Epoch 190: val_acc did not improve from 1.00000\n",
      "\u001b[1m8/8\u001b[0m \u001b[32m━━━━━━━━━━━━━━━━━━━━\u001b[0m\u001b[37m\u001b[0m \u001b[1m0s\u001b[0m 8ms/step - acc: 0.9711 - loss: 0.8078 - metric_f1score: 0.9747 - val_acc: 1.0000 - val_loss: 0.6909 - val_metric_f1score: 1.0000 - learning_rate: 0.0010\n",
      "Epoch 191/200\n",
      "\u001b[1m1/8\u001b[0m \u001b[32m━━\u001b[0m\u001b[37m━━━━━━━━━━━━━━━━━━\u001b[0m \u001b[1m0s\u001b[0m 13ms/step - acc: 1.0000 - loss: 0.7213 - metric_f1score: 0.9841\n",
      "Epoch 191: val_acc did not improve from 1.00000\n",
      "\u001b[1m8/8\u001b[0m \u001b[32m━━━━━━━━━━━━━━━━━━━━\u001b[0m\u001b[37m\u001b[0m \u001b[1m0s\u001b[0m 8ms/step - acc: 0.9790 - loss: 0.7495 - metric_f1score: 0.9770 - val_acc: 1.0000 - val_loss: 0.6888 - val_metric_f1score: 1.0000 - learning_rate: 0.0010\n",
      "Epoch 192/200\n",
      "\u001b[1m1/8\u001b[0m \u001b[32m━━\u001b[0m\u001b[37m━━━━━━━━━━━━━━━━━━\u001b[0m \u001b[1m0s\u001b[0m 13ms/step - acc: 1.0000 - loss: 0.7264 - metric_f1score: 0.9841\n",
      "Epoch 192: val_acc did not improve from 1.00000\n",
      "\u001b[1m8/8\u001b[0m \u001b[32m━━━━━━━━━━━━━━━━━━━━\u001b[0m\u001b[37m\u001b[0m \u001b[1m0s\u001b[0m 8ms/step - acc: 0.9890 - loss: 0.7320 - metric_f1score: 0.9801 - val_acc: 1.0000 - val_loss: 0.6849 - val_metric_f1score: 1.0000 - learning_rate: 0.0010\n",
      "Epoch 193/200\n",
      "\u001b[1m1/8\u001b[0m \u001b[32m━━\u001b[0m\u001b[37m━━━━━━━━━━━━━━━━━━\u001b[0m \u001b[1m0s\u001b[0m 13ms/step - acc: 0.9688 - loss: 0.7582 - metric_f1score: 0.9688\n",
      "Epoch 193: val_acc did not improve from 1.00000\n",
      "\u001b[1m8/8\u001b[0m \u001b[32m━━━━━━━━━━━━━━━━━━━━\u001b[0m\u001b[37m\u001b[0m \u001b[1m0s\u001b[0m 8ms/step - acc: 0.9572 - loss: 0.8091 - metric_f1score: 0.9542 - val_acc: 1.0000 - val_loss: 0.6808 - val_metric_f1score: 1.0000 - learning_rate: 0.0010\n",
      "Epoch 194/200\n",
      "\u001b[1m1/8\u001b[0m \u001b[32m━━\u001b[0m\u001b[37m━━━━━━━━━━━━━━━━━━\u001b[0m \u001b[1m0s\u001b[0m 14ms/step - acc: 0.9688 - loss: 0.7974 - metric_f1score: 0.9688\n",
      "Epoch 194: val_acc did not improve from 1.00000\n",
      "\u001b[1m8/8\u001b[0m \u001b[32m━━━━━━━━━━━━━━━━━━━━\u001b[0m\u001b[37m\u001b[0m \u001b[1m0s\u001b[0m 7ms/step - acc: 0.9718 - loss: 0.7645 - metric_f1score: 0.9766 - val_acc: 0.9836 - val_loss: 0.6937 - val_metric_f1score: 0.9844 - learning_rate: 0.0010\n",
      "Epoch 195/200\n",
      "\u001b[1m1/8\u001b[0m \u001b[32m━━\u001b[0m\u001b[37m━━━━━━━━━━━━━━━━━━\u001b[0m \u001b[1m0s\u001b[0m 12ms/step - acc: 1.0000 - loss: 0.6982 - metric_f1score: 1.0000\n",
      "Epoch 195: val_acc did not improve from 1.00000\n",
      "\u001b[1m8/8\u001b[0m \u001b[32m━━━━━━━━━━━━━━━━━━━━\u001b[0m\u001b[37m\u001b[0m \u001b[1m0s\u001b[0m 8ms/step - acc: 0.9848 - loss: 0.7510 - metric_f1score: 0.9800 - val_acc: 0.9836 - val_loss: 0.6971 - val_metric_f1score: 0.9844 - learning_rate: 0.0010\n",
      "Epoch 196/200\n",
      "\u001b[1m1/8\u001b[0m \u001b[32m━━\u001b[0m\u001b[37m━━━━━━━━━━━━━━━━━━\u001b[0m \u001b[1m0s\u001b[0m 13ms/step - acc: 1.0000 - loss: 0.6843 - metric_f1score: 1.0000\n",
      "Epoch 196: val_acc did not improve from 1.00000\n",
      "\u001b[1m8/8\u001b[0m \u001b[32m━━━━━━━━━━━━━━━━━━━━\u001b[0m\u001b[37m\u001b[0m \u001b[1m0s\u001b[0m 8ms/step - acc: 0.9827 - loss: 0.7383 - metric_f1score: 0.9849 - val_acc: 0.9836 - val_loss: 0.6973 - val_metric_f1score: 0.9844 - learning_rate: 0.0010\n",
      "Epoch 197/200\n",
      "\u001b[1m1/8\u001b[0m \u001b[32m━━\u001b[0m\u001b[37m━━━━━━━━━━━━━━━━━━\u001b[0m \u001b[1m0s\u001b[0m 14ms/step - acc: 0.9062 - loss: 1.1750 - metric_f1score: 0.9062\n",
      "Epoch 197: val_acc did not improve from 1.00000\n",
      "\u001b[1m8/8\u001b[0m \u001b[32m━━━━━━━━━━━━━━━━━━━━\u001b[0m\u001b[37m\u001b[0m \u001b[1m0s\u001b[0m 8ms/step - acc: 0.9429 - loss: 0.9023 - metric_f1score: 0.9482 - val_acc: 0.9836 - val_loss: 0.6951 - val_metric_f1score: 0.9844 - learning_rate: 0.0010\n",
      "Epoch 198/200\n",
      "\u001b[1m1/8\u001b[0m \u001b[32m━━\u001b[0m\u001b[37m━━━━━━━━━━━━━━━━━━\u001b[0m \u001b[1m0s\u001b[0m 12ms/step - acc: 0.9375 - loss: 0.8205 - metric_f1score: 0.9524\n",
      "Epoch 198: val_acc did not improve from 1.00000\n",
      "\u001b[1m8/8\u001b[0m \u001b[32m━━━━━━━━━━━━━━━━━━━━\u001b[0m\u001b[37m\u001b[0m \u001b[1m0s\u001b[0m 7ms/step - acc: 0.9612 - loss: 0.7561 - metric_f1score: 0.9659 - val_acc: 0.9836 - val_loss: 0.6931 - val_metric_f1score: 0.9844 - learning_rate: 0.0010\n",
      "Epoch 199/200\n",
      "\u001b[1m1/8\u001b[0m \u001b[32m━━\u001b[0m\u001b[37m━━━━━━━━━━━━━━━━━━\u001b[0m \u001b[1m0s\u001b[0m 12ms/step - acc: 1.0000 - loss: 0.7049 - metric_f1score: 1.0000\n",
      "Epoch 199: val_acc did not improve from 1.00000\n",
      "\u001b[1m8/8\u001b[0m \u001b[32m━━━━━━━━━━━━━━━━━━━━\u001b[0m\u001b[37m\u001b[0m \u001b[1m0s\u001b[0m 7ms/step - acc: 0.9723 - loss: 0.8045 - metric_f1score: 0.9694 - val_acc: 0.9836 - val_loss: 0.6904 - val_metric_f1score: 0.9844 - learning_rate: 0.0010\n",
      "Epoch 200/200\n",
      "\u001b[1m1/8\u001b[0m \u001b[32m━━\u001b[0m\u001b[37m━━━━━━━━━━━━━━━━━━\u001b[0m \u001b[1m0s\u001b[0m 12ms/step - acc: 0.9688 - loss: 0.8250 - metric_f1score: 0.9355\n",
      "Epoch 200: val_acc did not improve from 1.00000\n",
      "\u001b[1m8/8\u001b[0m \u001b[32m━━━━━━━━━━━━━━━━━━━━\u001b[0m\u001b[37m\u001b[0m \u001b[1m0s\u001b[0m 8ms/step - acc: 0.9556 - loss: 0.7846 - metric_f1score: 0.9459 - val_acc: 0.9836 - val_loss: 0.6879 - val_metric_f1score: 0.9921 - learning_rate: 0.0010\n"
     ]
    }
   ],
   "source": [
    "from tensorflow.keras.callbacks import ModelCheckpoint, ReduceLROnPlateau, EarlyStopping\n",
    "\n",
    "early_stopping = EarlyStopping(monitor = 'val_metric_F1score', min_delta = 0, patience = 20, mode = 'max')\n",
    "\n",
    "\n",
    "history = model.fit(\n",
    "    x_train,\n",
    "    y_train,\n",
    "    validation_data=(x_val, y_val),\n",
    "    epochs=200,\n",
    "    callbacks=[\n",
    "        ModelCheckpoint('models/multi_hand_gesture_classifier.h5', monitor='val_acc', verbose=1, save_best_only=True, mode='auto'),\n",
    "        ReduceLROnPlateau(monitor='val_metric_F1score', factor=0.5, patience=50, verbose=1, mode='auto'),\n",
    "        early_stopping\n",
    "    ]\n",
    ")"
   ]
  },
  {
   "cell_type": "code",
   "execution_count": 17,
   "metadata": {},
   "outputs": [
    {
     "data": {
      "image/png": "[encoded data removed]",
      "text/plain": [
       "<Figure size 1600x1000 with 2 Axes>"
      ]
     },
     "metadata": {},
     "output_type": "display_data"
    }
   ],
   "source": [
    "import matplotlib.pyplot as plt\n",
    "\n",
    "fig, loss_ax = plt.subplots(figsize=(16, 10))\n",
    "acc_ax = loss_ax.twinx()\n",
    "\n",
    "loss_ax.plot(history.history['loss'], 'y', label='train loss')\n",
    "loss_ax.plot(history.history['val_loss'], 'r', label='val loss')\n",
    "loss_ax.set_xlabel('epoch')\n",
    "loss_ax.set_ylabel('loss')\n",
    "loss_ax.legend(loc='upper left')\n",
    "\n",
    "acc_ax.plot(history.history['acc'], 'b', label='train acc')\n",
    "acc_ax.plot(history.history['val_acc'], 'g', label='val acc')\n",
    "acc_ax.set_ylabel('accuracy')\n",
    "acc_ax.legend(loc='upper left')\n",
    "\n",
    "plt.show()"
   ]
  },
  {
   "cell_type": "code",
   "execution_count": 19,
   "metadata": {},
   "outputs": [
    {
     "data": {
      "image/png": "[encoded data removed]",
      "text/plain": [
       "<Figure size 1600x1000 with 2 Axes>"
      ]
     },
     "metadata": {},
     "output_type": "display_data"
    }
   ],
   "source": [
    "fig, loss_ax = plt.subplots(figsize=(16, 10))\n",
    "acc_ax = loss_ax.twinx()\n",
    "\n",
    "loss_ax.set_xlabel('epoch')\n",
    "loss_ax.set_ylabel('loss')\n",
    "\n",
    "acc_ax.plot(history.history['metric_f1score'], 'b', label='train f1')\n",
    "acc_ax.plot(history.history['val_metric_f1score'], 'g', label='val f1')\n",
    "acc_ax.set_ylabel('f1-score')\n",
    "acc_ax.legend(loc='upper left')\n",
    "\n",
    "plt.show()"
   ]
  },
  {
   "cell_type": "code",
   "execution_count": 20,
   "metadata": {},
   "outputs": [
    {
     "name": "stderr",
     "output_type": "stream",
     "text": [
      "WARNING:absl:Compiled the loaded model, but the compiled metrics have yet to be built. `model.compile_metrics` will be empty until you train or evaluate the model.\n"
     ]
    },
    {
     "name": "stdout",
     "output_type": "stream",
     "text": [
      "\u001b[1m2/2\u001b[0m \u001b[32m━━━━━━━━━━━━━━━━━━━━\u001b[0m\u001b[37m\u001b[0m \u001b[1m0s\u001b[0m 90ms/step\n"
     ]
    },
    {
     "data": {
      "text/plain": [
       "array([[[51,  0],\n",
       "        [ 0, 10]],\n",
       "\n",
       "       [[48,  0],\n",
       "        [ 0, 13]],\n",
       "\n",
       "       [[57,  0],\n",
       "        [ 0,  4]],\n",
       "\n",
       "       [[58,  0],\n",
       "        [ 0,  3]],\n",
       "\n",
       "       [[56,  0],\n",
       "        [ 0,  5]],\n",
       "\n",
       "       [[57,  0],\n",
       "        [ 0,  4]],\n",
       "\n",
       "       [[56,  0],\n",
       "        [ 0,  5]],\n",
       "\n",
       "       [[53,  0],\n",
       "        [ 0,  8]],\n",
       "\n",
       "       [[57,  0],\n",
       "        [ 0,  4]],\n",
       "\n",
       "       [[56,  0],\n",
       "        [ 0,  5]]])"
      ]
     },
     "execution_count": 20,
     "metadata": {},
     "output_type": "execute_result"
    }
   ],
   "source": [
    "from sklearn.metrics import multilabel_confusion_matrix\n",
    "from tensorflow.keras.models import load_model\n",
    "\n",
    "model = load_model('models/multi_hand_gesture_classifier.h5', custom_objects = {'metric_F1score':metric_F1score})\n",
    "\n",
    "y_pred = model.predict(x_val)\n",
    "multilabel_confusion_matrix(np.argmax(y_val, axis=1), np.argmax(y_pred, axis=1))"
   ]
  },
  {
   "cell_type": "code",
   "execution_count": 21,
   "metadata": {},
   "outputs": [
    {
     "data": {
      "text/plain": [
       "array([[[51,  0],\n",
       "        [ 0, 10]],\n",
       "\n",
       "       [[48,  0],\n",
       "        [ 0, 13]],\n",
       "\n",
       "       [[57,  0],\n",
       "        [ 0,  4]],\n",
       "\n",
       "       [[58,  0],\n",
       "        [ 0,  3]],\n",
       "\n",
       "       [[56,  0],\n",
       "        [ 0,  5]],\n",
       "\n",
       "       [[57,  0],\n",
       "        [ 0,  4]],\n",
       "\n",
       "       [[56,  0],\n",
       "        [ 0,  5]],\n",
       "\n",
       "       [[53,  0],\n",
       "        [ 0,  8]],\n",
       "\n",
       "       [[57,  0],\n",
       "        [ 0,  4]],\n",
       "\n",
       "       [[56,  0],\n",
       "        [ 0,  5]]])"
      ]
     },
     "execution_count": 21,
     "metadata": {},
     "output_type": "execute_result"
    }
   ],
   "source": [
    "multilabel_confusion_matrix(np.argmax(y_val, axis=1), np.argmax(y_pred, axis=1))"
   ]
  },
  {
   "cell_type": "code",
   "execution_count": 22,
   "metadata": {},
   "outputs": [
    {
     "name": "stderr",
     "output_type": "stream",
     "text": [
      "WARNING:absl:Compiled the loaded model, but the compiled metrics have yet to be built. `model.compile_metrics` will be empty until you train or evaluate the model.\n"
     ]
    },
    {
     "name": "stdout",
     "output_type": "stream",
     "text": [
      "\u001b[1m2/2\u001b[0m \u001b[32m━━━━━━━━━━━━━━━━━━━━\u001b[0m\u001b[37m\u001b[0m \u001b[1m0s\u001b[0m 87ms/step\n"
     ]
    },
    {
     "data": {
      "text/plain": [
       "array([[[51,  0],\n",
       "        [ 0, 10]],\n",
       "\n",
       "       [[48,  0],\n",
       "        [ 0, 13]],\n",
       "\n",
       "       [[57,  0],\n",
       "        [ 0,  4]],\n",
       "\n",
       "       [[58,  0],\n",
       "        [ 0,  3]],\n",
       "\n",
       "       [[56,  0],\n",
       "        [ 0,  5]],\n",
       "\n",
       "       [[57,  0],\n",
       "        [ 0,  4]],\n",
       "\n",
       "       [[56,  0],\n",
       "        [ 0,  5]],\n",
       "\n",
       "       [[53,  0],\n",
       "        [ 0,  8]],\n",
       "\n",
       "       [[57,  0],\n",
       "        [ 0,  4]],\n",
       "\n",
       "       [[56,  0],\n",
       "        [ 0,  5]]])"
      ]
     },
     "execution_count": 22,
     "metadata": {},
     "output_type": "execute_result"
    }
   ],
   "source": [
    "from sklearn.metrics import multilabel_confusion_matrix\n",
    "from tensorflow.keras.models import load_model\n",
    "\n",
    "model = load_model('models/multi_hand_gesture_classifier.h5')\n",
    "\n",
    "y_pred = model.predict(x_val)\n",
    "\n",
    "multilabel_confusion_matrix(np.argmax(y_val, axis=1), np.argmax(y_pred, axis=1))"
   ]
  },
  {
   "cell_type": "code",
   "execution_count": 23,
   "metadata": {},
   "outputs": [
    {
     "name": "stdout",
     "output_type": "stream",
     "text": [
      "INFO:tensorflow:Assets written to: /var/folders/_k/9pcm610n0sb_j9n64tc8zgcw0000gn/T/tmp4u1wgp01/assets\n"
     ]
    },
    {
     "name": "stderr",
     "output_type": "stream",
     "text": [
      "INFO:tensorflow:Assets written to: /var/folders/_k/9pcm610n0sb_j9n64tc8zgcw0000gn/T/tmp4u1wgp01/assets\n"
     ]
    },
    {
     "name": "stdout",
     "output_type": "stream",
     "text": [
      "Saved artifact at '/var/folders/_k/9pcm610n0sb_j9n64tc8zgcw0000gn/T/tmp4u1wgp01'. The following endpoints are available:\n",
      "\n",
      "* Endpoint 'serve'\n",
      "  args_0 (POSITIONAL_ONLY): TensorSpec(shape=(None, 10, 55), dtype=tf.float32, name='input_layer')\n",
      "Output Type:\n",
      "  TensorSpec(shape=(None, 10), dtype=tf.float32, name=None)\n",
      "Captures:\n",
      "  12922687504: TensorSpec(shape=(), dtype=tf.resource, name=None)\n",
      "  12922695248: TensorSpec(shape=(), dtype=tf.resource, name=None)\n",
      "  12922699120: TensorSpec(shape=(), dtype=tf.resource, name=None)\n",
      "  12922729776: TensorSpec(shape=(), dtype=tf.resource, name=None)\n",
      "  12922727312: TensorSpec(shape=(), dtype=tf.resource, name=None)\n",
      "  12922742288: TensorSpec(shape=(), dtype=tf.resource, name=None)\n",
      "  12922739296: TensorSpec(shape=(), dtype=tf.resource, name=None)\n"
     ]
    },
    {
     "name": "stderr",
     "output_type": "stream",
     "text": [
      "WARNING: All log messages before absl::InitializeLog() is called are written to STDERR\n",
      "W0000 00:00:1744774186.577402 7739950 tf_tfl_flatbuffer_helpers.cc:365] Ignored output_format.\n",
      "W0000 00:00:1744774186.577441 7739950 tf_tfl_flatbuffer_helpers.cc:368] Ignored drop_control_dependency.\n",
      "2025-04-16 12:29:46.577745: I tensorflow/cc/saved_model/reader.cc:83] Reading SavedModel from: /var/folders/_k/9pcm610n0sb_j9n64tc8zgcw0000gn/T/tmp4u1wgp01\n",
      "2025-04-16 12:29:46.578406: I tensorflow/cc/saved_model/reader.cc:52] Reading meta graph with tags { serve }\n",
      "2025-04-16 12:29:46.578414: I tensorflow/cc/saved_model/reader.cc:147] Reading SavedModel debug info (if present) from: /var/folders/_k/9pcm610n0sb_j9n64tc8zgcw0000gn/T/tmp4u1wgp01\n",
      "I0000 00:00:1744774186.583388 7739950 mlir_graph_optimization_pass.cc:425] MLIR V1 optimization pass is not enabled\n",
      "2025-04-16 12:29:46.584096: I tensorflow/cc/saved_model/loader.cc:236] Restoring SavedModel bundle.\n",
      "2025-04-16 12:29:46.610382: I tensorflow/cc/saved_model/loader.cc:220] Running initialization op on SavedModel bundle at path: /var/folders/_k/9pcm610n0sb_j9n64tc8zgcw0000gn/T/tmp4u1wgp01\n",
      "2025-04-16 12:29:46.620683: I tensorflow/cc/saved_model/loader.cc:471] SavedModel load for tags { serve }; Status: success: OK. Took 42945 microseconds.\n",
      "2025-04-16 12:29:46.635425: I tensorflow/compiler/mlir/tensorflow/utils/dump_mlir_util.cc:269] disabling MLIR crash reproducer, set env var `MLIR_CRASH_REPRODUCER_DIRECTORY` to enable.\n",
      "2025-04-16 12:29:46.681992: W tensorflow/compiler/mlir/lite/flatbuffer_export.cc:3993] TFLite interpreter needs to link Flex delegate in order to run the model since it contains the following Select TFop(s):\n",
      "Flex ops: FlexTensorListReserve, FlexTensorListSetItem, FlexTensorListStack\n",
      "Details:\n",
      "\ttf.TensorListReserve(tensor<2xi32>, tensor<i32>) -> (tensor<!tf_type.variant<tensor<?x64xf32>>>) : {device = \"\"}\n",
      "\ttf.TensorListSetItem(tensor<!tf_type.variant<tensor<?x64xf32>>>, tensor<i32>, tensor<?x64xf32>) -> (tensor<!tf_type.variant<tensor<?x64xf32>>>) : {device = \"\", resize_if_index_out_of_bounds = false}\n",
      "\ttf.TensorListStack(tensor<!tf_type.variant<tensor<?x64xf32>>>, tensor<2xi32>) -> (tensor<1x?x64xf32>) : {device = \"\", num_elements = 1 : i64}\n",
      "See instructions: https://www.tensorflow.org/lite/guide/ops_select\n"
     ]
    }
   ],
   "source": [
    "import tensorflow as tf\n",
    "# Convert the model.\n",
    "converter = tf.lite.TFLiteConverter.from_keras_model(model)\n",
    "\n",
    "# 1. TF Lite 기본 연산 + Select TF ops 사용\n",
    "converter.target_spec.supported_ops = [\n",
    "    tf.lite.OpsSet.TFLITE_BUILTINS,\n",
    "    tf.lite.OpsSet.SELECT_TF_OPS\n",
    "]\n",
    "\n",
    "# 2. TensorList lowering 비활성화\n",
    "converter._experimental_lower_tensor_list_ops = False\n",
    "\n",
    "# 변환 실행\n",
    "tflite_model = converter.convert()\n",
    "\n",
    "# 모델 저장\n",
    "with open('models/multi_hand_gesture_classifier.tflite', 'wb') as f:\n",
    "    f.write(tflite_model)"
   ]
  },
  {
   "cell_type": "code",
   "execution_count": null,
   "metadata": {},
   "outputs": [],
   "source": []
  }
 ],
 "metadata": {
  "kernelspec": {
   "display_name": "hi",
   "language": "python",
   "name": "python3"
  },
  "language_info": {
   "codemirror_mode": {
    "name": "ipython",
    "version": 3
   },
   "file_extension": ".py",
   "mimetype": "text/x-python",
   "name": "python",
   "nbconvert_exporter": "python",
   "pygments_lexer": "ipython3",
   "version": "3.10.16"
  }
 },
 "nbformat": 4,
 "nbformat_minor": 4
}
