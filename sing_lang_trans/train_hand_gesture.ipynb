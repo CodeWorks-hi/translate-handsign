{
 "cells": [
  {
   "cell_type": "code",
   "execution_count": 1,
   "metadata": {},
   "outputs": [],
   "source": [
    "import numpy as np\n",
    "import os\n",
    "\n",
    "os.environ['CUDA_VISIBLE_DEVICES'] = '1'\n",
    "os.environ['TF_FORCE_GPU_ALLOW_GROWTH'] = 'true'"
   ]
  },
  {
   "cell_type": "code",
   "execution_count": 2,
   "metadata": {},
   "outputs": [
    {
     "name": "stdout",
     "output_type": "stream",
     "text": [
      "/Users/ENZO/KOOKIZ/GITHUB/translate-handsign\n"
     ]
    },
    {
     "name": "stderr",
     "output_type": "stream",
     "text": [
      "/opt/anaconda3/envs/hi/lib/python3.10/site-packages/IPython/core/magics/osm.py:417: UserWarning: This is now an optional IPython functionality, setting dhist requires you to install the `pickleshare` library.\n",
      "  self.shell.db['dhist'] = compress_dhist(dhist)[-100:]\n"
     ]
    }
   ],
   "source": [
    "%pwd\n",
    "%cd .."
   ]
  },
  {
   "cell_type": "code",
   "execution_count": 3,
   "metadata": {},
   "outputs": [
    {
     "data": {
      "text/plain": [
       "(451, 10, 56)"
      ]
     },
     "execution_count": 3,
     "metadata": {},
     "output_type": "execute_result"
    }
   ],
   "source": [
    "actions = [\"답답하다\", \"땀난다\", \"베였다\", \"부었다\", \"불편하다\",\n",
    "           \"아프다\", \"어지럽다\", \"열난다\", \"지속된다\", \"피곤하다\"]\n",
    "time_num, time_num1, time_num2 = '1744797254', '1744797393', '1744797530'\n",
    "\n",
    "for time_num in [time_num, time_num1, time_num2]:\n",
    "    data = np.concatenate([\n",
    "        np.load(f'dataset/seq_아프다_{time_num}.npy'),\n",
    "        np.load(f'dataset/seq_열난다_{time_num}.npy'),\n",
    "        np.load(f'dataset/seq_답답하다_{time_num}.npy'),\n",
    "        np.load(f'dataset/seq_땀난다_{time_num}.npy'),\n",
    "        np.load(f'dataset/seq_베였다_{time_num}.npy'),\n",
    "        np.load(f'dataset/seq_부었다_{time_num}.npy'),\n",
    "        np.load(f'dataset/seq_불편하다_{time_num}.npy'),\n",
    "        np.load(f'dataset/seq_어지럽다_{time_num}.npy'),\n",
    "        np.load(f'dataset/seq_지속된다_{time_num}.npy'),\n",
    "        np.load(f'dataset/seq_피곤하다_{time_num}.npy')\n",
    "    ], axis=0)\n",
    "\n",
    "data.shape"
   ]
  },
  {
   "cell_type": "code",
   "execution_count": 4,
   "metadata": {},
   "outputs": [],
   "source": [
    "# print(np.load(f'dataset/seq_아프다_1744773358.npy').shape)\n",
    "# print(np.load(f'dataset/seq_열_1744773358.npy').shape)\n",
    "# print(np.load(f'dataset/seq_기침_1744773358.npy').shape)\n",
    "# print(np.load(f'dataset/seq_콧물_1744773358.npy').shape)\n",
    "# print(np.load(f'dataset/seq_코막힘_1744773358.npy').shape)\n",
    "# print(np.load(f'dataset/seq_머리_1744773358.npy').shape)\n",
    "# print(np.load(f'dataset/seq_배_1744773358.npy').shape)\n",
    "# print(np.load(f'dataset/seq_설사_1744773358.npy').shape)\n",
    "# print(np.load(f'dataset/seq_변비_1744773358.npy').shape)\n",
    "# print(np.load(f'dataset/seq_구토_1744773358.npy').shape)"
   ]
  },
  {
   "cell_type": "code",
   "execution_count": 5,
   "metadata": {},
   "outputs": [
    {
     "name": "stdout",
     "output_type": "stream",
     "text": [
      "(451, 10, 55)\n",
      "(451,)\n"
     ]
    }
   ],
   "source": [
    "x_data = data[:, :, :-1]\n",
    "labels = data[:, 0, -1]\n",
    "\n",
    "print(x_data.shape)\n",
    "print(labels.shape)"
   ]
  },
  {
   "cell_type": "code",
   "execution_count": 6,
   "metadata": {},
   "outputs": [
    {
     "data": {
      "text/plain": [
       "array([5., 5., 5., 5., 5., 5., 5., 5., 5., 5., 5., 5., 5., 5., 5., 5., 5.,\n",
       "       5., 5., 5., 5., 5., 5., 5., 5., 5., 5., 5., 5., 5., 5., 5., 5., 5.,\n",
       "       5., 5., 5., 5., 5., 7., 7., 7., 7., 7., 7., 7., 7., 7., 7., 7., 7.,\n",
       "       7., 7., 7., 7., 7., 7., 7., 7., 7., 7., 7., 7., 7., 7., 7., 7., 7.,\n",
       "       7., 7., 7., 7., 7., 7., 7., 7., 7., 7., 7., 7., 7., 7., 7., 7., 7.,\n",
       "       7., 7., 7., 7., 7., 7., 7., 7., 7., 7., 7., 0., 0., 0., 0., 0., 0.,\n",
       "       0., 0., 0., 0., 0., 0., 0., 0., 0., 0., 0., 0., 0., 0., 0., 0., 0.,\n",
       "       0., 0., 0., 0., 0., 0., 0., 0., 0., 0., 0., 0., 0., 1., 1., 1., 1.,\n",
       "       1., 1., 1., 1., 1., 1., 1., 1., 1., 1., 1., 1., 1., 1., 1., 1., 1.,\n",
       "       1., 1., 1., 1., 1., 1., 2., 2., 2., 2., 2., 2., 2., 2., 2., 2., 2.,\n",
       "       2., 2., 2., 2., 2., 2., 2., 2., 2., 2., 2., 2., 2., 2., 2., 2., 2.,\n",
       "       2., 2., 2., 2., 2., 2., 2., 2., 2., 2., 3., 3., 3., 3., 3., 3., 3.,\n",
       "       3., 3., 3., 3., 3., 3., 3., 3., 3., 3., 3., 3., 3., 3., 3., 3., 3.,\n",
       "       3., 3., 3., 3., 3., 3., 3., 3., 3., 3., 3., 4., 4., 4., 4., 4., 4.,\n",
       "       4., 4., 4., 4., 4., 4., 4., 4., 4., 4., 4., 4., 4., 4., 4., 4., 4.,\n",
       "       4., 4., 4., 4., 4., 4., 4., 4., 4., 4., 4., 4., 4., 4., 4., 4., 4.,\n",
       "       4., 6., 6., 6., 6., 6., 6., 6., 6., 6., 6., 6., 6., 6., 6., 6., 6.,\n",
       "       6., 6., 6., 6., 6., 6., 6., 6., 6., 6., 6., 6., 6., 6., 6., 6., 6.,\n",
       "       6., 6., 6., 6., 6., 6., 6., 6., 6., 6., 6., 6., 6., 6., 6., 6., 6.,\n",
       "       6., 6., 6., 6., 6., 6., 6., 6., 6., 6., 6., 6., 6., 6., 6., 6., 6.,\n",
       "       6., 6., 6., 6., 6., 6., 6., 6., 6., 6., 6., 6., 6., 6., 6., 6., 6.,\n",
       "       6., 6., 6., 6., 6., 6., 6., 6., 6., 6., 8., 8., 8., 8., 8., 8., 8.,\n",
       "       8., 8., 8., 8., 8., 8., 8., 8., 8., 8., 8., 8., 8., 8., 8., 8., 8.,\n",
       "       8., 8., 8., 8., 8., 8., 8., 8., 8., 8., 8., 8., 9., 9., 9., 9., 9.,\n",
       "       9., 9., 9., 9., 9., 9., 9., 9., 9., 9., 9., 9., 9., 9., 9., 9., 9.,\n",
       "       9., 9., 9., 9., 9., 9., 9., 9., 9., 9., 9., 9., 9., 9., 9., 9., 9.,\n",
       "       9., 9., 9., 9., 9., 9., 9., 9., 9.])"
      ]
     },
     "execution_count": 6,
     "metadata": {},
     "output_type": "execute_result"
    }
   ],
   "source": [
    "labels"
   ]
  },
  {
   "cell_type": "code",
   "execution_count": 7,
   "metadata": {},
   "outputs": [
    {
     "data": {
      "text/plain": [
       "451"
      ]
     },
     "execution_count": 7,
     "metadata": {},
     "output_type": "execute_result"
    }
   ],
   "source": [
    "len(labels)"
   ]
  },
  {
   "cell_type": "code",
   "execution_count": 8,
   "metadata": {},
   "outputs": [
    {
     "data": {
      "text/plain": [
       "array([0., 1., 2., 3., 4., 5., 6., 7., 8., 9.])"
      ]
     },
     "execution_count": 8,
     "metadata": {},
     "output_type": "execute_result"
    }
   ],
   "source": [
    "np.unique(labels)"
   ]
  },
  {
   "cell_type": "code",
   "execution_count": 9,
   "metadata": {},
   "outputs": [
    {
     "data": {
      "text/plain": [
       "(451, 10)"
      ]
     },
     "execution_count": 9,
     "metadata": {},
     "output_type": "execute_result"
    }
   ],
   "source": [
    "from tensorflow.keras.utils import to_categorical\n",
    "\n",
    "y_data = to_categorical(labels, num_classes=len(actions))\n",
    "y_data.shape"
   ]
  },
  {
   "cell_type": "code",
   "execution_count": 10,
   "metadata": {},
   "outputs": [
    {
     "data": {
      "text/plain": [
       "array([[0., 0., 0., ..., 0., 0., 0.],\n",
       "       [0., 0., 0., ..., 0., 0., 0.],\n",
       "       [0., 0., 0., ..., 0., 0., 0.],\n",
       "       ...,\n",
       "       [0., 0., 0., ..., 0., 0., 1.],\n",
       "       [0., 0., 0., ..., 0., 0., 1.],\n",
       "       [0., 0., 0., ..., 0., 0., 1.]])"
      ]
     },
     "execution_count": 10,
     "metadata": {},
     "output_type": "execute_result"
    }
   ],
   "source": [
    "y_data"
   ]
  },
  {
   "cell_type": "code",
   "execution_count": 11,
   "metadata": {},
   "outputs": [
    {
     "name": "stdout",
     "output_type": "stream",
     "text": [
      "(360, 10, 55) (360, 10)\n",
      "(91, 10, 55) (91, 10)\n"
     ]
    }
   ],
   "source": [
    "from sklearn.model_selection import train_test_split\n",
    "\n",
    "x_data = x_data.astype(np.float32)\n",
    "y_data = y_data.astype(np.float32)\n",
    "\n",
    "x_train, x_val, y_train, y_val = train_test_split(x_data, y_data, test_size=0.2, random_state=2020)\n",
    "\n",
    "print(x_train.shape, y_train.shape)\n",
    "print(x_val.shape, y_val.shape)"
   ]
  },
  {
   "cell_type": "code",
   "execution_count": 12,
   "metadata": {},
   "outputs": [
    {
     "data": {
      "text/plain": [
       "(10, 55)"
      ]
     },
     "execution_count": 12,
     "metadata": {},
     "output_type": "execute_result"
    }
   ],
   "source": [
    "x_train.shape[1:3]"
   ]
  },
  {
   "cell_type": "code",
   "execution_count": 13,
   "metadata": {},
   "outputs": [],
   "source": [
    "np.random.seed(42)\n",
    "import tensorflow as tf\n",
    "tf.random.set_seed(42)"
   ]
  },
  {
   "cell_type": "code",
   "execution_count": 14,
   "metadata": {},
   "outputs": [],
   "source": [
    "# custom f1 score\n",
    "def metric_F1score(y_true,y_pred): \n",
    "    TP=tf.reduce_sum(y_true*tf.round(y_pred))\n",
    "    TN=tf.reduce_sum((1-y_true)*(1-tf.round(y_pred)))\n",
    "    FP=tf.reduce_sum((1-y_true)*tf.round(y_pred))\n",
    "    FN=tf.reduce_sum(y_true*(1-tf.round(y_pred)))\n",
    "    precision=TP/(TP+FP)\n",
    "    recall=TP/(TP+FN)\n",
    "    F1score=2*precision*recall/(precision+recall)\n",
    "    return F1score"
   ]
  },
  {
   "cell_type": "code",
   "execution_count": 15,
   "metadata": {},
   "outputs": [
    {
     "name": "stderr",
     "output_type": "stream",
     "text": [
      "/opt/anaconda3/envs/hi/lib/python3.10/site-packages/keras/src/layers/rnn/rnn.py:200: UserWarning: Do not pass an `input_shape`/`input_dim` argument to a layer. When using Sequential models, prefer using an `Input(shape)` object as the first layer in the model instead.\n",
      "  super().__init__(**kwargs)\n"
     ]
    },
    {
     "data": {
      "text/html": [
       "<pre style=\"white-space:pre;overflow-x:auto;line-height:normal;font-family:Menlo,'DejaVu Sans Mono',consolas,'Courier New',monospace\"><span style=\"font-weight: bold\">Model: \"sequential\"</span>\n",
       "</pre>\n"
      ],
      "text/plain": [
       "\u001b[1mModel: \"sequential\"\u001b[0m\n"
      ]
     },
     "metadata": {},
     "output_type": "display_data"
    },
    {
     "data": {
      "text/html": [
       "<pre style=\"white-space:pre;overflow-x:auto;line-height:normal;font-family:Menlo,'DejaVu Sans Mono',consolas,'Courier New',monospace\">┏━━━━━━━━━━━━━━━━━━━━━━━━━━━━━━━━━┳━━━━━━━━━━━━━━━━━━━━━━━━┳━━━━━━━━━━━━━━━┓\n",
       "┃<span style=\"font-weight: bold\"> Layer (type)                    </span>┃<span style=\"font-weight: bold\"> Output Shape           </span>┃<span style=\"font-weight: bold\">       Param # </span>┃\n",
       "┡━━━━━━━━━━━━━━━━━━━━━━━━━━━━━━━━━╇━━━━━━━━━━━━━━━━━━━━━━━━╇━━━━━━━━━━━━━━━┩\n",
       "│ lstm (<span style=\"color: #0087ff; text-decoration-color: #0087ff\">LSTM</span>)                     │ (<span style=\"color: #00d7ff; text-decoration-color: #00d7ff\">None</span>, <span style=\"color: #00af00; text-decoration-color: #00af00\">64</span>)             │        <span style=\"color: #00af00; text-decoration-color: #00af00\">30,720</span> │\n",
       "├─────────────────────────────────┼────────────────────────┼───────────────┤\n",
       "│ dropout (<span style=\"color: #0087ff; text-decoration-color: #0087ff\">Dropout</span>)               │ (<span style=\"color: #00d7ff; text-decoration-color: #00d7ff\">None</span>, <span style=\"color: #00af00; text-decoration-color: #00af00\">64</span>)             │             <span style=\"color: #00af00; text-decoration-color: #00af00\">0</span> │\n",
       "├─────────────────────────────────┼────────────────────────┼───────────────┤\n",
       "│ dense (<span style=\"color: #0087ff; text-decoration-color: #0087ff\">Dense</span>)                   │ (<span style=\"color: #00d7ff; text-decoration-color: #00d7ff\">None</span>, <span style=\"color: #00af00; text-decoration-color: #00af00\">32</span>)             │         <span style=\"color: #00af00; text-decoration-color: #00af00\">2,080</span> │\n",
       "├─────────────────────────────────┼────────────────────────┼───────────────┤\n",
       "│ dropout_1 (<span style=\"color: #0087ff; text-decoration-color: #0087ff\">Dropout</span>)             │ (<span style=\"color: #00d7ff; text-decoration-color: #00d7ff\">None</span>, <span style=\"color: #00af00; text-decoration-color: #00af00\">32</span>)             │             <span style=\"color: #00af00; text-decoration-color: #00af00\">0</span> │\n",
       "├─────────────────────────────────┼────────────────────────┼───────────────┤\n",
       "│ dense_1 (<span style=\"color: #0087ff; text-decoration-color: #0087ff\">Dense</span>)                 │ (<span style=\"color: #00d7ff; text-decoration-color: #00d7ff\">None</span>, <span style=\"color: #00af00; text-decoration-color: #00af00\">10</span>)             │           <span style=\"color: #00af00; text-decoration-color: #00af00\">330</span> │\n",
       "└─────────────────────────────────┴────────────────────────┴───────────────┘\n",
       "</pre>\n"
      ],
      "text/plain": [
       "┏━━━━━━━━━━━━━━━━━━━━━━━━━━━━━━━━━┳━━━━━━━━━━━━━━━━━━━━━━━━┳━━━━━━━━━━━━━━━┓\n",
       "┃\u001b[1m \u001b[0m\u001b[1mLayer (type)                   \u001b[0m\u001b[1m \u001b[0m┃\u001b[1m \u001b[0m\u001b[1mOutput Shape          \u001b[0m\u001b[1m \u001b[0m┃\u001b[1m \u001b[0m\u001b[1m      Param #\u001b[0m\u001b[1m \u001b[0m┃\n",
       "┡━━━━━━━━━━━━━━━━━━━━━━━━━━━━━━━━━╇━━━━━━━━━━━━━━━━━━━━━━━━╇━━━━━━━━━━━━━━━┩\n",
       "│ lstm (\u001b[38;5;33mLSTM\u001b[0m)                     │ (\u001b[38;5;45mNone\u001b[0m, \u001b[38;5;34m64\u001b[0m)             │        \u001b[38;5;34m30,720\u001b[0m │\n",
       "├─────────────────────────────────┼────────────────────────┼───────────────┤\n",
       "│ dropout (\u001b[38;5;33mDropout\u001b[0m)               │ (\u001b[38;5;45mNone\u001b[0m, \u001b[38;5;34m64\u001b[0m)             │             \u001b[38;5;34m0\u001b[0m │\n",
       "├─────────────────────────────────┼────────────────────────┼───────────────┤\n",
       "│ dense (\u001b[38;5;33mDense\u001b[0m)                   │ (\u001b[38;5;45mNone\u001b[0m, \u001b[38;5;34m32\u001b[0m)             │         \u001b[38;5;34m2,080\u001b[0m │\n",
       "├─────────────────────────────────┼────────────────────────┼───────────────┤\n",
       "│ dropout_1 (\u001b[38;5;33mDropout\u001b[0m)             │ (\u001b[38;5;45mNone\u001b[0m, \u001b[38;5;34m32\u001b[0m)             │             \u001b[38;5;34m0\u001b[0m │\n",
       "├─────────────────────────────────┼────────────────────────┼───────────────┤\n",
       "│ dense_1 (\u001b[38;5;33mDense\u001b[0m)                 │ (\u001b[38;5;45mNone\u001b[0m, \u001b[38;5;34m10\u001b[0m)             │           \u001b[38;5;34m330\u001b[0m │\n",
       "└─────────────────────────────────┴────────────────────────┴───────────────┘\n"
      ]
     },
     "metadata": {},
     "output_type": "display_data"
    },
    {
     "data": {
      "text/html": [
       "<pre style=\"white-space:pre;overflow-x:auto;line-height:normal;font-family:Menlo,'DejaVu Sans Mono',consolas,'Courier New',monospace\"><span style=\"font-weight: bold\"> Total params: </span><span style=\"color: #00af00; text-decoration-color: #00af00\">33,130</span> (129.41 KB)\n",
       "</pre>\n"
      ],
      "text/plain": [
       "\u001b[1m Total params: \u001b[0m\u001b[38;5;34m33,130\u001b[0m (129.41 KB)\n"
      ]
     },
     "metadata": {},
     "output_type": "display_data"
    },
    {
     "data": {
      "text/html": [
       "<pre style=\"white-space:pre;overflow-x:auto;line-height:normal;font-family:Menlo,'DejaVu Sans Mono',consolas,'Courier New',monospace\"><span style=\"font-weight: bold\"> Trainable params: </span><span style=\"color: #00af00; text-decoration-color: #00af00\">33,130</span> (129.41 KB)\n",
       "</pre>\n"
      ],
      "text/plain": [
       "\u001b[1m Trainable params: \u001b[0m\u001b[38;5;34m33,130\u001b[0m (129.41 KB)\n"
      ]
     },
     "metadata": {},
     "output_type": "display_data"
    },
    {
     "data": {
      "text/html": [
       "<pre style=\"white-space:pre;overflow-x:auto;line-height:normal;font-family:Menlo,'DejaVu Sans Mono',consolas,'Courier New',monospace\"><span style=\"font-weight: bold\"> Non-trainable params: </span><span style=\"color: #00af00; text-decoration-color: #00af00\">0</span> (0.00 B)\n",
       "</pre>\n"
      ],
      "text/plain": [
       "\u001b[1m Non-trainable params: \u001b[0m\u001b[38;5;34m0\u001b[0m (0.00 B)\n"
      ]
     },
     "metadata": {},
     "output_type": "display_data"
    }
   ],
   "source": [
    "from tensorflow.keras.models import Sequential\n",
    "from tensorflow.keras.layers import LSTM, Dense, Dropout\n",
    "import tensorflow.keras as keras\n",
    "\n",
    "model = Sequential([\n",
    "    LSTM(64, activation='relu', input_shape=x_train.shape[1:3], kernel_regularizer=keras.regularizers.l2(0.01)),\n",
    "    Dropout(0.3),\n",
    "    Dense(32, activation='relu', kernel_regularizer=keras.regularizers.l2(0.01)),\n",
    "    Dropout(0.3),\n",
    "    Dense(len(actions), activation='softmax', kernel_regularizer=keras.regularizers.l2(0.01))\n",
    "])\n",
    "\n",
    "model.compile(optimizer='adam', loss='categorical_crossentropy', metrics=['acc',metric_F1score])\n",
    "model.summary()"
   ]
  },
  {
   "cell_type": "code",
   "execution_count": 16,
   "metadata": {
    "scrolled": true
   },
   "outputs": [
    {
     "name": "stdout",
     "output_type": "stream",
     "text": [
      "Epoch 1/200\n",
      "\u001b[1m 1/12\u001b[0m \u001b[32m━\u001b[0m\u001b[37m━━━━━━━━━━━━━━━━━━━\u001b[0m \u001b[1m13s\u001b[0m 1s/step - acc: 0.1250 - loss: 41.5442 - metric_f1score: 0.1270\n",
      "Epoch 1: val_acc improved from -inf to 0.28571, saving model to models/multi_hand_gesture_classifier.h5\n"
     ]
    },
    {
     "name": "stderr",
     "output_type": "stream",
     "text": [
      "WARNING:absl:You are saving your model as an HDF5 file via `model.save()` or `keras.saving.save_model(model)`. This file format is considered legacy. We recommend using instead the native Keras format, e.g. `model.save('my_model.keras')` or `keras.saving.save_model(model, 'my_model.keras')`. \n"
     ]
    },
    {
     "name": "stdout",
     "output_type": "stream",
     "text": [
      "\u001b[1m12/12\u001b[0m \u001b[32m━━━━━━━━━━━━━━━━━━━━\u001b[0m\u001b[37m\u001b[0m \u001b[1m2s\u001b[0m 38ms/step - acc: 0.1451 - loss: 32.2005 - metric_f1score: nan - val_acc: 0.2857 - val_loss: 9.4083 - val_metric_f1score: 0.2508 - learning_rate: 0.0010\n",
      "Epoch 2/200\n",
      "\u001b[1m 1/12\u001b[0m \u001b[32m━\u001b[0m\u001b[37m━━━━━━━━━━━━━━━━━━━\u001b[0m \u001b[1m0s\u001b[0m 17ms/step - acc: 0.1250 - loss: 8.8131 - metric_f1score: 0.1111\n",
      "Epoch 2: val_acc improved from 0.28571 to 0.53846, saving model to models/multi_hand_gesture_classifier.h5\n"
     ]
    },
    {
     "name": "stderr",
     "output_type": "stream",
     "text": [
      "/opt/anaconda3/envs/hi/lib/python3.10/site-packages/keras/src/callbacks/callback_list.py:145: UserWarning: Learning rate reduction is conditioned on metric `val_metric_F1score` which is not available. Available metrics are: acc,loss,metric_f1score,val_acc,val_loss,val_metric_f1score,learning_rate.\n",
      "  callback.on_epoch_end(epoch, logs)\n",
      "/opt/anaconda3/envs/hi/lib/python3.10/site-packages/keras/src/callbacks/early_stopping.py:153: UserWarning: Early stopping conditioned on metric `val_metric_F1score` which is not available. Available metrics are: acc,loss,metric_f1score,val_acc,val_loss,val_metric_f1score,learning_rate\n",
      "  current = self.get_monitor_value(logs)\n",
      "WARNING:absl:You are saving your model as an HDF5 file via `model.save()` or `keras.saving.save_model(model)`. This file format is considered legacy. We recommend using instead the native Keras format, e.g. `model.save('my_model.keras')` or `keras.saving.save_model(model, 'my_model.keras')`. \n"
     ]
    },
    {
     "name": "stdout",
     "output_type": "stream",
     "text": [
      "\u001b[1m12/12\u001b[0m \u001b[32m━━━━━━━━━━━━━━━━━━━━\u001b[0m\u001b[37m\u001b[0m \u001b[1m0s\u001b[0m 9ms/step - acc: 0.1642 - loss: 11.3929 - metric_f1score: 0.1472 - val_acc: 0.5385 - val_loss: 4.7527 - val_metric_f1score: 0.4294 - learning_rate: 0.0010\n",
      "Epoch 3/200\n",
      "\u001b[1m 1/12\u001b[0m \u001b[32m━\u001b[0m\u001b[37m━━━━━━━━━━━━━━━━━━━\u001b[0m \u001b[1m0s\u001b[0m 16ms/step - acc: 0.2500 - loss: 7.4836 - metric_f1score: 0.2642\n",
      "Epoch 3: val_acc improved from 0.53846 to 0.67033, saving model to models/multi_hand_gesture_classifier.h5\n"
     ]
    },
    {
     "name": "stderr",
     "output_type": "stream",
     "text": [
      "WARNING:absl:You are saving your model as an HDF5 file via `model.save()` or `keras.saving.save_model(model)`. This file format is considered legacy. We recommend using instead the native Keras format, e.g. `model.save('my_model.keras')` or `keras.saving.save_model(model, 'my_model.keras')`. \n"
     ]
    },
    {
     "name": "stdout",
     "output_type": "stream",
     "text": [
      "\u001b[1m12/12\u001b[0m \u001b[32m━━━━━━━━━━━━━━━━━━━━\u001b[0m\u001b[37m\u001b[0m \u001b[1m0s\u001b[0m 8ms/step - acc: 0.2992 - loss: 6.7149 - metric_f1score: 0.2885 - val_acc: 0.6703 - val_loss: 2.3822 - val_metric_f1score: 0.5654 - learning_rate: 0.0010\n",
      "Epoch 4/200\n",
      "\u001b[1m 1/12\u001b[0m \u001b[32m━\u001b[0m\u001b[37m━━━━━━━━━━━━━━━━━━━\u001b[0m \u001b[1m0s\u001b[0m 15ms/step - acc: 0.5000 - loss: 4.0692 - metric_f1score: 0.4615\n",
      "Epoch 4: val_acc improved from 0.67033 to 0.73626, saving model to models/multi_hand_gesture_classifier.h5\n"
     ]
    },
    {
     "name": "stderr",
     "output_type": "stream",
     "text": [
      "WARNING:absl:You are saving your model as an HDF5 file via `model.save()` or `keras.saving.save_model(model)`. This file format is considered legacy. We recommend using instead the native Keras format, e.g. `model.save('my_model.keras')` or `keras.saving.save_model(model, 'my_model.keras')`. \n"
     ]
    },
    {
     "name": "stdout",
     "output_type": "stream",
     "text": [
      "\u001b[1m12/12\u001b[0m \u001b[32m━━━━━━━━━━━━━━━━━━━━\u001b[0m\u001b[37m\u001b[0m \u001b[1m0s\u001b[0m 7ms/step - acc: 0.4017 - loss: 4.3149 - metric_f1score: 0.3686 - val_acc: 0.7363 - val_loss: 2.1487 - val_metric_f1score: 0.6110 - learning_rate: 0.0010\n",
      "Epoch 5/200\n",
      "\u001b[1m 1/12\u001b[0m \u001b[32m━\u001b[0m\u001b[37m━━━━━━━━━━━━━━━━━━━\u001b[0m \u001b[1m0s\u001b[0m 20ms/step - acc: 0.4375 - loss: 3.8420 - metric_f1score: 0.4074\n",
      "Epoch 5: val_acc improved from 0.73626 to 0.80220, saving model to models/multi_hand_gesture_classifier.h5\n"
     ]
    },
    {
     "name": "stderr",
     "output_type": "stream",
     "text": [
      "WARNING:absl:You are saving your model as an HDF5 file via `model.save()` or `keras.saving.save_model(model)`. This file format is considered legacy. We recommend using instead the native Keras format, e.g. `model.save('my_model.keras')` or `keras.saving.save_model(model, 'my_model.keras')`. \n"
     ]
    },
    {
     "name": "stdout",
     "output_type": "stream",
     "text": [
      "\u001b[1m12/12\u001b[0m \u001b[32m━━━━━━━━━━━━━━━━━━━━\u001b[0m\u001b[37m\u001b[0m \u001b[1m0s\u001b[0m 7ms/step - acc: 0.4228 - loss: 4.0738 - metric_f1score: 0.4060 - val_acc: 0.8022 - val_loss: 1.9371 - val_metric_f1score: 0.7052 - learning_rate: 0.0010\n",
      "Epoch 6/200\n",
      "\u001b[1m 1/12\u001b[0m \u001b[32m━\u001b[0m\u001b[37m━━━━━━━━━━━━━━━━━━━\u001b[0m \u001b[1m0s\u001b[0m 16ms/step - acc: 0.4688 - loss: 3.4498 - metric_f1score: 0.4727\n",
      "Epoch 6: val_acc improved from 0.80220 to 0.91209, saving model to models/multi_hand_gesture_classifier.h5\n"
     ]
    },
    {
     "name": "stderr",
     "output_type": "stream",
     "text": [
      "WARNING:absl:You are saving your model as an HDF5 file via `model.save()` or `keras.saving.save_model(model)`. This file format is considered legacy. We recommend using instead the native Keras format, e.g. `model.save('my_model.keras')` or `keras.saving.save_model(model, 'my_model.keras')`. \n"
     ]
    },
    {
     "name": "stdout",
     "output_type": "stream",
     "text": [
      "\u001b[1m12/12\u001b[0m \u001b[32m━━━━━━━━━━━━━━━━━━━━\u001b[0m\u001b[37m\u001b[0m \u001b[1m0s\u001b[0m 7ms/step - acc: 0.5099 - loss: 3.2285 - metric_f1score: 0.4952 - val_acc: 0.9121 - val_loss: 1.6604 - val_metric_f1score: 0.8383 - learning_rate: 0.0010\n",
      "Epoch 7/200\n",
      "\u001b[1m 1/12\u001b[0m \u001b[32m━\u001b[0m\u001b[37m━━━━━━━━━━━━━━━━━━━\u001b[0m \u001b[1m0s\u001b[0m 17ms/step - acc: 0.5000 - loss: 3.2558 - metric_f1score: 0.4314\n",
      "Epoch 7: val_acc improved from 0.91209 to 0.92308, saving model to models/multi_hand_gesture_classifier.h5\n"
     ]
    },
    {
     "name": "stderr",
     "output_type": "stream",
     "text": [
      "WARNING:absl:You are saving your model as an HDF5 file via `model.save()` or `keras.saving.save_model(model)`. This file format is considered legacy. We recommend using instead the native Keras format, e.g. `model.save('my_model.keras')` or `keras.saving.save_model(model, 'my_model.keras')`. \n"
     ]
    },
    {
     "name": "stdout",
     "output_type": "stream",
     "text": [
      "\u001b[1m12/12\u001b[0m \u001b[32m━━━━━━━━━━━━━━━━━━━━\u001b[0m\u001b[37m\u001b[0m \u001b[1m0s\u001b[0m 9ms/step - acc: 0.5108 - loss: 3.2276 - metric_f1score: 0.4904 - val_acc: 0.9231 - val_loss: 1.5928 - val_metric_f1score: 0.8660 - learning_rate: 0.0010\n",
      "Epoch 8/200\n",
      "\u001b[1m 1/12\u001b[0m \u001b[32m━\u001b[0m\u001b[37m━━━━━━━━━━━━━━━━━━━\u001b[0m \u001b[1m0s\u001b[0m 15ms/step - acc: 0.5625 - loss: 3.1175 - metric_f1score: 0.5455\n",
      "Epoch 8: val_acc improved from 0.92308 to 0.93407, saving model to models/multi_hand_gesture_classifier.h5\n"
     ]
    },
    {
     "name": "stderr",
     "output_type": "stream",
     "text": [
      "WARNING:absl:You are saving your model as an HDF5 file via `model.save()` or `keras.saving.save_model(model)`. This file format is considered legacy. We recommend using instead the native Keras format, e.g. `model.save('my_model.keras')` or `keras.saving.save_model(model, 'my_model.keras')`. \n"
     ]
    },
    {
     "name": "stdout",
     "output_type": "stream",
     "text": [
      "\u001b[1m12/12\u001b[0m \u001b[32m━━━━━━━━━━━━━━━━━━━━\u001b[0m\u001b[37m\u001b[0m \u001b[1m0s\u001b[0m 7ms/step - acc: 0.6072 - loss: 2.6383 - metric_f1score: 0.5768 - val_acc: 0.9341 - val_loss: 1.4348 - val_metric_f1score: 0.9384 - learning_rate: 0.0010\n",
      "Epoch 9/200\n",
      "\u001b[1m 1/12\u001b[0m \u001b[32m━\u001b[0m\u001b[37m━━━━━━━━━━━━━━━━━━━\u001b[0m \u001b[1m0s\u001b[0m 64ms/step - acc: 0.5625 - loss: 3.0927 - metric_f1score: 0.5091\n",
      "Epoch 9: val_acc improved from 0.93407 to 0.95604, saving model to models/multi_hand_gesture_classifier.h5\n"
     ]
    },
    {
     "name": "stderr",
     "output_type": "stream",
     "text": [
      "WARNING:absl:You are saving your model as an HDF5 file via `model.save()` or `keras.saving.save_model(model)`. This file format is considered legacy. We recommend using instead the native Keras format, e.g. `model.save('my_model.keras')` or `keras.saving.save_model(model, 'my_model.keras')`. \n"
     ]
    },
    {
     "name": "stdout",
     "output_type": "stream",
     "text": [
      "\u001b[1m12/12\u001b[0m \u001b[32m━━━━━━━━━━━━━━━━━━━━\u001b[0m\u001b[37m\u001b[0m \u001b[1m0s\u001b[0m 7ms/step - acc: 0.5966 - loss: 2.5681 - metric_f1score: 0.5973 - val_acc: 0.9560 - val_loss: 1.3643 - val_metric_f1score: 0.9498 - learning_rate: 0.0010\n",
      "Epoch 10/200\n",
      "\u001b[1m 1/12\u001b[0m \u001b[32m━\u001b[0m\u001b[37m━━━━━━━━━━━━━━━━━━━\u001b[0m \u001b[1m0s\u001b[0m 15ms/step - acc: 0.6250 - loss: 2.3073 - metric_f1score: 0.6102\n",
      "Epoch 10: val_acc did not improve from 0.95604\n",
      "\u001b[1m12/12\u001b[0m \u001b[32m━━━━━━━━━━━━━━━━━━━━\u001b[0m\u001b[37m\u001b[0m \u001b[1m0s\u001b[0m 9ms/step - acc: 0.6634 - loss: 2.1962 - metric_f1score: 0.6463 - val_acc: 0.9560 - val_loss: 1.3141 - val_metric_f1score: 0.9449 - learning_rate: 0.0010\n",
      "Epoch 11/200\n",
      "\u001b[1m 1/12\u001b[0m \u001b[32m━\u001b[0m\u001b[37m━━━━━━━━━━━━━━━━━━━\u001b[0m \u001b[1m0s\u001b[0m 19ms/step - acc: 0.7188 - loss: 1.8688 - metric_f1score: 0.6786\n",
      "Epoch 11: val_acc improved from 0.95604 to 0.96703, saving model to models/multi_hand_gesture_classifier.h5\n"
     ]
    },
    {
     "name": "stderr",
     "output_type": "stream",
     "text": [
      "WARNING:absl:You are saving your model as an HDF5 file via `model.save()` or `keras.saving.save_model(model)`. This file format is considered legacy. We recommend using instead the native Keras format, e.g. `model.save('my_model.keras')` or `keras.saving.save_model(model, 'my_model.keras')`. \n"
     ]
    },
    {
     "name": "stdout",
     "output_type": "stream",
     "text": [
      "\u001b[1m12/12\u001b[0m \u001b[32m━━━━━━━━━━━━━━━━━━━━\u001b[0m\u001b[37m\u001b[0m \u001b[1m0s\u001b[0m 9ms/step - acc: 0.7218 - loss: 2.0371 - metric_f1score: 0.7028 - val_acc: 0.9670 - val_loss: 1.1917 - val_metric_f1score: 0.9600 - learning_rate: 0.0010\n",
      "Epoch 12/200\n",
      "\u001b[1m 1/12\u001b[0m \u001b[32m━\u001b[0m\u001b[37m━━━━━━━━━━━━━━━━━━━\u001b[0m \u001b[1m0s\u001b[0m 21ms/step - acc: 0.7812 - loss: 1.7191 - metric_f1score: 0.8000\n",
      "Epoch 12: val_acc did not improve from 0.96703\n",
      "\u001b[1m12/12\u001b[0m \u001b[32m━━━━━━━━━━━━━━━━━━━━\u001b[0m\u001b[37m\u001b[0m \u001b[1m0s\u001b[0m 7ms/step - acc: 0.7127 - loss: 1.8893 - metric_f1score: 0.7145 - val_acc: 0.9670 - val_loss: 1.1332 - val_metric_f1score: 0.9766 - learning_rate: 0.0010\n",
      "Epoch 13/200\n",
      "\u001b[1m11/12\u001b[0m \u001b[32m━━━━━━━━━━━━━━━━━━\u001b[0m\u001b[37m━━\u001b[0m \u001b[1m0s\u001b[0m 9ms/step - acc: 0.7759 - loss: 1.8735 - metric_f1score: 0.7796 \n",
      "Epoch 13: val_acc did not improve from 0.96703\n",
      "\u001b[1m12/12\u001b[0m \u001b[32m━━━━━━━━━━━━━━━━━━━━\u001b[0m\u001b[37m\u001b[0m \u001b[1m0s\u001b[0m 13ms/step - acc: 0.7783 - loss: 1.8543 - metric_f1score: 0.7814 - val_acc: 0.9670 - val_loss: 1.1173 - val_metric_f1score: 0.9674 - learning_rate: 0.0010\n",
      "Epoch 14/200\n",
      "\u001b[1m 1/12\u001b[0m \u001b[32m━\u001b[0m\u001b[37m━━━━━━━━━━━━━━━━━━━\u001b[0m \u001b[1m0s\u001b[0m 13ms/step - acc: 0.7188 - loss: 2.0509 - metric_f1score: 0.7541\n",
      "Epoch 14: val_acc did not improve from 0.96703\n",
      "\u001b[1m12/12\u001b[0m \u001b[32m━━━━━━━━━━━━━━━━━━━━\u001b[0m\u001b[37m\u001b[0m \u001b[1m0s\u001b[0m 6ms/step - acc: 0.7288 - loss: 1.8725 - metric_f1score: 0.7461 - val_acc: 0.9670 - val_loss: 1.0617 - val_metric_f1score: 0.9737 - learning_rate: 0.0010\n",
      "Epoch 15/200\n",
      "\u001b[1m 1/12\u001b[0m \u001b[32m━\u001b[0m\u001b[37m━━━━━━━━━━━━━━━━━━━\u001b[0m \u001b[1m0s\u001b[0m 16ms/step - acc: 0.6875 - loss: 1.8698 - metric_f1score: 0.7458\n",
      "Epoch 15: val_acc improved from 0.96703 to 0.97802, saving model to models/multi_hand_gesture_classifier.h5\n"
     ]
    },
    {
     "name": "stderr",
     "output_type": "stream",
     "text": [
      "WARNING:absl:You are saving your model as an HDF5 file via `model.save()` or `keras.saving.save_model(model)`. This file format is considered legacy. We recommend using instead the native Keras format, e.g. `model.save('my_model.keras')` or `keras.saving.save_model(model, 'my_model.keras')`. \n"
     ]
    },
    {
     "name": "stdout",
     "output_type": "stream",
     "text": [
      "\u001b[1m12/12\u001b[0m \u001b[32m━━━━━━━━━━━━━━━━━━━━\u001b[0m\u001b[37m\u001b[0m \u001b[1m0s\u001b[0m 8ms/step - acc: 0.7568 - loss: 1.6674 - metric_f1score: 0.7877 - val_acc: 0.9780 - val_loss: 1.0196 - val_metric_f1score: 0.9843 - learning_rate: 0.0010\n",
      "Epoch 16/200\n",
      "\u001b[1m 1/12\u001b[0m \u001b[32m━\u001b[0m\u001b[37m━━━━━━━━━━━━━━━━━━━\u001b[0m \u001b[1m0s\u001b[0m 16ms/step - acc: 0.8125 - loss: 1.2925 - metric_f1score: 0.8525\n",
      "Epoch 16: val_acc did not improve from 0.97802\n",
      "\u001b[1m12/12\u001b[0m \u001b[32m━━━━━━━━━━━━━━━━━━━━\u001b[0m\u001b[37m\u001b[0m \u001b[1m0s\u001b[0m 7ms/step - acc: 0.8016 - loss: 1.5214 - metric_f1score: 0.7992 - val_acc: 0.9670 - val_loss: 1.0250 - val_metric_f1score: 0.9688 - learning_rate: 0.0010\n",
      "Epoch 17/200\n",
      "\u001b[1m 1/12\u001b[0m \u001b[32m━\u001b[0m\u001b[37m━━━━━━━━━━━━━━━━━━━\u001b[0m \u001b[1m0s\u001b[0m 15ms/step - acc: 0.8750 - loss: 1.4094 - metric_f1score: 0.9180\n",
      "Epoch 17: val_acc did not improve from 0.97802\n",
      "\u001b[1m12/12\u001b[0m \u001b[32m━━━━━━━━━━━━━━━━━━━━\u001b[0m\u001b[37m\u001b[0m \u001b[1m0s\u001b[0m 6ms/step - acc: 0.8552 - loss: 1.5053 - metric_f1score: 0.8698 - val_acc: 0.9670 - val_loss: 1.0109 - val_metric_f1score: 0.9737 - learning_rate: 0.0010\n",
      "Epoch 18/200\n",
      "\u001b[1m 1/12\u001b[0m \u001b[32m━\u001b[0m\u001b[37m━━━━━━━━━━━━━━━━━━━\u001b[0m \u001b[1m0s\u001b[0m 15ms/step - acc: 0.9062 - loss: 1.2279 - metric_f1score: 0.9180\n",
      "Epoch 18: val_acc did not improve from 0.97802\n",
      "\u001b[1m12/12\u001b[0m \u001b[32m━━━━━━━━━━━━━━━━━━━━\u001b[0m\u001b[37m\u001b[0m \u001b[1m0s\u001b[0m 7ms/step - acc: 0.8921 - loss: 1.3573 - metric_f1score: 0.8846 - val_acc: 0.9780 - val_loss: 0.9452 - val_metric_f1score: 0.9843 - learning_rate: 0.0010\n",
      "Epoch 19/200\n",
      "\u001b[1m 1/12\u001b[0m \u001b[32m━\u001b[0m\u001b[37m━━━━━━━━━━━━━━━━━━━\u001b[0m \u001b[1m0s\u001b[0m 19ms/step - acc: 0.9375 - loss: 1.0713 - metric_f1score: 0.9355\n",
      "Epoch 19: val_acc improved from 0.97802 to 0.98901, saving model to models/multi_hand_gesture_classifier.h5\n"
     ]
    },
    {
     "name": "stderr",
     "output_type": "stream",
     "text": [
      "WARNING:absl:You are saving your model as an HDF5 file via `model.save()` or `keras.saving.save_model(model)`. This file format is considered legacy. We recommend using instead the native Keras format, e.g. `model.save('my_model.keras')` or `keras.saving.save_model(model, 'my_model.keras')`. \n"
     ]
    },
    {
     "name": "stdout",
     "output_type": "stream",
     "text": [
      "\u001b[1m12/12\u001b[0m \u001b[32m━━━━━━━━━━━━━━━━━━━━\u001b[0m\u001b[37m\u001b[0m \u001b[1m0s\u001b[0m 8ms/step - acc: 0.8538 - loss: 1.4049 - metric_f1score: 0.8539 - val_acc: 0.9890 - val_loss: 0.9075 - val_metric_f1score: 0.9894 - learning_rate: 0.0010\n",
      "Epoch 20/200\n",
      "\u001b[1m 1/12\u001b[0m \u001b[32m━\u001b[0m\u001b[37m━━━━━━━━━━━━━━━━━━━\u001b[0m \u001b[1m0s\u001b[0m 18ms/step - acc: 0.8750 - loss: 1.1512 - metric_f1score: 0.8852\n",
      "Epoch 20: val_acc did not improve from 0.98901\n",
      "\u001b[1m12/12\u001b[0m \u001b[32m━━━━━━━━━━━━━━━━━━━━\u001b[0m\u001b[37m\u001b[0m \u001b[1m0s\u001b[0m 6ms/step - acc: 0.8656 - loss: 1.2713 - metric_f1score: 0.8740 - val_acc: 0.9780 - val_loss: 0.9054 - val_metric_f1score: 0.9894 - learning_rate: 0.0010\n",
      "Epoch 21/200\n",
      "\u001b[1m 1/12\u001b[0m \u001b[32m━\u001b[0m\u001b[37m━━━━━━━━━━━━━━━━━━━\u001b[0m \u001b[1m0s\u001b[0m 14ms/step - acc: 0.9062 - loss: 1.1095 - metric_f1score: 0.9000\n",
      "Epoch 21: val_acc did not improve from 0.98901\n",
      "\u001b[1m12/12\u001b[0m \u001b[32m━━━━━━━━━━━━━━━━━━━━\u001b[0m\u001b[37m\u001b[0m \u001b[1m0s\u001b[0m 7ms/step - acc: 0.8721 - loss: 1.2814 - metric_f1score: 0.8837 - val_acc: 0.9780 - val_loss: 0.9094 - val_metric_f1score: 0.9894 - learning_rate: 0.0010\n",
      "Epoch 22/200\n",
      "\u001b[1m 1/12\u001b[0m \u001b[32m━\u001b[0m\u001b[37m━━━━━━━━━━━━━━━━━━━\u001b[0m \u001b[1m0s\u001b[0m 16ms/step - acc: 0.8125 - loss: 1.4291 - metric_f1score: 0.8136\n",
      "Epoch 22: val_acc did not improve from 0.98901\n",
      "\u001b[1m12/12\u001b[0m \u001b[32m━━━━━━━━━━━━━━━━━━━━\u001b[0m\u001b[37m\u001b[0m \u001b[1m0s\u001b[0m 7ms/step - acc: 0.8776 - loss: 1.2252 - metric_f1score: 0.8818 - val_acc: 0.9780 - val_loss: 0.8851 - val_metric_f1score: 0.9894 - learning_rate: 0.0010\n",
      "Epoch 23/200\n",
      "\u001b[1m 1/12\u001b[0m \u001b[32m━\u001b[0m\u001b[37m━━━━━━━━━━━━━━━━━━━\u001b[0m \u001b[1m0s\u001b[0m 16ms/step - acc: 0.8438 - loss: 1.2591 - metric_f1score: 0.8852\n",
      "Epoch 23: val_acc did not improve from 0.98901\n",
      "\u001b[1m12/12\u001b[0m \u001b[32m━━━━━━━━━━━━━━━━━━━━\u001b[0m\u001b[37m\u001b[0m \u001b[1m0s\u001b[0m 7ms/step - acc: 0.8734 - loss: 1.1822 - metric_f1score: 0.8871 - val_acc: 0.9780 - val_loss: 0.8838 - val_metric_f1score: 0.9843 - learning_rate: 0.0010\n",
      "Epoch 24/200\n",
      "\u001b[1m 1/12\u001b[0m \u001b[32m━\u001b[0m\u001b[37m━━━━━━━━━━━━━━━━━━━\u001b[0m \u001b[1m0s\u001b[0m 17ms/step - acc: 0.8750 - loss: 1.4079 - metric_f1score: 0.8710\n",
      "Epoch 24: val_acc did not improve from 0.98901\n",
      "\u001b[1m12/12\u001b[0m \u001b[32m━━━━━━━━━━━━━━━━━━━━\u001b[0m\u001b[37m\u001b[0m \u001b[1m0s\u001b[0m 7ms/step - acc: 0.8844 - loss: 1.2330 - metric_f1score: 0.8910 - val_acc: 0.9780 - val_loss: 0.8948 - val_metric_f1score: 0.9843 - learning_rate: 0.0010\n",
      "Epoch 25/200\n",
      "\u001b[1m 1/12\u001b[0m \u001b[32m━\u001b[0m\u001b[37m━━━━━━━━━━━━━━━━━━━\u001b[0m \u001b[1m0s\u001b[0m 17ms/step - acc: 0.8438 - loss: 1.2706 - metric_f1score: 0.8438\n",
      "Epoch 25: val_acc did not improve from 0.98901\n",
      "\u001b[1m12/12\u001b[0m \u001b[32m━━━━━━━━━━━━━━━━━━━━\u001b[0m\u001b[37m\u001b[0m \u001b[1m0s\u001b[0m 7ms/step - acc: 0.8766 - loss: 1.1866 - metric_f1score: 0.8855 - val_acc: 0.9780 - val_loss: 0.8617 - val_metric_f1score: 0.9843 - learning_rate: 0.0010\n",
      "Epoch 26/200\n",
      "\u001b[1m 1/12\u001b[0m \u001b[32m━\u001b[0m\u001b[37m━━━━━━━━━━━━━━━━━━━\u001b[0m \u001b[1m0s\u001b[0m 13ms/step - acc: 0.9062 - loss: 1.0645 - metric_f1score: 0.9355\n",
      "Epoch 26: val_acc did not improve from 0.98901\n",
      "\u001b[1m12/12\u001b[0m \u001b[32m━━━━━━━━━━━━━━━━━━━━\u001b[0m\u001b[37m\u001b[0m \u001b[1m0s\u001b[0m 7ms/step - acc: 0.9084 - loss: 1.1209 - metric_f1score: 0.9060 - val_acc: 0.9780 - val_loss: 0.8436 - val_metric_f1score: 0.9843 - learning_rate: 0.0010\n",
      "Epoch 27/200\n",
      "\u001b[1m 1/12\u001b[0m \u001b[32m━\u001b[0m\u001b[37m━━━━━━━━━━━━━━━━━━━\u001b[0m \u001b[1m0s\u001b[0m 20ms/step - acc: 0.8438 - loss: 1.2770 - metric_f1score: 0.8710\n",
      "Epoch 27: val_acc did not improve from 0.98901\n",
      "\u001b[1m12/12\u001b[0m \u001b[32m━━━━━━━━━━━━━━━━━━━━\u001b[0m\u001b[37m\u001b[0m \u001b[1m0s\u001b[0m 7ms/step - acc: 0.8908 - loss: 1.2149 - metric_f1score: 0.9022 - val_acc: 0.9890 - val_loss: 0.8120 - val_metric_f1score: 0.9947 - learning_rate: 0.0010\n",
      "Epoch 28/200\n",
      "\u001b[1m 1/12\u001b[0m \u001b[32m━\u001b[0m\u001b[37m━━━━━━━━━━━━━━━━━━━\u001b[0m \u001b[1m0s\u001b[0m 17ms/step - acc: 0.8438 - loss: 1.3410 - metric_f1score: 0.8571\n",
      "Epoch 28: val_acc did not improve from 0.98901\n",
      "\u001b[1m12/12\u001b[0m \u001b[32m━━━━━━━━━━━━━━━━━━━━\u001b[0m\u001b[37m\u001b[0m \u001b[1m0s\u001b[0m 7ms/step - acc: 0.9011 - loss: 1.0892 - metric_f1score: 0.9059 - val_acc: 0.9780 - val_loss: 0.8286 - val_metric_f1score: 0.9792 - learning_rate: 0.0010\n",
      "Epoch 29/200\n",
      "\u001b[1m 1/12\u001b[0m \u001b[32m━\u001b[0m\u001b[37m━━━━━━━━━━━━━━━━━━━\u001b[0m \u001b[1m0s\u001b[0m 16ms/step - acc: 0.8750 - loss: 1.0638 - metric_f1score: 0.8750\n",
      "Epoch 29: val_acc did not improve from 0.98901\n",
      "\u001b[1m12/12\u001b[0m \u001b[32m━━━━━━━━━━━━━━━━━━━━\u001b[0m\u001b[37m\u001b[0m \u001b[1m0s\u001b[0m 6ms/step - acc: 0.8994 - loss: 1.0547 - metric_f1score: 0.9091 - val_acc: 0.9780 - val_loss: 0.8112 - val_metric_f1score: 0.9843 - learning_rate: 0.0010\n",
      "Epoch 30/200\n",
      "\u001b[1m 1/12\u001b[0m \u001b[32m━\u001b[0m\u001b[37m━━━━━━━━━━━━━━━━━━━\u001b[0m \u001b[1m0s\u001b[0m 14ms/step - acc: 0.9375 - loss: 0.9437 - metric_f1score: 0.9524\n",
      "Epoch 30: val_acc did not improve from 0.98901\n",
      "\u001b[1m12/12\u001b[0m \u001b[32m━━━━━━━━━━━━━━━━━━━━\u001b[0m\u001b[37m\u001b[0m \u001b[1m0s\u001b[0m 7ms/step - acc: 0.9245 - loss: 0.9908 - metric_f1score: 0.9260 - val_acc: 0.9890 - val_loss: 0.8114 - val_metric_f1score: 0.9896 - learning_rate: 0.0010\n",
      "Epoch 31/200\n",
      "\u001b[1m 1/12\u001b[0m \u001b[32m━\u001b[0m\u001b[37m━━━━━━━━━━━━━━━━━━━\u001b[0m \u001b[1m0s\u001b[0m 16ms/step - acc: 0.8438 - loss: 1.3841 - metric_f1score: 0.8065\n",
      "Epoch 31: val_acc did not improve from 0.98901\n",
      "\u001b[1m12/12\u001b[0m \u001b[32m━━━━━━━━━━━━━━━━━━━━\u001b[0m\u001b[37m\u001b[0m \u001b[1m0s\u001b[0m 7ms/step - acc: 0.9058 - loss: 1.1362 - metric_f1score: 0.8967 - val_acc: 0.9890 - val_loss: 0.7786 - val_metric_f1score: 0.9896 - learning_rate: 0.0010\n",
      "Epoch 32/200\n",
      "\u001b[1m 1/12\u001b[0m \u001b[32m━\u001b[0m\u001b[37m━━━━━━━━━━━━━━━━━━━\u001b[0m \u001b[1m0s\u001b[0m 72ms/step - acc: 1.0000 - loss: 0.8111 - metric_f1score: 1.0000\n",
      "Epoch 32: val_acc did not improve from 0.98901\n",
      "\u001b[1m12/12\u001b[0m \u001b[32m━━━━━━━━━━━━━━━━━━━━\u001b[0m\u001b[37m\u001b[0m \u001b[1m0s\u001b[0m 7ms/step - acc: 0.9461 - loss: 0.9584 - metric_f1score: 0.9421 - val_acc: 0.9890 - val_loss: 0.7627 - val_metric_f1score: 0.9947 - learning_rate: 0.0010\n",
      "Epoch 33/200\n",
      "\u001b[1m 1/12\u001b[0m \u001b[32m━\u001b[0m\u001b[37m━━━━━━━━━━━━━━━━━━━\u001b[0m \u001b[1m0s\u001b[0m 15ms/step - acc: 0.9688 - loss: 0.8963 - metric_f1score: 0.9841\n",
      "Epoch 33: val_acc did not improve from 0.98901\n",
      "\u001b[1m12/12\u001b[0m \u001b[32m━━━━━━━━━━━━━━━━━━━━\u001b[0m\u001b[37m\u001b[0m \u001b[1m0s\u001b[0m 6ms/step - acc: 0.9425 - loss: 0.9175 - metric_f1score: 0.9401 - val_acc: 0.9890 - val_loss: 0.7604 - val_metric_f1score: 0.9947 - learning_rate: 0.0010\n",
      "Epoch 34/200\n",
      "\u001b[1m 1/12\u001b[0m \u001b[32m━\u001b[0m\u001b[37m━━━━━━━━━━━━━━━━━━━\u001b[0m \u001b[1m0s\u001b[0m 14ms/step - acc: 0.9375 - loss: 0.8356 - metric_f1score: 0.9375\n",
      "Epoch 34: val_acc did not improve from 0.98901\n",
      "\u001b[1m12/12\u001b[0m \u001b[32m━━━━━━━━━━━━━━━━━━━━\u001b[0m\u001b[37m\u001b[0m \u001b[1m0s\u001b[0m 7ms/step - acc: 0.9524 - loss: 0.8649 - metric_f1score: 0.9527 - val_acc: 0.9670 - val_loss: 0.7734 - val_metric_f1score: 0.9737 - learning_rate: 0.0010\n",
      "Epoch 35/200\n",
      "\u001b[1m 1/12\u001b[0m \u001b[32m━\u001b[0m\u001b[37m━━━━━━━━━━━━━━━━━━━\u001b[0m \u001b[1m0s\u001b[0m 16ms/step - acc: 0.9375 - loss: 0.8498 - metric_f1score: 0.9524\n",
      "Epoch 35: val_acc did not improve from 0.98901\n",
      "\u001b[1m12/12\u001b[0m \u001b[32m━━━━━━━━━━━━━━━━━━━━\u001b[0m\u001b[37m\u001b[0m \u001b[1m0s\u001b[0m 6ms/step - acc: 0.9424 - loss: 0.8936 - metric_f1score: 0.9479 - val_acc: 0.9890 - val_loss: 0.7551 - val_metric_f1score: 0.9896 - learning_rate: 0.0010\n",
      "Epoch 36/200\n",
      "\u001b[1m 1/12\u001b[0m \u001b[32m━\u001b[0m\u001b[37m━━━━━━━━━━━━━━━━━━━\u001b[0m \u001b[1m0s\u001b[0m 14ms/step - acc: 0.9375 - loss: 1.0027 - metric_f1score: 0.9524\n",
      "Epoch 36: val_acc did not improve from 0.98901\n",
      "\u001b[1m12/12\u001b[0m \u001b[32m━━━━━━━━━━━━━━━━━━━━\u001b[0m\u001b[37m\u001b[0m \u001b[1m0s\u001b[0m 7ms/step - acc: 0.9363 - loss: 0.9394 - metric_f1score: 0.9376 - val_acc: 0.9890 - val_loss: 0.7363 - val_metric_f1score: 0.9896 - learning_rate: 0.0010\n",
      "Epoch 37/200\n",
      "\u001b[1m 1/12\u001b[0m \u001b[32m━\u001b[0m\u001b[37m━━━━━━━━━━━━━━━━━━━\u001b[0m \u001b[1m0s\u001b[0m 14ms/step - acc: 0.9062 - loss: 1.0063 - metric_f1score: 0.8889\n",
      "Epoch 37: val_acc did not improve from 0.98901\n",
      "\u001b[1m12/12\u001b[0m \u001b[32m━━━━━━━━━━━━━━━━━━━━\u001b[0m\u001b[37m\u001b[0m \u001b[1m0s\u001b[0m 7ms/step - acc: 0.9139 - loss: 0.9510 - metric_f1score: 0.9199 - val_acc: 0.9890 - val_loss: 0.7342 - val_metric_f1score: 0.9896 - learning_rate: 0.0010\n",
      "Epoch 38/200\n",
      "\u001b[1m 1/12\u001b[0m \u001b[32m━\u001b[0m\u001b[37m━━━━━━━━━━━━━━━━━━━\u001b[0m \u001b[1m0s\u001b[0m 14ms/step - acc: 1.0000 - loss: 0.7306 - metric_f1score: 1.0000\n",
      "Epoch 38: val_acc did not improve from 0.98901\n",
      "\u001b[1m12/12\u001b[0m \u001b[32m━━━━━━━━━━━━━━━━━━━━\u001b[0m\u001b[37m\u001b[0m \u001b[1m0s\u001b[0m 7ms/step - acc: 0.9463 - loss: 0.9199 - metric_f1score: 0.9417 - val_acc: 0.9890 - val_loss: 0.7224 - val_metric_f1score: 0.9896 - learning_rate: 0.0010\n",
      "Epoch 39/200\n",
      "\u001b[1m 1/12\u001b[0m \u001b[32m━\u001b[0m\u001b[37m━━━━━━━━━━━━━━━━━━━\u001b[0m \u001b[1m0s\u001b[0m 12ms/step - acc: 0.9688 - loss: 0.7832 - metric_f1score: 0.9688\n",
      "Epoch 39: val_acc did not improve from 0.98901\n",
      "\u001b[1m12/12\u001b[0m \u001b[32m━━━━━━━━━━━━━━━━━━━━\u001b[0m\u001b[37m\u001b[0m \u001b[1m0s\u001b[0m 6ms/step - acc: 0.9593 - loss: 0.8558 - metric_f1score: 0.9562 - val_acc: 0.9890 - val_loss: 0.7139 - val_metric_f1score: 0.9896 - learning_rate: 0.0010\n",
      "Epoch 40/200\n",
      "\u001b[1m 1/12\u001b[0m \u001b[32m━\u001b[0m\u001b[37m━━━━━━━━━━━━━━━━━━━\u001b[0m \u001b[1m0s\u001b[0m 15ms/step - acc: 1.0000 - loss: 0.7322 - metric_f1score: 0.9841\n",
      "Epoch 40: val_acc did not improve from 0.98901\n",
      "\u001b[1m12/12\u001b[0m \u001b[32m━━━━━━━━━━━━━━━━━━━━\u001b[0m\u001b[37m\u001b[0m \u001b[1m0s\u001b[0m 6ms/step - acc: 0.9571 - loss: 0.8652 - metric_f1score: 0.9538 - val_acc: 0.9890 - val_loss: 0.7096 - val_metric_f1score: 0.9896 - learning_rate: 0.0010\n",
      "Epoch 41/200\n",
      "\u001b[1m 1/12\u001b[0m \u001b[32m━\u001b[0m\u001b[37m━━━━━━━━━━━━━━━━━━━\u001b[0m \u001b[1m0s\u001b[0m 14ms/step - acc: 0.9688 - loss: 0.8000 - metric_f1score: 0.9524\n",
      "Epoch 41: val_acc did not improve from 0.98901\n",
      "\u001b[1m12/12\u001b[0m \u001b[32m━━━━━━━━━━━━━━━━━━━━\u001b[0m\u001b[37m\u001b[0m \u001b[1m0s\u001b[0m 7ms/step - acc: 0.9442 - loss: 0.8974 - metric_f1score: 0.9430 - val_acc: 0.9780 - val_loss: 0.7177 - val_metric_f1score: 0.9792 - learning_rate: 0.0010\n",
      "Epoch 42/200\n",
      "\u001b[1m 1/12\u001b[0m \u001b[32m━\u001b[0m\u001b[37m━━━━━━━━━━━━━━━━━━━\u001b[0m \u001b[1m0s\u001b[0m 15ms/step - acc: 0.9375 - loss: 0.7552 - metric_f1score: 0.9524\n",
      "Epoch 42: val_acc did not improve from 0.98901\n",
      "\u001b[1m12/12\u001b[0m \u001b[32m━━━━━━━━━━━━━━━━━━━━\u001b[0m\u001b[37m\u001b[0m \u001b[1m0s\u001b[0m 6ms/step - acc: 0.9341 - loss: 0.8273 - metric_f1score: 0.9374 - val_acc: 0.9890 - val_loss: 0.6758 - val_metric_f1score: 0.9896 - learning_rate: 0.0010\n",
      "Epoch 43/200\n",
      "\u001b[1m 1/12\u001b[0m \u001b[32m━\u001b[0m\u001b[37m━━━━━━━━━━━━━━━━━━━\u001b[0m \u001b[1m0s\u001b[0m 14ms/step - acc: 0.8750 - loss: 1.1242 - metric_f1score: 0.8525\n",
      "Epoch 43: val_acc did not improve from 0.98901\n",
      "\u001b[1m12/12\u001b[0m \u001b[32m━━━━━━━━━━━━━━━━━━━━\u001b[0m\u001b[37m\u001b[0m \u001b[1m0s\u001b[0m 6ms/step - acc: 0.9269 - loss: 0.8741 - metric_f1score: 0.9205 - val_acc: 0.9780 - val_loss: 0.6997 - val_metric_f1score: 0.9792 - learning_rate: 0.0010\n",
      "Epoch 44/200\n",
      "\u001b[1m 1/12\u001b[0m \u001b[32m━\u001b[0m\u001b[37m━━━━━━━━━━━━━━━━━━━\u001b[0m \u001b[1m0s\u001b[0m 14ms/step - acc: 0.9688 - loss: 0.8144 - metric_f1score: 0.9688\n",
      "Epoch 44: val_acc did not improve from 0.98901\n",
      "\u001b[1m12/12\u001b[0m \u001b[32m━━━━━━━━━━━━━━━━━━━━\u001b[0m\u001b[37m\u001b[0m \u001b[1m0s\u001b[0m 6ms/step - acc: 0.9431 - loss: 0.8624 - metric_f1score: 0.9499 - val_acc: 0.9890 - val_loss: 0.6806 - val_metric_f1score: 0.9896 - learning_rate: 0.0010\n",
      "Epoch 45/200\n",
      "\u001b[1m 1/12\u001b[0m \u001b[32m━\u001b[0m\u001b[37m━━━━━━━━━━━━━━━━━━━\u001b[0m \u001b[1m0s\u001b[0m 14ms/step - acc: 0.9375 - loss: 0.7796 - metric_f1score: 0.9524\n",
      "Epoch 45: val_acc improved from 0.98901 to 1.00000, saving model to models/multi_hand_gesture_classifier.h5\n"
     ]
    },
    {
     "name": "stderr",
     "output_type": "stream",
     "text": [
      "WARNING:absl:You are saving your model as an HDF5 file via `model.save()` or `keras.saving.save_model(model)`. This file format is considered legacy. We recommend using instead the native Keras format, e.g. `model.save('my_model.keras')` or `keras.saving.save_model(model, 'my_model.keras')`. \n"
     ]
    },
    {
     "name": "stdout",
     "output_type": "stream",
     "text": [
      "\u001b[1m12/12\u001b[0m \u001b[32m━━━━━━━━━━━━━━━━━━━━\u001b[0m\u001b[37m\u001b[0m \u001b[1m0s\u001b[0m 7ms/step - acc: 0.9427 - loss: 0.8491 - metric_f1score: 0.9447 - val_acc: 1.0000 - val_loss: 0.6414 - val_metric_f1score: 1.0000 - learning_rate: 0.0010\n",
      "Epoch 46/200\n",
      "\u001b[1m 6/12\u001b[0m \u001b[32m━━━━━━━━━━\u001b[0m\u001b[37m━━━━━━━━━━\u001b[0m \u001b[1m0s\u001b[0m 10ms/step - acc: 0.9418 - loss: 0.8092 - metric_f1score: 0.9380\n",
      "Epoch 46: val_acc did not improve from 1.00000\n",
      "\u001b[1m12/12\u001b[0m \u001b[32m━━━━━━━━━━━━━━━━━━━━\u001b[0m\u001b[37m\u001b[0m \u001b[1m0s\u001b[0m 10ms/step - acc: 0.9433 - loss: 0.8227 - metric_f1score: 0.9388 - val_acc: 1.0000 - val_loss: 0.6343 - val_metric_f1score: 1.0000 - learning_rate: 0.0010\n",
      "Epoch 47/200\n",
      "\u001b[1m 1/12\u001b[0m \u001b[32m━\u001b[0m\u001b[37m━━━━━━━━━━━━━━━━━━━\u001b[0m \u001b[1m0s\u001b[0m 13ms/step - acc: 1.0000 - loss: 0.7147 - metric_f1score: 0.9841\n",
      "Epoch 47: val_acc did not improve from 1.00000\n",
      "\u001b[1m12/12\u001b[0m \u001b[32m━━━━━━━━━━━━━━━━━━━━\u001b[0m\u001b[37m\u001b[0m \u001b[1m0s\u001b[0m 6ms/step - acc: 0.9513 - loss: 0.8630 - metric_f1score: 0.9535 - val_acc: 0.9121 - val_loss: 1.6217 - val_metric_f1score: 0.9161 - learning_rate: 0.0010\n",
      "Epoch 48/200\n",
      "\u001b[1m12/12\u001b[0m \u001b[32m━━━━━━━━━━━━━━━━━━━━\u001b[0m\u001b[37m\u001b[0m \u001b[1m0s\u001b[0m 5ms/step - acc: 0.8158 - loss: 3.2796 - metric_f1score: 0.8168 \n",
      "Epoch 48: val_acc did not improve from 1.00000\n",
      "\u001b[1m12/12\u001b[0m \u001b[32m━━━━━━━━━━━━━━━━━━━━\u001b[0m\u001b[37m\u001b[0m \u001b[1m0s\u001b[0m 9ms/step - acc: 0.8184 - loss: 3.1779 - metric_f1score: 0.8203 - val_acc: 0.9670 - val_loss: 0.7705 - val_metric_f1score: 0.9558 - learning_rate: 0.0010\n",
      "Epoch 49/200\n",
      "\u001b[1m 1/12\u001b[0m \u001b[32m━\u001b[0m\u001b[37m━━━━━━━━━━━━━━━━━━━\u001b[0m \u001b[1m0s\u001b[0m 15ms/step - acc: 0.8125 - loss: 1.3394 - metric_f1score: 0.8000\n",
      "Epoch 49: val_acc did not improve from 1.00000\n",
      "\u001b[1m12/12\u001b[0m \u001b[32m━━━━━━━━━━━━━━━━━━━━\u001b[0m\u001b[37m\u001b[0m \u001b[1m0s\u001b[0m 7ms/step - acc: 0.8636 - loss: 1.0771 - metric_f1score: 0.8762 - val_acc: 1.0000 - val_loss: 0.6792 - val_metric_f1score: 0.9830 - learning_rate: 0.0010\n",
      "Epoch 50/200\n",
      "\u001b[1m 1/12\u001b[0m \u001b[32m━\u001b[0m\u001b[37m━━━━━━━━━━━━━━━━━━━\u001b[0m \u001b[1m0s\u001b[0m 15ms/step - acc: 0.8438 - loss: 1.1177 - metric_f1score: 0.9153\n",
      "Epoch 50: val_acc did not improve from 1.00000\n",
      "\u001b[1m12/12\u001b[0m \u001b[32m━━━━━━━━━━━━━━━━━━━━\u001b[0m\u001b[37m\u001b[0m \u001b[1m0s\u001b[0m 6ms/step - acc: 0.8864 - loss: 0.9871 - metric_f1score: 0.8974 - val_acc: 1.0000 - val_loss: 0.6518 - val_metric_f1score: 0.9947 - learning_rate: 0.0010\n",
      "Epoch 51/200\n",
      "\u001b[1m 1/12\u001b[0m \u001b[32m━\u001b[0m\u001b[37m━━━━━━━━━━━━━━━━━━━\u001b[0m \u001b[1m0s\u001b[0m 14ms/step - acc: 0.9688 - loss: 0.8320 - metric_f1score: 0.9508\n",
      "Epoch 51: val_acc did not improve from 1.00000\n",
      "\u001b[1m12/12\u001b[0m \u001b[32m━━━━━━━━━━━━━━━━━━━━\u001b[0m\u001b[37m\u001b[0m \u001b[1m0s\u001b[0m 6ms/step - acc: 0.9353 - loss: 0.8357 - metric_f1score: 0.9320 - val_acc: 0.9890 - val_loss: 0.6529 - val_metric_f1score: 0.9896 - learning_rate: 0.0010\n",
      "Epoch 52/200\n",
      "\u001b[1m 1/12\u001b[0m \u001b[32m━\u001b[0m\u001b[37m━━━━━━━━━━━━━━━━━━━\u001b[0m \u001b[1m0s\u001b[0m 15ms/step - acc: 0.9375 - loss: 0.8036 - metric_f1score: 0.9206\n",
      "Epoch 52: val_acc did not improve from 1.00000\n",
      "\u001b[1m12/12\u001b[0m \u001b[32m━━━━━━━━━━━━━━━━━━━━\u001b[0m\u001b[37m\u001b[0m \u001b[1m0s\u001b[0m 6ms/step - acc: 0.9444 - loss: 0.8200 - metric_f1score: 0.9444 - val_acc: 0.9890 - val_loss: 0.6928 - val_metric_f1score: 0.9896 - learning_rate: 0.0010\n",
      "Epoch 53/200\n",
      "\u001b[1m 1/12\u001b[0m \u001b[32m━\u001b[0m\u001b[37m━━━━━━━━━━━━━━━━━━━\u001b[0m \u001b[1m0s\u001b[0m 14ms/step - acc: 0.9375 - loss: 0.8633 - metric_f1score: 0.9355\n",
      "Epoch 53: val_acc did not improve from 1.00000\n",
      "\u001b[1m12/12\u001b[0m \u001b[32m━━━━━━━━━━━━━━━━━━━━\u001b[0m\u001b[37m\u001b[0m \u001b[1m0s\u001b[0m 6ms/step - acc: 0.9303 - loss: 0.8559 - metric_f1score: 0.9318 - val_acc: 0.9890 - val_loss: 0.6785 - val_metric_f1score: 0.9896 - learning_rate: 0.0010\n",
      "Epoch 54/200\n",
      "\u001b[1m 1/12\u001b[0m \u001b[32m━\u001b[0m\u001b[37m━━━━━━━━━━━━━━━━━━━\u001b[0m \u001b[1m0s\u001b[0m 16ms/step - acc: 0.9375 - loss: 0.9287 - metric_f1score: 0.9180\n",
      "Epoch 54: val_acc did not improve from 1.00000\n",
      "\u001b[1m12/12\u001b[0m \u001b[32m━━━━━━━━━━━━━━━━━━━━\u001b[0m\u001b[37m\u001b[0m \u001b[1m0s\u001b[0m 6ms/step - acc: 0.9409 - loss: 0.8302 - metric_f1score: 0.9381 - val_acc: 1.0000 - val_loss: 0.6093 - val_metric_f1score: 1.0000 - learning_rate: 0.0010\n",
      "Epoch 55/200\n",
      "\u001b[1m 1/12\u001b[0m \u001b[32m━\u001b[0m\u001b[37m━━━━━━━━━━━━━━━━━━━\u001b[0m \u001b[1m0s\u001b[0m 15ms/step - acc: 0.9375 - loss: 0.6960 - metric_f1score: 0.9524\n",
      "Epoch 55: val_acc did not improve from 1.00000\n",
      "\u001b[1m12/12\u001b[0m \u001b[32m━━━━━━━━━━━━━━━━━━━━\u001b[0m\u001b[37m\u001b[0m \u001b[1m0s\u001b[0m 6ms/step - acc: 0.9398 - loss: 0.7798 - metric_f1score: 0.9425 - val_acc: 1.0000 - val_loss: 0.6028 - val_metric_f1score: 1.0000 - learning_rate: 0.0010\n",
      "Epoch 56/200\n",
      "\u001b[1m 1/12\u001b[0m \u001b[32m━\u001b[0m\u001b[37m━━━━━━━━━━━━━━━━━━━\u001b[0m \u001b[1m0s\u001b[0m 13ms/step - acc: 0.9375 - loss: 0.8353 - metric_f1score: 0.9355\n",
      "Epoch 56: val_acc did not improve from 1.00000\n",
      "\u001b[1m12/12\u001b[0m \u001b[32m━━━━━━━━━━━━━━━━━━━━\u001b[0m\u001b[37m\u001b[0m \u001b[1m0s\u001b[0m 6ms/step - acc: 0.9450 - loss: 0.7783 - metric_f1score: 0.9486 - val_acc: 1.0000 - val_loss: 0.5975 - val_metric_f1score: 1.0000 - learning_rate: 0.0010\n",
      "Epoch 57/200\n",
      "\u001b[1m 1/12\u001b[0m \u001b[32m━\u001b[0m\u001b[37m━━━━━━━━━━━━━━━━━━━\u001b[0m \u001b[1m0s\u001b[0m 15ms/step - acc: 0.9688 - loss: 0.8307 - metric_f1score: 0.9524\n",
      "Epoch 57: val_acc did not improve from 1.00000\n",
      "\u001b[1m12/12\u001b[0m \u001b[32m━━━━━━━━━━━━━━━━━━━━\u001b[0m\u001b[37m\u001b[0m \u001b[1m0s\u001b[0m 6ms/step - acc: 0.9657 - loss: 0.7409 - metric_f1score: 0.9631 - val_acc: 1.0000 - val_loss: 0.5926 - val_metric_f1score: 1.0000 - learning_rate: 0.0010\n",
      "Epoch 58/200\n",
      "\u001b[1m 1/12\u001b[0m \u001b[32m━\u001b[0m\u001b[37m━━━━━━━━━━━━━━━━━━━\u001b[0m \u001b[1m0s\u001b[0m 14ms/step - acc: 1.0000 - loss: 0.6492 - metric_f1score: 1.0000\n",
      "Epoch 58: val_acc did not improve from 1.00000\n",
      "\u001b[1m12/12\u001b[0m \u001b[32m━━━━━━━━━━━━━━━━━━━━\u001b[0m\u001b[37m\u001b[0m \u001b[1m0s\u001b[0m 6ms/step - acc: 0.9642 - loss: 0.7088 - metric_f1score: 0.9702 - val_acc: 1.0000 - val_loss: 0.5875 - val_metric_f1score: 1.0000 - learning_rate: 0.0010\n",
      "Epoch 59/200\n",
      "\u001b[1m 1/12\u001b[0m \u001b[32m━\u001b[0m\u001b[37m━━━━━━━━━━━━━━━━━━━\u001b[0m \u001b[1m0s\u001b[0m 14ms/step - acc: 0.9688 - loss: 0.6529 - metric_f1score: 0.9841\n",
      "Epoch 59: val_acc did not improve from 1.00000\n",
      "\u001b[1m12/12\u001b[0m \u001b[32m━━━━━━━━━━━━━━━━━━━━\u001b[0m\u001b[37m\u001b[0m \u001b[1m0s\u001b[0m 6ms/step - acc: 0.9474 - loss: 0.7223 - metric_f1score: 0.9591 - val_acc: 1.0000 - val_loss: 0.5824 - val_metric_f1score: 1.0000 - learning_rate: 0.0010\n",
      "Epoch 60/200\n",
      "\u001b[1m 1/12\u001b[0m \u001b[32m━\u001b[0m\u001b[37m━━━━━━━━━━━━━━━━━━━\u001b[0m \u001b[1m0s\u001b[0m 19ms/step - acc: 0.9688 - loss: 0.6282 - metric_f1score: 0.9688\n",
      "Epoch 60: val_acc did not improve from 1.00000\n",
      "\u001b[1m12/12\u001b[0m \u001b[32m━━━━━━━━━━━━━━━━━━━━\u001b[0m\u001b[37m\u001b[0m \u001b[1m0s\u001b[0m 7ms/step - acc: 0.9591 - loss: 0.7073 - metric_f1score: 0.9622 - val_acc: 1.0000 - val_loss: 0.5771 - val_metric_f1score: 1.0000 - learning_rate: 0.0010\n",
      "Epoch 61/200\n",
      "\u001b[1m 1/12\u001b[0m \u001b[32m━\u001b[0m\u001b[37m━━━━━━━━━━━━━━━━━━━\u001b[0m \u001b[1m0s\u001b[0m 14ms/step - acc: 1.0000 - loss: 0.5906 - metric_f1score: 1.0000\n",
      "Epoch 61: val_acc did not improve from 1.00000\n",
      "\u001b[1m12/12\u001b[0m \u001b[32m━━━━━━━━━━━━━━━━━━━━\u001b[0m\u001b[37m\u001b[0m \u001b[1m0s\u001b[0m 6ms/step - acc: 0.9760 - loss: 0.6669 - metric_f1score: 0.9716 - val_acc: 1.0000 - val_loss: 0.5719 - val_metric_f1score: 1.0000 - learning_rate: 0.0010\n",
      "Epoch 62/200\n",
      "\u001b[1m 1/12\u001b[0m \u001b[32m━\u001b[0m\u001b[37m━━━━━━━━━━━━━━━━━━━\u001b[0m \u001b[1m0s\u001b[0m 14ms/step - acc: 0.9375 - loss: 0.6575 - metric_f1score: 0.9375\n",
      "Epoch 62: val_acc did not improve from 1.00000\n",
      "\u001b[1m12/12\u001b[0m \u001b[32m━━━━━━━━━━━━━━━━━━━━\u001b[0m\u001b[37m\u001b[0m \u001b[1m0s\u001b[0m 6ms/step - acc: 0.9615 - loss: 0.6714 - metric_f1score: 0.9598 - val_acc: 1.0000 - val_loss: 0.5672 - val_metric_f1score: 1.0000 - learning_rate: 0.0010\n",
      "Epoch 63/200\n",
      "\u001b[1m 1/12\u001b[0m \u001b[32m━\u001b[0m\u001b[37m━━━━━━━━━━━━━━━━━━━\u001b[0m \u001b[1m0s\u001b[0m 14ms/step - acc: 0.9688 - loss: 0.6250 - metric_f1score: 0.9688\n",
      "Epoch 63: val_acc did not improve from 1.00000\n",
      "\u001b[1m12/12\u001b[0m \u001b[32m━━━━━━━━━━━━━━━━━━━━\u001b[0m\u001b[37m\u001b[0m \u001b[1m0s\u001b[0m 6ms/step - acc: 0.9609 - loss: 0.6909 - metric_f1score: 0.9660 - val_acc: 0.9890 - val_loss: 0.6915 - val_metric_f1score: 0.9896 - learning_rate: 0.0010\n",
      "Epoch 64/200\n",
      "\u001b[1m 1/12\u001b[0m \u001b[32m━\u001b[0m\u001b[37m━━━━━━━━━━━━━━━━━━━\u001b[0m \u001b[1m0s\u001b[0m 15ms/step - acc: 0.9688 - loss: 0.6691 - metric_f1score: 0.9524\n",
      "Epoch 64: val_acc did not improve from 1.00000\n",
      "\u001b[1m12/12\u001b[0m \u001b[32m━━━━━━━━━━━━━━━━━━━━\u001b[0m\u001b[37m\u001b[0m \u001b[1m0s\u001b[0m 6ms/step - acc: 0.9790 - loss: 0.6558 - metric_f1score: 0.9712 - val_acc: 0.9890 - val_loss: 0.5736 - val_metric_f1score: 0.9896 - learning_rate: 0.0010\n",
      "Epoch 65/200\n",
      "\u001b[1m 1/12\u001b[0m \u001b[32m━\u001b[0m\u001b[37m━━━━━━━━━━━━━━━━━━━\u001b[0m \u001b[1m0s\u001b[0m 13ms/step - acc: 1.0000 - loss: 0.5613 - metric_f1score: 1.0000\n",
      "Epoch 65: val_acc did not improve from 1.00000\n",
      "\u001b[1m12/12\u001b[0m \u001b[32m━━━━━━━━━━━━━━━━━━━━\u001b[0m\u001b[37m\u001b[0m \u001b[1m0s\u001b[0m 6ms/step - acc: 0.9762 - loss: 0.6256 - metric_f1score: 0.9777 - val_acc: 1.0000 - val_loss: 0.5557 - val_metric_f1score: 1.0000 - learning_rate: 0.0010\n",
      "Epoch 66/200\n",
      "\u001b[1m 4/12\u001b[0m \u001b[32m━━━━━━\u001b[0m\u001b[37m━━━━━━━━━━━━━━\u001b[0m \u001b[1m0s\u001b[0m 18ms/step - acc: 0.9375 - loss: 0.6944 - metric_f1score: 0.9484\n",
      "Epoch 66: val_acc did not improve from 1.00000\n",
      "\u001b[1m12/12\u001b[0m \u001b[32m━━━━━━━━━━━━━━━━━━━━\u001b[0m\u001b[37m\u001b[0m \u001b[1m0s\u001b[0m 11ms/step - acc: 0.9524 - loss: 0.6774 - metric_f1score: 0.9584 - val_acc: 0.9890 - val_loss: 0.5739 - val_metric_f1score: 0.9896 - learning_rate: 0.0010\n",
      "Epoch 67/200\n",
      "\u001b[1m 1/12\u001b[0m \u001b[32m━\u001b[0m\u001b[37m━━━━━━━━━━━━━━━━━━━\u001b[0m \u001b[1m0s\u001b[0m 20ms/step - acc: 0.9688 - loss: 0.5914 - metric_f1score: 0.9688\n",
      "Epoch 67: val_acc did not improve from 1.00000\n",
      "\u001b[1m12/12\u001b[0m \u001b[32m━━━━━━━━━━━━━━━━━━━━\u001b[0m\u001b[37m\u001b[0m \u001b[1m0s\u001b[0m 6ms/step - acc: 0.9732 - loss: 0.6382 - metric_f1score: 0.9756 - val_acc: 1.0000 - val_loss: 0.5512 - val_metric_f1score: 1.0000 - learning_rate: 0.0010\n",
      "Epoch 68/200\n",
      "\u001b[1m 1/12\u001b[0m \u001b[32m━\u001b[0m\u001b[37m━━━━━━━━━━━━━━━━━━━\u001b[0m \u001b[1m0s\u001b[0m 14ms/step - acc: 0.9375 - loss: 0.6778 - metric_f1score: 0.9375\n",
      "Epoch 68: val_acc did not improve from 1.00000\n",
      "\u001b[1m12/12\u001b[0m \u001b[32m━━━━━━━━━━━━━━━━━━━━\u001b[0m\u001b[37m\u001b[0m \u001b[1m0s\u001b[0m 6ms/step - acc: 0.9459 - loss: 0.6830 - metric_f1score: 0.9536 - val_acc: 1.0000 - val_loss: 0.5469 - val_metric_f1score: 1.0000 - learning_rate: 0.0010\n",
      "Epoch 69/200\n",
      "\u001b[1m 1/12\u001b[0m \u001b[32m━\u001b[0m\u001b[37m━━━━━━━━━━━━━━━━━━━\u001b[0m \u001b[1m0s\u001b[0m 13ms/step - acc: 1.0000 - loss: 0.5767 - metric_f1score: 0.9841\n",
      "Epoch 69: val_acc did not improve from 1.00000\n",
      "\u001b[1m12/12\u001b[0m \u001b[32m━━━━━━━━━━━━━━━━━━━━\u001b[0m\u001b[37m\u001b[0m \u001b[1m0s\u001b[0m 6ms/step - acc: 0.9453 - loss: 0.7192 - metric_f1score: 0.9445 - val_acc: 1.0000 - val_loss: 0.5403 - val_metric_f1score: 1.0000 - learning_rate: 0.0010\n",
      "Epoch 70/200\n",
      "\u001b[1m 1/12\u001b[0m \u001b[32m━\u001b[0m\u001b[37m━━━━━━━━━━━━━━━━━━━\u001b[0m \u001b[1m0s\u001b[0m 15ms/step - acc: 1.0000 - loss: 0.5502 - metric_f1score: 1.0000\n",
      "Epoch 70: val_acc did not improve from 1.00000\n",
      "\u001b[1m12/12\u001b[0m \u001b[32m━━━━━━━━━━━━━━━━━━━━\u001b[0m\u001b[37m\u001b[0m \u001b[1m0s\u001b[0m 6ms/step - acc: 0.9737 - loss: 0.6144 - metric_f1score: 0.9738 - val_acc: 0.9890 - val_loss: 0.5791 - val_metric_f1score: 0.9896 - learning_rate: 0.0010\n",
      "Epoch 71/200\n",
      "\u001b[1m 1/12\u001b[0m \u001b[32m━\u001b[0m\u001b[37m━━━━━━━━━━━━━━━━━━━\u001b[0m \u001b[1m0s\u001b[0m 14ms/step - acc: 0.9375 - loss: 0.7080 - metric_f1score: 0.9524\n",
      "Epoch 71: val_acc did not improve from 1.00000\n",
      "\u001b[1m12/12\u001b[0m \u001b[32m━━━━━━━━━━━━━━━━━━━━\u001b[0m\u001b[37m\u001b[0m \u001b[1m0s\u001b[0m 6ms/step - acc: 0.9631 - loss: 0.6387 - metric_f1score: 0.9697 - val_acc: 0.9890 - val_loss: 0.5734 - val_metric_f1score: 0.9896 - learning_rate: 0.0010\n",
      "Epoch 72/200\n",
      "\u001b[1m 1/12\u001b[0m \u001b[32m━\u001b[0m\u001b[37m━━━━━━━━━━━━━━━━━━━\u001b[0m \u001b[1m0s\u001b[0m 15ms/step - acc: 0.9688 - loss: 0.6982 - metric_f1score: 0.9677\n",
      "Epoch 72: val_acc did not improve from 1.00000\n",
      "\u001b[1m12/12\u001b[0m \u001b[32m━━━━━━━━━━━━━━━━━━━━\u001b[0m\u001b[37m\u001b[0m \u001b[1m0s\u001b[0m 6ms/step - acc: 0.9654 - loss: 0.6356 - metric_f1score: 0.9675 - val_acc: 0.9890 - val_loss: 0.5656 - val_metric_f1score: 0.9896 - learning_rate: 0.0010\n",
      "Epoch 73/200\n",
      "\u001b[1m 1/12\u001b[0m \u001b[32m━\u001b[0m\u001b[37m━━━━━━━━━━━━━━━━━━━\u001b[0m \u001b[1m0s\u001b[0m 14ms/step - acc: 0.9688 - loss: 0.5997 - metric_f1score: 0.9688\n",
      "Epoch 73: val_acc did not improve from 1.00000\n",
      "\u001b[1m12/12\u001b[0m \u001b[32m━━━━━━━━━━━━━━━━━━━━\u001b[0m\u001b[37m\u001b[0m \u001b[1m0s\u001b[0m 6ms/step - acc: 0.9730 - loss: 0.5997 - metric_f1score: 0.9744 - val_acc: 0.9890 - val_loss: 0.5875 - val_metric_f1score: 0.9896 - learning_rate: 0.0010\n",
      "Epoch 74/200\n",
      "\u001b[1m 1/12\u001b[0m \u001b[32m━\u001b[0m\u001b[37m━━━━━━━━━━━━━━━━━━━\u001b[0m \u001b[1m0s\u001b[0m 15ms/step - acc: 1.0000 - loss: 0.5353 - metric_f1score: 1.0000\n",
      "Epoch 74: val_acc did not improve from 1.00000\n",
      "\u001b[1m12/12\u001b[0m \u001b[32m━━━━━━━━━━━━━━━━━━━━\u001b[0m\u001b[37m\u001b[0m \u001b[1m0s\u001b[0m 6ms/step - acc: 0.9839 - loss: 0.5653 - metric_f1score: 0.9825 - val_acc: 1.0000 - val_loss: 0.5147 - val_metric_f1score: 1.0000 - learning_rate: 0.0010\n",
      "Epoch 75/200\n",
      "\u001b[1m 1/12\u001b[0m \u001b[32m━\u001b[0m\u001b[37m━━━━━━━━━━━━━━━━━━━\u001b[0m \u001b[1m0s\u001b[0m 14ms/step - acc: 0.9375 - loss: 0.6432 - metric_f1score: 0.9524\n",
      "Epoch 75: val_acc did not improve from 1.00000\n",
      "\u001b[1m12/12\u001b[0m \u001b[32m━━━━━━━━━━━━━━━━━━━━\u001b[0m\u001b[37m\u001b[0m \u001b[1m0s\u001b[0m 6ms/step - acc: 0.9678 - loss: 0.5952 - metric_f1score: 0.9736 - val_acc: 1.0000 - val_loss: 0.5106 - val_metric_f1score: 1.0000 - learning_rate: 0.0010\n",
      "Epoch 76/200\n",
      "\u001b[1m 1/12\u001b[0m \u001b[32m━\u001b[0m\u001b[37m━━━━━━━━━━━━━━━━━━━\u001b[0m \u001b[1m0s\u001b[0m 13ms/step - acc: 0.9375 - loss: 0.6017 - metric_f1score: 0.9524\n",
      "Epoch 76: val_acc did not improve from 1.00000\n",
      "\u001b[1m12/12\u001b[0m \u001b[32m━━━━━━━━━━━━━━━━━━━━\u001b[0m\u001b[37m\u001b[0m \u001b[1m0s\u001b[0m 6ms/step - acc: 0.9632 - loss: 0.6296 - metric_f1score: 0.9662 - val_acc: 1.0000 - val_loss: 0.5079 - val_metric_f1score: 1.0000 - learning_rate: 0.0010\n",
      "Epoch 77/200\n",
      "\u001b[1m 1/12\u001b[0m \u001b[32m━\u001b[0m\u001b[37m━━━━━━━━━━━━━━━━━━━\u001b[0m \u001b[1m0s\u001b[0m 15ms/step - acc: 0.9688 - loss: 0.5761 - metric_f1score: 0.9841\n",
      "Epoch 77: val_acc did not improve from 1.00000\n",
      "\u001b[1m12/12\u001b[0m \u001b[32m━━━━━━━━━━━━━━━━━━━━\u001b[0m\u001b[37m\u001b[0m \u001b[1m0s\u001b[0m 7ms/step - acc: 0.9739 - loss: 0.5812 - metric_f1score: 0.9745 - val_acc: 1.0000 - val_loss: 0.5034 - val_metric_f1score: 1.0000 - learning_rate: 0.0010\n",
      "Epoch 78/200\n",
      "\u001b[1m 1/12\u001b[0m \u001b[32m━\u001b[0m\u001b[37m━━━━━━━━━━━━━━━━━━━\u001b[0m \u001b[1m0s\u001b[0m 14ms/step - acc: 0.9688 - loss: 0.5467 - metric_f1score: 0.9841\n",
      "Epoch 78: val_acc did not improve from 1.00000\n",
      "\u001b[1m12/12\u001b[0m \u001b[32m━━━━━━━━━━━━━━━━━━━━\u001b[0m\u001b[37m\u001b[0m \u001b[1m0s\u001b[0m 6ms/step - acc: 0.9650 - loss: 0.6304 - metric_f1score: 0.9725 - val_acc: 1.0000 - val_loss: 0.5000 - val_metric_f1score: 1.0000 - learning_rate: 0.0010\n",
      "Epoch 79/200\n",
      "\u001b[1m 1/12\u001b[0m \u001b[32m━\u001b[0m\u001b[37m━━━━━━━━━━━━━━━━━━━\u001b[0m \u001b[1m0s\u001b[0m 15ms/step - acc: 0.9375 - loss: 0.6714 - metric_f1score: 0.9677\n",
      "Epoch 79: val_acc did not improve from 1.00000\n",
      "\u001b[1m12/12\u001b[0m \u001b[32m━━━━━━━━━━━━━━━━━━━━\u001b[0m\u001b[37m\u001b[0m \u001b[1m0s\u001b[0m 6ms/step - acc: 0.9749 - loss: 0.5808 - metric_f1score: 0.9788 - val_acc: 1.0000 - val_loss: 0.4963 - val_metric_f1score: 1.0000 - learning_rate: 0.0010\n",
      "Epoch 80/200\n",
      "\u001b[1m 1/12\u001b[0m \u001b[32m━\u001b[0m\u001b[37m━━━━━━━━━━━━━━━━━━━\u001b[0m \u001b[1m0s\u001b[0m 13ms/step - acc: 1.0000 - loss: 0.5058 - metric_f1score: 1.0000\n",
      "Epoch 80: val_acc did not improve from 1.00000\n",
      "\u001b[1m12/12\u001b[0m \u001b[32m━━━━━━━━━━━━━━━━━━━━\u001b[0m\u001b[37m\u001b[0m \u001b[1m0s\u001b[0m 6ms/step - acc: 0.9778 - loss: 0.5750 - metric_f1score: 0.9809 - val_acc: 0.9890 - val_loss: 0.5262 - val_metric_f1score: 0.9947 - learning_rate: 0.0010\n",
      "Epoch 81/200\n",
      "\u001b[1m 1/12\u001b[0m \u001b[32m━\u001b[0m\u001b[37m━━━━━━━━━━━━━━━━━━━\u001b[0m \u001b[1m0s\u001b[0m 14ms/step - acc: 0.9688 - loss: 0.5592 - metric_f1score: 0.9688\n",
      "Epoch 81: val_acc did not improve from 1.00000\n",
      "\u001b[1m12/12\u001b[0m \u001b[32m━━━━━━━━━━━━━━━━━━━━\u001b[0m\u001b[37m\u001b[0m \u001b[1m0s\u001b[0m 6ms/step - acc: 0.9477 - loss: 0.6058 - metric_f1score: 0.9619 - val_acc: 0.9780 - val_loss: 0.5880 - val_metric_f1score: 0.9792 - learning_rate: 0.0010\n",
      "Epoch 82/200\n",
      "\u001b[1m 1/12\u001b[0m \u001b[32m━\u001b[0m\u001b[37m━━━━━━━━━━━━━━━━━━━\u001b[0m \u001b[1m0s\u001b[0m 15ms/step - acc: 0.9688 - loss: 0.8809 - metric_f1score: 0.9688\n",
      "Epoch 82: val_acc did not improve from 1.00000\n",
      "\u001b[1m12/12\u001b[0m \u001b[32m━━━━━━━━━━━━━━━━━━━━\u001b[0m\u001b[37m\u001b[0m \u001b[1m0s\u001b[0m 6ms/step - acc: 0.9563 - loss: 0.6928 - metric_f1score: 0.9598 - val_acc: 0.9780 - val_loss: 0.5481 - val_metric_f1score: 0.9792 - learning_rate: 0.0010\n",
      "Epoch 83/200\n",
      "\u001b[1m 1/12\u001b[0m \u001b[32m━\u001b[0m\u001b[37m━━━━━━━━━━━━━━━━━━━\u001b[0m \u001b[1m0s\u001b[0m 15ms/step - acc: 0.9375 - loss: 0.5907 - metric_f1score: 0.9524\n",
      "Epoch 83: val_acc did not improve from 1.00000\n",
      "\u001b[1m12/12\u001b[0m \u001b[32m━━━━━━━━━━━━━━━━━━━━\u001b[0m\u001b[37m\u001b[0m \u001b[1m0s\u001b[0m 7ms/step - acc: 0.9555 - loss: 0.6106 - metric_f1score: 0.9588 - val_acc: 0.9780 - val_loss: 0.5444 - val_metric_f1score: 0.9792 - learning_rate: 0.0010\n",
      "Epoch 84/200\n",
      "\u001b[1m 1/12\u001b[0m \u001b[32m━\u001b[0m\u001b[37m━━━━━━━━━━━━━━━━━━━\u001b[0m \u001b[1m0s\u001b[0m 12ms/step - acc: 1.0000 - loss: 0.5227 - metric_f1score: 1.0000\n",
      "Epoch 84: val_acc did not improve from 1.00000\n",
      "\u001b[1m12/12\u001b[0m \u001b[32m━━━━━━━━━━━━━━━━━━━━\u001b[0m\u001b[37m\u001b[0m \u001b[1m0s\u001b[0m 6ms/step - acc: 0.9821 - loss: 0.5498 - metric_f1score: 0.9859 - val_acc: 0.9780 - val_loss: 0.6002 - val_metric_f1score: 0.9792 - learning_rate: 0.0010\n",
      "Epoch 85/200\n",
      "\u001b[1m 3/12\u001b[0m \u001b[32m━━━━━\u001b[0m\u001b[37m━━━━━━━━━━━━━━━\u001b[0m \u001b[1m0s\u001b[0m 26ms/step - acc: 0.9809 - loss: 0.5191 - metric_f1score: 0.9903\n",
      "Epoch 85: val_acc did not improve from 1.00000\n",
      "\u001b[1m12/12\u001b[0m \u001b[32m━━━━━━━━━━━━━━━━━━━━\u001b[0m\u001b[37m\u001b[0m \u001b[1m0s\u001b[0m 11ms/step - acc: 0.9662 - loss: 0.5694 - metric_f1score: 0.9773 - val_acc: 0.9780 - val_loss: 0.5667 - val_metric_f1score: 0.9841 - learning_rate: 0.0010\n",
      "Epoch 86/200\n",
      "\u001b[1m 1/12\u001b[0m \u001b[32m━\u001b[0m\u001b[37m━━━━━━━━━━━━━━━━━━━\u001b[0m \u001b[1m0s\u001b[0m 18ms/step - acc: 0.9375 - loss: 0.6568 - metric_f1score: 0.9375\n",
      "Epoch 86: val_acc did not improve from 1.00000\n",
      "\u001b[1m12/12\u001b[0m \u001b[32m━━━━━━━━━━━━━━━━━━━━\u001b[0m\u001b[37m\u001b[0m \u001b[1m0s\u001b[0m 6ms/step - acc: 0.9692 - loss: 0.5715 - metric_f1score: 0.9634 - val_acc: 0.9890 - val_loss: 0.5273 - val_metric_f1score: 0.9896 - learning_rate: 0.0010\n",
      "Epoch 87/200\n",
      "\u001b[1m 1/12\u001b[0m \u001b[32m━\u001b[0m\u001b[37m━━━━━━━━━━━━━━━━━━━\u001b[0m \u001b[1m0s\u001b[0m 13ms/step - acc: 1.0000 - loss: 0.5099 - metric_f1score: 1.0000\n",
      "Epoch 87: val_acc did not improve from 1.00000\n",
      "\u001b[1m12/12\u001b[0m \u001b[32m━━━━━━━━━━━━━━━━━━━━\u001b[0m\u001b[37m\u001b[0m \u001b[1m0s\u001b[0m 6ms/step - acc: 0.9894 - loss: 0.5412 - metric_f1score: 0.9905 - val_acc: 0.9890 - val_loss: 0.5271 - val_metric_f1score: 0.9896 - learning_rate: 0.0010\n",
      "Epoch 88/200\n",
      "\u001b[1m 1/12\u001b[0m \u001b[32m━\u001b[0m\u001b[37m━━━━━━━━━━━━━━━━━━━\u001b[0m \u001b[1m0s\u001b[0m 17ms/step - acc: 1.0000 - loss: 0.4707 - metric_f1score: 1.0000\n",
      "Epoch 88: val_acc did not improve from 1.00000\n",
      "\u001b[1m12/12\u001b[0m \u001b[32m━━━━━━━━━━━━━━━━━━━━\u001b[0m\u001b[37m\u001b[0m \u001b[1m0s\u001b[0m 7ms/step - acc: 0.9886 - loss: 0.5164 - metric_f1score: 0.9884 - val_acc: 0.9890 - val_loss: 0.5666 - val_metric_f1score: 0.9896 - learning_rate: 0.0010\n",
      "Epoch 89/200\n",
      "\u001b[1m 1/12\u001b[0m \u001b[32m━\u001b[0m\u001b[37m━━━━━━━━━━━━━━━━━━━\u001b[0m \u001b[1m0s\u001b[0m 16ms/step - acc: 1.0000 - loss: 0.5190 - metric_f1score: 0.9841\n",
      "Epoch 89: val_acc did not improve from 1.00000\n",
      "\u001b[1m12/12\u001b[0m \u001b[32m━━━━━━━━━━━━━━━━━━━━\u001b[0m\u001b[37m\u001b[0m \u001b[1m0s\u001b[0m 8ms/step - acc: 0.9773 - loss: 0.5368 - metric_f1score: 0.9784 - val_acc: 0.9890 - val_loss: 0.5800 - val_metric_f1score: 0.9896 - learning_rate: 0.0010\n",
      "Epoch 90/200\n",
      "\u001b[1m 1/12\u001b[0m \u001b[32m━\u001b[0m\u001b[37m━━━━━━━━━━━━━━━━━━━\u001b[0m \u001b[1m0s\u001b[0m 16ms/step - acc: 1.0000 - loss: 0.4944 - metric_f1score: 1.0000\n",
      "Epoch 90: val_acc did not improve from 1.00000\n",
      "\u001b[1m12/12\u001b[0m \u001b[32m━━━━━━━━━━━━━━━━━━━━\u001b[0m\u001b[37m\u001b[0m \u001b[1m0s\u001b[0m 6ms/step - acc: 0.9950 - loss: 0.4928 - metric_f1score: 0.9955 - val_acc: 0.9890 - val_loss: 0.5534 - val_metric_f1score: 0.9896 - learning_rate: 0.0010\n",
      "Epoch 91/200\n",
      "\u001b[1m 1/12\u001b[0m \u001b[32m━\u001b[0m\u001b[37m━━━━━━━━━━━━━━━━━━━\u001b[0m \u001b[1m0s\u001b[0m 14ms/step - acc: 1.0000 - loss: 0.4616 - metric_f1score: 1.0000\n",
      "Epoch 91: val_acc did not improve from 1.00000\n",
      "\u001b[1m12/12\u001b[0m \u001b[32m━━━━━━━━━━━━━━━━━━━━\u001b[0m\u001b[37m\u001b[0m \u001b[1m0s\u001b[0m 6ms/step - acc: 0.9825 - loss: 0.5186 - metric_f1score: 0.9839 - val_acc: 0.9890 - val_loss: 0.5512 - val_metric_f1score: 0.9896 - learning_rate: 0.0010\n",
      "Epoch 92/200\n",
      "\u001b[1m 1/12\u001b[0m \u001b[32m━\u001b[0m\u001b[37m━━━━━━━━━━━━━━━━━━━\u001b[0m \u001b[1m0s\u001b[0m 14ms/step - acc: 1.0000 - loss: 0.4601 - metric_f1score: 1.0000\n",
      "Epoch 92: val_acc did not improve from 1.00000\n",
      "\u001b[1m12/12\u001b[0m \u001b[32m━━━━━━━━━━━━━━━━━━━━\u001b[0m\u001b[37m\u001b[0m \u001b[1m0s\u001b[0m 6ms/step - acc: 0.9921 - loss: 0.4797 - metric_f1score: 0.9918 - val_acc: 0.9890 - val_loss: 0.5714 - val_metric_f1score: 0.9896 - learning_rate: 0.0010\n",
      "Epoch 93/200\n",
      "\u001b[1m 1/12\u001b[0m \u001b[32m━\u001b[0m\u001b[37m━━━━━━━━━━━━━━━━━━━\u001b[0m \u001b[1m0s\u001b[0m 13ms/step - acc: 1.0000 - loss: 0.4599 - metric_f1score: 1.0000\n",
      "Epoch 93: val_acc did not improve from 1.00000\n",
      "\u001b[1m12/12\u001b[0m \u001b[32m━━━━━━━━━━━━━━━━━━━━\u001b[0m\u001b[37m\u001b[0m \u001b[1m0s\u001b[0m 6ms/step - acc: 0.9886 - loss: 0.4940 - metric_f1score: 0.9895 - val_acc: 0.9780 - val_loss: 0.6708 - val_metric_f1score: 0.9792 - learning_rate: 0.0010\n",
      "Epoch 94/200\n",
      "\u001b[1m 1/12\u001b[0m \u001b[32m━\u001b[0m\u001b[37m━━━━━━━━━━━━━━━━━━━\u001b[0m \u001b[1m0s\u001b[0m 13ms/step - acc: 1.0000 - loss: 0.4755 - metric_f1score: 1.0000\n",
      "Epoch 94: val_acc did not improve from 1.00000\n",
      "\u001b[1m12/12\u001b[0m \u001b[32m━━━━━━━━━━━━━━━━━━━━\u001b[0m\u001b[37m\u001b[0m \u001b[1m0s\u001b[0m 6ms/step - acc: 0.9857 - loss: 0.4982 - metric_f1score: 0.9825 - val_acc: 0.9780 - val_loss: 0.7018 - val_metric_f1score: 0.9792 - learning_rate: 0.0010\n",
      "Epoch 95/200\n",
      "\u001b[1m 1/12\u001b[0m \u001b[32m━\u001b[0m\u001b[37m━━━━━━━━━━━━━━━━━━━\u001b[0m \u001b[1m0s\u001b[0m 13ms/step - acc: 1.0000 - loss: 0.4685 - metric_f1score: 0.9841\n",
      "Epoch 95: val_acc did not improve from 1.00000\n",
      "\u001b[1m12/12\u001b[0m \u001b[32m━━━━━━━━━━━━━━━━━━━━\u001b[0m\u001b[37m\u001b[0m \u001b[1m0s\u001b[0m 6ms/step - acc: 0.9991 - loss: 0.4619 - metric_f1score: 0.9941 - val_acc: 0.9780 - val_loss: 0.7894 - val_metric_f1score: 0.9792 - learning_rate: 0.0010\n",
      "Epoch 96/200\n",
      "\u001b[1m 1/12\u001b[0m \u001b[32m━\u001b[0m\u001b[37m━━━━━━━━━━━━━━━━━━━\u001b[0m \u001b[1m0s\u001b[0m 14ms/step - acc: 1.0000 - loss: 0.4446 - metric_f1score: 1.0000\n",
      "Epoch 96: val_acc did not improve from 1.00000\n",
      "\u001b[1m12/12\u001b[0m \u001b[32m━━━━━━━━━━━━━━━━━━━━\u001b[0m\u001b[37m\u001b[0m \u001b[1m0s\u001b[0m 6ms/step - acc: 0.9757 - loss: 0.4963 - metric_f1score: 0.9785 - val_acc: 0.9780 - val_loss: 0.8014 - val_metric_f1score: 0.9792 - learning_rate: 0.0010\n",
      "Epoch 97/200\n",
      "\u001b[1m 4/12\u001b[0m \u001b[32m━━━━━━\u001b[0m\u001b[37m━━━━━━━━━━━━━━\u001b[0m \u001b[1m0s\u001b[0m 19ms/step - acc: 0.9629 - loss: 0.5892 - metric_f1score: 0.9706\n",
      "Epoch 97: val_acc did not improve from 1.00000\n",
      "\u001b[1m12/12\u001b[0m \u001b[32m━━━━━━━━━━━━━━━━━━━━\u001b[0m\u001b[37m\u001b[0m \u001b[1m0s\u001b[0m 11ms/step - acc: 0.9797 - loss: 0.5307 - metric_f1score: 0.9834 - val_acc: 0.9780 - val_loss: 0.7380 - val_metric_f1score: 0.9792 - learning_rate: 0.0010\n",
      "Epoch 98/200\n",
      "\u001b[1m 1/12\u001b[0m \u001b[32m━\u001b[0m\u001b[37m━━━━━━━━━━━━━━━━━━━\u001b[0m \u001b[1m0s\u001b[0m 14ms/step - acc: 1.0000 - loss: 0.4354 - metric_f1score: 1.0000\n",
      "Epoch 98: val_acc did not improve from 1.00000\n",
      "\u001b[1m12/12\u001b[0m \u001b[32m━━━━━━━━━━━━━━━━━━━━\u001b[0m\u001b[37m\u001b[0m \u001b[1m0s\u001b[0m 6ms/step - acc: 0.9903 - loss: 0.4553 - metric_f1score: 0.9916 - val_acc: 0.9780 - val_loss: 0.7244 - val_metric_f1score: 0.9792 - learning_rate: 0.0010\n",
      "Epoch 99/200\n",
      "\u001b[1m 1/12\u001b[0m \u001b[32m━\u001b[0m\u001b[37m━━━━━━━━━━━━━━━━━━━\u001b[0m \u001b[1m0s\u001b[0m 14ms/step - acc: 1.0000 - loss: 0.4409 - metric_f1score: 1.0000\n",
      "Epoch 99: val_acc did not improve from 1.00000\n",
      "\u001b[1m12/12\u001b[0m \u001b[32m━━━━━━━━━━━━━━━━━━━━\u001b[0m\u001b[37m\u001b[0m \u001b[1m0s\u001b[0m 6ms/step - acc: 0.9825 - loss: 0.4840 - metric_f1score: 0.9857 - val_acc: 0.9780 - val_loss: 0.8431 - val_metric_f1score: 0.9792 - learning_rate: 0.0010\n",
      "Epoch 100/200\n",
      "\u001b[1m 1/12\u001b[0m \u001b[32m━\u001b[0m\u001b[37m━━━━━━━━━━━━━━━━━━━\u001b[0m \u001b[1m0s\u001b[0m 13ms/step - acc: 1.0000 - loss: 0.4318 - metric_f1score: 1.0000\n",
      "Epoch 100: val_acc did not improve from 1.00000\n",
      "\u001b[1m12/12\u001b[0m \u001b[32m━━━━━━━━━━━━━━━━━━━━\u001b[0m\u001b[37m\u001b[0m \u001b[1m0s\u001b[0m 6ms/step - acc: 0.9850 - loss: 0.4732 - metric_f1score: 0.9892 - val_acc: 1.0000 - val_loss: 0.4259 - val_metric_f1score: 1.0000 - learning_rate: 0.0010\n",
      "Epoch 101/200\n",
      "\u001b[1m 1/12\u001b[0m \u001b[32m━\u001b[0m\u001b[37m━━━━━━━━━━━━━━━━━━━\u001b[0m \u001b[1m0s\u001b[0m 17ms/step - acc: 0.9688 - loss: 0.5061 - metric_f1score: 0.9688\n",
      "Epoch 101: val_acc did not improve from 1.00000\n",
      "\u001b[1m12/12\u001b[0m \u001b[32m━━━━━━━━━━━━━━━━━━━━\u001b[0m\u001b[37m\u001b[0m \u001b[1m0s\u001b[0m 7ms/step - acc: 0.9755 - loss: 0.4913 - metric_f1score: 0.9778 - val_acc: 1.0000 - val_loss: 0.4232 - val_metric_f1score: 1.0000 - learning_rate: 0.0010\n",
      "Epoch 102/200\n",
      "\u001b[1m 1/12\u001b[0m \u001b[32m━\u001b[0m\u001b[37m━━━━━━━━━━━━━━━━━━━\u001b[0m \u001b[1m0s\u001b[0m 17ms/step - acc: 0.9688 - loss: 0.5321 - metric_f1score: 0.9841\n",
      "Epoch 102: val_acc did not improve from 1.00000\n",
      "\u001b[1m12/12\u001b[0m \u001b[32m━━━━━━━━━━━━━━━━━━━━\u001b[0m\u001b[37m\u001b[0m \u001b[1m0s\u001b[0m 7ms/step - acc: 0.9799 - loss: 0.4865 - metric_f1score: 0.9848 - val_acc: 1.0000 - val_loss: 0.4209 - val_metric_f1score: 1.0000 - learning_rate: 0.0010\n",
      "Epoch 103/200\n",
      "\u001b[1m 1/12\u001b[0m \u001b[32m━\u001b[0m\u001b[37m━━━━━━━━━━━━━━━━━━━\u001b[0m \u001b[1m0s\u001b[0m 18ms/step - acc: 1.0000 - loss: 0.4274 - metric_f1score: 1.0000\n",
      "Epoch 103: val_acc did not improve from 1.00000\n",
      "\u001b[1m12/12\u001b[0m \u001b[32m━━━━━━━━━━━━━━━━━━━━\u001b[0m\u001b[37m\u001b[0m \u001b[1m0s\u001b[0m 6ms/step - acc: 0.9947 - loss: 0.4456 - metric_f1score: 0.9950 - val_acc: 1.0000 - val_loss: 0.4181 - val_metric_f1score: 1.0000 - learning_rate: 0.0010\n",
      "Epoch 104/200\n",
      "\u001b[1m 1/12\u001b[0m \u001b[32m━\u001b[0m\u001b[37m━━━━━━━━━━━━━━━━━━━\u001b[0m \u001b[1m0s\u001b[0m 15ms/step - acc: 1.0000 - loss: 0.4228 - metric_f1score: 1.0000\n",
      "Epoch 104: val_acc did not improve from 1.00000\n",
      "\u001b[1m12/12\u001b[0m \u001b[32m━━━━━━━━━━━━━━━━━━━━\u001b[0m\u001b[37m\u001b[0m \u001b[1m0s\u001b[0m 7ms/step - acc: 0.9825 - loss: 0.4623 - metric_f1score: 0.9827 - val_acc: 1.0000 - val_loss: 0.4152 - val_metric_f1score: 1.0000 - learning_rate: 0.0010\n",
      "Epoch 105/200\n",
      "\u001b[1m 1/12\u001b[0m \u001b[32m━\u001b[0m\u001b[37m━━━━━━━━━━━━━━━━━━━\u001b[0m \u001b[1m0s\u001b[0m 16ms/step - acc: 1.0000 - loss: 0.4199 - metric_f1score: 1.0000\n",
      "Epoch 105: val_acc did not improve from 1.00000\n",
      "\u001b[1m12/12\u001b[0m \u001b[32m━━━━━━━━━━━━━━━━━━━━\u001b[0m\u001b[37m\u001b[0m \u001b[1m0s\u001b[0m 7ms/step - acc: 0.9960 - loss: 0.4302 - metric_f1score: 0.9970 - val_acc: 1.0000 - val_loss: 0.4138 - val_metric_f1score: 1.0000 - learning_rate: 0.0010\n",
      "Epoch 106/200\n",
      "\u001b[1m 1/12\u001b[0m \u001b[32m━\u001b[0m\u001b[37m━━━━━━━━━━━━━━━━━━━\u001b[0m \u001b[1m0s\u001b[0m 13ms/step - acc: 0.9375 - loss: 1.0888 - metric_f1score: 0.9375\n",
      "Epoch 106: val_acc did not improve from 1.00000\n",
      "\u001b[1m12/12\u001b[0m \u001b[32m━━━━━━━━━━━━━━━━━━━━\u001b[0m\u001b[37m\u001b[0m \u001b[1m0s\u001b[0m 6ms/step - acc: 0.9732 - loss: 0.7466 - metric_f1score: 0.9739 - val_acc: 0.9780 - val_loss: 2.0769 - val_metric_f1score: 0.9792 - learning_rate: 0.0010\n",
      "Epoch 107/200\n",
      "\u001b[1m 1/12\u001b[0m \u001b[32m━\u001b[0m\u001b[37m━━━━━━━━━━━━━━━━━━━\u001b[0m \u001b[1m0s\u001b[0m 12ms/step - acc: 0.9688 - loss: 2.0947 - metric_f1score: 0.9688\n",
      "Epoch 107: val_acc did not improve from 1.00000\n",
      "\u001b[1m12/12\u001b[0m \u001b[32m━━━━━━━━━━━━━━━━━━━━\u001b[0m\u001b[37m\u001b[0m \u001b[1m0s\u001b[0m 6ms/step - acc: 0.9631 - loss: 1.0620 - metric_f1score: 0.9630 - val_acc: 0.9890 - val_loss: 0.4614 - val_metric_f1score: 0.9884 - learning_rate: 0.0010\n",
      "Epoch 108/200\n",
      "\u001b[1m 1/12\u001b[0m \u001b[32m━\u001b[0m\u001b[37m━━━━━━━━━━━━━━━━━━━\u001b[0m \u001b[1m0s\u001b[0m 13ms/step - acc: 0.9062 - loss: 0.7816 - metric_f1score: 0.8667\n",
      "Epoch 108: val_acc did not improve from 1.00000\n",
      "\u001b[1m12/12\u001b[0m \u001b[32m━━━━━━━━━━━━━━━━━━━━\u001b[0m\u001b[37m\u001b[0m \u001b[1m0s\u001b[0m 6ms/step - acc: 0.9350 - loss: 0.6441 - metric_f1score: 0.9311 - val_acc: 0.9780 - val_loss: 0.5401 - val_metric_f1score: 0.9725 - learning_rate: 0.0010\n",
      "Epoch 109/200\n",
      "\u001b[1m 1/12\u001b[0m \u001b[32m━\u001b[0m\u001b[37m━━━━━━━━━━━━━━━━━━━\u001b[0m \u001b[1m0s\u001b[0m 14ms/step - acc: 0.9688 - loss: 0.5992 - metric_f1score: 0.9355\n",
      "Epoch 109: val_acc did not improve from 1.00000\n",
      "\u001b[1m12/12\u001b[0m \u001b[32m━━━━━━━━━━━━━━━━━━━━\u001b[0m\u001b[37m\u001b[0m \u001b[1m0s\u001b[0m 6ms/step - acc: 0.9655 - loss: 0.5598 - metric_f1score: 0.9585 - val_acc: 0.9780 - val_loss: 0.4756 - val_metric_f1score: 0.9843 - learning_rate: 0.0010\n",
      "Epoch 110/200\n",
      "\u001b[1m 1/12\u001b[0m \u001b[32m━\u001b[0m\u001b[37m━━━━━━━━━━━━━━━━━━━\u001b[0m \u001b[1m0s\u001b[0m 13ms/step - acc: 0.9062 - loss: 0.5762 - metric_f1score: 0.9206\n",
      "Epoch 110: val_acc did not improve from 1.00000\n",
      "\u001b[1m12/12\u001b[0m \u001b[32m━━━━━━━━━━━━━━━━━━━━\u001b[0m\u001b[37m\u001b[0m \u001b[1m0s\u001b[0m 6ms/step - acc: 0.9489 - loss: 0.5426 - metric_f1score: 0.9554 - val_acc: 0.9780 - val_loss: 0.4774 - val_metric_f1score: 0.9843 - learning_rate: 0.0010\n",
      "Epoch 111/200\n",
      "\u001b[1m 1/12\u001b[0m \u001b[32m━\u001b[0m\u001b[37m━━━━━━━━━━━━━━━━━━━\u001b[0m \u001b[1m0s\u001b[0m 12ms/step - acc: 0.9688 - loss: 0.5024 - metric_f1score: 0.9841\n",
      "Epoch 111: val_acc did not improve from 1.00000\n",
      "\u001b[1m12/12\u001b[0m \u001b[32m━━━━━━━━━━━━━━━━━━━━\u001b[0m\u001b[37m\u001b[0m \u001b[1m0s\u001b[0m 6ms/step - acc: 0.9747 - loss: 0.4881 - metric_f1score: 0.9774 - val_acc: 0.9780 - val_loss: 0.4524 - val_metric_f1score: 0.9843 - learning_rate: 0.0010\n",
      "Epoch 112/200\n",
      "\u001b[1m 1/12\u001b[0m \u001b[32m━\u001b[0m\u001b[37m━━━━━━━━━━━━━━━━━━━\u001b[0m \u001b[1m0s\u001b[0m 47ms/step - acc: 1.0000 - loss: 0.4386 - metric_f1score: 1.0000\n",
      "Epoch 112: val_acc did not improve from 1.00000\n",
      "\u001b[1m12/12\u001b[0m \u001b[32m━━━━━━━━━━━━━━━━━━━━\u001b[0m\u001b[37m\u001b[0m \u001b[1m0s\u001b[0m 6ms/step - acc: 0.9733 - loss: 0.4879 - metric_f1score: 0.9758 - val_acc: 1.0000 - val_loss: 0.4242 - val_metric_f1score: 1.0000 - learning_rate: 0.0010\n",
      "Epoch 113/200\n",
      "\u001b[1m 1/12\u001b[0m \u001b[32m━\u001b[0m\u001b[37m━━━━━━━━━━━━━━━━━━━\u001b[0m \u001b[1m0s\u001b[0m 13ms/step - acc: 1.0000 - loss: 0.4221 - metric_f1score: 1.0000\n",
      "Epoch 113: val_acc did not improve from 1.00000\n",
      "\u001b[1m12/12\u001b[0m \u001b[32m━━━━━━━━━━━━━━━━━━━━\u001b[0m\u001b[37m\u001b[0m \u001b[1m0s\u001b[0m 6ms/step - acc: 0.9922 - loss: 0.4446 - metric_f1score: 0.9899 - val_acc: 1.0000 - val_loss: 0.4218 - val_metric_f1score: 1.0000 - learning_rate: 0.0010\n",
      "Epoch 114/200\n",
      "\u001b[1m 1/12\u001b[0m \u001b[32m━\u001b[0m\u001b[37m━━━━━━━━━━━━━━━━━━━\u001b[0m \u001b[1m0s\u001b[0m 14ms/step - acc: 0.9688 - loss: 0.6266 - metric_f1score: 0.9688\n",
      "Epoch 114: val_acc did not improve from 1.00000\n",
      "\u001b[1m12/12\u001b[0m \u001b[32m━━━━━━━━━━━━━━━━━━━━\u001b[0m\u001b[37m\u001b[0m \u001b[1m0s\u001b[0m 6ms/step - acc: 0.9621 - loss: 0.5537 - metric_f1score: 0.9656 - val_acc: 1.0000 - val_loss: 0.4142 - val_metric_f1score: 1.0000 - learning_rate: 0.0010\n",
      "Epoch 115/200\n",
      "\u001b[1m 1/12\u001b[0m \u001b[32m━\u001b[0m\u001b[37m━━━━━━━━━━━━━━━━━━━\u001b[0m \u001b[1m0s\u001b[0m 13ms/step - acc: 1.0000 - loss: 0.4166 - metric_f1score: 1.0000\n",
      "Epoch 115: val_acc did not improve from 1.00000\n",
      "\u001b[1m12/12\u001b[0m \u001b[32m━━━━━━━━━━━━━━━━━━━━\u001b[0m\u001b[37m\u001b[0m \u001b[1m0s\u001b[0m 6ms/step - acc: 0.9867 - loss: 0.4704 - metric_f1score: 0.9903 - val_acc: 1.0000 - val_loss: 0.4072 - val_metric_f1score: 1.0000 - learning_rate: 0.0010\n",
      "Epoch 116/200\n",
      "\u001b[1m 1/12\u001b[0m \u001b[32m━\u001b[0m\u001b[37m━━━━━━━━━━━━━━━━━━━\u001b[0m \u001b[1m0s\u001b[0m 13ms/step - acc: 0.9688 - loss: 0.4973 - metric_f1score: 0.9841\n",
      "Epoch 116: val_acc did not improve from 1.00000\n",
      "\u001b[1m12/12\u001b[0m \u001b[32m━━━━━━━━━━━━━━━━━━━━\u001b[0m\u001b[37m\u001b[0m \u001b[1m0s\u001b[0m 6ms/step - acc: 0.9899 - loss: 0.4478 - metric_f1score: 0.9927 - val_acc: 1.0000 - val_loss: 0.4039 - val_metric_f1score: 1.0000 - learning_rate: 0.0010\n",
      "Epoch 117/200\n",
      "\u001b[1m 1/12\u001b[0m \u001b[32m━\u001b[0m\u001b[37m━━━━━━━━━━━━━━━━━━━\u001b[0m \u001b[1m0s\u001b[0m 12ms/step - acc: 1.0000 - loss: 0.4461 - metric_f1score: 0.9841\n",
      "Epoch 117: val_acc did not improve from 1.00000\n",
      "\u001b[1m12/12\u001b[0m \u001b[32m━━━━━━━━━━━━━━━━━━━━\u001b[0m\u001b[37m\u001b[0m \u001b[1m0s\u001b[0m 6ms/step - acc: 0.9877 - loss: 0.4707 - metric_f1score: 0.9800 - val_acc: 1.0000 - val_loss: 0.4011 - val_metric_f1score: 1.0000 - learning_rate: 0.0010\n",
      "Epoch 118/200\n",
      "\u001b[1m 1/12\u001b[0m \u001b[32m━\u001b[0m\u001b[37m━━━━━━━━━━━━━━━━━━━\u001b[0m \u001b[1m0s\u001b[0m 14ms/step - acc: 0.9688 - loss: 0.4832 - metric_f1score: 0.9841\n",
      "Epoch 118: val_acc did not improve from 1.00000\n",
      "\u001b[1m12/12\u001b[0m \u001b[32m━━━━━━━━━━━━━━━━━━━━\u001b[0m\u001b[37m\u001b[0m \u001b[1m0s\u001b[0m 6ms/step - acc: 0.9802 - loss: 0.4535 - metric_f1score: 0.9848 - val_acc: 1.0000 - val_loss: 0.3984 - val_metric_f1score: 1.0000 - learning_rate: 0.0010\n",
      "Epoch 119/200\n",
      "\u001b[1m 1/12\u001b[0m \u001b[32m━\u001b[0m\u001b[37m━━━━━━━━━━━━━━━━━━━\u001b[0m \u001b[1m0s\u001b[0m 15ms/step - acc: 0.9375 - loss: 0.6376 - metric_f1score: 0.9524\n",
      "Epoch 119: val_acc did not improve from 1.00000\n",
      "\u001b[1m12/12\u001b[0m \u001b[32m━━━━━━━━━━━━━━━━━━━━\u001b[0m\u001b[37m\u001b[0m \u001b[1m0s\u001b[0m 7ms/step - acc: 0.9717 - loss: 0.5096 - metric_f1score: 0.9735 - val_acc: 1.0000 - val_loss: 0.3957 - val_metric_f1score: 1.0000 - learning_rate: 0.0010\n",
      "Epoch 120/200\n",
      "\u001b[1m 1/12\u001b[0m \u001b[32m━\u001b[0m\u001b[37m━━━━━━━━━━━━━━━━━━━\u001b[0m \u001b[1m0s\u001b[0m 15ms/step - acc: 1.0000 - loss: 0.3955 - metric_f1score: 1.0000\n",
      "Epoch 120: val_acc did not improve from 1.00000\n",
      "\u001b[1m12/12\u001b[0m \u001b[32m━━━━━━━━━━━━━━━━━━━━\u001b[0m\u001b[37m\u001b[0m \u001b[1m0s\u001b[0m 6ms/step - acc: 0.9809 - loss: 0.4488 - metric_f1score: 0.9820 - val_acc: 1.0000 - val_loss: 0.3924 - val_metric_f1score: 1.0000 - learning_rate: 0.0010\n",
      "Epoch 121/200\n",
      "\u001b[1m 1/12\u001b[0m \u001b[32m━\u001b[0m\u001b[37m━━━━━━━━━━━━━━━━━━━\u001b[0m \u001b[1m0s\u001b[0m 14ms/step - acc: 0.9688 - loss: 0.4851 - metric_f1score: 0.9841\n",
      "Epoch 121: val_acc did not improve from 1.00000\n",
      "\u001b[1m12/12\u001b[0m \u001b[32m━━━━━━━━━━━━━━━━━━━━\u001b[0m\u001b[37m\u001b[0m \u001b[1m0s\u001b[0m 7ms/step - acc: 0.9774 - loss: 0.4622 - metric_f1score: 0.9868 - val_acc: 1.0000 - val_loss: 0.3896 - val_metric_f1score: 1.0000 - learning_rate: 0.0010\n",
      "Epoch 122/200\n",
      "\u001b[1m 1/12\u001b[0m \u001b[32m━\u001b[0m\u001b[37m━━━━━━━━━━━━━━━━━━━\u001b[0m \u001b[1m0s\u001b[0m 14ms/step - acc: 1.0000 - loss: 0.3974 - metric_f1score: 1.0000\n",
      "Epoch 122: val_acc did not improve from 1.00000\n",
      "\u001b[1m12/12\u001b[0m \u001b[32m━━━━━━━━━━━━━━━━━━━━\u001b[0m\u001b[37m\u001b[0m \u001b[1m0s\u001b[0m 6ms/step - acc: 0.9915 - loss: 0.4182 - metric_f1score: 0.9922 - val_acc: 1.0000 - val_loss: 0.3869 - val_metric_f1score: 1.0000 - learning_rate: 0.0010\n",
      "Epoch 123/200\n",
      "\u001b[1m 1/12\u001b[0m \u001b[32m━\u001b[0m\u001b[37m━━━━━━━━━━━━━━━━━━━\u001b[0m \u001b[1m0s\u001b[0m 15ms/step - acc: 1.0000 - loss: 0.4185 - metric_f1score: 1.0000\n",
      "Epoch 123: val_acc did not improve from 1.00000\n",
      "\u001b[1m12/12\u001b[0m \u001b[32m━━━━━━━━━━━━━━━━━━━━\u001b[0m\u001b[37m\u001b[0m \u001b[1m0s\u001b[0m 6ms/step - acc: 0.9888 - loss: 0.4308 - metric_f1score: 0.9903 - val_acc: 1.0000 - val_loss: 0.3842 - val_metric_f1score: 1.0000 - learning_rate: 0.0010\n",
      "Epoch 124/200\n",
      "\u001b[1m 5/12\u001b[0m \u001b[32m━━━━━━━━\u001b[0m\u001b[37m━━━━━━━━━━━━\u001b[0m \u001b[1m0s\u001b[0m 14ms/step - acc: 0.9871 - loss: 0.4212 - metric_f1score: 0.9881\n",
      "Epoch 124: val_acc did not improve from 1.00000\n",
      "\u001b[1m12/12\u001b[0m \u001b[32m━━━━━━━━━━━━━━━━━━━━\u001b[0m\u001b[37m\u001b[0m \u001b[1m0s\u001b[0m 10ms/step - acc: 0.9880 - loss: 0.4243 - metric_f1score: 0.9857 - val_acc: 1.0000 - val_loss: 0.3816 - val_metric_f1score: 1.0000 - learning_rate: 0.0010\n",
      "Epoch 125/200\n",
      "\u001b[1m 1/12\u001b[0m \u001b[32m━\u001b[0m\u001b[37m━━━━━━━━━━━━━━━━━━━\u001b[0m \u001b[1m0s\u001b[0m 13ms/step - acc: 0.9375 - loss: 0.4851 - metric_f1score: 0.9677\n",
      "Epoch 125: val_acc did not improve from 1.00000\n",
      "\u001b[1m12/12\u001b[0m \u001b[32m━━━━━━━━━━━━━━━━━━━━\u001b[0m\u001b[37m\u001b[0m \u001b[1m0s\u001b[0m 6ms/step - acc: 0.9790 - loss: 0.4301 - metric_f1score: 0.9834 - val_acc: 1.0000 - val_loss: 0.3789 - val_metric_f1score: 1.0000 - learning_rate: 0.0010\n",
      "Epoch 126/200\n",
      "\u001b[1m 1/12\u001b[0m \u001b[32m━\u001b[0m\u001b[37m━━━━━━━━━━━━━━━━━━━\u001b[0m \u001b[1m0s\u001b[0m 13ms/step - acc: 1.0000 - loss: 0.3800 - metric_f1score: 1.0000\n",
      "Epoch 126: val_acc did not improve from 1.00000\n",
      "\u001b[1m12/12\u001b[0m \u001b[32m━━━━━━━━━━━━━━━━━━━━\u001b[0m\u001b[37m\u001b[0m \u001b[1m0s\u001b[0m 6ms/step - acc: 0.9920 - loss: 0.4007 - metric_f1score: 0.9929 - val_acc: 1.0000 - val_loss: 0.3762 - val_metric_f1score: 1.0000 - learning_rate: 0.0010\n",
      "Epoch 127/200\n",
      "\u001b[1m 1/12\u001b[0m \u001b[32m━\u001b[0m\u001b[37m━━━━━━━━━━━━━━━━━━━\u001b[0m \u001b[1m0s\u001b[0m 14ms/step - acc: 1.0000 - loss: 0.3773 - metric_f1score: 1.0000\n",
      "Epoch 127: val_acc did not improve from 1.00000\n",
      "\u001b[1m12/12\u001b[0m \u001b[32m━━━━━━━━━━━━━━━━━━━━\u001b[0m\u001b[37m\u001b[0m \u001b[1m0s\u001b[0m 6ms/step - acc: 0.9817 - loss: 0.4255 - metric_f1score: 0.9872 - val_acc: 1.0000 - val_loss: 0.3736 - val_metric_f1score: 1.0000 - learning_rate: 0.0010\n",
      "Epoch 128/200\n",
      "\u001b[1m 1/12\u001b[0m \u001b[32m━\u001b[0m\u001b[37m━━━━━━━━━━━━━━━━━━━\u001b[0m \u001b[1m0s\u001b[0m 12ms/step - acc: 1.0000 - loss: 0.3740 - metric_f1score: 1.0000\n",
      "Epoch 128: val_acc did not improve from 1.00000\n",
      "\u001b[1m12/12\u001b[0m \u001b[32m━━━━━━━━━━━━━━━━━━━━\u001b[0m\u001b[37m\u001b[0m \u001b[1m0s\u001b[0m 6ms/step - acc: 0.9856 - loss: 0.4125 - metric_f1score: 0.9862 - val_acc: 1.0000 - val_loss: 0.3711 - val_metric_f1score: 1.0000 - learning_rate: 0.0010\n",
      "Epoch 129/200\n",
      "\u001b[1m 1/12\u001b[0m \u001b[32m━\u001b[0m\u001b[37m━━━━━━━━━━━━━━━━━━━\u001b[0m \u001b[1m0s\u001b[0m 13ms/step - acc: 1.0000 - loss: 0.3893 - metric_f1score: 1.0000\n",
      "Epoch 129: val_acc did not improve from 1.00000\n",
      "\u001b[1m12/12\u001b[0m \u001b[32m━━━━━━━━━━━━━━━━━━━━\u001b[0m\u001b[37m\u001b[0m \u001b[1m0s\u001b[0m 6ms/step - acc: 0.9817 - loss: 0.4525 - metric_f1score: 0.9792 - val_acc: 1.0000 - val_loss: 0.3686 - val_metric_f1score: 1.0000 - learning_rate: 0.0010\n",
      "Epoch 130/200\n",
      "\u001b[1m 1/12\u001b[0m \u001b[32m━\u001b[0m\u001b[37m━━━━━━━━━━━━━━━━━━━\u001b[0m \u001b[1m0s\u001b[0m 13ms/step - acc: 1.0000 - loss: 0.3707 - metric_f1score: 1.0000\n",
      "Epoch 130: val_acc did not improve from 1.00000\n",
      "\u001b[1m12/12\u001b[0m \u001b[32m━━━━━━━━━━━━━━━━━━━━\u001b[0m\u001b[37m\u001b[0m \u001b[1m0s\u001b[0m 6ms/step - acc: 0.9842 - loss: 0.4048 - metric_f1score: 0.9875 - val_acc: 1.0000 - val_loss: 0.3662 - val_metric_f1score: 1.0000 - learning_rate: 0.0010\n",
      "Epoch 131/200\n",
      "\u001b[1m 1/12\u001b[0m \u001b[32m━\u001b[0m\u001b[37m━━━━━━━━━━━━━━━━━━━\u001b[0m \u001b[1m0s\u001b[0m 14ms/step - acc: 0.9688 - loss: 0.4167 - metric_f1score: 0.9841\n",
      "Epoch 131: val_acc did not improve from 1.00000\n",
      "\u001b[1m12/12\u001b[0m \u001b[32m━━━━━━━━━━━━━━━━━━━━\u001b[0m\u001b[37m\u001b[0m \u001b[1m0s\u001b[0m 7ms/step - acc: 0.9770 - loss: 0.4222 - metric_f1score: 0.9838 - val_acc: 1.0000 - val_loss: 0.3637 - val_metric_f1score: 1.0000 - learning_rate: 0.0010\n",
      "Epoch 132/200\n",
      "\u001b[1m 1/12\u001b[0m \u001b[32m━\u001b[0m\u001b[37m━━━━━━━━━━━━━━━━━━━\u001b[0m \u001b[1m0s\u001b[0m 15ms/step - acc: 1.0000 - loss: 0.3701 - metric_f1score: 1.0000\n",
      "Epoch 132: val_acc did not improve from 1.00000\n",
      "\u001b[1m12/12\u001b[0m \u001b[32m━━━━━━━━━━━━━━━━━━━━\u001b[0m\u001b[37m\u001b[0m \u001b[1m0s\u001b[0m 6ms/step - acc: 0.9903 - loss: 0.4003 - metric_f1score: 0.9893 - val_acc: 1.0000 - val_loss: 0.3614 - val_metric_f1score: 1.0000 - learning_rate: 0.0010\n",
      "Epoch 133/200\n",
      "\u001b[1m 1/12\u001b[0m \u001b[32m━\u001b[0m\u001b[37m━━━━━━━━━━━━━━━━━━━\u001b[0m \u001b[1m0s\u001b[0m 12ms/step - acc: 1.0000 - loss: 0.3615 - metric_f1score: 1.0000\n",
      "Epoch 133: val_acc did not improve from 1.00000\n",
      "\u001b[1m12/12\u001b[0m \u001b[32m━━━━━━━━━━━━━━━━━━━━\u001b[0m\u001b[37m\u001b[0m \u001b[1m0s\u001b[0m 6ms/step - acc: 0.9971 - loss: 0.3784 - metric_f1score: 0.9969 - val_acc: 1.0000 - val_loss: 0.3590 - val_metric_f1score: 1.0000 - learning_rate: 0.0010\n",
      "Epoch 134/200\n",
      "\u001b[1m 1/12\u001b[0m \u001b[32m━\u001b[0m\u001b[37m━━━━━━━━━━━━━━━━━━━\u001b[0m \u001b[1m0s\u001b[0m 15ms/step - acc: 0.9688 - loss: 0.5413 - metric_f1score: 0.9688\n",
      "Epoch 134: val_acc did not improve from 1.00000\n",
      "\u001b[1m12/12\u001b[0m \u001b[32m━━━━━━━━━━━━━━━━━━━━\u001b[0m\u001b[37m\u001b[0m \u001b[1m0s\u001b[0m 6ms/step - acc: 0.9794 - loss: 0.4400 - metric_f1score: 0.9829 - val_acc: 1.0000 - val_loss: 0.3566 - val_metric_f1score: 1.0000 - learning_rate: 0.0010\n",
      "Epoch 135/200\n",
      "\u001b[1m 1/12\u001b[0m \u001b[32m━\u001b[0m\u001b[37m━━━━━━━━━━━━━━━━━━━\u001b[0m \u001b[1m0s\u001b[0m 14ms/step - acc: 0.9375 - loss: 0.9165 - metric_f1score: 0.9375\n",
      "Epoch 135: val_acc did not improve from 1.00000\n",
      "\u001b[1m12/12\u001b[0m \u001b[32m━━━━━━━━━━━━━━━━━━━━\u001b[0m\u001b[37m\u001b[0m \u001b[1m0s\u001b[0m 6ms/step - acc: 0.9728 - loss: 0.5259 - metric_f1score: 0.9777 - val_acc: 1.0000 - val_loss: 0.3544 - val_metric_f1score: 1.0000 - learning_rate: 0.0010\n",
      "Epoch 136/200\n",
      "\u001b[1m 1/12\u001b[0m \u001b[32m━\u001b[0m\u001b[37m━━━━━━━━━━━━━━━━━━━\u001b[0m \u001b[1m0s\u001b[0m 15ms/step - acc: 1.0000 - loss: 0.3569 - metric_f1score: 1.0000\n",
      "Epoch 136: val_acc did not improve from 1.00000\n",
      "\u001b[1m12/12\u001b[0m \u001b[32m━━━━━━━━━━━━━━━━━━━━\u001b[0m\u001b[37m\u001b[0m \u001b[1m0s\u001b[0m 6ms/step - acc: 0.9963 - loss: 0.3682 - metric_f1score: 0.9960 - val_acc: 1.0000 - val_loss: 0.3519 - val_metric_f1score: 1.0000 - learning_rate: 0.0010\n",
      "Epoch 137/200\n",
      "\u001b[1m 1/12\u001b[0m \u001b[32m━\u001b[0m\u001b[37m━━━━━━━━━━━━━━━━━━━\u001b[0m \u001b[1m0s\u001b[0m 15ms/step - acc: 1.0000 - loss: 0.3691 - metric_f1score: 1.0000\n",
      "Epoch 137: val_acc did not improve from 1.00000\n",
      "\u001b[1m12/12\u001b[0m \u001b[32m━━━━━━━━━━━━━━━━━━━━\u001b[0m\u001b[37m\u001b[0m \u001b[1m0s\u001b[0m 6ms/step - acc: 0.9821 - loss: 0.4071 - metric_f1score: 0.9854 - val_acc: 1.0000 - val_loss: 0.3496 - val_metric_f1score: 1.0000 - learning_rate: 0.0010\n",
      "Epoch 138/200\n",
      "\u001b[1m11/12\u001b[0m \u001b[32m━━━━━━━━━━━━━━━━━━\u001b[0m\u001b[37m━━\u001b[0m \u001b[1m0s\u001b[0m 7ms/step - acc: 0.9872 - loss: 0.3943 - metric_f1score: 0.9894 \n",
      "Epoch 138: val_acc did not improve from 1.00000\n",
      "\u001b[1m12/12\u001b[0m \u001b[32m━━━━━━━━━━━━━━━━━━━━\u001b[0m\u001b[37m\u001b[0m \u001b[1m0s\u001b[0m 11ms/step - acc: 0.9866 - loss: 0.3944 - metric_f1score: 0.9886 - val_acc: 1.0000 - val_loss: 0.3472 - val_metric_f1score: 1.0000 - learning_rate: 0.0010\n",
      "Epoch 139/200\n",
      "\u001b[1m 1/12\u001b[0m \u001b[32m━\u001b[0m\u001b[37m━━━━━━━━━━━━━━━━━━━\u001b[0m \u001b[1m0s\u001b[0m 15ms/step - acc: 0.9688 - loss: 0.3889 - metric_f1score: 0.9841\n",
      "Epoch 139: val_acc did not improve from 1.00000\n",
      "\u001b[1m12/12\u001b[0m \u001b[32m━━━━━━━━━━━━━━━━━━━━\u001b[0m\u001b[37m\u001b[0m \u001b[1m0s\u001b[0m 7ms/step - acc: 0.9844 - loss: 0.4090 - metric_f1score: 0.9885 - val_acc: 1.0000 - val_loss: 0.3448 - val_metric_f1score: 1.0000 - learning_rate: 0.0010\n",
      "Epoch 140/200\n",
      "\u001b[1m 1/12\u001b[0m \u001b[32m━\u001b[0m\u001b[37m━━━━━━━━━━━━━━━━━━━\u001b[0m \u001b[1m0s\u001b[0m 14ms/step - acc: 1.0000 - loss: 0.3580 - metric_f1score: 1.0000\n",
      "Epoch 140: val_acc did not improve from 1.00000\n",
      "\u001b[1m12/12\u001b[0m \u001b[32m━━━━━━━━━━━━━━━━━━━━\u001b[0m\u001b[37m\u001b[0m \u001b[1m0s\u001b[0m 6ms/step - acc: 0.9936 - loss: 0.3704 - metric_f1score: 0.9933 - val_acc: 1.0000 - val_loss: 0.3424 - val_metric_f1score: 1.0000 - learning_rate: 0.0010\n",
      "Epoch 141/200\n",
      "\u001b[1m 1/12\u001b[0m \u001b[32m━\u001b[0m\u001b[37m━━━━━━━━━━━━━━━━━━━\u001b[0m \u001b[1m0s\u001b[0m 13ms/step - acc: 0.9688 - loss: 0.4394 - metric_f1score: 0.9841\n",
      "Epoch 141: val_acc did not improve from 1.00000\n",
      "\u001b[1m12/12\u001b[0m \u001b[32m━━━━━━━━━━━━━━━━━━━━\u001b[0m\u001b[37m\u001b[0m \u001b[1m0s\u001b[0m 7ms/step - acc: 0.9891 - loss: 0.3836 - metric_f1score: 0.9909 - val_acc: 1.0000 - val_loss: 0.3402 - val_metric_f1score: 1.0000 - learning_rate: 0.0010\n",
      "Epoch 142/200\n",
      "\u001b[1m 1/12\u001b[0m \u001b[32m━\u001b[0m\u001b[37m━━━━━━━━━━━━━━━━━━━\u001b[0m \u001b[1m0s\u001b[0m 14ms/step - acc: 1.0000 - loss: 0.3561 - metric_f1score: 1.0000\n",
      "Epoch 142: val_acc did not improve from 1.00000\n",
      "\u001b[1m12/12\u001b[0m \u001b[32m━━━━━━━━━━━━━━━━━━━━\u001b[0m\u001b[37m\u001b[0m \u001b[1m0s\u001b[0m 7ms/step - acc: 0.9956 - loss: 0.3569 - metric_f1score: 0.9956 - val_acc: 1.0000 - val_loss: 0.3380 - val_metric_f1score: 1.0000 - learning_rate: 0.0010\n",
      "Epoch 143/200\n",
      "\u001b[1m 1/12\u001b[0m \u001b[32m━\u001b[0m\u001b[37m━━━━━━━━━━━━━━━━━━━\u001b[0m \u001b[1m0s\u001b[0m 14ms/step - acc: 1.0000 - loss: 0.3391 - metric_f1score: 1.0000\n",
      "Epoch 143: val_acc did not improve from 1.00000\n",
      "\u001b[1m12/12\u001b[0m \u001b[32m━━━━━━━━━━━━━━━━━━━━\u001b[0m\u001b[37m\u001b[0m \u001b[1m0s\u001b[0m 7ms/step - acc: 0.9885 - loss: 0.3907 - metric_f1score: 0.9876 - val_acc: 0.9890 - val_loss: 0.3793 - val_metric_f1score: 0.9896 - learning_rate: 0.0010\n",
      "Epoch 144/200\n",
      "\u001b[1m 1/12\u001b[0m \u001b[32m━\u001b[0m\u001b[37m━━━━━━━━━━━━━━━━━━━\u001b[0m \u001b[1m0s\u001b[0m 15ms/step - acc: 0.9688 - loss: 0.5482 - metric_f1score: 0.9524\n",
      "Epoch 144: val_acc did not improve from 1.00000\n",
      "\u001b[1m12/12\u001b[0m \u001b[32m━━━━━━━━━━━━━━━━━━━━\u001b[0m\u001b[37m\u001b[0m \u001b[1m0s\u001b[0m 6ms/step - acc: 0.9842 - loss: 0.4164 - metric_f1score: 0.9811 - val_acc: 1.0000 - val_loss: 0.3350 - val_metric_f1score: 1.0000 - learning_rate: 0.0010\n",
      "Epoch 145/200\n",
      "\u001b[1m 1/12\u001b[0m \u001b[32m━\u001b[0m\u001b[37m━━━━━━━━━━━━━━━━━━━\u001b[0m \u001b[1m0s\u001b[0m 13ms/step - acc: 0.9688 - loss: 0.3905 - metric_f1score: 0.9688\n",
      "Epoch 145: val_acc did not improve from 1.00000\n",
      "\u001b[1m12/12\u001b[0m \u001b[32m━━━━━━━━━━━━━━━━━━━━\u001b[0m\u001b[37m\u001b[0m \u001b[1m0s\u001b[0m 7ms/step - acc: 0.9711 - loss: 0.4197 - metric_f1score: 0.9750 - val_acc: 1.0000 - val_loss: 0.3335 - val_metric_f1score: 1.0000 - learning_rate: 0.0010\n",
      "Epoch 146/200\n",
      "\u001b[1m 1/12\u001b[0m \u001b[32m━\u001b[0m\u001b[37m━━━━━━━━━━━━━━━━━━━\u001b[0m \u001b[1m0s\u001b[0m 16ms/step - acc: 0.9688 - loss: 0.6338 - metric_f1score: 0.9524\n",
      "Epoch 146: val_acc did not improve from 1.00000\n",
      "\u001b[1m12/12\u001b[0m \u001b[32m━━━━━━━━━━━━━━━━━━━━\u001b[0m\u001b[37m\u001b[0m \u001b[1m0s\u001b[0m 6ms/step - acc: 0.9877 - loss: 0.4273 - metric_f1score: 0.9840 - val_acc: 1.0000 - val_loss: 0.3325 - val_metric_f1score: 1.0000 - learning_rate: 0.0010\n",
      "Epoch 147/200\n",
      "\u001b[1m 1/12\u001b[0m \u001b[32m━\u001b[0m\u001b[37m━━━━━━━━━━━━━━━━━━━\u001b[0m \u001b[1m0s\u001b[0m 14ms/step - acc: 1.0000 - loss: 0.3824 - metric_f1score: 0.9841\n",
      "Epoch 147: val_acc did not improve from 1.00000\n",
      "\u001b[1m12/12\u001b[0m \u001b[32m━━━━━━━━━━━━━━━━━━━━\u001b[0m\u001b[37m\u001b[0m \u001b[1m0s\u001b[0m 6ms/step - acc: 0.9846 - loss: 0.3775 - metric_f1score: 0.9810 - val_acc: 1.0000 - val_loss: 0.3308 - val_metric_f1score: 1.0000 - learning_rate: 0.0010\n",
      "Epoch 148/200\n",
      "\u001b[1m 1/12\u001b[0m \u001b[32m━\u001b[0m\u001b[37m━━━━━━━━━━━━━━━━━━━\u001b[0m \u001b[1m0s\u001b[0m 16ms/step - acc: 0.9688 - loss: 0.3638 - metric_f1score: 0.9841\n",
      "Epoch 148: val_acc did not improve from 1.00000\n",
      "\u001b[1m12/12\u001b[0m \u001b[32m━━━━━━━━━━━━━━━━━━━━\u001b[0m\u001b[37m\u001b[0m \u001b[1m0s\u001b[0m 7ms/step - acc: 0.9873 - loss: 0.3588 - metric_f1score: 0.9907 - val_acc: 1.0000 - val_loss: 0.3288 - val_metric_f1score: 1.0000 - learning_rate: 0.0010\n",
      "Epoch 149/200\n",
      "\u001b[1m 6/12\u001b[0m \u001b[32m━━━━━━━━━━\u001b[0m\u001b[37m━━━━━━━━━━\u001b[0m \u001b[1m0s\u001b[0m 12ms/step - acc: 0.9924 - loss: 0.3515 - metric_f1score: 0.9962\n",
      "Epoch 149: val_acc did not improve from 1.00000\n",
      "\u001b[1m12/12\u001b[0m \u001b[32m━━━━━━━━━━━━━━━━━━━━\u001b[0m\u001b[37m\u001b[0m \u001b[1m0s\u001b[0m 12ms/step - acc: 0.9920 - loss: 0.3515 - metric_f1score: 0.9944 - val_acc: 1.0000 - val_loss: 0.3271 - val_metric_f1score: 1.0000 - learning_rate: 0.0010\n",
      "Epoch 150/200\n",
      "\u001b[1m 1/12\u001b[0m \u001b[32m━\u001b[0m\u001b[37m━━━━━━━━━━━━━━━━━━━\u001b[0m \u001b[1m0s\u001b[0m 14ms/step - acc: 0.9688 - loss: 0.4165 - metric_f1score: 0.9688\n",
      "Epoch 150: val_acc did not improve from 1.00000\n",
      "\u001b[1m12/12\u001b[0m \u001b[32m━━━━━━━━━━━━━━━━━━━━\u001b[0m\u001b[37m\u001b[0m \u001b[1m0s\u001b[0m 6ms/step - acc: 0.9864 - loss: 0.3681 - metric_f1score: 0.9865 - val_acc: 1.0000 - val_loss: 0.3250 - val_metric_f1score: 1.0000 - learning_rate: 0.0010\n",
      "Epoch 151/200\n",
      "\u001b[1m 1/12\u001b[0m \u001b[32m━\u001b[0m\u001b[37m━━━━━━━━━━━━━━━━━━━\u001b[0m \u001b[1m0s\u001b[0m 14ms/step - acc: 0.9375 - loss: 0.4792 - metric_f1score: 0.9677\n",
      "Epoch 151: val_acc did not improve from 1.00000\n",
      "\u001b[1m12/12\u001b[0m \u001b[32m━━━━━━━━━━━━━━━━━━━━\u001b[0m\u001b[37m\u001b[0m \u001b[1m0s\u001b[0m 6ms/step - acc: 0.9705 - loss: 0.4048 - metric_f1score: 0.9785 - val_acc: 1.0000 - val_loss: 0.3229 - val_metric_f1score: 1.0000 - learning_rate: 0.0010\n",
      "Epoch 152/200\n",
      "\u001b[1m 1/12\u001b[0m \u001b[32m━\u001b[0m\u001b[37m━━━━━━━━━━━━━━━━━━━\u001b[0m \u001b[1m0s\u001b[0m 12ms/step - acc: 1.0000 - loss: 0.3234 - metric_f1score: 1.0000\n",
      "Epoch 152: val_acc did not improve from 1.00000\n",
      "\u001b[1m12/12\u001b[0m \u001b[32m━━━━━━━━━━━━━━━━━━━━\u001b[0m\u001b[37m\u001b[0m \u001b[1m0s\u001b[0m 6ms/step - acc: 0.9939 - loss: 0.3353 - metric_f1score: 0.9962 - val_acc: 1.0000 - val_loss: 0.3209 - val_metric_f1score: 1.0000 - learning_rate: 0.0010\n",
      "Epoch 153/200\n",
      "\u001b[1m 1/12\u001b[0m \u001b[32m━\u001b[0m\u001b[37m━━━━━━━━━━━━━━━━━━━\u001b[0m \u001b[1m0s\u001b[0m 13ms/step - acc: 1.0000 - loss: 0.3780 - metric_f1score: 0.9841\n",
      "Epoch 153: val_acc did not improve from 1.00000\n",
      "\u001b[1m12/12\u001b[0m \u001b[32m━━━━━━━━━━━━━━━━━━━━\u001b[0m\u001b[37m\u001b[0m \u001b[1m0s\u001b[0m 6ms/step - acc: 0.9810 - loss: 0.4083 - metric_f1score: 0.9821 - val_acc: 0.9890 - val_loss: 0.3503 - val_metric_f1score: 0.9896 - learning_rate: 0.0010\n",
      "Epoch 154/200\n",
      "\u001b[1m 1/12\u001b[0m \u001b[32m━\u001b[0m\u001b[37m━━━━━━━━━━━━━━━━━━━\u001b[0m \u001b[1m0s\u001b[0m 13ms/step - acc: 0.9688 - loss: 0.3609 - metric_f1score: 0.9688\n",
      "Epoch 154: val_acc did not improve from 1.00000\n",
      "\u001b[1m12/12\u001b[0m \u001b[32m━━━━━━━━━━━━━━━━━━━━\u001b[0m\u001b[37m\u001b[0m \u001b[1m0s\u001b[0m 8ms/step - acc: 0.9609 - loss: 0.4387 - metric_f1score: 0.9703 - val_acc: 0.9890 - val_loss: 0.3779 - val_metric_f1score: 0.9732 - learning_rate: 0.0010\n",
      "Epoch 155/200\n",
      "\u001b[1m 1/12\u001b[0m \u001b[32m━\u001b[0m\u001b[37m━━━━━━━━━━━━━━━━━━━\u001b[0m \u001b[1m0s\u001b[0m 15ms/step - acc: 0.9375 - loss: 0.6973 - metric_f1score: 0.9524\n",
      "Epoch 155: val_acc did not improve from 1.00000\n",
      "\u001b[1m12/12\u001b[0m \u001b[32m━━━━━━━━━━━━━━━━━━━━\u001b[0m\u001b[37m\u001b[0m \u001b[1m0s\u001b[0m 7ms/step - acc: 0.9477 - loss: 0.5520 - metric_f1score: 0.9528 - val_acc: 0.9890 - val_loss: 0.3465 - val_metric_f1score: 0.9896 - learning_rate: 0.0010\n",
      "Epoch 156/200\n",
      "\u001b[1m 1/12\u001b[0m \u001b[32m━\u001b[0m\u001b[37m━━━━━━━━━━━━━━━━━━━\u001b[0m \u001b[1m0s\u001b[0m 16ms/step - acc: 0.9688 - loss: 0.3974 - metric_f1score: 0.9841\n",
      "Epoch 156: val_acc did not improve from 1.00000\n",
      "\u001b[1m12/12\u001b[0m \u001b[32m━━━━━━━━━━━━━━━━━━━━\u001b[0m\u001b[37m\u001b[0m \u001b[1m0s\u001b[0m 6ms/step - acc: 0.9690 - loss: 0.4266 - metric_f1score: 0.9731 - val_acc: 1.0000 - val_loss: 0.3237 - val_metric_f1score: 1.0000 - learning_rate: 0.0010\n",
      "Epoch 157/200\n",
      "\u001b[1m 1/12\u001b[0m \u001b[32m━\u001b[0m\u001b[37m━━━━━━━━━━━━━━━━━━━\u001b[0m \u001b[1m0s\u001b[0m 15ms/step - acc: 0.9688 - loss: 0.5039 - metric_f1score: 0.9688\n",
      "Epoch 157: val_acc did not improve from 1.00000\n",
      "\u001b[1m12/12\u001b[0m \u001b[32m━━━━━━━━━━━━━━━━━━━━\u001b[0m\u001b[37m\u001b[0m \u001b[1m0s\u001b[0m 6ms/step - acc: 0.9686 - loss: 0.4528 - metric_f1score: 0.9673 - val_acc: 0.9670 - val_loss: 0.4269 - val_metric_f1score: 0.9696 - learning_rate: 0.0010\n",
      "Epoch 158/200\n",
      "\u001b[1m 1/12\u001b[0m \u001b[32m━\u001b[0m\u001b[37m━━━━━━━━━━━━━━━━━━━\u001b[0m \u001b[1m0s\u001b[0m 13ms/step - acc: 0.9062 - loss: 0.5545 - metric_f1score: 0.9333\n",
      "Epoch 158: val_acc did not improve from 1.00000\n",
      "\u001b[1m12/12\u001b[0m \u001b[32m━━━━━━━━━━━━━━━━━━━━\u001b[0m\u001b[37m\u001b[0m \u001b[1m0s\u001b[0m 6ms/step - acc: 0.9149 - loss: 0.5856 - metric_f1score: 0.9208 - val_acc: 0.9670 - val_loss: 0.3868 - val_metric_f1score: 0.9819 - learning_rate: 0.0010\n",
      "Epoch 159/200\n",
      "\u001b[1m 1/12\u001b[0m \u001b[32m━\u001b[0m\u001b[37m━━━━━━━━━━━━━━━━━━━\u001b[0m \u001b[1m0s\u001b[0m 13ms/step - acc: 0.9688 - loss: 0.4145 - metric_f1score: 0.9677\n",
      "Epoch 159: val_acc did not improve from 1.00000\n",
      "\u001b[1m12/12\u001b[0m \u001b[32m━━━━━━━━━━━━━━━━━━━━\u001b[0m\u001b[37m\u001b[0m \u001b[1m0s\u001b[0m 6ms/step - acc: 0.9283 - loss: 0.5188 - metric_f1score: 0.9378 - val_acc: 1.0000 - val_loss: 0.3722 - val_metric_f1score: 0.9819 - learning_rate: 0.0010\n",
      "Epoch 160/200\n",
      "\u001b[1m 5/12\u001b[0m \u001b[32m━━━━━━━━\u001b[0m\u001b[37m━━━━━━━━━━━━\u001b[0m \u001b[1m0s\u001b[0m 13ms/step - acc: 0.9678 - loss: 0.3862 - metric_f1score: 0.9749\n",
      "Epoch 160: val_acc did not improve from 1.00000\n",
      "\u001b[1m12/12\u001b[0m \u001b[32m━━━━━━━━━━━━━━━━━━━━\u001b[0m\u001b[37m\u001b[0m \u001b[1m0s\u001b[0m 9ms/step - acc: 0.9590 - loss: 0.4239 - metric_f1score: 0.9641 - val_acc: 1.0000 - val_loss: 0.3571 - val_metric_f1score: 0.9819 - learning_rate: 0.0010\n",
      "Epoch 161/200\n",
      "\u001b[1m 1/12\u001b[0m \u001b[32m━\u001b[0m\u001b[37m━━━━━━━━━━━━━━━━━━━\u001b[0m \u001b[1m0s\u001b[0m 14ms/step - acc: 0.9375 - loss: 0.5117 - metric_f1score: 0.9524\n",
      "Epoch 161: val_acc did not improve from 1.00000\n",
      "\u001b[1m12/12\u001b[0m \u001b[32m━━━━━━━━━━━━━━━━━━━━\u001b[0m\u001b[37m\u001b[0m \u001b[1m0s\u001b[0m 6ms/step - acc: 0.9382 - loss: 0.4863 - metric_f1score: 0.9501 - val_acc: 1.0000 - val_loss: 0.3367 - val_metric_f1score: 0.9884 - learning_rate: 0.0010\n",
      "Epoch 162/200\n",
      "\u001b[1m 1/12\u001b[0m \u001b[32m━\u001b[0m\u001b[37m━━━━━━━━━━━━━━━━━━━\u001b[0m \u001b[1m0s\u001b[0m 13ms/step - acc: 0.9375 - loss: 1.4447 - metric_f1score: 0.9524\n",
      "Epoch 162: val_acc did not improve from 1.00000\n",
      "\u001b[1m12/12\u001b[0m \u001b[32m━━━━━━━━━━━━━━━━━━━━\u001b[0m\u001b[37m\u001b[0m \u001b[1m0s\u001b[0m 6ms/step - acc: 0.9366 - loss: 0.9260 - metric_f1score: 0.9488 - val_acc: 0.9011 - val_loss: 0.8288 - val_metric_f1score: 0.9023 - learning_rate: 0.0010\n",
      "Epoch 163/200\n",
      "\u001b[1m 1/12\u001b[0m \u001b[32m━\u001b[0m\u001b[37m━━━━━━━━━━━━━━━━━━━\u001b[0m \u001b[1m0s\u001b[0m 13ms/step - acc: 0.8750 - loss: 1.1482 - metric_f1score: 0.8750\n",
      "Epoch 163: val_acc did not improve from 1.00000\n",
      "\u001b[1m12/12\u001b[0m \u001b[32m━━━━━━━━━━━━━━━━━━━━\u001b[0m\u001b[37m\u001b[0m \u001b[1m0s\u001b[0m 6ms/step - acc: 0.8780 - loss: 0.8365 - metric_f1score: 0.8951 - val_acc: 0.8791 - val_loss: 0.7374 - val_metric_f1score: 0.8941 - learning_rate: 0.0010\n",
      "Epoch 164/200\n",
      "\u001b[1m 1/12\u001b[0m \u001b[32m━\u001b[0m\u001b[37m━━━━━━━━━━━━━━━━━━━\u001b[0m \u001b[1m0s\u001b[0m 13ms/step - acc: 0.8438 - loss: 0.7662 - metric_f1score: 0.8814\n",
      "Epoch 164: val_acc did not improve from 1.00000\n",
      "\u001b[1m12/12\u001b[0m \u001b[32m━━━━━━━━━━━━━━━━━━━━\u001b[0m\u001b[37m\u001b[0m \u001b[1m0s\u001b[0m 6ms/step - acc: 0.8679 - loss: 0.7557 - metric_f1score: 0.8857 - val_acc: 0.8791 - val_loss: 0.6410 - val_metric_f1score: 0.9201 - learning_rate: 0.0010\n",
      "Epoch 165/200\n",
      "\u001b[1m 1/12\u001b[0m \u001b[32m━\u001b[0m\u001b[37m━━━━━━━━━━━━━━━━━━━\u001b[0m \u001b[1m0s\u001b[0m 14ms/step - acc: 0.8438 - loss: 0.8103 - metric_f1score: 0.8814\n",
      "Epoch 165: val_acc did not improve from 1.00000\n",
      "\u001b[1m12/12\u001b[0m \u001b[32m━━━━━━━━━━━━━━━━━━━━\u001b[0m\u001b[37m\u001b[0m \u001b[1m0s\u001b[0m 6ms/step - acc: 0.8613 - loss: 0.6876 - metric_f1score: 0.8932 - val_acc: 0.8791 - val_loss: 0.5979 - val_metric_f1score: 0.9363 - learning_rate: 0.0010\n",
      "Epoch 166/200\n",
      "\u001b[1m 1/12\u001b[0m \u001b[32m━\u001b[0m\u001b[37m━━━━━━━━━━━━━━━━━━━\u001b[0m \u001b[1m0s\u001b[0m 14ms/step - acc: 0.8438 - loss: 0.6880 - metric_f1score: 0.8852\n",
      "Epoch 166: val_acc did not improve from 1.00000\n",
      "\u001b[1m12/12\u001b[0m \u001b[32m━━━━━━━━━━━━━━━━━━━━\u001b[0m\u001b[37m\u001b[0m \u001b[1m0s\u001b[0m 6ms/step - acc: 0.8776 - loss: 0.6410 - metric_f1score: 0.9039 - val_acc: 0.8901 - val_loss: 0.5743 - val_metric_f1score: 0.9363 - learning_rate: 0.0010\n",
      "Epoch 167/200\n",
      "\u001b[1m 1/12\u001b[0m \u001b[32m━\u001b[0m\u001b[37m━━━━━━━━━━━━━━━━━━━\u001b[0m \u001b[1m0s\u001b[0m 14ms/step - acc: 0.8438 - loss: 0.7645 - metric_f1score: 0.8667\n",
      "Epoch 167: val_acc did not improve from 1.00000\n",
      "\u001b[1m12/12\u001b[0m \u001b[32m━━━━━━━━━━━━━━━━━━━━\u001b[0m\u001b[37m\u001b[0m \u001b[1m0s\u001b[0m 6ms/step - acc: 0.8896 - loss: 0.6223 - metric_f1score: 0.9029 - val_acc: 0.9121 - val_loss: 0.5213 - val_metric_f1score: 0.9363 - learning_rate: 0.0010\n",
      "Epoch 168/200\n",
      "\u001b[1m 1/12\u001b[0m \u001b[32m━\u001b[0m\u001b[37m━━━━━━━━━━━━━━━━━━━\u001b[0m \u001b[1m0s\u001b[0m 16ms/step - acc: 0.9375 - loss: 0.6414 - metric_f1score: 0.8966\n",
      "Epoch 168: val_acc did not improve from 1.00000\n",
      "\u001b[1m12/12\u001b[0m \u001b[32m━━━━━━━━━━━━━━━━━━━━\u001b[0m\u001b[37m\u001b[0m \u001b[1m0s\u001b[0m 6ms/step - acc: 0.9247 - loss: 0.5674 - metric_f1score: 0.9195 - val_acc: 0.9670 - val_loss: 0.4344 - val_metric_f1score: 0.9737 - learning_rate: 0.0010\n",
      "Epoch 169/200\n",
      "\u001b[1m 1/12\u001b[0m \u001b[32m━\u001b[0m\u001b[37m━━━━━━━━━━━━━━━━━━━\u001b[0m \u001b[1m0s\u001b[0m 16ms/step - acc: 0.9375 - loss: 0.4343 - metric_f1score: 0.9677\n",
      "Epoch 169: val_acc did not improve from 1.00000\n",
      "\u001b[1m12/12\u001b[0m \u001b[32m━━━━━━━━━━━━━━━━━━━━\u001b[0m\u001b[37m\u001b[0m \u001b[1m0s\u001b[0m 7ms/step - acc: 0.9239 - loss: 0.5033 - metric_f1score: 0.9444 - val_acc: 0.9890 - val_loss: 0.3691 - val_metric_f1score: 0.9892 - learning_rate: 0.0010\n",
      "Epoch 170/200\n",
      "\u001b[1m 1/12\u001b[0m \u001b[32m━\u001b[0m\u001b[37m━━━━━━━━━━━━━━━━━━━\u001b[0m \u001b[1m0s\u001b[0m 16ms/step - acc: 0.9375 - loss: 0.4333 - metric_f1score: 0.9508\n",
      "Epoch 170: val_acc did not improve from 1.00000\n",
      "\u001b[1m12/12\u001b[0m \u001b[32m━━━━━━━━━━━━━━━━━━━━\u001b[0m\u001b[37m\u001b[0m \u001b[1m0s\u001b[0m 6ms/step - acc: 0.9264 - loss: 0.4911 - metric_f1score: 0.9428 - val_acc: 0.9780 - val_loss: 0.3447 - val_metric_f1score: 0.9841 - learning_rate: 0.0010\n",
      "Epoch 171/200\n",
      "\u001b[1m 1/12\u001b[0m \u001b[32m━\u001b[0m\u001b[37m━━━━━━━━━━━━━━━━━━━\u001b[0m \u001b[1m0s\u001b[0m 13ms/step - acc: 0.9062 - loss: 0.5547 - metric_f1score: 0.9000\n",
      "Epoch 171: val_acc did not improve from 1.00000\n",
      "\u001b[1m12/12\u001b[0m \u001b[32m━━━━━━━━━━━━━━━━━━━━\u001b[0m\u001b[37m\u001b[0m \u001b[1m0s\u001b[0m 6ms/step - acc: 0.9463 - loss: 0.4527 - metric_f1score: 0.9471 - val_acc: 1.0000 - val_loss: 0.3021 - val_metric_f1score: 1.0000 - learning_rate: 0.0010\n",
      "Epoch 172/200\n",
      "\u001b[1m 1/12\u001b[0m \u001b[32m━\u001b[0m\u001b[37m━━━━━━━━━━━━━━━━━━━\u001b[0m \u001b[1m0s\u001b[0m 13ms/step - acc: 0.9688 - loss: 0.4090 - metric_f1score: 0.9355\n",
      "Epoch 172: val_acc did not improve from 1.00000\n",
      "\u001b[1m12/12\u001b[0m \u001b[32m━━━━━━━━━━━━━━━━━━━━\u001b[0m\u001b[37m\u001b[0m \u001b[1m0s\u001b[0m 9ms/step - acc: 0.9629 - loss: 0.4341 - metric_f1score: 0.9576 - val_acc: 1.0000 - val_loss: 0.2958 - val_metric_f1score: 1.0000 - learning_rate: 0.0010\n",
      "Epoch 173/200\n",
      "\u001b[1m 1/12\u001b[0m \u001b[32m━\u001b[0m\u001b[37m━━━━━━━━━━━━━━━━━━━\u001b[0m \u001b[1m0s\u001b[0m 13ms/step - acc: 1.0000 - loss: 0.3519 - metric_f1score: 0.9841\n",
      "Epoch 173: val_acc did not improve from 1.00000\n",
      "\u001b[1m12/12\u001b[0m \u001b[32m━━━━━━━━━━━━━━━━━━━━\u001b[0m\u001b[37m\u001b[0m \u001b[1m0s\u001b[0m 6ms/step - acc: 0.9550 - loss: 0.4255 - metric_f1score: 0.9670 - val_acc: 1.0000 - val_loss: 0.2939 - val_metric_f1score: 1.0000 - learning_rate: 0.0010\n",
      "Epoch 174/200\n",
      "\u001b[1m 1/12\u001b[0m \u001b[32m━\u001b[0m\u001b[37m━━━━━━━━━━━━━━━━━━━\u001b[0m \u001b[1m0s\u001b[0m 14ms/step - acc: 0.9688 - loss: 0.3934 - metric_f1score: 0.9677\n",
      "Epoch 174: val_acc did not improve from 1.00000\n",
      "\u001b[1m12/12\u001b[0m \u001b[32m━━━━━━━━━━━━━━━━━━━━\u001b[0m\u001b[37m\u001b[0m \u001b[1m0s\u001b[0m 7ms/step - acc: 0.9585 - loss: 0.4136 - metric_f1score: 0.9647 - val_acc: 1.0000 - val_loss: 0.2921 - val_metric_f1score: 1.0000 - learning_rate: 0.0010\n",
      "Epoch 175/200\n",
      "\u001b[1m 1/12\u001b[0m \u001b[32m━\u001b[0m\u001b[37m━━━━━━━━━━━━━━━━━━━\u001b[0m \u001b[1m0s\u001b[0m 13ms/step - acc: 0.9688 - loss: 0.3353 - metric_f1score: 0.9688\n",
      "Epoch 175: val_acc did not improve from 1.00000\n",
      "\u001b[1m12/12\u001b[0m \u001b[32m━━━━━━━━━━━━━━━━━━━━\u001b[0m\u001b[37m\u001b[0m \u001b[1m0s\u001b[0m 6ms/step - acc: 0.9705 - loss: 0.3466 - metric_f1score: 0.9760 - val_acc: 1.0000 - val_loss: 0.2903 - val_metric_f1score: 1.0000 - learning_rate: 0.0010\n",
      "Epoch 176/200\n",
      "\u001b[1m 1/12\u001b[0m \u001b[32m━\u001b[0m\u001b[37m━━━━━━━━━━━━━━━━━━━\u001b[0m \u001b[1m0s\u001b[0m 13ms/step - acc: 0.9688 - loss: 0.3654 - metric_f1score: 0.9841\n",
      "Epoch 176: val_acc did not improve from 1.00000\n",
      "\u001b[1m12/12\u001b[0m \u001b[32m━━━━━━━━━━━━━━━━━━━━\u001b[0m\u001b[37m\u001b[0m \u001b[1m0s\u001b[0m 6ms/step - acc: 0.9457 - loss: 0.4421 - metric_f1score: 0.9603 - val_acc: 1.0000 - val_loss: 0.2884 - val_metric_f1score: 1.0000 - learning_rate: 0.0010\n",
      "Epoch 177/200\n",
      "\u001b[1m 1/12\u001b[0m \u001b[32m━\u001b[0m\u001b[37m━━━━━━━━━━━━━━━━━━━\u001b[0m \u001b[1m0s\u001b[0m 13ms/step - acc: 0.9375 - loss: 0.4618 - metric_f1score: 0.9508\n",
      "Epoch 177: val_acc did not improve from 1.00000\n",
      "\u001b[1m12/12\u001b[0m \u001b[32m━━━━━━━━━━━━━━━━━━━━\u001b[0m\u001b[37m\u001b[0m \u001b[1m0s\u001b[0m 6ms/step - acc: 0.9652 - loss: 0.3747 - metric_f1score: 0.9693 - val_acc: 1.0000 - val_loss: 0.2867 - val_metric_f1score: 1.0000 - learning_rate: 0.0010\n",
      "Epoch 178/200\n",
      "\u001b[1m 1/12\u001b[0m \u001b[32m━\u001b[0m\u001b[37m━━━━━━━━━━━━━━━━━━━\u001b[0m \u001b[1m0s\u001b[0m 12ms/step - acc: 0.9688 - loss: 0.3718 - metric_f1score: 0.9841\n",
      "Epoch 178: val_acc did not improve from 1.00000\n",
      "\u001b[1m12/12\u001b[0m \u001b[32m━━━━━━━━━━━━━━━━━━━━\u001b[0m\u001b[37m\u001b[0m \u001b[1m0s\u001b[0m 6ms/step - acc: 0.9531 - loss: 0.4158 - metric_f1score: 0.9610 - val_acc: 1.0000 - val_loss: 0.2850 - val_metric_f1score: 1.0000 - learning_rate: 0.0010\n",
      "Epoch 179/200\n",
      "\u001b[1m 1/12\u001b[0m \u001b[32m━\u001b[0m\u001b[37m━━━━━━━━━━━━━━━━━━━\u001b[0m \u001b[1m0s\u001b[0m 12ms/step - acc: 0.9688 - loss: 0.3651 - metric_f1score: 0.9677\n",
      "Epoch 179: val_acc did not improve from 1.00000\n",
      "\u001b[1m12/12\u001b[0m \u001b[32m━━━━━━━━━━━━━━━━━━━━\u001b[0m\u001b[37m\u001b[0m \u001b[1m0s\u001b[0m 6ms/step - acc: 0.9691 - loss: 0.3713 - metric_f1score: 0.9714 - val_acc: 1.0000 - val_loss: 0.2832 - val_metric_f1score: 1.0000 - learning_rate: 0.0010\n",
      "Epoch 180/200\n",
      "\u001b[1m 1/12\u001b[0m \u001b[32m━\u001b[0m\u001b[37m━━━━━━━━━━━━━━━━━━━\u001b[0m \u001b[1m0s\u001b[0m 12ms/step - acc: 0.9688 - loss: 0.3513 - metric_f1score: 0.9841\n",
      "Epoch 180: val_acc did not improve from 1.00000\n",
      "\u001b[1m12/12\u001b[0m \u001b[32m━━━━━━━━━━━━━━━━━━━━\u001b[0m\u001b[37m\u001b[0m \u001b[1m0s\u001b[0m 6ms/step - acc: 0.9747 - loss: 0.3549 - metric_f1score: 0.9811 - val_acc: 1.0000 - val_loss: 0.2815 - val_metric_f1score: 1.0000 - learning_rate: 0.0010\n",
      "Epoch 181/200\n",
      "\u001b[1m 1/12\u001b[0m \u001b[32m━\u001b[0m\u001b[37m━━━━━━━━━━━━━━━━━━━\u001b[0m \u001b[1m0s\u001b[0m 13ms/step - acc: 0.9688 - loss: 0.3881 - metric_f1score: 0.9677\n",
      "Epoch 181: val_acc did not improve from 1.00000\n",
      "\u001b[1m12/12\u001b[0m \u001b[32m━━━━━━━━━━━━━━━━━━━━\u001b[0m\u001b[37m\u001b[0m \u001b[1m0s\u001b[0m 6ms/step - acc: 0.9749 - loss: 0.3438 - metric_f1score: 0.9826 - val_acc: 1.0000 - val_loss: 0.2796 - val_metric_f1score: 1.0000 - learning_rate: 0.0010\n",
      "Epoch 182/200\n",
      "\u001b[1m 1/12\u001b[0m \u001b[32m━\u001b[0m\u001b[37m━━━━━━━━━━━━━━━━━━━\u001b[0m \u001b[1m0s\u001b[0m 13ms/step - acc: 0.9375 - loss: 0.4873 - metric_f1score: 0.9508\n",
      "Epoch 182: val_acc did not improve from 1.00000\n",
      "\u001b[1m12/12\u001b[0m \u001b[32m━━━━━━━━━━━━━━━━━━━━\u001b[0m\u001b[37m\u001b[0m \u001b[1m0s\u001b[0m 6ms/step - acc: 0.9643 - loss: 0.3803 - metric_f1score: 0.9672 - val_acc: 1.0000 - val_loss: 0.2779 - val_metric_f1score: 1.0000 - learning_rate: 0.0010\n",
      "Epoch 183/200\n",
      "\u001b[1m 1/12\u001b[0m \u001b[32m━\u001b[0m\u001b[37m━━━━━━━━━━━━━━━━━━━\u001b[0m \u001b[1m0s\u001b[0m 13ms/step - acc: 1.0000 - loss: 0.3833 - metric_f1score: 0.9677\n",
      "Epoch 183: val_acc did not improve from 1.00000\n",
      "\u001b[1m12/12\u001b[0m \u001b[32m━━━━━━━━━━━━━━━━━━━━\u001b[0m\u001b[37m\u001b[0m \u001b[1m0s\u001b[0m 6ms/step - acc: 0.9932 - loss: 0.3295 - metric_f1score: 0.9836 - val_acc: 1.0000 - val_loss: 0.2762 - val_metric_f1score: 1.0000 - learning_rate: 0.0010\n",
      "Epoch 184/200\n",
      "\u001b[1m 1/12\u001b[0m \u001b[32m━\u001b[0m\u001b[37m━━━━━━━━━━━━━━━━━━━\u001b[0m \u001b[1m0s\u001b[0m 13ms/step - acc: 0.9688 - loss: 0.3361 - metric_f1score: 0.9841\n",
      "Epoch 184: val_acc did not improve from 1.00000\n",
      "\u001b[1m12/12\u001b[0m \u001b[32m━━━━━━━━━━━━━━━━━━━━\u001b[0m\u001b[37m\u001b[0m \u001b[1m0s\u001b[0m 6ms/step - acc: 0.9795 - loss: 0.3257 - metric_f1score: 0.9867 - val_acc: 1.0000 - val_loss: 0.2745 - val_metric_f1score: 1.0000 - learning_rate: 0.0010\n",
      "Epoch 185/200\n",
      "\u001b[1m 5/12\u001b[0m \u001b[32m━━━━━━━━\u001b[0m\u001b[37m━━━━━━━━━━━━\u001b[0m \u001b[1m0s\u001b[0m 13ms/step - acc: 0.9716 - loss: 0.3615 - metric_f1score: 0.9792\n",
      "Epoch 185: val_acc did not improve from 1.00000\n",
      "\u001b[1m12/12\u001b[0m \u001b[32m━━━━━━━━━━━━━━━━━━━━\u001b[0m\u001b[37m\u001b[0m \u001b[1m0s\u001b[0m 9ms/step - acc: 0.9700 - loss: 0.3624 - metric_f1score: 0.9768 - val_acc: 1.0000 - val_loss: 0.2729 - val_metric_f1score: 1.0000 - learning_rate: 0.0010\n",
      "Epoch 186/200\n",
      "\u001b[1m 1/12\u001b[0m \u001b[32m━\u001b[0m\u001b[37m━━━━━━━━━━━━━━━━━━━\u001b[0m \u001b[1m0s\u001b[0m 12ms/step - acc: 0.9688 - loss: 0.4288 - metric_f1score: 0.9677\n",
      "Epoch 186: val_acc did not improve from 1.00000\n",
      "\u001b[1m12/12\u001b[0m \u001b[32m━━━━━━━━━━━━━━━━━━━━\u001b[0m\u001b[37m\u001b[0m \u001b[1m0s\u001b[0m 7ms/step - acc: 0.9733 - loss: 0.3655 - metric_f1score: 0.9801 - val_acc: 1.0000 - val_loss: 0.2713 - val_metric_f1score: 1.0000 - learning_rate: 0.0010\n",
      "Epoch 187/200\n",
      "\u001b[1m 1/12\u001b[0m \u001b[32m━\u001b[0m\u001b[37m━━━━━━━━━━━━━━━━━━━\u001b[0m \u001b[1m0s\u001b[0m 20ms/step - acc: 0.9688 - loss: 0.3846 - metric_f1score: 0.9524\n",
      "Epoch 187: val_acc did not improve from 1.00000\n",
      "\u001b[1m12/12\u001b[0m \u001b[32m━━━━━━━━━━━━━━━━━━━━\u001b[0m\u001b[37m\u001b[0m \u001b[1m0s\u001b[0m 7ms/step - acc: 0.9839 - loss: 0.3436 - metric_f1score: 0.9715 - val_acc: 1.0000 - val_loss: 0.2697 - val_metric_f1score: 1.0000 - learning_rate: 0.0010\n",
      "Epoch 188/200\n",
      "\u001b[1m 1/12\u001b[0m \u001b[32m━\u001b[0m\u001b[37m━━━━━━━━━━━━━━━━━━━\u001b[0m \u001b[1m0s\u001b[0m 22ms/step - acc: 0.9688 - loss: 0.3826 - metric_f1score: 0.9841\n",
      "Epoch 188: val_acc did not improve from 1.00000\n",
      "\u001b[1m12/12\u001b[0m \u001b[32m━━━━━━━━━━━━━━━━━━━━\u001b[0m\u001b[37m\u001b[0m \u001b[1m0s\u001b[0m 7ms/step - acc: 0.9832 - loss: 0.3382 - metric_f1score: 0.9821 - val_acc: 1.0000 - val_loss: 0.2681 - val_metric_f1score: 1.0000 - learning_rate: 0.0010\n",
      "Epoch 189/200\n",
      "\u001b[1m 1/12\u001b[0m \u001b[32m━\u001b[0m\u001b[37m━━━━━━━━━━━━━━━━━━━\u001b[0m \u001b[1m0s\u001b[0m 14ms/step - acc: 0.9688 - loss: 0.3827 - metric_f1score: 0.9677\n",
      "Epoch 189: val_acc did not improve from 1.00000\n",
      "\u001b[1m12/12\u001b[0m \u001b[32m━━━━━━━━━━━━━━━━━━━━\u001b[0m\u001b[37m\u001b[0m \u001b[1m0s\u001b[0m 6ms/step - acc: 0.9670 - loss: 0.3556 - metric_f1score: 0.9677 - val_acc: 1.0000 - val_loss: 0.2664 - val_metric_f1score: 1.0000 - learning_rate: 0.0010\n",
      "Epoch 190/200\n",
      "\u001b[1m 1/12\u001b[0m \u001b[32m━\u001b[0m\u001b[37m━━━━━━━━━━━━━━━━━━━\u001b[0m \u001b[1m0s\u001b[0m 13ms/step - acc: 0.9688 - loss: 0.3052 - metric_f1score: 0.9688\n",
      "Epoch 190: val_acc did not improve from 1.00000\n",
      "\u001b[1m12/12\u001b[0m \u001b[32m━━━━━━━━━━━━━━━━━━━━\u001b[0m\u001b[37m\u001b[0m \u001b[1m0s\u001b[0m 6ms/step - acc: 0.9761 - loss: 0.3802 - metric_f1score: 0.9743 - val_acc: 1.0000 - val_loss: 0.2646 - val_metric_f1score: 1.0000 - learning_rate: 0.0010\n",
      "Epoch 191/200\n",
      "\u001b[1m 1/12\u001b[0m \u001b[32m━\u001b[0m\u001b[37m━━━━━━━━━━━━━━━━━━━\u001b[0m \u001b[1m0s\u001b[0m 13ms/step - acc: 1.0000 - loss: 0.2734 - metric_f1score: 1.0000\n",
      "Epoch 191: val_acc did not improve from 1.00000\n",
      "\u001b[1m12/12\u001b[0m \u001b[32m━━━━━━━━━━━━━━━━━━━━\u001b[0m\u001b[37m\u001b[0m \u001b[1m0s\u001b[0m 6ms/step - acc: 0.9831 - loss: 0.3246 - metric_f1score: 0.9811 - val_acc: 1.0000 - val_loss: 0.2631 - val_metric_f1score: 1.0000 - learning_rate: 0.0010\n",
      "Epoch 192/200\n",
      "\u001b[1m 1/12\u001b[0m \u001b[32m━\u001b[0m\u001b[37m━━━━━━━━━━━━━━━━━━━\u001b[0m \u001b[1m0s\u001b[0m 12ms/step - acc: 0.9688 - loss: 0.3552 - metric_f1score: 0.9677\n",
      "Epoch 192: val_acc did not improve from 1.00000\n",
      "\u001b[1m12/12\u001b[0m \u001b[32m━━━━━━━━━━━━━━━━━━━━\u001b[0m\u001b[37m\u001b[0m \u001b[1m0s\u001b[0m 6ms/step - acc: 0.9797 - loss: 0.3284 - metric_f1score: 0.9786 - val_acc: 1.0000 - val_loss: 0.2615 - val_metric_f1score: 1.0000 - learning_rate: 0.0010\n",
      "Epoch 193/200\n",
      "\u001b[1m 1/12\u001b[0m \u001b[32m━\u001b[0m\u001b[37m━━━━━━━━━━━━━━━━━━━\u001b[0m \u001b[1m0s\u001b[0m 13ms/step - acc: 1.0000 - loss: 0.2772 - metric_f1score: 1.0000\n",
      "Epoch 193: val_acc did not improve from 1.00000\n",
      "\u001b[1m12/12\u001b[0m \u001b[32m━━━━━━━━━━━━━━━━━━━━\u001b[0m\u001b[37m\u001b[0m \u001b[1m0s\u001b[0m 6ms/step - acc: 0.9910 - loss: 0.2893 - metric_f1score: 0.9936 - val_acc: 1.0000 - val_loss: 0.2598 - val_metric_f1score: 1.0000 - learning_rate: 0.0010\n",
      "Epoch 194/200\n",
      "\u001b[1m 1/12\u001b[0m \u001b[32m━\u001b[0m\u001b[37m━━━━━━━━━━━━━━━━━━━\u001b[0m \u001b[1m0s\u001b[0m 13ms/step - acc: 1.0000 - loss: 0.2727 - metric_f1score: 1.0000\n",
      "Epoch 194: val_acc did not improve from 1.00000\n",
      "\u001b[1m12/12\u001b[0m \u001b[32m━━━━━━━━━━━━━━━━━━━━\u001b[0m\u001b[37m\u001b[0m \u001b[1m0s\u001b[0m 6ms/step - acc: 0.9806 - loss: 0.3150 - metric_f1score: 0.9843 - val_acc: 1.0000 - val_loss: 0.2583 - val_metric_f1score: 1.0000 - learning_rate: 0.0010\n",
      "Epoch 195/200\n",
      "\u001b[1m 1/12\u001b[0m \u001b[32m━\u001b[0m\u001b[37m━━━━━━━━━━━━━━━━━━━\u001b[0m \u001b[1m0s\u001b[0m 13ms/step - acc: 0.9688 - loss: 0.3160 - metric_f1score: 0.9688\n",
      "Epoch 195: val_acc did not improve from 1.00000\n",
      "\u001b[1m12/12\u001b[0m \u001b[32m━━━━━━━━━━━━━━━━━━━━\u001b[0m\u001b[37m\u001b[0m \u001b[1m0s\u001b[0m 6ms/step - acc: 0.9750 - loss: 0.3108 - metric_f1score: 0.9790 - val_acc: 1.0000 - val_loss: 0.2571 - val_metric_f1score: 1.0000 - learning_rate: 0.0010\n",
      "Epoch 196/200\n",
      "\u001b[1m12/12\u001b[0m \u001b[32m━━━━━━━━━━━━━━━━━━━━\u001b[0m\u001b[37m\u001b[0m \u001b[1m0s\u001b[0m 6ms/step - acc: 0.9755 - loss: 0.3272 - metric_f1score: 0.9706 \n",
      "Epoch 196: val_acc did not improve from 1.00000\n",
      "\u001b[1m12/12\u001b[0m \u001b[32m━━━━━━━━━━━━━━━━━━━━\u001b[0m\u001b[37m\u001b[0m \u001b[1m0s\u001b[0m 9ms/step - acc: 0.9757 - loss: 0.3261 - metric_f1score: 0.9712 - val_acc: 1.0000 - val_loss: 0.2557 - val_metric_f1score: 1.0000 - learning_rate: 0.0010\n",
      "Epoch 197/200\n",
      "\u001b[1m 1/12\u001b[0m \u001b[32m━\u001b[0m\u001b[37m━━━━━━━━━━━━━━━━━━━\u001b[0m \u001b[1m0s\u001b[0m 13ms/step - acc: 1.0000 - loss: 0.3140 - metric_f1score: 0.9841\n",
      "Epoch 197: val_acc did not improve from 1.00000\n",
      "\u001b[1m12/12\u001b[0m \u001b[32m━━━━━━━━━━━━━━━━━━━━\u001b[0m\u001b[37m\u001b[0m \u001b[1m0s\u001b[0m 6ms/step - acc: 0.9976 - loss: 0.2758 - metric_f1score: 0.9930 - val_acc: 1.0000 - val_loss: 0.2541 - val_metric_f1score: 1.0000 - learning_rate: 0.0010\n",
      "Epoch 198/200\n",
      "\u001b[1m 1/12\u001b[0m \u001b[32m━\u001b[0m\u001b[37m━━━━━━━━━━━━━━━━━━━\u001b[0m \u001b[1m0s\u001b[0m 13ms/step - acc: 1.0000 - loss: 0.2585 - metric_f1score: 1.0000\n",
      "Epoch 198: val_acc did not improve from 1.00000\n",
      "\u001b[1m12/12\u001b[0m \u001b[32m━━━━━━━━━━━━━━━━━━━━\u001b[0m\u001b[37m\u001b[0m \u001b[1m0s\u001b[0m 6ms/step - acc: 0.9946 - loss: 0.2723 - metric_f1score: 0.9901 - val_acc: 1.0000 - val_loss: 0.2526 - val_metric_f1score: 1.0000 - learning_rate: 0.0010\n",
      "Epoch 199/200\n",
      "\u001b[1m 1/12\u001b[0m \u001b[32m━\u001b[0m\u001b[37m━━━━━━━━━━━━━━━━━━━\u001b[0m \u001b[1m0s\u001b[0m 13ms/step - acc: 0.9375 - loss: 0.4281 - metric_f1score: 0.9206\n",
      "Epoch 199: val_acc did not improve from 1.00000\n",
      "\u001b[1m12/12\u001b[0m \u001b[32m━━━━━━━━━━━━━━━━━━━━\u001b[0m\u001b[37m\u001b[0m \u001b[1m0s\u001b[0m 6ms/step - acc: 0.9840 - loss: 0.3123 - metric_f1score: 0.9779 - val_acc: 1.0000 - val_loss: 0.2511 - val_metric_f1score: 1.0000 - learning_rate: 0.0010\n",
      "Epoch 200/200\n",
      "\u001b[1m 1/12\u001b[0m \u001b[32m━\u001b[0m\u001b[37m━━━━━━━━━━━━━━━━━━━\u001b[0m \u001b[1m0s\u001b[0m 13ms/step - acc: 0.9688 - loss: 0.2969 - metric_f1score: 0.9841\n",
      "Epoch 200: val_acc did not improve from 1.00000\n",
      "\u001b[1m12/12\u001b[0m \u001b[32m━━━━━━━━━━━━━━━━━━━━\u001b[0m\u001b[37m\u001b[0m \u001b[1m0s\u001b[0m 6ms/step - acc: 0.9711 - loss: 0.3195 - metric_f1score: 0.9795 - val_acc: 1.0000 - val_loss: 0.2496 - val_metric_f1score: 1.0000 - learning_rate: 0.0010\n"
     ]
    }
   ],
   "source": [
    "from tensorflow.keras.callbacks import ModelCheckpoint, ReduceLROnPlateau, EarlyStopping\n",
    "\n",
    "early_stopping = EarlyStopping(monitor = 'val_metric_F1score', min_delta = 0, patience = 20, mode = 'max')\n",
    "\n",
    "\n",
    "history = model.fit(\n",
    "    x_train,\n",
    "    y_train,\n",
    "    validation_data=(x_val, y_val),\n",
    "    epochs=200,\n",
    "    callbacks=[\n",
    "        ModelCheckpoint('models/multi_hand_gesture_classifier.h5', monitor='val_acc', verbose=1, save_best_only=True, mode='auto'),\n",
    "        ReduceLROnPlateau(monitor='val_metric_F1score', factor=0.5, patience=50, verbose=1, mode='auto'),\n",
    "        early_stopping\n",
    "    ]\n",
    ")"
   ]
  },
  {
   "cell_type": "code",
   "execution_count": 17,
   "metadata": {},
   "outputs": [
    {
     "data": {
      "image/png": "[encoded data removed]",
      "text/plain": [
       "<Figure size 1600x1000 with 2 Axes>"
      ]
     },
     "metadata": {},
     "output_type": "display_data"
    }
   ],
   "source": [
    "import matplotlib.pyplot as plt\n",
    "\n",
    "fig, loss_ax = plt.subplots(figsize=(16, 10))\n",
    "acc_ax = loss_ax.twinx()\n",
    "\n",
    "loss_ax.plot(history.history['loss'], 'y', label='train loss')\n",
    "loss_ax.plot(history.history['val_loss'], 'r', label='val loss')\n",
    "loss_ax.set_xlabel('epoch')\n",
    "loss_ax.set_ylabel('loss')\n",
    "loss_ax.legend(loc='upper left')\n",
    "\n",
    "acc_ax.plot(history.history['acc'], 'b', label='train acc')\n",
    "acc_ax.plot(history.history['val_acc'], 'g', label='val acc')\n",
    "acc_ax.set_ylabel('accuracy')\n",
    "acc_ax.legend(loc='upper left')\n",
    "\n",
    "plt.show()"
   ]
  },
  {
   "cell_type": "code",
   "execution_count": 18,
   "metadata": {},
   "outputs": [
    {
     "data": {
      "image/png": "[encoded data removed]",
      "text/plain": [
       "<Figure size 1600x1000 with 2 Axes>"
      ]
     },
     "metadata": {},
     "output_type": "display_data"
    }
   ],
   "source": [
    "fig, loss_ax = plt.subplots(figsize=(16, 10))\n",
    "acc_ax = loss_ax.twinx()\n",
    "\n",
    "loss_ax.set_xlabel('epoch')\n",
    "loss_ax.set_ylabel('loss')\n",
    "\n",
    "acc_ax.plot(history.history['metric_f1score'], 'b', label='train f1')\n",
    "acc_ax.plot(history.history['val_metric_f1score'], 'g', label='val f1')\n",
    "acc_ax.set_ylabel('f1-score')\n",
    "acc_ax.legend(loc='upper left')\n",
    "\n",
    "plt.show()"
   ]
  },
  {
   "cell_type": "code",
   "execution_count": 19,
   "metadata": {},
   "outputs": [
    {
     "name": "stderr",
     "output_type": "stream",
     "text": [
      "WARNING:absl:Compiled the loaded model, but the compiled metrics have yet to be built. `model.compile_metrics` will be empty until you train or evaluate the model.\n"
     ]
    },
    {
     "name": "stdout",
     "output_type": "stream",
     "text": [
      "\u001b[1m3/3\u001b[0m \u001b[32m━━━━━━━━━━━━━━━━━━━━\u001b[0m\u001b[37m\u001b[0m \u001b[1m0s\u001b[0m 43ms/step\n"
     ]
    },
    {
     "data": {
      "text/plain": [
       "array([[[82,  0],\n",
       "        [ 0,  9]],\n",
       "\n",
       "       [[87,  0],\n",
       "        [ 0,  4]],\n",
       "\n",
       "       [[80,  0],\n",
       "        [ 0, 11]],\n",
       "\n",
       "       [[83,  0],\n",
       "        [ 0,  8]],\n",
       "\n",
       "       [[84,  0],\n",
       "        [ 0,  7]],\n",
       "\n",
       "       [[84,  0],\n",
       "        [ 0,  7]],\n",
       "\n",
       "       [[71,  0],\n",
       "        [ 0, 20]],\n",
       "\n",
       "       [[81,  0],\n",
       "        [ 0, 10]],\n",
       "\n",
       "       [[84,  0],\n",
       "        [ 0,  7]],\n",
       "\n",
       "       [[83,  0],\n",
       "        [ 0,  8]]])"
      ]
     },
     "execution_count": 19,
     "metadata": {},
     "output_type": "execute_result"
    }
   ],
   "source": [
    "from sklearn.metrics import multilabel_confusion_matrix\n",
    "from tensorflow.keras.models import load_model\n",
    "\n",
    "model = load_model('models/multi_hand_gesture_classifier.h5', custom_objects = {'metric_F1score':metric_F1score})\n",
    "\n",
    "y_pred = model.predict(x_val)\n",
    "multilabel_confusion_matrix(np.argmax(y_val, axis=1), np.argmax(y_pred, axis=1))"
   ]
  },
  {
   "cell_type": "code",
   "execution_count": 20,
   "metadata": {},
   "outputs": [
    {
     "data": {
      "text/plain": [
       "array([[[82,  0],\n",
       "        [ 0,  9]],\n",
       "\n",
       "       [[87,  0],\n",
       "        [ 0,  4]],\n",
       "\n",
       "       [[80,  0],\n",
       "        [ 0, 11]],\n",
       "\n",
       "       [[83,  0],\n",
       "        [ 0,  8]],\n",
       "\n",
       "       [[84,  0],\n",
       "        [ 0,  7]],\n",
       "\n",
       "       [[84,  0],\n",
       "        [ 0,  7]],\n",
       "\n",
       "       [[71,  0],\n",
       "        [ 0, 20]],\n",
       "\n",
       "       [[81,  0],\n",
       "        [ 0, 10]],\n",
       "\n",
       "       [[84,  0],\n",
       "        [ 0,  7]],\n",
       "\n",
       "       [[83,  0],\n",
       "        [ 0,  8]]])"
      ]
     },
     "execution_count": 20,
     "metadata": {},
     "output_type": "execute_result"
    }
   ],
   "source": [
    "multilabel_confusion_matrix(np.argmax(y_val, axis=1), np.argmax(y_pred, axis=1))"
   ]
  },
  {
   "cell_type": "code",
   "execution_count": 21,
   "metadata": {},
   "outputs": [
    {
     "name": "stderr",
     "output_type": "stream",
     "text": [
      "WARNING:absl:Compiled the loaded model, but the compiled metrics have yet to be built. `model.compile_metrics` will be empty until you train or evaluate the model.\n"
     ]
    },
    {
     "name": "stdout",
     "output_type": "stream",
     "text": [
      "\u001b[1m3/3\u001b[0m \u001b[32m━━━━━━━━━━━━━━━━━━━━\u001b[0m\u001b[37m\u001b[0m \u001b[1m0s\u001b[0m 42ms/step\n"
     ]
    },
    {
     "data": {
      "text/plain": [
       "array([[[82,  0],\n",
       "        [ 0,  9]],\n",
       "\n",
       "       [[87,  0],\n",
       "        [ 0,  4]],\n",
       "\n",
       "       [[80,  0],\n",
       "        [ 0, 11]],\n",
       "\n",
       "       [[83,  0],\n",
       "        [ 0,  8]],\n",
       "\n",
       "       [[84,  0],\n",
       "        [ 0,  7]],\n",
       "\n",
       "       [[84,  0],\n",
       "        [ 0,  7]],\n",
       "\n",
       "       [[71,  0],\n",
       "        [ 0, 20]],\n",
       "\n",
       "       [[81,  0],\n",
       "        [ 0, 10]],\n",
       "\n",
       "       [[84,  0],\n",
       "        [ 0,  7]],\n",
       "\n",
       "       [[83,  0],\n",
       "        [ 0,  8]]])"
      ]
     },
     "execution_count": 21,
     "metadata": {},
     "output_type": "execute_result"
    }
   ],
   "source": [
    "from sklearn.metrics import multilabel_confusion_matrix\n",
    "from tensorflow.keras.models import load_model\n",
    "\n",
    "model = load_model('models/multi_hand_gesture_classifier.h5')\n",
    "\n",
    "y_pred = model.predict(x_val)\n",
    "\n",
    "multilabel_confusion_matrix(np.argmax(y_val, axis=1), np.argmax(y_pred, axis=1))"
   ]
  },
  {
   "cell_type": "code",
   "execution_count": 22,
   "metadata": {},
   "outputs": [
    {
     "name": "stdout",
     "output_type": "stream",
     "text": [
      "INFO:tensorflow:Assets written to: /var/folders/_k/9pcm610n0sb_j9n64tc8zgcw0000gn/T/tmpumjh2q8r/assets\n"
     ]
    },
    {
     "name": "stderr",
     "output_type": "stream",
     "text": [
      "INFO:tensorflow:Assets written to: /var/folders/_k/9pcm610n0sb_j9n64tc8zgcw0000gn/T/tmpumjh2q8r/assets\n"
     ]
    },
    {
     "name": "stdout",
     "output_type": "stream",
     "text": [
      "Saved artifact at '/var/folders/_k/9pcm610n0sb_j9n64tc8zgcw0000gn/T/tmpumjh2q8r'. The following endpoints are available:\n",
      "\n",
      "* Endpoint 'serve'\n",
      "  args_0 (POSITIONAL_ONLY): TensorSpec(shape=(None, 10, 55), dtype=tf.float32, name='input_layer')\n",
      "Output Type:\n",
      "  TensorSpec(shape=(None, 10), dtype=tf.float32, name=None)\n",
      "Captures:\n",
      "  13013431952: TensorSpec(shape=(), dtype=tf.resource, name=None)\n",
      "  13013418400: TensorSpec(shape=(), dtype=tf.resource, name=None)\n",
      "  13013432480: TensorSpec(shape=(), dtype=tf.resource, name=None)\n",
      "  13013555808: TensorSpec(shape=(), dtype=tf.resource, name=None)\n",
      "  13013552816: TensorSpec(shape=(), dtype=tf.resource, name=None)\n",
      "  13013560384: TensorSpec(shape=(), dtype=tf.resource, name=None)\n",
      "  13013663808: TensorSpec(shape=(), dtype=tf.resource, name=None)\n"
     ]
    },
    {
     "name": "stderr",
     "output_type": "stream",
     "text": [
      "WARNING: All log messages before absl::InitializeLog() is called are written to STDERR\n",
      "W0000 00:00:1744797918.052726  607710 tf_tfl_flatbuffer_helpers.cc:365] Ignored output_format.\n",
      "W0000 00:00:1744797918.052744  607710 tf_tfl_flatbuffer_helpers.cc:368] Ignored drop_control_dependency.\n",
      "2025-04-16 19:05:18.053009: I tensorflow/cc/saved_model/reader.cc:83] Reading SavedModel from: /var/folders/_k/9pcm610n0sb_j9n64tc8zgcw0000gn/T/tmpumjh2q8r\n",
      "2025-04-16 19:05:18.053540: I tensorflow/cc/saved_model/reader.cc:52] Reading meta graph with tags { serve }\n",
      "2025-04-16 19:05:18.053545: I tensorflow/cc/saved_model/reader.cc:147] Reading SavedModel debug info (if present) from: /var/folders/_k/9pcm610n0sb_j9n64tc8zgcw0000gn/T/tmpumjh2q8r\n",
      "I0000 00:00:1744797918.058390  607710 mlir_graph_optimization_pass.cc:425] MLIR V1 optimization pass is not enabled\n",
      "2025-04-16 19:05:18.059143: I tensorflow/cc/saved_model/loader.cc:236] Restoring SavedModel bundle.\n",
      "2025-04-16 19:05:18.084373: I tensorflow/cc/saved_model/loader.cc:220] Running initialization op on SavedModel bundle at path: /var/folders/_k/9pcm610n0sb_j9n64tc8zgcw0000gn/T/tmpumjh2q8r\n",
      "2025-04-16 19:05:18.094492: I tensorflow/cc/saved_model/loader.cc:471] SavedModel load for tags { serve }; Status: success: OK. Took 41486 microseconds.\n",
      "2025-04-16 19:05:18.107571: I tensorflow/compiler/mlir/tensorflow/utils/dump_mlir_util.cc:269] disabling MLIR crash reproducer, set env var `MLIR_CRASH_REPRODUCER_DIRECTORY` to enable.\n",
      "2025-04-16 19:05:18.147147: W tensorflow/compiler/mlir/lite/flatbuffer_export.cc:3993] TFLite interpreter needs to link Flex delegate in order to run the model since it contains the following Select TFop(s):\n",
      "Flex ops: FlexTensorListReserve, FlexTensorListSetItem, FlexTensorListStack\n",
      "Details:\n",
      "\ttf.TensorListReserve(tensor<2xi32>, tensor<i32>) -> (tensor<!tf_type.variant<tensor<?x64xf32>>>) : {device = \"\"}\n",
      "\ttf.TensorListSetItem(tensor<!tf_type.variant<tensor<?x64xf32>>>, tensor<i32>, tensor<?x64xf32>) -> (tensor<!tf_type.variant<tensor<?x64xf32>>>) : {device = \"\", resize_if_index_out_of_bounds = false}\n",
      "\ttf.TensorListStack(tensor<!tf_type.variant<tensor<?x64xf32>>>, tensor<2xi32>) -> (tensor<1x?x64xf32>) : {device = \"\", num_elements = 1 : i64}\n",
      "See instructions: https://www.tensorflow.org/lite/guide/ops_select\n"
     ]
    }
   ],
   "source": [
    "import tensorflow as tf\n",
    "# Convert the model.\n",
    "converter = tf.lite.TFLiteConverter.from_keras_model(model)\n",
    "\n",
    "# 1. TF Lite 기본 연산 + Select TF ops 사용\n",
    "converter.target_spec.supported_ops = [\n",
    "    tf.lite.OpsSet.TFLITE_BUILTINS,\n",
    "    tf.lite.OpsSet.SELECT_TF_OPS\n",
    "]\n",
    "\n",
    "# 2. TensorList lowering 비활성화\n",
    "converter._experimental_lower_tensor_list_ops = False\n",
    "\n",
    "# 변환 실행\n",
    "tflite_model = converter.convert()\n",
    "\n",
    "# 모델 저장\n",
    "with open('models/multi_hand_gesture_classifier.tflite', 'wb') as f:\n",
    "    f.write(tflite_model)"
   ]
  },
  {
   "cell_type": "code",
   "execution_count": null,
   "metadata": {},
   "outputs": [],
   "source": []
  }
 ],
 "metadata": {
  "kernelspec": {
   "display_name": "hi",
   "language": "python",
   "name": "python3"
  },
  "language_info": {
   "codemirror_mode": {
    "name": "ipython",
    "version": 3
   },
   "file_extension": ".py",
   "mimetype": "text/x-python",
   "name": "python",
   "nbconvert_exporter": "python",
   "pygments_lexer": "ipython3",
   "version": "3.10.16"
  }
 },
 "nbformat": 4,
 "nbformat_minor": 4
}
