{
 "cells": [
  {
   "cell_type": "code",
   "execution_count": 1,
   "metadata": {},
   "outputs": [],
   "source": [
    "import numpy as np\n",
    "import os\n",
    "\n",
    "os.environ['CUDA_VISIBLE_DEVICES'] = '1'\n",
    "os.environ['TF_FORCE_GPU_ALLOW_GROWTH'] = 'true'"
   ]
  },
  {
   "cell_type": "code",
   "execution_count": 2,
   "metadata": {},
   "outputs": [
    {
     "name": "stdout",
     "output_type": "stream",
     "text": [
      "/Users/ENZO/KOOKIZ/GITHUB/translate-handsign\n"
     ]
    },
    {
     "name": "stderr",
     "output_type": "stream",
     "text": [
      "/opt/anaconda3/envs/hi/lib/python3.10/site-packages/IPython/core/magics/osm.py:417: UserWarning: This is now an optional IPython functionality, setting dhist requires you to install the `pickleshare` library.\n",
      "  self.shell.db['dhist'] = compress_dhist(dhist)[-100:]\n"
     ]
    }
   ],
   "source": [
    "%pwd\n",
    "%cd .."
   ]
  },
  {
   "cell_type": "code",
   "execution_count": 5,
   "metadata": {},
   "outputs": [
    {
     "data": {
      "text/plain": [
       "(291, 10, 56)"
      ]
     },
     "execution_count": 5,
     "metadata": {},
     "output_type": "execute_result"
    }
   ],
   "source": [
    "actions = ['가래', '기침', '불안', '아프다', '열', '이상하다', '충혈된 눈', '코막힘', '콧물']\n",
    "time_num, time_num1, time_num2 = '1744771126','1744771199', '1744771241'\n",
    "for i in time_num:\n",
    "    data = np.concatenate([\n",
    "        # np.load(f'dataset/seq_가래_{time_num}.npy'),\n",
    "        # np.load(f'dataset/seq_기침_{time_num}.npy'),\n",
    "        # np.load(f'dataset/seq_불안_{time_num}.npy'),\n",
    "        np.load(f'dataset/seq_아프다_{time_num}.npy'),\n",
    "        np.load(f'dataset/seq_열_{time_num}.npy'),\n",
    "        # np.load(f'dataset/seq_이상하다_{time_num}.npy'),\n",
    "        # np.load(f'dataset/seq_충혈된_눈_{time_num}.npy'),\n",
    "        # np.load(f'dataset/seq_코막힘_{time_num}.npy'),\n",
    "        # np.load(f'dataset/seq_콧물_{time_num}.npy'),\n",
    "        # np.load(f'dataset/seq_가래_{time_num1}.npy'),\n",
    "        # np.load(f'dataset/seq_기침_{time_num1}.npy'),\n",
    "        # np.load(f'dataset/seq_불안_{time_num1}.npy'),\n",
    "        np.load(f'dataset/seq_아프다_{time_num1}.npy'),\n",
    "        np.load(f'dataset/seq_열_{time_num1}.npy'),\n",
    "        # np.load(f'dataset/seq_이상하다_{time_num1}.npy'),\n",
    "        # np.load(f'dataset/seq_충혈된_눈_{time_num1}.npy'),\n",
    "        # np.load(f'dataset/seq_코막힘_{time_num1}.npy'),\n",
    "        # np.load(f'dataset/seq_콧물_{time_num1}.npy'),\n",
    "        # np.load(f'dataset/seq_가래_{time_num2}.npy'),\n",
    "        # np.load(f'dataset/seq_기침_{time_num2}.npy'),\n",
    "        # np.load(f'dataset/seq_불안_{time_num2}.npy'),\n",
    "        np.load(f'dataset/seq_아프다_{time_num2}.npy'),\n",
    "        np.load(f'dataset/seq_열_{time_num2}.npy')\n",
    "        # np.load(f'dataset/seq_이상하다_{time_num2}.npy'),\n",
    "        # np.load(f'dataset/seq_충혈된_눈_{time_num2}.npy'),\n",
    "        # np.load(f'dataset/seq_코막힘_{time_num2}.npy'),\n",
    "        # np.load(f'dataset/seq_콧물_{time_num2}.npy')\n",
    "    ], axis=0)\n",
    "\n",
    "data.shape"
   ]
  },
  {
   "cell_type": "code",
   "execution_count": 6,
   "metadata": {},
   "outputs": [
    {
     "name": "stdout",
     "output_type": "stream",
     "text": [
      "(40, 10, 56)\n",
      "(57, 10, 56)\n"
     ]
    }
   ],
   "source": [
    "print(np.load(f'dataset/seq_아프다_1744771126.npy').shape)\n",
    "print(np.load(f'dataset/seq_열_1744771126.npy').shape)"
   ]
  },
  {
   "cell_type": "code",
   "execution_count": 7,
   "metadata": {},
   "outputs": [
    {
     "name": "stdout",
     "output_type": "stream",
     "text": [
      "(291, 10, 55)\n",
      "(291,)\n"
     ]
    }
   ],
   "source": [
    "x_data = data[:, :, :-1]\n",
    "labels = data[:, 0, -1]\n",
    "\n",
    "print(x_data.shape)\n",
    "print(labels.shape)"
   ]
  },
  {
   "cell_type": "code",
   "execution_count": 8,
   "metadata": {},
   "outputs": [
    {
     "data": {
      "text/plain": [
       "array([0., 0., 0., 0., 0., 0., 0., 0., 0., 0., 0., 0., 0., 0., 0., 0., 0.,\n",
       "       0., 0., 0., 0., 0., 0., 0., 0., 0., 0., 0., 0., 0., 0., 0., 0., 0.,\n",
       "       0., 0., 0., 0., 0., 0., 1., 1., 1., 1., 1., 1., 1., 1., 1., 1., 1.,\n",
       "       1., 1., 1., 1., 1., 1., 1., 1., 1., 1., 1., 1., 1., 1., 1., 1., 1.,\n",
       "       1., 1., 1., 1., 1., 1., 1., 1., 1., 1., 1., 1., 1., 1., 1., 1., 1.,\n",
       "       1., 1., 1., 1., 1., 1., 1., 1., 1., 1., 1., 1., 0., 0., 0., 0., 0.,\n",
       "       0., 0., 0., 0., 0., 0., 0., 0., 0., 0., 0., 0., 0., 0., 0., 0., 0.,\n",
       "       0., 0., 0., 0., 0., 0., 0., 0., 0., 0., 0., 0., 0., 0., 0., 0., 0.,\n",
       "       0., 1., 1., 1., 1., 1., 1., 1., 1., 1., 1., 1., 1., 1., 1., 1., 1.,\n",
       "       1., 1., 1., 1., 1., 1., 1., 1., 1., 1., 1., 1., 1., 1., 1., 1., 1.,\n",
       "       1., 1., 1., 1., 1., 1., 1., 1., 1., 1., 1., 1., 1., 1., 1., 1., 1.,\n",
       "       1., 1., 1., 1., 1., 1., 1., 0., 0., 0., 0., 0., 0., 0., 0., 0., 0.,\n",
       "       0., 0., 0., 0., 0., 0., 0., 0., 0., 0., 0., 0., 0., 0., 0., 0., 0.,\n",
       "       0., 0., 0., 0., 0., 0., 0., 0., 0., 0., 0., 0., 0., 1., 1., 1., 1.,\n",
       "       1., 1., 1., 1., 1., 1., 1., 1., 1., 1., 1., 1., 1., 1., 1., 1., 1.,\n",
       "       1., 1., 1., 1., 1., 1., 1., 1., 1., 1., 1., 1., 1., 1., 1., 1., 1.,\n",
       "       1., 1., 1., 1., 1., 1., 1., 1., 1., 1., 1., 1., 1., 1., 1., 1., 1.,\n",
       "       1., 1.])"
      ]
     },
     "execution_count": 8,
     "metadata": {},
     "output_type": "execute_result"
    }
   ],
   "source": [
    "labels"
   ]
  },
  {
   "cell_type": "code",
   "execution_count": 9,
   "metadata": {},
   "outputs": [
    {
     "data": {
      "text/plain": [
       "291"
      ]
     },
     "execution_count": 9,
     "metadata": {},
     "output_type": "execute_result"
    }
   ],
   "source": [
    "len(labels)"
   ]
  },
  {
   "cell_type": "code",
   "execution_count": 10,
   "metadata": {},
   "outputs": [
    {
     "data": {
      "text/plain": [
       "array([0., 1.])"
      ]
     },
     "execution_count": 10,
     "metadata": {},
     "output_type": "execute_result"
    }
   ],
   "source": [
    "np.unique(labels)"
   ]
  },
  {
   "cell_type": "code",
   "execution_count": 11,
   "metadata": {},
   "outputs": [
    {
     "data": {
      "text/plain": [
       "(291, 9)"
      ]
     },
     "execution_count": 11,
     "metadata": {},
     "output_type": "execute_result"
    }
   ],
   "source": [
    "from tensorflow.keras.utils import to_categorical\n",
    "\n",
    "y_data = to_categorical(labels, num_classes=len(actions))\n",
    "y_data.shape"
   ]
  },
  {
   "cell_type": "code",
   "execution_count": 12,
   "metadata": {},
   "outputs": [
    {
     "data": {
      "text/plain": [
       "array([[1., 0., 0., ..., 0., 0., 0.],\n",
       "       [1., 0., 0., ..., 0., 0., 0.],\n",
       "       [1., 0., 0., ..., 0., 0., 0.],\n",
       "       ...,\n",
       "       [0., 1., 0., ..., 0., 0., 0.],\n",
       "       [0., 1., 0., ..., 0., 0., 0.],\n",
       "       [0., 1., 0., ..., 0., 0., 0.]])"
      ]
     },
     "execution_count": 12,
     "metadata": {},
     "output_type": "execute_result"
    }
   ],
   "source": [
    "y_data"
   ]
  },
  {
   "cell_type": "code",
   "execution_count": 13,
   "metadata": {},
   "outputs": [
    {
     "name": "stdout",
     "output_type": "stream",
     "text": [
      "(232, 10, 55) (232, 9)\n",
      "(59, 10, 55) (59, 9)\n"
     ]
    }
   ],
   "source": [
    "from sklearn.model_selection import train_test_split\n",
    "\n",
    "x_data = x_data.astype(np.float32)\n",
    "y_data = y_data.astype(np.float32)\n",
    "\n",
    "x_train, x_val, y_train, y_val = train_test_split(x_data, y_data, test_size=0.2, random_state=2020)\n",
    "\n",
    "print(x_train.shape, y_train.shape)\n",
    "print(x_val.shape, y_val.shape)"
   ]
  },
  {
   "cell_type": "code",
   "execution_count": 14,
   "metadata": {},
   "outputs": [
    {
     "data": {
      "text/plain": [
       "(10, 55)"
      ]
     },
     "execution_count": 14,
     "metadata": {},
     "output_type": "execute_result"
    }
   ],
   "source": [
    "x_train.shape[1:3]"
   ]
  },
  {
   "cell_type": "code",
   "execution_count": 15,
   "metadata": {},
   "outputs": [],
   "source": [
    "np.random.seed(42)\n",
    "import tensorflow as tf\n",
    "tf.random.set_seed(42)"
   ]
  },
  {
   "cell_type": "code",
   "execution_count": 16,
   "metadata": {},
   "outputs": [],
   "source": [
    "# custom f1 score\n",
    "def metric_F1score(y_true,y_pred): \n",
    "    TP=tf.reduce_sum(y_true*tf.round(y_pred))\n",
    "    TN=tf.reduce_sum((1-y_true)*(1-tf.round(y_pred)))\n",
    "    FP=tf.reduce_sum((1-y_true)*tf.round(y_pred))\n",
    "    FN=tf.reduce_sum(y_true*(1-tf.round(y_pred)))\n",
    "    precision=TP/(TP+FP)\n",
    "    recall=TP/(TP+FN)\n",
    "    F1score=2*precision*recall/(precision+recall)\n",
    "    return F1score"
   ]
  },
  {
   "cell_type": "code",
   "execution_count": 17,
   "metadata": {},
   "outputs": [
    {
     "name": "stderr",
     "output_type": "stream",
     "text": [
      "/opt/anaconda3/envs/hi/lib/python3.10/site-packages/keras/src/layers/rnn/rnn.py:200: UserWarning: Do not pass an `input_shape`/`input_dim` argument to a layer. When using Sequential models, prefer using an `Input(shape)` object as the first layer in the model instead.\n",
      "  super().__init__(**kwargs)\n"
     ]
    },
    {
     "data": {
      "text/html": [
       "<pre style=\"white-space:pre;overflow-x:auto;line-height:normal;font-family:Menlo,'DejaVu Sans Mono',consolas,'Courier New',monospace\"><span style=\"font-weight: bold\">Model: \"sequential\"</span>\n",
       "</pre>\n"
      ],
      "text/plain": [
       "\u001b[1mModel: \"sequential\"\u001b[0m\n"
      ]
     },
     "metadata": {},
     "output_type": "display_data"
    },
    {
     "data": {
      "text/html": [
       "<pre style=\"white-space:pre;overflow-x:auto;line-height:normal;font-family:Menlo,'DejaVu Sans Mono',consolas,'Courier New',monospace\">┏━━━━━━━━━━━━━━━━━━━━━━━━━━━━━━━━━┳━━━━━━━━━━━━━━━━━━━━━━━━┳━━━━━━━━━━━━━━━┓\n",
       "┃<span style=\"font-weight: bold\"> Layer (type)                    </span>┃<span style=\"font-weight: bold\"> Output Shape           </span>┃<span style=\"font-weight: bold\">       Param # </span>┃\n",
       "┡━━━━━━━━━━━━━━━━━━━━━━━━━━━━━━━━━╇━━━━━━━━━━━━━━━━━━━━━━━━╇━━━━━━━━━━━━━━━┩\n",
       "│ lstm (<span style=\"color: #0087ff; text-decoration-color: #0087ff\">LSTM</span>)                     │ (<span style=\"color: #00d7ff; text-decoration-color: #00d7ff\">None</span>, <span style=\"color: #00af00; text-decoration-color: #00af00\">64</span>)             │        <span style=\"color: #00af00; text-decoration-color: #00af00\">30,720</span> │\n",
       "├─────────────────────────────────┼────────────────────────┼───────────────┤\n",
       "│ dropout (<span style=\"color: #0087ff; text-decoration-color: #0087ff\">Dropout</span>)               │ (<span style=\"color: #00d7ff; text-decoration-color: #00d7ff\">None</span>, <span style=\"color: #00af00; text-decoration-color: #00af00\">64</span>)             │             <span style=\"color: #00af00; text-decoration-color: #00af00\">0</span> │\n",
       "├─────────────────────────────────┼────────────────────────┼───────────────┤\n",
       "│ dense (<span style=\"color: #0087ff; text-decoration-color: #0087ff\">Dense</span>)                   │ (<span style=\"color: #00d7ff; text-decoration-color: #00d7ff\">None</span>, <span style=\"color: #00af00; text-decoration-color: #00af00\">32</span>)             │         <span style=\"color: #00af00; text-decoration-color: #00af00\">2,080</span> │\n",
       "├─────────────────────────────────┼────────────────────────┼───────────────┤\n",
       "│ dropout_1 (<span style=\"color: #0087ff; text-decoration-color: #0087ff\">Dropout</span>)             │ (<span style=\"color: #00d7ff; text-decoration-color: #00d7ff\">None</span>, <span style=\"color: #00af00; text-decoration-color: #00af00\">32</span>)             │             <span style=\"color: #00af00; text-decoration-color: #00af00\">0</span> │\n",
       "├─────────────────────────────────┼────────────────────────┼───────────────┤\n",
       "│ dense_1 (<span style=\"color: #0087ff; text-decoration-color: #0087ff\">Dense</span>)                 │ (<span style=\"color: #00d7ff; text-decoration-color: #00d7ff\">None</span>, <span style=\"color: #00af00; text-decoration-color: #00af00\">9</span>)              │           <span style=\"color: #00af00; text-decoration-color: #00af00\">297</span> │\n",
       "└─────────────────────────────────┴────────────────────────┴───────────────┘\n",
       "</pre>\n"
      ],
      "text/plain": [
       "┏━━━━━━━━━━━━━━━━━━━━━━━━━━━━━━━━━┳━━━━━━━━━━━━━━━━━━━━━━━━┳━━━━━━━━━━━━━━━┓\n",
       "┃\u001b[1m \u001b[0m\u001b[1mLayer (type)                   \u001b[0m\u001b[1m \u001b[0m┃\u001b[1m \u001b[0m\u001b[1mOutput Shape          \u001b[0m\u001b[1m \u001b[0m┃\u001b[1m \u001b[0m\u001b[1m      Param #\u001b[0m\u001b[1m \u001b[0m┃\n",
       "┡━━━━━━━━━━━━━━━━━━━━━━━━━━━━━━━━━╇━━━━━━━━━━━━━━━━━━━━━━━━╇━━━━━━━━━━━━━━━┩\n",
       "│ lstm (\u001b[38;5;33mLSTM\u001b[0m)                     │ (\u001b[38;5;45mNone\u001b[0m, \u001b[38;5;34m64\u001b[0m)             │        \u001b[38;5;34m30,720\u001b[0m │\n",
       "├─────────────────────────────────┼────────────────────────┼───────────────┤\n",
       "│ dropout (\u001b[38;5;33mDropout\u001b[0m)               │ (\u001b[38;5;45mNone\u001b[0m, \u001b[38;5;34m64\u001b[0m)             │             \u001b[38;5;34m0\u001b[0m │\n",
       "├─────────────────────────────────┼────────────────────────┼───────────────┤\n",
       "│ dense (\u001b[38;5;33mDense\u001b[0m)                   │ (\u001b[38;5;45mNone\u001b[0m, \u001b[38;5;34m32\u001b[0m)             │         \u001b[38;5;34m2,080\u001b[0m │\n",
       "├─────────────────────────────────┼────────────────────────┼───────────────┤\n",
       "│ dropout_1 (\u001b[38;5;33mDropout\u001b[0m)             │ (\u001b[38;5;45mNone\u001b[0m, \u001b[38;5;34m32\u001b[0m)             │             \u001b[38;5;34m0\u001b[0m │\n",
       "├─────────────────────────────────┼────────────────────────┼───────────────┤\n",
       "│ dense_1 (\u001b[38;5;33mDense\u001b[0m)                 │ (\u001b[38;5;45mNone\u001b[0m, \u001b[38;5;34m9\u001b[0m)              │           \u001b[38;5;34m297\u001b[0m │\n",
       "└─────────────────────────────────┴────────────────────────┴───────────────┘\n"
      ]
     },
     "metadata": {},
     "output_type": "display_data"
    },
    {
     "data": {
      "text/html": [
       "<pre style=\"white-space:pre;overflow-x:auto;line-height:normal;font-family:Menlo,'DejaVu Sans Mono',consolas,'Courier New',monospace\"><span style=\"font-weight: bold\"> Total params: </span><span style=\"color: #00af00; text-decoration-color: #00af00\">33,097</span> (129.29 KB)\n",
       "</pre>\n"
      ],
      "text/plain": [
       "\u001b[1m Total params: \u001b[0m\u001b[38;5;34m33,097\u001b[0m (129.29 KB)\n"
      ]
     },
     "metadata": {},
     "output_type": "display_data"
    },
    {
     "data": {
      "text/html": [
       "<pre style=\"white-space:pre;overflow-x:auto;line-height:normal;font-family:Menlo,'DejaVu Sans Mono',consolas,'Courier New',monospace\"><span style=\"font-weight: bold\"> Trainable params: </span><span style=\"color: #00af00; text-decoration-color: #00af00\">33,097</span> (129.29 KB)\n",
       "</pre>\n"
      ],
      "text/plain": [
       "\u001b[1m Trainable params: \u001b[0m\u001b[38;5;34m33,097\u001b[0m (129.29 KB)\n"
      ]
     },
     "metadata": {},
     "output_type": "display_data"
    },
    {
     "data": {
      "text/html": [
       "<pre style=\"white-space:pre;overflow-x:auto;line-height:normal;font-family:Menlo,'DejaVu Sans Mono',consolas,'Courier New',monospace\"><span style=\"font-weight: bold\"> Non-trainable params: </span><span style=\"color: #00af00; text-decoration-color: #00af00\">0</span> (0.00 B)\n",
       "</pre>\n"
      ],
      "text/plain": [
       "\u001b[1m Non-trainable params: \u001b[0m\u001b[38;5;34m0\u001b[0m (0.00 B)\n"
      ]
     },
     "metadata": {},
     "output_type": "display_data"
    }
   ],
   "source": [
    "from tensorflow.keras.models import Sequential\n",
    "from tensorflow.keras.layers import LSTM, Dense, Dropout\n",
    "import tensorflow.keras as keras\n",
    "\n",
    "model = Sequential([\n",
    "    LSTM(64, activation='relu', input_shape=x_train.shape[1:3], kernel_regularizer=keras.regularizers.l2(0.01)),\n",
    "    Dropout(0.3),\n",
    "    Dense(32, activation='relu', kernel_regularizer=keras.regularizers.l2(0.01)),\n",
    "    Dropout(0.3),\n",
    "    Dense(len(actions), activation='softmax', kernel_regularizer=keras.regularizers.l2(0.01))\n",
    "])\n",
    "\n",
    "model.compile(optimizer='adam', loss='categorical_crossentropy', metrics=['acc',metric_F1score])\n",
    "model.summary()"
   ]
  },
  {
   "cell_type": "code",
   "execution_count": 19,
   "metadata": {
    "scrolled": true
   },
   "outputs": [
    {
     "name": "stdout",
     "output_type": "stream",
     "text": [
      "Epoch 1/200\n",
      "\u001b[1m1/8\u001b[0m \u001b[32m━━\u001b[0m\u001b[37m━━━━━━━━━━━━━━━━━━\u001b[0m \u001b[1m0s\u001b[0m 20ms/step - acc: 0.3750 - loss: 5.9375 - metric_f1score: 0.3934\n",
      "Epoch 1: val_acc improved from -inf to 0.94915, saving model to models/multi_hand_gesture_classifier.h5\n"
     ]
    },
    {
     "name": "stderr",
     "output_type": "stream",
     "text": [
      "WARNING:absl:You are saving your model as an HDF5 file via `model.save()` or `keras.saving.save_model(model)`. This file format is considered legacy. We recommend using instead the native Keras format, e.g. `model.save('my_model.keras')` or `keras.saving.save_model(model, 'my_model.keras')`. \n"
     ]
    },
    {
     "name": "stdout",
     "output_type": "stream",
     "text": [
      "\u001b[1m8/8\u001b[0m \u001b[32m━━━━━━━━━━━━━━━━━━━━\u001b[0m\u001b[37m\u001b[0m \u001b[1m0s\u001b[0m 14ms/step - acc: 0.5342 - loss: 4.5610 - metric_f1score: 0.5361 - val_acc: 0.9492 - val_loss: 1.6811 - val_metric_f1score: 0.9561 - learning_rate: 0.0010\n",
      "Epoch 2/200\n",
      "\u001b[1m1/8\u001b[0m \u001b[32m━━\u001b[0m\u001b[37m━━━━━━━━━━━━━━━━━━\u001b[0m \u001b[1m0s\u001b[0m 15ms/step - acc: 0.7188 - loss: 3.5114 - metric_f1score: 0.7097\n",
      "Epoch 2: val_acc improved from 0.94915 to 0.96610, saving model to models/multi_hand_gesture_classifier.h5\n"
     ]
    },
    {
     "name": "stderr",
     "output_type": "stream",
     "text": [
      "/opt/anaconda3/envs/hi/lib/python3.10/site-packages/keras/src/callbacks/early_stopping.py:153: UserWarning: Early stopping conditioned on metric `val_metric_F1score` which is not available. Available metrics are: acc,loss,metric_f1score,val_acc,val_loss,val_metric_f1score,learning_rate\n",
      "  current = self.get_monitor_value(logs)\n",
      "WARNING:absl:You are saving your model as an HDF5 file via `model.save()` or `keras.saving.save_model(model)`. This file format is considered legacy. We recommend using instead the native Keras format, e.g. `model.save('my_model.keras')` or `keras.saving.save_model(model, 'my_model.keras')`. \n"
     ]
    },
    {
     "name": "stdout",
     "output_type": "stream",
     "text": [
      "\u001b[1m8/8\u001b[0m \u001b[32m━━━━━━━━━━━━━━━━━━━━\u001b[0m\u001b[37m\u001b[0m \u001b[1m0s\u001b[0m 9ms/step - acc: 0.7384 - loss: 2.9155 - metric_f1score: 0.7460 - val_acc: 0.9661 - val_loss: 1.5477 - val_metric_f1score: 0.9561 - learning_rate: 0.0010\n",
      "Epoch 3/200\n",
      "\u001b[1m1/8\u001b[0m \u001b[32m━━\u001b[0m\u001b[37m━━━━━━━━━━━━━━━━━━\u001b[0m \u001b[1m0s\u001b[0m 14ms/step - acc: 0.9062 - loss: 1.9435 - metric_f1score: 0.9032\n",
      "Epoch 3: val_acc did not improve from 0.96610\n",
      "\u001b[1m8/8\u001b[0m \u001b[32m━━━━━━━━━━━━━━━━━━━━\u001b[0m\u001b[37m\u001b[0m \u001b[1m0s\u001b[0m 8ms/step - acc: 0.8110 - loss: 2.1518 - metric_f1score: 0.8199 - val_acc: 0.9661 - val_loss: 1.3650 - val_metric_f1score: 0.9826 - learning_rate: 0.0010\n",
      "Epoch 4/200\n",
      "\u001b[1m1/8\u001b[0m \u001b[32m━━\u001b[0m\u001b[37m━━━━━━━━━━━━━━━━━━\u001b[0m \u001b[1m0s\u001b[0m 14ms/step - acc: 0.9375 - loss: 1.6318 - metric_f1score: 0.9375\n",
      "Epoch 4: val_acc improved from 0.96610 to 1.00000, saving model to models/multi_hand_gesture_classifier.h5\n"
     ]
    },
    {
     "name": "stderr",
     "output_type": "stream",
     "text": [
      "WARNING:absl:You are saving your model as an HDF5 file via `model.save()` or `keras.saving.save_model(model)`. This file format is considered legacy. We recommend using instead the native Keras format, e.g. `model.save('my_model.keras')` or `keras.saving.save_model(model, 'my_model.keras')`. \n"
     ]
    },
    {
     "name": "stdout",
     "output_type": "stream",
     "text": [
      "\u001b[1m8/8\u001b[0m \u001b[32m━━━━━━━━━━━━━━━━━━━━\u001b[0m\u001b[37m\u001b[0m \u001b[1m0s\u001b[0m 8ms/step - acc: 0.9180 - loss: 1.6283 - metric_f1score: 0.9211 - val_acc: 1.0000 - val_loss: 1.2963 - val_metric_f1score: 1.0000 - learning_rate: 0.0010\n",
      "Epoch 5/200\n",
      "\u001b[1m1/8\u001b[0m \u001b[32m━━\u001b[0m\u001b[37m━━━━━━━━━━━━━━━━━━\u001b[0m \u001b[1m0s\u001b[0m 13ms/step - acc: 0.8125 - loss: 2.3577 - metric_f1score: 0.7937\n",
      "Epoch 5: val_acc did not improve from 1.00000\n",
      "\u001b[1m8/8\u001b[0m \u001b[32m━━━━━━━━━━━━━━━━━━━━\u001b[0m\u001b[37m\u001b[0m \u001b[1m0s\u001b[0m 7ms/step - acc: 0.8625 - loss: 1.8375 - metric_f1score: 0.8594 - val_acc: 1.0000 - val_loss: 1.2661 - val_metric_f1score: 1.0000 - learning_rate: 0.0010\n",
      "Epoch 6/200\n",
      "\u001b[1m1/8\u001b[0m \u001b[32m━━\u001b[0m\u001b[37m━━━━━━━━━━━━━━━━━━\u001b[0m \u001b[1m0s\u001b[0m 14ms/step - acc: 0.9688 - loss: 1.6439 - metric_f1score: 0.9688\n",
      "Epoch 6: val_acc did not improve from 1.00000\n",
      "\u001b[1m8/8\u001b[0m \u001b[32m━━━━━━━━━━━━━━━━━━━━\u001b[0m\u001b[37m\u001b[0m \u001b[1m0s\u001b[0m 17ms/step - acc: 0.9265 - loss: 1.6413 - metric_f1score: 0.9337 - val_acc: 1.0000 - val_loss: 1.2362 - val_metric_f1score: 1.0000 - learning_rate: 0.0010\n",
      "Epoch 7/200\n",
      "\u001b[1m1/8\u001b[0m \u001b[32m━━\u001b[0m\u001b[37m━━━━━━━━━━━━━━━━━━\u001b[0m \u001b[1m0s\u001b[0m 14ms/step - acc: 0.9688 - loss: 1.3399 - metric_f1score: 0.9524\n",
      "Epoch 7: val_acc did not improve from 1.00000\n",
      "\u001b[1m8/8\u001b[0m \u001b[32m━━━━━━━━━━━━━━━━━━━━\u001b[0m\u001b[37m\u001b[0m \u001b[1m0s\u001b[0m 8ms/step - acc: 0.9497 - loss: 1.4154 - metric_f1score: 0.9502 - val_acc: 1.0000 - val_loss: 1.2078 - val_metric_f1score: 1.0000 - learning_rate: 0.0010\n",
      "Epoch 8/200\n",
      "\u001b[1m1/8\u001b[0m \u001b[32m━━\u001b[0m\u001b[37m━━━━━━━━━━━━━━━━━━\u001b[0m \u001b[1m0s\u001b[0m 14ms/step - acc: 0.9688 - loss: 1.2453 - metric_f1score: 0.9688\n",
      "Epoch 8: val_acc did not improve from 1.00000\n",
      "\u001b[1m8/8\u001b[0m \u001b[32m━━━━━━━━━━━━━━━━━━━━\u001b[0m\u001b[37m\u001b[0m \u001b[1m0s\u001b[0m 7ms/step - acc: 0.9479 - loss: 1.4094 - metric_f1score: 0.9560 - val_acc: 1.0000 - val_loss: 1.1809 - val_metric_f1score: 1.0000 - learning_rate: 0.0010\n",
      "Epoch 9/200\n",
      "\u001b[1m1/8\u001b[0m \u001b[32m━━\u001b[0m\u001b[37m━━━━━━━━━━━━━━━━━━\u001b[0m \u001b[1m0s\u001b[0m 14ms/step - acc: 0.9062 - loss: 1.6454 - metric_f1score: 0.9206\n",
      "Epoch 9: val_acc did not improve from 1.00000\n",
      "\u001b[1m8/8\u001b[0m \u001b[32m━━━━━━━━━━━━━━━━━━━━\u001b[0m\u001b[37m\u001b[0m \u001b[1m0s\u001b[0m 7ms/step - acc: 0.9413 - loss: 1.4482 - metric_f1score: 0.9412 - val_acc: 1.0000 - val_loss: 1.1552 - val_metric_f1score: 1.0000 - learning_rate: 0.0010\n",
      "Epoch 10/200\n",
      "\u001b[1m1/8\u001b[0m \u001b[32m━━\u001b[0m\u001b[37m━━━━━━━━━━━━━━━━━━\u001b[0m \u001b[1m0s\u001b[0m 13ms/step - acc: 1.0000 - loss: 1.1788 - metric_f1score: 1.0000\n",
      "Epoch 10: val_acc did not improve from 1.00000\n",
      "\u001b[1m8/8\u001b[0m \u001b[32m━━━━━━━━━━━━━━━━━━━━\u001b[0m\u001b[37m\u001b[0m \u001b[1m0s\u001b[0m 7ms/step - acc: 0.9703 - loss: 1.2497 - metric_f1score: 0.9752 - val_acc: 1.0000 - val_loss: 1.1308 - val_metric_f1score: 1.0000 - learning_rate: 0.0010\n",
      "Epoch 11/200\n",
      "\u001b[1m1/8\u001b[0m \u001b[32m━━\u001b[0m\u001b[37m━━━━━━━━━━━━━━━━━━\u001b[0m \u001b[1m0s\u001b[0m 13ms/step - acc: 0.9688 - loss: 1.2895 - metric_f1score: 0.9688\n",
      "Epoch 11: val_acc did not improve from 1.00000\n",
      "\u001b[1m8/8\u001b[0m \u001b[32m━━━━━━━━━━━━━━━━━━━━\u001b[0m\u001b[37m\u001b[0m \u001b[1m0s\u001b[0m 7ms/step - acc: 0.9723 - loss: 1.2502 - metric_f1score: 0.9733 - val_acc: 1.0000 - val_loss: 1.1074 - val_metric_f1score: 1.0000 - learning_rate: 0.0010\n",
      "Epoch 12/200\n",
      "\u001b[1m1/8\u001b[0m \u001b[32m━━\u001b[0m\u001b[37m━━━━━━━━━━━━━━━━━━\u001b[0m \u001b[1m0s\u001b[0m 12ms/step - acc: 1.0000 - loss: 1.1232 - metric_f1score: 1.0000\n",
      "Epoch 12: val_acc did not improve from 1.00000\n",
      "\u001b[1m8/8\u001b[0m \u001b[32m━━━━━━━━━━━━━━━━━━━━\u001b[0m\u001b[37m\u001b[0m \u001b[1m0s\u001b[0m 7ms/step - acc: 0.9573 - loss: 1.2625 - metric_f1score: 0.9636 - val_acc: 1.0000 - val_loss: 1.0851 - val_metric_f1score: 1.0000 - learning_rate: 0.0010\n",
      "Epoch 13/200\n",
      "\u001b[1m1/8\u001b[0m \u001b[32m━━\u001b[0m\u001b[37m━━━━━━━━━━━━━━━━━━\u001b[0m \u001b[1m0s\u001b[0m 13ms/step - acc: 0.9375 - loss: 1.4178 - metric_f1score: 0.9524\n",
      "Epoch 13: val_acc did not improve from 1.00000\n",
      "\u001b[1m8/8\u001b[0m \u001b[32m━━━━━━━━━━━━━━━━━━━━\u001b[0m\u001b[37m\u001b[0m \u001b[1m0s\u001b[0m 7ms/step - acc: 0.9694 - loss: 1.2276 - metric_f1score: 0.9738 - val_acc: 1.0000 - val_loss: 1.0639 - val_metric_f1score: 1.0000 - learning_rate: 0.0010\n",
      "Epoch 14/200\n",
      "\u001b[1m8/8\u001b[0m \u001b[32m━━━━━━━━━━━━━━━━━━━━\u001b[0m\u001b[37m\u001b[0m \u001b[1m0s\u001b[0m 7ms/step - acc: 0.9687 - loss: 1.1424 - metric_f1score: 0.9746 \n",
      "Epoch 14: val_acc did not improve from 1.00000\n",
      "\u001b[1m8/8\u001b[0m \u001b[32m━━━━━━━━━━━━━━━━━━━━\u001b[0m\u001b[37m\u001b[0m \u001b[1m0s\u001b[0m 16ms/step - acc: 0.9679 - loss: 1.1435 - metric_f1score: 0.9742 - val_acc: 1.0000 - val_loss: 1.0436 - val_metric_f1score: 1.0000 - learning_rate: 0.0010\n",
      "Epoch 15/200\n",
      "\u001b[1m1/8\u001b[0m \u001b[32m━━\u001b[0m\u001b[37m━━━━━━━━━━━━━━━━━━\u001b[0m \u001b[1m0s\u001b[0m 20ms/step - acc: 0.9688 - loss: 1.0957 - metric_f1score: 0.9688\n",
      "Epoch 15: val_acc did not improve from 1.00000\n",
      "\u001b[1m8/8\u001b[0m \u001b[32m━━━━━━━━━━━━━━━━━━━━\u001b[0m\u001b[37m\u001b[0m \u001b[1m0s\u001b[0m 10ms/step - acc: 0.9704 - loss: 1.1611 - metric_f1score: 0.9658 - val_acc: 1.0000 - val_loss: 1.0241 - val_metric_f1score: 1.0000 - learning_rate: 0.0010\n",
      "Epoch 16/200\n",
      "\u001b[1m1/8\u001b[0m \u001b[32m━━\u001b[0m\u001b[37m━━━━━━━━━━━━━━━━━━\u001b[0m \u001b[1m0s\u001b[0m 18ms/step - acc: 1.0000 - loss: 1.0296 - metric_f1score: 1.0000\n",
      "Epoch 16: val_acc did not improve from 1.00000\n",
      "\u001b[1m8/8\u001b[0m \u001b[32m━━━━━━━━━━━━━━━━━━━━\u001b[0m\u001b[37m\u001b[0m \u001b[1m0s\u001b[0m 9ms/step - acc: 0.9715 - loss: 1.1259 - metric_f1score: 0.9743 - val_acc: 1.0000 - val_loss: 1.0052 - val_metric_f1score: 1.0000 - learning_rate: 0.0010\n",
      "Epoch 17/200\n",
      "\u001b[1m1/8\u001b[0m \u001b[32m━━\u001b[0m\u001b[37m━━━━━━━━━━━━━━━━━━\u001b[0m \u001b[1m0s\u001b[0m 16ms/step - acc: 1.0000 - loss: 1.0088 - metric_f1score: 1.0000\n",
      "Epoch 17: val_acc did not improve from 1.00000\n",
      "\u001b[1m8/8\u001b[0m \u001b[32m━━━━━━━━━━━━━━━━━━━━\u001b[0m\u001b[37m\u001b[0m \u001b[1m0s\u001b[0m 8ms/step - acc: 0.9963 - loss: 1.0151 - metric_f1score: 0.9939 - val_acc: 1.0000 - val_loss: 0.9871 - val_metric_f1score: 1.0000 - learning_rate: 0.0010\n",
      "Epoch 18/200\n",
      "\u001b[1m1/8\u001b[0m \u001b[32m━━\u001b[0m\u001b[37m━━━━━━━━━━━━━━━━━━\u001b[0m \u001b[1m0s\u001b[0m 15ms/step - acc: 1.0000 - loss: 1.0017 - metric_f1score: 1.0000\n",
      "Epoch 18: val_acc did not improve from 1.00000\n",
      "\u001b[1m8/8\u001b[0m \u001b[32m━━━━━━━━━━━━━━━━━━━━\u001b[0m\u001b[37m\u001b[0m \u001b[1m0s\u001b[0m 9ms/step - acc: 0.9790 - loss: 1.0506 - metric_f1score: 0.9825 - val_acc: 1.0000 - val_loss: 0.9698 - val_metric_f1score: 1.0000 - learning_rate: 0.0010\n",
      "Epoch 19/200\n",
      "\u001b[1m1/8\u001b[0m \u001b[32m━━\u001b[0m\u001b[37m━━━━━━━━━━━━━━━━━━\u001b[0m \u001b[1m0s\u001b[0m 19ms/step - acc: 1.0000 - loss: 0.9897 - metric_f1score: 1.0000\n",
      "Epoch 19: val_acc did not improve from 1.00000\n",
      "\u001b[1m8/8\u001b[0m \u001b[32m━━━━━━━━━━━━━━━━━━━━\u001b[0m\u001b[37m\u001b[0m \u001b[1m0s\u001b[0m 10ms/step - acc: 0.9896 - loss: 1.0063 - metric_f1score: 0.9939 - val_acc: 1.0000 - val_loss: 0.9532 - val_metric_f1score: 1.0000 - learning_rate: 0.0010\n",
      "Epoch 20/200\n",
      "\u001b[1m1/8\u001b[0m \u001b[32m━━\u001b[0m\u001b[37m━━━━━━━━━━━━━━━━━━\u001b[0m \u001b[1m0s\u001b[0m 17ms/step - acc: 0.9688 - loss: 1.0089 - metric_f1score: 0.9688\n",
      "Epoch 20: val_acc did not improve from 1.00000\n",
      "\u001b[1m8/8\u001b[0m \u001b[32m━━━━━━━━━━━━━━━━━━━━\u001b[0m\u001b[37m\u001b[0m \u001b[1m0s\u001b[0m 8ms/step - acc: 0.9801 - loss: 0.9965 - metric_f1score: 0.9822 - val_acc: 1.0000 - val_loss: 0.9373 - val_metric_f1score: 1.0000 - learning_rate: 0.0010\n",
      "Epoch 21/200\n",
      "\u001b[1m1/8\u001b[0m \u001b[32m━━\u001b[0m\u001b[37m━━━━━━━━━━━━━━━━━━\u001b[0m \u001b[1m0s\u001b[0m 15ms/step - acc: 0.9688 - loss: 0.9833 - metric_f1score: 0.9688\n",
      "Epoch 21: val_acc did not improve from 1.00000\n",
      "\u001b[1m8/8\u001b[0m \u001b[32m━━━━━━━━━━━━━━━━━━━━\u001b[0m\u001b[37m\u001b[0m \u001b[1m0s\u001b[0m 9ms/step - acc: 0.9864 - loss: 0.9592 - metric_f1score: 0.9866 - val_acc: 1.0000 - val_loss: 0.9220 - val_metric_f1score: 1.0000 - learning_rate: 0.0010\n",
      "Epoch 22/200\n",
      "\u001b[1m1/8\u001b[0m \u001b[32m━━\u001b[0m\u001b[37m━━━━━━━━━━━━━━━━━━\u001b[0m \u001b[1m0s\u001b[0m 15ms/step - acc: 0.9688 - loss: 0.9737 - metric_f1score: 0.9841\n",
      "Epoch 22: val_acc did not improve from 1.00000\n",
      "\u001b[1m8/8\u001b[0m \u001b[32m━━━━━━━━━━━━━━━━━━━━\u001b[0m\u001b[37m\u001b[0m \u001b[1m0s\u001b[0m 8ms/step - acc: 0.9765 - loss: 0.9786 - metric_f1score: 0.9834 - val_acc: 1.0000 - val_loss: 0.9072 - val_metric_f1score: 1.0000 - learning_rate: 0.0010\n",
      "Epoch 23/200\n",
      "\u001b[1m1/8\u001b[0m \u001b[32m━━\u001b[0m\u001b[37m━━━━━━━━━━━━━━━━━━\u001b[0m \u001b[1m0s\u001b[0m 76ms/step - acc: 0.9688 - loss: 0.9793 - metric_f1score: 0.9688\n",
      "Epoch 23: val_acc did not improve from 1.00000\n",
      "\u001b[1m8/8\u001b[0m \u001b[32m━━━━━━━━━━━━━━━━━━━━\u001b[0m\u001b[37m\u001b[0m \u001b[1m0s\u001b[0m 9ms/step - acc: 0.9725 - loss: 0.9991 - metric_f1score: 0.9761 - val_acc: 1.0000 - val_loss: 0.8929 - val_metric_f1score: 1.0000 - learning_rate: 0.0010\n",
      "Epoch 24/200\n",
      "\u001b[1m1/8\u001b[0m \u001b[32m━━\u001b[0m\u001b[37m━━━━━━━━━━━━━━━━━━\u001b[0m \u001b[1m0s\u001b[0m 13ms/step - acc: 1.0000 - loss: 0.9097 - metric_f1score: 1.0000\n",
      "Epoch 24: val_acc did not improve from 1.00000\n",
      "\u001b[1m8/8\u001b[0m \u001b[32m━━━━━━━━━━━━━━━━━━━━\u001b[0m\u001b[37m\u001b[0m \u001b[1m0s\u001b[0m 8ms/step - acc: 0.9980 - loss: 0.9062 - metric_f1score: 0.9981 - val_acc: 1.0000 - val_loss: 0.8789 - val_metric_f1score: 1.0000 - learning_rate: 0.0010\n",
      "Epoch 25/200\n",
      "\u001b[1m1/8\u001b[0m \u001b[32m━━\u001b[0m\u001b[37m━━━━━━━━━━━━━━━━━━\u001b[0m \u001b[1m0s\u001b[0m 15ms/step - acc: 0.9688 - loss: 1.0975 - metric_f1score: 0.9688\n",
      "Epoch 25: val_acc did not improve from 1.00000\n",
      "\u001b[1m8/8\u001b[0m \u001b[32m━━━━━━━━━━━━━━━━━━━━\u001b[0m\u001b[37m\u001b[0m \u001b[1m0s\u001b[0m 8ms/step - acc: 0.9785 - loss: 0.9834 - metric_f1score: 0.9779 - val_acc: 1.0000 - val_loss: 0.8654 - val_metric_f1score: 1.0000 - learning_rate: 0.0010\n",
      "Epoch 26/200\n",
      "\u001b[1m1/8\u001b[0m \u001b[32m━━\u001b[0m\u001b[37m━━━━━━━━━━━━━━━━━━\u001b[0m \u001b[1m0s\u001b[0m 12ms/step - acc: 1.0000 - loss: 0.8654 - metric_f1score: 1.0000\n",
      "Epoch 26: val_acc did not improve from 1.00000\n",
      "\u001b[1m8/8\u001b[0m \u001b[32m━━━━━━━━━━━━━━━━━━━━\u001b[0m\u001b[37m\u001b[0m \u001b[1m0s\u001b[0m 7ms/step - acc: 0.9985 - loss: 0.8713 - metric_f1score: 0.9986 - val_acc: 1.0000 - val_loss: 0.8522 - val_metric_f1score: 1.0000 - learning_rate: 0.0010\n",
      "Epoch 27/200\n",
      "\u001b[1m1/8\u001b[0m \u001b[32m━━\u001b[0m\u001b[37m━━━━━━━━━━━━━━━━━━\u001b[0m \u001b[1m0s\u001b[0m 14ms/step - acc: 1.0000 - loss: 0.8553 - metric_f1score: 1.0000\n",
      "Epoch 27: val_acc did not improve from 1.00000\n",
      "\u001b[1m8/8\u001b[0m \u001b[32m━━━━━━━━━━━━━━━━━━━━\u001b[0m\u001b[37m\u001b[0m \u001b[1m0s\u001b[0m 7ms/step - acc: 0.9917 - loss: 0.8651 - metric_f1score: 0.9918 - val_acc: 1.0000 - val_loss: 0.8395 - val_metric_f1score: 1.0000 - learning_rate: 0.0010\n",
      "Epoch 28/200\n",
      "\u001b[1m1/8\u001b[0m \u001b[32m━━\u001b[0m\u001b[37m━━━━━━━━━━━━━━━━━━\u001b[0m \u001b[1m0s\u001b[0m 13ms/step - acc: 1.0000 - loss: 0.8395 - metric_f1score: 1.0000\n",
      "Epoch 28: val_acc did not improve from 1.00000\n",
      "\u001b[1m8/8\u001b[0m \u001b[32m━━━━━━━━━━━━━━━━━━━━\u001b[0m\u001b[37m\u001b[0m \u001b[1m0s\u001b[0m 8ms/step - acc: 0.9853 - loss: 0.8650 - metric_f1score: 0.9869 - val_acc: 1.0000 - val_loss: 0.8271 - val_metric_f1score: 1.0000 - learning_rate: 0.0010\n",
      "Epoch 29/200\n",
      "\u001b[1m1/8\u001b[0m \u001b[32m━━\u001b[0m\u001b[37m━━━━━━━━━━━━━━━━━━\u001b[0m \u001b[1m0s\u001b[0m 14ms/step - acc: 1.0000 - loss: 0.8291 - metric_f1score: 1.0000\n",
      "Epoch 29: val_acc did not improve from 1.00000\n",
      "\u001b[1m8/8\u001b[0m \u001b[32m━━━━━━━━━━━━━━━━━━━━\u001b[0m\u001b[37m\u001b[0m \u001b[1m0s\u001b[0m 9ms/step - acc: 0.9935 - loss: 0.8455 - metric_f1score: 0.9936 - val_acc: 1.0000 - val_loss: 0.8151 - val_metric_f1score: 1.0000 - learning_rate: 0.0010\n",
      "Epoch 30/200\n",
      "\u001b[1m1/8\u001b[0m \u001b[32m━━\u001b[0m\u001b[37m━━━━━━━━━━━━━━━━━━\u001b[0m \u001b[1m0s\u001b[0m 13ms/step - acc: 1.0000 - loss: 0.8193 - metric_f1score: 1.0000\n",
      "Epoch 30: val_acc did not improve from 1.00000\n",
      "\u001b[1m8/8\u001b[0m \u001b[32m━━━━━━━━━━━━━━━━━━━━\u001b[0m\u001b[37m\u001b[0m \u001b[1m0s\u001b[0m 8ms/step - acc: 1.0000 - loss: 0.8194 - metric_f1score: 1.0000 - val_acc: 1.0000 - val_loss: 0.8034 - val_metric_f1score: 1.0000 - learning_rate: 0.0010\n",
      "Epoch 31/200\n",
      "\u001b[1m1/8\u001b[0m \u001b[32m━━\u001b[0m\u001b[37m━━━━━━━━━━━━━━━━━━\u001b[0m \u001b[1m0s\u001b[0m 14ms/step - acc: 0.9688 - loss: 0.8465 - metric_f1score: 0.9688\n",
      "Epoch 31: val_acc did not improve from 1.00000\n",
      "\u001b[1m8/8\u001b[0m \u001b[32m━━━━━━━━━━━━━━━━━━━━\u001b[0m\u001b[37m\u001b[0m \u001b[1m0s\u001b[0m 7ms/step - acc: 0.9821 - loss: 0.8346 - metric_f1score: 0.9824 - val_acc: 1.0000 - val_loss: 0.7922 - val_metric_f1score: 1.0000 - learning_rate: 0.0010\n",
      "Epoch 32/200\n",
      "\u001b[1m1/8\u001b[0m \u001b[32m━━\u001b[0m\u001b[37m━━━━━━━━━━━━━━━━━━\u001b[0m \u001b[1m0s\u001b[0m 13ms/step - acc: 1.0000 - loss: 0.7939 - metric_f1score: 1.0000\n",
      "Epoch 32: val_acc did not improve from 1.00000\n",
      "\u001b[1m8/8\u001b[0m \u001b[32m━━━━━━━━━━━━━━━━━━━━\u001b[0m\u001b[37m\u001b[0m \u001b[1m0s\u001b[0m 7ms/step - acc: 0.9888 - loss: 0.8163 - metric_f1score: 0.9856 - val_acc: 1.0000 - val_loss: 0.7813 - val_metric_f1score: 1.0000 - learning_rate: 0.0010\n",
      "Epoch 33/200\n",
      "\u001b[1m1/8\u001b[0m \u001b[32m━━\u001b[0m\u001b[37m━━━━━━━━━━━━━━━━━━\u001b[0m \u001b[1m0s\u001b[0m 13ms/step - acc: 1.0000 - loss: 0.7831 - metric_f1score: 1.0000\n",
      "Epoch 33: val_acc did not improve from 1.00000\n",
      "\u001b[1m8/8\u001b[0m \u001b[32m━━━━━━━━━━━━━━━━━━━━\u001b[0m\u001b[37m\u001b[0m \u001b[1m0s\u001b[0m 7ms/step - acc: 0.9990 - loss: 0.7869 - metric_f1score: 0.9965 - val_acc: 1.0000 - val_loss: 0.7705 - val_metric_f1score: 1.0000 - learning_rate: 0.0010\n",
      "Epoch 34/200\n",
      "\u001b[1m1/8\u001b[0m \u001b[32m━━\u001b[0m\u001b[37m━━━━━━━━━━━━━━━━━━\u001b[0m \u001b[1m0s\u001b[0m 13ms/step - acc: 1.0000 - loss: 0.7705 - metric_f1score: 1.0000\n",
      "Epoch 34: val_acc did not improve from 1.00000\n",
      "\u001b[1m8/8\u001b[0m \u001b[32m━━━━━━━━━━━━━━━━━━━━\u001b[0m\u001b[37m\u001b[0m \u001b[1m0s\u001b[0m 8ms/step - acc: 0.9980 - loss: 0.7707 - metric_f1score: 0.9981 - val_acc: 1.0000 - val_loss: 0.7599 - val_metric_f1score: 1.0000 - learning_rate: 0.0010\n",
      "Epoch 35/200\n",
      "\u001b[1m1/8\u001b[0m \u001b[32m━━\u001b[0m\u001b[37m━━━━━━━━━━━━━━━━━━\u001b[0m \u001b[1m0s\u001b[0m 12ms/step - acc: 1.0000 - loss: 0.7600 - metric_f1score: 1.0000\n",
      "Epoch 35: val_acc did not improve from 1.00000\n",
      "\u001b[1m8/8\u001b[0m \u001b[32m━━━━━━━━━━━━━━━━━━━━\u001b[0m\u001b[37m\u001b[0m \u001b[1m0s\u001b[0m 7ms/step - acc: 1.0000 - loss: 0.7608 - metric_f1score: 1.0000 - val_acc: 1.0000 - val_loss: 0.7497 - val_metric_f1score: 1.0000 - learning_rate: 0.0010\n",
      "Epoch 36/200\n",
      "\u001b[1m1/8\u001b[0m \u001b[32m━━\u001b[0m\u001b[37m━━━━━━━━━━━━━━━━━━\u001b[0m \u001b[1m0s\u001b[0m 14ms/step - acc: 1.0000 - loss: 0.7498 - metric_f1score: 1.0000\n",
      "Epoch 36: val_acc did not improve from 1.00000\n",
      "\u001b[1m8/8\u001b[0m \u001b[32m━━━━━━━━━━━━━━━━━━━━\u001b[0m\u001b[37m\u001b[0m \u001b[1m0s\u001b[0m 7ms/step - acc: 0.9952 - loss: 0.7636 - metric_f1score: 0.9954 - val_acc: 1.0000 - val_loss: 0.7407 - val_metric_f1score: 1.0000 - learning_rate: 0.0010\n",
      "Epoch 37/200\n",
      "\u001b[1m1/8\u001b[0m \u001b[32m━━\u001b[0m\u001b[37m━━━━━━━━━━━━━━━━━━\u001b[0m \u001b[1m0s\u001b[0m 13ms/step - acc: 0.9688 - loss: 0.7814 - metric_f1score: 0.9688\n",
      "Epoch 37: val_acc did not improve from 1.00000\n",
      "\u001b[1m8/8\u001b[0m \u001b[32m━━━━━━━━━━━━━━━━━━━━\u001b[0m\u001b[37m\u001b[0m \u001b[1m0s\u001b[0m 7ms/step - acc: 0.9864 - loss: 0.7608 - metric_f1score: 0.9866 - val_acc: 1.0000 - val_loss: 0.7300 - val_metric_f1score: 1.0000 - learning_rate: 0.0010\n",
      "Epoch 38/200\n",
      "\u001b[1m1/8\u001b[0m \u001b[32m━━\u001b[0m\u001b[37m━━━━━━━━━━━━━━━━━━\u001b[0m \u001b[1m0s\u001b[0m 14ms/step - acc: 1.0000 - loss: 0.7300 - metric_f1score: 1.0000\n",
      "Epoch 38: val_acc did not improve from 1.00000\n",
      "\u001b[1m8/8\u001b[0m \u001b[32m━━━━━━━━━━━━━━━━━━━━\u001b[0m\u001b[37m\u001b[0m \u001b[1m0s\u001b[0m 7ms/step - acc: 0.9854 - loss: 0.7953 - metric_f1score: 0.9858 - val_acc: 1.0000 - val_loss: 0.7206 - val_metric_f1score: 1.0000 - learning_rate: 0.0010\n",
      "Epoch 39/200\n",
      "\u001b[1m1/8\u001b[0m \u001b[32m━━\u001b[0m\u001b[37m━━━━━━━━━━━━━━━━━━\u001b[0m \u001b[1m0s\u001b[0m 13ms/step - acc: 1.0000 - loss: 0.7207 - metric_f1score: 1.0000\n",
      "Epoch 39: val_acc did not improve from 1.00000\n",
      "\u001b[1m8/8\u001b[0m \u001b[32m━━━━━━━━━━━━━━━━━━━━\u001b[0m\u001b[37m\u001b[0m \u001b[1m0s\u001b[0m 8ms/step - acc: 0.9870 - loss: 0.7429 - metric_f1score: 0.9912 - val_acc: 1.0000 - val_loss: 0.7117 - val_metric_f1score: 1.0000 - learning_rate: 0.0010\n",
      "Epoch 40/200\n",
      "\u001b[1m1/8\u001b[0m \u001b[32m━━\u001b[0m\u001b[37m━━━━━━━━━━━━━━━━━━\u001b[0m \u001b[1m0s\u001b[0m 13ms/step - acc: 1.0000 - loss: 0.7132 - metric_f1score: 1.0000\n",
      "Epoch 40: val_acc did not improve from 1.00000\n",
      "\u001b[1m8/8\u001b[0m \u001b[32m━━━━━━━━━━━━━━━━━━━━\u001b[0m\u001b[37m\u001b[0m \u001b[1m0s\u001b[0m 8ms/step - acc: 0.9888 - loss: 0.7333 - metric_f1score: 0.9889 - val_acc: 1.0000 - val_loss: 0.7030 - val_metric_f1score: 1.0000 - learning_rate: 0.0010\n",
      "Epoch 41/200\n",
      "\u001b[1m1/8\u001b[0m \u001b[32m━━\u001b[0m\u001b[37m━━━━━━━━━━━━━━━━━━\u001b[0m \u001b[1m0s\u001b[0m 13ms/step - acc: 1.0000 - loss: 0.7033 - metric_f1score: 1.0000\n",
      "Epoch 41: val_acc did not improve from 1.00000\n",
      "\u001b[1m8/8\u001b[0m \u001b[32m━━━━━━━━━━━━━━━━━━━━\u001b[0m\u001b[37m\u001b[0m \u001b[1m0s\u001b[0m 8ms/step - acc: 1.0000 - loss: 0.7049 - metric_f1score: 1.0000 - val_acc: 1.0000 - val_loss: 0.6944 - val_metric_f1score: 1.0000 - learning_rate: 0.0010\n",
      "Epoch 42/200\n",
      "\u001b[1m1/8\u001b[0m \u001b[32m━━\u001b[0m\u001b[37m━━━━━━━━━━━━━━━━━━\u001b[0m \u001b[1m0s\u001b[0m 15ms/step - acc: 1.0000 - loss: 0.6947 - metric_f1score: 1.0000\n",
      "Epoch 42: val_acc did not improve from 1.00000\n",
      "\u001b[1m8/8\u001b[0m \u001b[32m━━━━━━━━━━━━━━━━━━━━\u001b[0m\u001b[37m\u001b[0m \u001b[1m0s\u001b[0m 8ms/step - acc: 0.9899 - loss: 0.7079 - metric_f1score: 0.9901 - val_acc: 1.0000 - val_loss: 0.6863 - val_metric_f1score: 1.0000 - learning_rate: 0.0010\n",
      "Epoch 43/200\n",
      "\u001b[1m1/8\u001b[0m \u001b[32m━━\u001b[0m\u001b[37m━━━━━━━━━━━━━━━━━━\u001b[0m \u001b[1m0s\u001b[0m 15ms/step - acc: 1.0000 - loss: 0.6895 - metric_f1score: 1.0000\n",
      "Epoch 43: val_acc did not improve from 1.00000\n",
      "\u001b[1m8/8\u001b[0m \u001b[32m━━━━━━━━━━━━━━━━━━━━\u001b[0m\u001b[37m\u001b[0m \u001b[1m0s\u001b[0m 8ms/step - acc: 0.9958 - loss: 0.7057 - metric_f1score: 0.9960 - val_acc: 1.0000 - val_loss: 0.6784 - val_metric_f1score: 1.0000 - learning_rate: 0.0010\n",
      "Epoch 44/200\n",
      "\u001b[1m1/8\u001b[0m \u001b[32m━━\u001b[0m\u001b[37m━━━━━━━━━━━━━━━━━━\u001b[0m \u001b[1m0s\u001b[0m 14ms/step - acc: 0.9688 - loss: 0.7757 - metric_f1score: 0.9841\n",
      "Epoch 44: val_acc did not improve from 1.00000\n",
      "\u001b[1m8/8\u001b[0m \u001b[32m━━━━━━━━━━━━━━━━━━━━\u001b[0m\u001b[37m\u001b[0m \u001b[1m0s\u001b[0m 7ms/step - acc: 0.9864 - loss: 0.7477 - metric_f1score: 0.9915 - val_acc: 1.0000 - val_loss: 0.6707 - val_metric_f1score: 1.0000 - learning_rate: 0.0010\n",
      "Epoch 45/200\n",
      "\u001b[1m1/8\u001b[0m \u001b[32m━━\u001b[0m\u001b[37m━━━━━━━━━━━━━━━━━━\u001b[0m \u001b[1m0s\u001b[0m 14ms/step - acc: 1.0000 - loss: 0.6707 - metric_f1score: 1.0000\n",
      "Epoch 45: val_acc did not improve from 1.00000\n",
      "\u001b[1m8/8\u001b[0m \u001b[32m━━━━━━━━━━━━━━━━━━━━\u001b[0m\u001b[37m\u001b[0m \u001b[1m0s\u001b[0m 8ms/step - acc: 0.9935 - loss: 0.6937 - metric_f1score: 0.9936 - val_acc: 1.0000 - val_loss: 0.6632 - val_metric_f1score: 1.0000 - learning_rate: 0.0010\n",
      "Epoch 46/200\n",
      "\u001b[1m1/8\u001b[0m \u001b[32m━━\u001b[0m\u001b[37m━━━━━━━━━━━━━━━━━━\u001b[0m \u001b[1m0s\u001b[0m 13ms/step - acc: 1.0000 - loss: 0.6633 - metric_f1score: 1.0000\n",
      "Epoch 46: val_acc did not improve from 1.00000\n",
      "\u001b[1m8/8\u001b[0m \u001b[32m━━━━━━━━━━━━━━━━━━━━\u001b[0m\u001b[37m\u001b[0m \u001b[1m0s\u001b[0m 7ms/step - acc: 0.9973 - loss: 0.6700 - metric_f1score: 0.9974 - val_acc: 1.0000 - val_loss: 0.6555 - val_metric_f1score: 1.0000 - learning_rate: 0.0010\n",
      "Epoch 47/200\n",
      "\u001b[1m1/8\u001b[0m \u001b[32m━━\u001b[0m\u001b[37m━━━━━━━━━━━━━━━━━━\u001b[0m \u001b[1m0s\u001b[0m 13ms/step - acc: 1.0000 - loss: 0.6582 - metric_f1score: 1.0000\n",
      "Epoch 47: val_acc did not improve from 1.00000\n",
      "\u001b[1m8/8\u001b[0m \u001b[32m━━━━━━━━━━━━━━━━━━━━\u001b[0m\u001b[37m\u001b[0m \u001b[1m0s\u001b[0m 7ms/step - acc: 0.9952 - loss: 0.6732 - metric_f1score: 0.9953 - val_acc: 1.0000 - val_loss: 0.6479 - val_metric_f1score: 1.0000 - learning_rate: 0.0010\n",
      "Epoch 48/200\n",
      "\u001b[1m1/8\u001b[0m \u001b[32m━━\u001b[0m\u001b[37m━━━━━━━━━━━━━━━━━━\u001b[0m \u001b[1m0s\u001b[0m 13ms/step - acc: 1.0000 - loss: 0.6482 - metric_f1score: 1.0000\n",
      "Epoch 48: val_acc did not improve from 1.00000\n",
      "\u001b[1m8/8\u001b[0m \u001b[32m━━━━━━━━━━━━━━━━━━━━\u001b[0m\u001b[37m\u001b[0m \u001b[1m0s\u001b[0m 7ms/step - acc: 0.9950 - loss: 0.6646 - metric_f1score: 0.9951 - val_acc: 1.0000 - val_loss: 0.6404 - val_metric_f1score: 1.0000 - learning_rate: 0.0010\n",
      "Epoch 49/200\n",
      "\u001b[1m1/8\u001b[0m \u001b[32m━━\u001b[0m\u001b[37m━━━━━━━━━━━━━━━━━━\u001b[0m \u001b[1m0s\u001b[0m 13ms/step - acc: 0.9688 - loss: 0.7647 - metric_f1score: 0.9688\n",
      "Epoch 49: val_acc did not improve from 1.00000\n",
      "\u001b[1m8/8\u001b[0m \u001b[32m━━━━━━━━━━━━━━━━━━━━\u001b[0m\u001b[37m\u001b[0m \u001b[1m0s\u001b[0m 7ms/step - acc: 0.9900 - loss: 0.6785 - metric_f1score: 0.9901 - val_acc: 1.0000 - val_loss: 0.6332 - val_metric_f1score: 1.0000 - learning_rate: 0.0010\n",
      "Epoch 50/200\n",
      "\u001b[1m1/8\u001b[0m \u001b[32m━━\u001b[0m\u001b[37m━━━━━━━━━━━━━━━━━━\u001b[0m \u001b[1m0s\u001b[0m 15ms/step - acc: 1.0000 - loss: 0.6332 - metric_f1score: 1.0000\n",
      "Epoch 50: val_acc did not improve from 1.00000\n",
      "\u001b[1m8/8\u001b[0m \u001b[32m━━━━━━━━━━━━━━━━━━━━\u001b[0m\u001b[37m\u001b[0m \u001b[1m0s\u001b[0m 8ms/step - acc: 0.9935 - loss: 0.6567 - metric_f1score: 0.9936 - val_acc: 1.0000 - val_loss: 0.6260 - val_metric_f1score: 1.0000 - learning_rate: 0.0010\n",
      "Epoch 51/200\n",
      "\u001b[1m1/8\u001b[0m \u001b[32m━━\u001b[0m\u001b[37m━━━━━━━━━━━━━━━━━━\u001b[0m \u001b[1m0s\u001b[0m 18ms/step - acc: 1.0000 - loss: 0.6261 - metric_f1score: 1.0000\n",
      "Epoch 51: val_acc did not improve from 1.00000\n",
      "\u001b[1m8/8\u001b[0m \u001b[32m━━━━━━━━━━━━━━━━━━━━\u001b[0m\u001b[37m\u001b[0m \u001b[1m0s\u001b[0m 8ms/step - acc: 1.0000 - loss: 0.6254 - metric_f1score: 1.0000 - val_acc: 1.0000 - val_loss: 0.6190 - val_metric_f1score: 1.0000 - learning_rate: 0.0010\n",
      "Epoch 52/200\n",
      "\u001b[1m1/8\u001b[0m \u001b[32m━━\u001b[0m\u001b[37m━━━━━━━━━━━━━━━━━━\u001b[0m \u001b[1m0s\u001b[0m 15ms/step - acc: 1.0000 - loss: 0.6190 - metric_f1score: 1.0000\n",
      "Epoch 52: val_acc did not improve from 1.00000\n",
      "\u001b[1m8/8\u001b[0m \u001b[32m━━━━━━━━━━━━━━━━━━━━\u001b[0m\u001b[37m\u001b[0m \u001b[1m0s\u001b[0m 7ms/step - acc: 1.0000 - loss: 0.6196 - metric_f1score: 1.0000 - val_acc: 1.0000 - val_loss: 0.6120 - val_metric_f1score: 1.0000 - learning_rate: 0.0010\n",
      "Epoch 53/200\n",
      "\u001b[1m1/8\u001b[0m \u001b[32m━━\u001b[0m\u001b[37m━━━━━━━━━━━━━━━━━━\u001b[0m \u001b[1m0s\u001b[0m 13ms/step - acc: 1.0000 - loss: 0.6120 - metric_f1score: 1.0000\n",
      "Epoch 53: val_acc did not improve from 1.00000\n",
      "\u001b[1m8/8\u001b[0m \u001b[32m━━━━━━━━━━━━━━━━━━━━\u001b[0m\u001b[37m\u001b[0m \u001b[1m0s\u001b[0m 7ms/step - acc: 1.0000 - loss: 0.6104 - metric_f1score: 1.0000 - val_acc: 1.0000 - val_loss: 0.6051 - val_metric_f1score: 1.0000 - learning_rate: 0.0010\n",
      "Epoch 54/200\n",
      "\u001b[1m1/8\u001b[0m \u001b[32m━━\u001b[0m\u001b[37m━━━━━━━━━━━━━━━━━━\u001b[0m \u001b[1m0s\u001b[0m 13ms/step - acc: 1.0000 - loss: 0.6051 - metric_f1score: 1.0000\n",
      "Epoch 54: val_acc did not improve from 1.00000\n",
      "\u001b[1m8/8\u001b[0m \u001b[32m━━━━━━━━━━━━━━━━━━━━\u001b[0m\u001b[37m\u001b[0m \u001b[1m0s\u001b[0m 7ms/step - acc: 1.0000 - loss: 0.6041 - metric_f1score: 1.0000 - val_acc: 1.0000 - val_loss: 0.5984 - val_metric_f1score: 1.0000 - learning_rate: 0.0010\n",
      "Epoch 55/200\n",
      "\u001b[1m1/8\u001b[0m \u001b[32m━━\u001b[0m\u001b[37m━━━━━━━━━━━━━━━━━━\u001b[0m \u001b[1m0s\u001b[0m 12ms/step - acc: 1.0000 - loss: 0.5985 - metric_f1score: 1.0000\n",
      "Epoch 55: val_acc did not improve from 1.00000\n",
      "\u001b[1m8/8\u001b[0m \u001b[32m━━━━━━━━━━━━━━━━━━━━\u001b[0m\u001b[37m\u001b[0m \u001b[1m0s\u001b[0m 7ms/step - acc: 1.0000 - loss: 0.5969 - metric_f1score: 1.0000 - val_acc: 1.0000 - val_loss: 0.5917 - val_metric_f1score: 1.0000 - learning_rate: 0.0010\n",
      "Epoch 56/200\n",
      "\u001b[1m1/8\u001b[0m \u001b[32m━━\u001b[0m\u001b[37m━━━━━━━━━━━━━━━━━━\u001b[0m \u001b[1m0s\u001b[0m 24ms/step - acc: 1.0000 - loss: 0.5917 - metric_f1score: 1.0000\n",
      "Epoch 56: val_acc did not improve from 1.00000\n",
      "\u001b[1m8/8\u001b[0m \u001b[32m━━━━━━━━━━━━━━━━━━━━\u001b[0m\u001b[37m\u001b[0m \u001b[1m0s\u001b[0m 8ms/step - acc: 1.0000 - loss: 0.5917 - metric_f1score: 1.0000 - val_acc: 1.0000 - val_loss: 0.5852 - val_metric_f1score: 1.0000 - learning_rate: 0.0010\n",
      "Epoch 57/200\n",
      "\u001b[1m1/8\u001b[0m \u001b[32m━━\u001b[0m\u001b[37m━━━━━━━━━━━━━━━━━━\u001b[0m \u001b[1m0s\u001b[0m 16ms/step - acc: 1.0000 - loss: 0.5852 - metric_f1score: 1.0000\n",
      "Epoch 57: val_acc did not improve from 1.00000\n",
      "\u001b[1m8/8\u001b[0m \u001b[32m━━━━━━━━━━━━━━━━━━━━\u001b[0m\u001b[37m\u001b[0m \u001b[1m0s\u001b[0m 8ms/step - acc: 0.9935 - loss: 0.6143 - metric_f1score: 0.9936 - val_acc: 1.0000 - val_loss: 0.5790 - val_metric_f1score: 1.0000 - learning_rate: 0.0010\n",
      "Epoch 58/200\n",
      "\u001b[1m1/8\u001b[0m \u001b[32m━━\u001b[0m\u001b[37m━━━━━━━━━━━━━━━━━━\u001b[0m \u001b[1m0s\u001b[0m 16ms/step - acc: 1.0000 - loss: 0.5790 - metric_f1score: 1.0000\n",
      "Epoch 58: val_acc did not improve from 1.00000\n",
      "\u001b[1m8/8\u001b[0m \u001b[32m━━━━━━━━━━━━━━━━━━━━\u001b[0m\u001b[37m\u001b[0m \u001b[1m0s\u001b[0m 8ms/step - acc: 1.0000 - loss: 0.5840 - metric_f1score: 0.9967 - val_acc: 1.0000 - val_loss: 0.5730 - val_metric_f1score: 1.0000 - learning_rate: 0.0010\n",
      "Epoch 59/200\n",
      "\u001b[1m1/8\u001b[0m \u001b[32m━━\u001b[0m\u001b[37m━━━━━━━━━━━━━━━━━━\u001b[0m \u001b[1m0s\u001b[0m 14ms/step - acc: 1.0000 - loss: 0.5738 - metric_f1score: 1.0000\n",
      "Epoch 59: val_acc did not improve from 1.00000\n",
      "\u001b[1m8/8\u001b[0m \u001b[32m━━━━━━━━━━━━━━━━━━━━\u001b[0m\u001b[37m\u001b[0m \u001b[1m0s\u001b[0m 8ms/step - acc: 1.0000 - loss: 0.5719 - metric_f1score: 1.0000 - val_acc: 1.0000 - val_loss: 0.5669 - val_metric_f1score: 1.0000 - learning_rate: 0.0010\n",
      "Epoch 60/200\n",
      "\u001b[1m1/8\u001b[0m \u001b[32m━━\u001b[0m\u001b[37m━━━━━━━━━━━━━━━━━━\u001b[0m \u001b[1m0s\u001b[0m 15ms/step - acc: 1.0000 - loss: 0.5669 - metric_f1score: 1.0000\n",
      "Epoch 60: val_acc did not improve from 1.00000\n",
      "\u001b[1m8/8\u001b[0m \u001b[32m━━━━━━━━━━━━━━━━━━━━\u001b[0m\u001b[37m\u001b[0m \u001b[1m0s\u001b[0m 9ms/step - acc: 1.0000 - loss: 0.5660 - metric_f1score: 1.0000 - val_acc: 1.0000 - val_loss: 0.5609 - val_metric_f1score: 1.0000 - learning_rate: 0.0010\n",
      "Epoch 61/200\n",
      "\u001b[1m1/8\u001b[0m \u001b[32m━━\u001b[0m\u001b[37m━━━━━━━━━━━━━━━━━━\u001b[0m \u001b[1m0s\u001b[0m 22ms/step - acc: 1.0000 - loss: 0.5609 - metric_f1score: 1.0000\n",
      "Epoch 61: val_acc did not improve from 1.00000\n",
      "\u001b[1m8/8\u001b[0m \u001b[32m━━━━━━━━━━━━━━━━━━━━\u001b[0m\u001b[37m\u001b[0m \u001b[1m0s\u001b[0m 10ms/step - acc: 1.0000 - loss: 0.5601 - metric_f1score: 1.0000 - val_acc: 1.0000 - val_loss: 0.5549 - val_metric_f1score: 1.0000 - learning_rate: 0.0010\n",
      "Epoch 62/200\n",
      "\u001b[1m1/8\u001b[0m \u001b[32m━━\u001b[0m\u001b[37m━━━━━━━━━━━━━━━━━━\u001b[0m \u001b[1m0s\u001b[0m 20ms/step - acc: 1.0000 - loss: 0.5570 - metric_f1score: 1.0000\n",
      "Epoch 62: val_acc did not improve from 1.00000\n",
      "\u001b[1m8/8\u001b[0m \u001b[32m━━━━━━━━━━━━━━━━━━━━\u001b[0m\u001b[37m\u001b[0m \u001b[1m0s\u001b[0m 8ms/step - acc: 0.9985 - loss: 0.5731 - metric_f1score: 0.9986 - val_acc: 1.0000 - val_loss: 0.5491 - val_metric_f1score: 1.0000 - learning_rate: 0.0010\n",
      "Epoch 63/200\n",
      "\u001b[1m1/8\u001b[0m \u001b[32m━━\u001b[0m\u001b[37m━━━━━━━━━━━━━━━━━━\u001b[0m \u001b[1m0s\u001b[0m 16ms/step - acc: 1.0000 - loss: 0.5491 - metric_f1score: 1.0000\n",
      "Epoch 63: val_acc did not improve from 1.00000\n",
      "\u001b[1m8/8\u001b[0m \u001b[32m━━━━━━━━━━━━━━━━━━━━\u001b[0m\u001b[37m\u001b[0m \u001b[1m0s\u001b[0m 8ms/step - acc: 0.9964 - loss: 0.5539 - metric_f1score: 0.9965 - val_acc: 1.0000 - val_loss: 0.5434 - val_metric_f1score: 1.0000 - learning_rate: 0.0010\n",
      "Epoch 64/200\n",
      "\u001b[1m1/8\u001b[0m \u001b[32m━━\u001b[0m\u001b[37m━━━━━━━━━━━━━━━━━━\u001b[0m \u001b[1m0s\u001b[0m 18ms/step - acc: 1.0000 - loss: 0.5468 - metric_f1score: 1.0000\n",
      "Epoch 64: val_acc did not improve from 1.00000\n",
      "\u001b[1m8/8\u001b[0m \u001b[32m━━━━━━━━━━━━━━━━━━━━\u001b[0m\u001b[37m\u001b[0m \u001b[1m0s\u001b[0m 9ms/step - acc: 1.0000 - loss: 0.5432 - metric_f1score: 1.0000 - val_acc: 1.0000 - val_loss: 0.5379 - val_metric_f1score: 1.0000 - learning_rate: 0.0010\n",
      "Epoch 65/200\n",
      "\u001b[1m1/8\u001b[0m \u001b[32m━━\u001b[0m\u001b[37m━━━━━━━━━━━━━━━━━━\u001b[0m \u001b[1m0s\u001b[0m 19ms/step - acc: 1.0000 - loss: 0.5379 - metric_f1score: 1.0000\n",
      "Epoch 65: val_acc did not improve from 1.00000\n",
      "\u001b[1m8/8\u001b[0m \u001b[32m━━━━━━━━━━━━━━━━━━━━\u001b[0m\u001b[37m\u001b[0m \u001b[1m0s\u001b[0m 10ms/step - acc: 1.0000 - loss: 0.5373 - metric_f1score: 1.0000 - val_acc: 1.0000 - val_loss: 0.5324 - val_metric_f1score: 1.0000 - learning_rate: 0.0010\n",
      "Epoch 66/200\n",
      "\u001b[1m1/8\u001b[0m \u001b[32m━━\u001b[0m\u001b[37m━━━━━━━━━━━━━━━━━━\u001b[0m \u001b[1m0s\u001b[0m 23ms/step - acc: 1.0000 - loss: 0.5324 - metric_f1score: 1.0000\n",
      "Epoch 66: val_acc did not improve from 1.00000\n",
      "\u001b[1m8/8\u001b[0m \u001b[32m━━━━━━━━━━━━━━━━━━━━\u001b[0m\u001b[37m\u001b[0m \u001b[1m0s\u001b[0m 9ms/step - acc: 1.0000 - loss: 0.5316 - metric_f1score: 1.0000 - val_acc: 1.0000 - val_loss: 0.5270 - val_metric_f1score: 1.0000 - learning_rate: 0.0010\n",
      "Epoch 67/200\n",
      "\u001b[1m1/8\u001b[0m \u001b[32m━━\u001b[0m\u001b[37m━━━━━━━━━━━━━━━━━━\u001b[0m \u001b[1m0s\u001b[0m 13ms/step - acc: 1.0000 - loss: 0.5445 - metric_f1score: 1.0000\n",
      "Epoch 67: val_acc did not improve from 1.00000\n",
      "\u001b[1m8/8\u001b[0m \u001b[32m━━━━━━━━━━━━━━━━━━━━\u001b[0m\u001b[37m\u001b[0m \u001b[1m0s\u001b[0m 8ms/step - acc: 1.0000 - loss: 0.5313 - metric_f1score: 1.0000 - val_acc: 1.0000 - val_loss: 0.5216 - val_metric_f1score: 1.0000 - learning_rate: 0.0010\n",
      "Epoch 68/200\n",
      "\u001b[1m1/8\u001b[0m \u001b[32m━━\u001b[0m\u001b[37m━━━━━━━━━━━━━━━━━━\u001b[0m \u001b[1m0s\u001b[0m 13ms/step - acc: 1.0000 - loss: 0.5217 - metric_f1score: 1.0000\n",
      "Epoch 68: val_acc did not improve from 1.00000\n",
      "\u001b[1m8/8\u001b[0m \u001b[32m━━━━━━━━━━━━━━━━━━━━\u001b[0m\u001b[37m\u001b[0m \u001b[1m0s\u001b[0m 7ms/step - acc: 1.0000 - loss: 0.5204 - metric_f1score: 1.0000 - val_acc: 1.0000 - val_loss: 0.5163 - val_metric_f1score: 1.0000 - learning_rate: 0.0010\n",
      "Epoch 69/200\n",
      "\u001b[1m1/8\u001b[0m \u001b[32m━━\u001b[0m\u001b[37m━━━━━━━━━━━━━━━━━━\u001b[0m \u001b[1m0s\u001b[0m 13ms/step - acc: 1.0000 - loss: 0.5164 - metric_f1score: 1.0000\n",
      "Epoch 69: val_acc did not improve from 1.00000\n",
      "\u001b[1m8/8\u001b[0m \u001b[32m━━━━━━━━━━━━━━━━━━━━\u001b[0m\u001b[37m\u001b[0m \u001b[1m0s\u001b[0m 7ms/step - acc: 1.0000 - loss: 0.5151 - metric_f1score: 1.0000 - val_acc: 1.0000 - val_loss: 0.5111 - val_metric_f1score: 1.0000 - learning_rate: 0.0010\n",
      "Epoch 70/200\n",
      "\u001b[1m1/8\u001b[0m \u001b[32m━━\u001b[0m\u001b[37m━━━━━━━━━━━━━━━━━━\u001b[0m \u001b[1m0s\u001b[0m 13ms/step - acc: 1.0000 - loss: 0.5111 - metric_f1score: 1.0000\n",
      "Epoch 70: val_acc did not improve from 1.00000\n",
      "\u001b[1m8/8\u001b[0m \u001b[32m━━━━━━━━━━━━━━━━━━━━\u001b[0m\u001b[37m\u001b[0m \u001b[1m0s\u001b[0m 7ms/step - acc: 1.0000 - loss: 0.5101 - metric_f1score: 1.0000 - val_acc: 1.0000 - val_loss: 0.5060 - val_metric_f1score: 1.0000 - learning_rate: 0.0010\n",
      "Epoch 71/200\n",
      "\u001b[1m1/8\u001b[0m \u001b[32m━━\u001b[0m\u001b[37m━━━━━━━━━━━━━━━━━━\u001b[0m \u001b[1m0s\u001b[0m 13ms/step - acc: 1.0000 - loss: 0.5060 - metric_f1score: 1.0000\n",
      "Epoch 71: val_acc did not improve from 1.00000\n",
      "\u001b[1m8/8\u001b[0m \u001b[32m━━━━━━━━━━━━━━━━━━━━\u001b[0m\u001b[37m\u001b[0m \u001b[1m0s\u001b[0m 7ms/step - acc: 1.0000 - loss: 0.5049 - metric_f1score: 1.0000 - val_acc: 1.0000 - val_loss: 0.5009 - val_metric_f1score: 1.0000 - learning_rate: 0.0010\n",
      "Epoch 72/200\n",
      "\u001b[1m1/8\u001b[0m \u001b[32m━━\u001b[0m\u001b[37m━━━━━━━━━━━━━━━━━━\u001b[0m \u001b[1m0s\u001b[0m 14ms/step - acc: 1.0000 - loss: 0.5009 - metric_f1score: 1.0000\n",
      "Epoch 72: val_acc did not improve from 1.00000\n",
      "\u001b[1m8/8\u001b[0m \u001b[32m━━━━━━━━━━━━━━━━━━━━\u001b[0m\u001b[37m\u001b[0m \u001b[1m0s\u001b[0m 7ms/step - acc: 1.0000 - loss: 0.5009 - metric_f1score: 1.0000 - val_acc: 1.0000 - val_loss: 0.4960 - val_metric_f1score: 1.0000 - learning_rate: 0.0010\n",
      "Epoch 73/200\n",
      "\u001b[1m1/8\u001b[0m \u001b[32m━━\u001b[0m\u001b[37m━━━━━━━━━━━━━━━━━━\u001b[0m \u001b[1m0s\u001b[0m 13ms/step - acc: 1.0000 - loss: 0.4960 - metric_f1score: 1.0000\n",
      "Epoch 73: val_acc did not improve from 1.00000\n",
      "\u001b[1m8/8\u001b[0m \u001b[32m━━━━━━━━━━━━━━━━━━━━\u001b[0m\u001b[37m\u001b[0m \u001b[1m0s\u001b[0m 7ms/step - acc: 1.0000 - loss: 0.4952 - metric_f1score: 1.0000 - val_acc: 1.0000 - val_loss: 0.4912 - val_metric_f1score: 1.0000 - learning_rate: 0.0010\n",
      "Epoch 74/200\n",
      "\u001b[1m1/8\u001b[0m \u001b[32m━━\u001b[0m\u001b[37m━━━━━━━━━━━━━━━━━━\u001b[0m \u001b[1m0s\u001b[0m 12ms/step - acc: 1.0000 - loss: 0.4913 - metric_f1score: 1.0000\n",
      "Epoch 74: val_acc did not improve from 1.00000\n",
      "\u001b[1m8/8\u001b[0m \u001b[32m━━━━━━━━━━━━━━━━━━━━\u001b[0m\u001b[37m\u001b[0m \u001b[1m0s\u001b[0m 7ms/step - acc: 1.0000 - loss: 0.4907 - metric_f1score: 1.0000 - val_acc: 1.0000 - val_loss: 0.4865 - val_metric_f1score: 1.0000 - learning_rate: 0.0010\n",
      "Epoch 75/200\n",
      "\u001b[1m1/8\u001b[0m \u001b[32m━━\u001b[0m\u001b[37m━━━━━━━━━━━━━━━━━━\u001b[0m \u001b[1m0s\u001b[0m 13ms/step - acc: 1.0000 - loss: 0.4885 - metric_f1score: 1.0000\n",
      "Epoch 75: val_acc did not improve from 1.00000\n",
      "\u001b[1m8/8\u001b[0m \u001b[32m━━━━━━━━━━━━━━━━━━━━\u001b[0m\u001b[37m\u001b[0m \u001b[1m0s\u001b[0m 7ms/step - acc: 0.9980 - loss: 0.4910 - metric_f1score: 0.9981 - val_acc: 1.0000 - val_loss: 0.4819 - val_metric_f1score: 1.0000 - learning_rate: 0.0010\n",
      "Epoch 76/200\n",
      "\u001b[1m1/8\u001b[0m \u001b[32m━━\u001b[0m\u001b[37m━━━━━━━━━━━━━━━━━━\u001b[0m \u001b[1m0s\u001b[0m 13ms/step - acc: 1.0000 - loss: 0.4819 - metric_f1score: 1.0000\n",
      "Epoch 76: val_acc did not improve from 1.00000\n",
      "\u001b[1m8/8\u001b[0m \u001b[32m━━━━━━━━━━━━━━━━━━━━\u001b[0m\u001b[37m\u001b[0m \u001b[1m0s\u001b[0m 8ms/step - acc: 1.0000 - loss: 0.4821 - metric_f1score: 1.0000 - val_acc: 1.0000 - val_loss: 0.4773 - val_metric_f1score: 1.0000 - learning_rate: 0.0010\n",
      "Epoch 77/200\n",
      "\u001b[1m1/8\u001b[0m \u001b[32m━━\u001b[0m\u001b[37m━━━━━━━━━━━━━━━━━━\u001b[0m \u001b[1m0s\u001b[0m 14ms/step - acc: 1.0000 - loss: 0.4774 - metric_f1score: 1.0000\n",
      "Epoch 77: val_acc did not improve from 1.00000\n",
      "\u001b[1m8/8\u001b[0m \u001b[32m━━━━━━━━━━━━━━━━━━━━\u001b[0m\u001b[37m\u001b[0m \u001b[1m0s\u001b[0m 7ms/step - acc: 1.0000 - loss: 0.4766 - metric_f1score: 1.0000 - val_acc: 1.0000 - val_loss: 0.4728 - val_metric_f1score: 1.0000 - learning_rate: 0.0010\n",
      "Epoch 78/200\n",
      "\u001b[1m1/8\u001b[0m \u001b[32m━━\u001b[0m\u001b[37m━━━━━━━━━━━━━━━━━━\u001b[0m \u001b[1m0s\u001b[0m 13ms/step - acc: 1.0000 - loss: 0.4728 - metric_f1score: 1.0000\n",
      "Epoch 78: val_acc did not improve from 1.00000\n",
      "\u001b[1m8/8\u001b[0m \u001b[32m━━━━━━━━━━━━━━━━━━━━\u001b[0m\u001b[37m\u001b[0m \u001b[1m0s\u001b[0m 8ms/step - acc: 0.9964 - loss: 0.4777 - metric_f1score: 0.9982 - val_acc: 1.0000 - val_loss: 0.4683 - val_metric_f1score: 1.0000 - learning_rate: 0.0010\n",
      "Epoch 79/200\n",
      "\u001b[1m1/8\u001b[0m \u001b[32m━━\u001b[0m\u001b[37m━━━━━━━━━━━━━━━━━━\u001b[0m \u001b[1m0s\u001b[0m 14ms/step - acc: 1.0000 - loss: 0.4683 - metric_f1score: 1.0000\n",
      "Epoch 79: val_acc did not improve from 1.00000\n",
      "\u001b[1m8/8\u001b[0m \u001b[32m━━━━━━━━━━━━━━━━━━━━\u001b[0m\u001b[37m\u001b[0m \u001b[1m0s\u001b[0m 8ms/step - acc: 0.9952 - loss: 0.4744 - metric_f1score: 0.9953 - val_acc: 1.0000 - val_loss: 0.4639 - val_metric_f1score: 1.0000 - learning_rate: 0.0010\n",
      "Epoch 80/200\n",
      "\u001b[1m1/8\u001b[0m \u001b[32m━━\u001b[0m\u001b[37m━━━━━━━━━━━━━━━━━━\u001b[0m \u001b[1m0s\u001b[0m 15ms/step - acc: 1.0000 - loss: 0.4639 - metric_f1score: 1.0000\n",
      "Epoch 80: val_acc did not improve from 1.00000\n",
      "\u001b[1m8/8\u001b[0m \u001b[32m━━━━━━━━━━━━━━━━━━━━\u001b[0m\u001b[37m\u001b[0m \u001b[1m0s\u001b[0m 8ms/step - acc: 1.0000 - loss: 0.4629 - metric_f1score: 1.0000 - val_acc: 1.0000 - val_loss: 0.4595 - val_metric_f1score: 1.0000 - learning_rate: 0.0010\n",
      "Epoch 81/200\n",
      "\u001b[1m1/8\u001b[0m \u001b[32m━━\u001b[0m\u001b[37m━━━━━━━━━━━━━━━━━━\u001b[0m \u001b[1m0s\u001b[0m 15ms/step - acc: 1.0000 - loss: 0.4595 - metric_f1score: 1.0000\n",
      "Epoch 81: val_acc did not improve from 1.00000\n",
      "\u001b[1m8/8\u001b[0m \u001b[32m━━━━━━━━━━━━━━━━━━━━\u001b[0m\u001b[37m\u001b[0m \u001b[1m0s\u001b[0m 8ms/step - acc: 1.0000 - loss: 0.4589 - metric_f1score: 1.0000 - val_acc: 1.0000 - val_loss: 0.4552 - val_metric_f1score: 1.0000 - learning_rate: 0.0010\n",
      "Epoch 82/200\n",
      "\u001b[1m1/8\u001b[0m \u001b[32m━━\u001b[0m\u001b[37m━━━━━━━━━━━━━━━━━━\u001b[0m \u001b[1m0s\u001b[0m 14ms/step - acc: 1.0000 - loss: 0.4552 - metric_f1score: 1.0000\n",
      "Epoch 82: val_acc did not improve from 1.00000\n",
      "\u001b[1m8/8\u001b[0m \u001b[32m━━━━━━━━━━━━━━━━━━━━\u001b[0m\u001b[37m\u001b[0m \u001b[1m0s\u001b[0m 7ms/step - acc: 1.0000 - loss: 0.4542 - metric_f1score: 1.0000 - val_acc: 1.0000 - val_loss: 0.4509 - val_metric_f1score: 1.0000 - learning_rate: 0.0010\n",
      "Epoch 83/200\n",
      "\u001b[1m1/8\u001b[0m \u001b[32m━━\u001b[0m\u001b[37m━━━━━━━━━━━━━━━━━━\u001b[0m \u001b[1m0s\u001b[0m 13ms/step - acc: 1.0000 - loss: 0.4510 - metric_f1score: 1.0000\n",
      "Epoch 83: val_acc did not improve from 1.00000\n",
      "\u001b[1m8/8\u001b[0m \u001b[32m━━━━━━━━━━━━━━━━━━━━\u001b[0m\u001b[37m\u001b[0m \u001b[1m0s\u001b[0m 7ms/step - acc: 1.0000 - loss: 0.4500 - metric_f1score: 1.0000 - val_acc: 1.0000 - val_loss: 0.4467 - val_metric_f1score: 1.0000 - learning_rate: 0.0010\n",
      "Epoch 84/200\n",
      "\u001b[1m1/8\u001b[0m \u001b[32m━━\u001b[0m\u001b[37m━━━━━━━━━━━━━━━━━━\u001b[0m \u001b[1m0s\u001b[0m 13ms/step - acc: 1.0000 - loss: 0.4467 - metric_f1score: 1.0000\n",
      "Epoch 84: val_acc did not improve from 1.00000\n",
      "\u001b[1m8/8\u001b[0m \u001b[32m━━━━━━━━━━━━━━━━━━━━\u001b[0m\u001b[37m\u001b[0m \u001b[1m0s\u001b[0m 7ms/step - acc: 1.0000 - loss: 0.4457 - metric_f1score: 1.0000 - val_acc: 1.0000 - val_loss: 0.4425 - val_metric_f1score: 1.0000 - learning_rate: 0.0010\n",
      "Epoch 85/200\n",
      "\u001b[1m1/8\u001b[0m \u001b[32m━━\u001b[0m\u001b[37m━━━━━━━━━━━━━━━━━━\u001b[0m \u001b[1m0s\u001b[0m 12ms/step - acc: 1.0000 - loss: 0.4425 - metric_f1score: 1.0000\n",
      "Epoch 85: val_acc did not improve from 1.00000\n",
      "\u001b[1m8/8\u001b[0m \u001b[32m━━━━━━━━━━━━━━━━━━━━\u001b[0m\u001b[37m\u001b[0m \u001b[1m0s\u001b[0m 7ms/step - acc: 1.0000 - loss: 0.4417 - metric_f1score: 1.0000 - val_acc: 1.0000 - val_loss: 0.4384 - val_metric_f1score: 1.0000 - learning_rate: 0.0010\n",
      "Epoch 86/200\n",
      "\u001b[1m1/8\u001b[0m \u001b[32m━━\u001b[0m\u001b[37m━━━━━━━━━━━━━━━━━━\u001b[0m \u001b[1m0s\u001b[0m 14ms/step - acc: 1.0000 - loss: 0.4384 - metric_f1score: 1.0000\n",
      "Epoch 86: val_acc did not improve from 1.00000\n",
      "\u001b[1m8/8\u001b[0m \u001b[32m━━━━━━━━━━━━━━━━━━━━\u001b[0m\u001b[37m\u001b[0m \u001b[1m0s\u001b[0m 9ms/step - acc: 1.0000 - loss: 0.4376 - metric_f1score: 1.0000 - val_acc: 1.0000 - val_loss: 0.4344 - val_metric_f1score: 1.0000 - learning_rate: 0.0010\n",
      "Epoch 87/200\n",
      "\u001b[1m1/8\u001b[0m \u001b[32m━━\u001b[0m\u001b[37m━━━━━━━━━━━━━━━━━━\u001b[0m \u001b[1m0s\u001b[0m 15ms/step - acc: 1.0000 - loss: 0.4344 - metric_f1score: 1.0000\n",
      "Epoch 87: val_acc did not improve from 1.00000\n",
      "\u001b[1m8/8\u001b[0m \u001b[32m━━━━━━━━━━━━━━━━━━━━\u001b[0m\u001b[37m\u001b[0m \u001b[1m0s\u001b[0m 8ms/step - acc: 1.0000 - loss: 0.4334 - metric_f1score: 1.0000 - val_acc: 1.0000 - val_loss: 0.4304 - val_metric_f1score: 1.0000 - learning_rate: 0.0010\n",
      "Epoch 88/200\n",
      "\u001b[1m1/8\u001b[0m \u001b[32m━━\u001b[0m\u001b[37m━━━━━━━━━━━━━━━━━━\u001b[0m \u001b[1m0s\u001b[0m 15ms/step - acc: 1.0000 - loss: 0.4304 - metric_f1score: 1.0000\n",
      "Epoch 88: val_acc did not improve from 1.00000\n",
      "\u001b[1m8/8\u001b[0m \u001b[32m━━━━━━━━━━━━━━━━━━━━\u001b[0m\u001b[37m\u001b[0m \u001b[1m0s\u001b[0m 8ms/step - acc: 1.0000 - loss: 0.4295 - metric_f1score: 1.0000 - val_acc: 1.0000 - val_loss: 0.4264 - val_metric_f1score: 1.0000 - learning_rate: 0.0010\n",
      "Epoch 89/200\n",
      "\u001b[1m1/8\u001b[0m \u001b[32m━━\u001b[0m\u001b[37m━━━━━━━━━━━━━━━━━━\u001b[0m \u001b[1m0s\u001b[0m 14ms/step - acc: 1.0000 - loss: 0.4265 - metric_f1score: 1.0000\n",
      "Epoch 89: val_acc did not improve from 1.00000\n",
      "\u001b[1m8/8\u001b[0m \u001b[32m━━━━━━━━━━━━━━━━━━━━\u001b[0m\u001b[37m\u001b[0m \u001b[1m0s\u001b[0m 7ms/step - acc: 1.0000 - loss: 0.4256 - metric_f1score: 1.0000 - val_acc: 1.0000 - val_loss: 0.4226 - val_metric_f1score: 1.0000 - learning_rate: 0.0010\n",
      "Epoch 90/200\n",
      "\u001b[1m1/8\u001b[0m \u001b[32m━━\u001b[0m\u001b[37m━━━━━━━━━━━━━━━━━━\u001b[0m \u001b[1m0s\u001b[0m 14ms/step - acc: 1.0000 - loss: 0.4226 - metric_f1score: 1.0000\n",
      "Epoch 90: val_acc did not improve from 1.00000\n",
      "\u001b[1m8/8\u001b[0m \u001b[32m━━━━━━━━━━━━━━━━━━━━\u001b[0m\u001b[37m\u001b[0m \u001b[1m0s\u001b[0m 7ms/step - acc: 1.0000 - loss: 0.4220 - metric_f1score: 1.0000 - val_acc: 1.0000 - val_loss: 0.4187 - val_metric_f1score: 1.0000 - learning_rate: 0.0010\n",
      "Epoch 91/200\n",
      "\u001b[1m1/8\u001b[0m \u001b[32m━━\u001b[0m\u001b[37m━━━━━━━━━━━━━━━━━━\u001b[0m \u001b[1m0s\u001b[0m 13ms/step - acc: 1.0000 - loss: 0.4187 - metric_f1score: 1.0000\n",
      "Epoch 91: val_acc did not improve from 1.00000\n",
      "\u001b[1m8/8\u001b[0m \u001b[32m━━━━━━━━━━━━━━━━━━━━\u001b[0m\u001b[37m\u001b[0m \u001b[1m0s\u001b[0m 7ms/step - acc: 1.0000 - loss: 0.4179 - metric_f1score: 1.0000 - val_acc: 1.0000 - val_loss: 0.4150 - val_metric_f1score: 1.0000 - learning_rate: 0.0010\n",
      "Epoch 92/200\n",
      "\u001b[1m1/8\u001b[0m \u001b[32m━━\u001b[0m\u001b[37m━━━━━━━━━━━━━━━━━━\u001b[0m \u001b[1m0s\u001b[0m 13ms/step - acc: 1.0000 - loss: 0.4150 - metric_f1score: 1.0000\n",
      "Epoch 92: val_acc did not improve from 1.00000\n",
      "\u001b[1m8/8\u001b[0m \u001b[32m━━━━━━━━━━━━━━━━━━━━\u001b[0m\u001b[37m\u001b[0m \u001b[1m0s\u001b[0m 7ms/step - acc: 0.9925 - loss: 0.4307 - metric_f1score: 0.9927 - val_acc: 1.0000 - val_loss: 0.4113 - val_metric_f1score: 1.0000 - learning_rate: 0.0010\n",
      "Epoch 93/200\n",
      "\u001b[1m5/8\u001b[0m \u001b[32m━━━━━━━━━━━━\u001b[0m\u001b[37m━━━━━━━━\u001b[0m \u001b[1m0s\u001b[0m 16ms/step - acc: 0.9972 - loss: 0.4279 - metric_f1score: 0.9972\n",
      "Epoch 93: val_acc did not improve from 1.00000\n",
      "\u001b[1m8/8\u001b[0m \u001b[32m━━━━━━━━━━━━━━━━━━━━\u001b[0m\u001b[37m\u001b[0m \u001b[1m0s\u001b[0m 16ms/step - acc: 0.9964 - loss: 0.4323 - metric_f1score: 0.9965 - val_acc: 1.0000 - val_loss: 0.4081 - val_metric_f1score: 1.0000 - learning_rate: 0.0010\n",
      "Epoch 94/200\n",
      "\u001b[1m1/8\u001b[0m \u001b[32m━━\u001b[0m\u001b[37m━━━━━━━━━━━━━━━━━━\u001b[0m \u001b[1m0s\u001b[0m 13ms/step - acc: 1.0000 - loss: 0.4081 - metric_f1score: 1.0000\n",
      "Epoch 94: val_acc did not improve from 1.00000\n",
      "\u001b[1m8/8\u001b[0m \u001b[32m━━━━━━━━━━━━━━━━━━━━\u001b[0m\u001b[37m\u001b[0m \u001b[1m0s\u001b[0m 7ms/step - acc: 0.9958 - loss: 0.4840 - metric_f1score: 0.9946 - val_acc: 1.0000 - val_loss: 0.4048 - val_metric_f1score: 1.0000 - learning_rate: 0.0010\n",
      "Epoch 95/200\n",
      "\u001b[1m1/8\u001b[0m \u001b[32m━━\u001b[0m\u001b[37m━━━━━━━━━━━━━━━━━━\u001b[0m \u001b[1m0s\u001b[0m 13ms/step - acc: 1.0000 - loss: 0.4048 - metric_f1score: 1.0000\n",
      "Epoch 95: val_acc did not improve from 1.00000\n",
      "\u001b[1m8/8\u001b[0m \u001b[32m━━━━━━━━━━━━━━━━━━━━\u001b[0m\u001b[37m\u001b[0m \u001b[1m0s\u001b[0m 7ms/step - acc: 1.0000 - loss: 0.4043 - metric_f1score: 1.0000 - val_acc: 1.0000 - val_loss: 0.4018 - val_metric_f1score: 1.0000 - learning_rate: 0.0010\n",
      "Epoch 96/200\n",
      "\u001b[1m1/8\u001b[0m \u001b[32m━━\u001b[0m\u001b[37m━━━━━━━━━━━━━━━━━━\u001b[0m \u001b[1m0s\u001b[0m 13ms/step - acc: 0.9688 - loss: 0.4684 - metric_f1score: 0.9688\n",
      "Epoch 96: val_acc did not improve from 1.00000\n",
      "\u001b[1m8/8\u001b[0m \u001b[32m━━━━━━━━━━━━━━━━━━━━\u001b[0m\u001b[37m\u001b[0m \u001b[1m0s\u001b[0m 8ms/step - acc: 0.9880 - loss: 0.4348 - metric_f1score: 0.9882 - val_acc: 1.0000 - val_loss: 0.3987 - val_metric_f1score: 1.0000 - learning_rate: 0.0010\n",
      "Epoch 97/200\n",
      "\u001b[1m1/8\u001b[0m \u001b[32m━━\u001b[0m\u001b[37m━━━━━━━━━━━━━━━━━━\u001b[0m \u001b[1m0s\u001b[0m 14ms/step - acc: 1.0000 - loss: 0.3988 - metric_f1score: 1.0000\n",
      "Epoch 97: val_acc did not improve from 1.00000\n",
      "\u001b[1m8/8\u001b[0m \u001b[32m━━━━━━━━━━━━━━━━━━━━\u001b[0m\u001b[37m\u001b[0m \u001b[1m0s\u001b[0m 8ms/step - acc: 1.0000 - loss: 0.3990 - metric_f1score: 1.0000 - val_acc: 1.0000 - val_loss: 0.3953 - val_metric_f1score: 1.0000 - learning_rate: 0.0010\n",
      "Epoch 98/200\n",
      "\u001b[1m1/8\u001b[0m \u001b[32m━━\u001b[0m\u001b[37m━━━━━━━━━━━━━━━━━━\u001b[0m \u001b[1m0s\u001b[0m 13ms/step - acc: 1.0000 - loss: 0.4011 - metric_f1score: 1.0000\n",
      "Epoch 98: val_acc did not improve from 1.00000\n",
      "\u001b[1m8/8\u001b[0m \u001b[32m━━━━━━━━━━━━━━━━━━━━\u001b[0m\u001b[37m\u001b[0m \u001b[1m0s\u001b[0m 8ms/step - acc: 1.0000 - loss: 0.3974 - metric_f1score: 1.0000 - val_acc: 1.0000 - val_loss: 0.3919 - val_metric_f1score: 1.0000 - learning_rate: 0.0010\n",
      "Epoch 99/200\n",
      "\u001b[1m1/8\u001b[0m \u001b[32m━━\u001b[0m\u001b[37m━━━━━━━━━━━━━━━━━━\u001b[0m \u001b[1m0s\u001b[0m 12ms/step - acc: 1.0000 - loss: 0.3919 - metric_f1score: 1.0000\n",
      "Epoch 99: val_acc did not improve from 1.00000\n",
      "\u001b[1m8/8\u001b[0m \u001b[32m━━━━━━━━━━━━━━━━━━━━\u001b[0m\u001b[37m\u001b[0m \u001b[1m0s\u001b[0m 7ms/step - acc: 1.0000 - loss: 0.3917 - metric_f1score: 1.0000 - val_acc: 1.0000 - val_loss: 0.3885 - val_metric_f1score: 1.0000 - learning_rate: 0.0010\n",
      "Epoch 100/200\n",
      "\u001b[1m1/8\u001b[0m \u001b[32m━━\u001b[0m\u001b[37m━━━━━━━━━━━━━━━━━━\u001b[0m \u001b[1m0s\u001b[0m 13ms/step - acc: 1.0000 - loss: 0.3888 - metric_f1score: 1.0000\n",
      "Epoch 100: val_acc did not improve from 1.00000\n",
      "\u001b[1m8/8\u001b[0m \u001b[32m━━━━━━━━━━━━━━━━━━━━\u001b[0m\u001b[37m\u001b[0m \u001b[1m0s\u001b[0m 7ms/step - acc: 1.0000 - loss: 0.3878 - metric_f1score: 1.0000 - val_acc: 1.0000 - val_loss: 0.3851 - val_metric_f1score: 1.0000 - learning_rate: 0.0010\n",
      "Epoch 101/200\n",
      "\u001b[1m1/8\u001b[0m \u001b[32m━━\u001b[0m\u001b[37m━━━━━━━━━━━━━━━━━━\u001b[0m \u001b[1m0s\u001b[0m 12ms/step - acc: 1.0000 - loss: 0.3851 - metric_f1score: 1.0000\n",
      "Epoch 101: val_acc did not improve from 1.00000\n",
      "\u001b[1m8/8\u001b[0m \u001b[32m━━━━━━━━━━━━━━━━━━━━\u001b[0m\u001b[37m\u001b[0m \u001b[1m0s\u001b[0m 7ms/step - acc: 0.9952 - loss: 0.4035 - metric_f1score: 0.9953 - val_acc: 1.0000 - val_loss: 0.3818 - val_metric_f1score: 1.0000 - learning_rate: 0.0010\n",
      "Epoch 102/200\n",
      "\u001b[1m1/8\u001b[0m \u001b[32m━━\u001b[0m\u001b[37m━━━━━━━━━━━━━━━━━━\u001b[0m \u001b[1m0s\u001b[0m 12ms/step - acc: 1.0000 - loss: 0.3818 - metric_f1score: 1.0000\n",
      "Epoch 102: val_acc did not improve from 1.00000\n",
      "\u001b[1m8/8\u001b[0m \u001b[32m━━━━━━━━━━━━━━━━━━━━\u001b[0m\u001b[37m\u001b[0m \u001b[1m0s\u001b[0m 7ms/step - acc: 0.9985 - loss: 0.3843 - metric_f1score: 0.9993 - val_acc: 1.0000 - val_loss: 0.3786 - val_metric_f1score: 1.0000 - learning_rate: 0.0010\n",
      "Epoch 103/200\n",
      "\u001b[1m1/8\u001b[0m \u001b[32m━━\u001b[0m\u001b[37m━━━━━━━━━━━━━━━━━━\u001b[0m \u001b[1m0s\u001b[0m 13ms/step - acc: 1.0000 - loss: 0.3786 - metric_f1score: 1.0000\n",
      "Epoch 103: val_acc did not improve from 1.00000\n",
      "\u001b[1m8/8\u001b[0m \u001b[32m━━━━━━━━━━━━━━━━━━━━\u001b[0m\u001b[37m\u001b[0m \u001b[1m0s\u001b[0m 7ms/step - acc: 0.9990 - loss: 0.3821 - metric_f1score: 0.9965 - val_acc: 1.0000 - val_loss: 0.3754 - val_metric_f1score: 1.0000 - learning_rate: 0.0010\n",
      "Epoch 104/200\n",
      "\u001b[1m1/8\u001b[0m \u001b[32m━━\u001b[0m\u001b[37m━━━━━━━━━━━━━━━━━━\u001b[0m \u001b[1m0s\u001b[0m 13ms/step - acc: 1.0000 - loss: 0.3754 - metric_f1score: 1.0000\n",
      "Epoch 104: val_acc did not improve from 1.00000\n",
      "\u001b[1m8/8\u001b[0m \u001b[32m━━━━━━━━━━━━━━━━━━━━\u001b[0m\u001b[37m\u001b[0m \u001b[1m0s\u001b[0m 7ms/step - acc: 1.0000 - loss: 0.3748 - metric_f1score: 1.0000 - val_acc: 1.0000 - val_loss: 0.3725 - val_metric_f1score: 1.0000 - learning_rate: 0.0010\n",
      "Epoch 105/200\n",
      "\u001b[1m1/8\u001b[0m \u001b[32m━━\u001b[0m\u001b[37m━━━━━━━━━━━━━━━━━━\u001b[0m \u001b[1m0s\u001b[0m 13ms/step - acc: 1.0000 - loss: 0.3728 - metric_f1score: 1.0000\n",
      "Epoch 105: val_acc did not improve from 1.00000\n",
      "\u001b[1m8/8\u001b[0m \u001b[32m━━━━━━━━━━━━━━━━━━━━\u001b[0m\u001b[37m\u001b[0m \u001b[1m0s\u001b[0m 7ms/step - acc: 1.0000 - loss: 0.3735 - metric_f1score: 1.0000 - val_acc: 1.0000 - val_loss: 0.3695 - val_metric_f1score: 1.0000 - learning_rate: 0.0010\n",
      "Epoch 106/200\n",
      "\u001b[1m1/8\u001b[0m \u001b[32m━━\u001b[0m\u001b[37m━━━━━━━━━━━━━━━━━━\u001b[0m \u001b[1m0s\u001b[0m 15ms/step - acc: 1.0000 - loss: 0.3695 - metric_f1score: 1.0000\n",
      "Epoch 106: val_acc did not improve from 1.00000\n",
      "\u001b[1m8/8\u001b[0m \u001b[32m━━━━━━━━━━━━━━━━━━━━\u001b[0m\u001b[37m\u001b[0m \u001b[1m0s\u001b[0m 8ms/step - acc: 1.0000 - loss: 0.3692 - metric_f1score: 1.0000 - val_acc: 1.0000 - val_loss: 0.3665 - val_metric_f1score: 1.0000 - learning_rate: 0.0010\n",
      "Epoch 107/200\n",
      "\u001b[1m1/8\u001b[0m \u001b[32m━━\u001b[0m\u001b[37m━━━━━━━━━━━━━━━━━━\u001b[0m \u001b[1m0s\u001b[0m 13ms/step - acc: 1.0000 - loss: 0.3665 - metric_f1score: 1.0000\n",
      "Epoch 107: val_acc did not improve from 1.00000\n",
      "\u001b[1m8/8\u001b[0m \u001b[32m━━━━━━━━━━━━━━━━━━━━\u001b[0m\u001b[37m\u001b[0m \u001b[1m0s\u001b[0m 7ms/step - acc: 1.0000 - loss: 0.3662 - metric_f1score: 1.0000 - val_acc: 1.0000 - val_loss: 0.3634 - val_metric_f1score: 1.0000 - learning_rate: 0.0010\n",
      "Epoch 108/200\n",
      "\u001b[1m1/8\u001b[0m \u001b[32m━━\u001b[0m\u001b[37m━━━━━━━━━━━━━━━━━━\u001b[0m \u001b[1m0s\u001b[0m 19ms/step - acc: 1.0000 - loss: 0.3634 - metric_f1score: 1.0000\n",
      "Epoch 108: val_acc did not improve from 1.00000\n",
      "\u001b[1m8/8\u001b[0m \u001b[32m━━━━━━━━━━━━━━━━━━━━\u001b[0m\u001b[37m\u001b[0m \u001b[1m0s\u001b[0m 7ms/step - acc: 0.9964 - loss: 0.3725 - metric_f1score: 0.9965 - val_acc: 1.0000 - val_loss: 0.3604 - val_metric_f1score: 1.0000 - learning_rate: 0.0010\n",
      "Epoch 109/200\n",
      "\u001b[1m1/8\u001b[0m \u001b[32m━━\u001b[0m\u001b[37m━━━━━━━━━━━━━━━━━━\u001b[0m \u001b[1m0s\u001b[0m 13ms/step - acc: 1.0000 - loss: 0.3604 - metric_f1score: 1.0000\n",
      "Epoch 109: val_acc did not improve from 1.00000\n",
      "\u001b[1m8/8\u001b[0m \u001b[32m━━━━━━━━━━━━━━━━━━━━\u001b[0m\u001b[37m\u001b[0m \u001b[1m0s\u001b[0m 7ms/step - acc: 1.0000 - loss: 0.3598 - metric_f1score: 1.0000 - val_acc: 1.0000 - val_loss: 0.3575 - val_metric_f1score: 1.0000 - learning_rate: 0.0010\n",
      "Epoch 110/200\n",
      "\u001b[1m1/8\u001b[0m \u001b[32m━━\u001b[0m\u001b[37m━━━━━━━━━━━━━━━━━━\u001b[0m \u001b[1m0s\u001b[0m 13ms/step - acc: 1.0000 - loss: 0.3575 - metric_f1score: 1.0000\n",
      "Epoch 110: val_acc did not improve from 1.00000\n",
      "\u001b[1m8/8\u001b[0m \u001b[32m━━━━━━━━━━━━━━━━━━━━\u001b[0m\u001b[37m\u001b[0m \u001b[1m0s\u001b[0m 7ms/step - acc: 1.0000 - loss: 0.3585 - metric_f1score: 1.0000 - val_acc: 1.0000 - val_loss: 0.3545 - val_metric_f1score: 1.0000 - learning_rate: 0.0010\n",
      "Epoch 111/200\n",
      "\u001b[1m1/8\u001b[0m \u001b[32m━━\u001b[0m\u001b[37m━━━━━━━━━━━━━━━━━━\u001b[0m \u001b[1m0s\u001b[0m 13ms/step - acc: 1.0000 - loss: 0.3546 - metric_f1score: 1.0000\n",
      "Epoch 111: val_acc did not improve from 1.00000\n",
      "\u001b[1m8/8\u001b[0m \u001b[32m━━━━━━━━━━━━━━━━━━━━\u001b[0m\u001b[37m\u001b[0m \u001b[1m0s\u001b[0m 8ms/step - acc: 1.0000 - loss: 0.3548 - metric_f1score: 1.0000 - val_acc: 1.0000 - val_loss: 0.3517 - val_metric_f1score: 1.0000 - learning_rate: 0.0010\n",
      "Epoch 112/200\n",
      "\u001b[1m2/8\u001b[0m \u001b[32m━━━━━\u001b[0m\u001b[37m━━━━━━━━━━━━━━━\u001b[0m \u001b[1m0s\u001b[0m 55ms/step - acc: 1.0000 - loss: 0.3516 - metric_f1score: 1.0000\n",
      "Epoch 112: val_acc did not improve from 1.00000\n",
      "\u001b[1m8/8\u001b[0m \u001b[32m━━━━━━━━━━━━━━━━━━━━\u001b[0m\u001b[37m\u001b[0m \u001b[1m0s\u001b[0m 16ms/step - acc: 1.0000 - loss: 0.3510 - metric_f1score: 1.0000 - val_acc: 1.0000 - val_loss: 0.3488 - val_metric_f1score: 1.0000 - learning_rate: 0.0010\n",
      "Epoch 113/200\n",
      "\u001b[1m1/8\u001b[0m \u001b[32m━━\u001b[0m\u001b[37m━━━━━━━━━━━━━━━━━━\u001b[0m \u001b[1m0s\u001b[0m 13ms/step - acc: 1.0000 - loss: 0.3488 - metric_f1score: 1.0000\n",
      "Epoch 113: val_acc did not improve from 1.00000\n",
      "\u001b[1m8/8\u001b[0m \u001b[32m━━━━━━━━━━━━━━━━━━━━\u001b[0m\u001b[37m\u001b[0m \u001b[1m0s\u001b[0m 8ms/step - acc: 1.0000 - loss: 0.3482 - metric_f1score: 1.0000 - val_acc: 1.0000 - val_loss: 0.3459 - val_metric_f1score: 1.0000 - learning_rate: 0.0010\n",
      "Epoch 114/200\n",
      "\u001b[1m1/8\u001b[0m \u001b[32m━━\u001b[0m\u001b[37m━━━━━━━━━━━━━━━━━━\u001b[0m \u001b[1m0s\u001b[0m 13ms/step - acc: 1.0000 - loss: 0.3459 - metric_f1score: 1.0000\n",
      "Epoch 114: val_acc did not improve from 1.00000\n",
      "\u001b[1m8/8\u001b[0m \u001b[32m━━━━━━━━━━━━━━━━━━━━\u001b[0m\u001b[37m\u001b[0m \u001b[1m0s\u001b[0m 7ms/step - acc: 1.0000 - loss: 0.3453 - metric_f1score: 1.0000 - val_acc: 1.0000 - val_loss: 0.3431 - val_metric_f1score: 1.0000 - learning_rate: 0.0010\n",
      "Epoch 115/200\n",
      "\u001b[1m1/8\u001b[0m \u001b[32m━━\u001b[0m\u001b[37m━━━━━━━━━━━━━━━━━━\u001b[0m \u001b[1m0s\u001b[0m 13ms/step - acc: 1.0000 - loss: 0.3431 - metric_f1score: 1.0000\n",
      "Epoch 115: val_acc did not improve from 1.00000\n",
      "\u001b[1m8/8\u001b[0m \u001b[32m━━━━━━━━━━━━━━━━━━━━\u001b[0m\u001b[37m\u001b[0m \u001b[1m0s\u001b[0m 7ms/step - acc: 1.0000 - loss: 0.3425 - metric_f1score: 1.0000 - val_acc: 1.0000 - val_loss: 0.3403 - val_metric_f1score: 1.0000 - learning_rate: 0.0010\n",
      "Epoch 116/200\n",
      "\u001b[1m1/8\u001b[0m \u001b[32m━━\u001b[0m\u001b[37m━━━━━━━━━━━━━━━━━━\u001b[0m \u001b[1m0s\u001b[0m 13ms/step - acc: 1.0000 - loss: 0.3417 - metric_f1score: 1.0000\n",
      "Epoch 116: val_acc did not improve from 1.00000\n",
      "\u001b[1m8/8\u001b[0m \u001b[32m━━━━━━━━━━━━━━━━━━━━\u001b[0m\u001b[37m\u001b[0m \u001b[1m0s\u001b[0m 7ms/step - acc: 0.9935 - loss: 0.3559 - metric_f1score: 0.9936 - val_acc: 1.0000 - val_loss: 0.3375 - val_metric_f1score: 1.0000 - learning_rate: 0.0010\n",
      "Epoch 117/200\n",
      "\u001b[1m1/8\u001b[0m \u001b[32m━━\u001b[0m\u001b[37m━━━━━━━━━━━━━━━━━━\u001b[0m \u001b[1m0s\u001b[0m 13ms/step - acc: 1.0000 - loss: 0.3375 - metric_f1score: 1.0000\n",
      "Epoch 117: val_acc did not improve from 1.00000\n",
      "\u001b[1m8/8\u001b[0m \u001b[32m━━━━━━━━━━━━━━━━━━━━\u001b[0m\u001b[37m\u001b[0m \u001b[1m0s\u001b[0m 7ms/step - acc: 1.0000 - loss: 0.3369 - metric_f1score: 1.0000 - val_acc: 1.0000 - val_loss: 0.3349 - val_metric_f1score: 1.0000 - learning_rate: 0.0010\n",
      "Epoch 118/200\n",
      "\u001b[1m1/8\u001b[0m \u001b[32m━━\u001b[0m\u001b[37m━━━━━━━━━━━━━━━━━━\u001b[0m \u001b[1m0s\u001b[0m 13ms/step - acc: 1.0000 - loss: 0.3349 - metric_f1score: 1.0000\n",
      "Epoch 118: val_acc did not improve from 1.00000\n",
      "\u001b[1m8/8\u001b[0m \u001b[32m━━━━━━━━━━━━━━━━━━━━\u001b[0m\u001b[37m\u001b[0m \u001b[1m0s\u001b[0m 7ms/step - acc: 1.0000 - loss: 0.3354 - metric_f1score: 1.0000 - val_acc: 1.0000 - val_loss: 0.3322 - val_metric_f1score: 1.0000 - learning_rate: 0.0010\n",
      "Epoch 119/200\n",
      "\u001b[1m1/8\u001b[0m \u001b[32m━━\u001b[0m\u001b[37m━━━━━━━━━━━━━━━━━━\u001b[0m \u001b[1m0s\u001b[0m 13ms/step - acc: 1.0000 - loss: 0.3322 - metric_f1score: 1.0000\n",
      "Epoch 119: val_acc did not improve from 1.00000\n",
      "\u001b[1m8/8\u001b[0m \u001b[32m━━━━━━━━━━━━━━━━━━━━\u001b[0m\u001b[37m\u001b[0m \u001b[1m0s\u001b[0m 8ms/step - acc: 1.0000 - loss: 0.3350 - metric_f1score: 1.0000 - val_acc: 1.0000 - val_loss: 0.3296 - val_metric_f1score: 1.0000 - learning_rate: 0.0010\n",
      "Epoch 120/200\n",
      "\u001b[1m1/8\u001b[0m \u001b[32m━━\u001b[0m\u001b[37m━━━━━━━━━━━━━━━━━━\u001b[0m \u001b[1m0s\u001b[0m 13ms/step - acc: 1.0000 - loss: 0.3296 - metric_f1score: 1.0000\n",
      "Epoch 120: val_acc did not improve from 1.00000\n",
      "\u001b[1m8/8\u001b[0m \u001b[32m━━━━━━━━━━━━━━━━━━━━\u001b[0m\u001b[37m\u001b[0m \u001b[1m0s\u001b[0m 7ms/step - acc: 1.0000 - loss: 0.3290 - metric_f1score: 1.0000 - val_acc: 1.0000 - val_loss: 0.3270 - val_metric_f1score: 1.0000 - learning_rate: 0.0010\n",
      "Epoch 121/200\n",
      "\u001b[1m1/8\u001b[0m \u001b[32m━━\u001b[0m\u001b[37m━━━━━━━━━━━━━━━━━━\u001b[0m \u001b[1m0s\u001b[0m 13ms/step - acc: 1.0000 - loss: 0.3270 - metric_f1score: 1.0000\n",
      "Epoch 121: val_acc did not improve from 1.00000\n",
      "\u001b[1m8/8\u001b[0m \u001b[32m━━━━━━━━━━━━━━━━━━━━\u001b[0m\u001b[37m\u001b[0m \u001b[1m0s\u001b[0m 8ms/step - acc: 1.0000 - loss: 0.3264 - metric_f1score: 1.0000 - val_acc: 1.0000 - val_loss: 0.3243 - val_metric_f1score: 1.0000 - learning_rate: 0.0010\n",
      "Epoch 122/200\n",
      "\u001b[1m1/8\u001b[0m \u001b[32m━━\u001b[0m\u001b[37m━━━━━━━━━━━━━━━━━━\u001b[0m \u001b[1m0s\u001b[0m 13ms/step - acc: 1.0000 - loss: 0.3243 - metric_f1score: 1.0000\n",
      "Epoch 122: val_acc did not improve from 1.00000\n",
      "\u001b[1m8/8\u001b[0m \u001b[32m━━━━━━━━━━━━━━━━━━━━\u001b[0m\u001b[37m\u001b[0m \u001b[1m0s\u001b[0m 7ms/step - acc: 1.0000 - loss: 0.3239 - metric_f1score: 1.0000 - val_acc: 1.0000 - val_loss: 0.3217 - val_metric_f1score: 1.0000 - learning_rate: 0.0010\n",
      "Epoch 123/200\n",
      "\u001b[1m1/8\u001b[0m \u001b[32m━━\u001b[0m\u001b[37m━━━━━━━━━━━━━━━━━━\u001b[0m \u001b[1m0s\u001b[0m 13ms/step - acc: 1.0000 - loss: 0.3220 - metric_f1score: 1.0000\n",
      "Epoch 123: val_acc did not improve from 1.00000\n",
      "\u001b[1m8/8\u001b[0m \u001b[32m━━━━━━━━━━━━━━━━━━━━\u001b[0m\u001b[37m\u001b[0m \u001b[1m0s\u001b[0m 7ms/step - acc: 1.0000 - loss: 0.3213 - metric_f1score: 1.0000 - val_acc: 1.0000 - val_loss: 0.3192 - val_metric_f1score: 1.0000 - learning_rate: 0.0010\n",
      "Epoch 124/200\n",
      "\u001b[1m1/8\u001b[0m \u001b[32m━━\u001b[0m\u001b[37m━━━━━━━━━━━━━━━━━━\u001b[0m \u001b[1m0s\u001b[0m 13ms/step - acc: 1.0000 - loss: 0.3192 - metric_f1score: 1.0000\n",
      "Epoch 124: val_acc did not improve from 1.00000\n",
      "\u001b[1m8/8\u001b[0m \u001b[32m━━━━━━━━━━━━━━━━━━━━\u001b[0m\u001b[37m\u001b[0m \u001b[1m0s\u001b[0m 7ms/step - acc: 1.0000 - loss: 0.3186 - metric_f1score: 1.0000 - val_acc: 1.0000 - val_loss: 0.3166 - val_metric_f1score: 1.0000 - learning_rate: 0.0010\n",
      "Epoch 125/200\n",
      "\u001b[1m1/8\u001b[0m \u001b[32m━━\u001b[0m\u001b[37m━━━━━━━━━━━━━━━━━━\u001b[0m \u001b[1m0s\u001b[0m 13ms/step - acc: 1.0000 - loss: 0.3166 - metric_f1score: 1.0000\n",
      "Epoch 125: val_acc did not improve from 1.00000\n",
      "\u001b[1m8/8\u001b[0m \u001b[32m━━━━━━━━━━━━━━━━━━━━\u001b[0m\u001b[37m\u001b[0m \u001b[1m0s\u001b[0m 7ms/step - acc: 1.0000 - loss: 0.3163 - metric_f1score: 1.0000 - val_acc: 1.0000 - val_loss: 0.3141 - val_metric_f1score: 1.0000 - learning_rate: 0.0010\n",
      "Epoch 126/200\n",
      "\u001b[1m1/8\u001b[0m \u001b[32m━━\u001b[0m\u001b[37m━━━━━━━━━━━━━━━━━━\u001b[0m \u001b[1m0s\u001b[0m 13ms/step - acc: 1.0000 - loss: 0.3141 - metric_f1score: 1.0000\n",
      "Epoch 126: val_acc did not improve from 1.00000\n",
      "\u001b[1m8/8\u001b[0m \u001b[32m━━━━━━━━━━━━━━━━━━━━\u001b[0m\u001b[37m\u001b[0m \u001b[1m0s\u001b[0m 7ms/step - acc: 1.0000 - loss: 0.3135 - metric_f1score: 1.0000 - val_acc: 1.0000 - val_loss: 0.3116 - val_metric_f1score: 1.0000 - learning_rate: 0.0010\n",
      "Epoch 127/200\n",
      "\u001b[1m1/8\u001b[0m \u001b[32m━━\u001b[0m\u001b[37m━━━━━━━━━━━━━━━━━━\u001b[0m \u001b[1m0s\u001b[0m 13ms/step - acc: 1.0000 - loss: 0.3116 - metric_f1score: 1.0000\n",
      "Epoch 127: val_acc did not improve from 1.00000\n",
      "\u001b[1m8/8\u001b[0m \u001b[32m━━━━━━━━━━━━━━━━━━━━\u001b[0m\u001b[37m\u001b[0m \u001b[1m0s\u001b[0m 7ms/step - acc: 0.9952 - loss: 0.3334 - metric_f1score: 0.9976 - val_acc: 1.0000 - val_loss: 0.3091 - val_metric_f1score: 1.0000 - learning_rate: 0.0010\n",
      "Epoch 128/200\n",
      "\u001b[1m1/8\u001b[0m \u001b[32m━━\u001b[0m\u001b[37m━━━━━━━━━━━━━━━━━━\u001b[0m \u001b[1m0s\u001b[0m 13ms/step - acc: 1.0000 - loss: 0.3091 - metric_f1score: 1.0000\n",
      "Epoch 128: val_acc did not improve from 1.00000\n",
      "\u001b[1m8/8\u001b[0m \u001b[32m━━━━━━━━━━━━━━━━━━━━\u001b[0m\u001b[37m\u001b[0m \u001b[1m0s\u001b[0m 7ms/step - acc: 1.0000 - loss: 0.3092 - metric_f1score: 1.0000 - val_acc: 1.0000 - val_loss: 0.3067 - val_metric_f1score: 1.0000 - learning_rate: 0.0010\n",
      "Epoch 129/200\n",
      "\u001b[1m3/8\u001b[0m \u001b[32m━━━━━━━\u001b[0m\u001b[37m━━━━━━━━━━━━━\u001b[0m \u001b[1m0s\u001b[0m 29ms/step - acc: 1.0000 - loss: 0.3071 - metric_f1score: 1.0000\n",
      "Epoch 129: val_acc did not improve from 1.00000\n",
      "\u001b[1m8/8\u001b[0m \u001b[32m━━━━━━━━━━━━━━━━━━━━\u001b[0m\u001b[37m\u001b[0m \u001b[1m0s\u001b[0m 16ms/step - acc: 1.0000 - loss: 0.3066 - metric_f1score: 1.0000 - val_acc: 1.0000 - val_loss: 0.3044 - val_metric_f1score: 1.0000 - learning_rate: 0.0010\n",
      "Epoch 130/200\n",
      "\u001b[1m1/8\u001b[0m \u001b[32m━━\u001b[0m\u001b[37m━━━━━━━━━━━━━━━━━━\u001b[0m \u001b[1m0s\u001b[0m 13ms/step - acc: 1.0000 - loss: 0.3046 - metric_f1score: 1.0000\n",
      "Epoch 130: val_acc did not improve from 1.00000\n",
      "\u001b[1m8/8\u001b[0m \u001b[32m━━━━━━━━━━━━━━━━━━━━\u001b[0m\u001b[37m\u001b[0m \u001b[1m0s\u001b[0m 7ms/step - acc: 1.0000 - loss: 0.3051 - metric_f1score: 1.0000 - val_acc: 1.0000 - val_loss: 0.3021 - val_metric_f1score: 1.0000 - learning_rate: 0.0010\n",
      "Epoch 131/200\n",
      "\u001b[1m1/8\u001b[0m \u001b[32m━━\u001b[0m\u001b[37m━━━━━━━━━━━━━━━━━━\u001b[0m \u001b[1m0s\u001b[0m 13ms/step - acc: 1.0000 - loss: 0.3034 - metric_f1score: 1.0000\n",
      "Epoch 131: val_acc did not improve from 1.00000\n",
      "\u001b[1m8/8\u001b[0m \u001b[32m━━━━━━━━━━━━━━━━━━━━\u001b[0m\u001b[37m\u001b[0m \u001b[1m0s\u001b[0m 7ms/step - acc: 1.0000 - loss: 0.3020 - metric_f1score: 1.0000 - val_acc: 1.0000 - val_loss: 0.2998 - val_metric_f1score: 1.0000 - learning_rate: 0.0010\n",
      "Epoch 132/200\n",
      "\u001b[1m1/8\u001b[0m \u001b[32m━━\u001b[0m\u001b[37m━━━━━━━━━━━━━━━━━━\u001b[0m \u001b[1m0s\u001b[0m 13ms/step - acc: 1.0000 - loss: 0.2998 - metric_f1score: 1.0000\n",
      "Epoch 132: val_acc did not improve from 1.00000\n",
      "\u001b[1m8/8\u001b[0m \u001b[32m━━━━━━━━━━━━━━━━━━━━\u001b[0m\u001b[37m\u001b[0m \u001b[1m0s\u001b[0m 7ms/step - acc: 0.9964 - loss: 0.3083 - metric_f1score: 0.9965 - val_acc: 1.0000 - val_loss: 0.2975 - val_metric_f1score: 1.0000 - learning_rate: 0.0010\n",
      "Epoch 133/200\n",
      "\u001b[1m1/8\u001b[0m \u001b[32m━━\u001b[0m\u001b[37m━━━━━━━━━━━━━━━━━━\u001b[0m \u001b[1m0s\u001b[0m 13ms/step - acc: 1.0000 - loss: 0.3029 - metric_f1score: 1.0000\n",
      "Epoch 133: val_acc did not improve from 1.00000\n",
      "\u001b[1m8/8\u001b[0m \u001b[32m━━━━━━━━━━━━━━━━━━━━\u001b[0m\u001b[37m\u001b[0m \u001b[1m0s\u001b[0m 7ms/step - acc: 1.0000 - loss: 0.2991 - metric_f1score: 1.0000 - val_acc: 1.0000 - val_loss: 0.2952 - val_metric_f1score: 1.0000 - learning_rate: 0.0010\n",
      "Epoch 134/200\n",
      "\u001b[1m1/8\u001b[0m \u001b[32m━━\u001b[0m\u001b[37m━━━━━━━━━━━━━━━━━━\u001b[0m \u001b[1m0s\u001b[0m 13ms/step - acc: 1.0000 - loss: 0.2957 - metric_f1score: 1.0000\n",
      "Epoch 134: val_acc did not improve from 1.00000\n",
      "\u001b[1m8/8\u001b[0m \u001b[32m━━━━━━━━━━━━━━━━━━━━\u001b[0m\u001b[37m\u001b[0m \u001b[1m0s\u001b[0m 7ms/step - acc: 1.0000 - loss: 0.2949 - metric_f1score: 1.0000 - val_acc: 1.0000 - val_loss: 0.2930 - val_metric_f1score: 1.0000 - learning_rate: 0.0010\n",
      "Epoch 135/200\n",
      "\u001b[1m1/8\u001b[0m \u001b[32m━━\u001b[0m\u001b[37m━━━━━━━━━━━━━━━━━━\u001b[0m \u001b[1m0s\u001b[0m 14ms/step - acc: 1.0000 - loss: 0.2930 - metric_f1score: 1.0000\n",
      "Epoch 135: val_acc did not improve from 1.00000\n",
      "\u001b[1m8/8\u001b[0m \u001b[32m━━━━━━━━━━━━━━━━━━━━\u001b[0m\u001b[37m\u001b[0m \u001b[1m0s\u001b[0m 7ms/step - acc: 1.0000 - loss: 0.2944 - metric_f1score: 0.9987 - val_acc: 1.0000 - val_loss: 0.2907 - val_metric_f1score: 1.0000 - learning_rate: 0.0010\n",
      "Epoch 136/200\n",
      "\u001b[1m1/8\u001b[0m \u001b[32m━━\u001b[0m\u001b[37m━━━━━━━━━━━━━━━━━━\u001b[0m \u001b[1m0s\u001b[0m 13ms/step - acc: 1.0000 - loss: 0.2907 - metric_f1score: 1.0000\n",
      "Epoch 136: val_acc did not improve from 1.00000\n",
      "\u001b[1m8/8\u001b[0m \u001b[32m━━━━━━━━━━━━━━━━━━━━\u001b[0m\u001b[37m\u001b[0m \u001b[1m0s\u001b[0m 7ms/step - acc: 1.0000 - loss: 0.2902 - metric_f1score: 1.0000 - val_acc: 1.0000 - val_loss: 0.2885 - val_metric_f1score: 1.0000 - learning_rate: 0.0010\n",
      "Epoch 137/200\n",
      "\u001b[1m1/8\u001b[0m \u001b[32m━━\u001b[0m\u001b[37m━━━━━━━━━━━━━━━━━━\u001b[0m \u001b[1m0s\u001b[0m 13ms/step - acc: 1.0000 - loss: 0.2885 - metric_f1score: 1.0000\n",
      "Epoch 137: val_acc did not improve from 1.00000\n",
      "\u001b[1m8/8\u001b[0m \u001b[32m━━━━━━━━━━━━━━━━━━━━\u001b[0m\u001b[37m\u001b[0m \u001b[1m0s\u001b[0m 7ms/step - acc: 1.0000 - loss: 0.2880 - metric_f1score: 1.0000 - val_acc: 1.0000 - val_loss: 0.2863 - val_metric_f1score: 1.0000 - learning_rate: 0.0010\n",
      "Epoch 138/200\n",
      "\u001b[1m1/8\u001b[0m \u001b[32m━━\u001b[0m\u001b[37m━━━━━━━━━━━━━━━━━━\u001b[0m \u001b[1m0s\u001b[0m 14ms/step - acc: 1.0000 - loss: 0.2864 - metric_f1score: 1.0000\n",
      "Epoch 138: val_acc did not improve from 1.00000\n",
      "\u001b[1m8/8\u001b[0m \u001b[32m━━━━━━━━━━━━━━━━━━━━\u001b[0m\u001b[37m\u001b[0m \u001b[1m0s\u001b[0m 7ms/step - acc: 1.0000 - loss: 0.2858 - metric_f1score: 1.0000 - val_acc: 1.0000 - val_loss: 0.2841 - val_metric_f1score: 1.0000 - learning_rate: 0.0010\n",
      "Epoch 139/200\n",
      "\u001b[1m1/8\u001b[0m \u001b[32m━━\u001b[0m\u001b[37m━━━━━━━━━━━━━━━━━━\u001b[0m \u001b[1m0s\u001b[0m 14ms/step - acc: 1.0000 - loss: 0.2841 - metric_f1score: 1.0000\n",
      "Epoch 139: val_acc did not improve from 1.00000\n",
      "\u001b[1m8/8\u001b[0m \u001b[32m━━━━━━━━━━━━━━━━━━━━\u001b[0m\u001b[37m\u001b[0m \u001b[1m0s\u001b[0m 7ms/step - acc: 1.0000 - loss: 0.2838 - metric_f1score: 1.0000 - val_acc: 1.0000 - val_loss: 0.2820 - val_metric_f1score: 1.0000 - learning_rate: 0.0010\n",
      "Epoch 140/200\n",
      "\u001b[1m1/8\u001b[0m \u001b[32m━━\u001b[0m\u001b[37m━━━━━━━━━━━━━━━━━━\u001b[0m \u001b[1m0s\u001b[0m 13ms/step - acc: 1.0000 - loss: 0.2826 - metric_f1score: 1.0000\n",
      "Epoch 140: val_acc did not improve from 1.00000\n",
      "\u001b[1m8/8\u001b[0m \u001b[32m━━━━━━━━━━━━━━━━━━━━\u001b[0m\u001b[37m\u001b[0m \u001b[1m0s\u001b[0m 8ms/step - acc: 1.0000 - loss: 0.2817 - metric_f1score: 1.0000 - val_acc: 1.0000 - val_loss: 0.2798 - val_metric_f1score: 1.0000 - learning_rate: 0.0010\n",
      "Epoch 141/200\n",
      "\u001b[1m1/8\u001b[0m \u001b[32m━━\u001b[0m\u001b[37m━━━━━━━━━━━━━━━━━━\u001b[0m \u001b[1m0s\u001b[0m 13ms/step - acc: 1.0000 - loss: 0.2798 - metric_f1score: 1.0000\n",
      "Epoch 141: val_acc did not improve from 1.00000\n",
      "\u001b[1m8/8\u001b[0m \u001b[32m━━━━━━━━━━━━━━━━━━━━\u001b[0m\u001b[37m\u001b[0m \u001b[1m0s\u001b[0m 8ms/step - acc: 1.0000 - loss: 0.2793 - metric_f1score: 1.0000 - val_acc: 1.0000 - val_loss: 0.2777 - val_metric_f1score: 1.0000 - learning_rate: 0.0010\n",
      "Epoch 142/200\n",
      "\u001b[1m1/8\u001b[0m \u001b[32m━━\u001b[0m\u001b[37m━━━━━━━━━━━━━━━━━━\u001b[0m \u001b[1m0s\u001b[0m 13ms/step - acc: 1.0000 - loss: 0.2777 - metric_f1score: 1.0000\n",
      "Epoch 142: val_acc did not improve from 1.00000\n",
      "\u001b[1m8/8\u001b[0m \u001b[32m━━━━━━━━━━━━━━━━━━━━\u001b[0m\u001b[37m\u001b[0m \u001b[1m0s\u001b[0m 8ms/step - acc: 1.0000 - loss: 0.2773 - metric_f1score: 1.0000 - val_acc: 1.0000 - val_loss: 0.2756 - val_metric_f1score: 1.0000 - learning_rate: 0.0010\n",
      "Epoch 143/200\n",
      "\u001b[1m1/8\u001b[0m \u001b[32m━━\u001b[0m\u001b[37m━━━━━━━━━━━━━━━━━━\u001b[0m \u001b[1m0s\u001b[0m 13ms/step - acc: 1.0000 - loss: 0.2757 - metric_f1score: 1.0000\n",
      "Epoch 143: val_acc did not improve from 1.00000\n",
      "\u001b[1m8/8\u001b[0m \u001b[32m━━━━━━━━━━━━━━━━━━━━\u001b[0m\u001b[37m\u001b[0m \u001b[1m0s\u001b[0m 8ms/step - acc: 0.9980 - loss: 0.2776 - metric_f1score: 0.9981 - val_acc: 1.0000 - val_loss: 0.2735 - val_metric_f1score: 1.0000 - learning_rate: 0.0010\n",
      "Epoch 144/200\n",
      "\u001b[1m1/8\u001b[0m \u001b[32m━━\u001b[0m\u001b[37m━━━━━━━━━━━━━━━━━━\u001b[0m \u001b[1m0s\u001b[0m 14ms/step - acc: 1.0000 - loss: 0.2735 - metric_f1score: 1.0000\n",
      "Epoch 144: val_acc did not improve from 1.00000\n",
      "\u001b[1m8/8\u001b[0m \u001b[32m━━━━━━━━━━━━━━━━━━━━\u001b[0m\u001b[37m\u001b[0m \u001b[1m0s\u001b[0m 8ms/step - acc: 1.0000 - loss: 0.2760 - metric_f1score: 0.9982 - val_acc: 1.0000 - val_loss: 0.2714 - val_metric_f1score: 1.0000 - learning_rate: 0.0010\n",
      "Epoch 145/200\n",
      "\u001b[1m1/8\u001b[0m \u001b[32m━━\u001b[0m\u001b[37m━━━━━━━━━━━━━━━━━━\u001b[0m \u001b[1m0s\u001b[0m 14ms/step - acc: 1.0000 - loss: 0.2714 - metric_f1score: 1.0000\n",
      "Epoch 145: val_acc did not improve from 1.00000\n",
      "\u001b[1m8/8\u001b[0m \u001b[32m━━━━━━━━━━━━━━━━━━━━\u001b[0m\u001b[37m\u001b[0m \u001b[1m0s\u001b[0m 17ms/step - acc: 1.0000 - loss: 0.2710 - metric_f1score: 1.0000 - val_acc: 1.0000 - val_loss: 0.2694 - val_metric_f1score: 1.0000 - learning_rate: 0.0010\n",
      "Epoch 146/200\n",
      "\u001b[1m1/8\u001b[0m \u001b[32m━━\u001b[0m\u001b[37m━━━━━━━━━━━━━━━━━━\u001b[0m \u001b[1m0s\u001b[0m 21ms/step - acc: 1.0000 - loss: 0.2694 - metric_f1score: 1.0000\n",
      "Epoch 146: val_acc did not improve from 1.00000\n",
      "\u001b[1m8/8\u001b[0m \u001b[32m━━━━━━━━━━━━━━━━━━━━\u001b[0m\u001b[37m\u001b[0m \u001b[1m0s\u001b[0m 10ms/step - acc: 1.0000 - loss: 0.2693 - metric_f1score: 1.0000 - val_acc: 1.0000 - val_loss: 0.2674 - val_metric_f1score: 1.0000 - learning_rate: 0.0010\n",
      "Epoch 147/200\n",
      "\u001b[1m1/8\u001b[0m \u001b[32m━━\u001b[0m\u001b[37m━━━━━━━━━━━━━━━━━━\u001b[0m \u001b[1m0s\u001b[0m 16ms/step - acc: 1.0000 - loss: 0.2674 - metric_f1score: 1.0000\n",
      "Epoch 147: val_acc did not improve from 1.00000\n",
      "\u001b[1m8/8\u001b[0m \u001b[32m━━━━━━━━━━━━━━━━━━━━\u001b[0m\u001b[37m\u001b[0m \u001b[1m0s\u001b[0m 8ms/step - acc: 1.0000 - loss: 0.2670 - metric_f1score: 1.0000 - val_acc: 1.0000 - val_loss: 0.2654 - val_metric_f1score: 1.0000 - learning_rate: 0.0010\n",
      "Epoch 148/200\n",
      "\u001b[1m1/8\u001b[0m \u001b[32m━━\u001b[0m\u001b[37m━━━━━━━━━━━━━━━━━━\u001b[0m \u001b[1m0s\u001b[0m 17ms/step - acc: 1.0000 - loss: 0.2654 - metric_f1score: 1.0000\n",
      "Epoch 148: val_acc did not improve from 1.00000\n",
      "\u001b[1m8/8\u001b[0m \u001b[32m━━━━━━━━━━━━━━━━━━━━\u001b[0m\u001b[37m\u001b[0m \u001b[1m0s\u001b[0m 8ms/step - acc: 1.0000 - loss: 0.2653 - metric_f1score: 1.0000 - val_acc: 1.0000 - val_loss: 0.2634 - val_metric_f1score: 1.0000 - learning_rate: 0.0010\n",
      "Epoch 149/200\n",
      "\u001b[1m1/8\u001b[0m \u001b[32m━━\u001b[0m\u001b[37m━━━━━━━━━━━━━━━━━━\u001b[0m \u001b[1m0s\u001b[0m 16ms/step - acc: 1.0000 - loss: 0.2634 - metric_f1score: 1.0000\n",
      "Epoch 149: val_acc did not improve from 1.00000\n",
      "\u001b[1m8/8\u001b[0m \u001b[32m━━━━━━━━━━━━━━━━━━━━\u001b[0m\u001b[37m\u001b[0m \u001b[1m0s\u001b[0m 8ms/step - acc: 1.0000 - loss: 0.2633 - metric_f1score: 1.0000 - val_acc: 1.0000 - val_loss: 0.2615 - val_metric_f1score: 1.0000 - learning_rate: 0.0010\n",
      "Epoch 150/200\n",
      "\u001b[1m1/8\u001b[0m \u001b[32m━━\u001b[0m\u001b[37m━━━━━━━━━━━━━━━━━━\u001b[0m \u001b[1m0s\u001b[0m 15ms/step - acc: 1.0000 - loss: 0.2615 - metric_f1score: 1.0000\n",
      "Epoch 150: val_acc did not improve from 1.00000\n",
      "\u001b[1m8/8\u001b[0m \u001b[32m━━━━━━━━━━━━━━━━━━━━\u001b[0m\u001b[37m\u001b[0m \u001b[1m0s\u001b[0m 9ms/step - acc: 1.0000 - loss: 0.2612 - metric_f1score: 1.0000 - val_acc: 1.0000 - val_loss: 0.2595 - val_metric_f1score: 1.0000 - learning_rate: 0.0010\n",
      "Epoch 151/200\n",
      "\u001b[1m1/8\u001b[0m \u001b[32m━━\u001b[0m\u001b[37m━━━━━━━━━━━━━━━━━━\u001b[0m \u001b[1m0s\u001b[0m 17ms/step - acc: 1.0000 - loss: 0.2595 - metric_f1score: 1.0000\n",
      "Epoch 151: val_acc did not improve from 1.00000\n",
      "\u001b[1m8/8\u001b[0m \u001b[32m━━━━━━━━━━━━━━━━━━━━\u001b[0m\u001b[37m\u001b[0m \u001b[1m0s\u001b[0m 10ms/step - acc: 1.0000 - loss: 0.2591 - metric_f1score: 1.0000 - val_acc: 1.0000 - val_loss: 0.2576 - val_metric_f1score: 1.0000 - learning_rate: 0.0010\n",
      "Epoch 152/200\n",
      "\u001b[1m1/8\u001b[0m \u001b[32m━━\u001b[0m\u001b[37m━━━━━━━━━━━━━━━━━━\u001b[0m \u001b[1m0s\u001b[0m 17ms/step - acc: 1.0000 - loss: 0.2576 - metric_f1score: 1.0000\n",
      "Epoch 152: val_acc did not improve from 1.00000\n",
      "\u001b[1m8/8\u001b[0m \u001b[32m━━━━━━━━━━━━━━━━━━━━\u001b[0m\u001b[37m\u001b[0m \u001b[1m0s\u001b[0m 8ms/step - acc: 0.9990 - loss: 0.2588 - metric_f1score: 0.9981 - val_acc: 1.0000 - val_loss: 0.2557 - val_metric_f1score: 1.0000 - learning_rate: 0.0010\n",
      "Epoch 153/200\n",
      "\u001b[1m1/8\u001b[0m \u001b[32m━━\u001b[0m\u001b[37m━━━━━━━━━━━━━━━━━━\u001b[0m \u001b[1m0s\u001b[0m 14ms/step - acc: 1.0000 - loss: 0.2702 - metric_f1score: 1.0000\n",
      "Epoch 153: val_acc did not improve from 1.00000\n",
      "\u001b[1m8/8\u001b[0m \u001b[32m━━━━━━━━━━━━━━━━━━━━\u001b[0m\u001b[37m\u001b[0m \u001b[1m0s\u001b[0m 7ms/step - acc: 1.0000 - loss: 0.2600 - metric_f1score: 1.0000 - val_acc: 1.0000 - val_loss: 0.2540 - val_metric_f1score: 1.0000 - learning_rate: 0.0010\n",
      "Epoch 154/200\n",
      "\u001b[1m1/8\u001b[0m \u001b[32m━━\u001b[0m\u001b[37m━━━━━━━━━━━━━━━━━━\u001b[0m \u001b[1m0s\u001b[0m 12ms/step - acc: 1.0000 - loss: 0.2540 - metric_f1score: 1.0000\n",
      "Epoch 154: val_acc did not improve from 1.00000\n",
      "\u001b[1m8/8\u001b[0m \u001b[32m━━━━━━━━━━━━━━━━━━━━\u001b[0m\u001b[37m\u001b[0m \u001b[1m0s\u001b[0m 7ms/step - acc: 1.0000 - loss: 0.2536 - metric_f1score: 1.0000 - val_acc: 1.0000 - val_loss: 0.2523 - val_metric_f1score: 1.0000 - learning_rate: 0.0010\n",
      "Epoch 155/200\n",
      "\u001b[1m1/8\u001b[0m \u001b[32m━━\u001b[0m\u001b[37m━━━━━━━━━━━━━━━━━━\u001b[0m \u001b[1m0s\u001b[0m 13ms/step - acc: 1.0000 - loss: 0.2527 - metric_f1score: 1.0000\n",
      "Epoch 155: val_acc did not improve from 1.00000\n",
      "\u001b[1m8/8\u001b[0m \u001b[32m━━━━━━━━━━━━━━━━━━━━\u001b[0m\u001b[37m\u001b[0m \u001b[1m0s\u001b[0m 7ms/step - acc: 1.0000 - loss: 0.2520 - metric_f1score: 1.0000 - val_acc: 1.0000 - val_loss: 0.2505 - val_metric_f1score: 1.0000 - learning_rate: 0.0010\n",
      "Epoch 156/200\n",
      "\u001b[1m1/8\u001b[0m \u001b[32m━━\u001b[0m\u001b[37m━━━━━━━━━━━━━━━━━━\u001b[0m \u001b[1m0s\u001b[0m 13ms/step - acc: 1.0000 - loss: 0.2505 - metric_f1score: 1.0000\n",
      "Epoch 156: val_acc did not improve from 1.00000\n",
      "\u001b[1m8/8\u001b[0m \u001b[32m━━━━━━━━━━━━━━━━━━━━\u001b[0m\u001b[37m\u001b[0m \u001b[1m0s\u001b[0m 7ms/step - acc: 1.0000 - loss: 0.2505 - metric_f1score: 1.0000 - val_acc: 1.0000 - val_loss: 0.2486 - val_metric_f1score: 1.0000 - learning_rate: 0.0010\n",
      "Epoch 157/200\n",
      "\u001b[1m1/8\u001b[0m \u001b[32m━━\u001b[0m\u001b[37m━━━━━━━━━━━━━━━━━━\u001b[0m \u001b[1m0s\u001b[0m 12ms/step - acc: 1.0000 - loss: 0.2487 - metric_f1score: 1.0000\n",
      "Epoch 157: val_acc did not improve from 1.00000\n",
      "\u001b[1m8/8\u001b[0m \u001b[32m━━━━━━━━━━━━━━━━━━━━\u001b[0m\u001b[37m\u001b[0m \u001b[1m0s\u001b[0m 7ms/step - acc: 1.0000 - loss: 0.2485 - metric_f1score: 1.0000 - val_acc: 1.0000 - val_loss: 0.2468 - val_metric_f1score: 1.0000 - learning_rate: 0.0010\n",
      "Epoch 158/200\n",
      "\u001b[1m1/8\u001b[0m \u001b[32m━━\u001b[0m\u001b[37m━━━━━━━━━━━━━━━━━━\u001b[0m \u001b[1m0s\u001b[0m 12ms/step - acc: 1.0000 - loss: 0.2553 - metric_f1score: 1.0000\n",
      "Epoch 158: val_acc did not improve from 1.00000\n",
      "\u001b[1m8/8\u001b[0m \u001b[32m━━━━━━━━━━━━━━━━━━━━\u001b[0m\u001b[37m\u001b[0m \u001b[1m0s\u001b[0m 7ms/step - acc: 1.0000 - loss: 0.2493 - metric_f1score: 1.0000 - val_acc: 1.0000 - val_loss: 0.2450 - val_metric_f1score: 1.0000 - learning_rate: 0.0010\n",
      "Epoch 159/200\n",
      "\u001b[1m1/8\u001b[0m \u001b[32m━━\u001b[0m\u001b[37m━━━━━━━━━━━━━━━━━━\u001b[0m \u001b[1m0s\u001b[0m 13ms/step - acc: 1.0000 - loss: 0.2450 - metric_f1score: 1.0000\n",
      "Epoch 159: val_acc did not improve from 1.00000\n",
      "\u001b[1m8/8\u001b[0m \u001b[32m━━━━━━━━━━━━━━━━━━━━\u001b[0m\u001b[37m\u001b[0m \u001b[1m0s\u001b[0m 7ms/step - acc: 1.0000 - loss: 0.2449 - metric_f1score: 1.0000 - val_acc: 1.0000 - val_loss: 0.2432 - val_metric_f1score: 1.0000 - learning_rate: 0.0010\n",
      "Epoch 160/200\n",
      "\u001b[1m1/8\u001b[0m \u001b[32m━━\u001b[0m\u001b[37m━━━━━━━━━━━━━━━━━━\u001b[0m \u001b[1m0s\u001b[0m 13ms/step - acc: 1.0000 - loss: 0.2432 - metric_f1score: 1.0000\n",
      "Epoch 160: val_acc did not improve from 1.00000\n",
      "\u001b[1m8/8\u001b[0m \u001b[32m━━━━━━━━━━━━━━━━━━━━\u001b[0m\u001b[37m\u001b[0m \u001b[1m0s\u001b[0m 15ms/step - acc: 0.9935 - loss: 0.2548 - metric_f1score: 0.9936 - val_acc: 1.0000 - val_loss: 0.2414 - val_metric_f1score: 1.0000 - learning_rate: 0.0010\n",
      "Epoch 161/200\n",
      "\u001b[1m1/8\u001b[0m \u001b[32m━━\u001b[0m\u001b[37m━━━━━━━━━━━━━━━━━━\u001b[0m \u001b[1m0s\u001b[0m 13ms/step - acc: 1.0000 - loss: 0.2414 - metric_f1score: 1.0000\n",
      "Epoch 161: val_acc did not improve from 1.00000\n",
      "\u001b[1m8/8\u001b[0m \u001b[32m━━━━━━━━━━━━━━━━━━━━\u001b[0m\u001b[37m\u001b[0m \u001b[1m0s\u001b[0m 8ms/step - acc: 1.0000 - loss: 0.2411 - metric_f1score: 1.0000 - val_acc: 1.0000 - val_loss: 0.2397 - val_metric_f1score: 1.0000 - learning_rate: 0.0010\n",
      "Epoch 162/200\n",
      "\u001b[1m1/8\u001b[0m \u001b[32m━━\u001b[0m\u001b[37m━━━━━━━━━━━━━━━━━━\u001b[0m \u001b[1m0s\u001b[0m 12ms/step - acc: 1.0000 - loss: 0.2397 - metric_f1score: 1.0000\n",
      "Epoch 162: val_acc did not improve from 1.00000\n",
      "\u001b[1m8/8\u001b[0m \u001b[32m━━━━━━━━━━━━━━━━━━━━\u001b[0m\u001b[37m\u001b[0m \u001b[1m0s\u001b[0m 7ms/step - acc: 1.0000 - loss: 0.2393 - metric_f1score: 1.0000 - val_acc: 1.0000 - val_loss: 0.2379 - val_metric_f1score: 1.0000 - learning_rate: 0.0010\n",
      "Epoch 163/200\n",
      "\u001b[1m1/8\u001b[0m \u001b[32m━━\u001b[0m\u001b[37m━━━━━━━━━━━━━━━━━━\u001b[0m \u001b[1m0s\u001b[0m 12ms/step - acc: 1.0000 - loss: 0.2379 - metric_f1score: 1.0000\n",
      "Epoch 163: val_acc did not improve from 1.00000\n",
      "\u001b[1m8/8\u001b[0m \u001b[32m━━━━━━━━━━━━━━━━━━━━\u001b[0m\u001b[37m\u001b[0m \u001b[1m0s\u001b[0m 7ms/step - acc: 1.0000 - loss: 0.2377 - metric_f1score: 1.0000 - val_acc: 1.0000 - val_loss: 0.2362 - val_metric_f1score: 1.0000 - learning_rate: 0.0010\n",
      "Epoch 164/200\n",
      "\u001b[1m1/8\u001b[0m \u001b[32m━━\u001b[0m\u001b[37m━━━━━━━━━━━━━━━━━━\u001b[0m \u001b[1m0s\u001b[0m 13ms/step - acc: 1.0000 - loss: 0.2362 - metric_f1score: 1.0000\n",
      "Epoch 164: val_acc did not improve from 1.00000\n",
      "\u001b[1m8/8\u001b[0m \u001b[32m━━━━━━━━━━━━━━━━━━━━\u001b[0m\u001b[37m\u001b[0m \u001b[1m0s\u001b[0m 7ms/step - acc: 1.0000 - loss: 0.2359 - metric_f1score: 1.0000 - val_acc: 1.0000 - val_loss: 0.2345 - val_metric_f1score: 1.0000 - learning_rate: 0.0010\n",
      "Epoch 165/200\n",
      "\u001b[1m1/8\u001b[0m \u001b[32m━━\u001b[0m\u001b[37m━━━━━━━━━━━━━━━━━━\u001b[0m \u001b[1m0s\u001b[0m 12ms/step - acc: 1.0000 - loss: 0.2345 - metric_f1score: 1.0000\n",
      "Epoch 165: val_acc did not improve from 1.00000\n",
      "\u001b[1m8/8\u001b[0m \u001b[32m━━━━━━━━━━━━━━━━━━━━\u001b[0m\u001b[37m\u001b[0m \u001b[1m0s\u001b[0m 8ms/step - acc: 1.0000 - loss: 0.2348 - metric_f1score: 1.0000 - val_acc: 1.0000 - val_loss: 0.2328 - val_metric_f1score: 1.0000 - learning_rate: 0.0010\n",
      "Epoch 166/200\n",
      "\u001b[1m1/8\u001b[0m \u001b[32m━━\u001b[0m\u001b[37m━━━━━━━━━━━━━━━━━━\u001b[0m \u001b[1m0s\u001b[0m 14ms/step - acc: 1.0000 - loss: 0.2328 - metric_f1score: 1.0000\n",
      "Epoch 166: val_acc did not improve from 1.00000\n",
      "\u001b[1m8/8\u001b[0m \u001b[32m━━━━━━━━━━━━━━━━━━━━\u001b[0m\u001b[37m\u001b[0m \u001b[1m0s\u001b[0m 7ms/step - acc: 1.0000 - loss: 0.2324 - metric_f1score: 1.0000 - val_acc: 1.0000 - val_loss: 0.2311 - val_metric_f1score: 1.0000 - learning_rate: 0.0010\n",
      "Epoch 167/200\n",
      "\u001b[1m1/8\u001b[0m \u001b[32m━━\u001b[0m\u001b[37m━━━━━━━━━━━━━━━━━━\u001b[0m \u001b[1m0s\u001b[0m 12ms/step - acc: 1.0000 - loss: 0.2311 - metric_f1score: 1.0000\n",
      "Epoch 167: val_acc did not improve from 1.00000\n",
      "\u001b[1m8/8\u001b[0m \u001b[32m━━━━━━━━━━━━━━━━━━━━\u001b[0m\u001b[37m\u001b[0m \u001b[1m0s\u001b[0m 8ms/step - acc: 0.9985 - loss: 0.2346 - metric_f1score: 0.9993 - val_acc: 1.0000 - val_loss: 0.2294 - val_metric_f1score: 1.0000 - learning_rate: 0.0010\n",
      "Epoch 168/200\n",
      "\u001b[1m1/8\u001b[0m \u001b[32m━━\u001b[0m\u001b[37m━━━━━━━━━━━━━━━━━━\u001b[0m \u001b[1m0s\u001b[0m 15ms/step - acc: 1.0000 - loss: 0.2294 - metric_f1score: 1.0000\n",
      "Epoch 168: val_acc did not improve from 1.00000\n",
      "\u001b[1m8/8\u001b[0m \u001b[32m━━━━━━━━━━━━━━━━━━━━\u001b[0m\u001b[37m\u001b[0m \u001b[1m0s\u001b[0m 8ms/step - acc: 1.0000 - loss: 0.2315 - metric_f1score: 0.9987 - val_acc: 1.0000 - val_loss: 0.2278 - val_metric_f1score: 1.0000 - learning_rate: 0.0010\n",
      "Epoch 169/200\n",
      "\u001b[1m1/8\u001b[0m \u001b[32m━━\u001b[0m\u001b[37m━━━━━━━━━━━━━━━━━━\u001b[0m \u001b[1m0s\u001b[0m 13ms/step - acc: 1.0000 - loss: 0.2278 - metric_f1score: 1.0000\n",
      "Epoch 169: val_acc did not improve from 1.00000\n",
      "\u001b[1m8/8\u001b[0m \u001b[32m━━━━━━━━━━━━━━━━━━━━\u001b[0m\u001b[37m\u001b[0m \u001b[1m0s\u001b[0m 8ms/step - acc: 0.9964 - loss: 0.2305 - metric_f1score: 0.9965 - val_acc: 1.0000 - val_loss: 0.2263 - val_metric_f1score: 1.0000 - learning_rate: 0.0010\n",
      "Epoch 170/200\n",
      "\u001b[1m1/8\u001b[0m \u001b[32m━━\u001b[0m\u001b[37m━━━━━━━━━━━━━━━━━━\u001b[0m \u001b[1m0s\u001b[0m 15ms/step - acc: 1.0000 - loss: 0.2263 - metric_f1score: 1.0000\n",
      "Epoch 170: val_acc did not improve from 1.00000\n",
      "\u001b[1m8/8\u001b[0m \u001b[32m━━━━━━━━━━━━━━━━━━━━\u001b[0m\u001b[37m\u001b[0m \u001b[1m0s\u001b[0m 8ms/step - acc: 1.0000 - loss: 0.2268 - metric_f1score: 1.0000 - val_acc: 1.0000 - val_loss: 0.2249 - val_metric_f1score: 1.0000 - learning_rate: 0.0010\n",
      "Epoch 171/200\n",
      "\u001b[1m1/8\u001b[0m \u001b[32m━━\u001b[0m\u001b[37m━━━━━━━━━━━━━━━━━━\u001b[0m \u001b[1m0s\u001b[0m 14ms/step - acc: 1.0000 - loss: 0.2249 - metric_f1score: 1.0000\n",
      "Epoch 171: val_acc did not improve from 1.00000\n",
      "\u001b[1m8/8\u001b[0m \u001b[32m━━━━━━━━━━━━━━━━━━━━\u001b[0m\u001b[37m\u001b[0m \u001b[1m0s\u001b[0m 9ms/step - acc: 1.0000 - loss: 0.2247 - metric_f1score: 1.0000 - val_acc: 1.0000 - val_loss: 0.2234 - val_metric_f1score: 1.0000 - learning_rate: 0.0010\n",
      "Epoch 172/200\n",
      "\u001b[1m1/8\u001b[0m \u001b[32m━━\u001b[0m\u001b[37m━━━━━━━━━━━━━━━━━━\u001b[0m \u001b[1m0s\u001b[0m 17ms/step - acc: 1.0000 - loss: 0.2234 - metric_f1score: 1.0000\n",
      "Epoch 172: val_acc did not improve from 1.00000\n",
      "\u001b[1m8/8\u001b[0m \u001b[32m━━━━━━━━━━━━━━━━━━━━\u001b[0m\u001b[37m\u001b[0m \u001b[1m0s\u001b[0m 7ms/step - acc: 0.9589 - loss: 0.9256 - metric_f1score: 0.9600 - val_acc: 1.0000 - val_loss: 0.2285 - val_metric_f1score: 1.0000 - learning_rate: 0.0010\n",
      "Epoch 173/200\n",
      "\u001b[1m1/8\u001b[0m \u001b[32m━━\u001b[0m\u001b[37m━━━━━━━━━━━━━━━━━━\u001b[0m \u001b[1m0s\u001b[0m 13ms/step - acc: 1.0000 - loss: 0.2675 - metric_f1score: 0.9841\n",
      "Epoch 173: val_acc did not improve from 1.00000\n",
      "\u001b[1m8/8\u001b[0m \u001b[32m━━━━━━━━━━━━━━━━━━━━\u001b[0m\u001b[37m\u001b[0m \u001b[1m0s\u001b[0m 7ms/step - acc: 0.9484 - loss: 0.4854 - metric_f1score: 0.9442 - val_acc: 1.0000 - val_loss: 0.2626 - val_metric_f1score: 1.0000 - learning_rate: 0.0010\n",
      "Epoch 174/200\n",
      "\u001b[1m1/8\u001b[0m \u001b[32m━━\u001b[0m\u001b[37m━━━━━━━━━━━━━━━━━━\u001b[0m \u001b[1m0s\u001b[0m 13ms/step - acc: 0.9375 - loss: 0.4071 - metric_f1score: 0.9206\n",
      "Epoch 174: val_acc did not improve from 1.00000\n",
      "\u001b[1m8/8\u001b[0m \u001b[32m━━━━━━━━━━━━━━━━━━━━\u001b[0m\u001b[37m\u001b[0m \u001b[1m0s\u001b[0m 7ms/step - acc: 0.9780 - loss: 0.3091 - metric_f1score: 0.9730 - val_acc: 1.0000 - val_loss: 0.2510 - val_metric_f1score: 1.0000 - learning_rate: 0.0010\n",
      "Epoch 175/200\n",
      "\u001b[1m1/8\u001b[0m \u001b[32m━━\u001b[0m\u001b[37m━━━━━━━━━━━━━━━━━━\u001b[0m \u001b[1m0s\u001b[0m 16ms/step - acc: 0.9688 - loss: 0.2816 - metric_f1score: 0.9688\n",
      "Epoch 175: val_acc did not improve from 1.00000\n",
      "\u001b[1m8/8\u001b[0m \u001b[32m━━━━━━━━━━━━━━━━━━━━\u001b[0m\u001b[37m\u001b[0m \u001b[1m0s\u001b[0m 14ms/step - acc: 0.9864 - loss: 0.2832 - metric_f1score: 0.9848 - val_acc: 1.0000 - val_loss: 0.2538 - val_metric_f1score: 1.0000 - learning_rate: 0.0010\n",
      "Epoch 176/200\n",
      "\u001b[1m1/8\u001b[0m \u001b[32m━━\u001b[0m\u001b[37m━━━━━━━━━━━━━━━━━━\u001b[0m \u001b[1m0s\u001b[0m 21ms/step - acc: 0.9688 - loss: 0.3246 - metric_f1score: 0.9841\n",
      "Epoch 176: val_acc did not improve from 1.00000\n",
      "\u001b[1m8/8\u001b[0m \u001b[32m━━━━━━━━━━━━━━━━━━━━\u001b[0m\u001b[37m\u001b[0m \u001b[1m0s\u001b[0m 8ms/step - acc: 0.9836 - loss: 0.2840 - metric_f1score: 0.9886 - val_acc: 1.0000 - val_loss: 0.2532 - val_metric_f1score: 1.0000 - learning_rate: 0.0010\n",
      "Epoch 177/200\n",
      "\u001b[1m1/8\u001b[0m \u001b[32m━━\u001b[0m\u001b[37m━━━━━━━━━━━━━━━━━━\u001b[0m \u001b[1m0s\u001b[0m 13ms/step - acc: 1.0000 - loss: 0.2537 - metric_f1score: 1.0000\n",
      "Epoch 177: val_acc did not improve from 1.00000\n",
      "\u001b[1m8/8\u001b[0m \u001b[32m━━━━━━━━━━━━━━━━━━━━\u001b[0m\u001b[37m\u001b[0m \u001b[1m0s\u001b[0m 7ms/step - acc: 1.0000 - loss: 0.2604 - metric_f1score: 0.9967 - val_acc: 1.0000 - val_loss: 0.2511 - val_metric_f1score: 1.0000 - learning_rate: 0.0010\n",
      "Epoch 178/200\n",
      "\u001b[1m1/8\u001b[0m \u001b[32m━━\u001b[0m\u001b[37m━━━━━━━━━━━━━━━━━━\u001b[0m \u001b[1m0s\u001b[0m 13ms/step - acc: 1.0000 - loss: 0.2511 - metric_f1score: 1.0000\n",
      "Epoch 178: val_acc did not improve from 1.00000\n",
      "\u001b[1m8/8\u001b[0m \u001b[32m━━━━━━━━━━━━━━━━━━━━\u001b[0m\u001b[37m\u001b[0m \u001b[1m0s\u001b[0m 7ms/step - acc: 1.0000 - loss: 0.2529 - metric_f1score: 1.0000 - val_acc: 1.0000 - val_loss: 0.2485 - val_metric_f1score: 1.0000 - learning_rate: 0.0010\n",
      "Epoch 179/200\n",
      "\u001b[1m1/8\u001b[0m \u001b[32m━━\u001b[0m\u001b[37m━━━━━━━━━━━━━━━━━━\u001b[0m \u001b[1m0s\u001b[0m 13ms/step - acc: 1.0000 - loss: 0.2485 - metric_f1score: 1.0000\n",
      "Epoch 179: val_acc did not improve from 1.00000\n",
      "\u001b[1m8/8\u001b[0m \u001b[32m━━━━━━━━━━━━━━━━━━━━\u001b[0m\u001b[37m\u001b[0m \u001b[1m0s\u001b[0m 7ms/step - acc: 0.9980 - loss: 0.2583 - metric_f1score: 0.9948 - val_acc: 1.0000 - val_loss: 0.2459 - val_metric_f1score: 1.0000 - learning_rate: 0.0010\n",
      "Epoch 180/200\n",
      "\u001b[1m1/8\u001b[0m \u001b[32m━━\u001b[0m\u001b[37m━━━━━━━━━━━━━━━━━━\u001b[0m \u001b[1m0s\u001b[0m 21ms/step - acc: 1.0000 - loss: 0.2460 - metric_f1score: 1.0000\n",
      "Epoch 180: val_acc did not improve from 1.00000\n",
      "\u001b[1m8/8\u001b[0m \u001b[32m━━━━━━━━━━━━━━━━━━━━\u001b[0m\u001b[37m\u001b[0m \u001b[1m0s\u001b[0m 7ms/step - acc: 1.0000 - loss: 0.2459 - metric_f1score: 1.0000 - val_acc: 1.0000 - val_loss: 0.2433 - val_metric_f1score: 1.0000 - learning_rate: 0.0010\n",
      "Epoch 181/200\n",
      "\u001b[1m1/8\u001b[0m \u001b[32m━━\u001b[0m\u001b[37m━━━━━━━━━━━━━━━━━━\u001b[0m \u001b[1m0s\u001b[0m 13ms/step - acc: 0.9688 - loss: 0.2888 - metric_f1score: 0.9688\n",
      "Epoch 181: val_acc did not improve from 1.00000\n",
      "\u001b[1m8/8\u001b[0m \u001b[32m━━━━━━━━━━━━━━━━━━━━\u001b[0m\u001b[37m\u001b[0m \u001b[1m0s\u001b[0m 8ms/step - acc: 0.9900 - loss: 0.2599 - metric_f1score: 0.9901 - val_acc: 1.0000 - val_loss: 0.2408 - val_metric_f1score: 1.0000 - learning_rate: 0.0010\n",
      "Epoch 182/200\n",
      "\u001b[1m1/8\u001b[0m \u001b[32m━━\u001b[0m\u001b[37m━━━━━━━━━━━━━━━━━━\u001b[0m \u001b[1m0s\u001b[0m 13ms/step - acc: 1.0000 - loss: 0.2408 - metric_f1score: 1.0000\n",
      "Epoch 182: val_acc did not improve from 1.00000\n",
      "\u001b[1m8/8\u001b[0m \u001b[32m━━━━━━━━━━━━━━━━━━━━\u001b[0m\u001b[37m\u001b[0m \u001b[1m0s\u001b[0m 7ms/step - acc: 1.0000 - loss: 0.2416 - metric_f1score: 1.0000 - val_acc: 1.0000 - val_loss: 0.2385 - val_metric_f1score: 1.0000 - learning_rate: 0.0010\n",
      "Epoch 183/200\n",
      "\u001b[1m1/8\u001b[0m \u001b[32m━━\u001b[0m\u001b[37m━━━━━━━━━━━━━━━━━━\u001b[0m \u001b[1m0s\u001b[0m 14ms/step - acc: 1.0000 - loss: 0.2385 - metric_f1score: 1.0000\n",
      "Epoch 183: val_acc did not improve from 1.00000\n",
      "\u001b[1m8/8\u001b[0m \u001b[32m━━━━━━━━━━━━━━━━━━━━\u001b[0m\u001b[37m\u001b[0m \u001b[1m0s\u001b[0m 8ms/step - acc: 1.0000 - loss: 0.2389 - metric_f1score: 1.0000 - val_acc: 1.0000 - val_loss: 0.2363 - val_metric_f1score: 1.0000 - learning_rate: 0.0010\n",
      "Epoch 184/200\n",
      "\u001b[1m1/8\u001b[0m \u001b[32m━━\u001b[0m\u001b[37m━━━━━━━━━━━━━━━━━━\u001b[0m \u001b[1m0s\u001b[0m 13ms/step - acc: 1.0000 - loss: 0.2363 - metric_f1score: 1.0000\n",
      "Epoch 184: val_acc did not improve from 1.00000\n",
      "\u001b[1m8/8\u001b[0m \u001b[32m━━━━━━━━━━━━━━━━━━━━\u001b[0m\u001b[37m\u001b[0m \u001b[1m0s\u001b[0m 7ms/step - acc: 1.0000 - loss: 0.2367 - metric_f1score: 1.0000 - val_acc: 1.0000 - val_loss: 0.2342 - val_metric_f1score: 1.0000 - learning_rate: 0.0010\n",
      "Epoch 185/200\n",
      "\u001b[1m1/8\u001b[0m \u001b[32m━━\u001b[0m\u001b[37m━━━━━━━━━━━━━━━━━━\u001b[0m \u001b[1m0s\u001b[0m 14ms/step - acc: 1.0000 - loss: 0.2342 - metric_f1score: 1.0000\n",
      "Epoch 185: val_acc did not improve from 1.00000\n",
      "\u001b[1m8/8\u001b[0m \u001b[32m━━━━━━━━━━━━━━━━━━━━\u001b[0m\u001b[37m\u001b[0m \u001b[1m0s\u001b[0m 8ms/step - acc: 1.0000 - loss: 0.2337 - metric_f1score: 1.0000 - val_acc: 1.0000 - val_loss: 0.2322 - val_metric_f1score: 1.0000 - learning_rate: 0.0010\n",
      "Epoch 186/200\n",
      "\u001b[1m1/8\u001b[0m \u001b[32m━━\u001b[0m\u001b[37m━━━━━━━━━━━━━━━━━━\u001b[0m \u001b[1m0s\u001b[0m 14ms/step - acc: 1.0000 - loss: 0.2349 - metric_f1score: 1.0000\n",
      "Epoch 186: val_acc did not improve from 1.00000\n",
      "\u001b[1m8/8\u001b[0m \u001b[32m━━━━━━━━━━━━━━━━━━━━\u001b[0m\u001b[37m\u001b[0m \u001b[1m0s\u001b[0m 7ms/step - acc: 1.0000 - loss: 0.2327 - metric_f1score: 1.0000 - val_acc: 1.0000 - val_loss: 0.2301 - val_metric_f1score: 1.0000 - learning_rate: 0.0010\n",
      "Epoch 187/200\n",
      "\u001b[1m1/8\u001b[0m \u001b[32m━━\u001b[0m\u001b[37m━━━━━━━━━━━━━━━━━━\u001b[0m \u001b[1m0s\u001b[0m 13ms/step - acc: 1.0000 - loss: 0.2450 - metric_f1score: 1.0000\n",
      "Epoch 187: val_acc did not improve from 1.00000\n",
      "\u001b[1m8/8\u001b[0m \u001b[32m━━━━━━━━━━━━━━━━━━━━\u001b[0m\u001b[37m\u001b[0m \u001b[1m0s\u001b[0m 7ms/step - acc: 1.0000 - loss: 0.2344 - metric_f1score: 1.0000 - val_acc: 1.0000 - val_loss: 0.2281 - val_metric_f1score: 1.0000 - learning_rate: 0.0010\n",
      "Epoch 188/200\n",
      "\u001b[1m1/8\u001b[0m \u001b[32m━━\u001b[0m\u001b[37m━━━━━━━━━━━━━━━━━━\u001b[0m \u001b[1m0s\u001b[0m 13ms/step - acc: 1.0000 - loss: 0.2281 - metric_f1score: 1.0000\n",
      "Epoch 188: val_acc did not improve from 1.00000\n",
      "\u001b[1m8/8\u001b[0m \u001b[32m━━━━━━━━━━━━━━━━━━━━\u001b[0m\u001b[37m\u001b[0m \u001b[1m0s\u001b[0m 8ms/step - acc: 1.0000 - loss: 0.2277 - metric_f1score: 1.0000 - val_acc: 1.0000 - val_loss: 0.2262 - val_metric_f1score: 1.0000 - learning_rate: 0.0010\n",
      "Epoch 189/200\n",
      "\u001b[1m1/8\u001b[0m \u001b[32m━━\u001b[0m\u001b[37m━━━━━━━━━━━━━━━━━━\u001b[0m \u001b[1m0s\u001b[0m 13ms/step - acc: 1.0000 - loss: 0.2262 - metric_f1score: 1.0000\n",
      "Epoch 189: val_acc did not improve from 1.00000\n",
      "\u001b[1m8/8\u001b[0m \u001b[32m━━━━━━━━━━━━━━━━━━━━\u001b[0m\u001b[37m\u001b[0m \u001b[1m0s\u001b[0m 7ms/step - acc: 1.0000 - loss: 0.2261 - metric_f1score: 1.0000 - val_acc: 1.0000 - val_loss: 0.2243 - val_metric_f1score: 1.0000 - learning_rate: 0.0010\n",
      "Epoch 190/200\n",
      "\u001b[1m1/8\u001b[0m \u001b[32m━━\u001b[0m\u001b[37m━━━━━━━━━━━━━━━━━━\u001b[0m \u001b[1m0s\u001b[0m 12ms/step - acc: 1.0000 - loss: 0.2243 - metric_f1score: 1.0000\n",
      "Epoch 190: val_acc did not improve from 1.00000\n",
      "\u001b[1m8/8\u001b[0m \u001b[32m━━━━━━━━━━━━━━━━━━━━\u001b[0m\u001b[37m\u001b[0m \u001b[1m0s\u001b[0m 7ms/step - acc: 1.0000 - loss: 0.2241 - metric_f1score: 1.0000 - val_acc: 1.0000 - val_loss: 0.2225 - val_metric_f1score: 1.0000 - learning_rate: 0.0010\n",
      "Epoch 191/200\n",
      "\u001b[1m1/8\u001b[0m \u001b[32m━━\u001b[0m\u001b[37m━━━━━━━━━━━━━━━━━━\u001b[0m \u001b[1m0s\u001b[0m 94ms/step - acc: 1.0000 - loss: 0.2225 - metric_f1score: 1.0000\n",
      "Epoch 191: val_acc did not improve from 1.00000\n",
      "\u001b[1m8/8\u001b[0m \u001b[32m━━━━━━━━━━━━━━━━━━━━\u001b[0m\u001b[37m\u001b[0m \u001b[1m0s\u001b[0m 8ms/step - acc: 1.0000 - loss: 0.2221 - metric_f1score: 1.0000 - val_acc: 1.0000 - val_loss: 0.2207 - val_metric_f1score: 1.0000 - learning_rate: 0.0010\n",
      "Epoch 192/200\n",
      "\u001b[1m1/8\u001b[0m \u001b[32m━━\u001b[0m\u001b[37m━━━━━━━━━━━━━━━━━━\u001b[0m \u001b[1m0s\u001b[0m 14ms/step - acc: 1.0000 - loss: 0.2207 - metric_f1score: 1.0000\n",
      "Epoch 192: val_acc did not improve from 1.00000\n",
      "\u001b[1m8/8\u001b[0m \u001b[32m━━━━━━━━━━━━━━━━━━━━\u001b[0m\u001b[37m\u001b[0m \u001b[1m0s\u001b[0m 8ms/step - acc: 1.0000 - loss: 0.2204 - metric_f1score: 1.0000 - val_acc: 1.0000 - val_loss: 0.2190 - val_metric_f1score: 1.0000 - learning_rate: 0.0010\n",
      "Epoch 193/200\n",
      "\u001b[1m1/8\u001b[0m \u001b[32m━━\u001b[0m\u001b[37m━━━━━━━━━━━━━━━━━━\u001b[0m \u001b[1m0s\u001b[0m 13ms/step - acc: 1.0000 - loss: 0.2190 - metric_f1score: 1.0000\n",
      "Epoch 193: val_acc did not improve from 1.00000\n",
      "\u001b[1m8/8\u001b[0m \u001b[32m━━━━━━━━━━━━━━━━━━━━\u001b[0m\u001b[37m\u001b[0m \u001b[1m0s\u001b[0m 7ms/step - acc: 1.0000 - loss: 0.2186 - metric_f1score: 1.0000 - val_acc: 1.0000 - val_loss: 0.2173 - val_metric_f1score: 1.0000 - learning_rate: 0.0010\n",
      "Epoch 194/200\n",
      "\u001b[1m1/8\u001b[0m \u001b[32m━━\u001b[0m\u001b[37m━━━━━━━━━━━━━━━━━━\u001b[0m \u001b[1m0s\u001b[0m 13ms/step - acc: 1.0000 - loss: 0.2173 - metric_f1score: 1.0000\n",
      "Epoch 194: val_acc did not improve from 1.00000\n",
      "\u001b[1m8/8\u001b[0m \u001b[32m━━━━━━━━━━━━━━━━━━━━\u001b[0m\u001b[37m\u001b[0m \u001b[1m0s\u001b[0m 7ms/step - acc: 1.0000 - loss: 0.2196 - metric_f1score: 1.0000 - val_acc: 1.0000 - val_loss: 0.2158 - val_metric_f1score: 1.0000 - learning_rate: 0.0010\n",
      "Epoch 195/200\n",
      "\u001b[1m1/8\u001b[0m \u001b[32m━━\u001b[0m\u001b[37m━━━━━━━━━━━━━━━━━━\u001b[0m \u001b[1m0s\u001b[0m 15ms/step - acc: 1.0000 - loss: 0.2158 - metric_f1score: 1.0000\n",
      "Epoch 195: val_acc did not improve from 1.00000\n",
      "\u001b[1m8/8\u001b[0m \u001b[32m━━━━━━━━━━━━━━━━━━━━\u001b[0m\u001b[37m\u001b[0m \u001b[1m0s\u001b[0m 8ms/step - acc: 1.0000 - loss: 0.2155 - metric_f1score: 1.0000 - val_acc: 1.0000 - val_loss: 0.2142 - val_metric_f1score: 1.0000 - learning_rate: 0.0010\n",
      "Epoch 196/200\n",
      "\u001b[1m1/8\u001b[0m \u001b[32m━━\u001b[0m\u001b[37m━━━━━━━━━━━━━━━━━━\u001b[0m \u001b[1m0s\u001b[0m 13ms/step - acc: 1.0000 - loss: 0.2142 - metric_f1score: 1.0000\n",
      "Epoch 196: val_acc did not improve from 1.00000\n",
      "\u001b[1m8/8\u001b[0m \u001b[32m━━━━━━━━━━━━━━━━━━━━\u001b[0m\u001b[37m\u001b[0m \u001b[1m0s\u001b[0m 8ms/step - acc: 1.0000 - loss: 0.2139 - metric_f1score: 1.0000 - val_acc: 1.0000 - val_loss: 0.2127 - val_metric_f1score: 1.0000 - learning_rate: 0.0010\n",
      "Epoch 197/200\n",
      "\u001b[1m1/8\u001b[0m \u001b[32m━━\u001b[0m\u001b[37m━━━━━━━━━━━━━━━━━━\u001b[0m \u001b[1m0s\u001b[0m 14ms/step - acc: 1.0000 - loss: 0.2127 - metric_f1score: 1.0000\n",
      "Epoch 197: val_acc did not improve from 1.00000\n",
      "\u001b[1m8/8\u001b[0m \u001b[32m━━━━━━━━━━━━━━━━━━━━\u001b[0m\u001b[37m\u001b[0m \u001b[1m0s\u001b[0m 9ms/step - acc: 1.0000 - loss: 0.2123 - metric_f1score: 1.0000 - val_acc: 1.0000 - val_loss: 0.2111 - val_metric_f1score: 1.0000 - learning_rate: 0.0010\n",
      "Epoch 198/200\n",
      "\u001b[1m1/8\u001b[0m \u001b[32m━━\u001b[0m\u001b[37m━━━━━━━━━━━━━━━━━━\u001b[0m \u001b[1m0s\u001b[0m 15ms/step - acc: 1.0000 - loss: 0.2111 - metric_f1score: 1.0000\n",
      "Epoch 198: val_acc did not improve from 1.00000\n",
      "\u001b[1m8/8\u001b[0m \u001b[32m━━━━━━━━━━━━━━━━━━━━\u001b[0m\u001b[37m\u001b[0m \u001b[1m0s\u001b[0m 7ms/step - acc: 1.0000 - loss: 0.2132 - metric_f1score: 0.9990 - val_acc: 1.0000 - val_loss: 0.2096 - val_metric_f1score: 1.0000 - learning_rate: 0.0010\n",
      "Epoch 199/200\n",
      "\u001b[1m1/8\u001b[0m \u001b[32m━━\u001b[0m\u001b[37m━━━━━━━━━━━━━━━━━━\u001b[0m \u001b[1m0s\u001b[0m 12ms/step - acc: 1.0000 - loss: 0.2096 - metric_f1score: 1.0000\n",
      "Epoch 199: val_acc did not improve from 1.00000\n",
      "\u001b[1m8/8\u001b[0m \u001b[32m━━━━━━━━━━━━━━━━━━━━\u001b[0m\u001b[37m\u001b[0m \u001b[1m0s\u001b[0m 7ms/step - acc: 0.9985 - loss: 0.2172 - metric_f1score: 0.9986 - val_acc: 1.0000 - val_loss: 0.2083 - val_metric_f1score: 1.0000 - learning_rate: 0.0010\n",
      "Epoch 200/200\n",
      "\u001b[1m1/8\u001b[0m \u001b[32m━━\u001b[0m\u001b[37m━━━━━━━━━━━━━━━━━━\u001b[0m \u001b[1m0s\u001b[0m 13ms/step - acc: 1.0000 - loss: 0.2083 - metric_f1score: 1.0000\n",
      "Epoch 200: val_acc did not improve from 1.00000\n",
      "\u001b[1m8/8\u001b[0m \u001b[32m━━━━━━━━━━━━━━━━━━━━\u001b[0m\u001b[37m\u001b[0m \u001b[1m0s\u001b[0m 7ms/step - acc: 0.9990 - loss: 0.2109 - metric_f1score: 0.9965 - val_acc: 1.0000 - val_loss: 0.2070 - val_metric_f1score: 1.0000 - learning_rate: 0.0010\n"
     ]
    }
   ],
   "source": [
    "from tensorflow.keras.callbacks import ModelCheckpoint, ReduceLROnPlateau, EarlyStopping\n",
    "\n",
    "early_stopping = EarlyStopping(monitor = 'val_metric_F1score', min_delta = 0, patience = 20, mode = 'max')\n",
    "\n",
    "\n",
    "history = model.fit(\n",
    "    x_train,\n",
    "    y_train,\n",
    "    validation_data=(x_val, y_val),\n",
    "    epochs=200,\n",
    "    callbacks=[\n",
    "        ModelCheckpoint('models/multi_hand_gesture_classifier.h5', monitor='val_acc', verbose=1, save_best_only=True, mode='auto'),\n",
    "        ReduceLROnPlateau(monitor='val_metric_F1score', factor=0.5, patience=50, verbose=1, mode='auto'),\n",
    "        early_stopping\n",
    "    ]\n",
    ")"
   ]
  },
  {
   "cell_type": "code",
   "execution_count": 20,
   "metadata": {},
   "outputs": [
    {
     "data": {
      "image/png": "[encoded data removed]",
      "text/plain": [
       "<Figure size 1600x1000 with 2 Axes>"
      ]
     },
     "metadata": {},
     "output_type": "display_data"
    }
   ],
   "source": [
    "import matplotlib.pyplot as plt\n",
    "\n",
    "fig, loss_ax = plt.subplots(figsize=(16, 10))\n",
    "acc_ax = loss_ax.twinx()\n",
    "\n",
    "loss_ax.plot(history.history['loss'], 'y', label='train loss')\n",
    "loss_ax.plot(history.history['val_loss'], 'r', label='val loss')\n",
    "loss_ax.set_xlabel('epoch')\n",
    "loss_ax.set_ylabel('loss')\n",
    "loss_ax.legend(loc='upper left')\n",
    "\n",
    "acc_ax.plot(history.history['acc'], 'b', label='train acc')\n",
    "acc_ax.plot(history.history['val_acc'], 'g', label='val acc')\n",
    "acc_ax.set_ylabel('accuracy')\n",
    "acc_ax.legend(loc='upper left')\n",
    "\n",
    "plt.show()"
   ]
  },
  {
   "cell_type": "code",
   "execution_count": 24,
   "metadata": {},
   "outputs": [
    {
     "data": {
      "image/png": "[encoded data removed]",
      "text/plain": [
       "<Figure size 1600x1000 with 2 Axes>"
      ]
     },
     "metadata": {},
     "output_type": "display_data"
    }
   ],
   "source": [
    "fig, loss_ax = plt.subplots(figsize=(16, 10))\n",
    "acc_ax = loss_ax.twinx()\n",
    "\n",
    "loss_ax.set_xlabel('epoch')\n",
    "loss_ax.set_ylabel('loss')\n",
    "\n",
    "acc_ax.plot(history.history['metric_F1score'], 'b', label='train f1')\n",
    "acc_ax.plot(history.history['val_metric_F1score'], 'g', label='val f1')\n",
    "acc_ax.set_ylabel('f1-score')\n",
    "acc_ax.legend(loc='upper left')\n",
    "\n",
    "plt.show()"
   ]
  },
  {
   "cell_type": "code",
   "execution_count": 21,
   "metadata": {},
   "outputs": [
    {
     "name": "stderr",
     "output_type": "stream",
     "text": [
      "WARNING:absl:Compiled the loaded model, but the compiled metrics have yet to be built. `model.compile_metrics` will be empty until you train or evaluate the model.\n"
     ]
    },
    {
     "name": "stdout",
     "output_type": "stream",
     "text": [
      "\u001b[1m2/2\u001b[0m \u001b[32m━━━━━━━━━━━━━━━━━━━━\u001b[0m\u001b[37m\u001b[0m \u001b[1m0s\u001b[0m 93ms/step\n"
     ]
    },
    {
     "data": {
      "text/plain": [
       "array([[[32,  0],\n",
       "        [ 0, 27]],\n",
       "\n",
       "       [[27,  0],\n",
       "        [ 0, 32]]])"
      ]
     },
     "execution_count": 21,
     "metadata": {},
     "output_type": "execute_result"
    }
   ],
   "source": [
    "from sklearn.metrics import multilabel_confusion_matrix\n",
    "from tensorflow.keras.models import load_model\n",
    "\n",
    "model = load_model('models/multi_hand_gesture_classifier.h5', custom_objects = {'metric_F1score':metric_F1score})\n",
    "\n",
    "y_pred = model.predict(x_val)\n",
    "multilabel_confusion_matrix(np.argmax(y_val, axis=1), np.argmax(y_pred, axis=1))"
   ]
  },
  {
   "cell_type": "code",
   "execution_count": 22,
   "metadata": {},
   "outputs": [
    {
     "data": {
      "text/plain": [
       "array([[[32,  0],\n",
       "        [ 0, 27]],\n",
       "\n",
       "       [[27,  0],\n",
       "        [ 0, 32]]])"
      ]
     },
     "execution_count": 22,
     "metadata": {},
     "output_type": "execute_result"
    }
   ],
   "source": [
    "multilabel_confusion_matrix(np.argmax(y_val, axis=1), np.argmax(y_pred, axis=1))"
   ]
  },
  {
   "cell_type": "code",
   "execution_count": 23,
   "metadata": {},
   "outputs": [
    {
     "name": "stderr",
     "output_type": "stream",
     "text": [
      "WARNING:absl:Compiled the loaded model, but the compiled metrics have yet to be built. `model.compile_metrics` will be empty until you train or evaluate the model.\n"
     ]
    },
    {
     "name": "stdout",
     "output_type": "stream",
     "text": [
      "\u001b[1m2/2\u001b[0m \u001b[32m━━━━━━━━━━━━━━━━━━━━\u001b[0m\u001b[37m\u001b[0m \u001b[1m0s\u001b[0m 93ms/step\n"
     ]
    },
    {
     "data": {
      "text/plain": [
       "array([[[32,  0],\n",
       "        [ 0, 27]],\n",
       "\n",
       "       [[27,  0],\n",
       "        [ 0, 32]]])"
      ]
     },
     "execution_count": 23,
     "metadata": {},
     "output_type": "execute_result"
    }
   ],
   "source": [
    "from sklearn.metrics import multilabel_confusion_matrix\n",
    "from tensorflow.keras.models import load_model\n",
    "\n",
    "model = load_model('models/multi_hand_gesture_classifier.h5')\n",
    "\n",
    "y_pred = model.predict(x_val)\n",
    "\n",
    "multilabel_confusion_matrix(np.argmax(y_val, axis=1), np.argmax(y_pred, axis=1))"
   ]
  },
  {
   "cell_type": "code",
   "execution_count": 26,
   "metadata": {},
   "outputs": [
    {
     "name": "stdout",
     "output_type": "stream",
     "text": [
      "INFO:tensorflow:Assets written to: /var/folders/_k/9pcm610n0sb_j9n64tc8zgcw0000gn/T/tmpxfbzlnaa/assets\n"
     ]
    },
    {
     "name": "stderr",
     "output_type": "stream",
     "text": [
      "INFO:tensorflow:Assets written to: /var/folders/_k/9pcm610n0sb_j9n64tc8zgcw0000gn/T/tmpxfbzlnaa/assets\n"
     ]
    },
    {
     "name": "stdout",
     "output_type": "stream",
     "text": [
      "Saved artifact at '/var/folders/_k/9pcm610n0sb_j9n64tc8zgcw0000gn/T/tmpxfbzlnaa'. The following endpoints are available:\n",
      "\n",
      "* Endpoint 'serve'\n",
      "  args_0 (POSITIONAL_ONLY): TensorSpec(shape=(None, 10, 55), dtype=tf.float32, name='input_layer')\n",
      "Output Type:\n",
      "  TensorSpec(shape=(None, 9), dtype=tf.float32, name=None)\n",
      "Captures:\n",
      "  13077131536: TensorSpec(shape=(), dtype=tf.resource, name=None)\n",
      "  13077172240: TensorSpec(shape=(), dtype=tf.resource, name=None)\n",
      "  13077133472: TensorSpec(shape=(), dtype=tf.resource, name=None)\n",
      "  13077305248: TensorSpec(shape=(), dtype=tf.resource, name=None)\n",
      "  13077302256: TensorSpec(shape=(), dtype=tf.resource, name=None)\n",
      "  13077314752: TensorSpec(shape=(), dtype=tf.resource, name=None)\n",
      "  13077314048: TensorSpec(shape=(), dtype=tf.resource, name=None)\n"
     ]
    },
    {
     "name": "stderr",
     "output_type": "stream",
     "text": [
      "W0000 00:00:1744771471.662788 7613607 tf_tfl_flatbuffer_helpers.cc:365] Ignored output_format.\n",
      "W0000 00:00:1744771471.662803 7613607 tf_tfl_flatbuffer_helpers.cc:368] Ignored drop_control_dependency.\n",
      "2025-04-16 11:44:31.662948: I tensorflow/cc/saved_model/reader.cc:83] Reading SavedModel from: /var/folders/_k/9pcm610n0sb_j9n64tc8zgcw0000gn/T/tmpxfbzlnaa\n",
      "2025-04-16 11:44:31.663471: I tensorflow/cc/saved_model/reader.cc:52] Reading meta graph with tags { serve }\n",
      "2025-04-16 11:44:31.663479: I tensorflow/cc/saved_model/reader.cc:147] Reading SavedModel debug info (if present) from: /var/folders/_k/9pcm610n0sb_j9n64tc8zgcw0000gn/T/tmpxfbzlnaa\n",
      "2025-04-16 11:44:31.668844: I tensorflow/cc/saved_model/loader.cc:236] Restoring SavedModel bundle.\n",
      "2025-04-16 11:44:31.694844: I tensorflow/cc/saved_model/loader.cc:220] Running initialization op on SavedModel bundle at path: /var/folders/_k/9pcm610n0sb_j9n64tc8zgcw0000gn/T/tmpxfbzlnaa\n",
      "2025-04-16 11:44:31.705430: I tensorflow/cc/saved_model/loader.cc:471] SavedModel load for tags { serve }; Status: success: OK. Took 42481 microseconds.\n",
      "2025-04-16 11:44:31.756773: W tensorflow/compiler/mlir/lite/flatbuffer_export.cc:3993] TFLite interpreter needs to link Flex delegate in order to run the model since it contains the following Select TFop(s):\n",
      "Flex ops: FlexTensorListReserve, FlexTensorListSetItem, FlexTensorListStack\n",
      "Details:\n",
      "\ttf.TensorListReserve(tensor<2xi32>, tensor<i32>) -> (tensor<!tf_type.variant<tensor<?x64xf32>>>) : {device = \"\"}\n",
      "\ttf.TensorListSetItem(tensor<!tf_type.variant<tensor<?x64xf32>>>, tensor<i32>, tensor<?x64xf32>) -> (tensor<!tf_type.variant<tensor<?x64xf32>>>) : {device = \"\", resize_if_index_out_of_bounds = false}\n",
      "\ttf.TensorListStack(tensor<!tf_type.variant<tensor<?x64xf32>>>, tensor<2xi32>) -> (tensor<1x?x64xf32>) : {device = \"\", num_elements = 1 : i64}\n",
      "See instructions: https://www.tensorflow.org/lite/guide/ops_select\n"
     ]
    }
   ],
   "source": [
    "import tensorflow as tf\n",
    "# Convert the model.\n",
    "converter = tf.lite.TFLiteConverter.from_keras_model(model)\n",
    "\n",
    "# 1. TF Lite 기본 연산 + Select TF ops 사용\n",
    "converter.target_spec.supported_ops = [\n",
    "    tf.lite.OpsSet.TFLITE_BUILTINS,\n",
    "    tf.lite.OpsSet.SELECT_TF_OPS\n",
    "]\n",
    "\n",
    "# 2. TensorList lowering 비활성화\n",
    "converter._experimental_lower_tensor_list_ops = False\n",
    "\n",
    "# 변환 실행\n",
    "tflite_model = converter.convert()\n",
    "\n",
    "# 모델 저장\n",
    "with open('models/multi_hand_gesture_classifier.tflite', 'wb') as f:\n",
    "    f.write(tflite_model)"
   ]
  },
  {
   "cell_type": "code",
   "execution_count": null,
   "metadata": {},
   "outputs": [],
   "source": []
  }
 ],
 "metadata": {
  "kernelspec": {
   "display_name": "hi",
   "language": "python",
   "name": "python3"
  },
  "language_info": {
   "codemirror_mode": {
    "name": "ipython",
    "version": 3
   },
   "file_extension": ".py",
   "mimetype": "text/x-python",
   "name": "python",
   "nbconvert_exporter": "python",
   "pygments_lexer": "ipython3",
   "version": "3.10.16"
  }
 },
 "nbformat": 4,
 "nbformat_minor": 4
}
