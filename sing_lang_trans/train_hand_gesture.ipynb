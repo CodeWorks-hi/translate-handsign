{
 "cells": [
  {
   "cell_type": "code",
   "execution_count": 1,
   "metadata": {},
   "outputs": [],
   "source": [
    "import numpy as np\n",
    "import os\n",
    "\n",
    "os.environ['CUDA_VISIBLE_DEVICES'] = '1'\n",
    "os.environ['TF_FORCE_GPU_ALLOW_GROWTH'] = 'true'"
   ]
  },
  {
   "cell_type": "code",
   "execution_count": 2,
   "metadata": {},
   "outputs": [
    {
     "name": "stdout",
     "output_type": "stream",
     "text": [
      "/Users/ENZO/KOOKIZ/GITHUB/translate-handsign\n"
     ]
    },
    {
     "name": "stderr",
     "output_type": "stream",
     "text": [
      "/opt/anaconda3/envs/hi/lib/python3.10/site-packages/IPython/core/magics/osm.py:417: UserWarning: This is now an optional IPython functionality, setting dhist requires you to install the `pickleshare` library.\n",
      "  self.shell.db['dhist'] = compress_dhist(dhist)[-100:]\n"
     ]
    }
   ],
   "source": [
    "%pwd\n",
    "%cd .."
   ]
  },
  {
   "cell_type": "code",
   "execution_count": 4,
   "metadata": {},
   "outputs": [
    {
     "data": {
      "text/plain": [
       "(477, 10, 56)"
      ]
     },
     "execution_count": 4,
     "metadata": {},
     "output_type": "execute_result"
    }
   ],
   "source": [
    "actions = [\"답답하다\", \"땀난다\", \"떨린다\", \"베였다\", \"부었다\", \"불편하다\",\n",
    "           \"아프다\", \"어지럽다\", \"열\", \"지속된다\", \"피곤하다\"]\n",
    "time_num, time_num1, time_num2 = '1744788777', '1744788931', '1744789089'\n",
    "\n",
    "for time_num in [time_num, time_num1, time_num2]:\n",
    "    data = np.concatenate([\n",
    "        np.load(f'dataset/seq_아프다_{time_num}.npy'),\n",
    "        np.load(f'dataset/seq_열_{time_num}.npy'),\n",
    "        np.load(f'dataset/seq_답답하다_{time_num}.npy'),\n",
    "        np.load(f'dataset/seq_땀난다_{time_num}.npy'),\n",
    "        np.load(f'dataset/seq_떨린다_{time_num}.npy'),\n",
    "        np.load(f'dataset/seq_베였다_{time_num}.npy'),\n",
    "        np.load(f'dataset/seq_부었다_{time_num}.npy'),\n",
    "        np.load(f'dataset/seq_불편하다_{time_num}.npy'),\n",
    "        np.load(f'dataset/seq_어지럽다_{time_num}.npy'),\n",
    "        np.load(f'dataset/seq_지속된다_{time_num}.npy'),\n",
    "        np.load(f'dataset/seq_피곤하다_{time_num}.npy')\n",
    "    ], axis=0)\n",
    "\n",
    "data.shape"
   ]
  },
  {
   "cell_type": "code",
   "execution_count": 5,
   "metadata": {},
   "outputs": [
    {
     "ename": "FileNotFoundError",
     "evalue": "[Errno 2] No such file or directory: 'dataset/seq_아프다_1744773358.npy'",
     "output_type": "error",
     "traceback": [
      "\u001b[0;31m---------------------------------------------------------------------------\u001b[0m",
      "\u001b[0;31mFileNotFoundError\u001b[0m                         Traceback (most recent call last)",
      "Cell \u001b[0;32mIn[5], line 1\u001b[0m\n\u001b[0;32m----> 1\u001b[0m \u001b[38;5;28mprint\u001b[39m(\u001b[43mnp\u001b[49m\u001b[38;5;241;43m.\u001b[39;49m\u001b[43mload\u001b[49m\u001b[43m(\u001b[49m\u001b[38;5;124;43mf\u001b[39;49m\u001b[38;5;124;43m'\u001b[39;49m\u001b[38;5;124;43mdataset/seq_아프다_1744773358.npy\u001b[39;49m\u001b[38;5;124;43m'\u001b[39;49m\u001b[43m)\u001b[49m\u001b[38;5;241m.\u001b[39mshape)\n\u001b[1;32m      2\u001b[0m \u001b[38;5;28mprint\u001b[39m(np\u001b[38;5;241m.\u001b[39mload(\u001b[38;5;124mf\u001b[39m\u001b[38;5;124m'\u001b[39m\u001b[38;5;124mdataset/seq_열_1744773358.npy\u001b[39m\u001b[38;5;124m'\u001b[39m)\u001b[38;5;241m.\u001b[39mshape)\n\u001b[1;32m      3\u001b[0m \u001b[38;5;28mprint\u001b[39m(np\u001b[38;5;241m.\u001b[39mload(\u001b[38;5;124mf\u001b[39m\u001b[38;5;124m'\u001b[39m\u001b[38;5;124mdataset/seq_기침_1744773358.npy\u001b[39m\u001b[38;5;124m'\u001b[39m)\u001b[38;5;241m.\u001b[39mshape)\n",
      "File \u001b[0;32m/opt/anaconda3/envs/hi/lib/python3.10/site-packages/numpy/lib/npyio.py:427\u001b[0m, in \u001b[0;36mload\u001b[0;34m(file, mmap_mode, allow_pickle, fix_imports, encoding, max_header_size)\u001b[0m\n\u001b[1;32m    425\u001b[0m     own_fid \u001b[38;5;241m=\u001b[39m \u001b[38;5;28;01mFalse\u001b[39;00m\n\u001b[1;32m    426\u001b[0m \u001b[38;5;28;01melse\u001b[39;00m:\n\u001b[0;32m--> 427\u001b[0m     fid \u001b[38;5;241m=\u001b[39m stack\u001b[38;5;241m.\u001b[39menter_context(\u001b[38;5;28;43mopen\u001b[39;49m\u001b[43m(\u001b[49m\u001b[43mos_fspath\u001b[49m\u001b[43m(\u001b[49m\u001b[43mfile\u001b[49m\u001b[43m)\u001b[49m\u001b[43m,\u001b[49m\u001b[43m \u001b[49m\u001b[38;5;124;43m\"\u001b[39;49m\u001b[38;5;124;43mrb\u001b[39;49m\u001b[38;5;124;43m\"\u001b[39;49m\u001b[43m)\u001b[49m)\n\u001b[1;32m    428\u001b[0m     own_fid \u001b[38;5;241m=\u001b[39m \u001b[38;5;28;01mTrue\u001b[39;00m\n\u001b[1;32m    430\u001b[0m \u001b[38;5;66;03m# Code to distinguish from NumPy binary files and pickles.\u001b[39;00m\n",
      "\u001b[0;31mFileNotFoundError\u001b[0m: [Errno 2] No such file or directory: 'dataset/seq_아프다_1744773358.npy'"
     ]
    }
   ],
   "source": [
    "print(np.load(f'dataset/seq_아프다_1744773358.npy').shape)\n",
    "print(np.load(f'dataset/seq_열_1744773358.npy').shape)\n",
    "print(np.load(f'dataset/seq_기침_1744773358.npy').shape)\n",
    "print(np.load(f'dataset/seq_콧물_1744773358.npy').shape)\n",
    "print(np.load(f'dataset/seq_코막힘_1744773358.npy').shape)\n",
    "print(np.load(f'dataset/seq_머리_1744773358.npy').shape)\n",
    "print(np.load(f'dataset/seq_배_1744773358.npy').shape)\n",
    "print(np.load(f'dataset/seq_설사_1744773358.npy').shape)\n",
    "print(np.load(f'dataset/seq_변비_1744773358.npy').shape)\n",
    "print(np.load(f'dataset/seq_구토_1744773358.npy').shape)"
   ]
  },
  {
   "cell_type": "code",
   "execution_count": 6,
   "metadata": {},
   "outputs": [
    {
     "name": "stdout",
     "output_type": "stream",
     "text": [
      "(477, 10, 55)\n",
      "(477,)\n"
     ]
    }
   ],
   "source": [
    "x_data = data[:, :, :-1]\n",
    "labels = data[:, 0, -1]\n",
    "\n",
    "print(x_data.shape)\n",
    "print(labels.shape)"
   ]
  },
  {
   "cell_type": "code",
   "execution_count": 7,
   "metadata": {},
   "outputs": [
    {
     "data": {
      "text/plain": [
       "array([ 6.,  6.,  6.,  6.,  6.,  6.,  6.,  6.,  6.,  6.,  6.,  6.,  6.,\n",
       "        6.,  6.,  6.,  6.,  6.,  6.,  6.,  6.,  6.,  6.,  6.,  6.,  6.,\n",
       "        6.,  6.,  6.,  6.,  6.,  6.,  6.,  6.,  6.,  6.,  6.,  6.,  6.,\n",
       "        8.,  8.,  8.,  8.,  8.,  8.,  8.,  8.,  8.,  8.,  8.,  8.,  8.,\n",
       "        8.,  8.,  8.,  8.,  8.,  8.,  8.,  8.,  8.,  8.,  8.,  8.,  8.,\n",
       "        8.,  8.,  8.,  8.,  8.,  8.,  8.,  8.,  8.,  8.,  8.,  8.,  8.,\n",
       "        8.,  8.,  8.,  8.,  8.,  8.,  8.,  8.,  8.,  8.,  8.,  8.,  8.,\n",
       "        8.,  8.,  8.,  8.,  8.,  0.,  0.,  0.,  0.,  0.,  0.,  0.,  0.,\n",
       "        0.,  0.,  0.,  0.,  0.,  0.,  0.,  0.,  0.,  0.,  0.,  0.,  0.,\n",
       "        0.,  0.,  0.,  0.,  0.,  0.,  0.,  0.,  0.,  0.,  0.,  0.,  0.,\n",
       "        0.,  0.,  1.,  1.,  1.,  1.,  1.,  1.,  1.,  1.,  1.,  1.,  1.,\n",
       "        1.,  1.,  1.,  1.,  1.,  1.,  1.,  1.,  1.,  1.,  1.,  1.,  1.,\n",
       "        1.,  1.,  2.,  2.,  2.,  2.,  2.,  2.,  2.,  2.,  2.,  2.,  2.,\n",
       "        2.,  2.,  2.,  2.,  2.,  2.,  2.,  2.,  2.,  2.,  2.,  2.,  2.,\n",
       "        2.,  2.,  2.,  3.,  3.,  3.,  3.,  3.,  3.,  3.,  3.,  3.,  3.,\n",
       "        3.,  3.,  3.,  3.,  3.,  3.,  3.,  3.,  3.,  3.,  3.,  3.,  3.,\n",
       "        3.,  3.,  3.,  3.,  3.,  3.,  3.,  3.,  3.,  3.,  3.,  3.,  3.,\n",
       "        3.,  3.,  4.,  4.,  4.,  4.,  4.,  4.,  4.,  4.,  4.,  4.,  4.,\n",
       "        4.,  4.,  4.,  4.,  4.,  4.,  4.,  4.,  4.,  4.,  4.,  4.,  4.,\n",
       "        4.,  4.,  4.,  4.,  4.,  4.,  4.,  4.,  4.,  4.,  4.,  5.,  5.,\n",
       "        5.,  5.,  5.,  5.,  5.,  5.,  5.,  5.,  5.,  5.,  5.,  5.,  5.,\n",
       "        5.,  5.,  5.,  5.,  5.,  5.,  5.,  5.,  5.,  5.,  5.,  5.,  5.,\n",
       "        5.,  5.,  5.,  5.,  5.,  5.,  5.,  5.,  5.,  5.,  5.,  5.,  5.,\n",
       "        7.,  7.,  7.,  7.,  7.,  7.,  7.,  7.,  7.,  7.,  7.,  7.,  7.,\n",
       "        7.,  7.,  7.,  7.,  7.,  7.,  7.,  7.,  7.,  7.,  7.,  7.,  7.,\n",
       "        7.,  7.,  7.,  7.,  7.,  7.,  7.,  7.,  7.,  7.,  7.,  7.,  7.,\n",
       "        7.,  7.,  7.,  7.,  7.,  7.,  7.,  7.,  7.,  7.,  7.,  7.,  7.,\n",
       "        7.,  7.,  7.,  7.,  7.,  7.,  7.,  7.,  7.,  7.,  7.,  7.,  7.,\n",
       "        7.,  7.,  7.,  7.,  7.,  7.,  7.,  7.,  7.,  7.,  7.,  7.,  7.,\n",
       "        7.,  7.,  7.,  7.,  7.,  7.,  7.,  7.,  7.,  7.,  7.,  7.,  7.,\n",
       "        7.,  7.,  7.,  9.,  9.,  9.,  9.,  9.,  9.,  9.,  9.,  9.,  9.,\n",
       "        9.,  9.,  9.,  9.,  9.,  9.,  9.,  9.,  9.,  9.,  9.,  9.,  9.,\n",
       "        9.,  9.,  9.,  9.,  9.,  9.,  9.,  9.,  9.,  9.,  9.,  9.,  9.,\n",
       "       10., 10., 10., 10., 10., 10., 10., 10., 10., 10., 10., 10., 10.,\n",
       "       10., 10., 10., 10., 10., 10., 10., 10., 10., 10., 10., 10., 10.,\n",
       "       10., 10., 10., 10., 10., 10., 10., 10., 10., 10., 10., 10., 10.,\n",
       "       10., 10., 10., 10., 10., 10., 10., 10., 10.])"
      ]
     },
     "execution_count": 7,
     "metadata": {},
     "output_type": "execute_result"
    }
   ],
   "source": [
    "labels"
   ]
  },
  {
   "cell_type": "code",
   "execution_count": 8,
   "metadata": {},
   "outputs": [
    {
     "data": {
      "text/plain": [
       "477"
      ]
     },
     "execution_count": 8,
     "metadata": {},
     "output_type": "execute_result"
    }
   ],
   "source": [
    "len(labels)"
   ]
  },
  {
   "cell_type": "code",
   "execution_count": 9,
   "metadata": {},
   "outputs": [
    {
     "data": {
      "text/plain": [
       "array([ 0.,  1.,  2.,  3.,  4.,  5.,  6.,  7.,  8.,  9., 10.])"
      ]
     },
     "execution_count": 9,
     "metadata": {},
     "output_type": "execute_result"
    }
   ],
   "source": [
    "np.unique(labels)"
   ]
  },
  {
   "cell_type": "code",
   "execution_count": 10,
   "metadata": {},
   "outputs": [
    {
     "data": {
      "text/plain": [
       "(477, 11)"
      ]
     },
     "execution_count": 10,
     "metadata": {},
     "output_type": "execute_result"
    }
   ],
   "source": [
    "from tensorflow.keras.utils import to_categorical\n",
    "\n",
    "y_data = to_categorical(labels, num_classes=len(actions))\n",
    "y_data.shape"
   ]
  },
  {
   "cell_type": "code",
   "execution_count": 11,
   "metadata": {},
   "outputs": [
    {
     "data": {
      "text/plain": [
       "array([[0., 0., 0., ..., 0., 0., 0.],\n",
       "       [0., 0., 0., ..., 0., 0., 0.],\n",
       "       [0., 0., 0., ..., 0., 0., 0.],\n",
       "       ...,\n",
       "       [0., 0., 0., ..., 0., 0., 1.],\n",
       "       [0., 0., 0., ..., 0., 0., 1.],\n",
       "       [0., 0., 0., ..., 0., 0., 1.]])"
      ]
     },
     "execution_count": 11,
     "metadata": {},
     "output_type": "execute_result"
    }
   ],
   "source": [
    "y_data"
   ]
  },
  {
   "cell_type": "code",
   "execution_count": 12,
   "metadata": {},
   "outputs": [
    {
     "name": "stdout",
     "output_type": "stream",
     "text": [
      "(381, 10, 55) (381, 11)\n",
      "(96, 10, 55) (96, 11)\n"
     ]
    }
   ],
   "source": [
    "from sklearn.model_selection import train_test_split\n",
    "\n",
    "x_data = x_data.astype(np.float32)\n",
    "y_data = y_data.astype(np.float32)\n",
    "\n",
    "x_train, x_val, y_train, y_val = train_test_split(x_data, y_data, test_size=0.2, random_state=2020)\n",
    "\n",
    "print(x_train.shape, y_train.shape)\n",
    "print(x_val.shape, y_val.shape)"
   ]
  },
  {
   "cell_type": "code",
   "execution_count": 13,
   "metadata": {},
   "outputs": [
    {
     "data": {
      "text/plain": [
       "(10, 55)"
      ]
     },
     "execution_count": 13,
     "metadata": {},
     "output_type": "execute_result"
    }
   ],
   "source": [
    "x_train.shape[1:3]"
   ]
  },
  {
   "cell_type": "code",
   "execution_count": 14,
   "metadata": {},
   "outputs": [],
   "source": [
    "np.random.seed(42)\n",
    "import tensorflow as tf\n",
    "tf.random.set_seed(42)"
   ]
  },
  {
   "cell_type": "code",
   "execution_count": 15,
   "metadata": {},
   "outputs": [],
   "source": [
    "# custom f1 score\n",
    "def metric_F1score(y_true,y_pred): \n",
    "    TP=tf.reduce_sum(y_true*tf.round(y_pred))\n",
    "    TN=tf.reduce_sum((1-y_true)*(1-tf.round(y_pred)))\n",
    "    FP=tf.reduce_sum((1-y_true)*tf.round(y_pred))\n",
    "    FN=tf.reduce_sum(y_true*(1-tf.round(y_pred)))\n",
    "    precision=TP/(TP+FP)\n",
    "    recall=TP/(TP+FN)\n",
    "    F1score=2*precision*recall/(precision+recall)\n",
    "    return F1score"
   ]
  },
  {
   "cell_type": "code",
   "execution_count": 16,
   "metadata": {},
   "outputs": [
    {
     "name": "stderr",
     "output_type": "stream",
     "text": [
      "/opt/anaconda3/envs/hi/lib/python3.10/site-packages/keras/src/layers/rnn/rnn.py:200: UserWarning: Do not pass an `input_shape`/`input_dim` argument to a layer. When using Sequential models, prefer using an `Input(shape)` object as the first layer in the model instead.\n",
      "  super().__init__(**kwargs)\n"
     ]
    },
    {
     "data": {
      "text/html": [
       "<pre style=\"white-space:pre;overflow-x:auto;line-height:normal;font-family:Menlo,'DejaVu Sans Mono',consolas,'Courier New',monospace\"><span style=\"font-weight: bold\">Model: \"sequential\"</span>\n",
       "</pre>\n"
      ],
      "text/plain": [
       "\u001b[1mModel: \"sequential\"\u001b[0m\n"
      ]
     },
     "metadata": {},
     "output_type": "display_data"
    },
    {
     "data": {
      "text/html": [
       "<pre style=\"white-space:pre;overflow-x:auto;line-height:normal;font-family:Menlo,'DejaVu Sans Mono',consolas,'Courier New',monospace\">┏━━━━━━━━━━━━━━━━━━━━━━━━━━━━━━━━━┳━━━━━━━━━━━━━━━━━━━━━━━━┳━━━━━━━━━━━━━━━┓\n",
       "┃<span style=\"font-weight: bold\"> Layer (type)                    </span>┃<span style=\"font-weight: bold\"> Output Shape           </span>┃<span style=\"font-weight: bold\">       Param # </span>┃\n",
       "┡━━━━━━━━━━━━━━━━━━━━━━━━━━━━━━━━━╇━━━━━━━━━━━━━━━━━━━━━━━━╇━━━━━━━━━━━━━━━┩\n",
       "│ lstm (<span style=\"color: #0087ff; text-decoration-color: #0087ff\">LSTM</span>)                     │ (<span style=\"color: #00d7ff; text-decoration-color: #00d7ff\">None</span>, <span style=\"color: #00af00; text-decoration-color: #00af00\">64</span>)             │        <span style=\"color: #00af00; text-decoration-color: #00af00\">30,720</span> │\n",
       "├─────────────────────────────────┼────────────────────────┼───────────────┤\n",
       "│ dropout (<span style=\"color: #0087ff; text-decoration-color: #0087ff\">Dropout</span>)               │ (<span style=\"color: #00d7ff; text-decoration-color: #00d7ff\">None</span>, <span style=\"color: #00af00; text-decoration-color: #00af00\">64</span>)             │             <span style=\"color: #00af00; text-decoration-color: #00af00\">0</span> │\n",
       "├─────────────────────────────────┼────────────────────────┼───────────────┤\n",
       "│ dense (<span style=\"color: #0087ff; text-decoration-color: #0087ff\">Dense</span>)                   │ (<span style=\"color: #00d7ff; text-decoration-color: #00d7ff\">None</span>, <span style=\"color: #00af00; text-decoration-color: #00af00\">32</span>)             │         <span style=\"color: #00af00; text-decoration-color: #00af00\">2,080</span> │\n",
       "├─────────────────────────────────┼────────────────────────┼───────────────┤\n",
       "│ dropout_1 (<span style=\"color: #0087ff; text-decoration-color: #0087ff\">Dropout</span>)             │ (<span style=\"color: #00d7ff; text-decoration-color: #00d7ff\">None</span>, <span style=\"color: #00af00; text-decoration-color: #00af00\">32</span>)             │             <span style=\"color: #00af00; text-decoration-color: #00af00\">0</span> │\n",
       "├─────────────────────────────────┼────────────────────────┼───────────────┤\n",
       "│ dense_1 (<span style=\"color: #0087ff; text-decoration-color: #0087ff\">Dense</span>)                 │ (<span style=\"color: #00d7ff; text-decoration-color: #00d7ff\">None</span>, <span style=\"color: #00af00; text-decoration-color: #00af00\">11</span>)             │           <span style=\"color: #00af00; text-decoration-color: #00af00\">363</span> │\n",
       "└─────────────────────────────────┴────────────────────────┴───────────────┘\n",
       "</pre>\n"
      ],
      "text/plain": [
       "┏━━━━━━━━━━━━━━━━━━━━━━━━━━━━━━━━━┳━━━━━━━━━━━━━━━━━━━━━━━━┳━━━━━━━━━━━━━━━┓\n",
       "┃\u001b[1m \u001b[0m\u001b[1mLayer (type)                   \u001b[0m\u001b[1m \u001b[0m┃\u001b[1m \u001b[0m\u001b[1mOutput Shape          \u001b[0m\u001b[1m \u001b[0m┃\u001b[1m \u001b[0m\u001b[1m      Param #\u001b[0m\u001b[1m \u001b[0m┃\n",
       "┡━━━━━━━━━━━━━━━━━━━━━━━━━━━━━━━━━╇━━━━━━━━━━━━━━━━━━━━━━━━╇━━━━━━━━━━━━━━━┩\n",
       "│ lstm (\u001b[38;5;33mLSTM\u001b[0m)                     │ (\u001b[38;5;45mNone\u001b[0m, \u001b[38;5;34m64\u001b[0m)             │        \u001b[38;5;34m30,720\u001b[0m │\n",
       "├─────────────────────────────────┼────────────────────────┼───────────────┤\n",
       "│ dropout (\u001b[38;5;33mDropout\u001b[0m)               │ (\u001b[38;5;45mNone\u001b[0m, \u001b[38;5;34m64\u001b[0m)             │             \u001b[38;5;34m0\u001b[0m │\n",
       "├─────────────────────────────────┼────────────────────────┼───────────────┤\n",
       "│ dense (\u001b[38;5;33mDense\u001b[0m)                   │ (\u001b[38;5;45mNone\u001b[0m, \u001b[38;5;34m32\u001b[0m)             │         \u001b[38;5;34m2,080\u001b[0m │\n",
       "├─────────────────────────────────┼────────────────────────┼───────────────┤\n",
       "│ dropout_1 (\u001b[38;5;33mDropout\u001b[0m)             │ (\u001b[38;5;45mNone\u001b[0m, \u001b[38;5;34m32\u001b[0m)             │             \u001b[38;5;34m0\u001b[0m │\n",
       "├─────────────────────────────────┼────────────────────────┼───────────────┤\n",
       "│ dense_1 (\u001b[38;5;33mDense\u001b[0m)                 │ (\u001b[38;5;45mNone\u001b[0m, \u001b[38;5;34m11\u001b[0m)             │           \u001b[38;5;34m363\u001b[0m │\n",
       "└─────────────────────────────────┴────────────────────────┴───────────────┘\n"
      ]
     },
     "metadata": {},
     "output_type": "display_data"
    },
    {
     "data": {
      "text/html": [
       "<pre style=\"white-space:pre;overflow-x:auto;line-height:normal;font-family:Menlo,'DejaVu Sans Mono',consolas,'Courier New',monospace\"><span style=\"font-weight: bold\"> Total params: </span><span style=\"color: #00af00; text-decoration-color: #00af00\">33,163</span> (129.54 KB)\n",
       "</pre>\n"
      ],
      "text/plain": [
       "\u001b[1m Total params: \u001b[0m\u001b[38;5;34m33,163\u001b[0m (129.54 KB)\n"
      ]
     },
     "metadata": {},
     "output_type": "display_data"
    },
    {
     "data": {
      "text/html": [
       "<pre style=\"white-space:pre;overflow-x:auto;line-height:normal;font-family:Menlo,'DejaVu Sans Mono',consolas,'Courier New',monospace\"><span style=\"font-weight: bold\"> Trainable params: </span><span style=\"color: #00af00; text-decoration-color: #00af00\">33,163</span> (129.54 KB)\n",
       "</pre>\n"
      ],
      "text/plain": [
       "\u001b[1m Trainable params: \u001b[0m\u001b[38;5;34m33,163\u001b[0m (129.54 KB)\n"
      ]
     },
     "metadata": {},
     "output_type": "display_data"
    },
    {
     "data": {
      "text/html": [
       "<pre style=\"white-space:pre;overflow-x:auto;line-height:normal;font-family:Menlo,'DejaVu Sans Mono',consolas,'Courier New',monospace\"><span style=\"font-weight: bold\"> Non-trainable params: </span><span style=\"color: #00af00; text-decoration-color: #00af00\">0</span> (0.00 B)\n",
       "</pre>\n"
      ],
      "text/plain": [
       "\u001b[1m Non-trainable params: \u001b[0m\u001b[38;5;34m0\u001b[0m (0.00 B)\n"
      ]
     },
     "metadata": {},
     "output_type": "display_data"
    }
   ],
   "source": [
    "from tensorflow.keras.models import Sequential\n",
    "from tensorflow.keras.layers import LSTM, Dense, Dropout\n",
    "import tensorflow.keras as keras\n",
    "\n",
    "model = Sequential([\n",
    "    LSTM(64, activation='relu', input_shape=x_train.shape[1:3], kernel_regularizer=keras.regularizers.l2(0.01)),\n",
    "    Dropout(0.3),\n",
    "    Dense(32, activation='relu', kernel_regularizer=keras.regularizers.l2(0.01)),\n",
    "    Dropout(0.3),\n",
    "    Dense(len(actions), activation='softmax', kernel_regularizer=keras.regularizers.l2(0.01))\n",
    "])\n",
    "\n",
    "model.compile(optimizer='adam', loss='categorical_crossentropy', metrics=['acc',metric_F1score])\n",
    "model.summary()"
   ]
  },
  {
   "cell_type": "code",
   "execution_count": 17,
   "metadata": {
    "scrolled": true
   },
   "outputs": [
    {
     "name": "stdout",
     "output_type": "stream",
     "text": [
      "Epoch 1/200\n",
      "\u001b[1m 1/12\u001b[0m \u001b[32m━\u001b[0m\u001b[37m━━━━━━━━━━━━━━━━━━━\u001b[0m \u001b[1m17s\u001b[0m 2s/step - acc: 0.0625 - loss: 20.1338 - metric_f1score: 0.0678\n",
      "Epoch 1: val_acc improved from -inf to 0.09375, saving model to models/multi_hand_gesture_classifier.h5\n"
     ]
    },
    {
     "name": "stderr",
     "output_type": "stream",
     "text": [
      "WARNING:absl:You are saving your model as an HDF5 file via `model.save()` or `keras.saving.save_model(model)`. This file format is considered legacy. We recommend using instead the native Keras format, e.g. `model.save('my_model.keras')` or `keras.saving.save_model(model, 'my_model.keras')`. \n"
     ]
    },
    {
     "name": "stdout",
     "output_type": "stream",
     "text": [
      "\u001b[1m12/12\u001b[0m \u001b[32m━━━━━━━━━━━━━━━━━━━━\u001b[0m\u001b[37m\u001b[0m \u001b[1m2s\u001b[0m 33ms/step - acc: 0.0640 - loss: 13.8531 - metric_f1score: nan - val_acc: 0.0938 - val_loss: 5.1632 - val_metric_f1score: nan - learning_rate: 0.0010\n",
      "Epoch 2/200\n",
      "\u001b[1m 1/12\u001b[0m \u001b[32m━\u001b[0m\u001b[37m━━━━━━━━━━━━━━━━━━━\u001b[0m \u001b[1m0s\u001b[0m 16ms/step - acc: 0.0000e+00 - loss: 6.6527 - metric_f1score: nan\n",
      "Epoch 2: val_acc improved from 0.09375 to 0.30208, saving model to models/multi_hand_gesture_classifier.h5\n"
     ]
    },
    {
     "name": "stderr",
     "output_type": "stream",
     "text": [
      "/opt/anaconda3/envs/hi/lib/python3.10/site-packages/keras/src/callbacks/callback_list.py:145: UserWarning: Learning rate reduction is conditioned on metric `val_metric_F1score` which is not available. Available metrics are: acc,loss,metric_f1score,val_acc,val_loss,val_metric_f1score,learning_rate.\n",
      "  callback.on_epoch_end(epoch, logs)\n",
      "/opt/anaconda3/envs/hi/lib/python3.10/site-packages/keras/src/callbacks/early_stopping.py:153: UserWarning: Early stopping conditioned on metric `val_metric_F1score` which is not available. Available metrics are: acc,loss,metric_f1score,val_acc,val_loss,val_metric_f1score,learning_rate\n",
      "  current = self.get_monitor_value(logs)\n",
      "WARNING:absl:You are saving your model as an HDF5 file via `model.save()` or `keras.saving.save_model(model)`. This file format is considered legacy. We recommend using instead the native Keras format, e.g. `model.save('my_model.keras')` or `keras.saving.save_model(model, 'my_model.keras')`. \n"
     ]
    },
    {
     "name": "stdout",
     "output_type": "stream",
     "text": [
      "\u001b[1m12/12\u001b[0m \u001b[32m━━━━━━━━━━━━━━━━━━━━\u001b[0m\u001b[37m\u001b[0m \u001b[1m0s\u001b[0m 8ms/step - acc: 0.1277 - loss: 6.2974 - metric_f1score: nan - val_acc: 0.3021 - val_loss: 3.7577 - val_metric_f1score: 0.1604 - learning_rate: 0.0010\n",
      "Epoch 3/200\n",
      "\u001b[1m 1/12\u001b[0m \u001b[32m━\u001b[0m\u001b[37m━━━━━━━━━━━━━━━━━━━\u001b[0m \u001b[1m0s\u001b[0m 17ms/step - acc: 0.2188 - loss: 3.7534 - metric_f1score: 0.1951\n",
      "Epoch 3: val_acc improved from 0.30208 to 0.55208, saving model to models/multi_hand_gesture_classifier.h5\n"
     ]
    },
    {
     "name": "stderr",
     "output_type": "stream",
     "text": [
      "WARNING:absl:You are saving your model as an HDF5 file via `model.save()` or `keras.saving.save_model(model)`. This file format is considered legacy. We recommend using instead the native Keras format, e.g. `model.save('my_model.keras')` or `keras.saving.save_model(model, 'my_model.keras')`. \n"
     ]
    },
    {
     "name": "stdout",
     "output_type": "stream",
     "text": [
      "\u001b[1m12/12\u001b[0m \u001b[32m━━━━━━━━━━━━━━━━━━━━\u001b[0m\u001b[37m\u001b[0m \u001b[1m0s\u001b[0m 8ms/step - acc: 0.3104 - loss: 3.9988 - metric_f1score: 0.1993 - val_acc: 0.5521 - val_loss: 3.1353 - val_metric_f1score: 0.2302 - learning_rate: 0.0010\n",
      "Epoch 4/200\n",
      "\u001b[1m 1/12\u001b[0m \u001b[32m━\u001b[0m\u001b[37m━━━━━━━━━━━━━━━━━━━\u001b[0m \u001b[1m0s\u001b[0m 16ms/step - acc: 0.3125 - loss: 3.8223 - metric_f1score: 0.1000\n",
      "Epoch 4: val_acc improved from 0.55208 to 0.60417, saving model to models/multi_hand_gesture_classifier.h5\n"
     ]
    },
    {
     "name": "stderr",
     "output_type": "stream",
     "text": [
      "WARNING:absl:You are saving your model as an HDF5 file via `model.save()` or `keras.saving.save_model(model)`. This file format is considered legacy. We recommend using instead the native Keras format, e.g. `model.save('my_model.keras')` or `keras.saving.save_model(model, 'my_model.keras')`. \n"
     ]
    },
    {
     "name": "stdout",
     "output_type": "stream",
     "text": [
      "\u001b[1m12/12\u001b[0m \u001b[32m━━━━━━━━━━━━━━━━━━━━\u001b[0m\u001b[37m\u001b[0m \u001b[1m0s\u001b[0m 8ms/step - acc: 0.3798 - loss: 3.5563 - metric_f1score: 0.1869 - val_acc: 0.6042 - val_loss: 2.9326 - val_metric_f1score: 0.2424 - learning_rate: 0.0010\n",
      "Epoch 5/200\n",
      "\u001b[1m 1/12\u001b[0m \u001b[32m━\u001b[0m\u001b[37m━━━━━━━━━━━━━━━━━━━\u001b[0m \u001b[1m0s\u001b[0m 16ms/step - acc: 0.3750 - loss: 4.9866 - metric_f1score: 0.1538\n",
      "Epoch 5: val_acc improved from 0.60417 to 0.61458, saving model to models/multi_hand_gesture_classifier.h5\n"
     ]
    },
    {
     "name": "stderr",
     "output_type": "stream",
     "text": [
      "WARNING:absl:You are saving your model as an HDF5 file via `model.save()` or `keras.saving.save_model(model)`. This file format is considered legacy. We recommend using instead the native Keras format, e.g. `model.save('my_model.keras')` or `keras.saving.save_model(model, 'my_model.keras')`. \n"
     ]
    },
    {
     "name": "stdout",
     "output_type": "stream",
     "text": [
      "\u001b[1m12/12\u001b[0m \u001b[32m━━━━━━━━━━━━━━━━━━━━\u001b[0m\u001b[37m\u001b[0m \u001b[1m0s\u001b[0m 8ms/step - acc: 0.4076 - loss: 3.6961 - metric_f1score: 0.2130 - val_acc: 0.6146 - val_loss: 2.8216 - val_metric_f1score: 0.3062 - learning_rate: 0.0010\n",
      "Epoch 6/200\n",
      "\u001b[1m 1/12\u001b[0m \u001b[32m━\u001b[0m\u001b[37m━━━━━━━━━━━━━━━━━━━\u001b[0m \u001b[1m0s\u001b[0m 15ms/step - acc: 0.3125 - loss: 4.3162 - metric_f1score: 0.1905\n",
      "Epoch 6: val_acc improved from 0.61458 to 0.73958, saving model to models/multi_hand_gesture_classifier.h5\n"
     ]
    },
    {
     "name": "stderr",
     "output_type": "stream",
     "text": [
      "WARNING:absl:You are saving your model as an HDF5 file via `model.save()` or `keras.saving.save_model(model)`. This file format is considered legacy. We recommend using instead the native Keras format, e.g. `model.save('my_model.keras')` or `keras.saving.save_model(model, 'my_model.keras')`. \n"
     ]
    },
    {
     "name": "stdout",
     "output_type": "stream",
     "text": [
      "\u001b[1m12/12\u001b[0m \u001b[32m━━━━━━━━━━━━━━━━━━━━\u001b[0m\u001b[37m\u001b[0m \u001b[1m0s\u001b[0m 7ms/step - acc: 0.4406 - loss: 3.3176 - metric_f1score: 0.2831 - val_acc: 0.7396 - val_loss: 2.6568 - val_metric_f1score: 0.3803 - learning_rate: 0.0010\n",
      "Epoch 7/200\n",
      "\u001b[1m 1/12\u001b[0m \u001b[32m━\u001b[0m\u001b[37m━━━━━━━━━━━━━━━━━━━\u001b[0m \u001b[1m0s\u001b[0m 16ms/step - acc: 0.4062 - loss: 3.0568 - metric_f1score: 0.2051\n",
      "Epoch 7: val_acc improved from 0.73958 to 0.76042, saving model to models/multi_hand_gesture_classifier.h5\n"
     ]
    },
    {
     "name": "stderr",
     "output_type": "stream",
     "text": [
      "WARNING:absl:You are saving your model as an HDF5 file via `model.save()` or `keras.saving.save_model(model)`. This file format is considered legacy. We recommend using instead the native Keras format, e.g. `model.save('my_model.keras')` or `keras.saving.save_model(model, 'my_model.keras')`. \n"
     ]
    },
    {
     "name": "stdout",
     "output_type": "stream",
     "text": [
      "\u001b[1m12/12\u001b[0m \u001b[32m━━━━━━━━━━━━━━━━━━━━\u001b[0m\u001b[37m\u001b[0m \u001b[1m0s\u001b[0m 7ms/step - acc: 0.4865 - loss: 2.9132 - metric_f1score: 0.3202 - val_acc: 0.7604 - val_loss: 2.4743 - val_metric_f1score: 0.4932 - learning_rate: 0.0010\n",
      "Epoch 8/200\n",
      "\u001b[1m 1/12\u001b[0m \u001b[32m━\u001b[0m\u001b[37m━━━━━━━━━━━━━━━━━━━\u001b[0m \u001b[1m0s\u001b[0m 16ms/step - acc: 0.4688 - loss: 3.1562 - metric_f1score: 0.2791\n",
      "Epoch 8: val_acc improved from 0.76042 to 0.79167, saving model to models/multi_hand_gesture_classifier.h5\n"
     ]
    },
    {
     "name": "stderr",
     "output_type": "stream",
     "text": [
      "WARNING:absl:You are saving your model as an HDF5 file via `model.save()` or `keras.saving.save_model(model)`. This file format is considered legacy. We recommend using instead the native Keras format, e.g. `model.save('my_model.keras')` or `keras.saving.save_model(model, 'my_model.keras')`. \n"
     ]
    },
    {
     "name": "stdout",
     "output_type": "stream",
     "text": [
      "\u001b[1m12/12\u001b[0m \u001b[32m━━━━━━━━━━━━━━━━━━━━\u001b[0m\u001b[37m\u001b[0m \u001b[1m0s\u001b[0m 8ms/step - acc: 0.5263 - loss: 2.8870 - metric_f1score: 0.3752 - val_acc: 0.7917 - val_loss: 2.3201 - val_metric_f1score: 0.5064 - learning_rate: 0.0010\n",
      "Epoch 9/200\n",
      "\u001b[1m10/12\u001b[0m \u001b[32m━━━━━━━━━━━━━━━━\u001b[0m\u001b[37m━━━━\u001b[0m \u001b[1m0s\u001b[0m 6ms/step - acc: 0.6354 - loss: 2.5226 - metric_f1score: 0.5050 \n",
      "Epoch 9: val_acc improved from 0.79167 to 0.81250, saving model to models/multi_hand_gesture_classifier.h5\n"
     ]
    },
    {
     "name": "stderr",
     "output_type": "stream",
     "text": [
      "WARNING:absl:You are saving your model as an HDF5 file via `model.save()` or `keras.saving.save_model(model)`. This file format is considered legacy. We recommend using instead the native Keras format, e.g. `model.save('my_model.keras')` or `keras.saving.save_model(model, 'my_model.keras')`. \n"
     ]
    },
    {
     "name": "stdout",
     "output_type": "stream",
     "text": [
      "\u001b[1m12/12\u001b[0m \u001b[32m━━━━━━━━━━━━━━━━━━━━\u001b[0m\u001b[37m\u001b[0m \u001b[1m0s\u001b[0m 11ms/step - acc: 0.6312 - loss: 2.5252 - metric_f1score: 0.5007 - val_acc: 0.8125 - val_loss: 2.1074 - val_metric_f1score: 0.5644 - learning_rate: 0.0010\n",
      "Epoch 10/200\n",
      "\u001b[1m 1/12\u001b[0m \u001b[32m━\u001b[0m\u001b[37m━━━━━━━━━━━━━━━━━━━\u001b[0m \u001b[1m0s\u001b[0m 16ms/step - acc: 0.5625 - loss: 2.5797 - metric_f1score: 0.4000\n",
      "Epoch 10: val_acc did not improve from 0.81250\n",
      "\u001b[1m12/12\u001b[0m \u001b[32m━━━━━━━━━━━━━━━━━━━━\u001b[0m\u001b[37m\u001b[0m \u001b[1m0s\u001b[0m 7ms/step - acc: 0.5993 - loss: 2.3808 - metric_f1score: 0.5231 - val_acc: 0.8125 - val_loss: 1.8053 - val_metric_f1score: 0.6456 - learning_rate: 0.0010\n",
      "Epoch 11/200\n",
      "\u001b[1m 1/12\u001b[0m \u001b[32m━\u001b[0m\u001b[37m━━━━━━━━━━━━━━━━━━━\u001b[0m \u001b[1m0s\u001b[0m 16ms/step - acc: 0.6562 - loss: 2.2418 - metric_f1score: 0.4783\n",
      "Epoch 11: val_acc did not improve from 0.81250\n",
      "\u001b[1m12/12\u001b[0m \u001b[32m━━━━━━━━━━━━━━━━━━━━\u001b[0m\u001b[37m\u001b[0m \u001b[1m0s\u001b[0m 7ms/step - acc: 0.6703 - loss: 1.9738 - metric_f1score: 0.6428 - val_acc: 0.8125 - val_loss: 1.6601 - val_metric_f1score: 0.8031 - learning_rate: 0.0010\n",
      "Epoch 12/200\n",
      "\u001b[1m 1/12\u001b[0m \u001b[32m━\u001b[0m\u001b[37m━━━━━━━━━━━━━━━━━━━\u001b[0m \u001b[1m0s\u001b[0m 17ms/step - acc: 0.6250 - loss: 2.6576 - metric_f1score: 0.6038\n",
      "Epoch 12: val_acc improved from 0.81250 to 0.83333, saving model to models/multi_hand_gesture_classifier.h5\n"
     ]
    },
    {
     "name": "stderr",
     "output_type": "stream",
     "text": [
      "WARNING:absl:You are saving your model as an HDF5 file via `model.save()` or `keras.saving.save_model(model)`. This file format is considered legacy. We recommend using instead the native Keras format, e.g. `model.save('my_model.keras')` or `keras.saving.save_model(model, 'my_model.keras')`. \n"
     ]
    },
    {
     "name": "stdout",
     "output_type": "stream",
     "text": [
      "\u001b[1m12/12\u001b[0m \u001b[32m━━━━━━━━━━━━━━━━━━━━\u001b[0m\u001b[37m\u001b[0m \u001b[1m0s\u001b[0m 8ms/step - acc: 0.7071 - loss: 2.0338 - metric_f1score: 0.6841 - val_acc: 0.8333 - val_loss: 1.6070 - val_metric_f1score: 0.8111 - learning_rate: 0.0010\n",
      "Epoch 13/200\n",
      "\u001b[1m 1/12\u001b[0m \u001b[32m━\u001b[0m\u001b[37m━━━━━━━━━━━━━━━━━━━\u001b[0m \u001b[1m0s\u001b[0m 17ms/step - acc: 0.7188 - loss: 2.2057 - metric_f1score: 0.6000\n",
      "Epoch 13: val_acc did not improve from 0.83333\n",
      "\u001b[1m12/12\u001b[0m \u001b[32m━━━━━━━━━━━━━━━━━━━━\u001b[0m\u001b[37m\u001b[0m \u001b[1m0s\u001b[0m 7ms/step - acc: 0.7257 - loss: 1.7958 - metric_f1score: 0.7183 - val_acc: 0.8229 - val_loss: 1.4736 - val_metric_f1score: 0.8447 - learning_rate: 0.0010\n",
      "Epoch 14/200\n",
      "\u001b[1m 1/12\u001b[0m \u001b[32m━\u001b[0m\u001b[37m━━━━━━━━━━━━━━━━━━━\u001b[0m \u001b[1m0s\u001b[0m 15ms/step - acc: 0.7500 - loss: 1.6897 - metric_f1score: 0.7308\n",
      "Epoch 14: val_acc improved from 0.83333 to 0.85417, saving model to models/multi_hand_gesture_classifier.h5\n"
     ]
    },
    {
     "name": "stderr",
     "output_type": "stream",
     "text": [
      "WARNING:absl:You are saving your model as an HDF5 file via `model.save()` or `keras.saving.save_model(model)`. This file format is considered legacy. We recommend using instead the native Keras format, e.g. `model.save('my_model.keras')` or `keras.saving.save_model(model, 'my_model.keras')`. \n"
     ]
    },
    {
     "name": "stdout",
     "output_type": "stream",
     "text": [
      "\u001b[1m12/12\u001b[0m \u001b[32m━━━━━━━━━━━━━━━━━━━━\u001b[0m\u001b[37m\u001b[0m \u001b[1m0s\u001b[0m 8ms/step - acc: 0.7382 - loss: 1.6536 - metric_f1score: 0.7443 - val_acc: 0.8542 - val_loss: 1.3697 - val_metric_f1score: 0.8763 - learning_rate: 0.0010\n",
      "Epoch 15/200\n",
      "\u001b[1m 1/12\u001b[0m \u001b[32m━\u001b[0m\u001b[37m━━━━━━━━━━━━━━━━━━━\u001b[0m \u001b[1m0s\u001b[0m 17ms/step - acc: 0.7188 - loss: 1.9261 - metric_f1score: 0.7407\n",
      "Epoch 15: val_acc did not improve from 0.85417\n",
      "\u001b[1m12/12\u001b[0m \u001b[32m━━━━━━━━━━━━━━━━━━━━\u001b[0m\u001b[37m\u001b[0m \u001b[1m0s\u001b[0m 7ms/step - acc: 0.7526 - loss: 1.7503 - metric_f1score: 0.7549 - val_acc: 0.8438 - val_loss: 1.3351 - val_metric_f1score: 0.8899 - learning_rate: 0.0010\n",
      "Epoch 16/200\n",
      "\u001b[1m 1/12\u001b[0m \u001b[32m━\u001b[0m\u001b[37m━━━━━━━━━━━━━━━━━━━\u001b[0m \u001b[1m0s\u001b[0m 17ms/step - acc: 0.5938 - loss: 1.9344 - metric_f1score: 0.6538\n",
      "Epoch 16: val_acc improved from 0.85417 to 0.88542, saving model to models/multi_hand_gesture_classifier.h5\n"
     ]
    },
    {
     "name": "stderr",
     "output_type": "stream",
     "text": [
      "WARNING:absl:You are saving your model as an HDF5 file via `model.save()` or `keras.saving.save_model(model)`. This file format is considered legacy. We recommend using instead the native Keras format, e.g. `model.save('my_model.keras')` or `keras.saving.save_model(model, 'my_model.keras')`. \n"
     ]
    },
    {
     "name": "stdout",
     "output_type": "stream",
     "text": [
      "\u001b[1m12/12\u001b[0m \u001b[32m━━━━━━━━━━━━━━━━━━━━\u001b[0m\u001b[37m\u001b[0m \u001b[1m0s\u001b[0m 8ms/step - acc: 0.7442 - loss: 1.6359 - metric_f1score: 0.7541 - val_acc: 0.8854 - val_loss: 1.2063 - val_metric_f1score: 0.8912 - learning_rate: 0.0010\n",
      "Epoch 17/200\n",
      "\u001b[1m 1/12\u001b[0m \u001b[32m━\u001b[0m\u001b[37m━━━━━━━━━━━━━━━━━━━\u001b[0m \u001b[1m0s\u001b[0m 16ms/step - acc: 0.6875 - loss: 1.7864 - metric_f1score: 0.8000\n",
      "Epoch 17: val_acc improved from 0.88542 to 0.89583, saving model to models/multi_hand_gesture_classifier.h5\n"
     ]
    },
    {
     "name": "stderr",
     "output_type": "stream",
     "text": [
      "WARNING:absl:You are saving your model as an HDF5 file via `model.save()` or `keras.saving.save_model(model)`. This file format is considered legacy. We recommend using instead the native Keras format, e.g. `model.save('my_model.keras')` or `keras.saving.save_model(model, 'my_model.keras')`. \n"
     ]
    },
    {
     "name": "stdout",
     "output_type": "stream",
     "text": [
      "\u001b[1m12/12\u001b[0m \u001b[32m━━━━━━━━━━━━━━━━━━━━\u001b[0m\u001b[37m\u001b[0m \u001b[1m0s\u001b[0m 8ms/step - acc: 0.7361 - loss: 1.6080 - metric_f1score: 0.7980 - val_acc: 0.8958 - val_loss: 1.1911 - val_metric_f1score: 0.9026 - learning_rate: 0.0010\n",
      "Epoch 18/200\n",
      "\u001b[1m 1/12\u001b[0m \u001b[32m━\u001b[0m\u001b[37m━━━━━━━━━━━━━━━━━━━\u001b[0m \u001b[1m0s\u001b[0m 16ms/step - acc: 0.7188 - loss: 1.7153 - metric_f1score: 0.6923\n",
      "Epoch 18: val_acc did not improve from 0.89583\n",
      "\u001b[1m12/12\u001b[0m \u001b[32m━━━━━━━━━━━━━━━━━━━━\u001b[0m\u001b[37m\u001b[0m \u001b[1m0s\u001b[0m 7ms/step - acc: 0.7857 - loss: 1.4949 - metric_f1score: 0.7860 - val_acc: 0.8958 - val_loss: 1.1037 - val_metric_f1score: 0.9327 - learning_rate: 0.0010\n",
      "Epoch 19/200\n",
      "\u001b[1m 8/12\u001b[0m \u001b[32m━━━━━━━━━━━━━\u001b[0m\u001b[37m━━━━━━━\u001b[0m \u001b[1m0s\u001b[0m 8ms/step - acc: 0.7932 - loss: 1.4136 - metric_f1score: 0.8004 \n",
      "Epoch 19: val_acc improved from 0.89583 to 0.91667, saving model to models/multi_hand_gesture_classifier.h5\n"
     ]
    },
    {
     "name": "stderr",
     "output_type": "stream",
     "text": [
      "WARNING:absl:You are saving your model as an HDF5 file via `model.save()` or `keras.saving.save_model(model)`. This file format is considered legacy. We recommend using instead the native Keras format, e.g. `model.save('my_model.keras')` or `keras.saving.save_model(model, 'my_model.keras')`. \n"
     ]
    },
    {
     "name": "stdout",
     "output_type": "stream",
     "text": [
      "\u001b[1m12/12\u001b[0m \u001b[32m━━━━━━━━━━━━━━━━━━━━\u001b[0m\u001b[37m\u001b[0m \u001b[1m0s\u001b[0m 11ms/step - acc: 0.7959 - loss: 1.4145 - metric_f1score: 0.8027 - val_acc: 0.9167 - val_loss: 1.0664 - val_metric_f1score: 0.9327 - learning_rate: 0.0010\n",
      "Epoch 20/200\n",
      "\u001b[1m 1/12\u001b[0m \u001b[32m━\u001b[0m\u001b[37m━━━━━━━━━━━━━━━━━━━\u001b[0m \u001b[1m0s\u001b[0m 17ms/step - acc: 0.7188 - loss: 1.4443 - metric_f1score: 0.8070\n",
      "Epoch 20: val_acc did not improve from 0.91667\n",
      "\u001b[1m12/12\u001b[0m \u001b[32m━━━━━━━━━━━━━━━━━━━━\u001b[0m\u001b[37m\u001b[0m \u001b[1m0s\u001b[0m 7ms/step - acc: 0.8125 - loss: 1.3427 - metric_f1score: 0.8257 - val_acc: 0.9062 - val_loss: 1.0444 - val_metric_f1score: 0.9319 - learning_rate: 0.0010\n",
      "Epoch 21/200\n",
      "\u001b[1m 1/12\u001b[0m \u001b[32m━\u001b[0m\u001b[37m━━━━━━━━━━━━━━━━━━━\u001b[0m \u001b[1m0s\u001b[0m 16ms/step - acc: 0.8125 - loss: 1.3693 - metric_f1score: 0.8621\n",
      "Epoch 21: val_acc improved from 0.91667 to 0.95833, saving model to models/multi_hand_gesture_classifier.h5\n"
     ]
    },
    {
     "name": "stderr",
     "output_type": "stream",
     "text": [
      "WARNING:absl:You are saving your model as an HDF5 file via `model.save()` or `keras.saving.save_model(model)`. This file format is considered legacy. We recommend using instead the native Keras format, e.g. `model.save('my_model.keras')` or `keras.saving.save_model(model, 'my_model.keras')`. \n"
     ]
    },
    {
     "name": "stdout",
     "output_type": "stream",
     "text": [
      "\u001b[1m12/12\u001b[0m \u001b[32m━━━━━━━━━━━━━━━━━━━━\u001b[0m\u001b[37m\u001b[0m \u001b[1m0s\u001b[0m 8ms/step - acc: 0.8491 - loss: 1.2433 - metric_f1score: 0.8669 - val_acc: 0.9583 - val_loss: 0.9888 - val_metric_f1score: 0.9218 - learning_rate: 0.0010\n",
      "Epoch 22/200\n",
      "\u001b[1m 1/12\u001b[0m \u001b[32m━\u001b[0m\u001b[37m━━━━━━━━━━━━━━━━━━━\u001b[0m \u001b[1m0s\u001b[0m 17ms/step - acc: 0.7812 - loss: 1.4584 - metric_f1score: 0.8070\n",
      "Epoch 22: val_acc improved from 0.95833 to 0.96875, saving model to models/multi_hand_gesture_classifier.h5\n"
     ]
    },
    {
     "name": "stderr",
     "output_type": "stream",
     "text": [
      "WARNING:absl:You are saving your model as an HDF5 file via `model.save()` or `keras.saving.save_model(model)`. This file format is considered legacy. We recommend using instead the native Keras format, e.g. `model.save('my_model.keras')` or `keras.saving.save_model(model, 'my_model.keras')`. \n"
     ]
    },
    {
     "name": "stdout",
     "output_type": "stream",
     "text": [
      "\u001b[1m12/12\u001b[0m \u001b[32m━━━━━━━━━━━━━━━━━━━━\u001b[0m\u001b[37m\u001b[0m \u001b[1m0s\u001b[0m 8ms/step - acc: 0.8401 - loss: 1.3039 - metric_f1score: 0.8374 - val_acc: 0.9688 - val_loss: 0.9099 - val_metric_f1score: 0.9495 - learning_rate: 0.0010\n",
      "Epoch 23/200\n",
      "\u001b[1m 1/12\u001b[0m \u001b[32m━\u001b[0m\u001b[37m━━━━━━━━━━━━━━━━━━━\u001b[0m \u001b[1m0s\u001b[0m 16ms/step - acc: 0.7812 - loss: 1.2805 - metric_f1score: 0.8276\n",
      "Epoch 23: val_acc did not improve from 0.96875\n",
      "\u001b[1m12/12\u001b[0m \u001b[32m━━━━━━━━━━━━━━━━━━━━\u001b[0m\u001b[37m\u001b[0m \u001b[1m0s\u001b[0m 7ms/step - acc: 0.8553 - loss: 1.1726 - metric_f1score: 0.8707 - val_acc: 0.9688 - val_loss: 0.8823 - val_metric_f1score: 0.9729 - learning_rate: 0.0010\n",
      "Epoch 24/200\n",
      "\u001b[1m 1/12\u001b[0m \u001b[32m━\u001b[0m\u001b[37m━━━━━━━━━━━━━━━━━━━\u001b[0m \u001b[1m0s\u001b[0m 16ms/step - acc: 0.8438 - loss: 1.0978 - metric_f1score: 0.8667\n",
      "Epoch 24: val_acc improved from 0.96875 to 0.98958, saving model to models/multi_hand_gesture_classifier.h5\n"
     ]
    },
    {
     "name": "stderr",
     "output_type": "stream",
     "text": [
      "WARNING:absl:You are saving your model as an HDF5 file via `model.save()` or `keras.saving.save_model(model)`. This file format is considered legacy. We recommend using instead the native Keras format, e.g. `model.save('my_model.keras')` or `keras.saving.save_model(model, 'my_model.keras')`. \n"
     ]
    },
    {
     "name": "stdout",
     "output_type": "stream",
     "text": [
      "\u001b[1m12/12\u001b[0m \u001b[32m━━━━━━━━━━━━━━━━━━━━\u001b[0m\u001b[37m\u001b[0m \u001b[1m0s\u001b[0m 8ms/step - acc: 0.8770 - loss: 1.0880 - metric_f1score: 0.8819 - val_acc: 0.9896 - val_loss: 0.8192 - val_metric_f1score: 0.9783 - learning_rate: 0.0010\n",
      "Epoch 25/200\n",
      "\u001b[1m 1/12\u001b[0m \u001b[32m━\u001b[0m\u001b[37m━━━━━━━━━━━━━━━━━━━\u001b[0m \u001b[1m0s\u001b[0m 16ms/step - acc: 0.8438 - loss: 1.1929 - metric_f1score: 0.8276\n",
      "Epoch 25: val_acc did not improve from 0.98958\n",
      "\u001b[1m12/12\u001b[0m \u001b[32m━━━━━━━━━━━━━━━━━━━━\u001b[0m\u001b[37m\u001b[0m \u001b[1m0s\u001b[0m 7ms/step - acc: 0.8763 - loss: 1.1536 - metric_f1score: 0.8757 - val_acc: 0.9896 - val_loss: 0.7895 - val_metric_f1score: 0.9894 - learning_rate: 0.0010\n",
      "Epoch 26/200\n",
      "\u001b[1m 1/12\u001b[0m \u001b[32m━\u001b[0m\u001b[37m━━━━━━━━━━━━━━━━━━━\u001b[0m \u001b[1m0s\u001b[0m 17ms/step - acc: 0.8750 - loss: 0.9093 - metric_f1score: 0.8852\n",
      "Epoch 26: val_acc improved from 0.98958 to 1.00000, saving model to models/multi_hand_gesture_classifier.h5\n"
     ]
    },
    {
     "name": "stderr",
     "output_type": "stream",
     "text": [
      "WARNING:absl:You are saving your model as an HDF5 file via `model.save()` or `keras.saving.save_model(model)`. This file format is considered legacy. We recommend using instead the native Keras format, e.g. `model.save('my_model.keras')` or `keras.saving.save_model(model, 'my_model.keras')`. \n"
     ]
    },
    {
     "name": "stdout",
     "output_type": "stream",
     "text": [
      "\u001b[1m12/12\u001b[0m \u001b[32m━━━━━━━━━━━━━━━━━━━━\u001b[0m\u001b[37m\u001b[0m \u001b[1m0s\u001b[0m 8ms/step - acc: 0.9024 - loss: 0.9813 - metric_f1score: 0.9088 - val_acc: 1.0000 - val_loss: 0.7652 - val_metric_f1score: 0.9892 - learning_rate: 0.0010\n",
      "Epoch 27/200\n",
      "\u001b[1m 1/12\u001b[0m \u001b[32m━\u001b[0m\u001b[37m━━━━━━━━━━━━━━━━━━━\u001b[0m \u001b[1m0s\u001b[0m 16ms/step - acc: 0.9062 - loss: 1.1105 - metric_f1score: 0.8814\n",
      "Epoch 27: val_acc did not improve from 1.00000\n",
      "\u001b[1m12/12\u001b[0m \u001b[32m━━━━━━━━━━━━━━━━━━━━\u001b[0m\u001b[37m\u001b[0m \u001b[1m0s\u001b[0m 7ms/step - acc: 0.9044 - loss: 1.0201 - metric_f1score: 0.8997 - val_acc: 1.0000 - val_loss: 0.7419 - val_metric_f1score: 0.9840 - learning_rate: 0.0010\n",
      "Epoch 28/200\n",
      "\u001b[1m 1/12\u001b[0m \u001b[32m━\u001b[0m\u001b[37m━━━━━━━━━━━━━━━━━━━\u001b[0m \u001b[1m0s\u001b[0m 16ms/step - acc: 0.9375 - loss: 1.0216 - metric_f1score: 0.9206\n",
      "Epoch 28: val_acc did not improve from 1.00000\n",
      "\u001b[1m12/12\u001b[0m \u001b[32m━━━━━━━━━━━━━━━━━━━━\u001b[0m\u001b[37m\u001b[0m \u001b[1m0s\u001b[0m 7ms/step - acc: 0.9276 - loss: 0.9677 - metric_f1score: 0.9219 - val_acc: 0.9896 - val_loss: 0.7417 - val_metric_f1score: 0.9894 - learning_rate: 0.0010\n",
      "Epoch 29/200\n",
      "\u001b[1m 1/12\u001b[0m \u001b[32m━\u001b[0m\u001b[37m━━━━━━━━━━━━━━━━━━━\u001b[0m \u001b[1m0s\u001b[0m 16ms/step - acc: 0.9062 - loss: 0.9514 - metric_f1score: 0.8621\n",
      "Epoch 29: val_acc did not improve from 1.00000\n",
      "\u001b[1m12/12\u001b[0m \u001b[32m━━━━━━━━━━━━━━━━━━━━\u001b[0m\u001b[37m\u001b[0m \u001b[1m0s\u001b[0m 7ms/step - acc: 0.8964 - loss: 0.9937 - metric_f1score: 0.8984 - val_acc: 0.9896 - val_loss: 0.7394 - val_metric_f1score: 0.9788 - learning_rate: 0.0010\n",
      "Epoch 30/200\n",
      "\u001b[1m 1/12\u001b[0m \u001b[32m━\u001b[0m\u001b[37m━━━━━━━━━━━━━━━━━━━\u001b[0m \u001b[1m0s\u001b[0m 16ms/step - acc: 0.9062 - loss: 0.9558 - metric_f1score: 0.9153\n",
      "Epoch 30: val_acc did not improve from 1.00000\n",
      "\u001b[1m12/12\u001b[0m \u001b[32m━━━━━━━━━━━━━━━━━━━━\u001b[0m\u001b[37m\u001b[0m \u001b[1m0s\u001b[0m 7ms/step - acc: 0.9440 - loss: 0.8646 - metric_f1score: 0.9451 - val_acc: 0.9792 - val_loss: 0.7387 - val_metric_f1score: 0.9788 - learning_rate: 0.0010\n",
      "Epoch 31/200\n",
      "\u001b[1m 1/12\u001b[0m \u001b[32m━\u001b[0m\u001b[37m━━━━━━━━━━━━━━━━━━━\u001b[0m \u001b[1m0s\u001b[0m 15ms/step - acc: 0.9375 - loss: 0.8498 - metric_f1score: 0.9180\n",
      "Epoch 31: val_acc did not improve from 1.00000\n",
      "\u001b[1m12/12\u001b[0m \u001b[32m━━━━━━━━━━━━━━━━━━━━\u001b[0m\u001b[37m\u001b[0m \u001b[1m0s\u001b[0m 7ms/step - acc: 0.9466 - loss: 0.8418 - metric_f1score: 0.9390 - val_acc: 0.9792 - val_loss: 0.7426 - val_metric_f1score: 0.9788 - learning_rate: 0.0010\n",
      "Epoch 32/200\n",
      "\u001b[1m 1/12\u001b[0m \u001b[32m━\u001b[0m\u001b[37m━━━━━━━━━━━━━━━━━━━\u001b[0m \u001b[1m0s\u001b[0m 49ms/step - acc: 0.9688 - loss: 0.8169 - metric_f1score: 0.9508\n",
      "Epoch 32: val_acc did not improve from 1.00000\n",
      "\u001b[1m12/12\u001b[0m \u001b[32m━━━━━━━━━━━━━━━━━━━━\u001b[0m\u001b[37m\u001b[0m \u001b[1m0s\u001b[0m 7ms/step - acc: 0.9645 - loss: 0.7945 - metric_f1score: 0.9526 - val_acc: 0.9792 - val_loss: 0.7225 - val_metric_f1score: 0.9788 - learning_rate: 0.0010\n",
      "Epoch 33/200\n",
      "\u001b[1m 1/12\u001b[0m \u001b[32m━\u001b[0m\u001b[37m━━━━━━━━━━━━━━━━━━━\u001b[0m \u001b[1m0s\u001b[0m 16ms/step - acc: 0.8750 - loss: 1.0082 - metric_f1score: 0.8710\n",
      "Epoch 33: val_acc did not improve from 1.00000\n",
      "\u001b[1m12/12\u001b[0m \u001b[32m━━━━━━━━━━━━━━━━━━━━\u001b[0m\u001b[37m\u001b[0m \u001b[1m0s\u001b[0m 7ms/step - acc: 0.9306 - loss: 0.8731 - metric_f1score: 0.9286 - val_acc: 0.9896 - val_loss: 0.6915 - val_metric_f1score: 0.9892 - learning_rate: 0.0010\n",
      "Epoch 34/200\n",
      "\u001b[1m 1/12\u001b[0m \u001b[32m━\u001b[0m\u001b[37m━━━━━━━━━━━━━━━━━━━\u001b[0m \u001b[1m0s\u001b[0m 15ms/step - acc: 0.9375 - loss: 0.7698 - metric_f1score: 0.9524\n",
      "Epoch 34: val_acc did not improve from 1.00000\n",
      "\u001b[1m12/12\u001b[0m \u001b[32m━━━━━━━━━━━━━━━━━━━━\u001b[0m\u001b[37m\u001b[0m \u001b[1m0s\u001b[0m 7ms/step - acc: 0.9309 - loss: 0.8290 - metric_f1score: 0.9292 - val_acc: 0.9688 - val_loss: 0.7198 - val_metric_f1score: 0.9688 - learning_rate: 0.0010\n",
      "Epoch 35/200\n",
      "\u001b[1m 1/12\u001b[0m \u001b[32m━\u001b[0m\u001b[37m━━━━━━━━━━━━━━━━━━━\u001b[0m \u001b[1m0s\u001b[0m 16ms/step - acc: 0.8438 - loss: 1.2496 - metric_f1score: 0.8710\n",
      "Epoch 35: val_acc did not improve from 1.00000\n",
      "\u001b[1m12/12\u001b[0m \u001b[32m━━━━━━━━━━━━━━━━━━━━\u001b[0m\u001b[37m\u001b[0m \u001b[1m0s\u001b[0m 7ms/step - acc: 0.8968 - loss: 0.9864 - metric_f1score: 0.8978 - val_acc: 1.0000 - val_loss: 0.6458 - val_metric_f1score: 1.0000 - learning_rate: 0.0010\n",
      "Epoch 36/200\n",
      "\u001b[1m 1/12\u001b[0m \u001b[32m━\u001b[0m\u001b[37m━━━━━━━━━━━━━━━━━━━\u001b[0m \u001b[1m0s\u001b[0m 16ms/step - acc: 0.8438 - loss: 0.9443 - metric_f1score: 0.8710\n",
      "Epoch 36: val_acc did not improve from 1.00000\n",
      "\u001b[1m12/12\u001b[0m \u001b[32m━━━━━━━━━━━━━━━━━━━━\u001b[0m\u001b[37m\u001b[0m \u001b[1m0s\u001b[0m 7ms/step - acc: 0.9261 - loss: 0.8173 - metric_f1score: 0.9294 - val_acc: 1.0000 - val_loss: 0.6352 - val_metric_f1score: 1.0000 - learning_rate: 0.0010\n",
      "Epoch 37/200\n",
      "\u001b[1m 1/12\u001b[0m \u001b[32m━\u001b[0m\u001b[37m━━━━━━━━━━━━━━━━━━━\u001b[0m \u001b[1m0s\u001b[0m 17ms/step - acc: 0.9375 - loss: 0.7604 - metric_f1score: 0.9524\n",
      "Epoch 37: val_acc did not improve from 1.00000\n",
      "\u001b[1m12/12\u001b[0m \u001b[32m━━━━━━━━━━━━━━━━━━━━\u001b[0m\u001b[37m\u001b[0m \u001b[1m0s\u001b[0m 7ms/step - acc: 0.9391 - loss: 0.7919 - metric_f1score: 0.9469 - val_acc: 0.9896 - val_loss: 0.6468 - val_metric_f1score: 0.9947 - learning_rate: 0.0010\n",
      "Epoch 38/200\n",
      "\u001b[1m 1/12\u001b[0m \u001b[32m━\u001b[0m\u001b[37m━━━━━━━━━━━━━━━━━━━\u001b[0m \u001b[1m0s\u001b[0m 17ms/step - acc: 0.9688 - loss: 0.6559 - metric_f1score: 0.9688\n",
      "Epoch 38: val_acc did not improve from 1.00000\n",
      "\u001b[1m12/12\u001b[0m \u001b[32m━━━━━━━━━━━━━━━━━━━━\u001b[0m\u001b[37m\u001b[0m \u001b[1m0s\u001b[0m 7ms/step - acc: 0.9593 - loss: 0.7010 - metric_f1score: 0.9608 - val_acc: 1.0000 - val_loss: 0.6255 - val_metric_f1score: 0.9947 - learning_rate: 0.0010\n",
      "Epoch 39/200\n",
      "\u001b[1m 1/12\u001b[0m \u001b[32m━\u001b[0m\u001b[37m━━━━━━━━━━━━━━━━━━━\u001b[0m \u001b[1m0s\u001b[0m 17ms/step - acc: 0.8750 - loss: 0.9822 - metric_f1score: 0.8710\n",
      "Epoch 39: val_acc did not improve from 1.00000\n",
      "\u001b[1m12/12\u001b[0m \u001b[32m━━━━━━━━━━━━━━━━━━━━\u001b[0m\u001b[37m\u001b[0m \u001b[1m0s\u001b[0m 7ms/step - acc: 0.9126 - loss: 0.8313 - metric_f1score: 0.9164 - val_acc: 1.0000 - val_loss: 0.6068 - val_metric_f1score: 1.0000 - learning_rate: 0.0010\n",
      "Epoch 40/200\n",
      "\u001b[1m 1/12\u001b[0m \u001b[32m━\u001b[0m\u001b[37m━━━━━━━━━━━━━━━━━━━\u001b[0m \u001b[1m0s\u001b[0m 17ms/step - acc: 0.9688 - loss: 0.7024 - metric_f1score: 0.9524\n",
      "Epoch 40: val_acc did not improve from 1.00000\n",
      "\u001b[1m12/12\u001b[0m \u001b[32m━━━━━━━━━━━━━━━━━━━━\u001b[0m\u001b[37m\u001b[0m \u001b[1m0s\u001b[0m 7ms/step - acc: 0.9352 - loss: 0.7690 - metric_f1score: 0.9318 - val_acc: 1.0000 - val_loss: 0.6004 - val_metric_f1score: 1.0000 - learning_rate: 0.0010\n",
      "Epoch 41/200\n",
      "\u001b[1m10/12\u001b[0m \u001b[32m━━━━━━━━━━━━━━━━\u001b[0m\u001b[37m━━━━\u001b[0m \u001b[1m0s\u001b[0m 7ms/step - acc: 0.9268 - loss: 0.7394 - metric_f1score: 0.9333 \n",
      "Epoch 41: val_acc did not improve from 1.00000\n",
      "\u001b[1m12/12\u001b[0m \u001b[32m━━━━━━━━━━━━━━━━━━━━\u001b[0m\u001b[37m\u001b[0m \u001b[1m0s\u001b[0m 12ms/step - acc: 0.9312 - loss: 0.7464 - metric_f1score: 0.9360 - val_acc: 1.0000 - val_loss: 0.5962 - val_metric_f1score: 1.0000 - learning_rate: 0.0010\n",
      "Epoch 42/200\n",
      "\u001b[1m 1/12\u001b[0m \u001b[32m━\u001b[0m\u001b[37m━━━━━━━━━━━━━━━━━━━\u001b[0m \u001b[1m0s\u001b[0m 16ms/step - acc: 0.9688 - loss: 0.6656 - metric_f1score: 0.9688\n",
      "Epoch 42: val_acc did not improve from 1.00000\n",
      "\u001b[1m12/12\u001b[0m \u001b[32m━━━━━━━━━━━━━━━━━━━━\u001b[0m\u001b[37m\u001b[0m \u001b[1m0s\u001b[0m 7ms/step - acc: 0.9585 - loss: 0.6805 - metric_f1score: 0.9602 - val_acc: 1.0000 - val_loss: 0.5824 - val_metric_f1score: 1.0000 - learning_rate: 0.0010\n",
      "Epoch 43/200\n",
      "\u001b[1m 1/12\u001b[0m \u001b[32m━\u001b[0m\u001b[37m━━━━━━━━━━━━━━━━━━━\u001b[0m \u001b[1m0s\u001b[0m 16ms/step - acc: 0.9062 - loss: 0.9114 - metric_f1score: 0.9032\n",
      "Epoch 43: val_acc did not improve from 1.00000\n",
      "\u001b[1m12/12\u001b[0m \u001b[32m━━━━━━━━━━━━━━━━━━━━\u001b[0m\u001b[37m\u001b[0m \u001b[1m0s\u001b[0m 7ms/step - acc: 0.9505 - loss: 0.7771 - metric_f1score: 0.9545 - val_acc: 1.0000 - val_loss: 0.5769 - val_metric_f1score: 1.0000 - learning_rate: 0.0010\n",
      "Epoch 44/200\n",
      "\u001b[1m 1/12\u001b[0m \u001b[32m━\u001b[0m\u001b[37m━━━━━━━━━━━━━━━━━━━\u001b[0m \u001b[1m0s\u001b[0m 16ms/step - acc: 0.9375 - loss: 0.7430 - metric_f1score: 0.9524\n",
      "Epoch 44: val_acc did not improve from 1.00000\n",
      "\u001b[1m12/12\u001b[0m \u001b[32m━━━━━━━━━━━━━━━━━━━━\u001b[0m\u001b[37m\u001b[0m \u001b[1m0s\u001b[0m 7ms/step - acc: 0.9463 - loss: 0.7170 - metric_f1score: 0.9483 - val_acc: 1.0000 - val_loss: 0.5722 - val_metric_f1score: 1.0000 - learning_rate: 0.0010\n",
      "Epoch 45/200\n",
      "\u001b[1m 1/12\u001b[0m \u001b[32m━\u001b[0m\u001b[37m━━━━━━━━━━━━━━━━━━━\u001b[0m \u001b[1m0s\u001b[0m 16ms/step - acc: 0.9062 - loss: 0.8571 - metric_f1score: 0.9333\n",
      "Epoch 45: val_acc did not improve from 1.00000\n",
      "\u001b[1m12/12\u001b[0m \u001b[32m━━━━━━━━━━━━━━━━━━━━\u001b[0m\u001b[37m\u001b[0m \u001b[1m0s\u001b[0m 7ms/step - acc: 0.9502 - loss: 0.7346 - metric_f1score: 0.9511 - val_acc: 1.0000 - val_loss: 0.5695 - val_metric_f1score: 1.0000 - learning_rate: 0.0010\n",
      "Epoch 46/200\n",
      "\u001b[1m 1/12\u001b[0m \u001b[32m━\u001b[0m\u001b[37m━━━━━━━━━━━━━━━━━━━\u001b[0m \u001b[1m0s\u001b[0m 17ms/step - acc: 0.9375 - loss: 0.7931 - metric_f1score: 0.9375\n",
      "Epoch 46: val_acc did not improve from 1.00000\n",
      "\u001b[1m12/12\u001b[0m \u001b[32m━━━━━━━━━━━━━━━━━━━━\u001b[0m\u001b[37m\u001b[0m \u001b[1m0s\u001b[0m 7ms/step - acc: 0.9362 - loss: 0.8137 - metric_f1score: 0.9416 - val_acc: 0.9896 - val_loss: 0.5692 - val_metric_f1score: 0.9947 - learning_rate: 0.0010\n",
      "Epoch 47/200\n",
      "\u001b[1m 1/12\u001b[0m \u001b[32m━\u001b[0m\u001b[37m━━━━━━━━━━━━━━━━━━━\u001b[0m \u001b[1m0s\u001b[0m 15ms/step - acc: 0.9688 - loss: 0.7718 - metric_f1score: 0.9524\n",
      "Epoch 47: val_acc did not improve from 1.00000\n",
      "\u001b[1m12/12\u001b[0m \u001b[32m━━━━━━━━━━━━━━━━━━━━\u001b[0m\u001b[37m\u001b[0m \u001b[1m0s\u001b[0m 7ms/step - acc: 0.9548 - loss: 0.7757 - metric_f1score: 0.9439 - val_acc: 0.9792 - val_loss: 0.6103 - val_metric_f1score: 0.9892 - learning_rate: 0.0010\n",
      "Epoch 48/200\n",
      "\u001b[1m 1/12\u001b[0m \u001b[32m━\u001b[0m\u001b[37m━━━━━━━━━━━━━━━━━━━\u001b[0m \u001b[1m0s\u001b[0m 16ms/step - acc: 0.9375 - loss: 0.8487 - metric_f1score: 0.9524\n",
      "Epoch 48: val_acc did not improve from 1.00000\n",
      "\u001b[1m12/12\u001b[0m \u001b[32m━━━━━━━━━━━━━━━━━━━━\u001b[0m\u001b[37m\u001b[0m \u001b[1m0s\u001b[0m 7ms/step - acc: 0.9410 - loss: 0.7587 - metric_f1score: 0.9461 - val_acc: 0.9792 - val_loss: 0.6158 - val_metric_f1score: 0.9892 - learning_rate: 0.0010\n",
      "Epoch 49/200\n",
      "\u001b[1m10/12\u001b[0m \u001b[32m━━━━━━━━━━━━━━━━\u001b[0m\u001b[37m━━━━\u001b[0m \u001b[1m0s\u001b[0m 7ms/step - acc: 0.9345 - loss: 0.7794 - metric_f1score: 0.9414 \n",
      "Epoch 49: val_acc did not improve from 1.00000\n",
      "\u001b[1m12/12\u001b[0m \u001b[32m━━━━━━━━━━━━━━━━━━━━\u001b[0m\u001b[37m\u001b[0m \u001b[1m0s\u001b[0m 11ms/step - acc: 0.9401 - loss: 0.7625 - metric_f1score: 0.9446 - val_acc: 0.9792 - val_loss: 0.6528 - val_metric_f1score: 0.9892 - learning_rate: 0.0010\n",
      "Epoch 50/200\n",
      "\u001b[1m 1/12\u001b[0m \u001b[32m━\u001b[0m\u001b[37m━━━━━━━━━━━━━━━━━━━\u001b[0m \u001b[1m0s\u001b[0m 16ms/step - acc: 0.9688 - loss: 0.6952 - metric_f1score: 0.9508\n",
      "Epoch 50: val_acc did not improve from 1.00000\n",
      "\u001b[1m12/12\u001b[0m \u001b[32m━━━━━━━━━━━━━━━━━━━━\u001b[0m\u001b[37m\u001b[0m \u001b[1m0s\u001b[0m 7ms/step - acc: 0.9635 - loss: 0.6774 - metric_f1score: 0.9548 - val_acc: 0.9792 - val_loss: 0.6391 - val_metric_f1score: 0.9840 - learning_rate: 0.0010\n",
      "Epoch 51/200\n",
      "\u001b[1m 1/12\u001b[0m \u001b[32m━\u001b[0m\u001b[37m━━━━━━━━━━━━━━━━━━━\u001b[0m \u001b[1m0s\u001b[0m 17ms/step - acc: 0.9688 - loss: 0.6575 - metric_f1score: 0.9841\n",
      "Epoch 51: val_acc did not improve from 1.00000\n",
      "\u001b[1m12/12\u001b[0m \u001b[32m━━━━━━━━━━━━━━━━━━━━\u001b[0m\u001b[37m\u001b[0m \u001b[1m0s\u001b[0m 7ms/step - acc: 0.9655 - loss: 0.6366 - metric_f1score: 0.9762 - val_acc: 0.9792 - val_loss: 0.5908 - val_metric_f1score: 0.9841 - learning_rate: 0.0010\n",
      "Epoch 52/200\n",
      "\u001b[1m 1/12\u001b[0m \u001b[32m━\u001b[0m\u001b[37m━━━━━━━━━━━━━━━━━━━\u001b[0m \u001b[1m0s\u001b[0m 17ms/step - acc: 0.9688 - loss: 0.5918 - metric_f1score: 0.9688\n",
      "Epoch 52: val_acc did not improve from 1.00000\n",
      "\u001b[1m12/12\u001b[0m \u001b[32m━━━━━━━━━━━━━━━━━━━━\u001b[0m\u001b[37m\u001b[0m \u001b[1m0s\u001b[0m 7ms/step - acc: 0.9540 - loss: 0.6871 - metric_f1score: 0.9534 - val_acc: 1.0000 - val_loss: 0.5538 - val_metric_f1score: 0.9947 - learning_rate: 0.0010\n",
      "Epoch 53/200\n",
      "\u001b[1m 1/12\u001b[0m \u001b[32m━\u001b[0m\u001b[37m━━━━━━━━━━━━━━━━━━━\u001b[0m \u001b[1m0s\u001b[0m 17ms/step - acc: 0.9375 - loss: 0.7413 - metric_f1score: 0.9508\n",
      "Epoch 53: val_acc did not improve from 1.00000\n",
      "\u001b[1m12/12\u001b[0m \u001b[32m━━━━━━━━━━━━━━━━━━━━\u001b[0m\u001b[37m\u001b[0m \u001b[1m0s\u001b[0m 7ms/step - acc: 0.9727 - loss: 0.6155 - metric_f1score: 0.9758 - val_acc: 1.0000 - val_loss: 0.5379 - val_metric_f1score: 0.9947 - learning_rate: 0.0010\n",
      "Epoch 54/200\n",
      "\u001b[1m 1/12\u001b[0m \u001b[32m━\u001b[0m\u001b[37m━━━━━━━━━━━━━━━━━━━\u001b[0m \u001b[1m0s\u001b[0m 17ms/step - acc: 1.0000 - loss: 0.5463 - metric_f1score: 1.0000\n",
      "Epoch 54: val_acc did not improve from 1.00000\n",
      "\u001b[1m12/12\u001b[0m \u001b[32m━━━━━━━━━━━━━━━━━━━━\u001b[0m\u001b[37m\u001b[0m \u001b[1m0s\u001b[0m 7ms/step - acc: 0.9749 - loss: 0.5869 - metric_f1score: 0.9765 - val_acc: 1.0000 - val_loss: 0.5294 - val_metric_f1score: 0.9947 - learning_rate: 0.0010\n",
      "Epoch 55/200\n",
      "\u001b[1m 1/12\u001b[0m \u001b[32m━\u001b[0m\u001b[37m━━━━━━━━━━━━━━━━━━━\u001b[0m \u001b[1m0s\u001b[0m 24ms/step - acc: 0.9688 - loss: 0.7092 - metric_f1score: 0.9688\n",
      "Epoch 55: val_acc did not improve from 1.00000\n",
      "\u001b[1m12/12\u001b[0m \u001b[32m━━━━━━━━━━━━━━━━━━━━\u001b[0m\u001b[37m\u001b[0m \u001b[1m0s\u001b[0m 7ms/step - acc: 0.9775 - loss: 0.6168 - metric_f1score: 0.9765 - val_acc: 1.0000 - val_loss: 0.5214 - val_metric_f1score: 0.9947 - learning_rate: 0.0010\n",
      "Epoch 56/200\n",
      "\u001b[1m 1/12\u001b[0m \u001b[32m━\u001b[0m\u001b[37m━━━━━━━━━━━━━━━━━━━\u001b[0m \u001b[1m0s\u001b[0m 17ms/step - acc: 0.9062 - loss: 0.7184 - metric_f1score: 0.9508\n",
      "Epoch 56: val_acc did not improve from 1.00000\n",
      "\u001b[1m12/12\u001b[0m \u001b[32m━━━━━━━━━━━━━━━━━━━━\u001b[0m\u001b[37m\u001b[0m \u001b[1m0s\u001b[0m 7ms/step - acc: 0.9501 - loss: 0.6261 - metric_f1score: 0.9689 - val_acc: 1.0000 - val_loss: 0.5136 - val_metric_f1score: 1.0000 - learning_rate: 0.0010\n",
      "Epoch 57/200\n",
      "\u001b[1m 1/12\u001b[0m \u001b[32m━\u001b[0m\u001b[37m━━━━━━━━━━━━━━━━━━━\u001b[0m \u001b[1m0s\u001b[0m 17ms/step - acc: 0.9375 - loss: 0.6293 - metric_f1score: 0.9677\n",
      "Epoch 57: val_acc did not improve from 1.00000\n",
      "\u001b[1m12/12\u001b[0m \u001b[32m━━━━━━━━━━━━━━━━━━━━\u001b[0m\u001b[37m\u001b[0m \u001b[1m0s\u001b[0m 7ms/step - acc: 0.9697 - loss: 0.5937 - metric_f1score: 0.9795 - val_acc: 1.0000 - val_loss: 0.5068 - val_metric_f1score: 1.0000 - learning_rate: 0.0010\n",
      "Epoch 58/200\n",
      "\u001b[1m 1/12\u001b[0m \u001b[32m━\u001b[0m\u001b[37m━━━━━━━━━━━━━━━━━━━\u001b[0m \u001b[1m0s\u001b[0m 16ms/step - acc: 1.0000 - loss: 0.5297 - metric_f1score: 0.9841\n",
      "Epoch 58: val_acc did not improve from 1.00000\n",
      "\u001b[1m12/12\u001b[0m \u001b[32m━━━━━━━━━━━━━━━━━━━━\u001b[0m\u001b[37m\u001b[0m \u001b[1m0s\u001b[0m 7ms/step - acc: 0.9914 - loss: 0.5652 - metric_f1score: 0.9853 - val_acc: 1.0000 - val_loss: 0.5019 - val_metric_f1score: 1.0000 - learning_rate: 0.0010\n",
      "Epoch 59/200\n",
      "\u001b[1m 1/12\u001b[0m \u001b[32m━\u001b[0m\u001b[37m━━━━━━━━━━━━━━━━━━━\u001b[0m \u001b[1m0s\u001b[0m 16ms/step - acc: 0.9688 - loss: 0.6183 - metric_f1score: 0.9841\n",
      "Epoch 59: val_acc did not improve from 1.00000\n",
      "\u001b[1m12/12\u001b[0m \u001b[32m━━━━━━━━━━━━━━━━━━━━\u001b[0m\u001b[37m\u001b[0m \u001b[1m0s\u001b[0m 7ms/step - acc: 0.9725 - loss: 0.5793 - metric_f1score: 0.9782 - val_acc: 1.0000 - val_loss: 0.4993 - val_metric_f1score: 0.9947 - learning_rate: 0.0010\n",
      "Epoch 60/200\n",
      "\u001b[1m 1/12\u001b[0m \u001b[32m━\u001b[0m\u001b[37m━━━━━━━━━━━━━━━━━━━\u001b[0m \u001b[1m0s\u001b[0m 16ms/step - acc: 1.0000 - loss: 0.5289 - metric_f1score: 1.0000\n",
      "Epoch 60: val_acc did not improve from 1.00000\n",
      "\u001b[1m12/12\u001b[0m \u001b[32m━━━━━━━━━━━━━━━━━━━━\u001b[0m\u001b[37m\u001b[0m \u001b[1m0s\u001b[0m 7ms/step - acc: 0.9844 - loss: 0.5530 - metric_f1score: 0.9872 - val_acc: 1.0000 - val_loss: 0.4926 - val_metric_f1score: 1.0000 - learning_rate: 0.0010\n",
      "Epoch 61/200\n",
      "\u001b[1m 1/12\u001b[0m \u001b[32m━\u001b[0m\u001b[37m━━━━━━━━━━━━━━━━━━━\u001b[0m \u001b[1m0s\u001b[0m 15ms/step - acc: 1.0000 - loss: 0.5645 - metric_f1score: 0.9841\n",
      "Epoch 61: val_acc did not improve from 1.00000\n",
      "\u001b[1m12/12\u001b[0m \u001b[32m━━━━━━━━━━━━━━━━━━━━\u001b[0m\u001b[37m\u001b[0m \u001b[1m0s\u001b[0m 7ms/step - acc: 0.9705 - loss: 0.5972 - metric_f1score: 0.9716 - val_acc: 1.0000 - val_loss: 0.4884 - val_metric_f1score: 1.0000 - learning_rate: 0.0010\n",
      "Epoch 62/200\n",
      "\u001b[1m 1/12\u001b[0m \u001b[32m━\u001b[0m\u001b[37m━━━━━━━━━━━━━━━━━━━\u001b[0m \u001b[1m0s\u001b[0m 50ms/step - acc: 1.0000 - loss: 0.4811 - metric_f1score: 1.0000\n",
      "Epoch 62: val_acc did not improve from 1.00000\n",
      "\u001b[1m12/12\u001b[0m \u001b[32m━━━━━━━━━━━━━━━━━━━━\u001b[0m\u001b[37m\u001b[0m \u001b[1m0s\u001b[0m 7ms/step - acc: 0.9664 - loss: 0.5601 - metric_f1score: 0.9750 - val_acc: 1.0000 - val_loss: 0.4868 - val_metric_f1score: 1.0000 - learning_rate: 0.0010\n",
      "Epoch 63/200\n",
      "\u001b[1m 1/12\u001b[0m \u001b[32m━\u001b[0m\u001b[37m━━━━━━━━━━━━━━━━━━━\u001b[0m \u001b[1m0s\u001b[0m 16ms/step - acc: 0.9688 - loss: 0.5574 - metric_f1score: 0.9688\n",
      "Epoch 63: val_acc did not improve from 1.00000\n",
      "\u001b[1m12/12\u001b[0m \u001b[32m━━━━━━━━━━━━━━━━━━━━\u001b[0m\u001b[37m\u001b[0m \u001b[1m0s\u001b[0m 7ms/step - acc: 0.9784 - loss: 0.5659 - metric_f1score: 0.9756 - val_acc: 1.0000 - val_loss: 0.4808 - val_metric_f1score: 1.0000 - learning_rate: 0.0010\n",
      "Epoch 64/200\n",
      "\u001b[1m 1/12\u001b[0m \u001b[32m━\u001b[0m\u001b[37m━━━━━━━━━━━━━━━━━━━\u001b[0m \u001b[1m0s\u001b[0m 17ms/step - acc: 0.9688 - loss: 0.5563 - metric_f1score: 0.9688\n",
      "Epoch 64: val_acc did not improve from 1.00000\n",
      "\u001b[1m12/12\u001b[0m \u001b[32m━━━━━━━━━━━━━━━━━━━━\u001b[0m\u001b[37m\u001b[0m \u001b[1m0s\u001b[0m 8ms/step - acc: 0.9669 - loss: 0.5843 - metric_f1score: 0.9675 - val_acc: 1.0000 - val_loss: 0.4785 - val_metric_f1score: 0.9947 - learning_rate: 0.0010\n",
      "Epoch 65/200\n",
      "\u001b[1m 1/12\u001b[0m \u001b[32m━\u001b[0m\u001b[37m━━━━━━━━━━━━━━━━━━━\u001b[0m \u001b[1m0s\u001b[0m 17ms/step - acc: 0.9688 - loss: 0.5400 - metric_f1score: 0.9841\n",
      "Epoch 65: val_acc did not improve from 1.00000\n",
      "\u001b[1m12/12\u001b[0m \u001b[32m━━━━━━━━━━━━━━━━━━━━\u001b[0m\u001b[37m\u001b[0m \u001b[1m0s\u001b[0m 7ms/step - acc: 0.9741 - loss: 0.5275 - metric_f1score: 0.9812 - val_acc: 1.0000 - val_loss: 0.4762 - val_metric_f1score: 0.9947 - learning_rate: 0.0010\n",
      "Epoch 66/200\n",
      "\u001b[1m 1/12\u001b[0m \u001b[32m━\u001b[0m\u001b[37m━━━━━━━━━━━━━━━━━━━\u001b[0m \u001b[1m0s\u001b[0m 16ms/step - acc: 1.0000 - loss: 0.4916 - metric_f1score: 1.0000\n",
      "Epoch 66: val_acc did not improve from 1.00000\n",
      "\u001b[1m12/12\u001b[0m \u001b[32m━━━━━━━━━━━━━━━━━━━━\u001b[0m\u001b[37m\u001b[0m \u001b[1m0s\u001b[0m 7ms/step - acc: 0.9907 - loss: 0.4947 - metric_f1score: 0.9905 - val_acc: 1.0000 - val_loss: 0.4680 - val_metric_f1score: 0.9947 - learning_rate: 0.0010\n",
      "Epoch 67/200\n",
      "\u001b[1m 1/12\u001b[0m \u001b[32m━\u001b[0m\u001b[37m━━━━━━━━━━━━━━━━━━━\u001b[0m \u001b[1m0s\u001b[0m 17ms/step - acc: 0.9062 - loss: 0.7533 - metric_f1score: 0.9206\n",
      "Epoch 67: val_acc did not improve from 1.00000\n",
      "\u001b[1m12/12\u001b[0m \u001b[32m━━━━━━━━━━━━━━━━━━━━\u001b[0m\u001b[37m\u001b[0m \u001b[1m0s\u001b[0m 7ms/step - acc: 0.9550 - loss: 0.6027 - metric_f1score: 0.9590 - val_acc: 1.0000 - val_loss: 0.4644 - val_metric_f1score: 0.9947 - learning_rate: 0.0010\n",
      "Epoch 68/200\n",
      "\u001b[1m 1/12\u001b[0m \u001b[32m━\u001b[0m\u001b[37m━━━━━━━━━━━━━━━━━━━\u001b[0m \u001b[1m0s\u001b[0m 16ms/step - acc: 0.9688 - loss: 0.5346 - metric_f1score: 0.9841\n",
      "Epoch 68: val_acc did not improve from 1.00000\n",
      "\u001b[1m12/12\u001b[0m \u001b[32m━━━━━━━━━━━━━━━━━━━━\u001b[0m\u001b[37m\u001b[0m \u001b[1m0s\u001b[0m 7ms/step - acc: 0.9786 - loss: 0.6729 - metric_f1score: 0.9823 - val_acc: 0.9583 - val_loss: 0.6262 - val_metric_f1score: 0.9684 - learning_rate: 0.0010\n",
      "Epoch 69/200\n",
      "\u001b[1m 1/12\u001b[0m \u001b[32m━\u001b[0m\u001b[37m━━━━━━━━━━━━━━━━━━━\u001b[0m \u001b[1m0s\u001b[0m 16ms/step - acc: 0.9062 - loss: 0.6563 - metric_f1score: 0.9032\n",
      "Epoch 69: val_acc did not improve from 1.00000\n",
      "\u001b[1m12/12\u001b[0m \u001b[32m━━━━━━━━━━━━━━━━━━━━\u001b[0m\u001b[37m\u001b[0m \u001b[1m0s\u001b[0m 7ms/step - acc: 0.9414 - loss: 0.6235 - metric_f1score: 0.9452 - val_acc: 0.9792 - val_loss: 0.6113 - val_metric_f1score: 0.9792 - learning_rate: 0.0010\n",
      "Epoch 70/200\n",
      "\u001b[1m 1/12\u001b[0m \u001b[32m━\u001b[0m\u001b[37m━━━━━━━━━━━━━━━━━━━\u001b[0m \u001b[1m0s\u001b[0m 17ms/step - acc: 1.0000 - loss: 0.4666 - metric_f1score: 1.0000\n",
      "Epoch 70: val_acc did not improve from 1.00000\n",
      "\u001b[1m12/12\u001b[0m \u001b[32m━━━━━━━━━━━━━━━━━━━━\u001b[0m\u001b[37m\u001b[0m \u001b[1m0s\u001b[0m 7ms/step - acc: 0.9789 - loss: 0.5309 - metric_f1score: 0.9784 - val_acc: 0.9792 - val_loss: 0.5797 - val_metric_f1score: 0.9792 - learning_rate: 0.0010\n",
      "Epoch 71/200\n",
      "\u001b[1m 1/12\u001b[0m \u001b[32m━\u001b[0m\u001b[37m━━━━━━━━━━━━━━━━━━━\u001b[0m \u001b[1m0s\u001b[0m 17ms/step - acc: 0.9688 - loss: 0.6551 - metric_f1score: 0.9524\n",
      "Epoch 71: val_acc did not improve from 1.00000\n",
      "\u001b[1m12/12\u001b[0m \u001b[32m━━━━━━━━━━━━━━━━━━━━\u001b[0m\u001b[37m\u001b[0m \u001b[1m0s\u001b[0m 7ms/step - acc: 0.9621 - loss: 0.5857 - metric_f1score: 0.9570 - val_acc: 0.9792 - val_loss: 0.6147 - val_metric_f1score: 0.9841 - learning_rate: 0.0010\n",
      "Epoch 72/200\n",
      "\u001b[1m 9/12\u001b[0m \u001b[32m━━━━━━━━━━━━━━━\u001b[0m\u001b[37m━━━━━\u001b[0m \u001b[1m0s\u001b[0m 7ms/step - acc: 0.9684 - loss: 0.5596 - metric_f1score: 0.9673 \n",
      "Epoch 72: val_acc did not improve from 1.00000\n",
      "\u001b[1m12/12\u001b[0m \u001b[32m━━━━━━━━━━━━━━━━━━━━\u001b[0m\u001b[37m\u001b[0m \u001b[1m0s\u001b[0m 10ms/step - acc: 0.9688 - loss: 0.5529 - metric_f1score: 0.9674 - val_acc: 0.9792 - val_loss: 0.5733 - val_metric_f1score: 0.9841 - learning_rate: 0.0010\n",
      "Epoch 73/200\n",
      "\u001b[1m 1/12\u001b[0m \u001b[32m━\u001b[0m\u001b[37m━━━━━━━━━━━━━━━━━━━\u001b[0m \u001b[1m0s\u001b[0m 16ms/step - acc: 0.9688 - loss: 0.5017 - metric_f1score: 0.9688\n",
      "Epoch 73: val_acc did not improve from 1.00000\n",
      "\u001b[1m12/12\u001b[0m \u001b[32m━━━━━━━━━━━━━━━━━━━━\u001b[0m\u001b[37m\u001b[0m \u001b[1m0s\u001b[0m 7ms/step - acc: 0.9555 - loss: 0.5716 - metric_f1score: 0.9524 - val_acc: 0.9792 - val_loss: 0.5655 - val_metric_f1score: 0.9792 - learning_rate: 0.0010\n",
      "Epoch 74/200\n",
      "\u001b[1m 1/12\u001b[0m \u001b[32m━\u001b[0m\u001b[37m━━━━━━━━━━━━━━━━━━━\u001b[0m \u001b[1m0s\u001b[0m 17ms/step - acc: 0.9688 - loss: 0.5089 - metric_f1score: 0.9841\n",
      "Epoch 74: val_acc did not improve from 1.00000\n",
      "\u001b[1m12/12\u001b[0m \u001b[32m━━━━━━━━━━━━━━━━━━━━\u001b[0m\u001b[37m\u001b[0m \u001b[1m0s\u001b[0m 7ms/step - acc: 0.9671 - loss: 0.5234 - metric_f1score: 0.9712 - val_acc: 0.9792 - val_loss: 0.5165 - val_metric_f1score: 0.9792 - learning_rate: 0.0010\n",
      "Epoch 75/200\n",
      "\u001b[1m 1/12\u001b[0m \u001b[32m━\u001b[0m\u001b[37m━━━━━━━━━━━━━━━━━━━\u001b[0m \u001b[1m0s\u001b[0m 16ms/step - acc: 0.9688 - loss: 0.4630 - metric_f1score: 0.9841\n",
      "Epoch 75: val_acc did not improve from 1.00000\n",
      "\u001b[1m12/12\u001b[0m \u001b[32m━━━━━━━━━━━━━━━━━━━━\u001b[0m\u001b[37m\u001b[0m \u001b[1m0s\u001b[0m 7ms/step - acc: 0.9655 - loss: 0.5165 - metric_f1score: 0.9729 - val_acc: 0.9792 - val_loss: 0.5215 - val_metric_f1score: 0.9792 - learning_rate: 0.0010\n",
      "Epoch 76/200\n",
      "\u001b[1m 1/12\u001b[0m \u001b[32m━\u001b[0m\u001b[37m━━━━━━━━━━━━━━━━━━━\u001b[0m \u001b[1m0s\u001b[0m 17ms/step - acc: 0.9688 - loss: 0.5766 - metric_f1score: 0.9677\n",
      "Epoch 76: val_acc did not improve from 1.00000\n",
      "\u001b[1m12/12\u001b[0m \u001b[32m━━━━━━━━━━━━━━━━━━━━\u001b[0m\u001b[37m\u001b[0m \u001b[1m0s\u001b[0m 7ms/step - acc: 0.9775 - loss: 0.5121 - metric_f1score: 0.9782 - val_acc: 0.9792 - val_loss: 0.5447 - val_metric_f1score: 0.9792 - learning_rate: 0.0010\n",
      "Epoch 77/200\n",
      "\u001b[1m 1/12\u001b[0m \u001b[32m━\u001b[0m\u001b[37m━━━━━━━━━━━━━━━━━━━\u001b[0m \u001b[1m0s\u001b[0m 16ms/step - acc: 0.9375 - loss: 0.6373 - metric_f1score: 0.9508\n",
      "Epoch 77: val_acc did not improve from 1.00000\n",
      "\u001b[1m12/12\u001b[0m \u001b[32m━━━━━━━━━━━━━━━━━━━━\u001b[0m\u001b[37m\u001b[0m \u001b[1m0s\u001b[0m 7ms/step - acc: 0.9747 - loss: 0.5227 - metric_f1score: 0.9763 - val_acc: 0.9792 - val_loss: 0.5341 - val_metric_f1score: 0.9792 - learning_rate: 0.0010\n",
      "Epoch 78/200\n",
      "\u001b[1m 1/12\u001b[0m \u001b[32m━\u001b[0m\u001b[37m━━━━━━━━━━━━━━━━━━━\u001b[0m \u001b[1m0s\u001b[0m 16ms/step - acc: 1.0000 - loss: 0.4919 - metric_f1score: 0.9841\n",
      "Epoch 78: val_acc did not improve from 1.00000\n",
      "\u001b[1m12/12\u001b[0m \u001b[32m━━━━━━━━━━━━━━━━━━━━\u001b[0m\u001b[37m\u001b[0m \u001b[1m0s\u001b[0m 7ms/step - acc: 0.9753 - loss: 0.5047 - metric_f1score: 0.9747 - val_acc: 0.9792 - val_loss: 0.5342 - val_metric_f1score: 0.9792 - learning_rate: 0.0010\n",
      "Epoch 79/200\n",
      "\u001b[1m 1/12\u001b[0m \u001b[32m━\u001b[0m\u001b[37m━━━━━━━━━━━━━━━━━━━\u001b[0m \u001b[1m0s\u001b[0m 16ms/step - acc: 1.0000 - loss: 0.4300 - metric_f1score: 1.0000\n",
      "Epoch 79: val_acc did not improve from 1.00000\n",
      "\u001b[1m12/12\u001b[0m \u001b[32m━━━━━━━━━━━━━━━━━━━━\u001b[0m\u001b[37m\u001b[0m \u001b[1m0s\u001b[0m 7ms/step - acc: 0.9861 - loss: 0.4654 - metric_f1score: 0.9863 - val_acc: 0.9896 - val_loss: 0.5258 - val_metric_f1score: 0.9896 - learning_rate: 0.0010\n",
      "Epoch 80/200\n",
      "\u001b[1m 1/12\u001b[0m \u001b[32m━\u001b[0m\u001b[37m━━━━━━━━━━━━━━━━━━━\u001b[0m \u001b[1m0s\u001b[0m 17ms/step - acc: 0.9688 - loss: 0.4799 - metric_f1score: 0.9688\n",
      "Epoch 80: val_acc did not improve from 1.00000\n",
      "\u001b[1m12/12\u001b[0m \u001b[32m━━━━━━━━━━━━━━━━━━━━\u001b[0m\u001b[37m\u001b[0m \u001b[1m0s\u001b[0m 7ms/step - acc: 0.9808 - loss: 0.4918 - metric_f1score: 0.9818 - val_acc: 0.9896 - val_loss: 0.5043 - val_metric_f1score: 0.9896 - learning_rate: 0.0010\n",
      "Epoch 81/200\n",
      "\u001b[1m 1/12\u001b[0m \u001b[32m━\u001b[0m\u001b[37m━━━━━━━━━━━━━━━━━━━\u001b[0m \u001b[1m0s\u001b[0m 16ms/step - acc: 0.9688 - loss: 0.4429 - metric_f1score: 0.9688\n",
      "Epoch 81: val_acc did not improve from 1.00000\n",
      "\u001b[1m12/12\u001b[0m \u001b[32m━━━━━━━━━━━━━━━━━━━━\u001b[0m\u001b[37m\u001b[0m \u001b[1m0s\u001b[0m 7ms/step - acc: 0.9767 - loss: 0.4635 - metric_f1score: 0.9735 - val_acc: 0.9792 - val_loss: 0.4965 - val_metric_f1score: 0.9841 - learning_rate: 0.0010\n",
      "Epoch 82/200\n",
      "\u001b[1m 7/12\u001b[0m \u001b[32m━━━━━━━━━━━\u001b[0m\u001b[37m━━━━━━━━━\u001b[0m \u001b[1m0s\u001b[0m 8ms/step - acc: 0.9590 - loss: 0.5152 - metric_f1score: 0.9603 \n",
      "Epoch 82: val_acc did not improve from 1.00000\n",
      "\u001b[1m12/12\u001b[0m \u001b[32m━━━━━━━━━━━━━━━━━━━━\u001b[0m\u001b[37m\u001b[0m \u001b[1m0s\u001b[0m 10ms/step - acc: 0.9681 - loss: 0.5014 - metric_f1score: 0.9674 - val_acc: 0.9792 - val_loss: 0.4881 - val_metric_f1score: 0.9792 - learning_rate: 0.0010\n",
      "Epoch 83/200\n",
      "\u001b[1m 1/12\u001b[0m \u001b[32m━\u001b[0m\u001b[37m━━━━━━━━━━━━━━━━━━━\u001b[0m \u001b[1m0s\u001b[0m 17ms/step - acc: 1.0000 - loss: 0.4034 - metric_f1score: 1.0000\n",
      "Epoch 83: val_acc did not improve from 1.00000\n",
      "\u001b[1m12/12\u001b[0m \u001b[32m━━━━━━━━━━━━━━━━━━━━\u001b[0m\u001b[37m\u001b[0m \u001b[1m0s\u001b[0m 7ms/step - acc: 0.9942 - loss: 0.4238 - metric_f1score: 0.9925 - val_acc: 0.9792 - val_loss: 0.4846 - val_metric_f1score: 0.9792 - learning_rate: 0.0010\n",
      "Epoch 84/200\n",
      "\u001b[1m 1/12\u001b[0m \u001b[32m━\u001b[0m\u001b[37m━━━━━━━━━━━━━━━━━━━\u001b[0m \u001b[1m0s\u001b[0m 16ms/step - acc: 1.0000 - loss: 0.4004 - metric_f1score: 1.0000\n",
      "Epoch 84: val_acc did not improve from 1.00000\n",
      "\u001b[1m12/12\u001b[0m \u001b[32m━━━━━━━━━━━━━━━━━━━━\u001b[0m\u001b[37m\u001b[0m \u001b[1m0s\u001b[0m 7ms/step - acc: 0.9923 - loss: 0.4306 - metric_f1score: 0.9927 - val_acc: 0.9792 - val_loss: 0.4710 - val_metric_f1score: 0.9792 - learning_rate: 0.0010\n",
      "Epoch 85/200\n",
      "\u001b[1m 1/12\u001b[0m \u001b[32m━\u001b[0m\u001b[37m━━━━━━━━━━━━━━━━━━━\u001b[0m \u001b[1m0s\u001b[0m 16ms/step - acc: 0.9688 - loss: 0.5593 - metric_f1score: 0.9677\n",
      "Epoch 85: val_acc did not improve from 1.00000\n",
      "\u001b[1m12/12\u001b[0m \u001b[32m━━━━━━━━━━━━━━━━━━━━\u001b[0m\u001b[37m\u001b[0m \u001b[1m0s\u001b[0m 7ms/step - acc: 0.9850 - loss: 0.4579 - metric_f1score: 0.9840 - val_acc: 0.9792 - val_loss: 0.4562 - val_metric_f1score: 0.9841 - learning_rate: 0.0010\n",
      "Epoch 86/200\n",
      "\u001b[1m 1/12\u001b[0m \u001b[32m━\u001b[0m\u001b[37m━━━━━━━━━━━━━━━━━━━\u001b[0m \u001b[1m0s\u001b[0m 16ms/step - acc: 0.9688 - loss: 0.4989 - metric_f1score: 0.9688\n",
      "Epoch 86: val_acc did not improve from 1.00000\n",
      "\u001b[1m12/12\u001b[0m \u001b[32m━━━━━━━━━━━━━━━━━━━━\u001b[0m\u001b[37m\u001b[0m \u001b[1m0s\u001b[0m 7ms/step - acc: 0.9750 - loss: 0.4593 - metric_f1score: 0.9766 - val_acc: 0.9896 - val_loss: 0.4400 - val_metric_f1score: 0.9896 - learning_rate: 0.0010\n",
      "Epoch 87/200\n",
      "\u001b[1m 1/12\u001b[0m \u001b[32m━\u001b[0m\u001b[37m━━━━━━━━━━━━━━━━━━━\u001b[0m \u001b[1m0s\u001b[0m 16ms/step - acc: 0.9688 - loss: 0.5360 - metric_f1score: 0.9355\n",
      "Epoch 87: val_acc did not improve from 1.00000\n",
      "\u001b[1m12/12\u001b[0m \u001b[32m━━━━━━━━━━━━━━━━━━━━\u001b[0m\u001b[37m\u001b[0m \u001b[1m0s\u001b[0m 7ms/step - acc: 0.9797 - loss: 0.4604 - metric_f1score: 0.9690 - val_acc: 0.9792 - val_loss: 0.5107 - val_metric_f1score: 0.9792 - learning_rate: 0.0010\n",
      "Epoch 88/200\n",
      "\u001b[1m 1/12\u001b[0m \u001b[32m━\u001b[0m\u001b[37m━━━━━━━━━━━━━━━━━━━\u001b[0m \u001b[1m0s\u001b[0m 16ms/step - acc: 1.0000 - loss: 0.4163 - metric_f1score: 0.9841\n",
      "Epoch 88: val_acc did not improve from 1.00000\n",
      "\u001b[1m12/12\u001b[0m \u001b[32m━━━━━━━━━━━━━━━━━━━━\u001b[0m\u001b[37m\u001b[0m \u001b[1m0s\u001b[0m 7ms/step - acc: 0.9880 - loss: 0.4311 - metric_f1score: 0.9833 - val_acc: 0.9792 - val_loss: 0.4955 - val_metric_f1score: 0.9792 - learning_rate: 0.0010\n",
      "Epoch 89/200\n",
      "\u001b[1m 1/12\u001b[0m \u001b[32m━\u001b[0m\u001b[37m━━━━━━━━━━━━━━━━━━━\u001b[0m \u001b[1m0s\u001b[0m 16ms/step - acc: 0.9688 - loss: 0.4841 - metric_f1score: 0.9688\n",
      "Epoch 89: val_acc did not improve from 1.00000\n",
      "\u001b[1m12/12\u001b[0m \u001b[32m━━━━━━━━━━━━━━━━━━━━\u001b[0m\u001b[37m\u001b[0m \u001b[1m0s\u001b[0m 7ms/step - acc: 0.9881 - loss: 0.4402 - metric_f1score: 0.9847 - val_acc: 0.9792 - val_loss: 0.4858 - val_metric_f1score: 0.9792 - learning_rate: 0.0010\n",
      "Epoch 90/200\n",
      "\u001b[1m 1/12\u001b[0m \u001b[32m━\u001b[0m\u001b[37m━━━━━━━━━━━━━━━━━━━\u001b[0m \u001b[1m0s\u001b[0m 17ms/step - acc: 1.0000 - loss: 0.4274 - metric_f1score: 0.9841\n",
      "Epoch 90: val_acc did not improve from 1.00000\n",
      "\u001b[1m12/12\u001b[0m \u001b[32m━━━━━━━━━━━━━━━━━━━━\u001b[0m\u001b[37m\u001b[0m \u001b[1m0s\u001b[0m 7ms/step - acc: 0.9827 - loss: 0.4844 - metric_f1score: 0.9854 - val_acc: 0.9792 - val_loss: 0.4897 - val_metric_f1score: 0.9792 - learning_rate: 0.0010\n",
      "Epoch 91/200\n",
      "\u001b[1m 1/12\u001b[0m \u001b[32m━\u001b[0m\u001b[37m━━━━━━━━━━━━━━━━━━━\u001b[0m \u001b[1m0s\u001b[0m 16ms/step - acc: 1.0000 - loss: 0.3910 - metric_f1score: 1.0000\n",
      "Epoch 91: val_acc did not improve from 1.00000\n",
      "\u001b[1m12/12\u001b[0m \u001b[32m━━━━━━━━━━━━━━━━━━━━\u001b[0m\u001b[37m\u001b[0m \u001b[1m0s\u001b[0m 7ms/step - acc: 0.9836 - loss: 0.4251 - metric_f1score: 0.9859 - val_acc: 0.9792 - val_loss: 0.4688 - val_metric_f1score: 0.9792 - learning_rate: 0.0010\n",
      "Epoch 92/200\n",
      "\u001b[1m 1/12\u001b[0m \u001b[32m━\u001b[0m\u001b[37m━━━━━━━━━━━━━━━━━━━\u001b[0m \u001b[1m0s\u001b[0m 16ms/step - acc: 1.0000 - loss: 0.3981 - metric_f1score: 0.9841\n",
      "Epoch 92: val_acc did not improve from 1.00000\n",
      "\u001b[1m12/12\u001b[0m \u001b[32m━━━━━━━━━━━━━━━━━━━━\u001b[0m\u001b[37m\u001b[0m \u001b[1m0s\u001b[0m 7ms/step - acc: 0.9962 - loss: 0.4035 - metric_f1score: 0.9892 - val_acc: 0.9792 - val_loss: 0.4428 - val_metric_f1score: 0.9841 - learning_rate: 0.0010\n",
      "Epoch 93/200\n",
      "\u001b[1m 1/12\u001b[0m \u001b[32m━\u001b[0m\u001b[37m━━━━━━━━━━━━━━━━━━━\u001b[0m \u001b[1m0s\u001b[0m 16ms/step - acc: 1.0000 - loss: 0.3733 - metric_f1score: 1.0000\n",
      "Epoch 93: val_acc did not improve from 1.00000\n",
      "\u001b[1m12/12\u001b[0m \u001b[32m━━━━━━━━━━━━━━━━━━━━\u001b[0m\u001b[37m\u001b[0m \u001b[1m0s\u001b[0m 7ms/step - acc: 0.9968 - loss: 0.3845 - metric_f1score: 0.9968 - val_acc: 0.9792 - val_loss: 0.4304 - val_metric_f1score: 0.9841 - learning_rate: 0.0010\n",
      "Epoch 94/200\n",
      "\u001b[1m 1/12\u001b[0m \u001b[32m━\u001b[0m\u001b[37m━━━━━━━━━━━━━━━━━━━\u001b[0m \u001b[1m0s\u001b[0m 16ms/step - acc: 0.9688 - loss: 0.4348 - metric_f1score: 0.9688\n",
      "Epoch 94: val_acc did not improve from 1.00000\n",
      "\u001b[1m12/12\u001b[0m \u001b[32m━━━━━━━━━━━━━━━━━━━━\u001b[0m\u001b[37m\u001b[0m \u001b[1m0s\u001b[0m 7ms/step - acc: 0.9855 - loss: 0.4078 - metric_f1score: 0.9854 - val_acc: 0.9792 - val_loss: 0.4208 - val_metric_f1score: 0.9792 - learning_rate: 0.0010\n",
      "Epoch 95/200\n",
      "\u001b[1m 1/12\u001b[0m \u001b[32m━\u001b[0m\u001b[37m━━━━━━━━━━━━━━━━━━━\u001b[0m \u001b[1m0s\u001b[0m 44ms/step - acc: 1.0000 - loss: 0.4322 - metric_f1score: 0.9841\n",
      "Epoch 95: val_acc did not improve from 1.00000\n",
      "\u001b[1m12/12\u001b[0m \u001b[32m━━━━━━━━━━━━━━━━━━━━\u001b[0m\u001b[37m\u001b[0m \u001b[1m0s\u001b[0m 8ms/step - acc: 0.9923 - loss: 0.4186 - metric_f1score: 0.9860 - val_acc: 0.9792 - val_loss: 0.4021 - val_metric_f1score: 0.9841 - learning_rate: 0.0010\n",
      "Epoch 96/200\n",
      "\u001b[1m 1/12\u001b[0m \u001b[32m━\u001b[0m\u001b[37m━━━━━━━━━━━━━━━━━━━\u001b[0m \u001b[1m0s\u001b[0m 16ms/step - acc: 1.0000 - loss: 0.3642 - metric_f1score: 1.0000\n",
      "Epoch 96: val_acc did not improve from 1.00000\n",
      "\u001b[1m12/12\u001b[0m \u001b[32m━━━━━━━━━━━━━━━━━━━━\u001b[0m\u001b[37m\u001b[0m \u001b[1m0s\u001b[0m 7ms/step - acc: 0.9994 - loss: 0.3767 - metric_f1score: 0.9997 - val_acc: 0.9896 - val_loss: 0.3877 - val_metric_f1score: 0.9947 - learning_rate: 0.0010\n",
      "Epoch 97/200\n",
      "\u001b[1m 1/12\u001b[0m \u001b[32m━\u001b[0m\u001b[37m━━━━━━━━━━━━━━━━━━━\u001b[0m \u001b[1m0s\u001b[0m 16ms/step - acc: 0.9688 - loss: 0.4013 - metric_f1score: 0.9688\n",
      "Epoch 97: val_acc did not improve from 1.00000\n",
      "\u001b[1m12/12\u001b[0m \u001b[32m━━━━━━━━━━━━━━━━━━━━\u001b[0m\u001b[37m\u001b[0m \u001b[1m0s\u001b[0m 7ms/step - acc: 0.9767 - loss: 0.4201 - metric_f1score: 0.9771 - val_acc: 0.9792 - val_loss: 0.4119 - val_metric_f1score: 0.9792 - learning_rate: 0.0010\n",
      "Epoch 98/200\n",
      "\u001b[1m 1/12\u001b[0m \u001b[32m━\u001b[0m\u001b[37m━━━━━━━━━━━━━━━━━━━\u001b[0m \u001b[1m0s\u001b[0m 16ms/step - acc: 1.0000 - loss: 0.3578 - metric_f1score: 1.0000\n",
      "Epoch 98: val_acc did not improve from 1.00000\n",
      "\u001b[1m12/12\u001b[0m \u001b[32m━━━━━━━━━━━━━━━━━━━━\u001b[0m\u001b[37m\u001b[0m \u001b[1m0s\u001b[0m 7ms/step - acc: 0.9923 - loss: 0.3799 - metric_f1score: 0.9911 - val_acc: 0.9792 - val_loss: 0.4078 - val_metric_f1score: 0.9792 - learning_rate: 0.0010\n",
      "Epoch 99/200\n",
      "\u001b[1m 1/12\u001b[0m \u001b[32m━\u001b[0m\u001b[37m━━━━━━━━━━━━━━━━━━━\u001b[0m \u001b[1m0s\u001b[0m 16ms/step - acc: 1.0000 - loss: 0.4068 - metric_f1score: 0.9677\n",
      "Epoch 99: val_acc did not improve from 1.00000\n",
      "\u001b[1m12/12\u001b[0m \u001b[32m━━━━━━━━━━━━━━━━━━━━\u001b[0m\u001b[37m\u001b[0m \u001b[1m0s\u001b[0m 7ms/step - acc: 0.9909 - loss: 0.3969 - metric_f1score: 0.9813 - val_acc: 0.9896 - val_loss: 0.3853 - val_metric_f1score: 0.9896 - learning_rate: 0.0010\n",
      "Epoch 100/200\n",
      "\u001b[1m 1/12\u001b[0m \u001b[32m━\u001b[0m\u001b[37m━━━━━━━━━━━━━━━━━━━\u001b[0m \u001b[1m0s\u001b[0m 16ms/step - acc: 0.9688 - loss: 0.4628 - metric_f1score: 0.9688\n",
      "Epoch 100: val_acc did not improve from 1.00000\n",
      "\u001b[1m12/12\u001b[0m \u001b[32m━━━━━━━━━━━━━━━━━━━━\u001b[0m\u001b[37m\u001b[0m \u001b[1m0s\u001b[0m 7ms/step - acc: 0.9743 - loss: 0.4202 - metric_f1score: 0.9754 - val_acc: 0.9896 - val_loss: 0.3843 - val_metric_f1score: 0.9896 - learning_rate: 0.0010\n",
      "Epoch 101/200\n",
      "\u001b[1m 1/12\u001b[0m \u001b[32m━\u001b[0m\u001b[37m━━━━━━━━━━━━━━━━━━━\u001b[0m \u001b[1m0s\u001b[0m 15ms/step - acc: 0.9688 - loss: 0.3906 - metric_f1score: 0.9688\n",
      "Epoch 101: val_acc did not improve from 1.00000\n",
      "\u001b[1m12/12\u001b[0m \u001b[32m━━━━━━━━━━━━━━━━━━━━\u001b[0m\u001b[37m\u001b[0m \u001b[1m0s\u001b[0m 7ms/step - acc: 0.9828 - loss: 0.3813 - metric_f1score: 0.9816 - val_acc: 0.9896 - val_loss: 0.3849 - val_metric_f1score: 0.9896 - learning_rate: 0.0010\n",
      "Epoch 102/200\n",
      "\u001b[1m 1/12\u001b[0m \u001b[32m━\u001b[0m\u001b[37m━━━━━━━━━━━━━━━━━━━\u001b[0m \u001b[1m0s\u001b[0m 16ms/step - acc: 1.0000 - loss: 0.3504 - metric_f1score: 1.0000\n",
      "Epoch 102: val_acc did not improve from 1.00000\n",
      "\u001b[1m12/12\u001b[0m \u001b[32m━━━━━━━━━━━━━━━━━━━━\u001b[0m\u001b[37m\u001b[0m \u001b[1m0s\u001b[0m 7ms/step - acc: 0.9900 - loss: 0.3767 - metric_f1score: 0.9876 - val_acc: 0.9896 - val_loss: 0.3825 - val_metric_f1score: 0.9896 - learning_rate: 0.0010\n",
      "Epoch 103/200\n",
      "\u001b[1m 1/12\u001b[0m \u001b[32m━\u001b[0m\u001b[37m━━━━━━━━━━━━━━━━━━━\u001b[0m \u001b[1m0s\u001b[0m 15ms/step - acc: 0.9688 - loss: 0.4335 - metric_f1score: 0.9688\n",
      "Epoch 103: val_acc did not improve from 1.00000\n",
      "\u001b[1m12/12\u001b[0m \u001b[32m━━━━━━━━━━━━━━━━━━━━\u001b[0m\u001b[37m\u001b[0m \u001b[1m0s\u001b[0m 7ms/step - acc: 0.9826 - loss: 0.3968 - metric_f1score: 0.9826 - val_acc: 0.9896 - val_loss: 0.3801 - val_metric_f1score: 0.9896 - learning_rate: 0.0010\n",
      "Epoch 104/200\n",
      "\u001b[1m 1/12\u001b[0m \u001b[32m━\u001b[0m\u001b[37m━━━━━━━━━━━━━━━━━━━\u001b[0m \u001b[1m0s\u001b[0m 16ms/step - acc: 0.9688 - loss: 0.4379 - metric_f1score: 0.9688\n",
      "Epoch 104: val_acc did not improve from 1.00000\n",
      "\u001b[1m12/12\u001b[0m \u001b[32m━━━━━━━━━━━━━━━━━━━━\u001b[0m\u001b[37m\u001b[0m \u001b[1m0s\u001b[0m 7ms/step - acc: 0.9839 - loss: 0.4008 - metric_f1score: 0.9834 - val_acc: 0.9792 - val_loss: 0.4031 - val_metric_f1score: 0.9841 - learning_rate: 0.0010\n",
      "Epoch 105/200\n",
      "\u001b[1m 1/12\u001b[0m \u001b[32m━\u001b[0m\u001b[37m━━━━━━━━━━━━━━━━━━━\u001b[0m \u001b[1m0s\u001b[0m 15ms/step - acc: 0.9375 - loss: 0.5013 - metric_f1score: 0.9032\n",
      "Epoch 105: val_acc did not improve from 1.00000\n",
      "\u001b[1m12/12\u001b[0m \u001b[32m━━━━━━━━━━━━━━━━━━━━\u001b[0m\u001b[37m\u001b[0m \u001b[1m0s\u001b[0m 7ms/step - acc: 0.9695 - loss: 0.4304 - metric_f1score: 0.9567 - val_acc: 0.9792 - val_loss: 0.6493 - val_metric_f1score: 0.9792 - learning_rate: 0.0010\n",
      "Epoch 106/200\n",
      "\u001b[1m 1/12\u001b[0m \u001b[32m━\u001b[0m\u001b[37m━━━━━━━━━━━━━━━━━━━\u001b[0m \u001b[1m0s\u001b[0m 16ms/step - acc: 1.0000 - loss: 0.3625 - metric_f1score: 0.9841\n",
      "Epoch 106: val_acc did not improve from 1.00000\n",
      "\u001b[1m12/12\u001b[0m \u001b[32m━━━━━━━━━━━━━━━━━━━━\u001b[0m\u001b[37m\u001b[0m \u001b[1m0s\u001b[0m 9ms/step - acc: 0.9949 - loss: 0.3732 - metric_f1score: 0.9864 - val_acc: 1.0000 - val_loss: 0.3366 - val_metric_f1score: 1.0000 - learning_rate: 0.0010\n",
      "Epoch 107/200\n",
      "\u001b[1m 1/12\u001b[0m \u001b[32m━\u001b[0m\u001b[37m━━━━━━━━━━━━━━━━━━━\u001b[0m \u001b[1m0s\u001b[0m 16ms/step - acc: 1.0000 - loss: 0.3739 - metric_f1score: 0.9841\n",
      "Epoch 107: val_acc did not improve from 1.00000\n",
      "\u001b[1m12/12\u001b[0m \u001b[32m━━━━━━━━━━━━━━━━━━━━\u001b[0m\u001b[37m\u001b[0m \u001b[1m0s\u001b[0m 7ms/step - acc: 0.9811 - loss: 0.4215 - metric_f1score: 0.9731 - val_acc: 0.9896 - val_loss: 0.4351 - val_metric_f1score: 0.9442 - learning_rate: 0.0010\n",
      "Epoch 108/200\n",
      "\u001b[1m 1/12\u001b[0m \u001b[32m━\u001b[0m\u001b[37m━━━━━━━━━━━━━━━━━━━\u001b[0m \u001b[1m0s\u001b[0m 16ms/step - acc: 0.9375 - loss: 0.5918 - metric_f1score: 0.9153\n",
      "Epoch 108: val_acc did not improve from 1.00000\n",
      "\u001b[1m12/12\u001b[0m \u001b[32m━━━━━━━━━━━━━━━━━━━━\u001b[0m\u001b[37m\u001b[0m \u001b[1m0s\u001b[0m 7ms/step - acc: 0.9744 - loss: 0.4577 - metric_f1score: 0.9592 - val_acc: 1.0000 - val_loss: 0.3513 - val_metric_f1score: 0.9947 - learning_rate: 0.0010\n",
      "Epoch 109/200\n",
      "\u001b[1m 1/12\u001b[0m \u001b[32m━\u001b[0m\u001b[37m━━━━━━━━━━━━━━━━━━━\u001b[0m \u001b[1m0s\u001b[0m 16ms/step - acc: 0.9375 - loss: 0.4573 - metric_f1score: 0.9375\n",
      "Epoch 109: val_acc did not improve from 1.00000\n",
      "\u001b[1m12/12\u001b[0m \u001b[32m━━━━━━━━━━━━━━━━━━━━\u001b[0m\u001b[37m\u001b[0m \u001b[1m0s\u001b[0m 7ms/step - acc: 0.9660 - loss: 0.4239 - metric_f1score: 0.9681 - val_acc: 0.9896 - val_loss: 0.3630 - val_metric_f1score: 0.9892 - learning_rate: 0.0010\n",
      "Epoch 110/200\n",
      "\u001b[1m 1/12\u001b[0m \u001b[32m━\u001b[0m\u001b[37m━━━━━━━━━━━━━━━━━━━\u001b[0m \u001b[1m0s\u001b[0m 15ms/step - acc: 1.0000 - loss: 0.3737 - metric_f1score: 0.9841\n",
      "Epoch 110: val_acc did not improve from 1.00000\n",
      "\u001b[1m12/12\u001b[0m \u001b[32m━━━━━━━━━━━━━━━━━━━━\u001b[0m\u001b[37m\u001b[0m \u001b[1m0s\u001b[0m 7ms/step - acc: 0.9815 - loss: 0.3898 - metric_f1score: 0.9751 - val_acc: 0.9896 - val_loss: 0.3612 - val_metric_f1score: 0.9892 - learning_rate: 0.0010\n",
      "Epoch 111/200\n",
      "\u001b[1m 1/12\u001b[0m \u001b[32m━\u001b[0m\u001b[37m━━━━━━━━━━━━━━━━━━━\u001b[0m \u001b[1m0s\u001b[0m 16ms/step - acc: 1.0000 - loss: 0.3844 - metric_f1score: 0.9841\n",
      "Epoch 111: val_acc did not improve from 1.00000\n",
      "\u001b[1m12/12\u001b[0m \u001b[32m━━━━━━━━━━━━━━━━━━━━\u001b[0m\u001b[37m\u001b[0m \u001b[1m0s\u001b[0m 7ms/step - acc: 0.9945 - loss: 0.3718 - metric_f1score: 0.9853 - val_acc: 0.9896 - val_loss: 0.3559 - val_metric_f1score: 0.9892 - learning_rate: 0.0010\n",
      "Epoch 112/200\n",
      "\u001b[1m 1/12\u001b[0m \u001b[32m━\u001b[0m\u001b[37m━━━━━━━━━━━━━━━━━━━\u001b[0m \u001b[1m0s\u001b[0m 16ms/step - acc: 1.0000 - loss: 0.3845 - metric_f1score: 0.9841\n",
      "Epoch 112: val_acc did not improve from 1.00000\n",
      "\u001b[1m12/12\u001b[0m \u001b[32m━━━━━━━━━━━━━━━━━━━━\u001b[0m\u001b[37m\u001b[0m \u001b[1m0s\u001b[0m 7ms/step - acc: 0.9982 - loss: 0.3569 - metric_f1score: 0.9907 - val_acc: 0.9896 - val_loss: 0.3514 - val_metric_f1score: 0.9892 - learning_rate: 0.0010\n",
      "Epoch 113/200\n",
      "\u001b[1m 1/12\u001b[0m \u001b[32m━\u001b[0m\u001b[37m━━━━━━━━━━━━━━━━━━━\u001b[0m \u001b[1m0s\u001b[0m 17ms/step - acc: 1.0000 - loss: 0.3318 - metric_f1score: 1.0000\n",
      "Epoch 113: val_acc did not improve from 1.00000\n",
      "\u001b[1m12/12\u001b[0m \u001b[32m━━━━━━━━━━━━━━━━━━━━\u001b[0m\u001b[37m\u001b[0m \u001b[1m0s\u001b[0m 7ms/step - acc: 0.9924 - loss: 0.3524 - metric_f1score: 0.9908 - val_acc: 0.9896 - val_loss: 0.3467 - val_metric_f1score: 0.9947 - learning_rate: 0.0010\n",
      "Epoch 114/200\n",
      "\u001b[1m 1/12\u001b[0m \u001b[32m━\u001b[0m\u001b[37m━━━━━━━━━━━━━━━━━━━\u001b[0m \u001b[1m0s\u001b[0m 16ms/step - acc: 1.0000 - loss: 0.3186 - metric_f1score: 1.0000\n",
      "Epoch 114: val_acc did not improve from 1.00000\n",
      "\u001b[1m12/12\u001b[0m \u001b[32m━━━━━━━━━━━━━━━━━━━━\u001b[0m\u001b[37m\u001b[0m \u001b[1m0s\u001b[0m 7ms/step - acc: 0.9931 - loss: 0.3523 - metric_f1score: 0.9920 - val_acc: 0.9896 - val_loss: 0.3638 - val_metric_f1score: 0.9840 - learning_rate: 0.0010\n",
      "Epoch 115/200\n",
      "\u001b[1m 1/12\u001b[0m \u001b[32m━\u001b[0m\u001b[37m━━━━━━━━━━━━━━━━━━━\u001b[0m \u001b[1m0s\u001b[0m 16ms/step - acc: 1.0000 - loss: 0.3403 - metric_f1score: 1.0000\n",
      "Epoch 115: val_acc did not improve from 1.00000\n",
      "\u001b[1m12/12\u001b[0m \u001b[32m━━━━━━━━━━━━━━━━━━━━\u001b[0m\u001b[37m\u001b[0m \u001b[1m0s\u001b[0m 7ms/step - acc: 0.9844 - loss: 0.3629 - metric_f1score: 0.9850 - val_acc: 0.9688 - val_loss: 0.3699 - val_metric_f1score: 0.9788 - learning_rate: 0.0010\n",
      "Epoch 116/200\n",
      "\u001b[1m 1/12\u001b[0m \u001b[32m━\u001b[0m\u001b[37m━━━━━━━━━━━━━━━━━━━\u001b[0m \u001b[1m0s\u001b[0m 16ms/step - acc: 0.9375 - loss: 0.4357 - metric_f1score: 0.9375\n",
      "Epoch 116: val_acc did not improve from 1.00000\n",
      "\u001b[1m12/12\u001b[0m \u001b[32m━━━━━━━━━━━━━━━━━━━━\u001b[0m\u001b[37m\u001b[0m \u001b[1m0s\u001b[0m 7ms/step - acc: 0.9789 - loss: 0.3735 - metric_f1score: 0.9762 - val_acc: 0.9792 - val_loss: 0.3684 - val_metric_f1score: 0.9892 - learning_rate: 0.0010\n",
      "Epoch 117/200\n",
      "\u001b[1m 9/12\u001b[0m \u001b[32m━━━━━━━━━━━━━━━\u001b[0m\u001b[37m━━━━━\u001b[0m \u001b[1m0s\u001b[0m 15ms/step - acc: 0.9988 - loss: 0.3278 - metric_f1score: 0.9982\n",
      "Epoch 117: val_acc did not improve from 1.00000\n",
      "\u001b[1m12/12\u001b[0m \u001b[32m━━━━━━━━━━━━━━━━━━━━\u001b[0m\u001b[37m\u001b[0m \u001b[1m0s\u001b[0m 18ms/step - acc: 0.9957 - loss: 0.3321 - metric_f1score: 0.9949 - val_acc: 0.9792 - val_loss: 0.3566 - val_metric_f1score: 0.9892 - learning_rate: 0.0010\n",
      "Epoch 118/200\n",
      "\u001b[1m 1/12\u001b[0m \u001b[32m━\u001b[0m\u001b[37m━━━━━━━━━━━━━━━━━━━\u001b[0m \u001b[1m0s\u001b[0m 19ms/step - acc: 1.0000 - loss: 0.3263 - metric_f1score: 1.0000\n",
      "Epoch 118: val_acc did not improve from 1.00000\n",
      "\u001b[1m12/12\u001b[0m \u001b[32m━━━━━━━━━━━━━━━━━━━━\u001b[0m\u001b[37m\u001b[0m \u001b[1m0s\u001b[0m 7ms/step - acc: 0.9888 - loss: 0.3481 - metric_f1score: 0.9914 - val_acc: 0.9792 - val_loss: 0.3615 - val_metric_f1score: 0.9841 - learning_rate: 0.0010\n",
      "Epoch 119/200\n",
      "\u001b[1m 1/12\u001b[0m \u001b[32m━\u001b[0m\u001b[37m━━━━━━━━━━━━━━━━━━━\u001b[0m \u001b[1m0s\u001b[0m 17ms/step - acc: 1.0000 - loss: 0.3214 - metric_f1score: 1.0000\n",
      "Epoch 119: val_acc did not improve from 1.00000\n",
      "\u001b[1m12/12\u001b[0m \u001b[32m━━━━━━━━━━━━━━━━━━━━\u001b[0m\u001b[37m\u001b[0m \u001b[1m0s\u001b[0m 7ms/step - acc: 0.9832 - loss: 0.3795 - metric_f1score: 0.9828 - val_acc: 0.9792 - val_loss: 0.3617 - val_metric_f1score: 0.9841 - learning_rate: 0.0010\n",
      "Epoch 120/200\n",
      "\u001b[1m 1/12\u001b[0m \u001b[32m━\u001b[0m\u001b[37m━━━━━━━━━━━━━━━━━━━\u001b[0m \u001b[1m0s\u001b[0m 16ms/step - acc: 1.0000 - loss: 0.3219 - metric_f1score: 1.0000\n",
      "Epoch 120: val_acc did not improve from 1.00000\n",
      "\u001b[1m12/12\u001b[0m \u001b[32m━━━━━━━━━━━━━━━━━━━━\u001b[0m\u001b[37m\u001b[0m \u001b[1m0s\u001b[0m 7ms/step - acc: 0.9854 - loss: 0.3396 - metric_f1score: 0.9868 - val_acc: 0.9896 - val_loss: 0.3504 - val_metric_f1score: 0.9841 - learning_rate: 0.0010\n",
      "Epoch 121/200\n",
      "\u001b[1m 1/12\u001b[0m \u001b[32m━\u001b[0m\u001b[37m━━━━━━━━━━━━━━━━━━━\u001b[0m \u001b[1m0s\u001b[0m 16ms/step - acc: 0.9688 - loss: 0.4577 - metric_f1score: 0.9508\n",
      "Epoch 121: val_acc did not improve from 1.00000\n",
      "\u001b[1m12/12\u001b[0m \u001b[32m━━━━━━━━━━━━━━━━━━━━\u001b[0m\u001b[37m\u001b[0m \u001b[1m0s\u001b[0m 7ms/step - acc: 0.9902 - loss: 0.3536 - metric_f1score: 0.9835 - val_acc: 0.9896 - val_loss: 0.3590 - val_metric_f1score: 0.9841 - learning_rate: 0.0010\n",
      "Epoch 122/200\n",
      "\u001b[1m 1/12\u001b[0m \u001b[32m━\u001b[0m\u001b[37m━━━━━━━━━━━━━━━━━━━\u001b[0m \u001b[1m0s\u001b[0m 17ms/step - acc: 1.0000 - loss: 0.3051 - metric_f1score: 1.0000\n",
      "Epoch 122: val_acc did not improve from 1.00000\n",
      "\u001b[1m12/12\u001b[0m \u001b[32m━━━━━━━━━━━━━━━━━━━━\u001b[0m\u001b[37m\u001b[0m \u001b[1m0s\u001b[0m 7ms/step - acc: 0.9955 - loss: 0.3180 - metric_f1score: 0.9925 - val_acc: 0.9896 - val_loss: 0.3373 - val_metric_f1score: 0.9841 - learning_rate: 0.0010\n",
      "Epoch 123/200\n",
      "\u001b[1m 1/12\u001b[0m \u001b[32m━\u001b[0m\u001b[37m━━━━━━━━━━━━━━━━━━━\u001b[0m \u001b[1m0s\u001b[0m 16ms/step - acc: 0.9688 - loss: 0.3956 - metric_f1score: 0.9688\n",
      "Epoch 123: val_acc did not improve from 1.00000\n",
      "\u001b[1m12/12\u001b[0m \u001b[32m━━━━━━━━━━━━━━━━━━━━\u001b[0m\u001b[37m\u001b[0m \u001b[1m0s\u001b[0m 7ms/step - acc: 0.9906 - loss: 0.3404 - metric_f1score: 0.9882 - val_acc: 0.9896 - val_loss: 0.3308 - val_metric_f1score: 0.9892 - learning_rate: 0.0010\n",
      "Epoch 124/200\n",
      "\u001b[1m 1/12\u001b[0m \u001b[32m━\u001b[0m\u001b[37m━━━━━━━━━━━━━━━━━━━\u001b[0m \u001b[1m0s\u001b[0m 16ms/step - acc: 1.0000 - loss: 0.3080 - metric_f1score: 1.0000\n",
      "Epoch 124: val_acc did not improve from 1.00000\n",
      "\u001b[1m12/12\u001b[0m \u001b[32m━━━━━━━━━━━━━━━━━━━━\u001b[0m\u001b[37m\u001b[0m \u001b[1m0s\u001b[0m 7ms/step - acc: 0.9991 - loss: 0.3072 - metric_f1score: 0.9967 - val_acc: 0.9896 - val_loss: 0.3311 - val_metric_f1score: 0.9892 - learning_rate: 0.0010\n",
      "Epoch 125/200\n",
      "\u001b[1m 1/12\u001b[0m \u001b[32m━\u001b[0m\u001b[37m━━━━━━━━━━━━━━━━━━━\u001b[0m \u001b[1m0s\u001b[0m 16ms/step - acc: 1.0000 - loss: 0.2934 - metric_f1score: 1.0000\n",
      "Epoch 125: val_acc did not improve from 1.00000\n",
      "\u001b[1m12/12\u001b[0m \u001b[32m━━━━━━━━━━━━━━━━━━━━\u001b[0m\u001b[37m\u001b[0m \u001b[1m0s\u001b[0m 7ms/step - acc: 0.9903 - loss: 0.3289 - metric_f1score: 0.9925 - val_acc: 0.9896 - val_loss: 0.3252 - val_metric_f1score: 0.9947 - learning_rate: 0.0010\n",
      "Epoch 126/200\n",
      "\u001b[1m 1/12\u001b[0m \u001b[32m━\u001b[0m\u001b[37m━━━━━━━━━━━━━━━━━━━\u001b[0m \u001b[1m0s\u001b[0m 16ms/step - acc: 1.0000 - loss: 0.3028 - metric_f1score: 1.0000\n",
      "Epoch 126: val_acc did not improve from 1.00000\n",
      "\u001b[1m12/12\u001b[0m \u001b[32m━━━━━━━━━━━━━━━━━━━━\u001b[0m\u001b[37m\u001b[0m \u001b[1m0s\u001b[0m 7ms/step - acc: 0.9919 - loss: 0.3369 - metric_f1score: 0.9932 - val_acc: 0.9896 - val_loss: 0.3287 - val_metric_f1score: 0.9896 - learning_rate: 0.0010\n",
      "Epoch 127/200\n",
      "\u001b[1m 1/12\u001b[0m \u001b[32m━\u001b[0m\u001b[37m━━━━━━━━━━━━━━━━━━━\u001b[0m \u001b[1m0s\u001b[0m 15ms/step - acc: 0.9688 - loss: 0.3266 - metric_f1score: 0.9841\n",
      "Epoch 127: val_acc did not improve from 1.00000\n",
      "\u001b[1m12/12\u001b[0m \u001b[32m━━━━━━━━━━━━━━━━━━━━\u001b[0m\u001b[37m\u001b[0m \u001b[1m0s\u001b[0m 7ms/step - acc: 0.9903 - loss: 0.3061 - metric_f1score: 0.9948 - val_acc: 0.9896 - val_loss: 0.3399 - val_metric_f1score: 0.9841 - learning_rate: 0.0010\n",
      "Epoch 128/200\n",
      "\u001b[1m 1/12\u001b[0m \u001b[32m━\u001b[0m\u001b[37m━━━━━━━━━━━━━━━━━━━\u001b[0m \u001b[1m0s\u001b[0m 44ms/step - acc: 0.9688 - loss: 0.3436 - metric_f1score: 0.9688\n",
      "Epoch 128: val_acc did not improve from 1.00000\n",
      "\u001b[1m12/12\u001b[0m \u001b[32m━━━━━━━━━━━━━━━━━━━━\u001b[0m\u001b[37m\u001b[0m \u001b[1m0s\u001b[0m 7ms/step - acc: 0.9874 - loss: 0.3157 - metric_f1score: 0.9883 - val_acc: 0.9792 - val_loss: 0.3599 - val_metric_f1score: 0.9841 - learning_rate: 0.0010\n",
      "Epoch 129/200\n",
      "\u001b[1m 1/12\u001b[0m \u001b[32m━\u001b[0m\u001b[37m━━━━━━━━━━━━━━━━━━━\u001b[0m \u001b[1m0s\u001b[0m 16ms/step - acc: 0.9375 - loss: 0.3840 - metric_f1score: 0.9524\n",
      "Epoch 129: val_acc did not improve from 1.00000\n",
      "\u001b[1m12/12\u001b[0m \u001b[32m━━━━━━━━━━━━━━━━━━━━\u001b[0m\u001b[37m\u001b[0m \u001b[1m0s\u001b[0m 7ms/step - acc: 0.9790 - loss: 0.3215 - metric_f1score: 0.9847 - val_acc: 0.9792 - val_loss: 0.3553 - val_metric_f1score: 0.9841 - learning_rate: 0.0010\n",
      "Epoch 130/200\n",
      "\u001b[1m 1/12\u001b[0m \u001b[32m━\u001b[0m\u001b[37m━━━━━━━━━━━━━━━━━━━\u001b[0m \u001b[1m0s\u001b[0m 16ms/step - acc: 1.0000 - loss: 0.2807 - metric_f1score: 1.0000\n",
      "Epoch 130: val_acc did not improve from 1.00000\n",
      "\u001b[1m12/12\u001b[0m \u001b[32m━━━━━━━━━━━━━━━━━━━━\u001b[0m\u001b[37m\u001b[0m \u001b[1m0s\u001b[0m 7ms/step - acc: 0.9919 - loss: 0.3076 - metric_f1score: 0.9933 - val_acc: 0.9792 - val_loss: 0.3575 - val_metric_f1score: 0.9841 - learning_rate: 0.0010\n",
      "Epoch 131/200\n",
      "\u001b[1m 1/12\u001b[0m \u001b[32m━\u001b[0m\u001b[37m━━━━━━━━━━━━━━━━━━━\u001b[0m \u001b[1m0s\u001b[0m 17ms/step - acc: 1.0000 - loss: 0.2783 - metric_f1score: 1.0000\n",
      "Epoch 131: val_acc did not improve from 1.00000\n",
      "\u001b[1m12/12\u001b[0m \u001b[32m━━━━━━━━━━━━━━━━━━━━\u001b[0m\u001b[37m\u001b[0m \u001b[1m0s\u001b[0m 7ms/step - acc: 0.9959 - loss: 0.2940 - metric_f1score: 0.9938 - val_acc: 0.9792 - val_loss: 0.3575 - val_metric_f1score: 0.9841 - learning_rate: 0.0010\n",
      "Epoch 132/200\n",
      "\u001b[1m 1/12\u001b[0m \u001b[32m━\u001b[0m\u001b[37m━━━━━━━━━━━━━━━━━━━\u001b[0m \u001b[1m0s\u001b[0m 17ms/step - acc: 1.0000 - loss: 0.2853 - metric_f1score: 1.0000\n",
      "Epoch 132: val_acc did not improve from 1.00000\n",
      "\u001b[1m12/12\u001b[0m \u001b[32m━━━━━━━━━━━━━━━━━━━━\u001b[0m\u001b[37m\u001b[0m \u001b[1m0s\u001b[0m 7ms/step - acc: 0.9926 - loss: 0.3077 - metric_f1score: 0.9926 - val_acc: 0.9792 - val_loss: 0.3592 - val_metric_f1score: 0.9841 - learning_rate: 0.0010\n",
      "Epoch 133/200\n",
      "\u001b[1m 1/12\u001b[0m \u001b[32m━\u001b[0m\u001b[37m━━━━━━━━━━━━━━━━━━━\u001b[0m \u001b[1m0s\u001b[0m 16ms/step - acc: 1.0000 - loss: 0.2839 - metric_f1score: 1.0000\n",
      "Epoch 133: val_acc did not improve from 1.00000\n",
      "\u001b[1m12/12\u001b[0m \u001b[32m━━━━━━━━━━━━━━━━━━━━\u001b[0m\u001b[37m\u001b[0m \u001b[1m0s\u001b[0m 7ms/step - acc: 0.9940 - loss: 0.2940 - metric_f1score: 0.9955 - val_acc: 0.9792 - val_loss: 0.3561 - val_metric_f1score: 0.9792 - learning_rate: 0.0010\n",
      "Epoch 134/200\n",
      "\u001b[1m 1/12\u001b[0m \u001b[32m━\u001b[0m\u001b[37m━━━━━━━━━━━━━━━━━━━\u001b[0m \u001b[1m0s\u001b[0m 16ms/step - acc: 1.0000 - loss: 0.2734 - metric_f1score: 1.0000\n",
      "Epoch 134: val_acc did not improve from 1.00000\n",
      "\u001b[1m12/12\u001b[0m \u001b[32m━━━━━━━━━━━━━━━━━━━━\u001b[0m\u001b[37m\u001b[0m \u001b[1m0s\u001b[0m 7ms/step - acc: 0.9959 - loss: 0.2964 - metric_f1score: 0.9959 - val_acc: 0.9792 - val_loss: 0.3174 - val_metric_f1score: 0.9892 - learning_rate: 0.0010\n",
      "Epoch 135/200\n",
      "\u001b[1m 1/12\u001b[0m \u001b[32m━\u001b[0m\u001b[37m━━━━━━━━━━━━━━━━━━━\u001b[0m \u001b[1m0s\u001b[0m 16ms/step - acc: 1.0000 - loss: 0.2715 - metric_f1score: 1.0000\n",
      "Epoch 135: val_acc did not improve from 1.00000\n",
      "\u001b[1m12/12\u001b[0m \u001b[32m━━━━━━━━━━━━━━━━━━━━\u001b[0m\u001b[37m\u001b[0m \u001b[1m0s\u001b[0m 7ms/step - acc: 0.9987 - loss: 0.2760 - metric_f1score: 0.9980 - val_acc: 0.9792 - val_loss: 0.3283 - val_metric_f1score: 0.9892 - learning_rate: 0.0010\n",
      "Epoch 136/200\n",
      "\u001b[1m 1/12\u001b[0m \u001b[32m━\u001b[0m\u001b[37m━━━━━━━━━━━━━━━━━━━\u001b[0m \u001b[1m0s\u001b[0m 16ms/step - acc: 1.0000 - loss: 0.2728 - metric_f1score: 1.0000\n",
      "Epoch 136: val_acc did not improve from 1.00000\n",
      "\u001b[1m12/12\u001b[0m \u001b[32m━━━━━━━━━━━━━━━━━━━━\u001b[0m\u001b[37m\u001b[0m \u001b[1m0s\u001b[0m 7ms/step - acc: 0.9936 - loss: 0.2868 - metric_f1score: 0.9931 - val_acc: 0.9792 - val_loss: 0.3308 - val_metric_f1score: 0.9892 - learning_rate: 0.0010\n",
      "Epoch 137/200\n",
      "\u001b[1m 8/12\u001b[0m \u001b[32m━━━━━━━━━━━━━\u001b[0m\u001b[37m━━━━━━━\u001b[0m \u001b[1m0s\u001b[0m 7ms/step - acc: 0.9995 - loss: 0.2782 - metric_f1score: 0.9978 \n",
      "Epoch 137: val_acc did not improve from 1.00000\n",
      "\u001b[1m12/12\u001b[0m \u001b[32m━━━━━━━━━━━━━━━━━━━━\u001b[0m\u001b[37m\u001b[0m \u001b[1m0s\u001b[0m 10ms/step - acc: 0.9986 - loss: 0.2800 - metric_f1score: 0.9967 - val_acc: 0.9792 - val_loss: 0.3345 - val_metric_f1score: 0.9892 - learning_rate: 0.0010\n",
      "Epoch 138/200\n",
      "\u001b[1m 1/12\u001b[0m \u001b[32m━\u001b[0m\u001b[37m━━━━━━━━━━━━━━━━━━━\u001b[0m \u001b[1m0s\u001b[0m 17ms/step - acc: 1.0000 - loss: 0.2645 - metric_f1score: 1.0000\n",
      "Epoch 138: val_acc did not improve from 1.00000\n",
      "\u001b[1m12/12\u001b[0m \u001b[32m━━━━━━━━━━━━━━━━━━━━\u001b[0m\u001b[37m\u001b[0m \u001b[1m0s\u001b[0m 7ms/step - acc: 0.9991 - loss: 0.2664 - metric_f1score: 0.9989 - val_acc: 0.9792 - val_loss: 0.3165 - val_metric_f1score: 0.9892 - learning_rate: 0.0010\n",
      "Epoch 139/200\n",
      "\u001b[1m 1/12\u001b[0m \u001b[32m━\u001b[0m\u001b[37m━━━━━━━━━━━━━━━━━━━\u001b[0m \u001b[1m0s\u001b[0m 15ms/step - acc: 1.0000 - loss: 0.2704 - metric_f1score: 1.0000\n",
      "Epoch 139: val_acc did not improve from 1.00000\n",
      "\u001b[1m12/12\u001b[0m \u001b[32m━━━━━━━━━━━━━━━━━━━━\u001b[0m\u001b[37m\u001b[0m \u001b[1m0s\u001b[0m 7ms/step - acc: 0.9950 - loss: 0.2867 - metric_f1score: 0.9935 - val_acc: 0.9792 - val_loss: 0.3121 - val_metric_f1score: 0.9892 - learning_rate: 0.0010\n",
      "Epoch 140/200\n",
      "\u001b[1m 1/12\u001b[0m \u001b[32m━\u001b[0m\u001b[37m━━━━━━━━━━━━━━━━━━━\u001b[0m \u001b[1m0s\u001b[0m 16ms/step - acc: 1.0000 - loss: 0.2810 - metric_f1score: 1.0000\n",
      "Epoch 140: val_acc did not improve from 1.00000\n",
      "\u001b[1m12/12\u001b[0m \u001b[32m━━━━━━━━━━━━━━━━━━━━\u001b[0m\u001b[37m\u001b[0m \u001b[1m0s\u001b[0m 7ms/step - acc: 1.0000 - loss: 0.2696 - metric_f1score: 0.9989 - val_acc: 0.9896 - val_loss: 0.3069 - val_metric_f1score: 0.9892 - learning_rate: 0.0010\n",
      "Epoch 141/200\n",
      "\u001b[1m 1/12\u001b[0m \u001b[32m━\u001b[0m\u001b[37m━━━━━━━━━━━━━━━━━━━\u001b[0m \u001b[1m0s\u001b[0m 16ms/step - acc: 1.0000 - loss: 0.2618 - metric_f1score: 1.0000\n",
      "Epoch 141: val_acc did not improve from 1.00000\n",
      "\u001b[1m12/12\u001b[0m \u001b[32m━━━━━━━━━━━━━━━━━━━━\u001b[0m\u001b[37m\u001b[0m \u001b[1m0s\u001b[0m 7ms/step - acc: 0.9982 - loss: 0.2629 - metric_f1score: 0.9982 - val_acc: 0.9896 - val_loss: 0.3002 - val_metric_f1score: 0.9892 - learning_rate: 0.0010\n",
      "Epoch 142/200\n",
      "\u001b[1m 1/12\u001b[0m \u001b[32m━\u001b[0m\u001b[37m━━━━━━━━━━━━━━━━━━━\u001b[0m \u001b[1m0s\u001b[0m 16ms/step - acc: 1.0000 - loss: 0.2602 - metric_f1score: 1.0000\n",
      "Epoch 142: val_acc did not improve from 1.00000\n",
      "\u001b[1m12/12\u001b[0m \u001b[32m━━━━━━━━━━━━━━━━━━━━\u001b[0m\u001b[37m\u001b[0m \u001b[1m0s\u001b[0m 7ms/step - acc: 0.9985 - loss: 0.2669 - metric_f1score: 0.9964 - val_acc: 0.9896 - val_loss: 0.3047 - val_metric_f1score: 0.9892 - learning_rate: 0.0010\n",
      "Epoch 143/200\n",
      "\u001b[1m 1/12\u001b[0m \u001b[32m━\u001b[0m\u001b[37m━━━━━━━━━━━━━━━━━━━\u001b[0m \u001b[1m0s\u001b[0m 15ms/step - acc: 1.0000 - loss: 0.2540 - metric_f1score: 1.0000\n",
      "Epoch 143: val_acc did not improve from 1.00000\n",
      "\u001b[1m12/12\u001b[0m \u001b[32m━━━━━━━━━━━━━━━━━━━━\u001b[0m\u001b[37m\u001b[0m \u001b[1m0s\u001b[0m 7ms/step - acc: 0.9970 - loss: 0.2665 - metric_f1score: 0.9965 - val_acc: 0.9688 - val_loss: 0.3675 - val_metric_f1score: 0.9840 - learning_rate: 0.0010\n",
      "Epoch 144/200\n",
      "\u001b[1m 1/12\u001b[0m \u001b[32m━\u001b[0m\u001b[37m━━━━━━━━━━━━━━━━━━━\u001b[0m \u001b[1m0s\u001b[0m 16ms/step - acc: 0.9688 - loss: 0.3260 - metric_f1score: 0.9688\n",
      "Epoch 144: val_acc did not improve from 1.00000\n",
      "\u001b[1m12/12\u001b[0m \u001b[32m━━━━━━━━━━━━━━━━━━━━\u001b[0m\u001b[37m\u001b[0m \u001b[1m0s\u001b[0m 7ms/step - acc: 0.9890 - loss: 0.2914 - metric_f1score: 0.9878 - val_acc: 0.9688 - val_loss: 0.3604 - val_metric_f1score: 0.9840 - learning_rate: 0.0010\n",
      "Epoch 145/200\n",
      "\u001b[1m 1/12\u001b[0m \u001b[32m━\u001b[0m\u001b[37m━━━━━━━━━━━━━━━━━━━\u001b[0m \u001b[1m0s\u001b[0m 17ms/step - acc: 1.0000 - loss: 0.2501 - metric_f1score: 1.0000\n",
      "Epoch 145: val_acc did not improve from 1.00000\n",
      "\u001b[1m12/12\u001b[0m \u001b[32m━━━━━━━━━━━━━━━━━━━━\u001b[0m\u001b[37m\u001b[0m \u001b[1m0s\u001b[0m 7ms/step - acc: 0.9970 - loss: 0.2586 - metric_f1score: 0.9970 - val_acc: 0.9688 - val_loss: 0.3747 - val_metric_f1score: 0.9788 - learning_rate: 0.0010\n",
      "Epoch 146/200\n",
      "\u001b[1m 1/12\u001b[0m \u001b[32m━\u001b[0m\u001b[37m━━━━━━━━━━━━━━━━━━━\u001b[0m \u001b[1m0s\u001b[0m 15ms/step - acc: 1.0000 - loss: 0.2523 - metric_f1score: 1.0000\n",
      "Epoch 146: val_acc did not improve from 1.00000\n",
      "\u001b[1m12/12\u001b[0m \u001b[32m━━━━━━━━━━━━━━━━━━━━\u001b[0m\u001b[37m\u001b[0m \u001b[1m0s\u001b[0m 7ms/step - acc: 0.9935 - loss: 0.2707 - metric_f1score: 0.9956 - val_acc: 0.9688 - val_loss: 0.4122 - val_metric_f1score: 0.9739 - learning_rate: 0.0010\n",
      "Epoch 147/200\n",
      "\u001b[1m 1/12\u001b[0m \u001b[32m━\u001b[0m\u001b[37m━━━━━━━━━━━━━━━━━━━\u001b[0m \u001b[1m0s\u001b[0m 16ms/step - acc: 0.9688 - loss: 0.2799 - metric_f1score: 0.9688\n",
      "Epoch 147: val_acc did not improve from 1.00000\n",
      "\u001b[1m12/12\u001b[0m \u001b[32m━━━━━━━━━━━━━━━━━━━━\u001b[0m\u001b[37m\u001b[0m \u001b[1m0s\u001b[0m 7ms/step - acc: 0.9845 - loss: 0.2807 - metric_f1score: 0.9872 - val_acc: 0.9688 - val_loss: 0.5655 - val_metric_f1score: 0.9688 - learning_rate: 0.0010\n",
      "Epoch 148/200\n",
      "\u001b[1m 1/12\u001b[0m \u001b[32m━\u001b[0m\u001b[37m━━━━━━━━━━━━━━━━━━━\u001b[0m \u001b[1m0s\u001b[0m 43ms/step - acc: 1.0000 - loss: 0.2599 - metric_f1score: 1.0000\n",
      "Epoch 148: val_acc did not improve from 1.00000\n",
      "\u001b[1m12/12\u001b[0m \u001b[32m━━━━━━━━━━━━━━━━━━━━\u001b[0m\u001b[37m\u001b[0m \u001b[1m0s\u001b[0m 7ms/step - acc: 0.9990 - loss: 0.2680 - metric_f1score: 0.9929 - val_acc: 0.9792 - val_loss: 0.4721 - val_metric_f1score: 0.9739 - learning_rate: 0.0010\n",
      "Epoch 149/200\n",
      "\u001b[1m 1/12\u001b[0m \u001b[32m━\u001b[0m\u001b[37m━━━━━━━━━━━━━━━━━━━\u001b[0m \u001b[1m0s\u001b[0m 16ms/step - acc: 1.0000 - loss: 0.2482 - metric_f1score: 1.0000\n",
      "Epoch 149: val_acc did not improve from 1.00000\n",
      "\u001b[1m12/12\u001b[0m \u001b[32m━━━━━━━━━━━━━━━━━━━━\u001b[0m\u001b[37m\u001b[0m \u001b[1m0s\u001b[0m 7ms/step - acc: 0.9873 - loss: 0.2616 - metric_f1score: 0.9879 - val_acc: 0.9792 - val_loss: 0.3522 - val_metric_f1score: 0.9788 - learning_rate: 0.0010\n",
      "Epoch 150/200\n",
      "\u001b[1m 1/12\u001b[0m \u001b[32m━\u001b[0m\u001b[37m━━━━━━━━━━━━━━━━━━━\u001b[0m \u001b[1m0s\u001b[0m 16ms/step - acc: 1.0000 - loss: 0.2408 - metric_f1score: 1.0000\n",
      "Epoch 150: val_acc did not improve from 1.00000\n",
      "\u001b[1m12/12\u001b[0m \u001b[32m━━━━━━━━━━━━━━━━━━━━\u001b[0m\u001b[37m\u001b[0m \u001b[1m0s\u001b[0m 7ms/step - acc: 0.9926 - loss: 0.2614 - metric_f1score: 0.9927 - val_acc: 0.9583 - val_loss: 0.4027 - val_metric_f1score: 0.9683 - learning_rate: 0.0010\n",
      "Epoch 151/200\n",
      "\u001b[1m 1/12\u001b[0m \u001b[32m━\u001b[0m\u001b[37m━━━━━━━━━━━━━━━━━━━\u001b[0m \u001b[1m0s\u001b[0m 17ms/step - acc: 1.0000 - loss: 0.2421 - metric_f1score: 1.0000\n",
      "Epoch 151: val_acc did not improve from 1.00000\n",
      "\u001b[1m12/12\u001b[0m \u001b[32m━━━━━━━━━━━━━━━━━━━━\u001b[0m\u001b[37m\u001b[0m \u001b[1m0s\u001b[0m 7ms/step - acc: 0.9871 - loss: 0.2667 - metric_f1score: 0.9904 - val_acc: 0.9688 - val_loss: 0.4181 - val_metric_f1score: 0.9688 - learning_rate: 0.0010\n",
      "Epoch 152/200\n",
      "\u001b[1m 1/12\u001b[0m \u001b[32m━\u001b[0m\u001b[37m━━━━━━━━━━━━━━━━━━━\u001b[0m \u001b[1m0s\u001b[0m 16ms/step - acc: 1.0000 - loss: 0.2380 - metric_f1score: 1.0000\n",
      "Epoch 152: val_acc did not improve from 1.00000\n",
      "\u001b[1m12/12\u001b[0m \u001b[32m━━━━━━━━━━━━━━━━━━━━\u001b[0m\u001b[37m\u001b[0m \u001b[1m0s\u001b[0m 7ms/step - acc: 0.9961 - loss: 0.2614 - metric_f1score: 0.9946 - val_acc: 0.9688 - val_loss: 0.3751 - val_metric_f1score: 0.9737 - learning_rate: 0.0010\n",
      "Epoch 153/200\n",
      "\u001b[1m 1/12\u001b[0m \u001b[32m━\u001b[0m\u001b[37m━━━━━━━━━━━━━━━━━━━\u001b[0m \u001b[1m0s\u001b[0m 16ms/step - acc: 1.0000 - loss: 0.2489 - metric_f1score: 1.0000\n",
      "Epoch 153: val_acc did not improve from 1.00000\n",
      "\u001b[1m12/12\u001b[0m \u001b[32m━━━━━━━━━━━━━━━━━━━━\u001b[0m\u001b[37m\u001b[0m \u001b[1m0s\u001b[0m 7ms/step - acc: 0.9916 - loss: 0.2664 - metric_f1score: 0.9909 - val_acc: 0.9583 - val_loss: 0.5054 - val_metric_f1score: 0.9583 - learning_rate: 0.0010\n",
      "Epoch 154/200\n",
      "\u001b[1m 1/12\u001b[0m \u001b[32m━\u001b[0m\u001b[37m━━━━━━━━━━━━━━━━━━━\u001b[0m \u001b[1m0s\u001b[0m 16ms/step - acc: 0.9688 - loss: 0.2634 - metric_f1score: 0.9688\n",
      "Epoch 154: val_acc did not improve from 1.00000\n",
      "\u001b[1m12/12\u001b[0m \u001b[32m━━━━━━━━━━━━━━━━━━━━\u001b[0m\u001b[37m\u001b[0m \u001b[1m0s\u001b[0m 7ms/step - acc: 0.9848 - loss: 0.2646 - metric_f1score: 0.9834 - val_acc: 0.9688 - val_loss: 0.3826 - val_metric_f1score: 0.9688 - learning_rate: 0.0010\n",
      "Epoch 155/200\n",
      "\u001b[1m 1/12\u001b[0m \u001b[32m━\u001b[0m\u001b[37m━━━━━━━━━━━━━━━━━━━\u001b[0m \u001b[1m0s\u001b[0m 15ms/step - acc: 0.9688 - loss: 0.2586 - metric_f1score: 0.9688\n",
      "Epoch 155: val_acc did not improve from 1.00000\n",
      "\u001b[1m12/12\u001b[0m \u001b[32m━━━━━━━━━━━━━━━━━━━━\u001b[0m\u001b[37m\u001b[0m \u001b[1m0s\u001b[0m 7ms/step - acc: 0.9917 - loss: 0.2463 - metric_f1score: 0.9915 - val_acc: 0.9792 - val_loss: 0.3657 - val_metric_f1score: 0.9792 - learning_rate: 0.0010\n",
      "Epoch 156/200\n",
      "\u001b[1m 1/12\u001b[0m \u001b[32m━\u001b[0m\u001b[37m━━━━━━━━━━━━━━━━━━━\u001b[0m \u001b[1m0s\u001b[0m 16ms/step - acc: 1.0000 - loss: 0.2333 - metric_f1score: 1.0000\n",
      "Epoch 156: val_acc did not improve from 1.00000\n",
      "\u001b[1m12/12\u001b[0m \u001b[32m━━━━━━━━━━━━━━━━━━━━\u001b[0m\u001b[37m\u001b[0m \u001b[1m0s\u001b[0m 7ms/step - acc: 0.9866 - loss: 0.2672 - metric_f1score: 0.9858 - val_acc: 0.9688 - val_loss: 0.3940 - val_metric_f1score: 0.9688 - learning_rate: 0.0010\n",
      "Epoch 157/200\n",
      "\u001b[1m 7/12\u001b[0m \u001b[32m━━━━━━━━━━━\u001b[0m\u001b[37m━━━━━━━━━\u001b[0m \u001b[1m0s\u001b[0m 9ms/step - acc: 1.0000 - loss: 0.2443 - metric_f1score: 0.9941 \n",
      "Epoch 157: val_acc did not improve from 1.00000\n",
      "\u001b[1m12/12\u001b[0m \u001b[32m━━━━━━━━━━━━━━━━━━━━\u001b[0m\u001b[37m\u001b[0m \u001b[1m0s\u001b[0m 10ms/step - acc: 1.0000 - loss: 0.2427 - metric_f1score: 0.9954 - val_acc: 0.9688 - val_loss: 0.3945 - val_metric_f1score: 0.9737 - learning_rate: 0.0010\n",
      "Epoch 158/200\n",
      "\u001b[1m 1/12\u001b[0m \u001b[32m━\u001b[0m\u001b[37m━━━━━━━━━━━━━━━━━━━\u001b[0m \u001b[1m0s\u001b[0m 16ms/step - acc: 1.0000 - loss: 0.2343 - metric_f1score: 1.0000\n",
      "Epoch 158: val_acc did not improve from 1.00000\n",
      "\u001b[1m12/12\u001b[0m \u001b[32m━━━━━━━━━━━━━━━━━━━━\u001b[0m\u001b[37m\u001b[0m \u001b[1m0s\u001b[0m 7ms/step - acc: 0.9946 - loss: 0.2437 - metric_f1score: 0.9941 - val_acc: 0.9688 - val_loss: 0.3945 - val_metric_f1score: 0.9688 - learning_rate: 0.0010\n",
      "Epoch 159/200\n",
      "\u001b[1m 1/12\u001b[0m \u001b[32m━\u001b[0m\u001b[37m━━━━━━━━━━━━━━━━━━━\u001b[0m \u001b[1m0s\u001b[0m 17ms/step - acc: 1.0000 - loss: 0.2378 - metric_f1score: 1.0000\n",
      "Epoch 159: val_acc did not improve from 1.00000\n",
      "\u001b[1m12/12\u001b[0m \u001b[32m━━━━━━━━━━━━━━━━━━━━\u001b[0m\u001b[37m\u001b[0m \u001b[1m0s\u001b[0m 7ms/step - acc: 0.9961 - loss: 0.2403 - metric_f1score: 0.9947 - val_acc: 0.9688 - val_loss: 0.4022 - val_metric_f1score: 0.9688 - learning_rate: 0.0010\n",
      "Epoch 160/200\n",
      "\u001b[1m 1/12\u001b[0m \u001b[32m━\u001b[0m\u001b[37m━━━━━━━━━━━━━━━━━━━\u001b[0m \u001b[1m0s\u001b[0m 16ms/step - acc: 1.0000 - loss: 0.2278 - metric_f1score: 1.0000\n",
      "Epoch 160: val_acc did not improve from 1.00000\n",
      "\u001b[1m12/12\u001b[0m \u001b[32m━━━━━━━━━━━━━━━━━━━━\u001b[0m\u001b[37m\u001b[0m \u001b[1m0s\u001b[0m 7ms/step - acc: 0.9970 - loss: 0.2373 - metric_f1score: 0.9971 - val_acc: 0.9792 - val_loss: 0.3664 - val_metric_f1score: 0.9792 - learning_rate: 0.0010\n",
      "Epoch 161/200\n",
      "\u001b[1m 1/12\u001b[0m \u001b[32m━\u001b[0m\u001b[37m━━━━━━━━━━━━━━━━━━━\u001b[0m \u001b[1m0s\u001b[0m 17ms/step - acc: 1.0000 - loss: 0.2258 - metric_f1score: 1.0000\n",
      "Epoch 161: val_acc did not improve from 1.00000\n",
      "\u001b[1m12/12\u001b[0m \u001b[32m━━━━━━━━━━━━━━━━━━━━\u001b[0m\u001b[37m\u001b[0m \u001b[1m0s\u001b[0m 7ms/step - acc: 0.9796 - loss: 0.2778 - metric_f1score: 0.9802 - val_acc: 0.9688 - val_loss: 0.3767 - val_metric_f1score: 0.9739 - learning_rate: 0.0010\n",
      "Epoch 162/200\n",
      "\u001b[1m 1/12\u001b[0m \u001b[32m━\u001b[0m\u001b[37m━━━━━━━━━━━━━━━━━━━\u001b[0m \u001b[1m0s\u001b[0m 16ms/step - acc: 1.0000 - loss: 0.2385 - metric_f1score: 1.0000\n",
      "Epoch 162: val_acc did not improve from 1.00000\n",
      "\u001b[1m12/12\u001b[0m \u001b[32m━━━━━━━━━━━━━━━━━━━━\u001b[0m\u001b[37m\u001b[0m \u001b[1m0s\u001b[0m 7ms/step - acc: 0.9972 - loss: 0.2341 - metric_f1score: 0.9972 - val_acc: 0.9688 - val_loss: 0.4082 - val_metric_f1score: 0.9739 - learning_rate: 0.0010\n",
      "Epoch 163/200\n",
      "\u001b[1m 1/12\u001b[0m \u001b[32m━\u001b[0m\u001b[37m━━━━━━━━━━━━━━━━━━━\u001b[0m \u001b[1m0s\u001b[0m 17ms/step - acc: 1.0000 - loss: 0.2295 - metric_f1score: 1.0000\n",
      "Epoch 163: val_acc did not improve from 1.00000\n",
      "\u001b[1m12/12\u001b[0m \u001b[32m━━━━━━━━━━━━━━━━━━━━\u001b[0m\u001b[37m\u001b[0m \u001b[1m0s\u001b[0m 7ms/step - acc: 0.9982 - loss: 0.2309 - metric_f1score: 0.9982 - val_acc: 0.9688 - val_loss: 0.4103 - val_metric_f1score: 0.9788 - learning_rate: 0.0010\n",
      "Epoch 164/200\n",
      "\u001b[1m 1/12\u001b[0m \u001b[32m━\u001b[0m\u001b[37m━━━━━━━━━━━━━━━━━━━\u001b[0m \u001b[1m0s\u001b[0m 16ms/step - acc: 1.0000 - loss: 0.2200 - metric_f1score: 1.0000\n",
      "Epoch 164: val_acc did not improve from 1.00000\n",
      "\u001b[1m12/12\u001b[0m \u001b[32m━━━━━━━━━━━━━━━━━━━━\u001b[0m\u001b[37m\u001b[0m \u001b[1m0s\u001b[0m 7ms/step - acc: 0.9864 - loss: 0.2661 - metric_f1score: 0.9864 - val_acc: 0.9688 - val_loss: 0.3903 - val_metric_f1score: 0.9788 - learning_rate: 0.0010\n",
      "Epoch 165/200\n",
      "\u001b[1m 7/12\u001b[0m \u001b[32m━━━━━━━━━━━\u001b[0m\u001b[37m━━━━━━━━━\u001b[0m \u001b[1m0s\u001b[0m 8ms/step - acc: 0.9951 - loss: 0.2414 - metric_f1score: 0.9940 \n",
      "Epoch 165: val_acc did not improve from 1.00000\n",
      "\u001b[1m12/12\u001b[0m \u001b[32m━━━━━━━━━━━━━━━━━━━━\u001b[0m\u001b[37m\u001b[0m \u001b[1m0s\u001b[0m 10ms/step - acc: 0.9951 - loss: 0.2427 - metric_f1score: 0.9937 - val_acc: 0.9688 - val_loss: 0.3671 - val_metric_f1score: 0.9688 - learning_rate: 0.0010\n",
      "Epoch 166/200\n",
      "\u001b[1m 1/12\u001b[0m \u001b[32m━\u001b[0m\u001b[37m━━━━━━━━━━━━━━━━━━━\u001b[0m \u001b[1m0s\u001b[0m 17ms/step - acc: 1.0000 - loss: 0.2226 - metric_f1score: 1.0000\n",
      "Epoch 166: val_acc did not improve from 1.00000\n",
      "\u001b[1m12/12\u001b[0m \u001b[32m━━━━━━━━━━━━━━━━━━━━\u001b[0m\u001b[37m\u001b[0m \u001b[1m0s\u001b[0m 7ms/step - acc: 0.9924 - loss: 0.2338 - metric_f1score: 0.9916 - val_acc: 0.9792 - val_loss: 0.3182 - val_metric_f1score: 0.9841 - learning_rate: 0.0010\n",
      "Epoch 167/200\n",
      "\u001b[1m12/12\u001b[0m \u001b[32m━━━━━━━━━━━━━━━━━━━━\u001b[0m\u001b[37m\u001b[0m \u001b[1m0s\u001b[0m 5ms/step - acc: 1.0000 - loss: 0.2194 - metric_f1score: 1.0000 \n",
      "Epoch 167: val_acc did not improve from 1.00000\n",
      "\u001b[1m12/12\u001b[0m \u001b[32m━━━━━━━━━━━━━━━━━━━━\u001b[0m\u001b[37m\u001b[0m \u001b[1m0s\u001b[0m 8ms/step - acc: 1.0000 - loss: 0.2195 - metric_f1score: 1.0000 - val_acc: 0.9792 - val_loss: 0.3157 - val_metric_f1score: 0.9841 - learning_rate: 0.0010\n",
      "Epoch 168/200\n",
      "\u001b[1m 1/12\u001b[0m \u001b[32m━\u001b[0m\u001b[37m━━━━━━━━━━━━━━━━━━━\u001b[0m \u001b[1m0s\u001b[0m 16ms/step - acc: 0.9688 - loss: 0.2351 - metric_f1score: 0.9841\n",
      "Epoch 168: val_acc did not improve from 1.00000\n",
      "\u001b[1m12/12\u001b[0m \u001b[32m━━━━━━━━━━━━━━━━━━━━\u001b[0m\u001b[37m\u001b[0m \u001b[1m0s\u001b[0m 7ms/step - acc: 0.9840 - loss: 0.2353 - metric_f1score: 0.9876 - val_acc: 0.9792 - val_loss: 0.3111 - val_metric_f1score: 0.9841 - learning_rate: 0.0010\n",
      "Epoch 169/200\n",
      "\u001b[1m 1/12\u001b[0m \u001b[32m━\u001b[0m\u001b[37m━━━━━━━━━━━━━━━━━━━\u001b[0m \u001b[1m0s\u001b[0m 16ms/step - acc: 1.0000 - loss: 0.2123 - metric_f1score: 1.0000\n",
      "Epoch 169: val_acc did not improve from 1.00000\n",
      "\u001b[1m12/12\u001b[0m \u001b[32m━━━━━━━━━━━━━━━━━━━━\u001b[0m\u001b[37m\u001b[0m \u001b[1m0s\u001b[0m 7ms/step - acc: 0.9994 - loss: 0.2160 - metric_f1score: 0.9994 - val_acc: 0.9792 - val_loss: 0.3113 - val_metric_f1score: 0.9841 - learning_rate: 0.0010\n",
      "Epoch 170/200\n",
      "\u001b[1m 1/12\u001b[0m \u001b[32m━\u001b[0m\u001b[37m━━━━━━━━━━━━━━━━━━━\u001b[0m \u001b[1m0s\u001b[0m 16ms/step - acc: 1.0000 - loss: 0.2110 - metric_f1score: 1.0000\n",
      "Epoch 170: val_acc did not improve from 1.00000\n",
      "\u001b[1m12/12\u001b[0m \u001b[32m━━━━━━━━━━━━━━━━━━━━\u001b[0m\u001b[37m\u001b[0m \u001b[1m0s\u001b[0m 7ms/step - acc: 0.9934 - loss: 0.2311 - metric_f1score: 0.9940 - val_acc: 0.9792 - val_loss: 0.3127 - val_metric_f1score: 0.9841 - learning_rate: 0.0010\n",
      "Epoch 171/200\n",
      "\u001b[1m 1/12\u001b[0m \u001b[32m━\u001b[0m\u001b[37m━━━━━━━━━━━━━━━━━━━\u001b[0m \u001b[1m0s\u001b[0m 17ms/step - acc: 0.9688 - loss: 0.2657 - metric_f1score: 0.9841\n",
      "Epoch 171: val_acc did not improve from 1.00000\n",
      "\u001b[1m12/12\u001b[0m \u001b[32m━━━━━━━━━━━━━━━━━━━━\u001b[0m\u001b[37m\u001b[0m \u001b[1m0s\u001b[0m 7ms/step - acc: 0.9891 - loss: 0.2435 - metric_f1score: 0.9926 - val_acc: 0.9792 - val_loss: 0.3116 - val_metric_f1score: 0.9841 - learning_rate: 0.0010\n",
      "Epoch 172/200\n",
      "\u001b[1m 6/12\u001b[0m \u001b[32m━━━━━━━━━━\u001b[0m\u001b[37m━━━━━━━━━━\u001b[0m \u001b[1m0s\u001b[0m 10ms/step - acc: 0.9930 - loss: 0.2270 - metric_f1score: 0.9930\n",
      "Epoch 172: val_acc did not improve from 1.00000\n",
      "\u001b[1m12/12\u001b[0m \u001b[32m━━━━━━━━━━━━━━━━━━━━\u001b[0m\u001b[37m\u001b[0m \u001b[1m0s\u001b[0m 10ms/step - acc: 0.9914 - loss: 0.2265 - metric_f1score: 0.9914 - val_acc: 0.9792 - val_loss: 0.3130 - val_metric_f1score: 0.9841 - learning_rate: 0.0010\n",
      "Epoch 173/200\n",
      "\u001b[1m 1/12\u001b[0m \u001b[32m━\u001b[0m\u001b[37m━━━━━━━━━━━━━━━━━━━\u001b[0m \u001b[1m0s\u001b[0m 19ms/step - acc: 1.0000 - loss: 0.2072 - metric_f1score: 1.0000\n",
      "Epoch 173: val_acc did not improve from 1.00000\n",
      "\u001b[1m12/12\u001b[0m \u001b[32m━━━━━━━━━━━━━━━━━━━━\u001b[0m\u001b[37m\u001b[0m \u001b[1m0s\u001b[0m 7ms/step - acc: 0.9903 - loss: 0.2358 - metric_f1score: 0.9915 - val_acc: 0.9792 - val_loss: 0.3050 - val_metric_f1score: 0.9841 - learning_rate: 0.0010\n",
      "Epoch 174/200\n",
      "\u001b[1m 1/12\u001b[0m \u001b[32m━\u001b[0m\u001b[37m━━━━━━━━━━━━━━━━━━━\u001b[0m \u001b[1m0s\u001b[0m 17ms/step - acc: 1.0000 - loss: 0.2110 - metric_f1score: 1.0000\n",
      "Epoch 174: val_acc did not improve from 1.00000\n",
      "\u001b[1m12/12\u001b[0m \u001b[32m━━━━━━━━━━━━━━━━━━━━\u001b[0m\u001b[37m\u001b[0m \u001b[1m0s\u001b[0m 7ms/step - acc: 0.9979 - loss: 0.2219 - metric_f1score: 0.9966 - val_acc: 0.9792 - val_loss: 0.3060 - val_metric_f1score: 0.9792 - learning_rate: 0.0010\n",
      "Epoch 175/200\n",
      "\u001b[1m 1/12\u001b[0m \u001b[32m━\u001b[0m\u001b[37m━━━━━━━━━━━━━━━━━━━\u001b[0m \u001b[1m0s\u001b[0m 16ms/step - acc: 1.0000 - loss: 0.2384 - metric_f1score: 0.9841\n",
      "Epoch 175: val_acc did not improve from 1.00000\n",
      "\u001b[1m12/12\u001b[0m \u001b[32m━━━━━━━━━━━━━━━━━━━━\u001b[0m\u001b[37m\u001b[0m \u001b[1m0s\u001b[0m 7ms/step - acc: 0.9927 - loss: 0.2276 - metric_f1score: 0.9921 - val_acc: 0.9792 - val_loss: 0.3076 - val_metric_f1score: 0.9841 - learning_rate: 0.0010\n",
      "Epoch 176/200\n",
      "\u001b[1m 1/12\u001b[0m \u001b[32m━\u001b[0m\u001b[37m━━━━━━━━━━━━━━━━━━━\u001b[0m \u001b[1m0s\u001b[0m 16ms/step - acc: 1.0000 - loss: 0.2289 - metric_f1score: 1.0000\n",
      "Epoch 176: val_acc did not improve from 1.00000\n",
      "\u001b[1m12/12\u001b[0m \u001b[32m━━━━━━━━━━━━━━━━━━━━\u001b[0m\u001b[37m\u001b[0m \u001b[1m0s\u001b[0m 7ms/step - acc: 0.9943 - loss: 0.2176 - metric_f1score: 0.9951 - val_acc: 0.9792 - val_loss: 0.3173 - val_metric_f1score: 0.9792 - learning_rate: 0.0010\n",
      "Epoch 177/200\n",
      "\u001b[1m 1/12\u001b[0m \u001b[32m━\u001b[0m\u001b[37m━━━━━━━━━━━━━━━━━━━\u001b[0m \u001b[1m0s\u001b[0m 17ms/step - acc: 1.0000 - loss: 0.2010 - metric_f1score: 1.0000\n",
      "Epoch 177: val_acc did not improve from 1.00000\n",
      "\u001b[1m12/12\u001b[0m \u001b[32m━━━━━━━━━━━━━━━━━━━━\u001b[0m\u001b[37m\u001b[0m \u001b[1m0s\u001b[0m 8ms/step - acc: 0.9994 - loss: 0.2083 - metric_f1score: 0.9994 - val_acc: 0.9792 - val_loss: 0.3199 - val_metric_f1score: 0.9792 - learning_rate: 0.0010\n",
      "Epoch 178/200\n",
      "\u001b[1m 1/12\u001b[0m \u001b[32m━\u001b[0m\u001b[37m━━━━━━━━━━━━━━━━━━━\u001b[0m \u001b[1m0s\u001b[0m 19ms/step - acc: 1.0000 - loss: 0.2018 - metric_f1score: 1.0000\n",
      "Epoch 178: val_acc did not improve from 1.00000\n",
      "\u001b[1m12/12\u001b[0m \u001b[32m━━━━━━━━━━━━━━━━━━━━\u001b[0m\u001b[37m\u001b[0m \u001b[1m0s\u001b[0m 8ms/step - acc: 1.0000 - loss: 0.2012 - metric_f1score: 1.0000 - val_acc: 0.9792 - val_loss: 0.3233 - val_metric_f1score: 0.9792 - learning_rate: 0.0010\n",
      "Epoch 179/200\n",
      "\u001b[1m 1/12\u001b[0m \u001b[32m━\u001b[0m\u001b[37m━━━━━━━━━━━━━━━━━━━\u001b[0m \u001b[1m0s\u001b[0m 17ms/step - acc: 1.0000 - loss: 0.2361 - metric_f1score: 1.0000\n",
      "Epoch 179: val_acc did not improve from 1.00000\n",
      "\u001b[1m12/12\u001b[0m \u001b[32m━━━━━━━━━━━━━━━━━━━━\u001b[0m\u001b[37m\u001b[0m \u001b[1m0s\u001b[0m 7ms/step - acc: 0.9947 - loss: 0.2186 - metric_f1score: 0.9947 - val_acc: 0.9792 - val_loss: 0.3221 - val_metric_f1score: 0.9792 - learning_rate: 0.0010\n",
      "Epoch 180/200\n",
      "\u001b[1m 1/12\u001b[0m \u001b[32m━\u001b[0m\u001b[37m━━━━━━━━━━━━━━━━━━━\u001b[0m \u001b[1m0s\u001b[0m 16ms/step - acc: 1.0000 - loss: 0.1977 - metric_f1score: 1.0000\n",
      "Epoch 180: val_acc did not improve from 1.00000\n",
      "\u001b[1m12/12\u001b[0m \u001b[32m━━━━━━━━━━━━━━━━━━━━\u001b[0m\u001b[37m\u001b[0m \u001b[1m0s\u001b[0m 7ms/step - acc: 0.9953 - loss: 0.2145 - metric_f1score: 0.9956 - val_acc: 0.9792 - val_loss: 0.3120 - val_metric_f1score: 0.9792 - learning_rate: 0.0010\n",
      "Epoch 181/200\n",
      "\u001b[1m 1/12\u001b[0m \u001b[32m━\u001b[0m\u001b[37m━━━━━━━━━━━━━━━━━━━\u001b[0m \u001b[1m0s\u001b[0m 58ms/step - acc: 1.0000 - loss: 0.1947 - metric_f1score: 1.0000\n",
      "Epoch 181: val_acc did not improve from 1.00000\n",
      "\u001b[1m12/12\u001b[0m \u001b[32m━━━━━━━━━━━━━━━━━━━━\u001b[0m\u001b[37m\u001b[0m \u001b[1m0s\u001b[0m 7ms/step - acc: 0.9926 - loss: 0.2077 - metric_f1score: 0.9940 - val_acc: 0.9792 - val_loss: 0.3309 - val_metric_f1score: 0.9792 - learning_rate: 0.0010\n",
      "Epoch 182/200\n",
      "\u001b[1m 1/12\u001b[0m \u001b[32m━\u001b[0m\u001b[37m━━━━━━━━━━━━━━━━━━━\u001b[0m \u001b[1m0s\u001b[0m 19ms/step - acc: 1.0000 - loss: 0.1932 - metric_f1score: 1.0000\n",
      "Epoch 182: val_acc did not improve from 1.00000\n",
      "\u001b[1m12/12\u001b[0m \u001b[32m━━━━━━━━━━━━━━━━━━━━\u001b[0m\u001b[37m\u001b[0m \u001b[1m0s\u001b[0m 7ms/step - acc: 0.9962 - loss: 0.1987 - metric_f1score: 0.9962 - val_acc: 0.9792 - val_loss: 0.3467 - val_metric_f1score: 0.9792 - learning_rate: 0.0010\n",
      "Epoch 183/200\n",
      "\u001b[1m 1/12\u001b[0m \u001b[32m━\u001b[0m\u001b[37m━━━━━━━━━━━━━━━━━━━\u001b[0m \u001b[1m0s\u001b[0m 17ms/step - acc: 1.0000 - loss: 0.1921 - metric_f1score: 1.0000\n",
      "Epoch 183: val_acc did not improve from 1.00000\n",
      "\u001b[1m12/12\u001b[0m \u001b[32m━━━━━━━━━━━━━━━━━━━━\u001b[0m\u001b[37m\u001b[0m \u001b[1m0s\u001b[0m 7ms/step - acc: 0.9982 - loss: 0.2005 - metric_f1score: 0.9979 - val_acc: 0.9792 - val_loss: 0.3208 - val_metric_f1score: 0.9792 - learning_rate: 0.0010\n",
      "Epoch 184/200\n",
      "\u001b[1m 1/12\u001b[0m \u001b[32m━\u001b[0m\u001b[37m━━━━━━━━━━━━━━━━━━━\u001b[0m \u001b[1m0s\u001b[0m 18ms/step - acc: 1.0000 - loss: 0.2510 - metric_f1score: 0.9841\n",
      "Epoch 184: val_acc did not improve from 1.00000\n",
      "\u001b[1m12/12\u001b[0m \u001b[32m━━━━━━━━━━━━━━━━━━━━\u001b[0m\u001b[37m\u001b[0m \u001b[1m0s\u001b[0m 7ms/step - acc: 0.9991 - loss: 0.2125 - metric_f1score: 0.9952 - val_acc: 0.9792 - val_loss: 0.3018 - val_metric_f1score: 0.9792 - learning_rate: 0.0010\n",
      "Epoch 185/200\n",
      "\u001b[1m 1/12\u001b[0m \u001b[32m━\u001b[0m\u001b[37m━━━━━━━━━━━━━━━━━━━\u001b[0m \u001b[1m0s\u001b[0m 18ms/step - acc: 1.0000 - loss: 0.1898 - metric_f1score: 1.0000\n",
      "Epoch 185: val_acc did not improve from 1.00000\n",
      "\u001b[1m12/12\u001b[0m \u001b[32m━━━━━━━━━━━━━━━━━━━━\u001b[0m\u001b[37m\u001b[0m \u001b[1m0s\u001b[0m 7ms/step - acc: 0.9967 - loss: 0.1984 - metric_f1score: 0.9983 - val_acc: 0.9792 - val_loss: 0.2954 - val_metric_f1score: 0.9792 - learning_rate: 0.0010\n",
      "Epoch 186/200\n",
      "\u001b[1m 1/12\u001b[0m \u001b[32m━\u001b[0m\u001b[37m━━━━━━━━━━━━━━━━━━━\u001b[0m \u001b[1m0s\u001b[0m 16ms/step - acc: 0.9688 - loss: 0.3024 - metric_f1score: 0.9688\n",
      "Epoch 186: val_acc did not improve from 1.00000\n",
      "\u001b[1m12/12\u001b[0m \u001b[32m━━━━━━━━━━━━━━━━━━━━\u001b[0m\u001b[37m\u001b[0m \u001b[1m0s\u001b[0m 7ms/step - acc: 0.9895 - loss: 0.2316 - metric_f1score: 0.9895 - val_acc: 0.9792 - val_loss: 0.3231 - val_metric_f1score: 0.9792 - learning_rate: 0.0010\n",
      "Epoch 187/200\n",
      "\u001b[1m 1/12\u001b[0m \u001b[32m━\u001b[0m\u001b[37m━━━━━━━━━━━━━━━━━━━\u001b[0m \u001b[1m0s\u001b[0m 17ms/step - acc: 1.0000 - loss: 0.2165 - metric_f1score: 0.9841\n",
      "Epoch 187: val_acc did not improve from 1.00000\n",
      "\u001b[1m12/12\u001b[0m \u001b[32m━━━━━━━━━━━━━━━━━━━━\u001b[0m\u001b[37m\u001b[0m \u001b[1m0s\u001b[0m 7ms/step - acc: 0.9974 - loss: 0.2137 - metric_f1score: 0.9888 - val_acc: 0.9792 - val_loss: 0.2971 - val_metric_f1score: 0.9792 - learning_rate: 0.0010\n",
      "Epoch 188/200\n",
      "\u001b[1m10/12\u001b[0m \u001b[32m━━━━━━━━━━━━━━━━\u001b[0m\u001b[37m━━━━\u001b[0m \u001b[1m0s\u001b[0m 8ms/step - acc: 0.9666 - loss: 0.5827 - metric_f1score: 0.9689 \n",
      "Epoch 188: val_acc did not improve from 1.00000\n",
      "\u001b[1m12/12\u001b[0m \u001b[32m━━━━━━━━━━━━━━━━━━━━\u001b[0m\u001b[37m\u001b[0m \u001b[1m0s\u001b[0m 11ms/step - acc: 0.9585 - loss: 0.6873 - metric_f1score: 0.9615 - val_acc: 0.8750 - val_loss: 0.6178 - val_metric_f1score: 0.9098 - learning_rate: 0.0010\n",
      "Epoch 189/200\n",
      "\u001b[1m 1/12\u001b[0m \u001b[32m━\u001b[0m\u001b[37m━━━━━━━━━━━━━━━━━━━\u001b[0m \u001b[1m0s\u001b[0m 17ms/step - acc: 0.9062 - loss: 0.4332 - metric_f1score: 0.9206\n",
      "Epoch 189: val_acc did not improve from 1.00000\n",
      "\u001b[1m12/12\u001b[0m \u001b[32m━━━━━━━━━━━━━━━━━━━━\u001b[0m\u001b[37m\u001b[0m \u001b[1m0s\u001b[0m 7ms/step - acc: 0.8506 - loss: 0.6202 - metric_f1score: 0.8787 - val_acc: 0.9062 - val_loss: 0.5339 - val_metric_f1score: 0.9014 - learning_rate: 0.0010\n",
      "Epoch 190/200\n",
      "\u001b[1m 1/12\u001b[0m \u001b[32m━\u001b[0m\u001b[37m━━━━━━━━━━━━━━━━━━━\u001b[0m \u001b[1m0s\u001b[0m 18ms/step - acc: 0.9062 - loss: 0.5859 - metric_f1score: 0.8772\n",
      "Epoch 190: val_acc did not improve from 1.00000\n",
      "\u001b[1m12/12\u001b[0m \u001b[32m━━━━━━━━━━━━━━━━━━━━\u001b[0m\u001b[37m\u001b[0m \u001b[1m0s\u001b[0m 7ms/step - acc: 0.9004 - loss: 0.5958 - metric_f1score: 0.8850 - val_acc: 0.9583 - val_loss: 0.4069 - val_metric_f1score: 0.9347 - learning_rate: 0.0010\n",
      "Epoch 191/200\n",
      "\u001b[1m 1/12\u001b[0m \u001b[32m━\u001b[0m\u001b[37m━━━━━━━━━━━━━━━━━━━\u001b[0m \u001b[1m0s\u001b[0m 19ms/step - acc: 0.9375 - loss: 0.4127 - metric_f1score: 0.9508\n",
      "Epoch 191: val_acc did not improve from 1.00000\n",
      "\u001b[1m12/12\u001b[0m \u001b[32m━━━━━━━━━━━━━━━━━━━━\u001b[0m\u001b[37m\u001b[0m \u001b[1m0s\u001b[0m 7ms/step - acc: 0.9344 - loss: 0.4797 - metric_f1score: 0.9282 - val_acc: 0.9792 - val_loss: 0.3729 - val_metric_f1score: 0.9538 - learning_rate: 0.0010\n",
      "Epoch 192/200\n",
      "\u001b[1m 1/12\u001b[0m \u001b[32m━\u001b[0m\u001b[37m━━━━━━━━━━━━━━━━━━━\u001b[0m \u001b[1m0s\u001b[0m 18ms/step - acc: 0.9375 - loss: 0.4780 - metric_f1score: 0.9333\n",
      "Epoch 192: val_acc did not improve from 1.00000\n",
      "\u001b[1m12/12\u001b[0m \u001b[32m━━━━━━━━━━━━━━━━━━━━\u001b[0m\u001b[37m\u001b[0m \u001b[1m0s\u001b[0m 7ms/step - acc: 0.9481 - loss: 0.4610 - metric_f1score: 0.9273 - val_acc: 0.9792 - val_loss: 0.3269 - val_metric_f1score: 0.9552 - learning_rate: 0.0010\n",
      "Epoch 193/200\n",
      "\u001b[1m 1/12\u001b[0m \u001b[32m━\u001b[0m\u001b[37m━━━━━━━━━━━━━━━━━━━\u001b[0m \u001b[1m0s\u001b[0m 16ms/step - acc: 1.0000 - loss: 0.2837 - metric_f1score: 0.9677\n",
      "Epoch 193: val_acc did not improve from 1.00000\n",
      "\u001b[1m12/12\u001b[0m \u001b[32m━━━━━━━━━━━━━━━━━━━━\u001b[0m\u001b[37m\u001b[0m \u001b[1m0s\u001b[0m 7ms/step - acc: 0.9762 - loss: 0.3338 - metric_f1score: 0.9570 - val_acc: 0.9688 - val_loss: 0.3110 - val_metric_f1score: 0.9688 - learning_rate: 0.0010\n",
      "Epoch 194/200\n",
      "\u001b[1m 1/12\u001b[0m \u001b[32m━\u001b[0m\u001b[37m━━━━━━━━━━━━━━━━━━━\u001b[0m \u001b[1m0s\u001b[0m 16ms/step - acc: 0.9375 - loss: 0.3272 - metric_f1score: 0.9375\n",
      "Epoch 194: val_acc did not improve from 1.00000\n",
      "\u001b[1m12/12\u001b[0m \u001b[32m━━━━━━━━━━━━━━━━━━━━\u001b[0m\u001b[37m\u001b[0m \u001b[1m0s\u001b[0m 7ms/step - acc: 0.9492 - loss: 0.3523 - metric_f1score: 0.9505 - val_acc: 0.9688 - val_loss: 0.2851 - val_metric_f1score: 0.9688 - learning_rate: 0.0010\n",
      "Epoch 195/200\n",
      "\u001b[1m 1/12\u001b[0m \u001b[32m━\u001b[0m\u001b[37m━━━━━━━━━━━━━━━━━━━\u001b[0m \u001b[1m0s\u001b[0m 16ms/step - acc: 0.9688 - loss: 0.2545 - metric_f1score: 0.9841\n",
      "Epoch 195: val_acc did not improve from 1.00000\n",
      "\u001b[1m12/12\u001b[0m \u001b[32m━━━━━━━━━━━━━━━━━━━━\u001b[0m\u001b[37m\u001b[0m \u001b[1m0s\u001b[0m 7ms/step - acc: 0.9696 - loss: 0.2933 - metric_f1score: 0.9711 - val_acc: 0.9792 - val_loss: 0.2626 - val_metric_f1score: 0.9841 - learning_rate: 0.0010\n",
      "Epoch 196/200\n",
      "\u001b[1m 1/12\u001b[0m \u001b[32m━\u001b[0m\u001b[37m━━━━━━━━━━━━━━━━━━━\u001b[0m \u001b[1m0s\u001b[0m 53ms/step - acc: 1.0000 - loss: 0.2638 - metric_f1score: 0.9841\n",
      "Epoch 196: val_acc did not improve from 1.00000\n",
      "\u001b[1m12/12\u001b[0m \u001b[32m━━━━━━━━━━━━━━━━━━━━\u001b[0m\u001b[37m\u001b[0m \u001b[1m0s\u001b[0m 8ms/step - acc: 0.9847 - loss: 0.2727 - metric_f1score: 0.9832 - val_acc: 0.9792 - val_loss: 0.2768 - val_metric_f1score: 0.9841 - learning_rate: 0.0010\n",
      "Epoch 197/200\n",
      "\u001b[1m 1/12\u001b[0m \u001b[32m━\u001b[0m\u001b[37m━━━━━━━━━━━━━━━━━━━\u001b[0m \u001b[1m0s\u001b[0m 17ms/step - acc: 1.0000 - loss: 0.2060 - metric_f1score: 1.0000\n",
      "Epoch 197: val_acc did not improve from 1.00000\n",
      "\u001b[1m12/12\u001b[0m \u001b[32m━━━━━━━━━━━━━━━━━━━━\u001b[0m\u001b[37m\u001b[0m \u001b[1m0s\u001b[0m 7ms/step - acc: 0.9937 - loss: 0.2259 - metric_f1score: 0.9921 - val_acc: 0.9792 - val_loss: 0.3015 - val_metric_f1score: 0.9792 - learning_rate: 0.0010\n",
      "Epoch 198/200\n",
      "\u001b[1m 1/12\u001b[0m \u001b[32m━\u001b[0m\u001b[37m━━━━━━━━━━━━━━━━━━━\u001b[0m \u001b[1m0s\u001b[0m 16ms/step - acc: 1.0000 - loss: 0.2160 - metric_f1score: 1.0000\n",
      "Epoch 198: val_acc did not improve from 1.00000\n",
      "\u001b[1m12/12\u001b[0m \u001b[32m━━━━━━━━━━━━━━━━━━━━\u001b[0m\u001b[37m\u001b[0m \u001b[1m0s\u001b[0m 7ms/step - acc: 0.9932 - loss: 0.2354 - metric_f1score: 0.9908 - val_acc: 0.9792 - val_loss: 0.3274 - val_metric_f1score: 0.9792 - learning_rate: 0.0010\n",
      "Epoch 199/200\n",
      "\u001b[1m 1/12\u001b[0m \u001b[32m━\u001b[0m\u001b[37m━━━━━━━━━━━━━━━━━━━\u001b[0m \u001b[1m0s\u001b[0m 17ms/step - acc: 1.0000 - loss: 0.2027 - metric_f1score: 1.0000\n",
      "Epoch 199: val_acc did not improve from 1.00000\n",
      "\u001b[1m12/12\u001b[0m \u001b[32m━━━━━━━━━━━━━━━━━━━━\u001b[0m\u001b[37m\u001b[0m \u001b[1m0s\u001b[0m 8ms/step - acc: 0.9841 - loss: 0.2893 - metric_f1score: 0.9850 - val_acc: 0.9583 - val_loss: 0.3107 - val_metric_f1score: 0.9727 - learning_rate: 0.0010\n",
      "Epoch 200/200\n",
      "\u001b[1m 1/12\u001b[0m \u001b[32m━\u001b[0m\u001b[37m━━━━━━━━━━━━━━━━━━━\u001b[0m \u001b[1m0s\u001b[0m 17ms/step - acc: 0.9688 - loss: 0.6153 - metric_f1score: 0.9524\n",
      "Epoch 200: val_acc did not improve from 1.00000\n",
      "\u001b[1m12/12\u001b[0m \u001b[32m━━━━━━━━━━━━━━━━━━━━\u001b[0m\u001b[37m\u001b[0m \u001b[1m0s\u001b[0m 7ms/step - acc: 0.9697 - loss: 0.3563 - metric_f1score: 0.9729 - val_acc: 0.9583 - val_loss: 0.3682 - val_metric_f1score: 0.9524 - learning_rate: 0.0010\n"
     ]
    }
   ],
   "source": [
    "from tensorflow.keras.callbacks import ModelCheckpoint, ReduceLROnPlateau, EarlyStopping\n",
    "\n",
    "early_stopping = EarlyStopping(monitor = 'val_metric_F1score', min_delta = 0, patience = 20, mode = 'max')\n",
    "\n",
    "\n",
    "history = model.fit(\n",
    "    x_train,\n",
    "    y_train,\n",
    "    validation_data=(x_val, y_val),\n",
    "    epochs=200,\n",
    "    callbacks=[\n",
    "        ModelCheckpoint('models/multi_hand_gesture_classifier.h5', monitor='val_acc', verbose=1, save_best_only=True, mode='auto'),\n",
    "        ReduceLROnPlateau(monitor='val_metric_F1score', factor=0.5, patience=50, verbose=1, mode='auto'),\n",
    "        early_stopping\n",
    "    ]\n",
    ")"
   ]
  },
  {
   "cell_type": "code",
   "execution_count": 18,
   "metadata": {},
   "outputs": [
    {
     "data": {
      "image/png": "[encoded data removed]",
      "text/plain": [
       "<Figure size 1600x1000 with 2 Axes>"
      ]
     },
     "metadata": {},
     "output_type": "display_data"
    }
   ],
   "source": [
    "import matplotlib.pyplot as plt\n",
    "\n",
    "fig, loss_ax = plt.subplots(figsize=(16, 10))\n",
    "acc_ax = loss_ax.twinx()\n",
    "\n",
    "loss_ax.plot(history.history['loss'], 'y', label='train loss')\n",
    "loss_ax.plot(history.history['val_loss'], 'r', label='val loss')\n",
    "loss_ax.set_xlabel('epoch')\n",
    "loss_ax.set_ylabel('loss')\n",
    "loss_ax.legend(loc='upper left')\n",
    "\n",
    "acc_ax.plot(history.history['acc'], 'b', label='train acc')\n",
    "acc_ax.plot(history.history['val_acc'], 'g', label='val acc')\n",
    "acc_ax.set_ylabel('accuracy')\n",
    "acc_ax.legend(loc='upper left')\n",
    "\n",
    "plt.show()"
   ]
  },
  {
   "cell_type": "code",
   "execution_count": 19,
   "metadata": {},
   "outputs": [
    {
     "data": {
      "image/png": "[encoded data removed]",
      "text/plain": [
       "<Figure size 1600x1000 with 2 Axes>"
      ]
     },
     "metadata": {},
     "output_type": "display_data"
    }
   ],
   "source": [
    "fig, loss_ax = plt.subplots(figsize=(16, 10))\n",
    "acc_ax = loss_ax.twinx()\n",
    "\n",
    "loss_ax.set_xlabel('epoch')\n",
    "loss_ax.set_ylabel('loss')\n",
    "\n",
    "acc_ax.plot(history.history['metric_f1score'], 'b', label='train f1')\n",
    "acc_ax.plot(history.history['val_metric_f1score'], 'g', label='val f1')\n",
    "acc_ax.set_ylabel('f1-score')\n",
    "acc_ax.legend(loc='upper left')\n",
    "\n",
    "plt.show()"
   ]
  },
  {
   "cell_type": "code",
   "execution_count": 20,
   "metadata": {},
   "outputs": [
    {
     "name": "stderr",
     "output_type": "stream",
     "text": [
      "WARNING:absl:Compiled the loaded model, but the compiled metrics have yet to be built. `model.compile_metrics` will be empty until you train or evaluate the model.\n"
     ]
    },
    {
     "name": "stdout",
     "output_type": "stream",
     "text": [
      "\u001b[1m3/3\u001b[0m \u001b[32m━━━━━━━━━━━━━━━━━━━━\u001b[0m\u001b[37m\u001b[0m \u001b[1m0s\u001b[0m 6ms/step  \n"
     ]
    },
    {
     "data": {
      "text/plain": [
       "array([[[88,  0],\n",
       "        [ 0,  8]],\n",
       "\n",
       "       [[91,  0],\n",
       "        [ 0,  5]],\n",
       "\n",
       "       [[90,  0],\n",
       "        [ 0,  6]],\n",
       "\n",
       "       [[84,  0],\n",
       "        [ 0, 12]],\n",
       "\n",
       "       [[91,  0],\n",
       "        [ 0,  5]],\n",
       "\n",
       "       [[88,  0],\n",
       "        [ 0,  8]],\n",
       "\n",
       "       [[89,  0],\n",
       "        [ 0,  7]],\n",
       "\n",
       "       [[78,  0],\n",
       "        [ 0, 18]],\n",
       "\n",
       "       [[87,  0],\n",
       "        [ 0,  9]],\n",
       "\n",
       "       [[87,  0],\n",
       "        [ 0,  9]],\n",
       "\n",
       "       [[87,  0],\n",
       "        [ 0,  9]]])"
      ]
     },
     "execution_count": 20,
     "metadata": {},
     "output_type": "execute_result"
    }
   ],
   "source": [
    "from sklearn.metrics import multilabel_confusion_matrix\n",
    "from tensorflow.keras.models import load_model\n",
    "\n",
    "model = load_model('models/multi_hand_gesture_classifier.h5', custom_objects = {'metric_F1score':metric_F1score})\n",
    "\n",
    "y_pred = model.predict(x_val)\n",
    "multilabel_confusion_matrix(np.argmax(y_val, axis=1), np.argmax(y_pred, axis=1))"
   ]
  },
  {
   "cell_type": "code",
   "execution_count": 21,
   "metadata": {},
   "outputs": [
    {
     "data": {
      "text/plain": [
       "array([[[88,  0],\n",
       "        [ 0,  8]],\n",
       "\n",
       "       [[91,  0],\n",
       "        [ 0,  5]],\n",
       "\n",
       "       [[90,  0],\n",
       "        [ 0,  6]],\n",
       "\n",
       "       [[84,  0],\n",
       "        [ 0, 12]],\n",
       "\n",
       "       [[91,  0],\n",
       "        [ 0,  5]],\n",
       "\n",
       "       [[88,  0],\n",
       "        [ 0,  8]],\n",
       "\n",
       "       [[89,  0],\n",
       "        [ 0,  7]],\n",
       "\n",
       "       [[78,  0],\n",
       "        [ 0, 18]],\n",
       "\n",
       "       [[87,  0],\n",
       "        [ 0,  9]],\n",
       "\n",
       "       [[87,  0],\n",
       "        [ 0,  9]],\n",
       "\n",
       "       [[87,  0],\n",
       "        [ 0,  9]]])"
      ]
     },
     "execution_count": 21,
     "metadata": {},
     "output_type": "execute_result"
    }
   ],
   "source": [
    "multilabel_confusion_matrix(np.argmax(y_val, axis=1), np.argmax(y_pred, axis=1))"
   ]
  },
  {
   "cell_type": "code",
   "execution_count": 22,
   "metadata": {},
   "outputs": [
    {
     "name": "stderr",
     "output_type": "stream",
     "text": [
      "WARNING:absl:Compiled the loaded model, but the compiled metrics have yet to be built. `model.compile_metrics` will be empty until you train or evaluate the model.\n"
     ]
    },
    {
     "name": "stdout",
     "output_type": "stream",
     "text": [
      "\u001b[1m3/3\u001b[0m \u001b[32m━━━━━━━━━━━━━━━━━━━━\u001b[0m\u001b[37m\u001b[0m \u001b[1m0s\u001b[0m 7ms/step  \n"
     ]
    },
    {
     "data": {
      "text/plain": [
       "array([[[88,  0],\n",
       "        [ 0,  8]],\n",
       "\n",
       "       [[91,  0],\n",
       "        [ 0,  5]],\n",
       "\n",
       "       [[90,  0],\n",
       "        [ 0,  6]],\n",
       "\n",
       "       [[84,  0],\n",
       "        [ 0, 12]],\n",
       "\n",
       "       [[91,  0],\n",
       "        [ 0,  5]],\n",
       "\n",
       "       [[88,  0],\n",
       "        [ 0,  8]],\n",
       "\n",
       "       [[89,  0],\n",
       "        [ 0,  7]],\n",
       "\n",
       "       [[78,  0],\n",
       "        [ 0, 18]],\n",
       "\n",
       "       [[87,  0],\n",
       "        [ 0,  9]],\n",
       "\n",
       "       [[87,  0],\n",
       "        [ 0,  9]],\n",
       "\n",
       "       [[87,  0],\n",
       "        [ 0,  9]]])"
      ]
     },
     "execution_count": 22,
     "metadata": {},
     "output_type": "execute_result"
    }
   ],
   "source": [
    "from sklearn.metrics import multilabel_confusion_matrix\n",
    "from tensorflow.keras.models import load_model\n",
    "\n",
    "model = load_model('models/multi_hand_gesture_classifier.h5')\n",
    "\n",
    "y_pred = model.predict(x_val)\n",
    "\n",
    "multilabel_confusion_matrix(np.argmax(y_val, axis=1), np.argmax(y_pred, axis=1))"
   ]
  },
  {
   "cell_type": "code",
   "execution_count": 23,
   "metadata": {},
   "outputs": [
    {
     "name": "stdout",
     "output_type": "stream",
     "text": [
      "INFO:tensorflow:Assets written to: /var/folders/_k/9pcm610n0sb_j9n64tc8zgcw0000gn/T/tmpet5yt_an/assets\n"
     ]
    },
    {
     "name": "stderr",
     "output_type": "stream",
     "text": [
      "INFO:tensorflow:Assets written to: /var/folders/_k/9pcm610n0sb_j9n64tc8zgcw0000gn/T/tmpet5yt_an/assets\n"
     ]
    },
    {
     "name": "stdout",
     "output_type": "stream",
     "text": [
      "Saved artifact at '/var/folders/_k/9pcm610n0sb_j9n64tc8zgcw0000gn/T/tmpet5yt_an'. The following endpoints are available:\n",
      "\n",
      "* Endpoint 'serve'\n",
      "  args_0 (POSITIONAL_ONLY): TensorSpec(shape=(None, 10, 55), dtype=tf.float32, name='input_layer')\n",
      "Output Type:\n",
      "  TensorSpec(shape=(None, 11), dtype=tf.float32, name=None)\n",
      "Captures:\n",
      "  13015399968: TensorSpec(shape=(), dtype=tf.resource, name=None)\n",
      "  13015386768: TensorSpec(shape=(), dtype=tf.resource, name=None)\n",
      "  13015461456: TensorSpec(shape=(), dtype=tf.resource, name=None)\n",
      "  13015540032: TensorSpec(shape=(), dtype=tf.resource, name=None)\n",
      "  13015537568: TensorSpec(shape=(), dtype=tf.resource, name=None)\n",
      "  13015544608: TensorSpec(shape=(), dtype=tf.resource, name=None)\n",
      "  13015664416: TensorSpec(shape=(), dtype=tf.resource, name=None)\n"
     ]
    },
    {
     "name": "stderr",
     "output_type": "stream",
     "text": [
      "WARNING: All log messages before absl::InitializeLog() is called are written to STDERR\n",
      "W0000 00:00:1744790883.470609  257118 tf_tfl_flatbuffer_helpers.cc:365] Ignored output_format.\n",
      "W0000 00:00:1744790883.470875  257118 tf_tfl_flatbuffer_helpers.cc:368] Ignored drop_control_dependency.\n",
      "2025-04-16 17:08:03.471195: I tensorflow/cc/saved_model/reader.cc:83] Reading SavedModel from: /var/folders/_k/9pcm610n0sb_j9n64tc8zgcw0000gn/T/tmpet5yt_an\n",
      "2025-04-16 17:08:03.471820: I tensorflow/cc/saved_model/reader.cc:52] Reading meta graph with tags { serve }\n",
      "2025-04-16 17:08:03.471829: I tensorflow/cc/saved_model/reader.cc:147] Reading SavedModel debug info (if present) from: /var/folders/_k/9pcm610n0sb_j9n64tc8zgcw0000gn/T/tmpet5yt_an\n",
      "I0000 00:00:1744790883.478353  257118 mlir_graph_optimization_pass.cc:425] MLIR V1 optimization pass is not enabled\n",
      "2025-04-16 17:08:03.479258: I tensorflow/cc/saved_model/loader.cc:236] Restoring SavedModel bundle.\n",
      "2025-04-16 17:08:03.519910: I tensorflow/cc/saved_model/loader.cc:220] Running initialization op on SavedModel bundle at path: /var/folders/_k/9pcm610n0sb_j9n64tc8zgcw0000gn/T/tmpet5yt_an\n",
      "2025-04-16 17:08:03.532734: I tensorflow/cc/saved_model/loader.cc:471] SavedModel load for tags { serve }; Status: success: OK. Took 61541 microseconds.\n",
      "2025-04-16 17:08:03.570405: I tensorflow/compiler/mlir/tensorflow/utils/dump_mlir_util.cc:269] disabling MLIR crash reproducer, set env var `MLIR_CRASH_REPRODUCER_DIRECTORY` to enable.\n",
      "2025-04-16 17:08:03.690287: W tensorflow/compiler/mlir/lite/flatbuffer_export.cc:3993] TFLite interpreter needs to link Flex delegate in order to run the model since it contains the following Select TFop(s):\n",
      "Flex ops: FlexTensorListReserve, FlexTensorListSetItem, FlexTensorListStack\n",
      "Details:\n",
      "\ttf.TensorListReserve(tensor<2xi32>, tensor<i32>) -> (tensor<!tf_type.variant<tensor<?x64xf32>>>) : {device = \"\"}\n",
      "\ttf.TensorListSetItem(tensor<!tf_type.variant<tensor<?x64xf32>>>, tensor<i32>, tensor<?x64xf32>) -> (tensor<!tf_type.variant<tensor<?x64xf32>>>) : {device = \"\", resize_if_index_out_of_bounds = false}\n",
      "\ttf.TensorListStack(tensor<!tf_type.variant<tensor<?x64xf32>>>, tensor<2xi32>) -> (tensor<1x?x64xf32>) : {device = \"\", num_elements = 1 : i64}\n",
      "See instructions: https://www.tensorflow.org/lite/guide/ops_select\n"
     ]
    }
   ],
   "source": [
    "import tensorflow as tf\n",
    "# Convert the model.\n",
    "converter = tf.lite.TFLiteConverter.from_keras_model(model)\n",
    "\n",
    "# 1. TF Lite 기본 연산 + Select TF ops 사용\n",
    "converter.target_spec.supported_ops = [\n",
    "    tf.lite.OpsSet.TFLITE_BUILTINS,\n",
    "    tf.lite.OpsSet.SELECT_TF_OPS\n",
    "]\n",
    "\n",
    "# 2. TensorList lowering 비활성화\n",
    "converter._experimental_lower_tensor_list_ops = False\n",
    "\n",
    "# 변환 실행\n",
    "tflite_model = converter.convert()\n",
    "\n",
    "# 모델 저장\n",
    "with open('models/multi_hand_gesture_classifier.tflite', 'wb') as f:\n",
    "    f.write(tflite_model)"
   ]
  },
  {
   "cell_type": "code",
   "execution_count": null,
   "metadata": {},
   "outputs": [],
   "source": []
  }
 ],
 "metadata": {
  "kernelspec": {
   "display_name": "hi",
   "language": "python",
   "name": "python3"
  },
  "language_info": {
   "codemirror_mode": {
    "name": "ipython",
    "version": 3
   },
   "file_extension": ".py",
   "mimetype": "text/x-python",
   "name": "python",
   "nbconvert_exporter": "python",
   "pygments_lexer": "ipython3",
   "version": "3.10.16"
  }
 },
 "nbformat": 4,
 "nbformat_minor": 4
}
